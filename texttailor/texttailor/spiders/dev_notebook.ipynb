{
 "cells": [
  {
   "cell_type": "code",
   "execution_count": 3,
   "id": "initial_id",
   "metadata": {
    "collapsed": true,
    "ExecuteTime": {
     "end_time": "2024-04-03T00:59:13.766009900Z",
     "start_time": "2024-04-03T00:59:11.450307Z"
    }
   },
   "outputs": [
    {
     "data": {
      "text/plain": "False"
     },
     "execution_count": 3,
     "metadata": {},
     "output_type": "execute_result"
    }
   ],
   "source": [
    "from mvodolagin_personal_imports import *\n",
    "\n",
    "load_dotenv()"
   ]
  },
  {
   "cell_type": "code",
   "execution_count": 4,
   "outputs": [],
   "source": [
    "import nest_asyncio\n",
    "\n",
    "nest_asyncio.apply()"
   ],
   "metadata": {
    "collapsed": false,
    "ExecuteTime": {
     "end_time": "2024-04-03T00:59:15.146335800Z",
     "start_time": "2024-04-03T00:59:15.134815100Z"
    }
   },
   "id": "55ee70fd24a491b7"
  },
  {
   "cell_type": "code",
   "execution_count": 5,
   "outputs": [],
   "source": [
    "from urllib.parse import urljoin\n",
    "import scrapy\n",
    "\n",
    "\n",
    "class MySpider(scrapy.Spider):\n",
    "    name = \"carolhouse_spider\"\n",
    "    start_urls = [\"http://www.carolhouse.com\"]\n",
    "\n",
    "    def parse(self, response, **kwargs):\n",
    "        # Look for 'Contact Us' link and yield a request with a callback\n",
    "        # Note: You might need to adjust the selector based on the actual site structure\n",
    "        contact_us_link = response.xpath('//a[contains(text(), \"Contact Us\")]/@href').get()\n",
    "        if contact_us_link:\n",
    "            yield response.follow(contact_us_link, self.parse_contact, meta={\"is_contact_page\": True})\n",
    "\n",
    "        # Find item links - adjust the selector to match your target site's structure\n",
    "        item_links = response.xpath('//a[contains(@href, \"item\")]/@href').getall()\n",
    "        for link in item_links:\n",
    "            yield response.follow(link, self.parse_item)\n",
    "\n",
    "        # Follow other potential links to pages like 'Contact Us' or item pages.\n",
    "        # This is a simplistic approach; you may need to refine how you select links to follow.\n",
    "        for href in response.xpath(\"//a/@href\").getall():\n",
    "            yield response.follow(href, self.parse)\n",
    "\n",
    "    def parse_contact(self, response):\n",
    "        # Process the 'Contact Us' page here\n",
    "        # For example, extract the email address or form action\n",
    "        # Remember to check response.meta['is_contact_page'] if needed\n",
    "        yield {\n",
    "            \"url\": response.url,\n",
    "            \"is_contact_page\": response.meta.get(\"is_contact_page\", False),\n",
    "            # Add any other item fields you want to extract from the contact page\n",
    "        }\n",
    "\n",
    "    def parse_item(self, response):\n",
    "        # Extract item details such as description and images\n",
    "        # Adjust selectors to match the structure of the item pages you're targeting\n",
    "        yield {\n",
    "            \"url\": response.url,\n",
    "            \"description\": response.xpath('//div[contains(@class, \"description\")]/text()').get(),\n",
    "            \"images\": response.xpath(\"//img/@src\").getall(),\n",
    "            # You might need to join image URLs with the base URL\n",
    "            \"images\": [urljoin(response.url, img) for img in response.xpath(\"//img/@src\").getall()],\n",
    "            # Add any other fields you want to extract\n",
    "        }"
   ],
   "metadata": {
    "collapsed": false,
    "ExecuteTime": {
     "end_time": "2024-04-03T00:59:17.973489500Z",
     "start_time": "2024-04-03T00:59:16.800429500Z"
    }
   },
   "id": "78be014b6f56c377"
  },
  {
   "cell_type": "code",
   "execution_count": 5,
   "outputs": [],
   "source": [],
   "metadata": {
    "collapsed": false,
    "ExecuteTime": {
     "end_time": "2024-04-03T00:59:17.979489100Z",
     "start_time": "2024-04-03T00:59:17.974490300Z"
    }
   },
   "id": "554e461576908ce6"
  },
  {
   "cell_type": "code",
   "execution_count": 5,
   "outputs": [],
   "source": [],
   "metadata": {
    "collapsed": false,
    "ExecuteTime": {
     "end_time": "2024-04-03T00:59:18.309379300Z",
     "start_time": "2024-04-03T00:59:18.303378300Z"
    }
   },
   "id": "ca3b08248f7c5842"
  },
  {
   "cell_type": "code",
   "execution_count": 6,
   "outputs": [
    {
     "name": "stderr",
     "output_type": "stream",
     "text": [
      "2024-04-03 03:59:18 [scrapy.utils.log] INFO: Scrapy 2.11.0 started (bot: texttailor)\n",
      "2024-04-03 03:59:18 [scrapy.utils.log] INFO: Versions: lxml 4.9.3.0, libxml2 2.11.5, cssselect 1.2.0, parsel 1.8.1, w3lib 2.1.2, Twisted 22.10.0, Python 3.10.12 | packaged by conda-forge | (main, Jun 23 2023, 22:34:57) [MSC v.1936 64 bit (AMD64)], pyOpenSSL 23.3.0 (OpenSSL 3.2.1 30 Jan 2024), cryptography 41.0.7, Platform Windows-10-10.0.18362-SP0\n",
      "2024-04-03 03:59:18 [scrapy.addons] INFO: Enabled addons:\n",
      "[]\n",
      "2024-04-03 03:59:18 [scrapy.utils.log] DEBUG: Using reactor: twisted.internet.asyncioreactor.AsyncioSelectorReactor\n",
      "2024-04-03 03:59:18 [scrapy.utils.log] DEBUG: Using asyncio event loop: asyncio.windows_events._WindowsSelectorEventLoop\n",
      "2024-04-03 03:59:19 [scrapy.extensions.telnet] INFO: Telnet Password: 596e5f641377a7ac\n",
      "2024-04-03 03:59:19 [scrapy.middleware] INFO: Enabled extensions:\n",
      "['scrapy.extensions.corestats.CoreStats',\n",
      " 'scrapy.extensions.telnet.TelnetConsole',\n",
      " 'scrapy.extensions.logstats.LogStats']\n",
      "2024-04-03 03:59:19 [scrapy.crawler] INFO: Overridden settings:\n",
      "{'BOT_NAME': 'texttailor',\n",
      " 'CONCURRENT_REQUESTS_PER_DOMAIN': 4,\n",
      " 'DOWNLOAD_DELAY': 2,\n",
      " 'FEED_EXPORT_ENCODING': 'utf-8',\n",
      " 'NEWSPIDER_MODULE': 'texttailor.spiders',\n",
      " 'REQUEST_FINGERPRINTER_IMPLEMENTATION': '2.7',\n",
      " 'SPIDER_MODULES': ['texttailor.spiders'],\n",
      " 'TWISTED_REACTOR': 'twisted.internet.asyncioreactor.AsyncioSelectorReactor',\n",
      " 'USER_AGENT': 'Mozilla/5.0 (Windows NT 10.0; Win64; x64) AppleWebKit/537.36 '\n",
      "               '(KHTML, like Gecko) Chrome/58.0.3029.110 Safari/537.3'}\n",
      "2024-04-03 03:59:19 [scrapy.middleware] INFO: Enabled downloader middlewares:\n",
      "['scrapy.downloadermiddlewares.httpauth.HttpAuthMiddleware',\n",
      " 'scrapy.downloadermiddlewares.downloadtimeout.DownloadTimeoutMiddleware',\n",
      " 'scrapy.downloadermiddlewares.defaultheaders.DefaultHeadersMiddleware',\n",
      " 'scrapy.downloadermiddlewares.useragent.UserAgentMiddleware',\n",
      " 'scrapy.downloadermiddlewares.retry.RetryMiddleware',\n",
      " 'scrapy.downloadermiddlewares.redirect.MetaRefreshMiddleware',\n",
      " 'scrapy.downloadermiddlewares.httpcompression.HttpCompressionMiddleware',\n",
      " 'scrapy.downloadermiddlewares.redirect.RedirectMiddleware',\n",
      " 'scrapy.downloadermiddlewares.cookies.CookiesMiddleware',\n",
      " 'scrapy.downloadermiddlewares.httpproxy.HttpProxyMiddleware',\n",
      " 'scrapy.downloadermiddlewares.stats.DownloaderStats']\n",
      "2024-04-03 03:59:19 [scrapy.middleware] INFO: Enabled spider middlewares:\n",
      "['scrapy.spidermiddlewares.httperror.HttpErrorMiddleware',\n",
      " 'scrapy.spidermiddlewares.offsite.OffsiteMiddleware',\n",
      " 'scrapy.spidermiddlewares.referer.RefererMiddleware',\n",
      " 'scrapy.spidermiddlewares.urllength.UrlLengthMiddleware',\n",
      " 'scrapy.spidermiddlewares.depth.DepthMiddleware']\n",
      "2024-04-03 03:59:19 [scrapy.middleware] INFO: Enabled item pipelines:\n",
      "[]\n",
      "2024-04-03 03:59:19 [scrapy.core.engine] INFO: Spider opened\n",
      "2024-04-03 03:59:19 [scrapy.extensions.logstats] INFO: Crawled 0 pages (at 0 pages/min), scraped 0 items (at 0 items/min)\n",
      "2024-04-03 03:59:19 [scrapy.extensions.telnet] INFO: Telnet console listening on 127.0.0.1:6023\n",
      "2024-04-03 03:59:19 [scrapy.downloadermiddlewares.redirect] DEBUG: Redirecting (301) to <GET https://www.carolhouse.com/> from <GET http://www.carolhouse.com>\n",
      "2024-04-03 03:59:22 [scrapy.core.engine] DEBUG: Crawled (403) <GET https://www.carolhouse.com/> (referer: None)\n",
      "2024-04-03 03:59:22 [scrapy.spidermiddlewares.httperror] INFO: Ignoring response <403 https://www.carolhouse.com/>: HTTP status code is not handled or not allowed\n",
      "2024-04-03 03:59:22 [scrapy.core.engine] INFO: Closing spider (finished)\n",
      "2024-04-03 03:59:22 [scrapy.statscollectors] INFO: Dumping Scrapy stats:\n",
      "{'downloader/request_bytes': 604,\n",
      " 'downloader/request_count': 2,\n",
      " 'downloader/request_method_count/GET': 2,\n",
      " 'downloader/response_bytes': 8448,\n",
      " 'downloader/response_count': 2,\n",
      " 'downloader/response_status_count/301': 1,\n",
      " 'downloader/response_status_count/403': 1,\n",
      " 'elapsed_time_seconds': 3.206545,\n",
      " 'finish_reason': 'finished',\n",
      " 'finish_time': datetime.datetime(2024, 4, 3, 0, 59, 22, 580311, tzinfo=datetime.timezone.utc),\n",
      " 'httpcompression/response_bytes': 15686,\n",
      " 'httpcompression/response_count': 1,\n",
      " 'httperror/response_ignored_count': 1,\n",
      " 'httperror/response_ignored_status_count/403': 1,\n",
      " 'log_count/DEBUG': 4,\n",
      " 'log_count/INFO': 11,\n",
      " 'response_received_count': 1,\n",
      " 'scheduler/dequeued': 2,\n",
      " 'scheduler/dequeued/memory': 2,\n",
      " 'scheduler/enqueued': 2,\n",
      " 'scheduler/enqueued/memory': 2,\n",
      " 'start_time': datetime.datetime(2024, 4, 3, 0, 59, 19, 373766, tzinfo=datetime.timezone.utc)}\n",
      "2024-04-03 03:59:22 [scrapy.core.engine] INFO: Spider closed (finished)\n"
     ]
    }
   ],
   "source": [
    "from scrapy.crawler import CrawlerProcess\n",
    "from scrapy.utils.project import get_project_settings\n",
    "\n",
    "# Initialize and run the spider\n",
    "# Note: You might need to adjust get_project_settings() based on your Scrapy project setup or provide custom settings\n",
    "process = CrawlerProcess(get_project_settings())\n",
    "\n",
    "process.crawl(MySpider)\n",
    "process.start()"
   ],
   "metadata": {
    "collapsed": false,
    "ExecuteTime": {
     "end_time": "2024-04-03T00:59:22.589311600Z",
     "start_time": "2024-04-03T00:59:18.806556Z"
    }
   },
   "id": "c35a51badfe328d9"
  },
  {
   "cell_type": "code",
   "execution_count": 8,
   "outputs": [],
   "source": [
    "# from twisted.internet import asyncioreactor\n",
    "# asyncioreactor.install()\n",
    "\n",
    "from scrapy import Selector\n",
    "from scrapy.http import Request\n",
    "from twisted.internet import defer, reactor\n",
    "from scrapy.utils.project import get_project_settings\n",
    "from scrapy.crawler import CrawlerRunner\n",
    "\n",
    "# Initialize the crawler runner with your project settings\n",
    "runner = CrawlerRunner(get_project_settings())\n"
   ],
   "metadata": {
    "collapsed": false,
    "ExecuteTime": {
     "end_time": "2024-04-03T01:37:49.068167900Z",
     "start_time": "2024-04-03T01:37:49.047236700Z"
    }
   },
   "id": "cef580a5a836999e"
  },
  {
   "cell_type": "code",
   "execution_count": 14,
   "outputs": [
    {
     "name": "stderr",
     "output_type": "stream",
     "text": [
      "2024-04-03 04:38:42 [scrapy.addons] INFO: Enabled addons:\n",
      "[]\n",
      "2024-04-03 04:38:42 [scrapy.extensions.telnet] INFO: Telnet Password: d1275d29de36976f\n",
      "2024-04-03 04:38:42 [scrapy.middleware] INFO: Enabled extensions:\n",
      "['scrapy.extensions.corestats.CoreStats',\n",
      " 'scrapy.extensions.telnet.TelnetConsole',\n",
      " 'scrapy.extensions.logstats.LogStats']\n",
      "2024-04-03 04:38:42 [scrapy.crawler] INFO: Overridden settings:\n",
      "{'BOT_NAME': 'texttailor',\n",
      " 'CONCURRENT_REQUESTS_PER_DOMAIN': 4,\n",
      " 'DOWNLOAD_DELAY': 2,\n",
      " 'FEED_EXPORT_ENCODING': 'utf-8',\n",
      " 'NEWSPIDER_MODULE': 'texttailor.spiders',\n",
      " 'REQUEST_FINGERPRINTER_IMPLEMENTATION': '2.7',\n",
      " 'SPIDER_MODULES': ['texttailor.spiders'],\n",
      " 'TWISTED_REACTOR': 'twisted.internet.asyncioreactor.AsyncioSelectorReactor',\n",
      " 'USER_AGENT': 'Mozilla/5.0 (Windows NT 10.0; Win64; x64) AppleWebKit/537.36 '\n",
      "               '(KHTML, like Gecko) Chrome/58.0.3029.110 Safari/537.3'}\n",
      "2024-04-03 04:38:42 [scrapy.middleware] INFO: Enabled downloader middlewares:\n",
      "['scrapy.downloadermiddlewares.httpauth.HttpAuthMiddleware',\n",
      " 'scrapy.downloadermiddlewares.downloadtimeout.DownloadTimeoutMiddleware',\n",
      " 'scrapy.downloadermiddlewares.defaultheaders.DefaultHeadersMiddleware',\n",
      " 'scrapy.downloadermiddlewares.useragent.UserAgentMiddleware',\n",
      " 'scrapy.downloadermiddlewares.retry.RetryMiddleware',\n",
      " 'scrapy.downloadermiddlewares.redirect.MetaRefreshMiddleware',\n",
      " 'scrapy.downloadermiddlewares.httpcompression.HttpCompressionMiddleware',\n",
      " 'scrapy.downloadermiddlewares.redirect.RedirectMiddleware',\n",
      " 'scrapy.downloadermiddlewares.cookies.CookiesMiddleware',\n",
      " 'scrapy.downloadermiddlewares.httpproxy.HttpProxyMiddleware',\n",
      " 'scrapy.downloadermiddlewares.stats.DownloaderStats']\n",
      "2024-04-03 04:38:42 [scrapy.middleware] INFO: Enabled spider middlewares:\n",
      "['scrapy.spidermiddlewares.httperror.HttpErrorMiddleware',\n",
      " 'scrapy.spidermiddlewares.offsite.OffsiteMiddleware',\n",
      " 'scrapy.spidermiddlewares.referer.RefererMiddleware',\n",
      " 'scrapy.spidermiddlewares.urllength.UrlLengthMiddleware',\n",
      " 'scrapy.spidermiddlewares.depth.DepthMiddleware']\n",
      "2024-04-03 04:38:42 [scrapy.middleware] INFO: Enabled item pipelines:\n",
      "[]\n",
      "2024-04-03 04:38:42 [scrapy.core.engine] INFO: Spider opened\n",
      "2024-04-03 04:38:42 [scrapy.extensions.logstats] INFO: Crawled 0 pages (at 0 pages/min), scraped 0 items (at 0 items/min)\n",
      "2024-04-03 04:38:42 [scrapy.extensions.telnet] INFO: Telnet console listening on 127.0.0.1:6023\n"
     ]
    },
    {
     "ename": "RuntimeError",
     "evalue": "Task got bad yield: <Deferred at 0x2bed07eab00>",
     "output_type": "error",
     "traceback": [
      "\u001B[1;31m---------------------------------------------------------------------------\u001B[0m",
      "\u001B[1;31mRuntimeError\u001B[0m                              Traceback (most recent call last)",
      "Cell \u001B[1;32mIn[14], line 11\u001B[0m\n\u001B[0;32m      8\u001B[0m     \u001B[38;5;28;01myield\u001B[39;00m runner\u001B[38;5;241m.\u001B[39mcrawl(MySpider, start_urls\u001B[38;5;241m=\u001B[39m[url], parse\u001B[38;5;241m=\u001B[39mparse)\n\u001B[0;32m     10\u001B[0m \u001B[38;5;66;03m# Example usage to fetch and store the response for inspection\u001B[39;00m\n\u001B[1;32m---> 11\u001B[0m response \u001B[38;5;241m=\u001B[39m \u001B[38;5;28;01mawait\u001B[39;00m fetch_page(\u001B[38;5;124m'\u001B[39m\u001B[38;5;124mhttps://www.carolhouse.com\u001B[39m\u001B[38;5;124m'\u001B[39m)\n",
      "\u001B[1;31mRuntimeError\u001B[0m: Task got bad yield: <Deferred at 0x2bed07eab00>"
     ]
    }
   ],
   "source": [
    "@defer.inlineCallbacks\n",
    "def fetch_page(url):\n",
    "    # The callback function to process the downloaded response\n",
    "    def parse(response):\n",
    "        return response\n",
    "    \n",
    "    # Schedule a request and return the response when it's done\n",
    "    yield runner.crawl(MySpider, start_urls=[url], parse=parse)\n",
    "\n",
    "# Example usage to fetch and store the response for inspection\n",
    "response = await fetch_page('https://www.carolhouse.com')\n"
   ],
   "metadata": {
    "collapsed": false,
    "ExecuteTime": {
     "end_time": "2024-04-03T01:38:42.932887600Z",
     "start_time": "2024-04-03T01:38:42.894450900Z"
    }
   },
   "id": "6a2748f2e0eb6aed"
  },
  {
   "cell_type": "code",
   "execution_count": 16,
   "outputs": [
    {
     "name": "stderr",
     "output_type": "stream",
     "text": [
      "2024-04-03 04:39:11 [scrapy.addons] INFO: Enabled addons:\n",
      "[]\n",
      "2024-04-03 04:39:11 [scrapy.extensions.telnet] INFO: Telnet Password: 7158c80353e4b42d\n",
      "2024-04-03 04:39:11 [scrapy.middleware] INFO: Enabled extensions:\n",
      "['scrapy.extensions.corestats.CoreStats',\n",
      " 'scrapy.extensions.telnet.TelnetConsole',\n",
      " 'scrapy.extensions.logstats.LogStats']\n",
      "2024-04-03 04:39:11 [scrapy.crawler] INFO: Overridden settings:\n",
      "{'BOT_NAME': 'texttailor',\n",
      " 'CONCURRENT_REQUESTS_PER_DOMAIN': 4,\n",
      " 'DOWNLOAD_DELAY': 2,\n",
      " 'FEED_EXPORT_ENCODING': 'utf-8',\n",
      " 'NEWSPIDER_MODULE': 'texttailor.spiders',\n",
      " 'REQUEST_FINGERPRINTER_IMPLEMENTATION': '2.7',\n",
      " 'SPIDER_MODULES': ['texttailor.spiders'],\n",
      " 'TWISTED_REACTOR': 'twisted.internet.asyncioreactor.AsyncioSelectorReactor',\n",
      " 'USER_AGENT': 'Mozilla/5.0 (Windows NT 10.0; Win64; x64) AppleWebKit/537.36 '\n",
      "               '(KHTML, like Gecko) Chrome/58.0.3029.110 Safari/537.3'}\n",
      "2024-04-03 04:39:11 [scrapy.middleware] INFO: Enabled downloader middlewares:\n",
      "['scrapy.downloadermiddlewares.httpauth.HttpAuthMiddleware',\n",
      " 'scrapy.downloadermiddlewares.downloadtimeout.DownloadTimeoutMiddleware',\n",
      " 'scrapy.downloadermiddlewares.defaultheaders.DefaultHeadersMiddleware',\n",
      " 'scrapy.downloadermiddlewares.useragent.UserAgentMiddleware',\n",
      " 'scrapy.downloadermiddlewares.retry.RetryMiddleware',\n",
      " 'scrapy.downloadermiddlewares.redirect.MetaRefreshMiddleware',\n",
      " 'scrapy.downloadermiddlewares.httpcompression.HttpCompressionMiddleware',\n",
      " 'scrapy.downloadermiddlewares.redirect.RedirectMiddleware',\n",
      " 'scrapy.downloadermiddlewares.cookies.CookiesMiddleware',\n",
      " 'scrapy.downloadermiddlewares.httpproxy.HttpProxyMiddleware',\n",
      " 'scrapy.downloadermiddlewares.stats.DownloaderStats']\n",
      "2024-04-03 04:39:11 [scrapy.middleware] INFO: Enabled spider middlewares:\n",
      "['scrapy.spidermiddlewares.httperror.HttpErrorMiddleware',\n",
      " 'scrapy.spidermiddlewares.offsite.OffsiteMiddleware',\n",
      " 'scrapy.spidermiddlewares.referer.RefererMiddleware',\n",
      " 'scrapy.spidermiddlewares.urllength.UrlLengthMiddleware',\n",
      " 'scrapy.spidermiddlewares.depth.DepthMiddleware']\n",
      "2024-04-03 04:39:11 [scrapy.middleware] INFO: Enabled item pipelines:\n",
      "[]\n",
      "2024-04-03 04:39:11 [scrapy.core.engine] INFO: Spider opened\n",
      "2024-04-03 04:39:11 [scrapy.extensions.logstats] INFO: Crawled 0 pages (at 0 pages/min), scraped 0 items (at 0 items/min)\n",
      "2024-04-03 04:39:11 [scrapy.extensions.telnet] INFO: Telnet console listening on 127.0.0.1:6023\n"
     ]
    },
    {
     "data": {
      "text/plain": "<Deferred at 0x2bed0835a80>"
     },
     "execution_count": 16,
     "metadata": {},
     "output_type": "execute_result"
    }
   ],
   "source": [
    "fetch_page('https://www.carolhouse.com')"
   ],
   "metadata": {
    "collapsed": false,
    "ExecuteTime": {
     "end_time": "2024-04-03T01:39:11.246101700Z",
     "start_time": "2024-04-03T01:39:11.207386700Z"
    }
   },
   "id": "dc5687f7fe3f682a"
  },
  {
   "cell_type": "code",
   "execution_count": 17,
   "outputs": [],
   "source": [
    "spider = MySpider()"
   ],
   "metadata": {
    "collapsed": false,
    "ExecuteTime": {
     "end_time": "2024-04-03T01:39:19.148180100Z",
     "start_time": "2024-04-03T01:39:19.136181900Z"
    }
   },
   "id": "ef7c292f17635ef7"
  },
  {
   "cell_type": "code",
   "execution_count": 19,
   "outputs": [],
   "source": [
    "qq = spider.parse('https://www.carolhouse.com')"
   ],
   "metadata": {
    "collapsed": false,
    "ExecuteTime": {
     "end_time": "2024-04-03T01:39:40.803739200Z",
     "start_time": "2024-04-03T01:39:40.796739Z"
    }
   },
   "id": "a7d7cabd5f22b226"
  },
  {
   "cell_type": "code",
   "execution_count": 20,
   "outputs": [
    {
     "ename": "AttributeError",
     "evalue": "'str' object has no attribute 'xpath'",
     "output_type": "error",
     "traceback": [
      "\u001B[1;31m---------------------------------------------------------------------------\u001B[0m",
      "\u001B[1;31mAttributeError\u001B[0m                            Traceback (most recent call last)",
      "Cell \u001B[1;32mIn[20], line 1\u001B[0m\n\u001B[1;32m----> 1\u001B[0m \u001B[43mqq\u001B[49m\u001B[38;5;241;43m.\u001B[39;49m\u001B[38;5;21;43m__next__\u001B[39;49m\u001B[43m(\u001B[49m\u001B[43m)\u001B[49m\n",
      "Cell \u001B[1;32mIn[5], line 12\u001B[0m, in \u001B[0;36mMySpider.parse\u001B[1;34m(self, response, **kwargs)\u001B[0m\n\u001B[0;32m      9\u001B[0m \u001B[38;5;28;01mdef\u001B[39;00m \u001B[38;5;21mparse\u001B[39m(\u001B[38;5;28mself\u001B[39m, response, \u001B[38;5;241m*\u001B[39m\u001B[38;5;241m*\u001B[39mkwargs):\n\u001B[0;32m     10\u001B[0m     \u001B[38;5;66;03m# Look for 'Contact Us' link and yield a request with a callback\u001B[39;00m\n\u001B[0;32m     11\u001B[0m     \u001B[38;5;66;03m# Note: You might need to adjust the selector based on the actual site structure\u001B[39;00m\n\u001B[1;32m---> 12\u001B[0m     contact_us_link \u001B[38;5;241m=\u001B[39m \u001B[43mresponse\u001B[49m\u001B[38;5;241;43m.\u001B[39;49m\u001B[43mxpath\u001B[49m(\u001B[38;5;124m'\u001B[39m\u001B[38;5;124m//a[contains(text(), \u001B[39m\u001B[38;5;124m\"\u001B[39m\u001B[38;5;124mContact Us\u001B[39m\u001B[38;5;124m\"\u001B[39m\u001B[38;5;124m)]/@href\u001B[39m\u001B[38;5;124m'\u001B[39m)\u001B[38;5;241m.\u001B[39mget()\n\u001B[0;32m     13\u001B[0m     \u001B[38;5;28;01mif\u001B[39;00m contact_us_link:\n\u001B[0;32m     14\u001B[0m         \u001B[38;5;28;01myield\u001B[39;00m response\u001B[38;5;241m.\u001B[39mfollow(contact_us_link, \u001B[38;5;28mself\u001B[39m\u001B[38;5;241m.\u001B[39mparse_contact, meta\u001B[38;5;241m=\u001B[39m{\u001B[38;5;124m\"\u001B[39m\u001B[38;5;124mis_contact_page\u001B[39m\u001B[38;5;124m\"\u001B[39m: \u001B[38;5;28;01mTrue\u001B[39;00m})\n",
      "\u001B[1;31mAttributeError\u001B[0m: 'str' object has no attribute 'xpath'"
     ]
    }
   ],
   "source": [
    "qq.__next__()"
   ],
   "metadata": {
    "collapsed": false,
    "ExecuteTime": {
     "end_time": "2024-04-03T01:39:44.603188100Z",
     "start_time": "2024-04-03T01:39:44.564951200Z"
    }
   },
   "id": "972a9357c779ace5"
  },
  {
   "cell_type": "code",
   "execution_count": null,
   "outputs": [],
   "source": [],
   "metadata": {
    "collapsed": false
   },
   "id": "f04e18da7f8cc736"
  },
  {
   "cell_type": "code",
   "execution_count": 21,
   "outputs": [],
   "source": [
    "import requests"
   ],
   "metadata": {
    "collapsed": false,
    "ExecuteTime": {
     "end_time": "2024-04-03T02:06:02.937145400Z",
     "start_time": "2024-04-03T02:06:02.933148400Z"
    }
   },
   "id": "ffc26bce4801254"
  },
  {
   "cell_type": "code",
   "execution_count": 22,
   "outputs": [
    {
     "name": "stderr",
     "output_type": "stream",
     "text": [
      "2024-04-03 05:06:14 [urllib3.connectionpool] DEBUG: Starting new HTTPS connection (1): www.carolhouse.com:443\n",
      "2024-04-03 05:06:14 [urllib3.connectionpool] DEBUG: https://www.carolhouse.com:443 \"GET /living-room/cabinets/room-type.aspx HTTP/1.1\" 403 None\n"
     ]
    }
   ],
   "source": [
    "url = \"https://www.carolhouse.com/living-room/cabinets/room-type.aspx\"\n",
    "\n",
    "response = requests.get(url)"
   ],
   "metadata": {
    "collapsed": false,
    "ExecuteTime": {
     "end_time": "2024-04-03T02:06:14.949461100Z",
     "start_time": "2024-04-03T02:06:14.504928600Z"
    }
   },
   "id": "6b7153fb85c42040"
  },
  {
   "cell_type": "code",
   "execution_count": 25,
   "outputs": [],
   "source": [
    "from IPython.display import HTML"
   ],
   "metadata": {
    "collapsed": false,
    "ExecuteTime": {
     "end_time": "2024-04-03T02:06:29.456407100Z",
     "start_time": "2024-04-03T02:06:29.445381700Z"
    }
   },
   "id": "5e7dc8d3bcd6c8ca"
  },
  {
   "cell_type": "code",
   "execution_count": 26,
   "outputs": [
    {
     "data": {
      "text/plain": "<IPython.core.display.HTML object>",
      "text/html": "<!DOCTYPE html>\n<!--[if lt IE 7]> <html class=\"no-js ie6 oldie\" lang=\"en-US\"> <![endif]-->\n<!--[if IE 7]>    <html class=\"no-js ie7 oldie\" lang=\"en-US\"> <![endif]-->\n<!--[if IE 8]>    <html class=\"no-js ie8 oldie\" lang=\"en-US\"> <![endif]-->\n<!--[if gt IE 8]><!--> <html class=\"no-js\" lang=\"en-US\"> <!--<![endif]-->\n<head>\n<title>Attention Required! | Cloudflare</title>\n<meta charset=\"UTF-8\" />\n<meta http-equiv=\"Content-Type\" content=\"text/html; charset=UTF-8\" />\n<meta http-equiv=\"X-UA-Compatible\" content=\"IE=Edge\" />\n<meta name=\"robots\" content=\"noindex, nofollow\" />\n<meta name=\"viewport\" content=\"width=device-width,initial-scale=1\" />\n<link rel=\"stylesheet\" id=\"cf_styles-css\" href=\"/cdn-cgi/styles/cf.errors.css\" />\n<!--[if lt IE 9]><link rel=\"stylesheet\" id='cf_styles-ie-css' href=\"/cdn-cgi/styles/cf.errors.ie.css\" /><![endif]-->\n<style>body{margin:0;padding:0}</style>\n\n\n<!--[if gte IE 10]><!-->\n<script>\n  if (!navigator.cookieEnabled) {\n    window.addEventListener('DOMContentLoaded', function () {\n      var cookieEl = document.getElementById('cookie-alert');\n      cookieEl.style.display = 'block';\n    })\n  }\n</script>\n<!--<![endif]-->\n\n\n</head>\n<body>\n  <div id=\"cf-wrapper\">\n    <div class=\"cf-alert cf-alert-error cf-cookie-error\" id=\"cookie-alert\" data-translate=\"enable_cookies\">Please enable cookies.</div>\n    <div id=\"cf-error-details\" class=\"cf-error-details-wrapper\">\n      <div class=\"cf-wrapper cf-header cf-error-overview\">\n        <h1 data-translate=\"block_headline\">Sorry, you have been blocked</h1>\n        <h2 class=\"cf-subheadline\"><span data-translate=\"unable_to_access\">You are unable to access</span> microdinc.com</h2>\n      </div><!-- /.header -->\n\n      <div class=\"cf-section cf-highlight\">\n        <div class=\"cf-wrapper\">\n          <div class=\"cf-screenshot-container cf-screenshot-full\">\n            \n              <span class=\"cf-no-screenshot error\"></span>\n            \n          </div>\n        </div>\n      </div><!-- /.captcha-container -->\n\n      <div class=\"cf-section cf-wrapper\">\n        <div class=\"cf-columns two\">\n          <div class=\"cf-column\">\n            <h2 data-translate=\"blocked_why_headline\">Why have I been blocked?</h2>\n\n            <p data-translate=\"blocked_why_detail\">This website is using a security service to protect itself from online attacks. The action you just performed triggered the security solution. There are several actions that could trigger this block including submitting a certain word or phrase, a SQL command or malformed data.</p>\n          </div>\n\n          <div class=\"cf-column\">\n            <h2 data-translate=\"blocked_resolve_headline\">What can I do to resolve this?</h2>\n\n            <p data-translate=\"blocked_resolve_detail\">You can email the site owner to let them know you were blocked. Please include what you were doing when this page came up and the Cloudflare Ray ID found at the bottom of this page.</p>\n          </div>\n        </div>\n      </div><!-- /.section -->\n\n      <div class=\"cf-error-footer cf-wrapper w-240 lg:w-full py-10 sm:py-4 sm:px-8 mx-auto text-center sm:text-left border-solid border-0 border-t border-gray-300\">\n  <p class=\"text-13\">\n    <span class=\"cf-footer-item sm:block sm:mb-1\">Cloudflare Ray ID: <strong class=\"font-semibold\">86e57f8f290d9df6</strong></span>\n    <span class=\"cf-footer-separator sm:hidden\">&bull;</span>\n    <span id=\"cf-footer-item-ip\" class=\"cf-footer-item hidden sm:block sm:mb-1\">\n      Your IP:\n      <button type=\"button\" id=\"cf-footer-ip-reveal\" class=\"cf-footer-ip-reveal-btn\">Click to reveal</button>\n      <span class=\"hidden\" id=\"cf-footer-ip\">109.252.189.246</span>\n      <span class=\"cf-footer-separator sm:hidden\">&bull;</span>\n    </span>\n    <span class=\"cf-footer-item sm:block sm:mb-1\"><span>Performance &amp; security by</span> <a rel=\"noopener noreferrer\" href=\"https://www.cloudflare.com/5xx-error-landing\" id=\"brand_link\" target=\"_blank\">Cloudflare</a></span>\n    \n  </p>\n  <script>(function(){function d(){var b=a.getElementById(\"cf-footer-item-ip\"),c=a.getElementById(\"cf-footer-ip-reveal\");b&&\"classList\"in b&&(b.classList.remove(\"hidden\"),c.addEventListener(\"click\",function(){c.classList.add(\"hidden\");a.getElementById(\"cf-footer-ip\").classList.remove(\"hidden\")}))}var a=document;document.addEventListener&&a.addEventListener(\"DOMContentLoaded\",d)})();</script>\n</div><!-- /.error-footer -->\n\n\n    </div><!-- /#cf-error-details -->\n  </div><!-- /#cf-wrapper -->\n\n  <script>\n  window._cf_translation = {};\n  \n  \n</script>\n\n</body>\n</html>\n"
     },
     "execution_count": 26,
     "metadata": {},
     "output_type": "execute_result"
    }
   ],
   "source": [
    "HTML(response.text)"
   ],
   "metadata": {
    "collapsed": false,
    "ExecuteTime": {
     "end_time": "2024-04-03T02:06:32.439670800Z",
     "start_time": "2024-04-03T02:06:32.429632600Z"
    }
   },
   "id": "ba949611eb02f7c5"
  },
  {
   "cell_type": "code",
   "execution_count": null,
   "outputs": [],
   "source": [],
   "metadata": {
    "collapsed": false
   },
   "id": "43db05f22e41ed89"
  }
 ],
 "metadata": {
  "kernelspec": {
   "display_name": "Python 3",
   "language": "python",
   "name": "python3"
  },
  "language_info": {
   "codemirror_mode": {
    "name": "ipython",
    "version": 2
   },
   "file_extension": ".py",
   "mimetype": "text/x-python",
   "name": "python",
   "nbconvert_exporter": "python",
   "pygments_lexer": "ipython2",
   "version": "2.7.6"
  }
 },
 "nbformat": 4,
 "nbformat_minor": 5
}
