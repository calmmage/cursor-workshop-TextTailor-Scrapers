{
 "cells": [
  {
   "cell_type": "code",
   "execution_count": 1,
   "id": "initial_id",
   "metadata": {
    "collapsed": true,
    "ExecuteTime": {
     "end_time": "2024-08-26T12:57:32.400911200Z",
     "start_time": "2024-08-26T12:57:32.082683600Z"
    }
   },
   "outputs": [],
   "source": [
    "import undetected_chromedriver as uc\n",
    "from selenium.webdriver.chrome.options import Options"
   ]
  },
  {
   "cell_type": "code",
   "execution_count": 1,
   "outputs": [],
   "source": [],
   "metadata": {
    "collapsed": false,
    "ExecuteTime": {
     "end_time": "2024-08-26T12:57:39.324442300Z",
     "start_time": "2024-08-26T12:57:39.309443400Z"
    }
   },
   "id": "7abe0a97da0e6b2c"
  },
  {
   "cell_type": "code",
   "execution_count": 5,
   "outputs": [],
   "source": [
    "proxy = None\n",
    "chrome_options = Options()\n",
    "\n",
    "if proxy:\n",
    "    proxy_options = {\n",
    "        \"proxy\": {\n",
    "            \"https\": f\"http://{proxy}\",\n",
    "        }\n",
    "    }\n",
    "else:\n",
    "    proxy_options = None\n",
    "\n",
    "# Additional options for undetected Chrome\n",
    "# chrome_options.add_argument(\"--headless\")\n",
    "chrome_options.add_argument(\"--use-subprocess\")\n",
    "\n",
    "driver = uc.Chrome(options=chrome_options, seleniumwire_options=proxy_options)\n",
    "chrome_pid = driver.service.process.pid"
   ],
   "metadata": {
    "collapsed": false,
    "ExecuteTime": {
     "end_time": "2024-08-26T13:06:24.011956400Z",
     "start_time": "2024-08-26T13:06:23.162339500Z"
    }
   },
   "id": "f8e10ca94cdffa87"
  },
  {
   "cell_type": "code",
   "execution_count": 6,
   "outputs": [],
   "source": [
    "driver.get(\"https://fix-price.com/catalog/knigi/p-4000504-seriya-uchebnyh-posobiy-lomonosovskaya-shkola-eksmo\")"
   ],
   "metadata": {
    "collapsed": false,
    "ExecuteTime": {
     "end_time": "2024-08-26T13:06:30.389401600Z",
     "start_time": "2024-08-26T13:06:28.371036600Z"
    }
   },
   "id": "777fbfa4f6afb761"
  },
  {
   "cell_type": "code",
   "execution_count": null,
   "outputs": [],
   "source": [],
   "metadata": {
    "collapsed": false
   },
   "id": "1828d275c15b91e"
  },
  {
   "cell_type": "code",
   "execution_count": 7,
   "outputs": [],
   "source": [
    "from scrapy.http import HtmlResponse\n",
    "\n",
    "response = HtmlResponse(driver.current_url, body=driver.page_source, encoding=\"utf-8\", request=None)\n",
    "all_urls = response.xpath(\"//a/@href\").extract()"
   ],
   "metadata": {
    "collapsed": false,
    "ExecuteTime": {
     "end_time": "2024-08-26T13:07:34.810432900Z",
     "start_time": "2024-08-26T13:07:33.653254200Z"
    }
   },
   "id": "9c34937291e04396"
  },
  {
   "cell_type": "code",
   "execution_count": 8,
   "outputs": [
    {
     "data": {
      "text/plain": "['https://fix-price.com/doc/cookie_policy',\n '/stores',\n '/work/store',\n '/specials',\n '/bonus',\n '/',\n '/catalog',\n '/catalog/skoro-v-shkolu',\n '/catalog/pochti-darom',\n '/catalog/kollektsiya-eritreya',\n '/catalog/kollektsiya-bambino',\n '/catalog/dlya-zdorovykh-nachinaniy',\n '/catalog/letnee-nastroenie',\n '/catalog/sad-i-ogorod',\n '/catalog/spets-tsena-po-karte',\n '/catalog/novinki',\n '/catalog/seychas-pokupayut',\n '/catalog/produkty-i-napitki',\n '/catalog/bytovaya-khimiya',\n '/catalog/igrushki',\n '/catalog/kosmetika-i-gigiena',\n '/catalog/krasota-i-zdorove',\n '/catalog/dlya-doma',\n '/catalog/dekor-dlya-doma-tovary-dlya-prazdnika',\n '/catalog/suveniry-i-podarki',\n '/catalog/kantstovary',\n '/catalog/knigi',\n '/catalog/avto-moto-velo',\n '/catalog/odezhda',\n '/catalog/aksessuary',\n '/catalog/sport-i-otdykh',\n '/catalog/dlya-zhivotnykh',\n '/catalog/meditsinskie-tovary',\n '/catalog/prazdnik-kruglyy-god',\n '/catalog/skoro-v-shkolu',\n '/catalog/skoro-v-shkolu/tetradi-bloknoty-dnevniki',\n '/catalog/skoro-v-shkolu/pismennye-prinadlezhnosti',\n '/catalog/skoro-v-shkolu/kantstovary-dlya-ucheby',\n '/catalog/skoro-v-shkolu/tovary-dlya-shkolnogo-tvorchestva',\n '/catalog/skoro-v-shkolu/shkolnye-aksessuary-i-ryukzaki',\n '/specials',\n '/bonus',\n '/favorites',\n '/cart',\n '/skoro-v-shkolu',\n '/catalog/pochti-darom',\n '/catalog/spets-tsena-po-karte',\n '/catalog/dlya-doma',\n '/catalog/bytovaya-khimiya',\n '/catalog/produkty-i-napitki',\n '/catalog/kosmetika-i-gigiena',\n '/esg',\n '/',\n '/catalog',\n '/catalog/knigi',\n '/catalog/seychas-pokupayut/p-5023527-lanch-boks-4-sektsionnyy-v-assortimente',\n '/catalog/seychas-pokupayut/p-5023527-lanch-boks-4-sektsionnyy-v-assortimente',\n '/catalog/seychas-pokupayut/p-5023527-lanch-boks-4-sektsionnyy-v-assortimente',\n '/catalog/seychas-pokupayut/p-5023527-lanch-boks-4-sektsionnyy-v-assortimente',\n '/catalog/seychas-pokupayut/p-5023527-lanch-boks-4-sektsionnyy-v-assortimente',\n '/catalog/seychas-pokupayut/p-5023527-lanch-boks-4-sektsionnyy-v-assortimente',\n '/catalog/seychas-pokupayut/p-5023527-lanch-boks-4-sektsionnyy-v-assortimente',\n '/catalog/seychas-pokupayut/p-5023527-lanch-boks-4-sektsionnyy-v-assortimente',\n '/catalog/knigi/p-4000541-seriya-raskrasok-moya-bolshaya-raskraska',\n '/catalog/knigi/p-4000541-seriya-raskrasok-moya-bolshaya-raskraska',\n '/catalog/knigi/p-4000541-seriya-raskrasok-moya-bolshaya-raskraska',\n '/catalog/knigi/p-4000541-seriya-raskrasok-moya-bolshaya-raskraska',\n '/catalog/knigi/p-4000541-seriya-raskrasok-moya-bolshaya-raskraska',\n '/catalog/knigi/p-4000541-seriya-raskrasok-moya-bolshaya-raskraska',\n '/catalog/knigi/p-4000541-seriya-raskrasok-moya-bolshaya-raskraska',\n '/catalog/knigi/p-4000541-seriya-raskrasok-moya-bolshaya-raskraska',\n '/catalog/knigi/p-4000541-seriya-raskrasok-moya-bolshaya-raskraska',\n '/catalog/knigi/p-4000541-seriya-raskrasok-moya-bolshaya-raskraska',\n '/catalog/knigi/p-4000541-seriya-raskrasok-moya-bolshaya-raskraska',\n '/catalog/knigi/p-4000541-seriya-raskrasok-moya-bolshaya-raskraska',\n '/catalog/knigi/p-4000541-seriya-raskrasok-moya-bolshaya-raskraska',\n '/catalog/knigi/p-4000541-seriya-raskrasok-moya-bolshaya-raskraska',\n '/catalog/knigi/p-4000541-seriya-raskrasok-moya-bolshaya-raskraska',\n '/catalog/knigi/p-4000541-seriya-raskrasok-moya-bolshaya-raskraska',\n '/catalog/knigi/p-4000541-seriya-raskrasok-moya-bolshaya-raskraska',\n '/catalog/knigi/p-4000541-seriya-raskrasok-moya-bolshaya-raskraska',\n '/catalog/knigi/p-4000541-seriya-raskrasok-moya-bolshaya-raskraska',\n '/catalog/knigi/p-4000541-seriya-raskrasok-moya-bolshaya-raskraska',\n '/catalog/knigi/p-4000541-seriya-raskrasok-moya-bolshaya-raskraska',\n '/catalog/knigi/p-4000541-seriya-raskrasok-moya-bolshaya-raskraska',\n '/catalog/knigi/p-4000541-seriya-raskrasok-moya-bolshaya-raskraska',\n '/catalog/knigi/p-4000541-seriya-raskrasok-moya-bolshaya-raskraska',\n '/catalog/knigi/p-4000541-seriya-raskrasok-moya-bolshaya-raskraska',\n '/catalog/knigi/p-4000541-seriya-raskrasok-moya-bolshaya-raskraska',\n '/catalog/knigi/p-4000541-seriya-raskrasok-moya-bolshaya-raskraska',\n '/catalog/knigi/p-4000541-seriya-raskrasok-moya-bolshaya-raskraska',\n '/catalog/knigi/p-4000541-seriya-raskrasok-moya-bolshaya-raskraska',\n '/catalog/knigi/p-4000541-seriya-raskrasok-moya-bolshaya-raskraska',\n '/catalog/knigi/p-4000541-seriya-raskrasok-moya-bolshaya-raskraska',\n '/catalog/knigi/p-4000500-seriya-knig-spravochnik-v-tablitsah',\n '/catalog/knigi/p-4000500-seriya-knig-spravochnik-v-tablitsah',\n '/catalog/knigi/p-4000500-seriya-knig-spravochnik-v-tablitsah',\n '/catalog/knigi/p-4000500-seriya-knig-spravochnik-v-tablitsah',\n '/catalog/knigi/p-4000500-seriya-knig-spravochnik-v-tablitsah',\n '/catalog/knigi/p-4000500-seriya-knig-spravochnik-v-tablitsah',\n '/catalog/knigi/p-4000500-seriya-knig-spravochnik-v-tablitsah',\n '/catalog/knigi/p-4000500-seriya-knig-spravochnik-v-tablitsah',\n '/catalog/knigi/p-4000500-seriya-knig-spravochnik-v-tablitsah',\n '/catalog/knigi/p-4000500-seriya-knig-spravochnik-v-tablitsah',\n '/catalog/knigi/p-4000500-seriya-knig-spravochnik-v-tablitsah',\n '/catalog/knigi/p-4000500-seriya-knig-spravochnik-v-tablitsah',\n '/catalog/knigi/p-4000500-seriya-knig-spravochnik-v-tablitsah',\n '/catalog/knigi/p-4000500-seriya-knig-spravochnik-v-tablitsah',\n '/catalog/knigi/p-4000500-seriya-knig-spravochnik-v-tablitsah',\n '/catalog/knigi/p-4000500-seriya-knig-spravochnik-v-tablitsah',\n '/catalog/knigi/p-4000500-seriya-knig-spravochnik-v-tablitsah',\n '/catalog/knigi/p-4000542-seriya-knig-s-nakleykami-prikley-malysh-feniks-premer',\n '/catalog/knigi/p-4000542-seriya-knig-s-nakleykami-prikley-malysh-feniks-premer',\n '/catalog/knigi/p-4000542-seriya-knig-s-nakleykami-prikley-malysh-feniks-premer',\n '/catalog/knigi/p-4000542-seriya-knig-s-nakleykami-prikley-malysh-feniks-premer',\n '/catalog/knigi/p-4000542-seriya-knig-s-nakleykami-prikley-malysh-feniks-premer',\n '/catalog/knigi/p-4000542-seriya-knig-s-nakleykami-prikley-malysh-feniks-premer',\n '/catalog/knigi/p-4000542-seriya-knig-s-nakleykami-prikley-malysh-feniks-premer',\n '/catalog/knigi/p-4000542-seriya-knig-s-nakleykami-prikley-malysh-feniks-premer',\n '/catalog/knigi/p-4000542-seriya-knig-s-nakleykami-prikley-malysh-feniks-premer',\n '/catalog/knigi/p-4000542-seriya-knig-s-nakleykami-prikley-malysh-feniks-premer',\n '/catalog/knigi/p-4000542-seriya-knig-s-nakleykami-prikley-malysh-feniks-premer',\n '/catalog/knigi/p-4000542-seriya-knig-s-nakleykami-prikley-malysh-feniks-premer',\n '/catalog/knigi/p-4000542-seriya-knig-s-nakleykami-prikley-malysh-feniks-premer',\n '/catalog/knigi/p-4000542-seriya-knig-s-nakleykami-prikley-malysh-feniks-premer',\n '/catalog/knigi/p-4000542-seriya-knig-s-nakleykami-prikley-malysh-feniks-premer',\n '/catalog/knigi/p-4000563-seriya-hudojestvennyh-knig-eksmo-v-assortimente',\n '/catalog/knigi/p-4000563-seriya-hudojestvennyh-knig-eksmo-v-assortimente',\n '/catalog/knigi/p-4000563-seriya-hudojestvennyh-knig-eksmo-v-assortimente',\n '/catalog/knigi/p-4000563-seriya-hudojestvennyh-knig-eksmo-v-assortimente',\n '/catalog/knigi/p-4000563-seriya-hudojestvennyh-knig-eksmo-v-assortimente',\n '/catalog/knigi/p-4000563-seriya-hudojestvennyh-knig-eksmo-v-assortimente',\n '/catalog/knigi/p-4000563-seriya-hudojestvennyh-knig-eksmo-v-assortimente',\n '/catalog/knigi/p-4000563-seriya-hudojestvennyh-knig-eksmo-v-assortimente',\n '/catalog/knigi/p-4000563-seriya-hudojestvennyh-knig-eksmo-v-assortimente',\n '/catalog/knigi/p-4000563-seriya-hudojestvennyh-knig-eksmo-v-assortimente',\n '/catalog/knigi/p-4000563-seriya-hudojestvennyh-knig-eksmo-v-assortimente',\n '/catalog/knigi/p-4000563-seriya-hudojestvennyh-knig-eksmo-v-assortimente',\n '/catalog/knigi/p-4000563-seriya-hudojestvennyh-knig-eksmo-v-assortimente',\n '/catalog/knigi/p-4000563-seriya-hudojestvennyh-knig-eksmo-v-assortimente',\n '/catalog/knigi/p-4000563-seriya-hudojestvennyh-knig-eksmo-v-assortimente',\n '/catalog/knigi/p-4000563-seriya-hudojestvennyh-knig-eksmo-v-assortimente',\n '/catalog/knigi/p-4000563-seriya-hudojestvennyh-knig-eksmo-v-assortimente',\n '/catalog/knigi/p-4000563-seriya-hudojestvennyh-knig-eksmo-v-assortimente',\n '/catalog/knigi/p-4000563-seriya-hudojestvennyh-knig-eksmo-v-assortimente',\n '/catalog/knigi/p-4000563-seriya-hudojestvennyh-knig-eksmo-v-assortimente',\n '/catalog/knigi/p-4000563-seriya-hudojestvennyh-knig-eksmo-v-assortimente',\n '/catalog/knigi/p-4000563-seriya-hudojestvennyh-knig-eksmo-v-assortimente',\n '/catalog/knigi/p-4000563-seriya-hudojestvennyh-knig-eksmo-v-assortimente',\n '/catalog/knigi/p-4000563-seriya-hudojestvennyh-knig-eksmo-v-assortimente',\n '/catalog/knigi/p-4000563-seriya-hudojestvennyh-knig-eksmo-v-assortimente',\n '/catalog/knigi/p-4000563-seriya-hudojestvennyh-knig-eksmo-v-assortimente',\n '/catalog/knigi/p-4000563-seriya-hudojestvennyh-knig-eksmo-v-assortimente',\n '/catalog/knigi/p-4000563-seriya-hudojestvennyh-knig-eksmo-v-assortimente',\n '/catalog/knigi/p-4000563-seriya-hudojestvennyh-knig-eksmo-v-assortimente',\n '/catalog/knigi/p-4000563-seriya-hudojestvennyh-knig-eksmo-v-assortimente',\n '/catalog/knigi/p-4000563-seriya-hudojestvennyh-knig-eksmo-v-assortimente',\n '/catalog/knigi/p-4000563-seriya-hudojestvennyh-knig-eksmo-v-assortimente',\n '/catalog/knigi/p-4000563-seriya-hudojestvennyh-knig-eksmo-v-assortimente',\n '/catalog/knigi/p-4000563-seriya-hudojestvennyh-knig-eksmo-v-assortimente',\n '/catalog/knigi/p-4000563-seriya-hudojestvennyh-knig-eksmo-v-assortimente',\n '/catalog/knigi/p-4000563-seriya-hudojestvennyh-knig-eksmo-v-assortimente',\n '/catalog/knigi/p-4000563-seriya-hudojestvennyh-knig-eksmo-v-assortimente',\n '/catalog/knigi/p-4000563-seriya-hudojestvennyh-knig-eksmo-v-assortimente',\n '/catalog/knigi/p-4000563-seriya-hudojestvennyh-knig-eksmo-v-assortimente',\n '/catalog/knigi/p-4000563-seriya-hudojestvennyh-knig-eksmo-v-assortimente',\n '/catalog/knigi/p-4000563-seriya-hudojestvennyh-knig-eksmo-v-assortimente',\n '/catalog/knigi/p-4000595-razvivayuschaya-seriya-iz-6-knig-shkola-semi-gnomov-mozaika-ids',\n '/catalog/knigi/p-4000595-razvivayuschaya-seriya-iz-6-knig-shkola-semi-gnomov-mozaika-ids',\n '/catalog/knigi/p-4000595-razvivayuschaya-seriya-iz-6-knig-shkola-semi-gnomov-mozaika-ids',\n '/catalog/knigi/p-4000595-razvivayuschaya-seriya-iz-6-knig-shkola-semi-gnomov-mozaika-ids',\n '/catalog/knigi/p-4000595-razvivayuschaya-seriya-iz-6-knig-shkola-semi-gnomov-mozaika-ids',\n '/catalog/knigi/p-4000595-razvivayuschaya-seriya-iz-6-knig-shkola-semi-gnomov-mozaika-ids',\n '/catalog/knigi/p-4000595-razvivayuschaya-seriya-iz-6-knig-shkola-semi-gnomov-mozaika-ids',\n '/catalog/knigi/p-4000595-razvivayuschaya-seriya-iz-6-knig-shkola-semi-gnomov-mozaika-ids',\n '/catalog/knigi/p-4000595-razvivayuschaya-seriya-iz-6-knig-shkola-semi-gnomov-mozaika-ids',\n '/catalog/knigi/p-4000595-razvivayuschaya-seriya-iz-6-knig-shkola-semi-gnomov-mozaika-ids',\n '/catalog/knigi/p-4000595-razvivayuschaya-seriya-iz-6-knig-shkola-semi-gnomov-mozaika-ids',\n '/catalog/knigi/p-4000595-razvivayuschaya-seriya-iz-6-knig-shkola-semi-gnomov-mozaika-ids',\n '/catalog/knigi/p-4000595-razvivayuschaya-seriya-iz-6-knig-shkola-semi-gnomov-mozaika-ids',\n '/catalog/knigi/p-4000595-razvivayuschaya-seriya-iz-6-knig-shkola-semi-gnomov-mozaika-ids',\n '/catalog/knigi/p-4000595-razvivayuschaya-seriya-iz-6-knig-shkola-semi-gnomov-mozaika-ids',\n '/catalog/knigi/p-4000595-razvivayuschaya-seriya-iz-6-knig-shkola-semi-gnomov-mozaika-ids',\n '/catalog/knigi/p-4000595-razvivayuschaya-seriya-iz-6-knig-shkola-semi-gnomov-mozaika-ids',\n '/catalog/knigi/p-4000595-razvivayuschaya-seriya-iz-6-knig-shkola-semi-gnomov-mozaika-ids',\n '/catalog/knigi/p-4000595-razvivayuschaya-seriya-iz-6-knig-shkola-semi-gnomov-mozaika-ids',\n '/catalog/knigi/p-4000595-razvivayuschaya-seriya-iz-6-knig-shkola-semi-gnomov-mozaika-ids',\n '/catalog/knigi/p-4000595-razvivayuschaya-seriya-iz-6-knig-shkola-semi-gnomov-mozaika-ids',\n '/catalog/knigi/p-4000595-razvivayuschaya-seriya-iz-6-knig-shkola-semi-gnomov-mozaika-ids',\n '/catalog/knigi/p-4000595-razvivayuschaya-seriya-iz-6-knig-shkola-semi-gnomov-mozaika-ids',\n '/catalog/knigi/p-4000595-razvivayuschaya-seriya-iz-6-knig-shkola-semi-gnomov-mozaika-ids',\n '/catalog/knigi/p-4000595-razvivayuschaya-seriya-iz-6-knig-shkola-semi-gnomov-mozaika-ids',\n '/catalog/knigi/p-4000595-razvivayuschaya-seriya-iz-6-knig-shkola-semi-gnomov-mozaika-ids',\n '/catalog/knigi/p-4000595-razvivayuschaya-seriya-iz-6-knig-shkola-semi-gnomov-mozaika-ids',\n '/catalog/knigi/p-4000595-razvivayuschaya-seriya-iz-6-knig-shkola-semi-gnomov-mozaika-ids',\n '/catalog/knigi/p-4000595-razvivayuschaya-seriya-iz-6-knig-shkola-semi-gnomov-mozaika-ids',\n '/catalog/knigi/p-4000595-razvivayuschaya-seriya-iz-6-knig-shkola-semi-gnomov-mozaika-ids',\n '/catalog/knigi/p-4000595-razvivayuschaya-seriya-iz-6-knig-shkola-semi-gnomov-mozaika-ids',\n '/catalog/knigi/p-4000595-razvivayuschaya-seriya-iz-6-knig-shkola-semi-gnomov-mozaika-ids',\n '/catalog/knigi/p-4000595-razvivayuschaya-seriya-iz-6-knig-shkola-semi-gnomov-mozaika-ids',\n '/catalog/knigi/p-4000595-razvivayuschaya-seriya-iz-6-knig-shkola-semi-gnomov-mozaika-ids',\n '/catalog/knigi/p-4000595-razvivayuschaya-seriya-iz-6-knig-shkola-semi-gnomov-mozaika-ids',\n '/catalog/knigi/p-4000595-razvivayuschaya-seriya-iz-6-knig-shkola-semi-gnomov-mozaika-ids',\n '/catalog/knigi/p-4000595-razvivayuschaya-seriya-iz-6-knig-shkola-semi-gnomov-mozaika-ids',\n '/catalog/knigi/p-4000595-razvivayuschaya-seriya-iz-6-knig-shkola-semi-gnomov-mozaika-ids',\n '/catalog/knigi/p-4000595-razvivayuschaya-seriya-iz-6-knig-shkola-semi-gnomov-mozaika-ids',\n '/catalog/knigi/p-4000595-razvivayuschaya-seriya-iz-6-knig-shkola-semi-gnomov-mozaika-ids',\n '/catalog/knigi/p-4000595-razvivayuschaya-seriya-iz-6-knig-shkola-semi-gnomov-mozaika-ids',\n '/catalog/knigi/p-4000595-razvivayuschaya-seriya-iz-6-knig-shkola-semi-gnomov-mozaika-ids',\n '/catalog/knigi/p-4000595-razvivayuschaya-seriya-iz-6-knig-shkola-semi-gnomov-mozaika-ids',\n '/catalog/knigi/p-4000595-razvivayuschaya-seriya-iz-6-knig-shkola-semi-gnomov-mozaika-ids',\n '/catalog/knigi/p-4000595-razvivayuschaya-seriya-iz-6-knig-shkola-semi-gnomov-mozaika-ids',\n '/catalog/knigi/p-4000595-razvivayuschaya-seriya-iz-6-knig-shkola-semi-gnomov-mozaika-ids',\n '/catalog/knigi/p-4000595-razvivayuschaya-seriya-iz-6-knig-shkola-semi-gnomov-mozaika-ids',\n '/catalog/knigi/p-4000595-razvivayuschaya-seriya-iz-6-knig-shkola-semi-gnomov-mozaika-ids',\n '/catalog/knigi/p-4000595-razvivayuschaya-seriya-iz-6-knig-shkola-semi-gnomov-mozaika-ids',\n '/catalog/knigi/p-4000595-razvivayuschaya-seriya-iz-6-knig-shkola-semi-gnomov-mozaika-ids',\n '/catalog/knigi/p-4000595-razvivayuschaya-seriya-iz-6-knig-shkola-semi-gnomov-mozaika-ids',\n '/catalog/knigi/p-4000595-razvivayuschaya-seriya-iz-6-knig-shkola-semi-gnomov-mozaika-ids',\n '/catalog/knigi/p-4000595-razvivayuschaya-seriya-iz-6-knig-shkola-semi-gnomov-mozaika-ids',\n '/catalog/knigi/p-4000595-razvivayuschaya-seriya-iz-6-knig-shkola-semi-gnomov-mozaika-ids',\n '/catalog/knigi/p-4000595-razvivayuschaya-seriya-iz-6-knig-shkola-semi-gnomov-mozaika-ids',\n '/catalog/knigi/p-4000595-razvivayuschaya-seriya-iz-6-knig-shkola-semi-gnomov-mozaika-ids',\n '/catalog/knigi/p-4000595-razvivayuschaya-seriya-iz-6-knig-shkola-semi-gnomov-mozaika-ids',\n '/catalog/knigi/p-4000595-razvivayuschaya-seriya-iz-6-knig-shkola-semi-gnomov-mozaika-ids',\n '/catalog/knigi/p-4000595-razvivayuschaya-seriya-iz-6-knig-shkola-semi-gnomov-mozaika-ids',\n '/catalog/knigi/p-4000595-razvivayuschaya-seriya-iz-6-knig-shkola-semi-gnomov-mozaika-ids',\n '/catalog/knigi/p-4000595-razvivayuschaya-seriya-iz-6-knig-shkola-semi-gnomov-mozaika-ids',\n '/catalog/knigi/p-4000595-razvivayuschaya-seriya-iz-6-knig-shkola-semi-gnomov-mozaika-ids',\n '/catalog/knigi/p-4000595-razvivayuschaya-seriya-iz-6-knig-shkola-semi-gnomov-mozaika-ids',\n '/catalog/knigi/p-4000595-razvivayuschaya-seriya-iz-6-knig-shkola-semi-gnomov-mozaika-ids',\n '/catalog/knigi/p-4000474-seriya-knig-non-fikshn',\n '/catalog/knigi/p-4000474-seriya-knig-non-fikshn',\n '/catalog/knigi/p-4000474-seriya-knig-non-fikshn',\n '/catalog/knigi/p-4000474-seriya-knig-non-fikshn',\n '/catalog/knigi/p-4000474-seriya-knig-non-fikshn',\n '/catalog/knigi/p-4000474-seriya-knig-non-fikshn',\n '/catalog/knigi/p-4000474-seriya-knig-non-fikshn',\n '/catalog/knigi/p-4000474-seriya-knig-non-fikshn',\n '/catalog/knigi/p-4000474-seriya-knig-non-fikshn',\n '/catalog/knigi/p-4000474-seriya-knig-non-fikshn',\n '/catalog/knigi/p-4000474-seriya-knig-non-fikshn',\n '/catalog/knigi/p-4000474-seriya-knig-non-fikshn',\n '/catalog/knigi/p-4000474-seriya-knig-non-fikshn',\n '/catalog/knigi/p-4000474-seriya-knig-non-fikshn',\n '/catalog/knigi/p-4030070-karta-i-rice',\n '/catalog/knigi/p-4030070-karta-i-rice',\n '/catalog/knigi/p-4000233-seriya-knig-skazki-multfilmy',\n '/catalog/knigi/p-4000233-seriya-knig-skazki-multfilmy',\n '/catalog/knigi/p-4000233-seriya-knig-skazki-multfilmy',\n '/catalog/knigi/p-4000233-seriya-knig-skazki-multfilmy',\n '/catalog/knigi/p-4000233-seriya-knig-skazki-multfilmy',\n '/catalog/knigi/p-4000233-seriya-knig-skazki-multfilmy',\n '/catalog/knigi/p-4000233-seriya-knig-skazki-multfilmy',\n '/catalog/knigi/p-4000233-seriya-knig-skazki-multfilmy',\n '/catalog/knigi/p-4000233-seriya-knig-skazki-multfilmy',\n '/catalog/knigi/p-4000233-seriya-knig-skazki-multfilmy',\n '/catalog/knigi/p-4000233-seriya-knig-skazki-multfilmy',\n '/catalog/knigi/p-4000233-seriya-knig-skazki-multfilmy',\n '/catalog/knigi/p-4000233-seriya-knig-skazki-multfilmy',\n '/catalog/knigi/p-4000233-seriya-knig-skazki-multfilmy',\n '/catalog/knigi/p-4000233-seriya-knig-skazki-multfilmy',\n '/catalog/knigi/p-4000233-seriya-knig-skazki-multfilmy',\n '/catalog/knigi/p-4000233-seriya-knig-skazki-multfilmy',\n '/catalog/knigi/p-4000233-seriya-knig-skazki-multfilmy',\n '/catalog/knigi/p-4000233-seriya-knig-skazki-multfilmy',\n '/catalog/knigi/p-4000301-knigi-s-mnogorazovymi-nakleykami-altey-v-assortimente',\n '/catalog/knigi/p-4000301-knigi-s-mnogorazovymi-nakleykami-altey-v-assortimente',\n '/catalog/knigi/p-4000301-knigi-s-mnogorazovymi-nakleykami-altey-v-assortimente',\n '/catalog/knigi/p-4000301-knigi-s-mnogorazovymi-nakleykami-altey-v-assortimente',\n '/catalog/knigi/p-4000301-knigi-s-mnogorazovymi-nakleykami-altey-v-assortimente',\n '/catalog/knigi/p-4000301-knigi-s-mnogorazovymi-nakleykami-altey-v-assortimente',\n '/catalog/knigi/p-4000301-knigi-s-mnogorazovymi-nakleykami-altey-v-assortimente',\n '/catalog/knigi/p-4000301-knigi-s-mnogorazovymi-nakleykami-altey-v-assortimente',\n '/catalog/knigi/p-4000301-knigi-s-mnogorazovymi-nakleykami-altey-v-assortimente',\n '/catalog/knigi/p-4000301-knigi-s-mnogorazovymi-nakleykami-altey-v-assortimente',\n '/catalog/knigi/p-4000301-knigi-s-mnogorazovymi-nakleykami-altey-v-assortimente',\n '/catalog/knigi/p-4000301-knigi-s-mnogorazovymi-nakleykami-altey-v-assortimente',\n '/catalog/knigi/p-4030231-seriya-raskrasok-dlya-malyshey-v-assortimente',\n '/catalog/knigi/p-4030231-seriya-raskrasok-dlya-malyshey-v-assortimente',\n '/catalog/knigi/p-4030231-seriya-raskrasok-dlya-malyshey-v-assortimente',\n '/catalog/knigi/p-4030231-seriya-raskrasok-dlya-malyshey-v-assortimente',\n '/catalog/knigi/p-4030231-seriya-raskrasok-dlya-malyshey-v-assortimente',\n '/catalog/knigi/p-4030231-seriya-raskrasok-dlya-malyshey-v-assortimente',\n '/catalog/knigi/p-4030231-seriya-raskrasok-dlya-malyshey-v-assortimente',\n '/catalog/knigi/p-4030231-seriya-raskrasok-dlya-malyshey-v-assortimente',\n '/catalog/knigi/p-4030231-seriya-raskrasok-dlya-malyshey-v-assortimente',\n '/catalog/knigi/p-4030231-seriya-raskrasok-dlya-malyshey-v-assortimente',\n '/catalog/knigi/p-4030231-seriya-raskrasok-dlya-malyshey-v-assortimente',\n '/catalog/knigi/p-4030231-seriya-raskrasok-dlya-malyshey-v-assortimente',\n '/catalog/knigi/p-4030231-seriya-raskrasok-dlya-malyshey-v-assortimente',\n '/catalog/knigi/p-4030231-seriya-raskrasok-dlya-malyshey-v-assortimente',\n '/catalog/knigi/p-4030231-seriya-raskrasok-dlya-malyshey-v-assortimente',\n '/catalog/knigi/p-4030231-seriya-raskrasok-dlya-malyshey-v-assortimente',\n '/catalog/knigi/p-4030231-seriya-raskrasok-dlya-malyshey-v-assortimente',\n '/catalog/knigi/p-4030231-seriya-raskrasok-dlya-malyshey-v-assortimente',\n '/catalog/knigi/p-4000479-seriya-knig-vneklassnoe-chtenie',\n '/catalog/knigi/p-4000479-seriya-knig-vneklassnoe-chtenie',\n '/catalog/knigi/p-4000479-seriya-knig-vneklassnoe-chtenie',\n '/catalog/knigi/p-4000479-seriya-knig-vneklassnoe-chtenie',\n '/catalog/knigi/p-4000479-seriya-knig-vneklassnoe-chtenie',\n '/catalog/knigi/p-4000479-seriya-knig-vneklassnoe-chtenie',\n '/catalog/knigi/p-4000479-seriya-knig-vneklassnoe-chtenie',\n '/catalog/knigi/p-4000479-seriya-knig-vneklassnoe-chtenie',\n '/catalog/knigi/p-4000479-seriya-knig-vneklassnoe-chtenie',\n '/catalog/knigi/p-4000479-seriya-knig-vneklassnoe-chtenie',\n '/catalog/knigi/p-4000479-seriya-knig-vneklassnoe-chtenie',\n '/catalog/knigi/p-4000479-seriya-knig-vneklassnoe-chtenie',\n '/catalog/knigi/p-4000479-seriya-knig-vneklassnoe-chtenie',\n '/catalog/knigi/p-4000479-seriya-knig-vneklassnoe-chtenie',\n '/catalog/knigi/p-4000479-seriya-knig-vneklassnoe-chtenie',\n '/catalog/knigi/p-4000479-seriya-knig-vneklassnoe-chtenie',\n '/catalog/knigi/p-4000479-seriya-knig-vneklassnoe-chtenie',\n '/catalog/knigi/p-4000479-seriya-knig-vneklassnoe-chtenie',\n '/catalog/knigi/p-4000479-seriya-knig-vneklassnoe-chtenie',\n '/catalog/knigi/p-4000479-seriya-knig-vneklassnoe-chtenie',\n '/catalog/knigi/p-4000479-seriya-knig-vneklassnoe-chtenie',\n '/catalog/knigi/p-4000479-seriya-knig-vneklassnoe-chtenie',\n '/catalog/knigi/p-4000479-seriya-knig-vneklassnoe-chtenie',\n '/catalog/knigi/p-4000479-seriya-knig-vneklassnoe-chtenie',\n '/catalog/knigi/p-4000479-seriya-knig-vneklassnoe-chtenie',\n '/catalog/knigi/p-4000479-seriya-knig-vneklassnoe-chtenie',\n '/catalog/knigi/p-4000479-seriya-knig-vneklassnoe-chtenie',\n '/catalog/knigi/p-4000479-seriya-knig-vneklassnoe-chtenie',\n '/catalog/knigi/p-4000437-seriya-detskih-knig-v-assortimente',\n '/catalog/knigi/p-4000437-seriya-detskih-knig-v-assortimente',\n '/catalog/knigi/p-4000437-seriya-detskih-knig-v-assortimente',\n '/catalog/knigi/p-4000437-seriya-detskih-knig-v-assortimente',\n '/catalog/knigi/p-4000437-seriya-detskih-knig-v-assortimente',\n '/catalog/knigi/p-4000437-seriya-detskih-knig-v-assortimente',\n '/catalog/knigi/p-4000437-seriya-detskih-knig-v-assortimente',\n '/catalog/knigi/p-4000437-seriya-detskih-knig-v-assortimente',\n '/catalog/knigi/p-4000437-seriya-detskih-knig-v-assortimente',\n '/catalog/knigi/p-4000437-seriya-detskih-knig-v-assortimente',\n '/catalog/knigi/p-4000437-seriya-detskih-knig-v-assortimente',\n '/catalog/knigi/p-4000437-seriya-detskih-knig-v-assortimente',\n '/catalog/knigi/p-4000437-seriya-detskih-knig-v-assortimente',\n '/catalog/knigi/p-4000437-seriya-detskih-knig-v-assortimente',\n '/catalog/knigi/p-4000437-seriya-detskih-knig-v-assortimente',\n '/catalog/knigi/p-4000437-seriya-detskih-knig-v-assortimente',\n '/catalog/knigi/p-4000437-seriya-detskih-knig-v-assortimente',\n '/catalog/knigi/p-4000437-seriya-detskih-knig-v-assortimente',\n '/catalog/knigi/p-4000437-seriya-detskih-knig-v-assortimente',\n '/catalog/knigi/p-4000437-seriya-detskih-knig-v-assortimente',\n '/catalog/knigi/p-4000437-seriya-detskih-knig-v-assortimente',\n '/catalog/knigi/p-4000437-seriya-detskih-knig-v-assortimente',\n '/catalog/knigi/p-4000437-seriya-detskih-knig-v-assortimente',\n '/catalog/knigi/p-4000437-seriya-detskih-knig-v-assortimente',\n '/catalog/knigi/p-4000437-seriya-detskih-knig-v-assortimente',\n '/catalog/knigi/p-4000437-seriya-detskih-knig-v-assortimente',\n '/catalog/knigi/p-4000544-seriya-raskrasok-s-tsvetnym-konturom',\n '/catalog/knigi/p-4000544-seriya-raskrasok-s-tsvetnym-konturom',\n '/catalog/knigi/p-4000544-seriya-raskrasok-s-tsvetnym-konturom',\n '/catalog/knigi/p-4000544-seriya-raskrasok-s-tsvetnym-konturom',\n '/catalog/knigi/p-4000544-seriya-raskrasok-s-tsvetnym-konturom',\n '/catalog/knigi/p-4000544-seriya-raskrasok-s-tsvetnym-konturom',\n '/catalog/knigi/p-4000544-seriya-raskrasok-s-tsvetnym-konturom',\n '/catalog/knigi/p-4000544-seriya-raskrasok-s-tsvetnym-konturom',\n '/catalog/knigi/p-4000544-seriya-raskrasok-s-tsvetnym-konturom',\n '/catalog/knigi/p-4000544-seriya-raskrasok-s-tsvetnym-konturom',\n '/catalog/knigi/p-4000544-seriya-raskrasok-s-tsvetnym-konturom',\n '/catalog/knigi/p-4000544-seriya-raskrasok-s-tsvetnym-konturom',\n '/catalog/knigi/p-4000544-seriya-raskrasok-s-tsvetnym-konturom',\n '/catalog/knigi/p-4000544-seriya-raskrasok-s-tsvetnym-konturom',\n '/catalog/knigi/p-4000544-seriya-raskrasok-s-tsvetnym-konturom',\n '/catalog/knigi/p-4000528-seriya-knig-manga',\n '/catalog/knigi/p-4000528-seriya-knig-manga',\n '/catalog/knigi/p-4000528-seriya-knig-manga',\n '/catalog/knigi/p-4000528-seriya-knig-manga',\n '/catalog/knigi/p-4000528-seriya-knig-manga',\n '/catalog/knigi/p-4000528-seriya-knig-manga',\n '/catalog/knigi/p-4000528-seriya-knig-manga',\n '/catalog/knigi/p-4000528-seriya-knig-manga',\n '/catalog/knigi/p-4000528-seriya-knig-manga',\n '/catalog/knigi/p-4000528-seriya-knig-manga',\n '/catalog/knigi/p-4000528-seriya-knig-manga',\n '/catalog/knigi/p-4000528-seriya-knig-manga',\n '/catalog/knigi/p-4000528-seriya-knig-manga',\n '/catalog/knigi/p-4000528-seriya-knig-manga',\n '/catalog/knigi/p-4000528-seriya-knig-manga',\n '/catalog/dlya-doma/aksessuary-dlya-odezhdy',\n '/catalog/bytovaya-khimiya/otbelivateli-i-pyatnovyvoditeli',\n '/catalog/seychas-pokupayut',\n '/catalog/aksessuary/organayzery-dlya-kosmetiki',\n '/catalog/igrushki/igry-na-ulitse',\n '/catalog/spets-tsena-po-karte',\n '/catalog/sad-i-ogorod/gorshki-i-kashpo',\n '/catalog/pochti-darom',\n '/catalog/produkty-i-napitki/soki-i-nektary',\n '/catalog/dlya-doma/organizatsiya-khraneniya',\n '/catalog/bytovaya-khimiya/sredstva-dlya-stirki',\n '/catalog/sad-i-ogorod',\n '/catalog/suveniry-i-podarki/vazy-tsvety-floristika',\n '/catalog/dlya-doma/dlya-kukhni',\n '/catalog/vsye-dlya-paskhi',\n '/catalog/suveniry-i-podarki/svechi-diffuzory-podsvechniki',\n '/catalog/kantstovary/tetradi-i-bloknoty',\n '/catalog/aksessuary/aksessuary-dlya-volos',\n '/catalog/produkty-i-napitki/konditerskie-izdeliya',\n '/catalog/dlya-doma',\n '/catalog/suveniry-i-podarki/podarochnaya-upakovka',\n '/catalog/dekor-dlya-doma-tovary-dlya-prazdnika/vse-dlya-vecherinki',\n '/catalog/kosmetika-i-gigiena/gigienicheskie-sredstva',\n '/catalog/krasota-i-zdorove/dlya-volos',\n '/catalog/kosmetika-i-gigiena',\n '/catalog/bytovaya-khimiya',\n 'https://fix-price.com/doc/soglashenie-na-obrabotku-personalnyh-dannyh',\n '/',\n '/about/help',\n '/doc/dogovor-publichnoi-oferty',\n '/doc/usloviya-dostavki',\n '/rules',\n '/booklets',\n '/about',\n '/about/business-ethics',\n '/about/contacts',\n 'https://media.fix-price.com/',\n '/partners',\n '/partners/for-land-lords',\n '/partners/franchising',\n '/about/quality-control',\n '/work/store',\n 'https://ir.fix-price.com/ru/',\n '/good-deeds',\n '/esg',\n 'https://vk.com/fix_price',\n 'https://tgclick.com/fixprice_russia',\n 'https://ok.ru/fixprice',\n 'https://www.youtube.com/user/fixprice36',\n 'https://dzen.ru/fixprice_russia',\n 'https://apps.rustore.ru/app/ru.bestprice.fixprice',\n 'https://play.google.com/store/apps/details?id=ru.bestprice.fixprice&hl=ru&gl=RU',\n 'https://apps.apple.com/ru/app/fix-price-%D0%B4%D0%BE%D1%81%D1%82%D0%B0%D0%B2%D0%BA%D0%B0-%D1%81%D0%B0%D0%BC%D0%BE%D0%B2%D1%8B%D0%B2%D0%BE%D0%B7/id1460007771',\n 'https://appgallery.huawei.com/app/C105661683?sharePrepath=ag&locale=ru_RU&source=appshare&subsource=C105661683&shareTo=com.miui.notes&shareFrom=appmarket',\n '/about/help?feedback=true']"
     },
     "execution_count": 8,
     "metadata": {},
     "output_type": "execute_result"
    }
   ],
   "source": [
    "all_urls"
   ],
   "metadata": {
    "collapsed": false,
    "ExecuteTime": {
     "end_time": "2024-08-26T13:07:37.077497600Z",
     "start_time": "2024-08-26T13:07:37.060497900Z"
    }
   },
   "id": "3d8d218f5e5e2e7f"
  },
  {
   "cell_type": "code",
   "execution_count": 9,
   "outputs": [
    {
     "name": "stderr",
     "output_type": "stream",
     "text": [
      "\u001B[32m2024-08-27 00:37:02.285\u001B[0m | \u001B[1mINFO    \u001B[0m | \u001B[36mmvodolagin_personal_imports\u001B[0m:\u001B[36m<module>\u001B[0m:\u001B[36m122\u001B[0m - \u001B[1mDotenv loading status: True\u001B[0m\n"
     ]
    }
   ],
   "source": [
    "from mvodolagin_personal_imports import *"
   ],
   "metadata": {
    "collapsed": false,
    "ExecuteTime": {
     "end_time": "2024-08-26T21:37:02.290676700Z",
     "start_time": "2024-08-26T21:36:58.337466100Z"
    }
   },
   "id": "25915591ad0a6ab1"
  },
  {
   "cell_type": "code",
   "execution_count": 23,
   "outputs": [],
   "source": [
    "from bs4 import BeautifulSoup, Comment\n",
    "\n",
    "html_dir = r\"C:\\WorkData\\TextTailor\\scraped_data\\fixprice_spider\\raw_data_run0\"\n",
    "\n",
    "all_urls = []\n",
    "not_found = []\n",
    "\n",
    "for html_file in Path(html_dir).glob(\"*.html\"):\n",
    "    with open(html_file, \"r\", encoding=\"utf-8\") as f:\n",
    "        soup = BeautifulSoup(f, \"html.parser\")\n",
    "    meta_url = soup.find('meta', property=\"og:url\")\n",
    "    if meta_url and meta_url.get('content'):\n",
    "        all_urls.append(meta_url['content'])\n",
    "    else:\n",
    "        not_found.append(html_file)\n"
   ],
   "metadata": {
    "collapsed": false,
    "ExecuteTime": {
     "end_time": "2024-08-26T21:44:54.899253100Z",
     "start_time": "2024-08-26T21:42:56.688690500Z"
    }
   },
   "id": "5886bf6434e109da"
  },
  {
   "cell_type": "code",
   "execution_count": 28,
   "outputs": [],
   "source": [
    "already_scraped_fp = Path(r\"C:\\WorkData\\TextTailor\\scraped_data\\fixprice_spider\\already_scraped.json\")\n",
    "\n",
    "with open(already_scraped_fp, \"w\", encoding=\"utf-8\") as f:\n",
    "    json.dump(all_urls, f, ensure_ascii=False, indent=4)\n",
    "    "
   ],
   "metadata": {
    "collapsed": false,
    "ExecuteTime": {
     "end_time": "2024-08-26T21:49:31.642218400Z",
     "start_time": "2024-08-26T21:49:31.622220300Z"
    }
   },
   "id": "714015e8c4276614"
  },
  {
   "cell_type": "code",
   "execution_count": null,
   "outputs": [],
   "source": [],
   "metadata": {
    "collapsed": false
   },
   "id": "30885c33aef131ff"
  },
  {
   "cell_type": "code",
   "execution_count": 24,
   "outputs": [
    {
     "data": {
      "text/plain": "[WindowsPath('C:/WorkData/TextTailor/scraped_data/fixprice_spider/raw_data_run0/item_698.html')]"
     },
     "execution_count": 24,
     "metadata": {},
     "output_type": "execute_result"
    }
   ],
   "source": [
    "not_found"
   ],
   "metadata": {
    "collapsed": false,
    "ExecuteTime": {
     "end_time": "2024-08-26T21:44:54.905251800Z",
     "start_time": "2024-08-26T21:44:54.900254100Z"
    }
   },
   "id": "ec2c9b62c3fdfc1d"
  },
  {
   "cell_type": "code",
   "execution_count": 19,
   "outputs": [],
   "source": [
    "def find_original_url(soup):\n",
    "    urls = []\n",
    "\n",
    "    # Check in meta tags\n",
    "    meta_url = soup.find('meta', property=\"og:url\")\n",
    "    if meta_url and meta_url.get('content'):\n",
    "        urls.append(meta_url['content'])\n",
    "        print(1)\n",
    "\n",
    "    # Check in canonical link\n",
    "    canonical_link = soup.find('link', rel=\"canonical\")\n",
    "    if canonical_link and canonical_link.get('href'):\n",
    "        urls.append(canonical_link['href'])\n",
    "        print(2)\n",
    "\n",
    "    # Check in HTML comments\n",
    "    comments = soup.find_all(string=lambda text: isinstance(text, Comment))\n",
    "    for comment in comments:\n",
    "        if \"URL\" in comment:\n",
    "            urls.append(comment.strip())\n",
    "\n",
    "    # Check in JavaScript\n",
    "    scripts = soup.find_all('script')\n",
    "    for script in scripts:\n",
    "        if script.string and 'url' in script.string.lower():\n",
    "            urls.append(script.string.strip())\n",
    "\n",
    "    return urls"
   ],
   "metadata": {
    "collapsed": false,
    "ExecuteTime": {
     "end_time": "2024-08-26T21:42:02.086004900Z",
     "start_time": "2024-08-26T21:42:02.057002400Z"
    }
   },
   "id": "7cbd0243c6431051"
  },
  {
   "cell_type": "code",
   "execution_count": 20,
   "outputs": [
    {
     "name": "stdout",
     "output_type": "stream",
     "text": [
      "1\n"
     ]
    },
    {
     "data": {
      "text/plain": "'https://fix-price.com/catalog/dlya-doma/p-5012654-lampa-nastolnaya-akkumulyatornaya-s-kabelem---v-assortimente'"
     },
     "execution_count": 20,
     "metadata": {},
     "output_type": "execute_result"
    }
   ],
   "source": [
    "find_original_url(soup)[0]"
   ],
   "metadata": {
    "collapsed": false,
    "ExecuteTime": {
     "end_time": "2024-08-26T21:42:02.580143400Z",
     "start_time": "2024-08-26T21:42:02.568144Z"
    }
   },
   "id": "bec16857268f0fc2"
  },
  {
   "cell_type": "code",
   "execution_count": null,
   "outputs": [],
   "source": [],
   "metadata": {
    "collapsed": false
   },
   "id": "fbee16d05ccada23"
  }
 ],
 "metadata": {
  "kernelspec": {
   "display_name": "Python 3",
   "language": "python",
   "name": "python3"
  },
  "language_info": {
   "codemirror_mode": {
    "name": "ipython",
    "version": 2
   },
   "file_extension": ".py",
   "mimetype": "text/x-python",
   "name": "python",
   "nbconvert_exporter": "python",
   "pygments_lexer": "ipython2",
   "version": "2.7.6"
  }
 },
 "nbformat": 4,
 "nbformat_minor": 5
}
