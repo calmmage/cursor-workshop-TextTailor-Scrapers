{
 "cells": [
  {
   "cell_type": "code",
   "execution_count": 1,
   "id": "initial_id",
   "metadata": {
    "collapsed": true,
    "ExecuteTime": {
     "end_time": "2024-04-18T09:15:58.458395900Z",
     "start_time": "2024-04-18T09:15:47.129787700Z"
    }
   },
   "outputs": [],
   "source": [
    "import pandas as pd\n",
    "from mvodolagin_personal_imports import *\n",
    "\n",
    "load_dotenv()\n",
    "\n",
    "from mvodolagin_personal_imports.langchain_stuff import *"
   ]
  },
  {
   "cell_type": "code",
   "execution_count": 2,
   "outputs": [],
   "source": [
    "scraped_data_dir = Path(\"./root_pages\")\n",
    "scraped_data_dir = Path(scraped_data_dir.absolute())"
   ],
   "metadata": {
    "collapsed": false,
    "ExecuteTime": {
     "end_time": "2024-04-18T09:16:38.123538200Z",
     "start_time": "2024-04-18T09:16:38.107540400Z"
    }
   },
   "id": "7d575e61cea147bb"
  },
  {
   "cell_type": "code",
   "execution_count": 25,
   "outputs": [],
   "source": [
    "all_subdirs = list(scraped_data_dir.iterdir())\n",
    "random.shuffle(all_subdirs)\n",
    "\n",
    "for subdir in all_subdirs:\n",
    "    html_files = list(subdir.glob(\"*.html\"))\n",
    "    if len(html_files) < 10:\n",
    "        continue\n",
    "    break\n"
   ],
   "metadata": {
    "collapsed": false,
    "ExecuteTime": {
     "end_time": "2024-04-18T09:23:01.948233300Z",
     "start_time": "2024-04-18T09:23:01.930203Z"
    }
   },
   "id": "7c3dd1ce656d5340"
  },
  {
   "cell_type": "code",
   "execution_count": 52,
   "outputs": [
    {
     "name": "stdout",
     "output_type": "stream",
     "text": [
      "1385 0 1211 121 38\n"
     ]
    }
   ],
   "source": [
    "from bs4 import BeautifulSoup\n",
    "\n",
    "all_links = []\n",
    "\n",
    "for fp in html_files:\n",
    "    with open(fp, \"r\") as f:\n",
    "        soup = BeautifulSoup(f.read(), \"html5lib\")\n",
    "    links = soup.find_all(\"a\")\n",
    "    links = [link.get(\"href\") for link in links]\n",
    "    links = list(set(links))\n",
    "    all_links.extend(links)\n",
    "\n",
    "root_url = subdir.name\n",
    "\n",
    "unprocessed_links = [link for link in all_links if link]\n",
    "contact_links = [link for link in unprocessed_links if\n",
    "                 any([link.lower().startswith(prefix) for prefix in [\"mailto:\", \"tel:\", \"sms:\", \"whatsapp:\"]])]\n",
    "unprocessed_links = [link for link in unprocessed_links if link not in contact_links]\n",
    "\n",
    "internal_links = [link for link in unprocessed_links if\n",
    "                  (not link.startswith(\"//\") and (link.startswith(\"/\") or root_url in link))]\n",
    "unprocessed_links = [link for link in unprocessed_links if link not in internal_links]\n",
    "\n",
    "external_links = [link for link in unprocessed_links if (link.startswith(\"//\") or link.startswith(\"http\"))]\n",
    "unprocessed_links = [link for link in unprocessed_links if link not in external_links]\n",
    "\n",
    "print(len(all_links), len(contact_links), len(internal_links), len(external_links), len(unprocessed_links))"
   ],
   "metadata": {
    "collapsed": false,
    "ExecuteTime": {
     "end_time": "2024-04-18T10:10:01.537142300Z",
     "start_time": "2024-04-18T10:09:59.678159800Z"
    }
   },
   "id": "b9df4e5f9cc9e4ce"
  },
  {
   "cell_type": "code",
   "execution_count": 53,
   "outputs": [
    {
     "data": {
      "text/plain": "172"
     },
     "execution_count": 53,
     "metadata": {},
     "output_type": "execute_result"
    }
   ],
   "source": [
    "len(set(internal_links))"
   ],
   "metadata": {
    "collapsed": false,
    "ExecuteTime": {
     "end_time": "2024-04-18T10:10:03.618993400Z",
     "start_time": "2024-04-18T10:10:03.599997300Z"
    }
   },
   "id": "96fadb05aca0a6c9"
  },
  {
   "cell_type": "code",
   "execution_count": 56,
   "outputs": [
    {
     "name": "stdout",
     "output_type": "stream",
     "text": [
      "13\n",
      "84 1 87 172\n"
     ]
    }
   ],
   "source": [
    "print(len(html_files))\n",
    "\n",
    "link_counts = Counter(internal_links)\n",
    "\n",
    "threshold = 0.3\n",
    "\n",
    "universal_links = [link for link, count in link_counts.items() if count == len(html_files)]\n",
    "common_links = [link for link, count in link_counts.items() if len(html_files) > count >= threshold * len(html_files)]\n",
    "rare_links = [link for link, count in link_counts.items() if count < threshold * len(html_files)]\n",
    "\n",
    "print(len(universal_links), len(common_links), len(rare_links), len(link_counts))\n",
    "\n",
    "# missing_links = [link for link in internal_links if all([link not in links for links in [universal_links, common_links, rare_links]])]\n",
    "# missing_links"
   ],
   "metadata": {
    "collapsed": false,
    "ExecuteTime": {
     "end_time": "2024-04-18T10:10:32.949309900Z",
     "start_time": "2024-04-18T10:10:32.919314700Z"
    }
   },
   "id": "b638fa5d2acca387"
  },
  {
   "cell_type": "code",
   "execution_count": 59,
   "outputs": [
    {
     "data": {
      "text/plain": "['/collections/queen-beds?page=3',\n '/collections/queen-beds/products/corbin-queen-bed-dresser-with-mirror-nightstand',\n '/collections/queen-beds?page=2',\n '/collections/queen-beds/products/ashley-wynnlow-gray-queen-bed-w-dresser-mirror-b440-grp14320',\n '/collections/queen-beds/products/kate-white-queen-bed-w-dresser-mirror-nightstand',\n '/collections/queen-beds/products/pompei-metallic-grey-queen-bed-and-dresser-with-mirror-nightstand',\n '/collections/queen-beds?page=9',\n '/collections/queen-beds/products/ashley-drystan-queen-bed-with-storage-footboard-b211-54s-57-96',\n '/collections/queen-beds/products/linda-new-merlot-king-bedroom-set',\n '/collections/queen-beds/products/kate-grey-queen-bed-w-dresser-mirror-nightstand',\n '/collections/queen-beds/products/kate-grey-queen-bed-w-dresser-mirror',\n '/collections/queen-beds/products/kate-white-queen-bed-w-dresser-mirror',\n '/collections/queen-beds/products/bevelle-queen-bed-w-dresser-mirror-nightstand',\n '/collections/queen-beds/products/home-elegance-edina-queen-bed-2145-qb',\n '/collections/queen-beds/products/pompei-metallic-white-queen-bed-and-dresser-w-mirror-nightstand',\n '/collections/queen-beds/products/ashley-drystan-multi-twin-bed-w-dresser-mirror-b211-grp15211',\n '/collections/queen-beds/products/ashley-drystan-multi-two-drawer-night-stand-b211-92',\n '/collections/queen-beds/products/ashley-drystan-multi-queen-bed-w-dresser-mirror-b211-grp15212',\n '/collections/queen-beds/products/ashley-wynnlow-gray-queen-bed-w-dresser-mirror-b440-grp14320#content',\n '/collections/queen-beds/products/ashley-drystan-multi-twin-panel-bed-cmpb211-52-53-83',\n '/collections/queen-beds/products/ashley-drystan-multi-queen-bed-with-storage-footboard-w-dresser-mirror-b211-grp15791',\n '/collections/queen-beds/products/drystan-multi-queen-bed-with-storage-footboard-with-dresser-mirror',\n '/collections/queen-beds/products/ashley-drystan-multi-narrow-chest-b211-11',\n '/collections/queen-beds/products/drystan-multi-king-bed-with-dresser-mirror',\n '/collections/queen-beds/products/ashley-drystan-multi-king-bed-w-dresser-mirror-b211-grp15215',\n '/collections/queen-beds/products/drystan-multi-dresser',\n '/collections/queen-beds/products/ashley-drystan-multi-king-bed-w-dresser-mirror-nightstand-b211-grp15216',\n '/collections/queen-beds/products/ashley-drystan-multi-full-panel-bed-w-dresser-mirror-b211-grp17544',\n '/collections/queen-beds/products/ashley-drystan-multi-queen-bed-w-dresser-mirror-nightstand-b211-grp15213',\n '/collections/queen-beds/products/ashley-drystan-multi-five-drawer-chest-b211-46',\n '/collections/queen-beds/products/ashley-drystan-multi-full-bed-with-storage-footboard-w-dresser-mirror-b211-grp15793',\n '/collections/vendors?q=Ashley',\n '/collections/queen-beds/products/drystan-multi-queen-bed-with-dresser-mirror',\n '/collections/queen-beds/products/bevelle-queen-bed-w-dresser-mirror-nightstand#content',\n '/collections/queen-beds/products/ashley-drystan-multi-queen-panel-bed-cmpb211-54-57-96',\n '/collections/queen-beds/products/drystan-multi-full-bed-with-storage-footboard-with-dresser-mirror',\n '/collections/queen-beds/products/ashley-drystan-queen-bed-with-storage-footboard-b211-54s-57-96#content',\n '/collections/queen-beds/products/ashley-wynnlow-gray-king-bed-w-dresser-mirror-b440-grp14322',\n '/collections/queen-beds/products/wynnlow-gray-chest',\n '/collections/queen-beds/products/ash-wynnlow-gray-5-drawer-chest-b440-46',\n '/collections/queen-beds/products/edina-queen-bed-set#content',\n '/collections/queen-beds/products/ash-wynnlow-gray-2-drawer-night-stand-b440-92',\n '/collections/queen-beds/products/wynnlow-gray-nightstand',\n '/collections/queen-beds/products/ashley-wynnlow-gray-king-poster-bed-w-dresser-mirror-b440-grp14326',\n '/collections/queen-beds/products/wynnlow-gray-dresser',\n '/collections/queen-beds/products/ash-wynnlow-gray-dresser-b440-31',\n '/collections/queen-beds/products/ashley-wynnlow-gray-king-crossbuck-bed-w-dresser-mirror-b440-grp14975',\n '/collections/queen-beds/products/ashley-wynnlow-gray-queen-crossbuck-bed-w-dresser-mirror-b440-grp14974',\n '/collections/queen-beds/products/ashley-wynnlow-gray-queen-bed-w-dresser-mirror-nightstand-b440-grp14321',\n '/collections/queen-beds/products/ashley-wynnlow-gray-king-bed-w-dresser-mirror-nightstand-b440-grp14323',\n '/collections/queen-beds/products/ashley-wynnlow-gray-king-poster-bed-w-dresser-mirror-nightstand-b440-grp14327',\n '/collections/queen-beds/products/edina-dresser',\n '/collections/queen-beds/products/corbin-queen-bed-dresser-with-mirror-nightstand#content',\n '/collections/queen-beds/products/kate-white-queen-bed-w-dresser-mirror#content',\n '/collections/vendors?q=Home%20Elegance',\n '/collections/queen-beds/products/kate-white-nightstand',\n '/collections/queen-beds/products/kate-grey-queen-bed-w-dresser-mirror#content',\n '/collections/queen-beds/products/kate-nightstand',\n '/collections/queen-beds/products/kate-white-king-bed-w-dresser-mirror-nightstand',\n '/collections/queen-beds/products/kate-white-queen-bed-w-dresser-mirror-nightstand#content',\n '/collections/queen-beds/products/kate-white-dresser-only',\n '/collections/queen-beds/products/kate-white-chest',\n '/collections/queen-beds/products/kate-white-king-bed-w-dresser-mirror',\n '/collections/queen-beds/products/kate-white-dresser-with-mirror-1',\n '/collections/queen-beds/products/glo-kate-grey-chest-kate-gr-ch',\n '/collections/queen-beds/products/kate-grey-king-bed-w-dresser-mirror',\n '/collections/queen-beds/products/glo-kate-grey-dresser-kate-gr-d',\n '/collections/queen-beds/products/kate-grey-king-bed-w-dresser-mirror-nightstand',\n '/collections/queen-beds/products/kate-dresser-with-mirror',\n '/collections/queen-beds/products/glo-kate-grey-full-bed-kate-gr-fb-cmp',\n '/collections/queen-beds/products/home-elegance-edina-queen-bed-2145-qb#content',\n '/collections/queen-beds/products/linda-new-merlot-king-bedroom-set#content',\n '/collections/queen-beds/products/global-furniture-linda-new-merlot-dresser-and-mirror-linda-d-m-cmp',\n '/collections/queen-beds/products/global-furniture-linda-new-merlot-nightstand-linda-nm-ns',\n '/collections/queen-beds/products/global-furniture-linda-new-merlot-king-storage-bed-linda-ksb-cmp',\n '/collections/queen-beds/products/global-furniture-linda-new-merlot-queen-storage-bed-linda-qsb-cmp',\n '/collections/queen-beds/products/pompei-metallic-grey-queen-bed-and-dresser-with-mirror-nightstand#content',\n '/collections/queen-beds/products/global-furniture-linda-new-merlot-full-storage-bed-linda-fsb-cmp',\n '/collections/queen-beds/products/global-furniture-linda-new-merlot-chest-linda-nm-ch',\n '/collections/sofa-sleepers/products/alfa-biscotto-sofabed-twin',\n '/collections/sofa-sleepers/products/alfa-biscotto-sofabed-queen',\n '/collections/sofa-sleepers/products/meggett-nutical-sleeper',\n '/collections/sofa-sleepers/products/alfa-biscotto-sofabed-full',\n '/collections/vendors?q=Nicoletti%20Home',\n '/collections/sofa-sleepers/products/alfa-biscotto-sofabed-twin#content',\n '/collections/sofa-sleepers/products/meggett-nutical-sleeper#content',\n '/collections/sofa-sleepers/products/alfa-biscotto-sofabed-queen#content']"
     },
     "execution_count": 59,
     "metadata": {},
     "output_type": "execute_result"
    }
   ],
   "source": [
    "rare_links"
   ],
   "metadata": {
    "collapsed": false,
    "ExecuteTime": {
     "end_time": "2024-04-18T10:10:54.573913Z",
     "start_time": "2024-04-18T10:10:54.549780900Z"
    }
   },
   "id": "6c38f4643d97a591"
  },
  {
   "cell_type": "code",
   "execution_count": 61,
   "outputs": [
    {
     "data": {
      "text/plain": "{'category': '/collections/[a-z0-9-]+',\n 'item': '/collections/[a-z-]+/products/[a-z-]+'}"
     },
     "execution_count": 61,
     "metadata": {},
     "output_type": "execute_result"
    }
   ],
   "source": [],
   "metadata": {
    "collapsed": false,
    "ExecuteTime": {
     "end_time": "2024-04-18T10:11:35.301228Z",
     "start_time": "2024-04-18T10:11:35.265676100Z"
    }
   },
   "id": "3520356e0901970"
  },
  {
   "cell_type": "code",
   "execution_count": 69,
   "outputs": [],
   "source": [
    "\n"
   ],
   "metadata": {
    "collapsed": false,
    "ExecuteTime": {
     "end_time": "2024-04-18T10:16:19.829882600Z",
     "start_time": "2024-04-18T10:16:19.789325500Z"
    }
   },
   "id": "42a439af16add4e5"
  },
  {
   "cell_type": "code",
   "execution_count": 70,
   "outputs": [
    {
     "data": {
      "text/plain": "           both  category  item  miss  total\nuniversal     0        64     0    20     84\ncommon        0         1     0     0      1\nrare         81         6     0     0     87",
      "text/html": "<div>\n<style scoped>\n    .dataframe tbody tr th:only-of-type {\n        vertical-align: middle;\n    }\n\n    .dataframe tbody tr th {\n        vertical-align: top;\n    }\n\n    .dataframe thead th {\n        text-align: right;\n    }\n</style>\n<table border=\"1\" class=\"dataframe\">\n  <thead>\n    <tr style=\"text-align: right;\">\n      <th></th>\n      <th>both</th>\n      <th>category</th>\n      <th>item</th>\n      <th>miss</th>\n      <th>total</th>\n    </tr>\n  </thead>\n  <tbody>\n    <tr>\n      <th>universal</th>\n      <td>0</td>\n      <td>64</td>\n      <td>0</td>\n      <td>20</td>\n      <td>84</td>\n    </tr>\n    <tr>\n      <th>common</th>\n      <td>0</td>\n      <td>1</td>\n      <td>0</td>\n      <td>0</td>\n      <td>1</td>\n    </tr>\n    <tr>\n      <th>rare</th>\n      <td>81</td>\n      <td>6</td>\n      <td>0</td>\n      <td>0</td>\n      <td>87</td>\n    </tr>\n  </tbody>\n</table>\n</div>"
     },
     "execution_count": 70,
     "metadata": {},
     "output_type": "execute_result"
    }
   ],
   "source": [
    "counts"
   ],
   "metadata": {
    "collapsed": false,
    "ExecuteTime": {
     "end_time": "2024-04-18T10:16:20.310577400Z",
     "start_time": "2024-04-18T10:16:20.253580400Z"
    }
   },
   "id": "342c7e4770d6fa2e"
  },
  {
   "cell_type": "code",
   "execution_count": 145,
   "outputs": [],
   "source": [
    "from bs4 import BeautifulSoup\n",
    "from loguru import logger\n",
    "\n",
    "\n",
    "def get_count(link_collection, patterns):\n",
    "    both_patterns = [link for link in link_collection if all([re.match(pat, link) for pat in patterns.values()])]\n",
    "    category_patterns = [link for link in link_collection if re.match(patterns[\"category\"], link)]\n",
    "    category_patterns = [link for link in category_patterns if link not in both_patterns]\n",
    "    item_patterns = [link for link in link_collection if re.match(patterns[\"item\"], link)]\n",
    "    item_patterns = [link for link in item_patterns if link not in both_patterns]\n",
    "\n",
    "    counts = {\n",
    "        \"both\": len(both_patterns),\n",
    "        \"category\": len(category_patterns),\n",
    "        \"item\": len(item_patterns),\n",
    "        \"miss\": len(link_collection) - len(both_patterns) - len(category_patterns) - len(item_patterns),\n",
    "        \"total\": len(link_collection),\n",
    "    }\n",
    "    return counts\n",
    "\n",
    "\n",
    "def check_regexp_match(subdir, patterns=None):\n",
    "    html_files = list(subdir.glob(\"*.html\"))\n",
    "    if len(html_files) < 10:\n",
    "        return None\n",
    "\n",
    "    # region Extracting links\n",
    "\n",
    "    all_links = []\n",
    "\n",
    "    for fp in html_files:\n",
    "        with open(fp, \"r\", encoding=\"utf-8\") as f:\n",
    "            soup = BeautifulSoup(f.read(), \"html5lib\")\n",
    "        links = soup.find_all(\"a\")\n",
    "        links = [link.get(\"href\") for link in links]\n",
    "        links = list(set(links))\n",
    "        all_links.extend(links)\n",
    "\n",
    "    root_url = subdir.name\n",
    "    logger.debug(f\"Root URL: {root_url}\")\n",
    "\n",
    "    unprocessed_links = [link for link in all_links if link]\n",
    "    contact_links = [\n",
    "        link\n",
    "        for link in unprocessed_links\n",
    "        if any([link.lower().startswith(prefix) for prefix in [\"mailto:\", \"tel:\", \"sms:\", \"whatsapp:\"]])\n",
    "    ]\n",
    "    unprocessed_links = [link for link in unprocessed_links if link not in contact_links]\n",
    "\n",
    "    internal_links = [\n",
    "        link for link in unprocessed_links if (not link.startswith(\"//\") and (link.startswith(\"/\") or root_url in link))\n",
    "    ]\n",
    "    unprocessed_links = [link for link in unprocessed_links if link not in internal_links]\n",
    "\n",
    "    external_links = [link for link in unprocessed_links if (link.startswith(\"//\") or link.startswith(\"http\"))]\n",
    "    unprocessed_links = [link for link in unprocessed_links if link not in external_links]\n",
    "\n",
    "    logger.debug(\n",
    "        f\"Links: {len(all_links)}, Contacts: {len(contact_links)}, Internals: {len(internal_links)}, Externals: {len(external_links)}, Unprocessed: {len(unprocessed_links)}\"\n",
    "    )\n",
    "\n",
    "    # endregion\n",
    "\n",
    "    # region Splitting links\n",
    "\n",
    "    link_counts = Counter(internal_links)\n",
    "\n",
    "    threshold = 0.3\n",
    "\n",
    "    universal_links = [link for link, count in link_counts.items() if count == len(html_files)]\n",
    "    common_links = [\n",
    "        link for link, count in link_counts.items() if len(html_files) > count >= threshold * len(html_files)\n",
    "    ]\n",
    "    rare_links = [link for link, count in link_counts.items() if count < threshold * len(html_files)]\n",
    "\n",
    "    # print(len(link_counts), len(universal_links), len(common_links), len(rare_links), len(link_counts))\n",
    "    # to logger\n",
    "    logger.debug(\n",
    "        f\"Total links: {len(link_counts)}, Universal: {len(universal_links)}, Common: {len(common_links)}, Rare: {len(rare_links)}\"\n",
    "    )\n",
    "\n",
    "    # endregion\n",
    "\n",
    "    # region Checking patterns\n",
    "\n",
    "    if not patterns:\n",
    "        patterns = json.load((subdir / \"patterns.json\").open(\"r\", encoding=\"utf-8\"))\n",
    "    logger.debug(f\"Base patterns: {patterns}\")\n",
    "\n",
    "    counts = {\n",
    "        \"universal\": get_count(universal_links, patterns),\n",
    "        \"common\": get_count(common_links, patterns),\n",
    "        \"rare\": get_count(rare_links, patterns),\n",
    "    }\n",
    "    counts = pd.DataFrame(counts).T\n",
    "\n",
    "    # endregion\n",
    "\n",
    "    return counts, patterns\n"
   ],
   "metadata": {
    "collapsed": false,
    "ExecuteTime": {
     "end_time": "2024-04-19T13:01:16.780018100Z",
     "start_time": "2024-04-19T13:01:15.862770900Z"
    }
   },
   "id": "5abf4a4c07419202"
  },
  {
   "cell_type": "code",
   "execution_count": 109,
   "outputs": [],
   "source": [
    "def get_links(subdir):\n",
    "    html_files = list(subdir.glob(\"*.html\"))\n",
    "    if len(html_files) < 10:\n",
    "        return None\n",
    "\n",
    "    # region Extracting links\n",
    "\n",
    "    all_links = []\n",
    "\n",
    "    for fp in html_files:\n",
    "        with open(fp, \"r\", encoding=\"utf-8\") as f:\n",
    "            soup = BeautifulSoup(f.read(), \"html5lib\")\n",
    "        links = soup.find_all(\"a\")\n",
    "        links = [link.get(\"href\") for link in links]\n",
    "        links = list(set(links))\n",
    "        all_links.extend(links)\n",
    "\n",
    "    root_url = subdir.name\n",
    "    logger.debug(f\"Root URL: {root_url}\")\n",
    "\n",
    "    unprocessed_links = [link for link in all_links if link]\n",
    "    contact_links = [\n",
    "        link\n",
    "        for link in unprocessed_links\n",
    "        if any([link.lower().startswith(prefix) for prefix in [\"mailto:\", \"tel:\", \"sms:\", \"whatsapp:\"]])\n",
    "    ]\n",
    "    unprocessed_links = [link for link in unprocessed_links if link not in contact_links]\n",
    "\n",
    "    internal_links = [\n",
    "        link for link in unprocessed_links if (not link.startswith(\"//\") and (link.startswith(\"/\") or root_url in link))\n",
    "    ]\n",
    "    unprocessed_links = [link for link in unprocessed_links if link not in internal_links]\n",
    "\n",
    "    external_links = [link for link in unprocessed_links if (link.startswith(\"//\") or link.startswith(\"http\"))]\n",
    "    unprocessed_links = [link for link in unprocessed_links if link not in external_links]\n",
    "\n",
    "    logger.debug(\n",
    "        f\"Links: {len(all_links)}, Contacts: {len(contact_links)}, Internals: {len(internal_links)}, Externals: {len(external_links)}, Unprocessed: {len(unprocessed_links)}\"\n",
    "    )\n",
    "\n",
    "    # endregion\n",
    "\n",
    "    # region Splitting links\n",
    "\n",
    "    link_counts = Counter(internal_links)\n",
    "\n",
    "    threshold = 0.3\n",
    "\n",
    "    universal_links = [link for link, count in link_counts.items() if count == len(html_files)]\n",
    "    common_links = [\n",
    "        link for link, count in link_counts.items() if len(html_files) > count >= threshold * len(html_files)\n",
    "    ]\n",
    "    rare_links = [link for link, count in link_counts.items() if count < threshold * len(html_files)]\n",
    "\n",
    "    # print(len(link_counts), len(universal_links), len(common_links), len(rare_links), len(link_counts))\n",
    "    # to logger\n",
    "    logger.debug(\n",
    "        f\"Total links: {len(link_counts)}, Universal: {len(universal_links)}, Common: {len(common_links)}, Rare: {len(rare_links)}\"\n",
    "    )\n",
    "\n",
    "    # endregion\n",
    "\n",
    "    return {\n",
    "        \"universal\": universal_links,\n",
    "        \"common\": common_links,\n",
    "        \"rare\": rare_links,\n",
    "        \"contact\": contact_links,\n",
    "    }"
   ],
   "metadata": {
    "collapsed": false,
    "ExecuteTime": {
     "end_time": "2024-04-18T15:15:28.653443400Z",
     "start_time": "2024-04-18T15:15:28.617441100Z"
    }
   },
   "id": "1945e48914ff3739"
  },
  {
   "cell_type": "code",
   "execution_count": null,
   "outputs": [],
   "source": [],
   "metadata": {
    "collapsed": false
   },
   "id": "a960b273f4c9ca88"
  },
  {
   "cell_type": "code",
   "execution_count": null,
   "outputs": [],
   "source": [],
   "metadata": {
    "collapsed": false
   },
   "id": "25866d5c8298533c"
  },
  {
   "cell_type": "code",
   "execution_count": 79,
   "outputs": [
    {
     "data": {
      "text/plain": "  0%|          | 0/377 [00:00<?, ?it/s]",
      "application/vnd.jupyter.widget-view+json": {
       "version_major": 2,
       "version_minor": 0,
       "model_id": "c5524b87ef7542998284cd7f30a87cc7"
      }
     },
     "metadata": {},
     "output_type": "display_data"
    },
    {
     "name": "stderr",
     "output_type": "stream",
     "text": [
      "\u001B[32m2024-04-18 17:59:10.445\u001B[0m | \u001B[34m\u001B[1mDEBUG   \u001B[0m | \u001B[36m__main__\u001B[0m:\u001B[36mcheck_regexp_match\u001B[0m:\u001B[36m40\u001B[0m - \u001B[34m\u001B[1mRoot URL: failed\u001B[0m\n",
      "\u001B[32m2024-04-18 17:59:10.468\u001B[0m | \u001B[34m\u001B[1mDEBUG   \u001B[0m | \u001B[36m__main__\u001B[0m:\u001B[36mcheck_regexp_match\u001B[0m:\u001B[36m58\u001B[0m - \u001B[34m\u001B[1mLinks: 195, Contacts: 2, Internals: 13, Externals: 178, Unprocessed: 2\u001B[0m\n",
      "\u001B[32m2024-04-18 17:59:10.469\u001B[0m | \u001B[34m\u001B[1mDEBUG   \u001B[0m | \u001B[36m__main__\u001B[0m:\u001B[36mcheck_regexp_match\u001B[0m:\u001B[36m78\u001B[0m - \u001B[34m\u001B[1mTotal links: 13, Universal: 0, Common: 0, Rare: 13\u001B[0m\n",
      "\u001B[32m2024-04-18 17:59:10.472\u001B[0m | \u001B[31m\u001B[1mERROR   \u001B[0m | \u001B[36m__main__\u001B[0m:\u001B[36m<module>\u001B[0m:\u001B[36m10\u001B[0m - \u001B[31m\u001B[1mError in failed: [Errno 2] No such file or directory: 'E:\\\\Work\\\\Personal\\\\repos\\\\web_scrapers\\\\spiders\\\\texttailor\\\\texttailor\\\\notebooks\\\\root_pages\\\\failed\\\\patterns.json'\u001B[0m\n",
      "\u001B[32m2024-04-18 17:59:20.270\u001B[0m | \u001B[34m\u001B[1mDEBUG   \u001B[0m | \u001B[36m__main__\u001B[0m:\u001B[36mcheck_regexp_match\u001B[0m:\u001B[36m40\u001B[0m - \u001B[34m\u001B[1mRoot URL: www.teppermans.com\u001B[0m\n",
      "\u001B[32m2024-04-18 17:59:20.320\u001B[0m | \u001B[34m\u001B[1mDEBUG   \u001B[0m | \u001B[36m__main__\u001B[0m:\u001B[36mcheck_regexp_match\u001B[0m:\u001B[36m58\u001B[0m - \u001B[34m\u001B[1mLinks: 5883, Contacts: 10, Internals: 5490, Externals: 312, Unprocessed: 58\u001B[0m\n",
      "\u001B[32m2024-04-18 17:59:20.321\u001B[0m | \u001B[34m\u001B[1mDEBUG   \u001B[0m | \u001B[36m__main__\u001B[0m:\u001B[36mcheck_regexp_match\u001B[0m:\u001B[36m78\u001B[0m - \u001B[34m\u001B[1mTotal links: 641, Universal: 402, Common: 3, Rare: 236\u001B[0m\n",
      "\u001B[32m2024-04-18 17:59:20.323\u001B[0m | \u001B[34m\u001B[1mDEBUG   \u001B[0m | \u001B[36m__main__\u001B[0m:\u001B[36mcheck_regexp_match\u001B[0m:\u001B[36m87\u001B[0m - \u001B[34m\u001B[1mBase patterns: {'category': '/(outlet|furniture|electronics|appliances|bedding)/', 'item': '/[\\\\w-]+(?:-[\\\\w]+)+$'}\u001B[0m\n",
      "\u001B[32m2024-04-18 17:59:23.888\u001B[0m | \u001B[34m\u001B[1mDEBUG   \u001B[0m | \u001B[36m__main__\u001B[0m:\u001B[36mcheck_regexp_match\u001B[0m:\u001B[36m40\u001B[0m - \u001B[34m\u001B[1mRoot URL: www.schewelshome.com\u001B[0m\n",
      "\u001B[32m2024-04-18 17:59:23.905\u001B[0m | \u001B[34m\u001B[1mDEBUG   \u001B[0m | \u001B[36m__main__\u001B[0m:\u001B[36mcheck_regexp_match\u001B[0m:\u001B[36m58\u001B[0m - \u001B[34m\u001B[1mLinks: 2860, Contacts: 1, Internals: 2626, Externals: 131, Unprocessed: 89\u001B[0m\n",
      "\u001B[32m2024-04-18 17:59:23.906\u001B[0m | \u001B[34m\u001B[1mDEBUG   \u001B[0m | \u001B[36m__main__\u001B[0m:\u001B[36mcheck_regexp_match\u001B[0m:\u001B[36m78\u001B[0m - \u001B[34m\u001B[1mTotal links: 395, Universal: 116, Common: 76, Rare: 203\u001B[0m\n",
      "\u001B[32m2024-04-18 17:59:23.907\u001B[0m | \u001B[34m\u001B[1mDEBUG   \u001B[0m | \u001B[36m__main__\u001B[0m:\u001B[36mcheck_regexp_match\u001B[0m:\u001B[36m87\u001B[0m - \u001B[34m\u001B[1mBase patterns: {'category': '/browse/|/brand/|/stores/|/[a-z\\\\-]+/$|/item/|/[a-z]+\\\\.aspx$', 'item': '/item/[\\\\w-]+/\\\\d+'}\u001B[0m\n",
      "\u001B[32m2024-04-18 17:59:26.382\u001B[0m | \u001B[34m\u001B[1mDEBUG   \u001B[0m | \u001B[36m__main__\u001B[0m:\u001B[36mcheck_regexp_match\u001B[0m:\u001B[36m40\u001B[0m - \u001B[34m\u001B[1mRoot URL: www.fortunoffbys.com\u001B[0m\n",
      "\u001B[32m2024-04-18 17:59:26.393\u001B[0m | \u001B[34m\u001B[1mDEBUG   \u001B[0m | \u001B[36m__main__\u001B[0m:\u001B[36mcheck_regexp_match\u001B[0m:\u001B[36m58\u001B[0m - \u001B[34m\u001B[1mLinks: 1834, Contacts: 13, Internals: 1439, Externals: 322, Unprocessed: 47\u001B[0m\n",
      "\u001B[32m2024-04-18 17:59:26.395\u001B[0m | \u001B[34m\u001B[1mDEBUG   \u001B[0m | \u001B[36m__main__\u001B[0m:\u001B[36mcheck_regexp_match\u001B[0m:\u001B[36m78\u001B[0m - \u001B[34m\u001B[1mTotal links: 310, Universal: 93, Common: 2, Rare: 215\u001B[0m\n",
      "\u001B[32m2024-04-18 17:59:26.397\u001B[0m | \u001B[34m\u001B[1mDEBUG   \u001B[0m | \u001B[36m__main__\u001B[0m:\u001B[36mcheck_regexp_match\u001B[0m:\u001B[36m87\u001B[0m - \u001B[34m\u001B[1mBase patterns: {'category': '/outdoor-furniture/[^/]+(/\\\\?Product\\\\+Type=.*|/|$)', 'item': '/outdoor-furniture/[a-z-]*/\\\\?Product\\\\+Type(=|(%5B%5D=)).*'}\u001B[0m\n",
      "\u001B[32m2024-04-18 17:59:29.320\u001B[0m | \u001B[34m\u001B[1mDEBUG   \u001B[0m | \u001B[36m__main__\u001B[0m:\u001B[36mcheck_regexp_match\u001B[0m:\u001B[36m40\u001B[0m - \u001B[34m\u001B[1mRoot URL: www.turnerfurnitureinc.com\u001B[0m\n",
      "\u001B[32m2024-04-18 17:59:29.324\u001B[0m | \u001B[34m\u001B[1mDEBUG   \u001B[0m | \u001B[36m__main__\u001B[0m:\u001B[36mcheck_regexp_match\u001B[0m:\u001B[36m58\u001B[0m - \u001B[34m\u001B[1mLinks: 1244, Contacts: 0, Internals: 1144, Externals: 64, Unprocessed: 36\u001B[0m\n",
      "\u001B[32m2024-04-18 17:59:29.325\u001B[0m | \u001B[34m\u001B[1mDEBUG   \u001B[0m | \u001B[36m__main__\u001B[0m:\u001B[36mcheck_regexp_match\u001B[0m:\u001B[36m78\u001B[0m - \u001B[34m\u001B[1mTotal links: 153, Universal: 89, Common: 2, Rare: 62\u001B[0m\n",
      "\u001B[32m2024-04-18 17:59:29.327\u001B[0m | \u001B[34m\u001B[1mDEBUG   \u001B[0m | \u001B[36m__main__\u001B[0m:\u001B[36mcheck_regexp_match\u001B[0m:\u001B[36m87\u001B[0m - \u001B[34m\u001B[1mBase patterns: {'category': '/collections/[\\\\w%-]+|/products/[\\\\w%-]+', 'item': '/collections/[^/]+/products/[^/]+'}\u001B[0m\n",
      "\u001B[32m2024-04-18 17:59:31.716\u001B[0m | \u001B[34m\u001B[1mDEBUG   \u001B[0m | \u001B[36m__main__\u001B[0m:\u001B[36mcheck_regexp_match\u001B[0m:\u001B[36m40\u001B[0m - \u001B[34m\u001B[1mRoot URL: www.regencyfurniture.com\u001B[0m\n",
      "\u001B[32m2024-04-18 17:59:31.721\u001B[0m | \u001B[34m\u001B[1mDEBUG   \u001B[0m | \u001B[36m__main__\u001B[0m:\u001B[36mcheck_regexp_match\u001B[0m:\u001B[36m58\u001B[0m - \u001B[34m\u001B[1mLinks: 1299, Contacts: 36, Internals: 1149, Externals: 78, Unprocessed: 36\u001B[0m\n",
      "\u001B[32m2024-04-18 17:59:31.722\u001B[0m | \u001B[34m\u001B[1mDEBUG   \u001B[0m | \u001B[36m__main__\u001B[0m:\u001B[36mcheck_regexp_match\u001B[0m:\u001B[36m78\u001B[0m - \u001B[34m\u001B[1mTotal links: 142, Universal: 83, Common: 1, Rare: 58\u001B[0m\n",
      "\u001B[32m2024-04-18 17:59:31.724\u001B[0m | \u001B[34m\u001B[1mDEBUG   \u001B[0m | \u001B[36m__main__\u001B[0m:\u001B[36mcheck_regexp_match\u001B[0m:\u001B[36m87\u001B[0m - \u001B[34m\u001B[1mBase patterns: {'category': '/collections/[^/]+|/pages/[^/]+/?$', 'item': '/products/[a-z0-9-]+'}\u001B[0m\n",
      "\u001B[32m2024-04-18 17:59:32.194\u001B[0m | \u001B[34m\u001B[1mDEBUG   \u001B[0m | \u001B[36m__main__\u001B[0m:\u001B[36mcheck_regexp_match\u001B[0m:\u001B[36m40\u001B[0m - \u001B[34m\u001B[1mRoot URL: ahfshop.com\u001B[0m\n",
      "\u001B[32m2024-04-18 17:59:32.196\u001B[0m | \u001B[34m\u001B[1mDEBUG   \u001B[0m | \u001B[36m__main__\u001B[0m:\u001B[36mcheck_regexp_match\u001B[0m:\u001B[36m58\u001B[0m - \u001B[34m\u001B[1mLinks: 193, Contacts: 20, Internals: 164, Externals: 0, Unprocessed: 9\u001B[0m\n",
      "\u001B[32m2024-04-18 17:59:32.196\u001B[0m | \u001B[34m\u001B[1mDEBUG   \u001B[0m | \u001B[36m__main__\u001B[0m:\u001B[36mcheck_regexp_match\u001B[0m:\u001B[36m78\u001B[0m - \u001B[34m\u001B[1mTotal links: 56, Universal: 12, Common: 0, Rare: 44\u001B[0m\n",
      "\u001B[32m2024-04-18 17:59:32.198\u001B[0m | \u001B[34m\u001B[1mDEBUG   \u001B[0m | \u001B[36m__main__\u001B[0m:\u001B[36mcheck_regexp_match\u001B[0m:\u001B[36m87\u001B[0m - \u001B[34m\u001B[1mBase patterns: {'category': '/collections/|/products/', 'item': '/collections/[a-z-]+/products/[a-z-]+'}\u001B[0m\n",
      "\u001B[32m2024-04-18 17:59:33.531\u001B[0m | \u001B[34m\u001B[1mDEBUG   \u001B[0m | \u001B[36m__main__\u001B[0m:\u001B[36mcheck_regexp_match\u001B[0m:\u001B[36m40\u001B[0m - \u001B[34m\u001B[1mRoot URL: www.softsurroundings.com\u001B[0m\n",
      "\u001B[32m2024-04-18 17:59:33.573\u001B[0m | \u001B[34m\u001B[1mDEBUG   \u001B[0m | \u001B[36m__main__\u001B[0m:\u001B[36mcheck_regexp_match\u001B[0m:\u001B[36m58\u001B[0m - \u001B[34m\u001B[1mLinks: 3926, Contacts: 0, Internals: 3013, Externals: 142, Unprocessed: 758\u001B[0m\n",
      "\u001B[32m2024-04-18 17:59:33.574\u001B[0m | \u001B[34m\u001B[1mDEBUG   \u001B[0m | \u001B[36m__main__\u001B[0m:\u001B[36mcheck_regexp_match\u001B[0m:\u001B[36m78\u001B[0m - \u001B[34m\u001B[1mTotal links: 383, Universal: 219, Common: 0, Rare: 164\u001B[0m\n",
      "\u001B[32m2024-04-18 17:59:33.575\u001B[0m | \u001B[34m\u001B[1mDEBUG   \u001B[0m | \u001B[36m__main__\u001B[0m:\u001B[36mcheck_regexp_match\u001B[0m:\u001B[36m87\u001B[0m - \u001B[34m\u001B[1mBase patterns: {'category': '/(clothing|sale|new|accessories|home-wellness)/[^/]+/[^/]+/?$', 'item': '/p/[a-z-]+(/\\\\d+)?(/#page)?'}\u001B[0m\n",
      "\u001B[32m2024-04-18 17:59:34.810\u001B[0m | \u001B[34m\u001B[1mDEBUG   \u001B[0m | \u001B[36m__main__\u001B[0m:\u001B[36mcheck_regexp_match\u001B[0m:\u001B[36m40\u001B[0m - \u001B[34m\u001B[1mRoot URL: kdrshowrooms.com\u001B[0m\n",
      "\u001B[32m2024-04-18 17:59:34.818\u001B[0m | \u001B[34m\u001B[1mDEBUG   \u001B[0m | \u001B[36m__main__\u001B[0m:\u001B[36mcheck_regexp_match\u001B[0m:\u001B[36m58\u001B[0m - \u001B[34m\u001B[1mLinks: 1260, Contacts: 0, Internals: 788, Externals: 407, Unprocessed: 65\u001B[0m\n",
      "\u001B[32m2024-04-18 17:59:34.819\u001B[0m | \u001B[34m\u001B[1mDEBUG   \u001B[0m | \u001B[36m__main__\u001B[0m:\u001B[36mcheck_regexp_match\u001B[0m:\u001B[36m78\u001B[0m - \u001B[34m\u001B[1mTotal links: 147, Universal: 34, Common: 1, Rare: 112\u001B[0m\n",
      "\u001B[32m2024-04-18 17:59:34.820\u001B[0m | \u001B[34m\u001B[1mDEBUG   \u001B[0m | \u001B[36m__main__\u001B[0m:\u001B[36mcheck_regexp_match\u001B[0m:\u001B[36m87\u001B[0m - \u001B[34m\u001B[1mBase patterns: {'category': '/products/\\\\?', 'item': '/products/[a-z-]+'}\u001B[0m\n",
      "\u001B[32m2024-04-18 17:59:37.627\u001B[0m | \u001B[34m\u001B[1mDEBUG   \u001B[0m | \u001B[36m__main__\u001B[0m:\u001B[36mcheck_regexp_match\u001B[0m:\u001B[36m40\u001B[0m - \u001B[34m\u001B[1mRoot URL: www.oakandsofaliquidators.com\u001B[0m\n",
      "\u001B[32m2024-04-18 17:59:37.631\u001B[0m | \u001B[34m\u001B[1mDEBUG   \u001B[0m | \u001B[36m__main__\u001B[0m:\u001B[36mcheck_regexp_match\u001B[0m:\u001B[36m58\u001B[0m - \u001B[34m\u001B[1mLinks: 711, Contacts: 12, Internals: 509, Externals: 166, Unprocessed: 24\u001B[0m\n",
      "\u001B[32m2024-04-18 17:59:37.632\u001B[0m | \u001B[34m\u001B[1mDEBUG   \u001B[0m | \u001B[36m__main__\u001B[0m:\u001B[36mcheck_regexp_match\u001B[0m:\u001B[36m78\u001B[0m - \u001B[34m\u001B[1mTotal links: 164, Universal: 29, Common: 2, Rare: 133\u001B[0m\n",
      "\u001B[32m2024-04-18 17:59:37.633\u001B[0m | \u001B[34m\u001B[1mDEBUG   \u001B[0m | \u001B[36m__main__\u001B[0m:\u001B[36mcheck_regexp_match\u001B[0m:\u001B[36m87\u001B[0m - \u001B[34m\u001B[1mBase patterns: {'category': '/collections/[^/]+$', 'item': '/(collections/[a-z-]+/products|products)/[a-z0-9-]+'}\u001B[0m\n",
      "\u001B[32m2024-04-18 17:59:39.874\u001B[0m | \u001B[34m\u001B[1mDEBUG   \u001B[0m | \u001B[36m__main__\u001B[0m:\u001B[36mcheck_regexp_match\u001B[0m:\u001B[36m40\u001B[0m - \u001B[34m\u001B[1mRoot URL: lavishfurnitureoutlet.com\u001B[0m\n",
      "\u001B[32m2024-04-18 17:59:39.877\u001B[0m | \u001B[34m\u001B[1mDEBUG   \u001B[0m | \u001B[36m__main__\u001B[0m:\u001B[36mcheck_regexp_match\u001B[0m:\u001B[36m58\u001B[0m - \u001B[34m\u001B[1mLinks: 513, Contacts: 24, Internals: 336, Externals: 128, Unprocessed: 24\u001B[0m\n",
      "\u001B[32m2024-04-18 17:59:39.878\u001B[0m | \u001B[34m\u001B[1mDEBUG   \u001B[0m | \u001B[36m__main__\u001B[0m:\u001B[36mcheck_regexp_match\u001B[0m:\u001B[36m78\u001B[0m - \u001B[34m\u001B[1mTotal links: 59, Universal: 16, Common: 7, Rare: 36\u001B[0m\n",
      "\u001B[32m2024-04-18 17:59:39.879\u001B[0m | \u001B[34m\u001B[1mDEBUG   \u001B[0m | \u001B[36m__main__\u001B[0m:\u001B[36mcheck_regexp_match\u001B[0m:\u001B[36m87\u001B[0m - \u001B[34m\u001B[1mBase patterns: {'category': '/collections/(.*/products/.*|.*|frontpage)', 'item': '/collections/[a-z-]+/products/[a-z0-9-]+'}\u001B[0m\n",
      "\u001B[32m2024-04-18 17:59:41.185\u001B[0m | \u001B[34m\u001B[1mDEBUG   \u001B[0m | \u001B[36m__main__\u001B[0m:\u001B[36mcheck_regexp_match\u001B[0m:\u001B[36m40\u001B[0m - \u001B[34m\u001B[1mRoot URL: www.wowfurnitureoutlet.com\u001B[0m\n",
      "\u001B[32m2024-04-18 17:59:41.189\u001B[0m | \u001B[34m\u001B[1mDEBUG   \u001B[0m | \u001B[36m__main__\u001B[0m:\u001B[36mcheck_regexp_match\u001B[0m:\u001B[36m58\u001B[0m - \u001B[34m\u001B[1mLinks: 1105, Contacts: 0, Internals: 1046, Externals: 0, Unprocessed: 57\u001B[0m\n",
      "\u001B[32m2024-04-18 17:59:41.190\u001B[0m | \u001B[34m\u001B[1mDEBUG   \u001B[0m | \u001B[36m__main__\u001B[0m:\u001B[36mcheck_regexp_match\u001B[0m:\u001B[36m78\u001B[0m - \u001B[34m\u001B[1mTotal links: 137, Universal: 101, Common: 0, Rare: 36\u001B[0m\n",
      "\u001B[32m2024-04-18 17:59:41.191\u001B[0m | \u001B[34m\u001B[1mDEBUG   \u001B[0m | \u001B[36m__main__\u001B[0m:\u001B[36mcheck_regexp_match\u001B[0m:\u001B[36m87\u001B[0m - \u001B[34m\u001B[1mBase patterns: {'category': '/category/showsorted/categoryid/\\\\d+/subcategory/\\\\d+|/category/\\\\w+|/brand/\\\\w+\\\\.html', 'item': '/category/[^/]+/[a-z0-9-]+\\\\.html'}\u001B[0m\n",
      "\u001B[32m2024-04-18 17:59:44.012\u001B[0m | \u001B[34m\u001B[1mDEBUG   \u001B[0m | \u001B[36m__main__\u001B[0m:\u001B[36mcheck_regexp_match\u001B[0m:\u001B[36m40\u001B[0m - \u001B[34m\u001B[1mRoot URL: www.johnnyjanosik.com\u001B[0m\n",
      "\u001B[32m2024-04-18 17:59:44.027\u001B[0m | \u001B[34m\u001B[1mDEBUG   \u001B[0m | \u001B[36m__main__\u001B[0m:\u001B[36mcheck_regexp_match\u001B[0m:\u001B[36m58\u001B[0m - \u001B[34m\u001B[1mLinks: 2557, Contacts: 0, Internals: 2319, Externals: 134, Unprocessed: 91\u001B[0m\n",
      "\u001B[32m2024-04-18 17:59:44.028\u001B[0m | \u001B[34m\u001B[1mDEBUG   \u001B[0m | \u001B[36m__main__\u001B[0m:\u001B[36mcheck_regexp_match\u001B[0m:\u001B[36m78\u001B[0m - \u001B[34m\u001B[1mTotal links: 398, Universal: 156, Common: 7, Rare: 235\u001B[0m\n",
      "\u001B[32m2024-04-18 17:59:44.030\u001B[0m | \u001B[34m\u001B[1mDEBUG   \u001B[0m | \u001B[36m__main__\u001B[0m:\u001B[36mcheck_regexp_match\u001B[0m:\u001B[36m87\u001B[0m - \u001B[34m\u001B[1mBase patterns: {'category': '/browse/[\\\\w\\\\-]+/[\\\\w\\\\-]+/\\\\d+|/browse/[\\\\w\\\\-]+/[\\\\w\\\\-]+|/browse/[\\\\w\\\\-]+', 'item': '/item/[a-z0-9-]+/\\\\d+'}\u001B[0m\n",
      "\u001B[32m2024-04-18 17:59:49.426\u001B[0m | \u001B[34m\u001B[1mDEBUG   \u001B[0m | \u001B[36m__main__\u001B[0m:\u001B[36mcheck_regexp_match\u001B[0m:\u001B[36m40\u001B[0m - \u001B[34m\u001B[1mRoot URL: furnitureworldsuperstore.net\u001B[0m\n",
      "\u001B[32m2024-04-18 17:59:49.434\u001B[0m | \u001B[34m\u001B[1mDEBUG   \u001B[0m | \u001B[36m__main__\u001B[0m:\u001B[36mcheck_regexp_match\u001B[0m:\u001B[36m58\u001B[0m - \u001B[34m\u001B[1mLinks: 1606, Contacts: 0, Internals: 1531, Externals: 45, Unprocessed: 30\u001B[0m\n",
      "\u001B[32m2024-04-18 17:59:49.435\u001B[0m | \u001B[34m\u001B[1mDEBUG   \u001B[0m | \u001B[36m__main__\u001B[0m:\u001B[36mcheck_regexp_match\u001B[0m:\u001B[36m78\u001B[0m - \u001B[34m\u001B[1mTotal links: 367, Universal: 76, Common: 0, Rare: 291\u001B[0m\n",
      "\u001B[32m2024-04-18 17:59:49.437\u001B[0m | \u001B[34m\u001B[1mDEBUG   \u001B[0m | \u001B[36m__main__\u001B[0m:\u001B[36mcheck_regexp_match\u001B[0m:\u001B[36m87\u001B[0m - \u001B[34m\u001B[1mBase patterns: {'category': '/collections/.*', 'item': '/products/[a-z-]+(\\\\?variant=\\\\d+)?$'}\u001B[0m\n",
      "\u001B[32m2024-04-18 17:59:52.763\u001B[0m | \u001B[34m\u001B[1mDEBUG   \u001B[0m | \u001B[36m__main__\u001B[0m:\u001B[36mcheck_regexp_match\u001B[0m:\u001B[36m40\u001B[0m - \u001B[34m\u001B[1mRoot URL: www.conlins.com\u001B[0m\n",
      "\u001B[32m2024-04-18 17:59:52.773\u001B[0m | \u001B[34m\u001B[1mDEBUG   \u001B[0m | \u001B[36m__main__\u001B[0m:\u001B[36mcheck_regexp_match\u001B[0m:\u001B[36m58\u001B[0m - \u001B[34m\u001B[1mLinks: 1852, Contacts: 0, Internals: 1646, Externals: 104, Unprocessed: 89\u001B[0m\n",
      "\u001B[32m2024-04-18 17:59:52.774\u001B[0m | \u001B[34m\u001B[1mDEBUG   \u001B[0m | \u001B[36m__main__\u001B[0m:\u001B[36mcheck_regexp_match\u001B[0m:\u001B[36m78\u001B[0m - \u001B[34m\u001B[1mTotal links: 362, Universal: 63, Common: 48, Rare: 251\u001B[0m\n",
      "\u001B[32m2024-04-18 17:59:52.775\u001B[0m | \u001B[34m\u001B[1mDEBUG   \u001B[0m | \u001B[36m__main__\u001B[0m:\u001B[36mcheck_regexp_match\u001B[0m:\u001B[36m87\u001B[0m - \u001B[34m\u001B[1mBase patterns: {'category': '/browse/|/item/|\\\\.aspx$|/brand/|/stores/|/p/|/ad-page/', 'item': '/item/[a-z0-9-]+/[0-9]+'}\u001B[0m\n",
      "\u001B[32m2024-04-18 17:59:54.803\u001B[0m | \u001B[34m\u001B[1mDEBUG   \u001B[0m | \u001B[36m__main__\u001B[0m:\u001B[36mcheck_regexp_match\u001B[0m:\u001B[36m40\u001B[0m - \u001B[34m\u001B[1mRoot URL: www.salvagedfurnitureparlour.com\u001B[0m\n",
      "\u001B[32m2024-04-18 17:59:54.808\u001B[0m | \u001B[34m\u001B[1mDEBUG   \u001B[0m | \u001B[36m__main__\u001B[0m:\u001B[36mcheck_regexp_match\u001B[0m:\u001B[36m58\u001B[0m - \u001B[34m\u001B[1mLinks: 733, Contacts: 0, Internals: 591, Externals: 96, Unprocessed: 36\u001B[0m\n",
      "\u001B[32m2024-04-18 17:59:54.809\u001B[0m | \u001B[34m\u001B[1mDEBUG   \u001B[0m | \u001B[36m__main__\u001B[0m:\u001B[36mcheck_regexp_match\u001B[0m:\u001B[36m78\u001B[0m - \u001B[34m\u001B[1mTotal links: 74, Universal: 42, Common: 0, Rare: 32\u001B[0m\n",
      "\u001B[32m2024-04-18 17:59:54.810\u001B[0m | \u001B[34m\u001B[1mDEBUG   \u001B[0m | \u001B[36m__main__\u001B[0m:\u001B[36mcheck_regexp_match\u001B[0m:\u001B[36m87\u001B[0m - \u001B[34m\u001B[1mBase patterns: {'category': '/collections/[^/]+$', 'item': '/products/[a-z0-9-%]+'}\u001B[0m\n",
      "\u001B[32m2024-04-18 17:59:54.979\u001B[0m | \u001B[34m\u001B[1mDEBUG   \u001B[0m | \u001B[36m__main__\u001B[0m:\u001B[36mcheck_regexp_match\u001B[0m:\u001B[36m40\u001B[0m - \u001B[34m\u001B[1mRoot URL: outwestfurnituremt.com\u001B[0m\n",
      "\u001B[32m2024-04-18 17:59:54.980\u001B[0m | \u001B[34m\u001B[1mDEBUG   \u001B[0m | \u001B[36m__main__\u001B[0m:\u001B[36mcheck_regexp_match\u001B[0m:\u001B[36m58\u001B[0m - \u001B[34m\u001B[1mLinks: 198, Contacts: 10, Internals: 80, Externals: 74, Unprocessed: 34\u001B[0m\n",
      "\u001B[32m2024-04-18 17:59:54.980\u001B[0m | \u001B[34m\u001B[1mDEBUG   \u001B[0m | \u001B[36m__main__\u001B[0m:\u001B[36mcheck_regexp_match\u001B[0m:\u001B[36m78\u001B[0m - \u001B[34m\u001B[1mTotal links: 8, Universal: 8, Common: 0, Rare: 0\u001B[0m\n",
      "\u001B[32m2024-04-18 17:59:54.983\u001B[0m | \u001B[34m\u001B[1mDEBUG   \u001B[0m | \u001B[36m__main__\u001B[0m:\u001B[36mcheck_regexp_match\u001B[0m:\u001B[36m87\u001B[0m - \u001B[34m\u001B[1mBase patterns: {'category': '/outwest-furniture-gallery-past-furniture\\\\.php', 'item': '/outwest-furniture-.+\\\\.php'}\u001B[0m\n",
      "\u001B[32m2024-04-18 17:59:55.519\u001B[0m | \u001B[34m\u001B[1mDEBUG   \u001B[0m | \u001B[36m__main__\u001B[0m:\u001B[36mcheck_regexp_match\u001B[0m:\u001B[36m40\u001B[0m - \u001B[34m\u001B[1mRoot URL: www.oakcrestfurniture.com\u001B[0m\n",
      "\u001B[32m2024-04-18 17:59:55.520\u001B[0m | \u001B[34m\u001B[1mDEBUG   \u001B[0m | \u001B[36m__main__\u001B[0m:\u001B[36mcheck_regexp_match\u001B[0m:\u001B[36m58\u001B[0m - \u001B[34m\u001B[1mLinks: 153, Contacts: 13, Internals: 114, Externals: 13, Unprocessed: 13\u001B[0m\n",
      "\u001B[32m2024-04-18 17:59:55.520\u001B[0m | \u001B[34m\u001B[1mDEBUG   \u001B[0m | \u001B[36m__main__\u001B[0m:\u001B[36mcheck_regexp_match\u001B[0m:\u001B[36m78\u001B[0m - \u001B[34m\u001B[1mTotal links: 30, Universal: 7, Common: 0, Rare: 23\u001B[0m\n",
      "\u001B[32m2024-04-18 17:59:55.521\u001B[0m | \u001B[34m\u001B[1mDEBUG   \u001B[0m | \u001B[36m__main__\u001B[0m:\u001B[36mcheck_regexp_match\u001B[0m:\u001B[36m87\u001B[0m - \u001B[34m\u001B[1mBase patterns: {'category': '/(swing-sets|oak-furniture|pine-furniture|sheds|outdoor-decor)/', 'item': '/products/[a-z0-9-]+/'}\u001B[0m\n",
      "\u001B[32m2024-04-18 17:59:56.622\u001B[0m | \u001B[34m\u001B[1mDEBUG   \u001B[0m | \u001B[36m__main__\u001B[0m:\u001B[36mcheck_regexp_match\u001B[0m:\u001B[36m40\u001B[0m - \u001B[34m\u001B[1mRoot URL: www.qualitystorefixtures.com\u001B[0m\n",
      "\u001B[32m2024-04-18 17:59:56.624\u001B[0m | \u001B[34m\u001B[1mDEBUG   \u001B[0m | \u001B[36m__main__\u001B[0m:\u001B[36mcheck_regexp_match\u001B[0m:\u001B[36m58\u001B[0m - \u001B[34m\u001B[1mLinks: 531, Contacts: 13, Internals: 444, Externals: 35, Unprocessed: 39\u001B[0m\n",
      "\u001B[32m2024-04-18 17:59:56.624\u001B[0m | \u001B[34m\u001B[1mDEBUG   \u001B[0m | \u001B[36m__main__\u001B[0m:\u001B[36mcheck_regexp_match\u001B[0m:\u001B[36m78\u001B[0m - \u001B[34m\u001B[1mTotal links: 58, Universal: 28, Common: 9, Rare: 21\u001B[0m\n",
      "\u001B[32m2024-04-18 17:59:56.626\u001B[0m | \u001B[34m\u001B[1mDEBUG   \u001B[0m | \u001B[36m__main__\u001B[0m:\u001B[36mcheck_regexp_match\u001B[0m:\u001B[36m87\u001B[0m - \u001B[34m\u001B[1mBase patterns: {'category': '/(category-s|DELI-s|PEGBOARD-s|GONDOLA-SHELVING-s|PALLET-s|SERVICES-s|RETAIL-FIXTURES-s|REFRIGERATION-s|BAKERY-s)/\\\\d+\\\\.htm', 'item': '/product-p/[a-z0-9-]+\\\\.htm'}\u001B[0m\n"
     ]
    }
   ],
   "source": [
    "# all_counts = {}\n",
    "# all_patterns = {}\n",
    "\n",
    "for subdir in tqdm(all_subdirs):\n",
    "    if subdir.name in all_counts:\n",
    "        continue\n",
    "    try:\n",
    "        res = check_regexp_match(subdir)\n",
    "    except Exception as e:\n",
    "        logger.error(f\"Error in {subdir.name}: {e}\")\n",
    "        continue\n",
    "    if res is not None:\n",
    "        counts, base_patterns = res\n",
    "        all_counts[subdir.name] = counts\n",
    "        all_patterns[subdir.name] = base_patterns"
   ],
   "metadata": {
    "collapsed": false,
    "ExecuteTime": {
     "end_time": "2024-04-18T14:59:56.650762300Z",
     "start_time": "2024-04-18T14:59:09.892897100Z"
    }
   },
   "id": "e1de2c1b4f4f06d8"
  },
  {
   "cell_type": "code",
   "execution_count": 80,
   "outputs": [],
   "source": [
    "debug_dir = Path(\"./debug\")\n",
    "debug_dir = Path(debug_dir.absolute())\n",
    "debug_dir.mkdir(exist_ok=True, parents=True)"
   ],
   "metadata": {
    "collapsed": false,
    "ExecuteTime": {
     "end_time": "2024-04-18T15:00:00.722747700Z",
     "start_time": "2024-04-18T15:00:00.697748500Z"
    }
   },
   "id": "5919ef62914db016"
  },
  {
   "cell_type": "code",
   "execution_count": 82,
   "outputs": [],
   "source": [
    "# pd.concat(all_counts).to_pickle(debug_dir / \"counts.pickle\")\n",
    "# pd.DataFrame(all_patterns).T.to_pickle(debug_dir / \"patterns.pickle\")\n"
   ],
   "metadata": {
    "collapsed": false,
    "ExecuteTime": {
     "end_time": "2024-04-18T15:00:17.269525400Z",
     "start_time": "2024-04-18T15:00:17.232499Z"
    }
   },
   "id": "366a13233aa769a0"
  },
  {
   "cell_type": "code",
   "execution_count": 87,
   "outputs": [],
   "source": [
    "df_counts = pd.concat(all_counts)"
   ],
   "metadata": {
    "collapsed": false,
    "ExecuteTime": {
     "end_time": "2024-04-18T15:01:38.377693400Z",
     "start_time": "2024-04-18T15:01:38.333996400Z"
    }
   },
   "id": "b9ec9579a636cbe5"
  },
  {
   "cell_type": "code",
   "execution_count": 88,
   "outputs": [],
   "source": [
    "df_patterns = pd.DataFrame(all_patterns).T"
   ],
   "metadata": {
    "collapsed": false,
    "ExecuteTime": {
     "end_time": "2024-04-18T15:01:42.516152100Z",
     "start_time": "2024-04-18T15:01:42.476652700Z"
    }
   },
   "id": "a570bec06ef3f6b8"
  },
  {
   "cell_type": "code",
   "execution_count": 89,
   "outputs": [
    {
     "data": {
      "text/plain": "                                                                           category  \\\nwww.marlofurniture.com                                      /collections/[a-z0-9-]+   \nwww.darvin.com                                             /(browse|brand)/|\\.aspx$   \ncityhomepdx.com                                    /collections/[\\w-]+(?!/products)   \nwww.kitchenandcompany.com                                           /collections/.*   \nwww.nelsonsfurniture.com                       /collections/[^/]*$|/products/[^/]*$   \n...                                                                             ...   \nwww.conlins.com                   /browse/|/item/|\\.aspx$|/brand/|/stores/|/p/|/...   \nwww.salvagedfurnitureparlour.com                                /collections/[^/]+$   \noutwestfurnituremt.com               /outwest-furniture-gallery-past-furniture\\.php   \nwww.oakcrestfurniture.com         /(swing-sets|oak-furniture|pine-furniture|shed...   \nwww.qualitystorefixtures.com      /(category-s|DELI-s|PEGBOARD-s|GONDOLA-SHELVIN...   \n\n                                                                               item  \nwww.marlofurniture.com                        /collections/[a-z-]+/products/[a-z-]+  \nwww.darvin.com                                              /item/[a-z0-9-%2b]+/\\d+  \ncityhomepdx.com                   /products/[a-z0-9-]+?\\?view=quickview|/collect...  \nwww.kitchenandcompany.com                       /collections/[\\w-]+/products/[\\w-]+  \nwww.nelsonsfurniture.com                                    /products/[a-z0-9-?=.]+  \n...                                                                             ...  \nwww.conlins.com                                             /item/[a-z0-9-]+/[0-9]+  \nwww.salvagedfurnitureparlour.com                              /products/[a-z0-9-%]+  \noutwestfurnituremt.com                                   /outwest-furniture-.+\\.php  \nwww.oakcrestfurniture.com                                     /products/[a-z0-9-]+/  \nwww.qualitystorefixtures.com                             /product-p/[a-z0-9-]+\\.htm  \n\n[82 rows x 2 columns]",
      "text/html": "<div>\n<style scoped>\n    .dataframe tbody tr th:only-of-type {\n        vertical-align: middle;\n    }\n\n    .dataframe tbody tr th {\n        vertical-align: top;\n    }\n\n    .dataframe thead th {\n        text-align: right;\n    }\n</style>\n<table border=\"1\" class=\"dataframe\">\n  <thead>\n    <tr style=\"text-align: right;\">\n      <th></th>\n      <th>category</th>\n      <th>item</th>\n    </tr>\n  </thead>\n  <tbody>\n    <tr>\n      <th>www.marlofurniture.com</th>\n      <td>/collections/[a-z0-9-]+</td>\n      <td>/collections/[a-z-]+/products/[a-z-]+</td>\n    </tr>\n    <tr>\n      <th>www.darvin.com</th>\n      <td>/(browse|brand)/|\\.aspx$</td>\n      <td>/item/[a-z0-9-%2b]+/\\d+</td>\n    </tr>\n    <tr>\n      <th>cityhomepdx.com</th>\n      <td>/collections/[\\w-]+(?!/products)</td>\n      <td>/products/[a-z0-9-]+?\\?view=quickview|/collect...</td>\n    </tr>\n    <tr>\n      <th>www.kitchenandcompany.com</th>\n      <td>/collections/.*</td>\n      <td>/collections/[\\w-]+/products/[\\w-]+</td>\n    </tr>\n    <tr>\n      <th>www.nelsonsfurniture.com</th>\n      <td>/collections/[^/]*$|/products/[^/]*$</td>\n      <td>/products/[a-z0-9-?=.]+</td>\n    </tr>\n    <tr>\n      <th>...</th>\n      <td>...</td>\n      <td>...</td>\n    </tr>\n    <tr>\n      <th>www.conlins.com</th>\n      <td>/browse/|/item/|\\.aspx$|/brand/|/stores/|/p/|/...</td>\n      <td>/item/[a-z0-9-]+/[0-9]+</td>\n    </tr>\n    <tr>\n      <th>www.salvagedfurnitureparlour.com</th>\n      <td>/collections/[^/]+$</td>\n      <td>/products/[a-z0-9-%]+</td>\n    </tr>\n    <tr>\n      <th>outwestfurnituremt.com</th>\n      <td>/outwest-furniture-gallery-past-furniture\\.php</td>\n      <td>/outwest-furniture-.+\\.php</td>\n    </tr>\n    <tr>\n      <th>www.oakcrestfurniture.com</th>\n      <td>/(swing-sets|oak-furniture|pine-furniture|shed...</td>\n      <td>/products/[a-z0-9-]+/</td>\n    </tr>\n    <tr>\n      <th>www.qualitystorefixtures.com</th>\n      <td>/(category-s|DELI-s|PEGBOARD-s|GONDOLA-SHELVIN...</td>\n      <td>/product-p/[a-z0-9-]+\\.htm</td>\n    </tr>\n  </tbody>\n</table>\n<p>82 rows × 2 columns</p>\n</div>"
     },
     "execution_count": 89,
     "metadata": {},
     "output_type": "execute_result"
    }
   ],
   "source": [
    "df_patterns"
   ],
   "metadata": {
    "collapsed": false,
    "ExecuteTime": {
     "end_time": "2024-04-18T15:01:44.826731Z",
     "start_time": "2024-04-18T15:01:44.787552100Z"
    }
   },
   "id": "764aa2dbfc0a331d"
  },
  {
   "cell_type": "code",
   "execution_count": 91,
   "outputs": [
    {
     "data": {
      "text/plain": "             both    category        item        miss        total\ncount  246.000000  246.000000  246.000000  246.000000   246.000000\nmean    15.813008   20.361789    6.589431   40.081301    82.845528\nstd     67.837122   41.181272   27.782797   72.055885   111.062221\nmin      0.000000    0.000000    0.000000    0.000000     0.000000\n25%      0.000000    0.000000    0.000000    0.000000     4.000000\n50%      0.000000    1.000000    0.000000    9.000000    48.500000\n75%      0.750000   20.750000    0.000000   42.000000   117.000000\nmax    946.000000  237.000000  277.000000  453.000000  1096.000000",
      "text/html": "<div>\n<style scoped>\n    .dataframe tbody tr th:only-of-type {\n        vertical-align: middle;\n    }\n\n    .dataframe tbody tr th {\n        vertical-align: top;\n    }\n\n    .dataframe thead th {\n        text-align: right;\n    }\n</style>\n<table border=\"1\" class=\"dataframe\">\n  <thead>\n    <tr style=\"text-align: right;\">\n      <th></th>\n      <th>both</th>\n      <th>category</th>\n      <th>item</th>\n      <th>miss</th>\n      <th>total</th>\n    </tr>\n  </thead>\n  <tbody>\n    <tr>\n      <th>count</th>\n      <td>246.000000</td>\n      <td>246.000000</td>\n      <td>246.000000</td>\n      <td>246.000000</td>\n      <td>246.000000</td>\n    </tr>\n    <tr>\n      <th>mean</th>\n      <td>15.813008</td>\n      <td>20.361789</td>\n      <td>6.589431</td>\n      <td>40.081301</td>\n      <td>82.845528</td>\n    </tr>\n    <tr>\n      <th>std</th>\n      <td>67.837122</td>\n      <td>41.181272</td>\n      <td>27.782797</td>\n      <td>72.055885</td>\n      <td>111.062221</td>\n    </tr>\n    <tr>\n      <th>min</th>\n      <td>0.000000</td>\n      <td>0.000000</td>\n      <td>0.000000</td>\n      <td>0.000000</td>\n      <td>0.000000</td>\n    </tr>\n    <tr>\n      <th>25%</th>\n      <td>0.000000</td>\n      <td>0.000000</td>\n      <td>0.000000</td>\n      <td>0.000000</td>\n      <td>4.000000</td>\n    </tr>\n    <tr>\n      <th>50%</th>\n      <td>0.000000</td>\n      <td>1.000000</td>\n      <td>0.000000</td>\n      <td>9.000000</td>\n      <td>48.500000</td>\n    </tr>\n    <tr>\n      <th>75%</th>\n      <td>0.750000</td>\n      <td>20.750000</td>\n      <td>0.000000</td>\n      <td>42.000000</td>\n      <td>117.000000</td>\n    </tr>\n    <tr>\n      <th>max</th>\n      <td>946.000000</td>\n      <td>237.000000</td>\n      <td>277.000000</td>\n      <td>453.000000</td>\n      <td>1096.000000</td>\n    </tr>\n  </tbody>\n</table>\n</div>"
     },
     "execution_count": 91,
     "metadata": {},
     "output_type": "execute_result"
    }
   ],
   "source": [
    "df_counts.describe()"
   ],
   "metadata": {
    "collapsed": false,
    "ExecuteTime": {
     "end_time": "2024-04-18T15:02:19.000427100Z",
     "start_time": "2024-04-18T15:02:18.942188900Z"
    }
   },
   "id": "8b332a177e0c0e44"
  },
  {
   "cell_type": "code",
   "execution_count": 92,
   "outputs": [
    {
     "data": {
      "text/plain": "                                        both  category  item  miss  total\nwww.marlofurniture.com       universal     0        64     0    20     84\n                             common        0         1     0     0      1\n                             rare         81         6     0     0     87\nwww.darvin.com               universal     0        27     0   121    148\n                             common        0         0     0     3      3\n...                                      ...       ...   ...   ...    ...\nwww.oakcrestfurniture.com    common        0         0     0     0      0\n                             rare          0         0     0    23     23\nwww.qualitystorefixtures.com universal     0         0     0    28     28\n                             common        0         0     0     9      9\n                             rare          0         0     0    21     21\n\n[246 rows x 5 columns]",
      "text/html": "<div>\n<style scoped>\n    .dataframe tbody tr th:only-of-type {\n        vertical-align: middle;\n    }\n\n    .dataframe tbody tr th {\n        vertical-align: top;\n    }\n\n    .dataframe thead th {\n        text-align: right;\n    }\n</style>\n<table border=\"1\" class=\"dataframe\">\n  <thead>\n    <tr style=\"text-align: right;\">\n      <th></th>\n      <th></th>\n      <th>both</th>\n      <th>category</th>\n      <th>item</th>\n      <th>miss</th>\n      <th>total</th>\n    </tr>\n  </thead>\n  <tbody>\n    <tr>\n      <th rowspan=\"3\" valign=\"top\">www.marlofurniture.com</th>\n      <th>universal</th>\n      <td>0</td>\n      <td>64</td>\n      <td>0</td>\n      <td>20</td>\n      <td>84</td>\n    </tr>\n    <tr>\n      <th>common</th>\n      <td>0</td>\n      <td>1</td>\n      <td>0</td>\n      <td>0</td>\n      <td>1</td>\n    </tr>\n    <tr>\n      <th>rare</th>\n      <td>81</td>\n      <td>6</td>\n      <td>0</td>\n      <td>0</td>\n      <td>87</td>\n    </tr>\n    <tr>\n      <th rowspan=\"2\" valign=\"top\">www.darvin.com</th>\n      <th>universal</th>\n      <td>0</td>\n      <td>27</td>\n      <td>0</td>\n      <td>121</td>\n      <td>148</td>\n    </tr>\n    <tr>\n      <th>common</th>\n      <td>0</td>\n      <td>0</td>\n      <td>0</td>\n      <td>3</td>\n      <td>3</td>\n    </tr>\n    <tr>\n      <th>...</th>\n      <th>...</th>\n      <td>...</td>\n      <td>...</td>\n      <td>...</td>\n      <td>...</td>\n      <td>...</td>\n    </tr>\n    <tr>\n      <th rowspan=\"2\" valign=\"top\">www.oakcrestfurniture.com</th>\n      <th>common</th>\n      <td>0</td>\n      <td>0</td>\n      <td>0</td>\n      <td>0</td>\n      <td>0</td>\n    </tr>\n    <tr>\n      <th>rare</th>\n      <td>0</td>\n      <td>0</td>\n      <td>0</td>\n      <td>23</td>\n      <td>23</td>\n    </tr>\n    <tr>\n      <th rowspan=\"3\" valign=\"top\">www.qualitystorefixtures.com</th>\n      <th>universal</th>\n      <td>0</td>\n      <td>0</td>\n      <td>0</td>\n      <td>28</td>\n      <td>28</td>\n    </tr>\n    <tr>\n      <th>common</th>\n      <td>0</td>\n      <td>0</td>\n      <td>0</td>\n      <td>9</td>\n      <td>9</td>\n    </tr>\n    <tr>\n      <th>rare</th>\n      <td>0</td>\n      <td>0</td>\n      <td>0</td>\n      <td>21</td>\n      <td>21</td>\n    </tr>\n  </tbody>\n</table>\n<p>246 rows × 5 columns</p>\n</div>"
     },
     "execution_count": 92,
     "metadata": {},
     "output_type": "execute_result"
    }
   ],
   "source": [
    "df_counts"
   ],
   "metadata": {
    "collapsed": false,
    "ExecuteTime": {
     "end_time": "2024-04-18T15:02:28.094291400Z",
     "start_time": "2024-04-18T15:02:28.043666200Z"
    }
   },
   "id": "4277d4da6aeb94e9"
  },
  {
   "cell_type": "code",
   "execution_count": 93,
   "outputs": [],
   "source": [
    "def check_quality(counts):\n",
    "    # if `both` match many, it's bad product and good category\n",
    "    # if `both` + `category` matches all, it's bad category\n",
    "    # if `item` is 0, it's bad item\n",
    "    is_ok_quality = {\"category\": True, \"item\": True}\n",
    "    summed = counts.sum()\n",
    "    if summed[\"both\"] > 0.2 * summed[\"total\"]:\n",
    "        is_ok_quality[\"category\"] = False\n",
    "    if summed[\"both\"] + summed[\"category\"] >= summed[\"total\"] - 5:\n",
    "        is_ok_quality[\"category\"] = False\n",
    "    if summed[\"item\"] == 0:\n",
    "        is_ok_quality[\"item\"] = False\n",
    "    return is_ok_quality\n",
    "\n",
    "\n"
   ],
   "metadata": {
    "collapsed": false,
    "ExecuteTime": {
     "end_time": "2024-04-18T15:09:04.288324800Z",
     "start_time": "2024-04-18T15:09:04.260285700Z"
    }
   },
   "id": "cbc478160d5d3488"
  },
  {
   "cell_type": "code",
   "execution_count": 95,
   "outputs": [],
   "source": [
    "quality_check = {}\n",
    "for root_url, counts in all_counts.items():\n",
    "    is_ok_quality = check_quality(counts)\n",
    "    quality_check[root_url] = is_ok_quality"
   ],
   "metadata": {
    "collapsed": false,
    "ExecuteTime": {
     "end_time": "2024-04-18T15:09:48.947985500Z",
     "start_time": "2024-04-18T15:09:48.897943900Z"
    }
   },
   "id": "bfe67b2f48a6bb8e"
  },
  {
   "cell_type": "code",
   "execution_count": 97,
   "outputs": [],
   "source": [
    "df_quality = pd.DataFrame(quality_check).T"
   ],
   "metadata": {
    "collapsed": false,
    "ExecuteTime": {
     "end_time": "2024-04-18T15:10:04.794928800Z",
     "start_time": "2024-04-18T15:10:04.765899700Z"
    }
   },
   "id": "9c04d4a6a02f963d"
  },
  {
   "cell_type": "code",
   "execution_count": 98,
   "outputs": [],
   "source": [
    "all_good_index = df_quality.loc[df_quality.all(axis=1)].index"
   ],
   "metadata": {
    "collapsed": false,
    "ExecuteTime": {
     "end_time": "2024-04-18T15:10:41.299949900Z",
     "start_time": "2024-04-18T15:10:41.272944400Z"
    }
   },
   "id": "1c466add4261c8b"
  },
  {
   "cell_type": "code",
   "execution_count": 103,
   "outputs": [],
   "source": [
    "# for root_url in all_good_index:\n",
    "#     print(root_url)\n",
    "#     display_full(df_counts.loc[root_url])\n"
   ],
   "metadata": {
    "collapsed": false,
    "ExecuteTime": {
     "end_time": "2024-04-18T15:12:41.372034800Z",
     "start_time": "2024-04-18T15:12:41.334483500Z"
    }
   },
   "id": "9be094b70f97273"
  },
  {
   "cell_type": "code",
   "execution_count": 105,
   "outputs": [],
   "source": [
    "clipboard_copy(all_good_index.tolist())"
   ],
   "metadata": {
    "collapsed": false,
    "ExecuteTime": {
     "end_time": "2024-04-18T15:12:51.174250Z",
     "start_time": "2024-04-18T15:12:51.104296100Z"
    }
   },
   "id": "4c9b42edd71bb6bd"
  },
  {
   "cell_type": "code",
   "execution_count": 106,
   "outputs": [],
   "source": [
    "all_bad_index = df_quality.loc[~(df_quality.any(axis=1))].index"
   ],
   "metadata": {
    "collapsed": false,
    "ExecuteTime": {
     "end_time": "2024-04-18T15:13:41.362406500Z",
     "start_time": "2024-04-18T15:13:41.339366Z"
    }
   },
   "id": "24e2f1b80953abf1"
  },
  {
   "cell_type": "code",
   "execution_count": 108,
   "outputs": [
    {
     "data": {
      "text/plain": "category  item \nTrue      False    35\nFalse     False    22\nTrue      True     20\nFalse     True      5\nName: count, dtype: int64"
     },
     "execution_count": 108,
     "metadata": {},
     "output_type": "execute_result"
    }
   ],
   "source": [
    "df_quality.value_counts()"
   ],
   "metadata": {
    "collapsed": false,
    "ExecuteTime": {
     "end_time": "2024-04-18T15:13:55.229335Z",
     "start_time": "2024-04-18T15:13:55.206246300Z"
    }
   },
   "id": "74f9a7aa9f817772"
  },
  {
   "cell_type": "code",
   "execution_count": 111,
   "outputs": [
    {
     "name": "stderr",
     "output_type": "stream",
     "text": [
      "\u001B[32m2024-04-18 18:16:46.259\u001B[0m | \u001B[34m\u001B[1mDEBUG   \u001B[0m | \u001B[36m__main__\u001B[0m:\u001B[36mget_links\u001B[0m:\u001B[36m19\u001B[0m - \u001B[34m\u001B[1mRoot URL: lavishfurnitureoutlet.com\u001B[0m\n",
      "\u001B[32m2024-04-18 18:16:46.261\u001B[0m | \u001B[34m\u001B[1mDEBUG   \u001B[0m | \u001B[36m__main__\u001B[0m:\u001B[36mget_links\u001B[0m:\u001B[36m37\u001B[0m - \u001B[34m\u001B[1mLinks: 513, Contacts: 24, Internals: 336, Externals: 128, Unprocessed: 24\u001B[0m\n",
      "\u001B[32m2024-04-18 18:16:46.262\u001B[0m | \u001B[34m\u001B[1mDEBUG   \u001B[0m | \u001B[36m__main__\u001B[0m:\u001B[36mget_links\u001B[0m:\u001B[36m57\u001B[0m - \u001B[34m\u001B[1mTotal links: 59, Universal: 16, Common: 7, Rare: 36\u001B[0m\n"
     ]
    }
   ],
   "source": [
    "links_dict = get_links(scraped_data_dir / all_bad_index[21])"
   ],
   "metadata": {
    "collapsed": false,
    "ExecuteTime": {
     "end_time": "2024-04-18T15:16:46.274456500Z",
     "start_time": "2024-04-18T15:16:43.916436400Z"
    }
   },
   "id": "874027fa832b90c9"
  },
  {
   "cell_type": "code",
   "execution_count": 112,
   "outputs": [
    {
     "data": {
      "text/plain": "{'universal': ['/policies/terms-of-service',\n  '/cart',\n  '/search',\n  '/policies/privacy-policy',\n  '/pages/contact-us',\n  '/collections/living-room',\n  '/pages/visit-outlet',\n  '/collections/kids',\n  '/pages/financing',\n  '/collections/bedrooms',\n  '/',\n  '/collections/frontpage',\n  '/collections/mattresses',\n  '/pages/house-package-specials',\n  '/policies/refund-policy',\n  '/collections/dining-rooms'],\n 'common': ['/collections/bedrooms/products/emily-black-storage-bedroom-set',\n  '/collections/bedrooms/products/sheffield-gray-sleigh-bed',\n  '/collections/bedrooms/products/dark-cherry-sheffield-bed',\n  '/collections/bedrooms/products/stanley-dark-cherry-bedroom-set',\n  '/collections/bedrooms/products/cristal-bed',\n  '/collections/bedrooms/products/giovani-gray-bed',\n  '/collections/vendors?q=Coaster'],\n 'rare': ['/collections/bedrooms/products/stanley-antique-white-bed',\n  '/collections/bedrooms/products/emily-dark-cherry-storage-bed',\n  '/collections/bedrooms/products/lavonia-gray-storage-bed',\n  '/collections/bedrooms/products/veil-bed',\n  '/collections/bedrooms/products/sandy-beach-bedroom-set-3',\n  '/collections/bedrooms/products/jessica-contemporary-bedroom-set',\n  '/collections/bedrooms/products/tatiana-bedroom-set',\n  '/collections/bedrooms/products/sheffield-vintage-gray-bed',\n  '/collections/bedrooms/products/kauffman-bedroom-set',\n  '/collections/bedrooms/products/serenity-bedroom-set',\n  '/collections/bedrooms/products/jessica-bedroom-set-1',\n  '/collections/bedrooms/products/crown-mark-akerson-full-panel-bed-in-chalk-b4610-f',\n  '/collections/bedrooms/products/202411t',\n  '/collections/bedrooms/products/royal-wooden-post-set',\n  '/collections/bedrooms/products/cambridge-bedroom-set',\n  '/collections/bedrooms/products/400720t',\n  '/collections/bedrooms/products/sandy-beach-bedroom-set-2',\n  '/collections/bedrooms/products/400821t',\n  '/collections/bedrooms/products/400561t',\n  '/collections/bedrooms/products/400180t',\n  '/collections/bedrooms?page=2',\n  '/collections/bedrooms/products/shimmer-gray-bedroom-set',\n  '/collections/bedrooms/products/briana-storage-bedroom-set',\n  '/collections/bedrooms/products/jessica-bedroom-set',\n  '/collections/bedrooms/products/204921t',\n  '/collections/bedrooms/products/franco-bedroom-set',\n  '/collections/bedrooms/products/briana-bedroom-set',\n  '/collections/bedrooms/products/400187',\n  '/collections/bedrooms/products/400410f',\n  '/collections/bedrooms/products/carlton-bedroom-set',\n  '/collections/bedrooms/products/blue-tufted-bedroom-set',\n  '/collections/bedrooms/products/orante-blue-island-bed',\n  '/collections/bedrooms/products/300200t',\n  '/collections/bedrooms/products/201971t',\n  '/collections/bedrooms/products/emily-gray-storage-bedroom-set',\n  '/collections/vendors?q=Crown%20Mark'],\n 'contact': ['tel:+17082515462',\n  'tel:7082515462',\n  'tel:+17082515462',\n  'tel:7082515462',\n  'tel:+17082515462',\n  'tel:7082515462',\n  'tel:+17082515462',\n  'tel:7082515462',\n  'tel:+17082515462',\n  'tel:7082515462',\n  'tel:+17082515462',\n  'tel:7082515462',\n  'tel:+17082515462',\n  'tel:7082515462',\n  'tel:+17082515462',\n  'tel:7082515462',\n  'tel:+17082515462',\n  'tel:7082515462',\n  'tel:+17082515462',\n  'tel:7082515462',\n  'tel:+17082515462',\n  'tel:7082515462',\n  'tel:+17082515462',\n  'tel:+17082515462']}"
     },
     "execution_count": 112,
     "metadata": {},
     "output_type": "execute_result"
    }
   ],
   "source": [
    "links_dict"
   ],
   "metadata": {
    "collapsed": false,
    "ExecuteTime": {
     "end_time": "2024-04-18T15:27:36.239708400Z",
     "start_time": "2024-04-18T15:27:36.197074Z"
    }
   },
   "id": "e9f22408bc2eb490"
  },
  {
   "cell_type": "code",
   "execution_count": 161,
   "outputs": [],
   "source": [
    "# Role message for the language model\n",
    "role_message = \"You will categorize internal web links into three categories: 'catalog_pages', 'product_pages', and 'other_pages'. For 'catalog_pages', identify links that lead to collections or broad categories of products. 'Product_pages' are links that directly access specific product details. 'Other_pages' include all links not fitting into the other categories, like informational or administrative content. Output the indices of links in a JSON dictionary under the appropriate category based on the input list of links.\"\n",
    "\n",
    "# Example input\n",
    "example_input = \"\"\"\n",
    "1. /furniture/beds/king-size\n",
    "2. /help/returns-policy\n",
    "3. /sale\n",
    "4. /furniture/beds/king-size/342322\n",
    "5. /about-us\n",
    "6. /blog/how-to-choose-a-bed\n",
    "\"\"\"\n",
    "\n",
    "# Expected output in JSON format\n",
    "example_output = \"\"\"\n",
    "{{\n",
    "  \"product_pages\": [4],\n",
    "  \"catalog_pages\": [1, 3],\n",
    "  \"other_pages\": [2, 5, 6]\n",
    "}}\n",
    "\"\"\"\n",
    "\n",
    "input_template = \"\"\"{formatted_list}\"\"\"\n",
    "\n",
    "messages = [(\"system\", role_message), (\"human\", example_input), (\"ai\", example_output), (\"human\", input_template)]\n",
    "messages = [(role, trim_extra_whitespace(message)) for role, message in messages]\n",
    "\n",
    "choose_links_prompt = ChatPromptTemplate.from_messages(messages)"
   ],
   "metadata": {
    "collapsed": false,
    "ExecuteTime": {
     "end_time": "2024-04-19T13:09:04.796725500Z",
     "start_time": "2024-04-19T13:09:04.768148700Z"
    }
   },
   "id": "31c7b4cc68a655d"
  },
  {
   "cell_type": "code",
   "execution_count": 178,
   "outputs": [],
   "source": [
    "class A:\n",
    "    @classmethod\n",
    "    def v(cls):\n",
    "        return 13\n",
    "    \n",
    "    v = property(v)"
   ],
   "metadata": {
    "collapsed": false,
    "ExecuteTime": {
     "end_time": "2024-04-19T14:30:48.327125600Z",
     "start_time": "2024-04-19T14:30:48.274130Z"
    }
   },
   "id": "90e1212a4715c407"
  },
  {
   "cell_type": "code",
   "execution_count": 179,
   "outputs": [
    {
     "data": {
      "text/plain": "<property at 0x21d8d5dee80>"
     },
     "execution_count": 179,
     "metadata": {},
     "output_type": "execute_result"
    }
   ],
   "source": [
    "A.v"
   ],
   "metadata": {
    "collapsed": false,
    "ExecuteTime": {
     "end_time": "2024-04-19T14:30:49.087760500Z",
     "start_time": "2024-04-19T14:30:49.010759500Z"
    }
   },
   "id": "f47b5bff8415a28d"
  },
  {
   "cell_type": "code",
   "execution_count": 182,
   "outputs": [
    {
     "name": "stdout",
     "output_type": "stream",
     "text": [
      "5\n"
     ]
    }
   ],
   "source": [
    "class ClassProperty:\n",
    "    def __init__(self, method):\n",
    "        self.method = method\n",
    "\n",
    "    def __get__(self, obj, objtype=None):\n",
    "        return self.method.__func__(objtype)\n",
    "\n",
    "class MyClass:\n",
    "    _my_value = 5\n",
    "\n",
    "    @ClassProperty\n",
    "    @classmethod\n",
    "    def value(cls):\n",
    "        return cls._my_value\n",
    "\n",
    "# Usage\n",
    "print(MyClass.value)  # This will print 5\n"
   ],
   "metadata": {
    "collapsed": false,
    "ExecuteTime": {
     "end_time": "2024-04-19T14:32:47.626249200Z",
     "start_time": "2024-04-19T14:32:47.541732500Z"
    }
   },
   "id": "bc3235cc3c9d0898"
  },
  {
   "cell_type": "code",
   "execution_count": null,
   "outputs": [],
   "source": [],
   "metadata": {
    "collapsed": false
   },
   "id": "4fde1bb81cb14019"
  },
  {
   "cell_type": "code",
   "execution_count": 162,
   "outputs": [],
   "source": [
    "def format_links(links_dict):\n",
    "    internal_links = links_dict[\"universal\"] + links_dict[\"common\"] + links_dict[\"rare\"]\n",
    "    formatted_list = \"\\n\".join([f\"{i + 1}. {link}\" for i, link in enumerate(internal_links)])\n",
    "    return formatted_list\n",
    "\n",
    "\n",
    "chain = RunnablePassthrough().assign(formatted_list=lambda d: format_links(d)) | choose_links_prompt | basic_llm\n"
   ],
   "metadata": {
    "collapsed": false,
    "ExecuteTime": {
     "end_time": "2024-04-19T13:09:14.021118Z",
     "start_time": "2024-04-19T13:09:13.978503900Z"
    }
   },
   "id": "99ca3b7b1c8165"
  },
  {
   "cell_type": "code",
   "execution_count": null,
   "outputs": [],
   "source": [],
   "metadata": {
    "collapsed": false
   },
   "id": "f89d56f96d058b15"
  },
  {
   "cell_type": "code",
   "execution_count": 133,
   "outputs": [
    {
     "data": {
      "text/plain": "{'a': 1, 'b': 2}"
     },
     "execution_count": 133,
     "metadata": {},
     "output_type": "execute_result"
    }
   ],
   "source": [
    "RunnablePassthrough().invoke({\"a\": 1, \"b\": 2})"
   ],
   "metadata": {
    "collapsed": false,
    "ExecuteTime": {
     "end_time": "2024-04-18T20:19:52.592856400Z",
     "start_time": "2024-04-18T20:19:52.545288200Z"
    }
   },
   "id": "1eaa33be647dc768"
  },
  {
   "cell_type": "code",
   "execution_count": null,
   "outputs": [],
   "source": [],
   "metadata": {
    "collapsed": false
   },
   "id": "14669b4ebc40715d"
  },
  {
   "cell_type": "code",
   "execution_count": null,
   "outputs": [],
   "source": [],
   "metadata": {
    "collapsed": false
   },
   "id": "4544d6ffb5259bec"
  },
  {
   "cell_type": "code",
   "execution_count": null,
   "outputs": [],
   "source": [],
   "metadata": {
    "collapsed": false
   },
   "id": "a59b47d1edac11f1"
  },
  {
   "cell_type": "code",
   "execution_count": 119,
   "outputs": [
    {
     "data": {
      "text/plain": "AIMessage(content='{\\n\"product_pages\": [17, 18, 19, 20, 21, 22, 24, 25, 26, 27, 28, 29, 30, 31, 32, 33, 34, 35, 36, 37, 38, 39, 40, 41, 42, 43, 45, 46, 47, 48, 49, 50, 51, 52, 53, 54, 55, 56, 57, 58],\\n\"catalog_pages\": [6, 8, 10, 13, 16, 23, 44],\\n\"other_pages\": [1, 2, 3, 4, 5, 7, 9, 11, 12, 14, 15, 59]\\n}', response_metadata={'token_usage': {'completion_tokens': 191, 'prompt_tokens': 946, 'total_tokens': 1137}, 'model_name': 'gpt-3.5-turbo-0125', 'system_fingerprint': 'fp_c2295e73ad', 'finish_reason': 'stop', 'logprobs': None}, id='run-a555f771-6f3e-4195-8190-55f4e8a43100-0')"
     },
     "execution_count": 119,
     "metadata": {},
     "output_type": "execute_result"
    }
   ],
   "source": [
    "chain.invoke(links_dict)"
   ],
   "metadata": {
    "collapsed": false,
    "ExecuteTime": {
     "end_time": "2024-04-18T15:35:56.946752100Z",
     "start_time": "2024-04-18T15:35:51.309993500Z"
    }
   },
   "id": "6736f3b0aaa0c0c5"
  },
  {
   "cell_type": "code",
   "execution_count": 170,
   "outputs": [],
   "source": [
    "def unpack_links(links_dict, llm_answer):\n",
    "    internal_links = links_dict[\"universal\"] + links_dict[\"common\"] + links_dict[\"rare\"]\n",
    "    llm_answer = safe_json_loads(llm_answer.content)\n",
    "    # product_pages = [internal_links[i - 1] for i in llm_answer[\"product_pages\"]]\n",
    "    # catalog_pages = [internal_links[i - 1] for i in llm_answer[\"catalog_pages\"]]\n",
    "    # other_pages = [internal_links[i - 1] for i in llm_answer[\"other_pages\"]]\n",
    "    # return {\n",
    "    #     \"product_pages\": product_pages,\n",
    "    #     \"catalog_pages\": catalog_pages,\n",
    "    #     \"other_pages\": other_pages,\n",
    "    # }\n",
    "    # Safer, with warning if indices are out of bounds\n",
    "    out_of_bounds = [i for i in llm_answer.get(\"product_pages\", []) + llm_answer.get(\"catalog_pages\", []) + llm_answer.get(\"other_pages\", []) if i > len(internal_links)]\n",
    "    if out_of_bounds:\n",
    "        logger.warning(f\"Indices out of bounds: {out_of_bounds}\")\n",
    "    product_pages = [internal_links[i - 1] for i in llm_answer.get(\"product_pages\", []) if 0 < i <= len(internal_links)]\n",
    "    catalog_pages = [internal_links[i - 1] for i in llm_answer.get(\"catalog_pages\", []) if 0 < i <= len(internal_links)]\n",
    "    other_pages = [internal_links[i - 1] for i in llm_answer.get(\"other_pages\", []) if 0 < i <= len(internal_links)]\n",
    "    return {\n",
    "        \"product_pages\": product_pages,\n",
    "        \"catalog_pages\": catalog_pages,\n",
    "        \"other_pages\": other_pages,\n",
    "    }\n",
    "    "
   ],
   "metadata": {
    "collapsed": false,
    "ExecuteTime": {
     "end_time": "2024-04-19T13:12:42.612443900Z",
     "start_time": "2024-04-19T13:12:42.567798Z"
    }
   },
   "id": "f87fb24f822a3f45"
  },
  {
   "cell_type": "code",
   "execution_count": 122,
   "outputs": [],
   "source": [
    "converted_links = unpack_links(links_dict, chain.invoke(links_dict))"
   ],
   "metadata": {
    "collapsed": false,
    "ExecuteTime": {
     "end_time": "2024-04-18T20:02:46.883652300Z",
     "start_time": "2024-04-18T20:02:41.949112600Z"
    }
   },
   "id": "beae4b5f2dca685b"
  },
  {
   "cell_type": "code",
   "execution_count": 123,
   "outputs": [
    {
     "data": {
      "text/plain": "{'product_pages': ['/collections/bedrooms/products/emily-black-storage-bedroom-set',\n  '/collections/bedrooms/products/sheffield-gray-sleigh-bed',\n  '/collections/bedrooms/products/dark-cherry-sheffield-bed',\n  '/collections/bedrooms/products/stanley-dark-cherry-bedroom-set',\n  '/collections/bedrooms/products/cristal-bed',\n  '/collections/bedrooms/products/giovani-gray-bed',\n  '/collections/bedrooms/products/stanley-antique-white-bed',\n  '/collections/bedrooms/products/emily-dark-cherry-storage-bed',\n  '/collections/bedrooms/products/lavonia-gray-storage-bed',\n  '/collections/bedrooms/products/veil-bed',\n  '/collections/bedrooms/products/sandy-beach-bedroom-set-3',\n  '/collections/bedrooms/products/jessica-contemporary-bedroom-set',\n  '/collections/bedrooms/products/tatiana-bedroom-set',\n  '/collections/bedrooms/products/sheffield-vintage-gray-bed',\n  '/collections/bedrooms/products/kauffman-bedroom-set',\n  '/collections/bedrooms/products/serenity-bedroom-set',\n  '/collections/bedrooms/products/jessica-bedroom-set-1',\n  '/collections/bedrooms/products/crown-mark-akerson-full-panel-bed-in-chalk-b4610-f',\n  '/collections/bedrooms/products/202411t',\n  '/collections/bedrooms/products/royal-wooden-post-set',\n  '/collections/bedrooms/products/cambridge-bedroom-set',\n  '/collections/bedrooms/products/400720t',\n  '/collections/bedrooms/products/sandy-beach-bedroom-set-2',\n  '/collections/bedrooms/products/400821t',\n  '/collections/bedrooms/products/400561t',\n  '/collections/bedrooms/products/400180t',\n  '/collections/bedrooms/products/shimmer-gray-bedroom-set',\n  '/collections/bedrooms/products/briana-storage-bedroom-set',\n  '/collections/bedrooms/products/jessica-bedroom-set',\n  '/collections/bedrooms/products/204921t',\n  '/collections/bedrooms/products/franco-bedroom-set',\n  '/collections/bedrooms/products/briana-bedroom-set',\n  '/collections/bedrooms/products/400187',\n  '/collections/bedrooms/products/400410f',\n  '/collections/bedrooms/products/carlton-bedroom-set',\n  '/collections/bedrooms/products/blue-tufted-bedroom-set',\n  '/collections/bedrooms/products/orante-blue-island-bed',\n  '/collections/bedrooms/products/300200t',\n  '/collections/bedrooms/products/201971t',\n  '/collections/bedrooms/products/emily-gray-storage-bedroom-set'],\n 'catalog_pages': ['/collections/living-room',\n  '/collections/kids',\n  '/collections/bedrooms',\n  '/collections/mattresses',\n  '/collections/dining-rooms',\n  '/collections/vendors?q=Coaster',\n  '/collections/bedrooms?page=2'],\n 'other_pages': ['/policies/terms-of-service',\n  '/cart',\n  '/search',\n  '/policies/privacy-policy',\n  '/pages/contact-us',\n  '/pages/visit-outlet',\n  '/pages/financing',\n  '/',\n  '/collections/frontpage',\n  '/pages/house-package-specials',\n  '/policies/refund-policy',\n  '/collections/vendors?q=Crown%20Mark']}"
     },
     "execution_count": 123,
     "metadata": {},
     "output_type": "execute_result"
    }
   ],
   "source": [
    "converted_links"
   ],
   "metadata": {
    "collapsed": false,
    "ExecuteTime": {
     "end_time": "2024-04-18T20:03:17.779679200Z",
     "start_time": "2024-04-18T20:03:17.753656600Z"
    }
   },
   "id": "50efc70dfa77277e"
  },
  {
   "cell_type": "code",
   "execution_count": 163,
   "outputs": [],
   "source": [
    "def choose_example_links(categorized_links_dict, sample_size=5):\n",
    "    all_product_links = categorized_links_dict[\"product_pages\"]\n",
    "    all_catalog_links = categorized_links_dict[\"catalog_pages\"]\n",
    "    product_links = random.sample(all_product_links, min(sample_size, len(all_product_links)))\n",
    "    catalog_links = random.sample(all_catalog_links, min(sample_size, len(all_catalog_links)))\n",
    "    newline = \"\\n\"\n",
    "    formatted_text = f\"\"\"\n",
    "    Product Pages:\n",
    "    {newline.join([f\"- {link}\" for link in product_links])}\n",
    "    \n",
    "    Catalog Pages:\n",
    "    {newline.join([f\"- {link}\" for link in catalog_links])}\n",
    "    \"\"\"\n",
    "    return trim_extra_whitespace(formatted_text)\n"
   ],
   "metadata": {
    "collapsed": false,
    "ExecuteTime": {
     "end_time": "2024-04-19T13:09:29.237067800Z",
     "start_time": "2024-04-19T13:09:29.208324Z"
    }
   },
   "id": "2effc940506eac23"
  },
  {
   "cell_type": "code",
   "execution_count": 164,
   "outputs": [],
   "source": [
    "# Role message for the language model\n",
    "role_message = \"You are tasked with generating Python regular expressions to identify URLs that categorize web pages into product or catalog pages. Focus on extracting meaningful patterns that help differentiate between product details and broader catalog listings. Use elements in the URL path like 'collections', 'products', or similar indicators to guide the creation of these expressions.\"\n",
    "\n",
    "# Example input\n",
    "example_input = \"\"\"\n",
    "Product Pages:\n",
    "- /collections/bedrooms/products/carlton-bedroom-set\n",
    "- /collections/dining-rooms/products/oak-dining-table\n",
    "\n",
    "Catalog Pages:\n",
    "- /collections/bedrooms\n",
    "- /collections/dining-rooms\n",
    "\"\"\"\n",
    "\n",
    "# Expected output in Python regular expressions\n",
    "example_output = \"\"\"{{\"product_page_regex\": \"^/collections/[^/]+/products/.*$\", \"catalog_page_regex\": \"^/collections/[^/]+/?$\"}}\"\"\"\n",
    "\n",
    "input_template = \"\"\"{formatted_link_examples}\"\"\"\n",
    "\n",
    "messages = [(\"system\", role_message), (\"human\", example_input), (\"ai\", example_output), (\"human\", input_template)]\n",
    "messages = [(role, trim_extra_whitespace(message)) for role, message in messages]\n",
    "\n",
    "get_regexp_prompt = ChatPromptTemplate.from_messages(messages)\n"
   ],
   "metadata": {
    "collapsed": false,
    "ExecuteTime": {
     "end_time": "2024-04-19T13:09:36.715327400Z",
     "start_time": "2024-04-19T13:09:36.672302200Z"
    }
   },
   "id": "cf865fb557e24322"
  },
  {
   "cell_type": "code",
   "execution_count": 171,
   "outputs": [],
   "source": [
    "long_chain = (\n",
    "        RunnablePassthrough().assign(formatted_list=lambda d: format_links(d))\n",
    "        | RunnablePassthrough.assign(llm_answer=choose_links_prompt | basic_llm)\n",
    "        | RunnablePassthrough().assign(links_dict=lambda d: unpack_links(d, d[\"llm_answer\"]))\n",
    "        | RunnablePassthrough().assign(formatted_link_examples=lambda d: choose_example_links(d[\"links_dict\"]))\n",
    "        | get_regexp_prompt\n",
    "        | basic_llm\n",
    ")"
   ],
   "metadata": {
    "collapsed": false,
    "ExecuteTime": {
     "end_time": "2024-04-19T13:12:50.483619400Z",
     "start_time": "2024-04-19T13:12:50.442557800Z"
    }
   },
   "id": "c48411e9daa42a6"
  },
  {
   "cell_type": "code",
   "execution_count": 169,
   "outputs": [],
   "source": [
    "res = long_chain.invoke(links_dict)"
   ],
   "metadata": {
    "collapsed": false,
    "ExecuteTime": {
     "end_time": "2024-04-19T13:10:17.812611800Z",
     "start_time": "2024-04-19T13:10:11.014796600Z"
    }
   },
   "id": "219bd68b68d4f24a"
  },
  {
   "cell_type": "code",
   "execution_count": 167,
   "outputs": [],
   "source": [],
   "metadata": {
    "collapsed": false,
    "ExecuteTime": {
     "end_time": "2024-04-19T13:09:59.511576200Z",
     "start_time": "2024-04-19T13:09:59.480498200Z"
    }
   },
   "id": "e570497f3fb8cc7e"
  },
  {
   "cell_type": "code",
   "execution_count": 172,
   "outputs": [
    {
     "data": {
      "text/plain": "AIMessage(content='{\"product_page_regex\": \"^/collections/[^/]+/products/.*$\", \"catalog_page_regex\": \"^/collections/[^/]+(?:\\\\\\\\?|$)\"}', response_metadata={'token_usage': {'completion_tokens': 35, 'prompt_tokens': 280, 'total_tokens': 315}, 'model_name': 'gpt-3.5-turbo-0125', 'system_fingerprint': 'fp_d9767fc5b9', 'finish_reason': 'stop', 'logprobs': None}, id='run-88ff3c1a-ab5a-4d8c-864b-9461031ef756-0')"
     },
     "execution_count": 172,
     "metadata": {},
     "output_type": "execute_result"
    }
   ],
   "source": [
    "res"
   ],
   "metadata": {
    "collapsed": false,
    "ExecuteTime": {
     "end_time": "2024-04-19T13:13:05.061507800Z",
     "start_time": "2024-04-19T13:13:05.016682900Z"
    }
   },
   "id": "25c7ee5b52794ed2"
  },
  {
   "cell_type": "code",
   "execution_count": 173,
   "outputs": [],
   "source": [
    "new_patterns = safe_json_loads(res.content)\n",
    "key_remapping = {\n",
    "    \"product_page_regex\": \"item\",\n",
    "    \"catalog_page_regex\": \"category\",\n",
    "}\n",
    "new_patterns = {key_remapping[key]: value.strip(\"'\") for key, value in new_patterns.items()}\n"
   ],
   "metadata": {
    "collapsed": false,
    "ExecuteTime": {
     "end_time": "2024-04-19T13:13:09.209096500Z",
     "start_time": "2024-04-19T13:13:09.173036900Z"
    }
   },
   "id": "ef63a9bd6b5c6274"
  },
  {
   "cell_type": "code",
   "execution_count": 146,
   "outputs": [
    {
     "data": {
      "text/plain": "WindowsPath('E:/Work/Personal/repos/web_scrapers/spiders/texttailor/texttailor/notebooks/root_pages/www.simsfurnitureco.com.html')"
     },
     "execution_count": 146,
     "metadata": {},
     "output_type": "execute_result"
    }
   ],
   "source": [
    "subdir"
   ],
   "metadata": {
    "collapsed": false,
    "ExecuteTime": {
     "end_time": "2024-04-19T13:01:25.687947400Z",
     "start_time": "2024-04-19T13:01:25.660949600Z"
    }
   },
   "id": "fa89264dea9ac2e0"
  },
  {
   "cell_type": "code",
   "execution_count": 147,
   "outputs": [],
   "source": [
    "to_check_dir = scraped_data_dir / all_bad_index[21]"
   ],
   "metadata": {
    "collapsed": false,
    "ExecuteTime": {
     "end_time": "2024-04-19T13:01:52.090520Z",
     "start_time": "2024-04-19T13:01:52.063632700Z"
    }
   },
   "id": "7cbfcdd95044c1e6"
  },
  {
   "cell_type": "code",
   "execution_count": 159,
   "outputs": [
    {
     "name": "stderr",
     "output_type": "stream",
     "text": [
      "\u001B[32m2024-04-19 16:08:03.470\u001B[0m | \u001B[34m\u001B[1mDEBUG   \u001B[0m | \u001B[36m__main__\u001B[0m:\u001B[36mcheck_regexp_match\u001B[0m:\u001B[36m40\u001B[0m - \u001B[34m\u001B[1mRoot URL: lavishfurnitureoutlet.com\u001B[0m\n",
      "\u001B[32m2024-04-19 16:08:03.473\u001B[0m | \u001B[34m\u001B[1mDEBUG   \u001B[0m | \u001B[36m__main__\u001B[0m:\u001B[36mcheck_regexp_match\u001B[0m:\u001B[36m58\u001B[0m - \u001B[34m\u001B[1mLinks: 513, Contacts: 24, Internals: 336, Externals: 128, Unprocessed: 24\u001B[0m\n",
      "\u001B[32m2024-04-19 16:08:03.474\u001B[0m | \u001B[34m\u001B[1mDEBUG   \u001B[0m | \u001B[36m__main__\u001B[0m:\u001B[36mcheck_regexp_match\u001B[0m:\u001B[36m78\u001B[0m - \u001B[34m\u001B[1mTotal links: 59, Universal: 16, Common: 7, Rare: 36\u001B[0m\n",
      "\u001B[32m2024-04-19 16:08:03.474\u001B[0m | \u001B[34m\u001B[1mDEBUG   \u001B[0m | \u001B[36m__main__\u001B[0m:\u001B[36mcheck_regexp_match\u001B[0m:\u001B[36m88\u001B[0m - \u001B[34m\u001B[1mBase patterns: {'item': '^/collections/[^/]+/products/.*$', 'category': '^/collections/[^/]+(?:\\\\?[^/]+)?$'}\u001B[0m\n"
     ]
    },
    {
     "data": {
      "text/plain": "           both  category  item  miss  total\nuniversal     0         6     0    10     16\ncommon        0         1     6     0      7\nrare          0         2    34     0     36",
      "text/html": "<div>\n<style scoped>\n    .dataframe tbody tr th:only-of-type {\n        vertical-align: middle;\n    }\n\n    .dataframe tbody tr th {\n        vertical-align: top;\n    }\n\n    .dataframe thead th {\n        text-align: right;\n    }\n</style>\n<table border=\"1\" class=\"dataframe\">\n  <thead>\n    <tr style=\"text-align: right;\">\n      <th></th>\n      <th>both</th>\n      <th>category</th>\n      <th>item</th>\n      <th>miss</th>\n      <th>total</th>\n    </tr>\n  </thead>\n  <tbody>\n    <tr>\n      <th>universal</th>\n      <td>0</td>\n      <td>6</td>\n      <td>0</td>\n      <td>10</td>\n      <td>16</td>\n    </tr>\n    <tr>\n      <th>common</th>\n      <td>0</td>\n      <td>1</td>\n      <td>6</td>\n      <td>0</td>\n      <td>7</td>\n    </tr>\n    <tr>\n      <th>rare</th>\n      <td>0</td>\n      <td>2</td>\n      <td>34</td>\n      <td>0</td>\n      <td>36</td>\n    </tr>\n  </tbody>\n</table>\n</div>"
     },
     "execution_count": 159,
     "metadata": {},
     "output_type": "execute_result"
    }
   ],
   "source": [
    "check_result, _ = check_regexp_match(to_check_dir, new_patterns)\n",
    "check_result"
   ],
   "metadata": {
    "collapsed": false,
    "ExecuteTime": {
     "end_time": "2024-04-19T13:08:03.503860900Z",
     "start_time": "2024-04-19T13:08:00.915929800Z"
    }
   },
   "id": "7422bb81f7a684c7"
  },
  {
   "cell_type": "code",
   "execution_count": 157,
   "outputs": [
    {
     "data": {
      "text/plain": "'^/collections/[^/]+(?:\\\\?[^/]+)?$'"
     },
     "execution_count": 157,
     "metadata": {},
     "output_type": "execute_result"
    }
   ],
   "source": [
    "new_patterns[\"category\"].strip(\"'\")"
   ],
   "metadata": {
    "collapsed": false,
    "ExecuteTime": {
     "end_time": "2024-04-19T13:07:46.092992700Z",
     "start_time": "2024-04-19T13:07:46.044992700Z"
    }
   },
   "id": "31ff652da720cdb1"
  },
  {
   "cell_type": "code",
   "execution_count": 155,
   "outputs": [],
   "source": [
    "res = Out[143]"
   ],
   "metadata": {
    "collapsed": false,
    "ExecuteTime": {
     "end_time": "2024-04-19T13:07:33.297887900Z",
     "start_time": "2024-04-19T13:07:33.272844300Z"
    }
   },
   "id": "e9efd5cef530b27e"
  },
  {
   "cell_type": "code",
   "execution_count": 156,
   "outputs": [
    {
     "data": {
      "text/plain": "'{\"product_page_regex\": \"\\'^/collections/[^/]+/products/.*$\\'\", \"catalog_page_regex\": \"\\'^/collections/[^/]+(?:\\\\\\\\?[^/]+)?$\\'\"}'"
     },
     "execution_count": 156,
     "metadata": {},
     "output_type": "execute_result"
    }
   ],
   "source": [
    "res.content"
   ],
   "metadata": {
    "collapsed": false,
    "ExecuteTime": {
     "end_time": "2024-04-19T13:07:36.438162600Z",
     "start_time": "2024-04-19T13:07:36.414585Z"
    }
   },
   "id": "4052f1c4c156a57f"
  },
  {
   "cell_type": "code",
   "execution_count": null,
   "outputs": [],
   "source": [],
   "metadata": {
    "collapsed": false
   },
   "id": "311815a8cdd0799f"
  },
  {
   "cell_type": "code",
   "execution_count": null,
   "outputs": [],
   "source": [],
   "metadata": {
    "collapsed": false
   },
   "id": "cca919e5aa0bfd6"
  },
  {
   "cell_type": "code",
   "execution_count": null,
   "outputs": [],
   "source": [],
   "metadata": {
    "collapsed": false
   },
   "id": "584c962c1fc88606"
  },
  {
   "cell_type": "code",
   "execution_count": null,
   "outputs": [],
   "source": [],
   "metadata": {
    "collapsed": false
   },
   "id": "fc9932ccc8a43f0d"
  }
 ],
 "metadata": {
  "kernelspec": {
   "display_name": "Python 3",
   "language": "python",
   "name": "python3"
  },
  "language_info": {
   "codemirror_mode": {
    "name": "ipython",
    "version": 2
   },
   "file_extension": ".py",
   "mimetype": "text/x-python",
   "name": "python",
   "nbconvert_exporter": "python",
   "pygments_lexer": "ipython2",
   "version": "2.7.6"
  }
 },
 "nbformat": 4,
 "nbformat_minor": 5
}
