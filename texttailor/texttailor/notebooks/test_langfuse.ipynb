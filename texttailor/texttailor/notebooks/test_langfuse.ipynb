{
 "cells": [
  {
   "cell_type": "code",
   "execution_count": 21,
   "id": "initial_id",
   "metadata": {
    "collapsed": true,
    "ExecuteTime": {
     "end_time": "2024-05-23T19:13:42.380779600Z",
     "start_time": "2024-05-23T19:13:42.367779700Z"
    }
   },
   "outputs": [
    {
     "data": {
      "text/plain": "True"
     },
     "execution_count": 21,
     "metadata": {},
     "output_type": "execute_result"
    }
   ],
   "source": [
    "import json\n",
    "import os\n",
    "import random\n",
    "\n",
    "from mvodolagin_personal_imports import *\n",
    "\n",
    "load_dotenv()"
   ]
  },
  {
   "cell_type": "code",
   "execution_count": 4,
   "outputs": [],
   "source": [
    "from mvodolagin_personal_imports.langchain_stuff import *"
   ],
   "metadata": {
    "collapsed": false,
    "ExecuteTime": {
     "end_time": "2024-05-21T19:16:03.397958100Z",
     "start_time": "2024-05-21T19:16:00.579970200Z"
    }
   },
   "id": "46ee156a8c1d7443"
  },
  {
   "cell_type": "code",
   "execution_count": 5,
   "outputs": [],
   "source": [
    "data_dir = Path(r\"E:\\Work\\TextTailor\\repos\\text_tailor_scrapers\\texttailor\\texttailor\\dev\\data\")"
   ],
   "metadata": {
    "collapsed": false,
    "ExecuteTime": {
     "end_time": "2024-05-22T10:01:34.497730500Z",
     "start_time": "2024-05-22T10:01:34.489729800Z"
    }
   },
   "id": "45e5f9281c8fd985"
  },
  {
   "cell_type": "code",
   "execution_count": 9,
   "outputs": [],
   "source": [
    "for site_dir in data_dir.iterdir():\n",
    "    if not site_dir.is_dir():\n",
    "        continue\n",
    "    item_files = list(site_dir.glob(\"item_*.json\"))\n",
    "    if len(item_files) < 20:\n",
    "        continue\n",
    "    break"
   ],
   "metadata": {
    "collapsed": false,
    "ExecuteTime": {
     "end_time": "2024-05-22T10:03:57.986125800Z",
     "start_time": "2024-05-22T10:03:57.977086500Z"
    }
   },
   "id": "8ecf528bd6652677"
  },
  {
   "cell_type": "code",
   "execution_count": 20,
   "outputs": [],
   "source": [
    "examples = []\n",
    "\n",
    "random.shuffle(item_files)\n",
    "\n",
    "for i, fp in enumerate(item_files):\n",
    "    data = json.loads(fp.read_text(encoding=\"utf-8\"))\n",
    "    original_description_text = \"\\n\\n\".join(data[\"matching_texts\"])\n",
    "    examples.append(original_description_text)\n",
    "    if i > 5:\n",
    "        break"
   ],
   "metadata": {
    "collapsed": false,
    "ExecuteTime": {
     "end_time": "2024-05-23T19:12:13.492608500Z",
     "start_time": "2024-05-23T19:12:13.477608800Z"
    }
   },
   "id": "de8b21e8acfc4028"
  },
  {
   "cell_type": "code",
   "execution_count": 15,
   "outputs": [
    {
     "data": {
      "text/plain": "dict_keys(['url', 'unique_content', 'matching_texts', 'type'])"
     },
     "execution_count": 15,
     "metadata": {},
     "output_type": "execute_result"
    }
   ],
   "source": [
    "data.keys()"
   ],
   "metadata": {
    "collapsed": false,
    "ExecuteTime": {
     "end_time": "2024-05-22T10:05:17.223658900Z",
     "start_time": "2024-05-22T10:05:17.215656500Z"
    }
   },
   "id": "2af3f2b5b0faf4f9"
  },
  {
   "cell_type": "code",
   "execution_count": 16,
   "outputs": [
    {
     "data": {
      "text/plain": "'https://ahfshop.com/collections/living-room/products/traemore-sofa'"
     },
     "execution_count": 16,
     "metadata": {},
     "output_type": "execute_result"
    }
   ],
   "source": [
    "data[\"url\"]"
   ],
   "metadata": {
    "collapsed": false,
    "ExecuteTime": {
     "end_time": "2024-05-22T10:05:25.472428300Z",
     "start_time": "2024-05-22T10:05:25.460429100Z"
    }
   },
   "id": "bba2ca579f56cb91"
  },
  {
   "cell_type": "code",
   "execution_count": 19,
   "outputs": [
    {
     "data": {
      "text/plain": "'Don’t be shy—take a seat on this farmhouse-style sofa. Dressed in a modern and relaxed linen-weave upholstery, it’s a luxurious complement to rustic accents with its light and airy palette and elegantly turned feet. What a picture-perfect finish to any shabby chic or countryside living room.'"
     },
     "execution_count": 19,
     "metadata": {},
     "output_type": "execute_result"
    }
   ],
   "source": [
    "original_description_text"
   ],
   "metadata": {
    "collapsed": false,
    "ExecuteTime": {
     "end_time": "2024-05-22T10:06:07.351592200Z",
     "start_time": "2024-05-22T10:06:07.339592600Z"
    }
   },
   "id": "ac9bfc41b0cbfea4"
  },
  {
   "cell_type": "code",
   "execution_count": 26,
   "outputs": [],
   "source": [
    "import langsmith\n",
    "\n",
    "langsmith_client = langsmith.client.Client()\n",
    "dataset_name = \"Short Test\"\n",
    "\n",
    "# dataset = langsmith_client.create_dataset(dataset_name=dataset_name)\n",
    "# for e in examples:\n",
    "#     langsmith_client.create_example(dataset_name=dataset_name, inputs={\"original_description\": e})"
   ],
   "metadata": {
    "collapsed": false,
    "ExecuteTime": {
     "end_time": "2024-05-23T19:15:05.053240100Z",
     "start_time": "2024-05-23T19:15:04.237686200Z"
    }
   },
   "id": "72cdc12972232077"
  },
  {
   "cell_type": "code",
   "execution_count": 32,
   "outputs": [],
   "source": [
    "omni_llm = ChatOpenAI(model_name=\"gpt-4o\", **common_settings)"
   ],
   "metadata": {
    "collapsed": false,
    "ExecuteTime": {
     "end_time": "2024-05-23T19:21:03.320590300Z",
     "start_time": "2024-05-23T19:21:03.085388600Z"
    }
   },
   "id": "fa28ab0ed6748d0a"
  },
  {
   "cell_type": "code",
   "execution_count": 28,
   "outputs": [],
   "source": [
    "import openai"
   ],
   "metadata": {
    "collapsed": false,
    "ExecuteTime": {
     "end_time": "2024-05-23T19:18:58.754483800Z",
     "start_time": "2024-05-23T19:18:58.737482200Z"
    }
   },
   "id": "42396c24f544767a"
  },
  {
   "cell_type": "code",
   "execution_count": null,
   "outputs": [],
   "source": [],
   "metadata": {
    "collapsed": false
   },
   "id": "5137a88d01c5c0dd"
  },
  {
   "cell_type": "code",
   "execution_count": null,
   "outputs": [],
   "source": [],
   "metadata": {
    "collapsed": false
   },
   "id": "5f4a814cf012fffa"
  },
  {
   "cell_type": "code",
   "execution_count": 67,
   "outputs": [],
   "source": [
    "def get_baseline_chain(inputs, llm=None):\n",
    "    if not llm:\n",
    "        llm = basic_llm\n",
    "    role_message = \"\"\"You are an expert copywriter specialized in crafting engaging and SEO-optimized product descriptions for an online furniture store. Your task is to transform basic product descriptions into compelling, informative content that appeals to potential customers and search engines alike. Each description should be around 400 words, creatively written to highlight the features and benefits of the product while incorporating relevant keywords to boost search engine visibility. Your writing should be clear, lively, and persuasive, designed to attract and retain customer interest and drive sales.\"\"\"\n",
    "\n",
    "    human_template = \"{original_description}\"\n",
    "\n",
    "    messages = [(\"system\", role_message), (\"human\", human_template)]\n",
    "    messages = [(role, trim_extra_whitespace(message)) for role, message in messages]\n",
    "\n",
    "    full_prompt = ChatPromptTemplate.from_messages(messages)\n",
    "    chain = full_prompt | llm | RunnableLambda(lambda x: x.content)\n",
    "    return chain\n"
   ],
   "metadata": {
    "collapsed": false,
    "ExecuteTime": {
     "end_time": "2024-05-26T18:37:54.087317400Z",
     "start_time": "2024-05-26T18:37:54.073108Z"
    }
   },
   "id": "7adf39a4eb0351a3"
  },
  {
   "cell_type": "code",
   "execution_count": 60,
   "outputs": [
    {
     "name": "stdout",
     "output_type": "stream",
     "text": [
      "View the evaluation results for project 'terrific-time-20' at:\n",
      "https://smith.langchain.com/o/d7a1c614-828d-5fe5-a5f1-6b6c2644f384/datasets/e2d85fc8-47fb-4143-90c8-a36c8b26ce68/compare?selectedSessions=a4ed3ae5-db0e-452a-9db2-4db71e47f431\n",
      "\n",
      "View all tests for Dataset Short Test at:\n",
      "https://smith.langchain.com/o/d7a1c614-828d-5fe5-a5f1-6b6c2644f384/datasets/e2d85fc8-47fb-4143-90c8-a36c8b26ce68\n"
     ]
    },
    {
     "ename": "AttributeError",
     "evalue": "'list' object has no attribute 'evaluators'",
     "output_type": "error",
     "traceback": [
      "\u001B[1;31m---------------------------------------------------------------------------\u001B[0m",
      "\u001B[1;31mAttributeError\u001B[0m                            Traceback (most recent call last)",
      "Cell \u001B[1;32mIn[60], line 4\u001B[0m\n\u001B[0;32m      1\u001B[0m \u001B[38;5;28;01mfrom\u001B[39;00m \u001B[38;5;21;01mfunctools\u001B[39;00m \u001B[38;5;28;01mimport\u001B[39;00m partial\n\u001B[0;32m      3\u001B[0m run_metadata \u001B[38;5;241m=\u001B[39m {\u001B[38;5;124m\"\u001B[39m\u001B[38;5;124mversion\u001B[39m\u001B[38;5;124m\"\u001B[39m: \u001B[38;5;124m\"\u001B[39m\u001B[38;5;124mdev_baseline_1\u001B[39m\u001B[38;5;124m\"\u001B[39m}\n\u001B[1;32m----> 4\u001B[0m \u001B[43mlangsmith_client\u001B[49m\u001B[38;5;241;43m.\u001B[39;49m\u001B[43mrun_on_dataset\u001B[49m\u001B[43m(\u001B[49m\n\u001B[0;32m      5\u001B[0m \u001B[43m    \u001B[49m\u001B[43mllm_or_chain_factory\u001B[49m\u001B[38;5;241;43m=\u001B[39;49m\u001B[43mpartial\u001B[49m\u001B[43m(\u001B[49m\u001B[43mget_baseline_chain\u001B[49m\u001B[43m,\u001B[49m\u001B[43m \u001B[49m\u001B[43mllm\u001B[49m\u001B[38;5;241;43m=\u001B[39;49m\u001B[43mbasic_llm\u001B[49m\u001B[43m)\u001B[49m\u001B[43m,\u001B[49m\u001B[43m \u001B[49m\u001B[43mdataset_name\u001B[49m\u001B[38;5;241;43m=\u001B[39;49m\u001B[43mdataset_name\u001B[49m\u001B[43m,\u001B[49m\n\u001B[0;32m      6\u001B[0m \u001B[43m    \u001B[49m\u001B[43mproject_metadata\u001B[49m\u001B[38;5;241;43m=\u001B[39;49m\u001B[43m{\u001B[49m\u001B[38;5;241;43m*\u001B[39;49m\u001B[38;5;241;43m*\u001B[39;49m\u001B[43mrun_metadata\u001B[49m\u001B[43m,\u001B[49m\u001B[43m \u001B[49m\u001B[38;5;124;43m\"\u001B[39;49m\u001B[38;5;124;43mmodel\u001B[39;49m\u001B[38;5;124;43m\"\u001B[39;49m\u001B[43m:\u001B[49m\u001B[43m \u001B[49m\u001B[38;5;124;43m\"\u001B[39;49m\u001B[38;5;124;43m3.5\u001B[39;49m\u001B[38;5;124;43m\"\u001B[39;49m\u001B[43m}\u001B[49m\u001B[43m,\u001B[49m\n\u001B[0;32m      7\u001B[0m \u001B[43m    \u001B[49m\u001B[43mevaluation\u001B[49m\u001B[38;5;241;43m=\u001B[39;49m\u001B[43m[\u001B[49m\u001B[38;5;124;43m\"\u001B[39;49m\u001B[38;5;124;43meval_general\u001B[39;49m\u001B[38;5;124;43m\"\u001B[39;49m\u001B[43m]\u001B[49m\n\u001B[0;32m      8\u001B[0m \u001B[43m)\u001B[49m\n",
      "File \u001B[1;32mC:\\Tools\\Miniconda3\\envs\\langchain_stuff\\lib\\site-packages\\langsmith\\client.py:4180\u001B[0m, in \u001B[0;36mClient.run_on_dataset\u001B[1;34m(self, dataset_name, llm_or_chain_factory, evaluation, concurrency_level, project_name, project_metadata, dataset_version, verbose, input_mapper, revision_id, **kwargs)\u001B[0m\n\u001B[0;32m   4175\u001B[0m \u001B[38;5;28;01mexcept\u001B[39;00m \u001B[38;5;167;01mImportError\u001B[39;00m:\n\u001B[0;32m   4176\u001B[0m     \u001B[38;5;28;01mraise\u001B[39;00m \u001B[38;5;167;01mImportError\u001B[39;00m(\n\u001B[0;32m   4177\u001B[0m         \u001B[38;5;124m\"\u001B[39m\u001B[38;5;124mThe client.run_on_dataset function requires the langchain\u001B[39m\u001B[38;5;124m\"\u001B[39m\n\u001B[0;32m   4178\u001B[0m         \u001B[38;5;124m\"\u001B[39m\u001B[38;5;124mpackage to run.\u001B[39m\u001B[38;5;130;01m\\n\u001B[39;00m\u001B[38;5;124mInstall with pip install langchain\u001B[39m\u001B[38;5;124m\"\u001B[39m\n\u001B[0;32m   4179\u001B[0m     )\n\u001B[1;32m-> 4180\u001B[0m \u001B[38;5;28;01mreturn\u001B[39;00m \u001B[43m_run_on_dataset\u001B[49m\u001B[43m(\u001B[49m\n\u001B[0;32m   4181\u001B[0m \u001B[43m    \u001B[49m\u001B[43mdataset_name\u001B[49m\u001B[38;5;241;43m=\u001B[39;49m\u001B[43mdataset_name\u001B[49m\u001B[43m,\u001B[49m\n\u001B[0;32m   4182\u001B[0m \u001B[43m    \u001B[49m\u001B[43mllm_or_chain_factory\u001B[49m\u001B[38;5;241;43m=\u001B[39;49m\u001B[43mllm_or_chain_factory\u001B[49m\u001B[43m,\u001B[49m\n\u001B[0;32m   4183\u001B[0m \u001B[43m    \u001B[49m\u001B[43mconcurrency_level\u001B[49m\u001B[38;5;241;43m=\u001B[39;49m\u001B[43mconcurrency_level\u001B[49m\u001B[43m,\u001B[49m\n\u001B[0;32m   4184\u001B[0m \u001B[43m    \u001B[49m\u001B[43mclient\u001B[49m\u001B[38;5;241;43m=\u001B[39;49m\u001B[38;5;28;43mself\u001B[39;49m\u001B[43m,\u001B[49m\n\u001B[0;32m   4185\u001B[0m \u001B[43m    \u001B[49m\u001B[43mevaluation\u001B[49m\u001B[38;5;241;43m=\u001B[39;49m\u001B[43mevaluation\u001B[49m\u001B[43m,\u001B[49m\n\u001B[0;32m   4186\u001B[0m \u001B[43m    \u001B[49m\u001B[43mproject_name\u001B[49m\u001B[38;5;241;43m=\u001B[39;49m\u001B[43mproject_name\u001B[49m\u001B[43m,\u001B[49m\n\u001B[0;32m   4187\u001B[0m \u001B[43m    \u001B[49m\u001B[43mproject_metadata\u001B[49m\u001B[38;5;241;43m=\u001B[39;49m\u001B[43mproject_metadata\u001B[49m\u001B[43m,\u001B[49m\n\u001B[0;32m   4188\u001B[0m \u001B[43m    \u001B[49m\u001B[43mverbose\u001B[49m\u001B[38;5;241;43m=\u001B[39;49m\u001B[43mverbose\u001B[49m\u001B[43m,\u001B[49m\n\u001B[0;32m   4189\u001B[0m \u001B[43m    \u001B[49m\u001B[43minput_mapper\u001B[49m\u001B[38;5;241;43m=\u001B[39;49m\u001B[43minput_mapper\u001B[49m\u001B[43m,\u001B[49m\n\u001B[0;32m   4190\u001B[0m \u001B[43m    \u001B[49m\u001B[43mrevision_id\u001B[49m\u001B[38;5;241;43m=\u001B[39;49m\u001B[43mrevision_id\u001B[49m\u001B[43m,\u001B[49m\n\u001B[0;32m   4191\u001B[0m \u001B[43m    \u001B[49m\u001B[43mdataset_version\u001B[49m\u001B[38;5;241;43m=\u001B[39;49m\u001B[43mdataset_version\u001B[49m\u001B[43m,\u001B[49m\n\u001B[0;32m   4192\u001B[0m \u001B[43m    \u001B[49m\u001B[38;5;241;43m*\u001B[39;49m\u001B[38;5;241;43m*\u001B[39;49m\u001B[43mkwargs\u001B[49m\u001B[43m,\u001B[49m\n\u001B[0;32m   4193\u001B[0m \u001B[43m\u001B[49m\u001B[43m)\u001B[49m\n",
      "File \u001B[1;32mC:\\Tools\\Miniconda3\\envs\\langchain_stuff\\lib\\site-packages\\langchain\\smith\\evaluation\\runner_utils.py:1370\u001B[0m, in \u001B[0;36mrun_on_dataset\u001B[1;34m(client, dataset_name, llm_or_chain_factory, evaluation, dataset_version, concurrency_level, project_name, project_metadata, verbose, revision_id, **kwargs)\u001B[0m\n\u001B[0;32m   1362\u001B[0m     warn_deprecated(\n\u001B[0;32m   1363\u001B[0m         \u001B[38;5;124m\"\u001B[39m\u001B[38;5;124m0.0.305\u001B[39m\u001B[38;5;124m\"\u001B[39m,\n\u001B[0;32m   1364\u001B[0m         message\u001B[38;5;241m=\u001B[39m\u001B[38;5;124m\"\u001B[39m\u001B[38;5;124mThe following arguments are deprecated and \u001B[39m\u001B[38;5;124m\"\u001B[39m\n\u001B[1;32m   (...)\u001B[0m\n\u001B[0;32m   1367\u001B[0m         removal\u001B[38;5;241m=\u001B[39m\u001B[38;5;124m\"\u001B[39m\u001B[38;5;124m0.0.305\u001B[39m\u001B[38;5;124m\"\u001B[39m,\n\u001B[0;32m   1368\u001B[0m     )\n\u001B[0;32m   1369\u001B[0m client \u001B[38;5;241m=\u001B[39m client \u001B[38;5;129;01mor\u001B[39;00m Client()\n\u001B[1;32m-> 1370\u001B[0m container \u001B[38;5;241m=\u001B[39m \u001B[43m_DatasetRunContainer\u001B[49m\u001B[38;5;241;43m.\u001B[39;49m\u001B[43mprepare\u001B[49m\u001B[43m(\u001B[49m\n\u001B[0;32m   1371\u001B[0m \u001B[43m    \u001B[49m\u001B[43mclient\u001B[49m\u001B[43m,\u001B[49m\n\u001B[0;32m   1372\u001B[0m \u001B[43m    \u001B[49m\u001B[43mdataset_name\u001B[49m\u001B[43m,\u001B[49m\n\u001B[0;32m   1373\u001B[0m \u001B[43m    \u001B[49m\u001B[43mllm_or_chain_factory\u001B[49m\u001B[43m,\u001B[49m\n\u001B[0;32m   1374\u001B[0m \u001B[43m    \u001B[49m\u001B[43mproject_name\u001B[49m\u001B[43m,\u001B[49m\n\u001B[0;32m   1375\u001B[0m \u001B[43m    \u001B[49m\u001B[43mevaluation\u001B[49m\u001B[43m,\u001B[49m\n\u001B[0;32m   1376\u001B[0m \u001B[43m    \u001B[49m\u001B[43mtags\u001B[49m\u001B[43m,\u001B[49m\n\u001B[0;32m   1377\u001B[0m \u001B[43m    \u001B[49m\u001B[43minput_mapper\u001B[49m\u001B[43m,\u001B[49m\n\u001B[0;32m   1378\u001B[0m \u001B[43m    \u001B[49m\u001B[43mconcurrency_level\u001B[49m\u001B[43m,\u001B[49m\n\u001B[0;32m   1379\u001B[0m \u001B[43m    \u001B[49m\u001B[43mproject_metadata\u001B[49m\u001B[38;5;241;43m=\u001B[39;49m\u001B[43mproject_metadata\u001B[49m\u001B[43m,\u001B[49m\n\u001B[0;32m   1380\u001B[0m \u001B[43m    \u001B[49m\u001B[43mrevision_id\u001B[49m\u001B[38;5;241;43m=\u001B[39;49m\u001B[43mrevision_id\u001B[49m\u001B[43m,\u001B[49m\n\u001B[0;32m   1381\u001B[0m \u001B[43m    \u001B[49m\u001B[43mdataset_version\u001B[49m\u001B[38;5;241;43m=\u001B[39;49m\u001B[43mdataset_version\u001B[49m\u001B[43m,\u001B[49m\n\u001B[0;32m   1382\u001B[0m \u001B[43m\u001B[49m\u001B[43m)\u001B[49m\n\u001B[0;32m   1383\u001B[0m \u001B[38;5;28;01mif\u001B[39;00m concurrency_level \u001B[38;5;241m==\u001B[39m \u001B[38;5;241m0\u001B[39m:\n\u001B[0;32m   1384\u001B[0m     batch_results \u001B[38;5;241m=\u001B[39m [\n\u001B[0;32m   1385\u001B[0m         _run_llm_or_chain(\n\u001B[0;32m   1386\u001B[0m             example,\n\u001B[1;32m   (...)\u001B[0m\n\u001B[0;32m   1391\u001B[0m         \u001B[38;5;28;01mfor\u001B[39;00m example, config \u001B[38;5;129;01min\u001B[39;00m \u001B[38;5;28mzip\u001B[39m(container\u001B[38;5;241m.\u001B[39mexamples, container\u001B[38;5;241m.\u001B[39mconfigs)\n\u001B[0;32m   1392\u001B[0m     ]\n",
      "File \u001B[1;32mC:\\Tools\\Miniconda3\\envs\\langchain_stuff\\lib\\site-packages\\langchain\\smith\\evaluation\\runner_utils.py:1190\u001B[0m, in \u001B[0;36m_DatasetRunContainer.prepare\u001B[1;34m(cls, client, dataset_name, llm_or_chain_factory, project_name, evaluation, tags, input_mapper, concurrency_level, project_metadata, revision_id, dataset_version)\u001B[0m\n\u001B[0;32m   1188\u001B[0m     run_metadata[\u001B[38;5;124m\"\u001B[39m\u001B[38;5;124mrevision_id\u001B[39m\u001B[38;5;124m\"\u001B[39m] \u001B[38;5;241m=\u001B[39m revision_id\n\u001B[0;32m   1189\u001B[0m wrapped_model \u001B[38;5;241m=\u001B[39m _wrap_in_chain_factory(llm_or_chain_factory)\n\u001B[1;32m-> 1190\u001B[0m run_evaluators \u001B[38;5;241m=\u001B[39m \u001B[43m_setup_evaluation\u001B[49m\u001B[43m(\u001B[49m\n\u001B[0;32m   1191\u001B[0m \u001B[43m    \u001B[49m\u001B[43mwrapped_model\u001B[49m\u001B[43m,\u001B[49m\u001B[43m \u001B[49m\u001B[43mexamples\u001B[49m\u001B[43m,\u001B[49m\u001B[43m \u001B[49m\u001B[43mevaluation\u001B[49m\u001B[43m,\u001B[49m\u001B[43m \u001B[49m\u001B[43mdataset\u001B[49m\u001B[38;5;241;43m.\u001B[39;49m\u001B[43mdata_type\u001B[49m\u001B[43m \u001B[49m\u001B[38;5;129;43;01mor\u001B[39;49;00m\u001B[43m \u001B[49m\u001B[43mDataType\u001B[49m\u001B[38;5;241;43m.\u001B[39;49m\u001B[43mkv\u001B[49m\n\u001B[0;32m   1192\u001B[0m \u001B[43m\u001B[49m\u001B[43m)\u001B[49m\n\u001B[0;32m   1193\u001B[0m _validate_example_inputs(examples[\u001B[38;5;241m0\u001B[39m], wrapped_model, input_mapper)\n\u001B[0;32m   1194\u001B[0m progress_bar \u001B[38;5;241m=\u001B[39m progress\u001B[38;5;241m.\u001B[39mProgressBarCallback(\u001B[38;5;28mlen\u001B[39m(examples))\n",
      "File \u001B[1;32mC:\\Tools\\Miniconda3\\envs\\langchain_stuff\\lib\\site-packages\\langchain\\smith\\evaluation\\runner_utils.py:435\u001B[0m, in \u001B[0;36m_setup_evaluation\u001B[1;34m(llm_or_chain_factory, examples, evaluation, data_type)\u001B[0m\n\u001B[0;32m    433\u001B[0m         run_inputs \u001B[38;5;241m=\u001B[39m chain\u001B[38;5;241m.\u001B[39minput_keys \u001B[38;5;28;01mif\u001B[39;00m \u001B[38;5;28misinstance\u001B[39m(chain, Chain) \u001B[38;5;28;01melse\u001B[39;00m \u001B[38;5;28;01mNone\u001B[39;00m\n\u001B[0;32m    434\u001B[0m         run_outputs \u001B[38;5;241m=\u001B[39m chain\u001B[38;5;241m.\u001B[39moutput_keys \u001B[38;5;28;01mif\u001B[39;00m \u001B[38;5;28misinstance\u001B[39m(chain, Chain) \u001B[38;5;28;01melse\u001B[39;00m \u001B[38;5;28;01mNone\u001B[39;00m\n\u001B[1;32m--> 435\u001B[0m     run_evaluators \u001B[38;5;241m=\u001B[39m \u001B[43m_load_run_evaluators\u001B[49m\u001B[43m(\u001B[49m\n\u001B[0;32m    436\u001B[0m \u001B[43m        \u001B[49m\u001B[43mevaluation\u001B[49m\u001B[43m,\u001B[49m\n\u001B[0;32m    437\u001B[0m \u001B[43m        \u001B[49m\u001B[43mrun_type\u001B[49m\u001B[43m,\u001B[49m\n\u001B[0;32m    438\u001B[0m \u001B[43m        \u001B[49m\u001B[43mdata_type\u001B[49m\u001B[43m,\u001B[49m\n\u001B[0;32m    439\u001B[0m \u001B[43m        \u001B[49m\u001B[38;5;28;43mlist\u001B[39;49m\u001B[43m(\u001B[49m\u001B[43mexamples\u001B[49m\u001B[43m[\u001B[49m\u001B[38;5;241;43m0\u001B[39;49m\u001B[43m]\u001B[49m\u001B[38;5;241;43m.\u001B[39;49m\u001B[43moutputs\u001B[49m\u001B[43m)\u001B[49m\u001B[43m \u001B[49m\u001B[38;5;28;43;01mif\u001B[39;49;00m\u001B[43m \u001B[49m\u001B[43mexamples\u001B[49m\u001B[43m[\u001B[49m\u001B[38;5;241;43m0\u001B[39;49m\u001B[43m]\u001B[49m\u001B[38;5;241;43m.\u001B[39;49m\u001B[43moutputs\u001B[49m\u001B[43m \u001B[49m\u001B[38;5;28;43;01melse\u001B[39;49;00m\u001B[43m \u001B[49m\u001B[38;5;28;43;01mNone\u001B[39;49;00m\u001B[43m,\u001B[49m\n\u001B[0;32m    440\u001B[0m \u001B[43m        \u001B[49m\u001B[43mrun_inputs\u001B[49m\u001B[43m,\u001B[49m\n\u001B[0;32m    441\u001B[0m \u001B[43m        \u001B[49m\u001B[43mrun_outputs\u001B[49m\u001B[43m,\u001B[49m\n\u001B[0;32m    442\u001B[0m \u001B[43m    \u001B[49m\u001B[43m)\u001B[49m\n\u001B[0;32m    443\u001B[0m \u001B[38;5;28;01melse\u001B[39;00m:\n\u001B[0;32m    444\u001B[0m     \u001B[38;5;66;03m# TODO: Create a default helpfulness evaluator\u001B[39;00m\n\u001B[0;32m    445\u001B[0m     run_evaluators \u001B[38;5;241m=\u001B[39m \u001B[38;5;28;01mNone\u001B[39;00m\n",
      "File \u001B[1;32mC:\\Tools\\Miniconda3\\envs\\langchain_stuff\\lib\\site-packages\\langchain\\smith\\evaluation\\runner_utils.py:612\u001B[0m, in \u001B[0;36m_load_run_evaluators\u001B[1;34m(config, run_type, data_type, example_outputs, run_inputs, run_outputs)\u001B[0m\n\u001B[0;32m    610\u001B[0m run_evaluators \u001B[38;5;241m=\u001B[39m []\n\u001B[0;32m    611\u001B[0m input_key, prediction_key, reference_key \u001B[38;5;241m=\u001B[39m \u001B[38;5;28;01mNone\u001B[39;00m, \u001B[38;5;28;01mNone\u001B[39;00m, \u001B[38;5;28;01mNone\u001B[39;00m\n\u001B[1;32m--> 612\u001B[0m \u001B[38;5;28;01mif\u001B[39;00m \u001B[43mconfig\u001B[49m\u001B[38;5;241;43m.\u001B[39;49m\u001B[43mevaluators\u001B[49m \u001B[38;5;129;01mor\u001B[39;00m (\n\u001B[0;32m    613\u001B[0m     config\u001B[38;5;241m.\u001B[39mcustom_evaluators\n\u001B[0;32m    614\u001B[0m     \u001B[38;5;129;01mand\u001B[39;00m \u001B[38;5;28many\u001B[39m([\u001B[38;5;28misinstance\u001B[39m(e, StringEvaluator) \u001B[38;5;28;01mfor\u001B[39;00m e \u001B[38;5;129;01min\u001B[39;00m config\u001B[38;5;241m.\u001B[39mcustom_evaluators])\n\u001B[0;32m    615\u001B[0m ):\n\u001B[0;32m    616\u001B[0m     input_key, prediction_key, reference_key \u001B[38;5;241m=\u001B[39m _get_keys(\n\u001B[0;32m    617\u001B[0m         config, run_inputs, run_outputs, example_outputs\n\u001B[0;32m    618\u001B[0m     )\n\u001B[0;32m    619\u001B[0m \u001B[38;5;28;01mfor\u001B[39;00m eval_config \u001B[38;5;129;01min\u001B[39;00m config\u001B[38;5;241m.\u001B[39mevaluators:\n",
      "\u001B[1;31mAttributeError\u001B[0m: 'list' object has no attribute 'evaluators'"
     ]
    }
   ],
   "source": [
    "from functools import partial\n",
    "\n",
    "run_metadata = {\"version\": \"dev_baseline_1\"}\n",
    "langsmith_client.run_on_dataset(\n",
    "    llm_or_chain_factory=partial(get_baseline_chain, llm=basic_llm), dataset_name=dataset_name,\n",
    "    project_metadata={**run_metadata, \"model\": \"3.5\"},\n",
    "    evaluation=[\"eval_general\"]\n",
    ")"
   ],
   "metadata": {
    "collapsed": false,
    "ExecuteTime": {
     "end_time": "2024-05-26T18:25:37.880918300Z",
     "start_time": "2024-05-26T18:25:36.601596600Z"
    }
   },
   "id": "2c49b829e4595932"
  },
  {
   "cell_type": "code",
   "execution_count": 40,
   "outputs": [
    {
     "ename": "LangSmithError",
     "evalue": "Failed to GET /datasets in LangSmith API. HTTPSConnectionPool(host='api.smith.langchain.com', port=443): Read timed out. (read timeout=10.0)\n",
     "output_type": "error",
     "traceback": [
      "\u001B[1;31m---------------------------------------------------------------------------\u001B[0m",
      "\u001B[1;31mtimeout\u001B[0m                                   Traceback (most recent call last)",
      "File \u001B[1;32mC:\\Tools\\Miniconda3\\envs\\langchain_stuff\\lib\\site-packages\\urllib3\\connectionpool.py:537\u001B[0m, in \u001B[0;36mHTTPConnectionPool._make_request\u001B[1;34m(self, conn, method, url, body, headers, retries, timeout, chunked, response_conn, preload_content, decode_content, enforce_content_length)\u001B[0m\n\u001B[0;32m    536\u001B[0m \u001B[38;5;28;01mtry\u001B[39;00m:\n\u001B[1;32m--> 537\u001B[0m     response \u001B[38;5;241m=\u001B[39m \u001B[43mconn\u001B[49m\u001B[38;5;241;43m.\u001B[39;49m\u001B[43mgetresponse\u001B[49m\u001B[43m(\u001B[49m\u001B[43m)\u001B[49m\n\u001B[0;32m    538\u001B[0m \u001B[38;5;28;01mexcept\u001B[39;00m (BaseSSLError, \u001B[38;5;167;01mOSError\u001B[39;00m) \u001B[38;5;28;01mas\u001B[39;00m e:\n",
      "File \u001B[1;32mC:\\Tools\\Miniconda3\\envs\\langchain_stuff\\lib\\site-packages\\urllib3\\connection.py:466\u001B[0m, in \u001B[0;36mHTTPConnection.getresponse\u001B[1;34m(self)\u001B[0m\n\u001B[0;32m    465\u001B[0m \u001B[38;5;66;03m# Get the response from http.client.HTTPConnection\u001B[39;00m\n\u001B[1;32m--> 466\u001B[0m httplib_response \u001B[38;5;241m=\u001B[39m \u001B[38;5;28;43msuper\u001B[39;49m\u001B[43m(\u001B[49m\u001B[43m)\u001B[49m\u001B[38;5;241;43m.\u001B[39;49m\u001B[43mgetresponse\u001B[49m\u001B[43m(\u001B[49m\u001B[43m)\u001B[49m\n\u001B[0;32m    468\u001B[0m \u001B[38;5;28;01mtry\u001B[39;00m:\n",
      "File \u001B[1;32mC:\\Tools\\Miniconda3\\envs\\langchain_stuff\\lib\\http\\client.py:1348\u001B[0m, in \u001B[0;36mHTTPConnection.getresponse\u001B[1;34m(self)\u001B[0m\n\u001B[0;32m   1347\u001B[0m \u001B[38;5;28;01mtry\u001B[39;00m:\n\u001B[1;32m-> 1348\u001B[0m     \u001B[43mresponse\u001B[49m\u001B[38;5;241;43m.\u001B[39;49m\u001B[43mbegin\u001B[49m\u001B[43m(\u001B[49m\u001B[43m)\u001B[49m\n\u001B[0;32m   1349\u001B[0m \u001B[38;5;28;01mexcept\u001B[39;00m \u001B[38;5;167;01mConnectionError\u001B[39;00m:\n",
      "File \u001B[1;32mC:\\Tools\\Miniconda3\\envs\\langchain_stuff\\lib\\http\\client.py:316\u001B[0m, in \u001B[0;36mHTTPResponse.begin\u001B[1;34m(self)\u001B[0m\n\u001B[0;32m    315\u001B[0m \u001B[38;5;28;01mwhile\u001B[39;00m \u001B[38;5;28;01mTrue\u001B[39;00m:\n\u001B[1;32m--> 316\u001B[0m     version, status, reason \u001B[38;5;241m=\u001B[39m \u001B[38;5;28;43mself\u001B[39;49m\u001B[38;5;241;43m.\u001B[39;49m\u001B[43m_read_status\u001B[49m\u001B[43m(\u001B[49m\u001B[43m)\u001B[49m\n\u001B[0;32m    317\u001B[0m     \u001B[38;5;28;01mif\u001B[39;00m status \u001B[38;5;241m!=\u001B[39m CONTINUE:\n",
      "File \u001B[1;32mC:\\Tools\\Miniconda3\\envs\\langchain_stuff\\lib\\http\\client.py:277\u001B[0m, in \u001B[0;36mHTTPResponse._read_status\u001B[1;34m(self)\u001B[0m\n\u001B[0;32m    276\u001B[0m \u001B[38;5;28;01mdef\u001B[39;00m \u001B[38;5;21m_read_status\u001B[39m(\u001B[38;5;28mself\u001B[39m):\n\u001B[1;32m--> 277\u001B[0m     line \u001B[38;5;241m=\u001B[39m \u001B[38;5;28mstr\u001B[39m(\u001B[38;5;28;43mself\u001B[39;49m\u001B[38;5;241;43m.\u001B[39;49m\u001B[43mfp\u001B[49m\u001B[38;5;241;43m.\u001B[39;49m\u001B[43mreadline\u001B[49m\u001B[43m(\u001B[49m\u001B[43m_MAXLINE\u001B[49m\u001B[43m \u001B[49m\u001B[38;5;241;43m+\u001B[39;49m\u001B[43m \u001B[49m\u001B[38;5;241;43m1\u001B[39;49m\u001B[43m)\u001B[49m, \u001B[38;5;124m\"\u001B[39m\u001B[38;5;124miso-8859-1\u001B[39m\u001B[38;5;124m\"\u001B[39m)\n\u001B[0;32m    278\u001B[0m     \u001B[38;5;28;01mif\u001B[39;00m \u001B[38;5;28mlen\u001B[39m(line) \u001B[38;5;241m>\u001B[39m _MAXLINE:\n",
      "File \u001B[1;32mC:\\Tools\\Miniconda3\\envs\\langchain_stuff\\lib\\socket.py:669\u001B[0m, in \u001B[0;36mSocketIO.readinto\u001B[1;34m(self, b)\u001B[0m\n\u001B[0;32m    668\u001B[0m \u001B[38;5;28;01mtry\u001B[39;00m:\n\u001B[1;32m--> 669\u001B[0m     \u001B[38;5;28;01mreturn\u001B[39;00m \u001B[38;5;28;43mself\u001B[39;49m\u001B[38;5;241;43m.\u001B[39;49m\u001B[43m_sock\u001B[49m\u001B[38;5;241;43m.\u001B[39;49m\u001B[43mrecv_into\u001B[49m\u001B[43m(\u001B[49m\u001B[43mb\u001B[49m\u001B[43m)\u001B[49m\n\u001B[0;32m    670\u001B[0m \u001B[38;5;28;01mexcept\u001B[39;00m timeout:\n",
      "File \u001B[1;32mC:\\Tools\\Miniconda3\\envs\\langchain_stuff\\lib\\ssl.py:1241\u001B[0m, in \u001B[0;36mSSLSocket.recv_into\u001B[1;34m(self, buffer, nbytes, flags)\u001B[0m\n\u001B[0;32m   1238\u001B[0m         \u001B[38;5;28;01mraise\u001B[39;00m \u001B[38;5;167;01mValueError\u001B[39;00m(\n\u001B[0;32m   1239\u001B[0m           \u001B[38;5;124m\"\u001B[39m\u001B[38;5;124mnon-zero flags not allowed in calls to recv_into() on \u001B[39m\u001B[38;5;132;01m%s\u001B[39;00m\u001B[38;5;124m\"\u001B[39m \u001B[38;5;241m%\u001B[39m\n\u001B[0;32m   1240\u001B[0m           \u001B[38;5;28mself\u001B[39m\u001B[38;5;241m.\u001B[39m\u001B[38;5;18m__class__\u001B[39m)\n\u001B[1;32m-> 1241\u001B[0m     \u001B[38;5;28;01mreturn\u001B[39;00m \u001B[38;5;28;43mself\u001B[39;49m\u001B[38;5;241;43m.\u001B[39;49m\u001B[43mread\u001B[49m\u001B[43m(\u001B[49m\u001B[43mnbytes\u001B[49m\u001B[43m,\u001B[49m\u001B[43m \u001B[49m\u001B[43mbuffer\u001B[49m\u001B[43m)\u001B[49m\n\u001B[0;32m   1242\u001B[0m \u001B[38;5;28;01melse\u001B[39;00m:\n",
      "File \u001B[1;32mC:\\Tools\\Miniconda3\\envs\\langchain_stuff\\lib\\ssl.py:1099\u001B[0m, in \u001B[0;36mSSLSocket.read\u001B[1;34m(self, len, buffer)\u001B[0m\n\u001B[0;32m   1098\u001B[0m \u001B[38;5;28;01mif\u001B[39;00m buffer \u001B[38;5;129;01mis\u001B[39;00m \u001B[38;5;129;01mnot\u001B[39;00m \u001B[38;5;28;01mNone\u001B[39;00m:\n\u001B[1;32m-> 1099\u001B[0m     \u001B[38;5;28;01mreturn\u001B[39;00m \u001B[38;5;28;43mself\u001B[39;49m\u001B[38;5;241;43m.\u001B[39;49m\u001B[43m_sslobj\u001B[49m\u001B[38;5;241;43m.\u001B[39;49m\u001B[43mread\u001B[49m\u001B[43m(\u001B[49m\u001B[38;5;28;43mlen\u001B[39;49m\u001B[43m,\u001B[49m\u001B[43m \u001B[49m\u001B[43mbuffer\u001B[49m\u001B[43m)\u001B[49m\n\u001B[0;32m   1100\u001B[0m \u001B[38;5;28;01melse\u001B[39;00m:\n",
      "\u001B[1;31mtimeout\u001B[0m: The read operation timed out",
      "\nThe above exception was the direct cause of the following exception:\n",
      "\u001B[1;31mReadTimeoutError\u001B[0m                          Traceback (most recent call last)",
      "File \u001B[1;32mC:\\Tools\\Miniconda3\\envs\\langchain_stuff\\lib\\site-packages\\requests\\adapters.py:486\u001B[0m, in \u001B[0;36mHTTPAdapter.send\u001B[1;34m(self, request, stream, timeout, verify, cert, proxies)\u001B[0m\n\u001B[0;32m    485\u001B[0m \u001B[38;5;28;01mtry\u001B[39;00m:\n\u001B[1;32m--> 486\u001B[0m     resp \u001B[38;5;241m=\u001B[39m \u001B[43mconn\u001B[49m\u001B[38;5;241;43m.\u001B[39;49m\u001B[43murlopen\u001B[49m\u001B[43m(\u001B[49m\n\u001B[0;32m    487\u001B[0m \u001B[43m        \u001B[49m\u001B[43mmethod\u001B[49m\u001B[38;5;241;43m=\u001B[39;49m\u001B[43mrequest\u001B[49m\u001B[38;5;241;43m.\u001B[39;49m\u001B[43mmethod\u001B[49m\u001B[43m,\u001B[49m\n\u001B[0;32m    488\u001B[0m \u001B[43m        \u001B[49m\u001B[43murl\u001B[49m\u001B[38;5;241;43m=\u001B[39;49m\u001B[43murl\u001B[49m\u001B[43m,\u001B[49m\n\u001B[0;32m    489\u001B[0m \u001B[43m        \u001B[49m\u001B[43mbody\u001B[49m\u001B[38;5;241;43m=\u001B[39;49m\u001B[43mrequest\u001B[49m\u001B[38;5;241;43m.\u001B[39;49m\u001B[43mbody\u001B[49m\u001B[43m,\u001B[49m\n\u001B[0;32m    490\u001B[0m \u001B[43m        \u001B[49m\u001B[43mheaders\u001B[49m\u001B[38;5;241;43m=\u001B[39;49m\u001B[43mrequest\u001B[49m\u001B[38;5;241;43m.\u001B[39;49m\u001B[43mheaders\u001B[49m\u001B[43m,\u001B[49m\n\u001B[0;32m    491\u001B[0m \u001B[43m        \u001B[49m\u001B[43mredirect\u001B[49m\u001B[38;5;241;43m=\u001B[39;49m\u001B[38;5;28;43;01mFalse\u001B[39;49;00m\u001B[43m,\u001B[49m\n\u001B[0;32m    492\u001B[0m \u001B[43m        \u001B[49m\u001B[43massert_same_host\u001B[49m\u001B[38;5;241;43m=\u001B[39;49m\u001B[38;5;28;43;01mFalse\u001B[39;49;00m\u001B[43m,\u001B[49m\n\u001B[0;32m    493\u001B[0m \u001B[43m        \u001B[49m\u001B[43mpreload_content\u001B[49m\u001B[38;5;241;43m=\u001B[39;49m\u001B[38;5;28;43;01mFalse\u001B[39;49;00m\u001B[43m,\u001B[49m\n\u001B[0;32m    494\u001B[0m \u001B[43m        \u001B[49m\u001B[43mdecode_content\u001B[49m\u001B[38;5;241;43m=\u001B[39;49m\u001B[38;5;28;43;01mFalse\u001B[39;49;00m\u001B[43m,\u001B[49m\n\u001B[0;32m    495\u001B[0m \u001B[43m        \u001B[49m\u001B[43mretries\u001B[49m\u001B[38;5;241;43m=\u001B[39;49m\u001B[38;5;28;43mself\u001B[39;49m\u001B[38;5;241;43m.\u001B[39;49m\u001B[43mmax_retries\u001B[49m\u001B[43m,\u001B[49m\n\u001B[0;32m    496\u001B[0m \u001B[43m        \u001B[49m\u001B[43mtimeout\u001B[49m\u001B[38;5;241;43m=\u001B[39;49m\u001B[43mtimeout\u001B[49m\u001B[43m,\u001B[49m\n\u001B[0;32m    497\u001B[0m \u001B[43m        \u001B[49m\u001B[43mchunked\u001B[49m\u001B[38;5;241;43m=\u001B[39;49m\u001B[43mchunked\u001B[49m\u001B[43m,\u001B[49m\n\u001B[0;32m    498\u001B[0m \u001B[43m    \u001B[49m\u001B[43m)\u001B[49m\n\u001B[0;32m    500\u001B[0m \u001B[38;5;28;01mexcept\u001B[39;00m (ProtocolError, \u001B[38;5;167;01mOSError\u001B[39;00m) \u001B[38;5;28;01mas\u001B[39;00m err:\n",
      "File \u001B[1;32mC:\\Tools\\Miniconda3\\envs\\langchain_stuff\\lib\\site-packages\\urllib3\\connectionpool.py:847\u001B[0m, in \u001B[0;36mHTTPConnectionPool.urlopen\u001B[1;34m(self, method, url, body, headers, retries, redirect, assert_same_host, timeout, pool_timeout, release_conn, chunked, body_pos, preload_content, decode_content, **response_kw)\u001B[0m\n\u001B[0;32m    845\u001B[0m     new_e \u001B[38;5;241m=\u001B[39m ProtocolError(\u001B[38;5;124m\"\u001B[39m\u001B[38;5;124mConnection aborted.\u001B[39m\u001B[38;5;124m\"\u001B[39m, new_e)\n\u001B[1;32m--> 847\u001B[0m retries \u001B[38;5;241m=\u001B[39m \u001B[43mretries\u001B[49m\u001B[38;5;241;43m.\u001B[39;49m\u001B[43mincrement\u001B[49m\u001B[43m(\u001B[49m\n\u001B[0;32m    848\u001B[0m \u001B[43m    \u001B[49m\u001B[43mmethod\u001B[49m\u001B[43m,\u001B[49m\u001B[43m \u001B[49m\u001B[43murl\u001B[49m\u001B[43m,\u001B[49m\u001B[43m \u001B[49m\u001B[43merror\u001B[49m\u001B[38;5;241;43m=\u001B[39;49m\u001B[43mnew_e\u001B[49m\u001B[43m,\u001B[49m\u001B[43m \u001B[49m\u001B[43m_pool\u001B[49m\u001B[38;5;241;43m=\u001B[39;49m\u001B[38;5;28;43mself\u001B[39;49m\u001B[43m,\u001B[49m\u001B[43m \u001B[49m\u001B[43m_stacktrace\u001B[49m\u001B[38;5;241;43m=\u001B[39;49m\u001B[43msys\u001B[49m\u001B[38;5;241;43m.\u001B[39;49m\u001B[43mexc_info\u001B[49m\u001B[43m(\u001B[49m\u001B[43m)\u001B[49m\u001B[43m[\u001B[49m\u001B[38;5;241;43m2\u001B[39;49m\u001B[43m]\u001B[49m\n\u001B[0;32m    849\u001B[0m \u001B[43m\u001B[49m\u001B[43m)\u001B[49m\n\u001B[0;32m    850\u001B[0m retries\u001B[38;5;241m.\u001B[39msleep()\n",
      "File \u001B[1;32mC:\\Tools\\Miniconda3\\envs\\langchain_stuff\\lib\\site-packages\\urllib3\\util\\retry.py:470\u001B[0m, in \u001B[0;36mRetry.increment\u001B[1;34m(self, method, url, response, error, _pool, _stacktrace)\u001B[0m\n\u001B[0;32m    469\u001B[0m \u001B[38;5;28;01mif\u001B[39;00m read \u001B[38;5;129;01mis\u001B[39;00m \u001B[38;5;28;01mFalse\u001B[39;00m \u001B[38;5;129;01mor\u001B[39;00m method \u001B[38;5;129;01mis\u001B[39;00m \u001B[38;5;28;01mNone\u001B[39;00m \u001B[38;5;129;01mor\u001B[39;00m \u001B[38;5;129;01mnot\u001B[39;00m \u001B[38;5;28mself\u001B[39m\u001B[38;5;241m.\u001B[39m_is_method_retryable(method):\n\u001B[1;32m--> 470\u001B[0m     \u001B[38;5;28;01mraise\u001B[39;00m \u001B[43mreraise\u001B[49m\u001B[43m(\u001B[49m\u001B[38;5;28;43mtype\u001B[39;49m\u001B[43m(\u001B[49m\u001B[43merror\u001B[49m\u001B[43m)\u001B[49m\u001B[43m,\u001B[49m\u001B[43m \u001B[49m\u001B[43merror\u001B[49m\u001B[43m,\u001B[49m\u001B[43m \u001B[49m\u001B[43m_stacktrace\u001B[49m\u001B[43m)\u001B[49m\n\u001B[0;32m    471\u001B[0m \u001B[38;5;28;01melif\u001B[39;00m read \u001B[38;5;129;01mis\u001B[39;00m \u001B[38;5;129;01mnot\u001B[39;00m \u001B[38;5;28;01mNone\u001B[39;00m:\n",
      "File \u001B[1;32mC:\\Tools\\Miniconda3\\envs\\langchain_stuff\\lib\\site-packages\\urllib3\\util\\util.py:39\u001B[0m, in \u001B[0;36mreraise\u001B[1;34m(tp, value, tb)\u001B[0m\n\u001B[0;32m     38\u001B[0m         \u001B[38;5;28;01mraise\u001B[39;00m value\u001B[38;5;241m.\u001B[39mwith_traceback(tb)\n\u001B[1;32m---> 39\u001B[0m     \u001B[38;5;28;01mraise\u001B[39;00m value\n\u001B[0;32m     40\u001B[0m \u001B[38;5;28;01mfinally\u001B[39;00m:\n",
      "File \u001B[1;32mC:\\Tools\\Miniconda3\\envs\\langchain_stuff\\lib\\site-packages\\urllib3\\connectionpool.py:793\u001B[0m, in \u001B[0;36mHTTPConnectionPool.urlopen\u001B[1;34m(self, method, url, body, headers, retries, redirect, assert_same_host, timeout, pool_timeout, release_conn, chunked, body_pos, preload_content, decode_content, **response_kw)\u001B[0m\n\u001B[0;32m    792\u001B[0m \u001B[38;5;66;03m# Make the request on the HTTPConnection object\u001B[39;00m\n\u001B[1;32m--> 793\u001B[0m response \u001B[38;5;241m=\u001B[39m \u001B[38;5;28;43mself\u001B[39;49m\u001B[38;5;241;43m.\u001B[39;49m\u001B[43m_make_request\u001B[49m\u001B[43m(\u001B[49m\n\u001B[0;32m    794\u001B[0m \u001B[43m    \u001B[49m\u001B[43mconn\u001B[49m\u001B[43m,\u001B[49m\n\u001B[0;32m    795\u001B[0m \u001B[43m    \u001B[49m\u001B[43mmethod\u001B[49m\u001B[43m,\u001B[49m\n\u001B[0;32m    796\u001B[0m \u001B[43m    \u001B[49m\u001B[43murl\u001B[49m\u001B[43m,\u001B[49m\n\u001B[0;32m    797\u001B[0m \u001B[43m    \u001B[49m\u001B[43mtimeout\u001B[49m\u001B[38;5;241;43m=\u001B[39;49m\u001B[43mtimeout_obj\u001B[49m\u001B[43m,\u001B[49m\n\u001B[0;32m    798\u001B[0m \u001B[43m    \u001B[49m\u001B[43mbody\u001B[49m\u001B[38;5;241;43m=\u001B[39;49m\u001B[43mbody\u001B[49m\u001B[43m,\u001B[49m\n\u001B[0;32m    799\u001B[0m \u001B[43m    \u001B[49m\u001B[43mheaders\u001B[49m\u001B[38;5;241;43m=\u001B[39;49m\u001B[43mheaders\u001B[49m\u001B[43m,\u001B[49m\n\u001B[0;32m    800\u001B[0m \u001B[43m    \u001B[49m\u001B[43mchunked\u001B[49m\u001B[38;5;241;43m=\u001B[39;49m\u001B[43mchunked\u001B[49m\u001B[43m,\u001B[49m\n\u001B[0;32m    801\u001B[0m \u001B[43m    \u001B[49m\u001B[43mretries\u001B[49m\u001B[38;5;241;43m=\u001B[39;49m\u001B[43mretries\u001B[49m\u001B[43m,\u001B[49m\n\u001B[0;32m    802\u001B[0m \u001B[43m    \u001B[49m\u001B[43mresponse_conn\u001B[49m\u001B[38;5;241;43m=\u001B[39;49m\u001B[43mresponse_conn\u001B[49m\u001B[43m,\u001B[49m\n\u001B[0;32m    803\u001B[0m \u001B[43m    \u001B[49m\u001B[43mpreload_content\u001B[49m\u001B[38;5;241;43m=\u001B[39;49m\u001B[43mpreload_content\u001B[49m\u001B[43m,\u001B[49m\n\u001B[0;32m    804\u001B[0m \u001B[43m    \u001B[49m\u001B[43mdecode_content\u001B[49m\u001B[38;5;241;43m=\u001B[39;49m\u001B[43mdecode_content\u001B[49m\u001B[43m,\u001B[49m\n\u001B[0;32m    805\u001B[0m \u001B[43m    \u001B[49m\u001B[38;5;241;43m*\u001B[39;49m\u001B[38;5;241;43m*\u001B[39;49m\u001B[43mresponse_kw\u001B[49m\u001B[43m,\u001B[49m\n\u001B[0;32m    806\u001B[0m \u001B[43m\u001B[49m\u001B[43m)\u001B[49m\n\u001B[0;32m    808\u001B[0m \u001B[38;5;66;03m# Everything went great!\u001B[39;00m\n",
      "File \u001B[1;32mC:\\Tools\\Miniconda3\\envs\\langchain_stuff\\lib\\site-packages\\urllib3\\connectionpool.py:539\u001B[0m, in \u001B[0;36mHTTPConnectionPool._make_request\u001B[1;34m(self, conn, method, url, body, headers, retries, timeout, chunked, response_conn, preload_content, decode_content, enforce_content_length)\u001B[0m\n\u001B[0;32m    538\u001B[0m \u001B[38;5;28;01mexcept\u001B[39;00m (BaseSSLError, \u001B[38;5;167;01mOSError\u001B[39;00m) \u001B[38;5;28;01mas\u001B[39;00m e:\n\u001B[1;32m--> 539\u001B[0m     \u001B[38;5;28;43mself\u001B[39;49m\u001B[38;5;241;43m.\u001B[39;49m\u001B[43m_raise_timeout\u001B[49m\u001B[43m(\u001B[49m\u001B[43merr\u001B[49m\u001B[38;5;241;43m=\u001B[39;49m\u001B[43me\u001B[49m\u001B[43m,\u001B[49m\u001B[43m \u001B[49m\u001B[43murl\u001B[49m\u001B[38;5;241;43m=\u001B[39;49m\u001B[43murl\u001B[49m\u001B[43m,\u001B[49m\u001B[43m \u001B[49m\u001B[43mtimeout_value\u001B[49m\u001B[38;5;241;43m=\u001B[39;49m\u001B[43mread_timeout\u001B[49m\u001B[43m)\u001B[49m\n\u001B[0;32m    540\u001B[0m     \u001B[38;5;28;01mraise\u001B[39;00m\n",
      "File \u001B[1;32mC:\\Tools\\Miniconda3\\envs\\langchain_stuff\\lib\\site-packages\\urllib3\\connectionpool.py:370\u001B[0m, in \u001B[0;36mHTTPConnectionPool._raise_timeout\u001B[1;34m(self, err, url, timeout_value)\u001B[0m\n\u001B[0;32m    369\u001B[0m \u001B[38;5;28;01mif\u001B[39;00m \u001B[38;5;28misinstance\u001B[39m(err, SocketTimeout):\n\u001B[1;32m--> 370\u001B[0m     \u001B[38;5;28;01mraise\u001B[39;00m ReadTimeoutError(\n\u001B[0;32m    371\u001B[0m         \u001B[38;5;28mself\u001B[39m, url, \u001B[38;5;124mf\u001B[39m\u001B[38;5;124m\"\u001B[39m\u001B[38;5;124mRead timed out. (read timeout=\u001B[39m\u001B[38;5;132;01m{\u001B[39;00mtimeout_value\u001B[38;5;132;01m}\u001B[39;00m\u001B[38;5;124m)\u001B[39m\u001B[38;5;124m\"\u001B[39m\n\u001B[0;32m    372\u001B[0m     ) \u001B[38;5;28;01mfrom\u001B[39;00m \u001B[38;5;21;01merr\u001B[39;00m\n\u001B[0;32m    374\u001B[0m \u001B[38;5;66;03m# See the above comment about EAGAIN in Python 3.\u001B[39;00m\n",
      "\u001B[1;31mReadTimeoutError\u001B[0m: HTTPSConnectionPool(host='api.smith.langchain.com', port=443): Read timed out. (read timeout=10.0)",
      "\nDuring handling of the above exception, another exception occurred:\n",
      "\u001B[1;31mReadTimeout\u001B[0m                               Traceback (most recent call last)",
      "File \u001B[1;32mC:\\Tools\\Miniconda3\\envs\\langchain_stuff\\lib\\site-packages\\langsmith\\client.py:702\u001B[0m, in \u001B[0;36mClient.request_with_retries\u001B[1;34m(self, method, pathname, request_kwargs, stop_after_attempt, retry_on, to_ignore, handle_response, **kwargs)\u001B[0m\n\u001B[0;32m    701\u001B[0m \u001B[38;5;28;01mwith\u001B[39;00m ls_utils\u001B[38;5;241m.\u001B[39mfilter_logs(_urllib3_logger, logging_filters):\n\u001B[1;32m--> 702\u001B[0m     response \u001B[38;5;241m=\u001B[39m \u001B[38;5;28;43mself\u001B[39;49m\u001B[38;5;241;43m.\u001B[39;49m\u001B[43msession\u001B[49m\u001B[38;5;241;43m.\u001B[39;49m\u001B[43mrequest\u001B[49m\u001B[43m(\u001B[49m\n\u001B[0;32m    703\u001B[0m \u001B[43m        \u001B[49m\u001B[43mmethod\u001B[49m\u001B[43m,\u001B[49m\n\u001B[0;32m    704\u001B[0m \u001B[43m        \u001B[49m\u001B[43m(\u001B[49m\n\u001B[0;32m    705\u001B[0m \u001B[43m            \u001B[49m\u001B[38;5;28;43mself\u001B[39;49m\u001B[38;5;241;43m.\u001B[39;49m\u001B[43mapi_url\u001B[49m\u001B[43m \u001B[49m\u001B[38;5;241;43m+\u001B[39;49m\u001B[43m \u001B[49m\u001B[43mpathname\u001B[49m\n\u001B[0;32m    706\u001B[0m \u001B[43m            \u001B[49m\u001B[38;5;28;43;01mif\u001B[39;49;00m\u001B[43m \u001B[49m\u001B[38;5;129;43;01mnot\u001B[39;49;00m\u001B[43m \u001B[49m\u001B[43mpathname\u001B[49m\u001B[38;5;241;43m.\u001B[39;49m\u001B[43mstartswith\u001B[49m\u001B[43m(\u001B[49m\u001B[38;5;124;43m\"\u001B[39;49m\u001B[38;5;124;43mhttp\u001B[39;49m\u001B[38;5;124;43m\"\u001B[39;49m\u001B[43m)\u001B[49m\n\u001B[0;32m    707\u001B[0m \u001B[43m            \u001B[49m\u001B[38;5;28;43;01melse\u001B[39;49;00m\u001B[43m \u001B[49m\u001B[43mpathname\u001B[49m\n\u001B[0;32m    708\u001B[0m \u001B[43m        \u001B[49m\u001B[43m)\u001B[49m\u001B[43m,\u001B[49m\n\u001B[0;32m    709\u001B[0m \u001B[43m        \u001B[49m\u001B[43mstream\u001B[49m\u001B[38;5;241;43m=\u001B[39;49m\u001B[38;5;28;43;01mFalse\u001B[39;49;00m\u001B[43m,\u001B[49m\n\u001B[0;32m    710\u001B[0m \u001B[43m        \u001B[49m\u001B[38;5;241;43m*\u001B[39;49m\u001B[38;5;241;43m*\u001B[39;49m\u001B[43mrequest_kwargs\u001B[49m\u001B[43m,\u001B[49m\n\u001B[0;32m    711\u001B[0m \u001B[43m    \u001B[49m\u001B[43m)\u001B[49m\n\u001B[0;32m    712\u001B[0m ls_utils\u001B[38;5;241m.\u001B[39mraise_for_status_with_text(response)\n",
      "File \u001B[1;32mC:\\Tools\\Miniconda3\\envs\\langchain_stuff\\lib\\site-packages\\requests\\sessions.py:589\u001B[0m, in \u001B[0;36mSession.request\u001B[1;34m(self, method, url, params, data, headers, cookies, files, auth, timeout, allow_redirects, proxies, hooks, stream, verify, cert, json)\u001B[0m\n\u001B[0;32m    588\u001B[0m send_kwargs\u001B[38;5;241m.\u001B[39mupdate(settings)\n\u001B[1;32m--> 589\u001B[0m resp \u001B[38;5;241m=\u001B[39m \u001B[38;5;28;43mself\u001B[39;49m\u001B[38;5;241;43m.\u001B[39;49m\u001B[43msend\u001B[49m\u001B[43m(\u001B[49m\u001B[43mprep\u001B[49m\u001B[43m,\u001B[49m\u001B[43m \u001B[49m\u001B[38;5;241;43m*\u001B[39;49m\u001B[38;5;241;43m*\u001B[39;49m\u001B[43msend_kwargs\u001B[49m\u001B[43m)\u001B[49m\n\u001B[0;32m    591\u001B[0m \u001B[38;5;28;01mreturn\u001B[39;00m resp\n",
      "File \u001B[1;32mC:\\Tools\\Miniconda3\\envs\\langchain_stuff\\lib\\site-packages\\requests\\sessions.py:703\u001B[0m, in \u001B[0;36mSession.send\u001B[1;34m(self, request, **kwargs)\u001B[0m\n\u001B[0;32m    702\u001B[0m \u001B[38;5;66;03m# Send the request\u001B[39;00m\n\u001B[1;32m--> 703\u001B[0m r \u001B[38;5;241m=\u001B[39m \u001B[43madapter\u001B[49m\u001B[38;5;241;43m.\u001B[39;49m\u001B[43msend\u001B[49m\u001B[43m(\u001B[49m\u001B[43mrequest\u001B[49m\u001B[43m,\u001B[49m\u001B[43m \u001B[49m\u001B[38;5;241;43m*\u001B[39;49m\u001B[38;5;241;43m*\u001B[39;49m\u001B[43mkwargs\u001B[49m\u001B[43m)\u001B[49m\n\u001B[0;32m    705\u001B[0m \u001B[38;5;66;03m# Total elapsed time of the request (approximately)\u001B[39;00m\n",
      "File \u001B[1;32mC:\\Tools\\Miniconda3\\envs\\langchain_stuff\\lib\\site-packages\\requests\\adapters.py:532\u001B[0m, in \u001B[0;36mHTTPAdapter.send\u001B[1;34m(self, request, stream, timeout, verify, cert, proxies)\u001B[0m\n\u001B[0;32m    531\u001B[0m \u001B[38;5;28;01melif\u001B[39;00m \u001B[38;5;28misinstance\u001B[39m(e, ReadTimeoutError):\n\u001B[1;32m--> 532\u001B[0m     \u001B[38;5;28;01mraise\u001B[39;00m ReadTimeout(e, request\u001B[38;5;241m=\u001B[39mrequest)\n\u001B[0;32m    533\u001B[0m \u001B[38;5;28;01melif\u001B[39;00m \u001B[38;5;28misinstance\u001B[39m(e, _InvalidHeader):\n",
      "\u001B[1;31mReadTimeout\u001B[0m: HTTPSConnectionPool(host='api.smith.langchain.com', port=443): Read timed out. (read timeout=10.0)",
      "\nThe above exception was the direct cause of the following exception:\n",
      "\u001B[1;31mLangSmithError\u001B[0m                            Traceback (most recent call last)",
      "Cell \u001B[1;32mIn[40], line 1\u001B[0m\n\u001B[1;32m----> 1\u001B[0m \u001B[43mlangsmith_client\u001B[49m\u001B[38;5;241;43m.\u001B[39;49m\u001B[43mrun_on_dataset\u001B[49m\u001B[43m(\u001B[49m\u001B[43mllm_or_chain_factory\u001B[49m\u001B[38;5;241;43m=\u001B[39;49m\u001B[43mpartial\u001B[49m\u001B[43m(\u001B[49m\u001B[43mget_baseline_chain\u001B[49m\u001B[43m,\u001B[49m\u001B[43m \u001B[49m\u001B[43mllm\u001B[49m\u001B[38;5;241;43m=\u001B[39;49m\u001B[43momni_llm\u001B[49m\u001B[43m)\u001B[49m\u001B[43m,\u001B[49m\u001B[43m \u001B[49m\u001B[43mdataset_name\u001B[49m\u001B[38;5;241;43m=\u001B[39;49m\u001B[43mdataset_name\u001B[49m\u001B[43m,\u001B[49m\u001B[43m \u001B[49m\u001B[43mproject_metadata\u001B[49m\u001B[38;5;241;43m=\u001B[39;49m\u001B[43m{\u001B[49m\u001B[38;5;241;43m*\u001B[39;49m\u001B[38;5;241;43m*\u001B[39;49m\u001B[43mrun_metadata\u001B[49m\u001B[43m,\u001B[49m\u001B[43m \u001B[49m\u001B[38;5;124;43m\"\u001B[39;49m\u001B[38;5;124;43mmodel\u001B[39;49m\u001B[38;5;124;43m\"\u001B[39;49m\u001B[43m:\u001B[49m\u001B[43m \u001B[49m\u001B[38;5;124;43m\"\u001B[39;49m\u001B[38;5;124;43m4o\u001B[39;49m\u001B[38;5;124;43m\"\u001B[39;49m\u001B[43m}\u001B[49m\u001B[43m)\u001B[49m\n",
      "File \u001B[1;32mC:\\Tools\\Miniconda3\\envs\\langchain_stuff\\lib\\site-packages\\langsmith\\client.py:4180\u001B[0m, in \u001B[0;36mClient.run_on_dataset\u001B[1;34m(self, dataset_name, llm_or_chain_factory, evaluation, concurrency_level, project_name, project_metadata, dataset_version, verbose, input_mapper, revision_id, **kwargs)\u001B[0m\n\u001B[0;32m   4175\u001B[0m \u001B[38;5;28;01mexcept\u001B[39;00m \u001B[38;5;167;01mImportError\u001B[39;00m:\n\u001B[0;32m   4176\u001B[0m     \u001B[38;5;28;01mraise\u001B[39;00m \u001B[38;5;167;01mImportError\u001B[39;00m(\n\u001B[0;32m   4177\u001B[0m         \u001B[38;5;124m\"\u001B[39m\u001B[38;5;124mThe client.run_on_dataset function requires the langchain\u001B[39m\u001B[38;5;124m\"\u001B[39m\n\u001B[0;32m   4178\u001B[0m         \u001B[38;5;124m\"\u001B[39m\u001B[38;5;124mpackage to run.\u001B[39m\u001B[38;5;130;01m\\n\u001B[39;00m\u001B[38;5;124mInstall with pip install langchain\u001B[39m\u001B[38;5;124m\"\u001B[39m\n\u001B[0;32m   4179\u001B[0m     )\n\u001B[1;32m-> 4180\u001B[0m \u001B[38;5;28;01mreturn\u001B[39;00m \u001B[43m_run_on_dataset\u001B[49m\u001B[43m(\u001B[49m\n\u001B[0;32m   4181\u001B[0m \u001B[43m    \u001B[49m\u001B[43mdataset_name\u001B[49m\u001B[38;5;241;43m=\u001B[39;49m\u001B[43mdataset_name\u001B[49m\u001B[43m,\u001B[49m\n\u001B[0;32m   4182\u001B[0m \u001B[43m    \u001B[49m\u001B[43mllm_or_chain_factory\u001B[49m\u001B[38;5;241;43m=\u001B[39;49m\u001B[43mllm_or_chain_factory\u001B[49m\u001B[43m,\u001B[49m\n\u001B[0;32m   4183\u001B[0m \u001B[43m    \u001B[49m\u001B[43mconcurrency_level\u001B[49m\u001B[38;5;241;43m=\u001B[39;49m\u001B[43mconcurrency_level\u001B[49m\u001B[43m,\u001B[49m\n\u001B[0;32m   4184\u001B[0m \u001B[43m    \u001B[49m\u001B[43mclient\u001B[49m\u001B[38;5;241;43m=\u001B[39;49m\u001B[38;5;28;43mself\u001B[39;49m\u001B[43m,\u001B[49m\n\u001B[0;32m   4185\u001B[0m \u001B[43m    \u001B[49m\u001B[43mevaluation\u001B[49m\u001B[38;5;241;43m=\u001B[39;49m\u001B[43mevaluation\u001B[49m\u001B[43m,\u001B[49m\n\u001B[0;32m   4186\u001B[0m \u001B[43m    \u001B[49m\u001B[43mproject_name\u001B[49m\u001B[38;5;241;43m=\u001B[39;49m\u001B[43mproject_name\u001B[49m\u001B[43m,\u001B[49m\n\u001B[0;32m   4187\u001B[0m \u001B[43m    \u001B[49m\u001B[43mproject_metadata\u001B[49m\u001B[38;5;241;43m=\u001B[39;49m\u001B[43mproject_metadata\u001B[49m\u001B[43m,\u001B[49m\n\u001B[0;32m   4188\u001B[0m \u001B[43m    \u001B[49m\u001B[43mverbose\u001B[49m\u001B[38;5;241;43m=\u001B[39;49m\u001B[43mverbose\u001B[49m\u001B[43m,\u001B[49m\n\u001B[0;32m   4189\u001B[0m \u001B[43m    \u001B[49m\u001B[43minput_mapper\u001B[49m\u001B[38;5;241;43m=\u001B[39;49m\u001B[43minput_mapper\u001B[49m\u001B[43m,\u001B[49m\n\u001B[0;32m   4190\u001B[0m \u001B[43m    \u001B[49m\u001B[43mrevision_id\u001B[49m\u001B[38;5;241;43m=\u001B[39;49m\u001B[43mrevision_id\u001B[49m\u001B[43m,\u001B[49m\n\u001B[0;32m   4191\u001B[0m \u001B[43m    \u001B[49m\u001B[43mdataset_version\u001B[49m\u001B[38;5;241;43m=\u001B[39;49m\u001B[43mdataset_version\u001B[49m\u001B[43m,\u001B[49m\n\u001B[0;32m   4192\u001B[0m \u001B[43m    \u001B[49m\u001B[38;5;241;43m*\u001B[39;49m\u001B[38;5;241;43m*\u001B[39;49m\u001B[43mkwargs\u001B[49m\u001B[43m,\u001B[49m\n\u001B[0;32m   4193\u001B[0m \u001B[43m\u001B[49m\u001B[43m)\u001B[49m\n",
      "File \u001B[1;32mC:\\Tools\\Miniconda3\\envs\\langchain_stuff\\lib\\site-packages\\langchain\\smith\\evaluation\\runner_utils.py:1370\u001B[0m, in \u001B[0;36mrun_on_dataset\u001B[1;34m(client, dataset_name, llm_or_chain_factory, evaluation, dataset_version, concurrency_level, project_name, project_metadata, verbose, revision_id, **kwargs)\u001B[0m\n\u001B[0;32m   1362\u001B[0m     warn_deprecated(\n\u001B[0;32m   1363\u001B[0m         \u001B[38;5;124m\"\u001B[39m\u001B[38;5;124m0.0.305\u001B[39m\u001B[38;5;124m\"\u001B[39m,\n\u001B[0;32m   1364\u001B[0m         message\u001B[38;5;241m=\u001B[39m\u001B[38;5;124m\"\u001B[39m\u001B[38;5;124mThe following arguments are deprecated and \u001B[39m\u001B[38;5;124m\"\u001B[39m\n\u001B[1;32m   (...)\u001B[0m\n\u001B[0;32m   1367\u001B[0m         removal\u001B[38;5;241m=\u001B[39m\u001B[38;5;124m\"\u001B[39m\u001B[38;5;124m0.0.305\u001B[39m\u001B[38;5;124m\"\u001B[39m,\n\u001B[0;32m   1368\u001B[0m     )\n\u001B[0;32m   1369\u001B[0m client \u001B[38;5;241m=\u001B[39m client \u001B[38;5;129;01mor\u001B[39;00m Client()\n\u001B[1;32m-> 1370\u001B[0m container \u001B[38;5;241m=\u001B[39m \u001B[43m_DatasetRunContainer\u001B[49m\u001B[38;5;241;43m.\u001B[39;49m\u001B[43mprepare\u001B[49m\u001B[43m(\u001B[49m\n\u001B[0;32m   1371\u001B[0m \u001B[43m    \u001B[49m\u001B[43mclient\u001B[49m\u001B[43m,\u001B[49m\n\u001B[0;32m   1372\u001B[0m \u001B[43m    \u001B[49m\u001B[43mdataset_name\u001B[49m\u001B[43m,\u001B[49m\n\u001B[0;32m   1373\u001B[0m \u001B[43m    \u001B[49m\u001B[43mllm_or_chain_factory\u001B[49m\u001B[43m,\u001B[49m\n\u001B[0;32m   1374\u001B[0m \u001B[43m    \u001B[49m\u001B[43mproject_name\u001B[49m\u001B[43m,\u001B[49m\n\u001B[0;32m   1375\u001B[0m \u001B[43m    \u001B[49m\u001B[43mevaluation\u001B[49m\u001B[43m,\u001B[49m\n\u001B[0;32m   1376\u001B[0m \u001B[43m    \u001B[49m\u001B[43mtags\u001B[49m\u001B[43m,\u001B[49m\n\u001B[0;32m   1377\u001B[0m \u001B[43m    \u001B[49m\u001B[43minput_mapper\u001B[49m\u001B[43m,\u001B[49m\n\u001B[0;32m   1378\u001B[0m \u001B[43m    \u001B[49m\u001B[43mconcurrency_level\u001B[49m\u001B[43m,\u001B[49m\n\u001B[0;32m   1379\u001B[0m \u001B[43m    \u001B[49m\u001B[43mproject_metadata\u001B[49m\u001B[38;5;241;43m=\u001B[39;49m\u001B[43mproject_metadata\u001B[49m\u001B[43m,\u001B[49m\n\u001B[0;32m   1380\u001B[0m \u001B[43m    \u001B[49m\u001B[43mrevision_id\u001B[49m\u001B[38;5;241;43m=\u001B[39;49m\u001B[43mrevision_id\u001B[49m\u001B[43m,\u001B[49m\n\u001B[0;32m   1381\u001B[0m \u001B[43m    \u001B[49m\u001B[43mdataset_version\u001B[49m\u001B[38;5;241;43m=\u001B[39;49m\u001B[43mdataset_version\u001B[49m\u001B[43m,\u001B[49m\n\u001B[0;32m   1382\u001B[0m \u001B[43m\u001B[49m\u001B[43m)\u001B[49m\n\u001B[0;32m   1383\u001B[0m \u001B[38;5;28;01mif\u001B[39;00m concurrency_level \u001B[38;5;241m==\u001B[39m \u001B[38;5;241m0\u001B[39m:\n\u001B[0;32m   1384\u001B[0m     batch_results \u001B[38;5;241m=\u001B[39m [\n\u001B[0;32m   1385\u001B[0m         _run_llm_or_chain(\n\u001B[0;32m   1386\u001B[0m             example,\n\u001B[1;32m   (...)\u001B[0m\n\u001B[0;32m   1391\u001B[0m         \u001B[38;5;28;01mfor\u001B[39;00m example, config \u001B[38;5;129;01min\u001B[39;00m \u001B[38;5;28mzip\u001B[39m(container\u001B[38;5;241m.\u001B[39mexamples, container\u001B[38;5;241m.\u001B[39mconfigs)\n\u001B[0;32m   1392\u001B[0m     ]\n",
      "File \u001B[1;32mC:\\Tools\\Miniconda3\\envs\\langchain_stuff\\lib\\site-packages\\langchain\\smith\\evaluation\\runner_utils.py:1174\u001B[0m, in \u001B[0;36m_DatasetRunContainer.prepare\u001B[1;34m(cls, client, dataset_name, llm_or_chain_factory, project_name, evaluation, tags, input_mapper, concurrency_level, project_metadata, revision_id, dataset_version)\u001B[0m\n\u001B[0;32m   1172\u001B[0m         project_metadata \u001B[38;5;241m=\u001B[39m {}\n\u001B[0;32m   1173\u001B[0m     project_metadata\u001B[38;5;241m.\u001B[39mupdate({\u001B[38;5;124m\"\u001B[39m\u001B[38;5;124mrevision_id\u001B[39m\u001B[38;5;124m\"\u001B[39m: revision_id})\n\u001B[1;32m-> 1174\u001B[0m wrapped_model, project, dataset, examples \u001B[38;5;241m=\u001B[39m \u001B[43m_prepare_eval_run\u001B[49m\u001B[43m(\u001B[49m\n\u001B[0;32m   1175\u001B[0m \u001B[43m    \u001B[49m\u001B[43mclient\u001B[49m\u001B[43m,\u001B[49m\n\u001B[0;32m   1176\u001B[0m \u001B[43m    \u001B[49m\u001B[43mdataset_name\u001B[49m\u001B[43m,\u001B[49m\n\u001B[0;32m   1177\u001B[0m \u001B[43m    \u001B[49m\u001B[43mllm_or_chain_factory\u001B[49m\u001B[43m,\u001B[49m\n\u001B[0;32m   1178\u001B[0m \u001B[43m    \u001B[49m\u001B[43mproject_name\u001B[49m\u001B[43m,\u001B[49m\n\u001B[0;32m   1179\u001B[0m \u001B[43m    \u001B[49m\u001B[43mproject_metadata\u001B[49m\u001B[38;5;241;43m=\u001B[39;49m\u001B[43mproject_metadata\u001B[49m\u001B[43m,\u001B[49m\n\u001B[0;32m   1180\u001B[0m \u001B[43m    \u001B[49m\u001B[43mtags\u001B[49m\u001B[38;5;241;43m=\u001B[39;49m\u001B[43mtags\u001B[49m\u001B[43m,\u001B[49m\n\u001B[0;32m   1181\u001B[0m \u001B[43m    \u001B[49m\u001B[43mdataset_version\u001B[49m\u001B[38;5;241;43m=\u001B[39;49m\u001B[43mdataset_version\u001B[49m\u001B[43m,\u001B[49m\n\u001B[0;32m   1182\u001B[0m \u001B[43m\u001B[49m\u001B[43m)\u001B[49m\n\u001B[0;32m   1183\u001B[0m tags \u001B[38;5;241m=\u001B[39m tags \u001B[38;5;129;01mor\u001B[39;00m []\n\u001B[0;32m   1184\u001B[0m \u001B[38;5;28;01mfor\u001B[39;00m k, v \u001B[38;5;129;01min\u001B[39;00m (project\u001B[38;5;241m.\u001B[39mmetadata\u001B[38;5;241m.\u001B[39mget(\u001B[38;5;124m\"\u001B[39m\u001B[38;5;124mgit\u001B[39m\u001B[38;5;124m\"\u001B[39m) \u001B[38;5;129;01mor\u001B[39;00m {})\u001B[38;5;241m.\u001B[39mitems():\n",
      "File \u001B[1;32mC:\\Tools\\Miniconda3\\envs\\langchain_stuff\\lib\\site-packages\\langchain\\smith\\evaluation\\runner_utils.py:973\u001B[0m, in \u001B[0;36m_prepare_eval_run\u001B[1;34m(client, dataset_name, llm_or_chain_factory, project_name, project_metadata, tags, dataset_version)\u001B[0m\n\u001B[0;32m    963\u001B[0m \u001B[38;5;28;01mdef\u001B[39;00m \u001B[38;5;21m_prepare_eval_run\u001B[39m(\n\u001B[0;32m    964\u001B[0m     client: Client,\n\u001B[0;32m    965\u001B[0m     dataset_name: \u001B[38;5;28mstr\u001B[39m,\n\u001B[1;32m   (...)\u001B[0m\n\u001B[0;32m    970\u001B[0m     dataset_version: Optional[Union[\u001B[38;5;28mstr\u001B[39m, datetime]] \u001B[38;5;241m=\u001B[39m \u001B[38;5;28;01mNone\u001B[39;00m,\n\u001B[0;32m    971\u001B[0m ) \u001B[38;5;241m-\u001B[39m\u001B[38;5;241m>\u001B[39m Tuple[MCF, TracerSession, Dataset, List[Example]]:\n\u001B[0;32m    972\u001B[0m     wrapped_model \u001B[38;5;241m=\u001B[39m _wrap_in_chain_factory(llm_or_chain_factory, dataset_name)\n\u001B[1;32m--> 973\u001B[0m     dataset \u001B[38;5;241m=\u001B[39m \u001B[43mclient\u001B[49m\u001B[38;5;241;43m.\u001B[39;49m\u001B[43mread_dataset\u001B[49m\u001B[43m(\u001B[49m\u001B[43mdataset_name\u001B[49m\u001B[38;5;241;43m=\u001B[39;49m\u001B[43mdataset_name\u001B[49m\u001B[43m)\u001B[49m\n\u001B[0;32m    975\u001B[0m     examples \u001B[38;5;241m=\u001B[39m \u001B[38;5;28mlist\u001B[39m(client\u001B[38;5;241m.\u001B[39mlist_examples(dataset_id\u001B[38;5;241m=\u001B[39mdataset\u001B[38;5;241m.\u001B[39mid, as_of\u001B[38;5;241m=\u001B[39mdataset_version))\n\u001B[0;32m    976\u001B[0m     \u001B[38;5;28;01mif\u001B[39;00m \u001B[38;5;129;01mnot\u001B[39;00m examples:\n",
      "File \u001B[1;32mC:\\Tools\\Miniconda3\\envs\\langchain_stuff\\lib\\site-packages\\langsmith\\utils.py:92\u001B[0m, in \u001B[0;36mxor_args.<locals>.decorator.<locals>.wrapper\u001B[1;34m(*args, **kwargs)\u001B[0m\n\u001B[0;32m     86\u001B[0m     invalid_group_names \u001B[38;5;241m=\u001B[39m [\u001B[38;5;124m\"\u001B[39m\u001B[38;5;124m, \u001B[39m\u001B[38;5;124m\"\u001B[39m\u001B[38;5;241m.\u001B[39mjoin(arg_groups[i]) \u001B[38;5;28;01mfor\u001B[39;00m i \u001B[38;5;129;01min\u001B[39;00m invalid_groups]\n\u001B[0;32m     87\u001B[0m     \u001B[38;5;28;01mraise\u001B[39;00m \u001B[38;5;167;01mValueError\u001B[39;00m(\n\u001B[0;32m     88\u001B[0m         \u001B[38;5;124m\"\u001B[39m\u001B[38;5;124mExactly one argument in each of the following\u001B[39m\u001B[38;5;124m\"\u001B[39m\n\u001B[0;32m     89\u001B[0m         \u001B[38;5;124m\"\u001B[39m\u001B[38;5;124m groups must be defined:\u001B[39m\u001B[38;5;124m\"\u001B[39m\n\u001B[0;32m     90\u001B[0m         \u001B[38;5;124mf\u001B[39m\u001B[38;5;124m\"\u001B[39m\u001B[38;5;124m \u001B[39m\u001B[38;5;132;01m{\u001B[39;00m\u001B[38;5;124m'\u001B[39m\u001B[38;5;124m, \u001B[39m\u001B[38;5;124m'\u001B[39m\u001B[38;5;241m.\u001B[39mjoin(invalid_group_names)\u001B[38;5;132;01m}\u001B[39;00m\u001B[38;5;124m\"\u001B[39m\n\u001B[0;32m     91\u001B[0m     )\n\u001B[1;32m---> 92\u001B[0m \u001B[38;5;28;01mreturn\u001B[39;00m \u001B[43mfunc\u001B[49m\u001B[43m(\u001B[49m\u001B[38;5;241;43m*\u001B[39;49m\u001B[43margs\u001B[49m\u001B[43m,\u001B[49m\u001B[43m \u001B[49m\u001B[38;5;241;43m*\u001B[39;49m\u001B[38;5;241;43m*\u001B[39;49m\u001B[43mkwargs\u001B[49m\u001B[43m)\u001B[49m\n",
      "File \u001B[1;32mC:\\Tools\\Miniconda3\\envs\\langchain_stuff\\lib\\site-packages\\langsmith\\client.py:2326\u001B[0m, in \u001B[0;36mClient.read_dataset\u001B[1;34m(self, dataset_name, dataset_id)\u001B[0m\n\u001B[0;32m   2324\u001B[0m \u001B[38;5;28;01melse\u001B[39;00m:\n\u001B[0;32m   2325\u001B[0m     \u001B[38;5;28;01mraise\u001B[39;00m \u001B[38;5;167;01mValueError\u001B[39;00m(\u001B[38;5;124m\"\u001B[39m\u001B[38;5;124mMust provide dataset_name or dataset_id\u001B[39m\u001B[38;5;124m\"\u001B[39m)\n\u001B[1;32m-> 2326\u001B[0m response \u001B[38;5;241m=\u001B[39m \u001B[38;5;28;43mself\u001B[39;49m\u001B[38;5;241;43m.\u001B[39;49m\u001B[43mrequest_with_retries\u001B[49m\u001B[43m(\u001B[49m\n\u001B[0;32m   2327\u001B[0m \u001B[43m    \u001B[49m\u001B[38;5;124;43m\"\u001B[39;49m\u001B[38;5;124;43mGET\u001B[39;49m\u001B[38;5;124;43m\"\u001B[39;49m\u001B[43m,\u001B[49m\n\u001B[0;32m   2328\u001B[0m \u001B[43m    \u001B[49m\u001B[43mpath\u001B[49m\u001B[43m,\u001B[49m\n\u001B[0;32m   2329\u001B[0m \u001B[43m    \u001B[49m\u001B[43mparams\u001B[49m\u001B[38;5;241;43m=\u001B[39;49m\u001B[43mparams\u001B[49m\u001B[43m,\u001B[49m\n\u001B[0;32m   2330\u001B[0m \u001B[43m\u001B[49m\u001B[43m)\u001B[49m\n\u001B[0;32m   2331\u001B[0m result \u001B[38;5;241m=\u001B[39m response\u001B[38;5;241m.\u001B[39mjson()\n\u001B[0;32m   2332\u001B[0m \u001B[38;5;28;01mif\u001B[39;00m \u001B[38;5;28misinstance\u001B[39m(result, \u001B[38;5;28mlist\u001B[39m):\n",
      "File \u001B[1;32mC:\\Tools\\Miniconda3\\envs\\langchain_stuff\\lib\\site-packages\\langsmith\\client.py:772\u001B[0m, in \u001B[0;36mClient.request_with_retries\u001B[1;34m(self, method, pathname, request_kwargs, stop_after_attempt, retry_on, to_ignore, handle_response, **kwargs)\u001B[0m\n\u001B[0;32m    768\u001B[0m         msg \u001B[38;5;241m=\u001B[39m msg\u001B[38;5;241m.\u001B[39mreplace(\u001B[38;5;124m\"\u001B[39m\u001B[38;5;124msession\u001B[39m\u001B[38;5;124m\"\u001B[39m, \u001B[38;5;124m\"\u001B[39m\u001B[38;5;124msession (project)\u001B[39m\u001B[38;5;124m\"\u001B[39m)\n\u001B[0;32m    769\u001B[0m         emsg \u001B[38;5;241m=\u001B[39m \u001B[38;5;124m\"\u001B[39m\u001B[38;5;130;01m\\n\u001B[39;00m\u001B[38;5;124m\"\u001B[39m\u001B[38;5;241m.\u001B[39mjoin(\n\u001B[0;32m    770\u001B[0m             [\u001B[38;5;28mstr\u001B[39m(args[\u001B[38;5;241m0\u001B[39m])] \u001B[38;5;241m+\u001B[39m [msg] \u001B[38;5;241m+\u001B[39m [\u001B[38;5;28mstr\u001B[39m(arg) \u001B[38;5;28;01mfor\u001B[39;00m arg \u001B[38;5;129;01min\u001B[39;00m args[\u001B[38;5;241m2\u001B[39m:]]\n\u001B[0;32m    771\u001B[0m         )\n\u001B[1;32m--> 772\u001B[0m         \u001B[38;5;28;01mraise\u001B[39;00m ls_utils\u001B[38;5;241m.\u001B[39mLangSmithError(\n\u001B[0;32m    773\u001B[0m             \u001B[38;5;124mf\u001B[39m\u001B[38;5;124m\"\u001B[39m\u001B[38;5;124mFailed to \u001B[39m\u001B[38;5;132;01m{\u001B[39;00mmethod\u001B[38;5;132;01m}\u001B[39;00m\u001B[38;5;124m \u001B[39m\u001B[38;5;132;01m{\u001B[39;00mpathname\u001B[38;5;132;01m}\u001B[39;00m\u001B[38;5;124m in LangSmith API. \u001B[39m\u001B[38;5;132;01m{\u001B[39;00memsg\u001B[38;5;132;01m}\u001B[39;00m\u001B[38;5;124m\"\u001B[39m\n\u001B[0;32m    774\u001B[0m         ) \u001B[38;5;28;01mfrom\u001B[39;00m \u001B[38;5;21;01me\u001B[39;00m\n\u001B[0;32m    775\u001B[0m \u001B[38;5;28;01mexcept\u001B[39;00m to_ignore_ \u001B[38;5;28;01mas\u001B[39;00m e:\n\u001B[0;32m    776\u001B[0m     \u001B[38;5;28;01mif\u001B[39;00m response \u001B[38;5;129;01mis\u001B[39;00m \u001B[38;5;129;01mnot\u001B[39;00m \u001B[38;5;28;01mNone\u001B[39;00m:\n",
      "\u001B[1;31mLangSmithError\u001B[0m: Failed to GET /datasets in LangSmith API. HTTPSConnectionPool(host='api.smith.langchain.com', port=443): Read timed out. (read timeout=10.0)\n"
     ]
    }
   ],
   "source": [
    "langsmith_client.run_on_dataset(llm_or_chain_factory=partial(get_baseline_chain, llm=omni_llm),\n",
    "                                dataset_name=dataset_name, project_metadata={**run_metadata, \"model\": \"4o\"})\n"
   ],
   "metadata": {
    "collapsed": false,
    "ExecuteTime": {
     "end_time": "2024-05-24T13:34:52.683923500Z",
     "start_time": "2024-05-24T13:34:42.365323900Z"
    }
   },
   "id": "985c034e1fb2aa8b"
  },
  {
   "cell_type": "code",
   "execution_count": 41,
   "outputs": [
    {
     "data": {
      "text/plain": "'This chest of drawers is the ultimate statement piece for a coastal cottage or shabby chic inspired retreat. Whitewashed finish on the drawers and sides is wonderfully easy on the eyes. Paired with the unique plank-effect top, it’s a driftwoody look that has our minds drifting away to beachy-keen escapes.'"
     },
     "execution_count": 41,
     "metadata": {},
     "output_type": "execute_result"
    }
   ],
   "source": [
    "original_description_text"
   ],
   "metadata": {
    "collapsed": false,
    "ExecuteTime": {
     "end_time": "2024-05-26T17:56:01.574578600Z",
     "start_time": "2024-05-26T17:56:01.560068300Z"
    }
   },
   "id": "ca4a187742077e"
  },
  {
   "cell_type": "code",
   "execution_count": 56,
   "outputs": [
    {
     "name": "stdout",
     "output_type": "stream",
     "text": [
      "{'comment': '{\\n    \"good\": [\\n        \"Engaging and descriptive language that paints a vivid picture of the product\",\\n        \"Highlights key features and benefits effectively\",\\n        \"Incorporates lifestyle imagery to appeal to potential customers\"\\n    ],\\n    \"bad\": [\\n        \"Lacks specific dimensions or measurements that could help customers gauge the size of the table\",\\n        \"Could benefit from mentioning any special design elements or unique selling points that set it apart from similar products\",\\n        \"Limited information on maintenance or care instructions for the table\"\\n    ],\\n    \"score\": 85\\n}', 'score': 85.0, 'correction': {'good': ['Engaging and descriptive language that paints a vivid picture of the product', 'Highlights key features and benefits effectively', 'Incorporates lifestyle imagery to appeal to potential customers'], 'bad': ['Lacks specific dimensions or measurements that could help customers gauge the size of the table', 'Could benefit from mentioning any special design elements or unique selling points that set it apart from similar products', 'Limited information on maintenance or care instructions for the table']}}\n"
     ]
    }
   ],
   "source": [
    "from langsmith.evaluation import run_evaluator\n",
    "import langsmith.schemas\n",
    "\n",
    "\n",
    "@run_evaluator\n",
    "def eval_general(run: langsmith.schemas.Run, example: langsmith.schemas.Example) -> dict:\n",
    "    role_message = \"\"\"\n",
    "    You are an expert evaluator tasked with analyzing and critiquing product descriptions. Your primary role is to assess the effectiveness, creativity, and SEO alignment of the content. Provide a short and concise feedback list that outlines what is good and what is abad. Additionally, assign a score out of 100 based on the overall quality, taking into account factors like clarity, engagement, keyword integration, accuracy, and stylistic appeal. \n",
    "    Write the result as a JSON with keys of \"good\", \"bad\", \"score\".\n",
    "    \"\"\"\n",
    "\n",
    "    human_template = \"{new_description}\"\n",
    "\n",
    "    messages = [(\"system\", role_message), (\"human\", human_template)]\n",
    "    messages = [(role, trim_extra_whitespace(message)) for role, message in messages]\n",
    "\n",
    "    full_prompt = ChatPromptTemplate.from_messages(messages)\n",
    "\n",
    "    prediction = run.outputs.get(\"output\", \"\")\n",
    "\n",
    "    eval_res = (full_prompt | basic_llm).invoke({\"new_description\": prediction})\n",
    "    result = {\"comment\": eval_res.content}\n",
    "    try:\n",
    "        eval_score = safe_json_loads(eval_res.content)\n",
    "        if \"score\" in eval_score:\n",
    "            result[\"score\"] = float(eval_score.pop(\"score\"))\n",
    "        result[\"correction\"] = eval_score\n",
    "    except Exception as e:\n",
    "        pass\n",
    "\n",
    "    print(result)\n",
    "\n",
    "    return {\"key\": \"general\", **result}\n",
    "\n",
    "\n",
    "qq = langsmith_client.evaluate_run(run=\"7af3dd73-a8a9-492b-8e33-e0f5775a018b\", evaluator=eval_general)\n"
   ],
   "metadata": {
    "collapsed": false,
    "ExecuteTime": {
     "end_time": "2024-05-26T18:18:50.513593100Z",
     "start_time": "2024-05-26T18:18:45.447155900Z"
    }
   },
   "id": "29c606776932c85c"
  },
  {
   "cell_type": "code",
   "execution_count": 57,
   "outputs": [
    {
     "data": {
      "text/plain": "EvaluationResult(key='general', score=85.0, value=None, comment='{\\n    \"good\": [\\n        \"Engaging and descriptive language that paints a vivid picture of the product\",\\n        \"Highlights key features and benefits effectively\",\\n        \"Incorporates lifestyle imagery to appeal to potential customers\"\\n    ],\\n    \"bad\": [\\n        \"Lacks specific dimensions or measurements that could help customers gauge the size of the table\",\\n        \"Could benefit from mentioning any special design elements or unique selling points that set it apart from similar products\",\\n        \"Limited information on maintenance or care instructions for the table\"\\n    ],\\n    \"score\": 85\\n}', correction={'good': ['Engaging and descriptive language that paints a vivid picture of the product', 'Highlights key features and benefits effectively', 'Incorporates lifestyle imagery to appeal to potential customers'], 'bad': ['Lacks specific dimensions or measurements that could help customers gauge the size of the table', 'Could benefit from mentioning any special design elements or unique selling points that set it apart from similar products', 'Limited information on maintenance or care instructions for the table']}, evaluator_info={}, source_run_id=UUID('4049dd92-b8a0-4586-b621-da1790a8664f'), target_run_id=None)"
     },
     "execution_count": 57,
     "metadata": {},
     "output_type": "execute_result"
    }
   ],
   "source": [
    "qq"
   ],
   "metadata": {
    "collapsed": false,
    "ExecuteTime": {
     "end_time": "2024-05-26T18:18:51.296876800Z",
     "start_time": "2024-05-26T18:18:51.283877200Z"
    }
   },
   "id": "aa1bc348a13e0816"
  },
  {
   "cell_type": "code",
   "execution_count": 58,
   "outputs": [
    {
     "data": {
      "text/plain": "{'good': ['Engaging and descriptive language that paints a vivid picture of the product',\n  'Highlights key features and benefits effectively',\n  'Incorporates lifestyle imagery to appeal to potential customers'],\n 'bad': ['Lacks specific dimensions or measurements that could help customers gauge the size of the table',\n  'Could benefit from mentioning any special design elements or unique selling points that set it apart from similar products',\n  'Limited information on maintenance or care instructions for the table']}"
     },
     "execution_count": 58,
     "metadata": {},
     "output_type": "execute_result"
    }
   ],
   "source": [
    "qq.correction"
   ],
   "metadata": {
    "collapsed": false,
    "ExecuteTime": {
     "end_time": "2024-05-26T18:18:53.395530400Z",
     "start_time": "2024-05-26T18:18:53.381910600Z"
    }
   },
   "id": "1421bac2ad09661a"
  },
  {
   "cell_type": "code",
   "execution_count": null,
   "outputs": [],
   "source": [],
   "metadata": {
    "collapsed": false
   },
   "id": "81674f5d45e451db"
  },
  {
   "cell_type": "code",
   "execution_count": 63,
   "outputs": [
    {
     "data": {
      "text/plain": "Dataset(name='Tech Test', description=None, data_type=<DataType.kv: 'kv'>, id=UUID('6dd35b5f-e202-4eab-90d2-06c198c68f47'), created_at=datetime.datetime(2024, 5, 26, 18, 32, 15, 313192, tzinfo=datetime.timezone.utc), modified_at=datetime.datetime(2024, 5, 26, 18, 32, 15, 313192, tzinfo=datetime.timezone.utc), example_count=0, session_count=0, last_session_start_time=None)"
     },
     "execution_count": 63,
     "metadata": {},
     "output_type": "execute_result"
    }
   ],
   "source": [
    "langsmith_client.create_dataset(dataset_name=\"Tech Test\")"
   ],
   "metadata": {
    "collapsed": false,
    "ExecuteTime": {
     "end_time": "2024-05-26T18:32:15.418771600Z",
     "start_time": "2024-05-26T18:32:14.832935200Z"
    }
   },
   "id": "74302715e7459475"
  },
  {
   "cell_type": "code",
   "execution_count": 64,
   "outputs": [
    {
     "data": {
      "text/plain": "Example(dataset_id=UUID('6dd35b5f-e202-4eab-90d2-06c198c68f47'), inputs={'original_description': 'This chest of drawers is the ultimate statement piece for a coastal cottage or shabby chic inspired retreat. Whitewashed finish on the drawers and sides is wonderfully easy on the eyes. Paired with the unique plank-effect top, it’s a driftwoody look that has our minds drifting away to beachy-keen escapes.'}, outputs=None, metadata={'dataset_split': ['base']}, id=UUID('e6f418c5-9118-4512-9789-99bd3ee33773'), created_at=datetime.datetime(2024, 5, 26, 18, 32, 18, 399936, tzinfo=datetime.timezone.utc), modified_at=datetime.datetime(2024, 5, 26, 18, 32, 18, 399936, tzinfo=datetime.timezone.utc), runs=[], source_run_id=None)"
     },
     "execution_count": 64,
     "metadata": {},
     "output_type": "execute_result"
    }
   ],
   "source": [
    "langsmith_client.create_example(dataset_name=\"Tech Test\", inputs={\"original_description\": original_description_text})"
   ],
   "metadata": {
    "collapsed": false,
    "ExecuteTime": {
     "end_time": "2024-05-26T18:32:18.649746300Z",
     "start_time": "2024-05-26T18:32:18.177274400Z"
    }
   },
   "id": "27c1c6ccd263969e"
  },
  {
   "cell_type": "code",
   "execution_count": 68,
   "outputs": [
    {
     "name": "stdout",
     "output_type": "stream",
     "text": [
      "View the evaluation results for experiment: 'test-4acc5e' at:\n",
      "https://smith.langchain.com/o/d7a1c614-828d-5fe5-a5f1-6b6c2644f384/datasets/6dd35b5f-e202-4eab-90d2-06c198c68f47/compare?selectedSessions=14e87ba4-4f0a-4b1a-8ad0-debe99f3f3a7\n"
     ]
    },
    {
     "data": {
      "text/plain": "0it [00:00, ?it/s]",
      "application/vnd.jupyter.widget-view+json": {
       "version_major": 2,
       "version_minor": 0,
       "model_id": "46897129d2434a4197cced9e5cea9d13"
      }
     },
     "metadata": {},
     "output_type": "display_data"
    },
    {
     "name": "stdout",
     "output_type": "stream",
     "text": [
      "{'comment': '{\\n  \"good\": [\\n    \"Engaging and descriptive language creates a vivid image for the reader\",\\n    \"Use of sensory details enhances the appeal of the product\",\\n    \"Incorporates lifestyle imagery to evoke emotions and aspirations\",\\n    \"Effectively highlights both aesthetic and functional features of the product\",\\n    \"Promotes a sense of tranquility and coastal charm effectively\"\\n  ],\\n  \"bad\": [\\n    \"Could benefit from more specific details about dimensions or materials used\",\\n    \"Lacks specific keywords that potential customers might search for (e.g., \\'coastal furniture\\', \\'shabby chic chest of drawers\\')\",\\n    \"Repetitive use of certain phrases could be improved for variety\"\\n  ],\\n  \"score\": 85\\n}', 'score': 85.0, 'correction': {'good': ['Engaging and descriptive language creates a vivid image for the reader', 'Use of sensory details enhances the appeal of the product', 'Incorporates lifestyle imagery to evoke emotions and aspirations', 'Effectively highlights both aesthetic and functional features of the product', 'Promotes a sense of tranquility and coastal charm effectively'], 'bad': ['Could benefit from more specific details about dimensions or materials used', \"Lacks specific keywords that potential customers might search for (e.g., 'coastal furniture', 'shabby chic chest of drawers')\", 'Repetitive use of certain phrases could be improved for variety']}}\n"
     ]
    }
   ],
   "source": [
    "from langsmith.evaluation import evaluate\n",
    "\n",
    "qqq = evaluate(\n",
    "    partial(get_baseline_chain, llm=basic_llm),\n",
    "    data=\"Tech Test\",\n",
    "    metadata={**run_metadata, \"model\": \"3.5\"},\n",
    "    evaluators=[eval_general],\n",
    "    experiment_prefix=\"test\",\n",
    "    client=langsmith_client\n",
    ")\n"
   ],
   "metadata": {
    "collapsed": false,
    "ExecuteTime": {
     "end_time": "2024-05-26T18:38:16.474894200Z",
     "start_time": "2024-05-26T18:38:05.122943700Z"
    }
   },
   "id": "e6c1bef7c7d279f5"
  },
  {
   "cell_type": "code",
   "execution_count": 69,
   "outputs": [
    {
     "data": {
      "text/plain": "<ExperimentResults test-4acc5e>"
     },
     "execution_count": 69,
     "metadata": {},
     "output_type": "execute_result"
    }
   ],
   "source": [
    "qqq"
   ],
   "metadata": {
    "collapsed": false,
    "ExecuteTime": {
     "end_time": "2024-05-26T18:38:19.210668500Z",
     "start_time": "2024-05-26T18:38:19.188655100Z"
    }
   },
   "id": "f4962608218bf1b2"
  },
  {
   "cell_type": "code",
   "execution_count": 72,
   "outputs": [
    {
     "data": {
      "text/plain": "AIMessage(content='I am an AI and I do not cook, but I am here to assist you with any questions or tasks you may have! How can I help you today?', response_metadata={'token_usage': {'completion_tokens': 33, 'prompt_tokens': 12, 'total_tokens': 45}, 'model_name': 'gpt-3.5-turbo-0125', 'system_fingerprint': None, 'finish_reason': 'stop', 'logprobs': None})"
     },
     "execution_count": 72,
     "metadata": {},
     "output_type": "execute_result"
    }
   ],
   "source": [
    "from langfuse.callback import CallbackHandler\n",
    "langfuse_handler = CallbackHandler(\n",
    "    public_key=\"pk-lf-d229a547-fb20-4de6-94d2-af4565b61b73\",\n",
    "    secret_key=\"sk-lf-d0228d2a-9dcd-4968-b170-88367f8e03ae\",\n",
    "    host=\"https://langfuse.ef-coolify.calmmage.com\"\n",
    ")\n",
    "\n",
    "basic_llm.invoke(\"What's cookin?\", config={\"callbacks\": [langfuse_handler]})"
   ],
   "metadata": {
    "collapsed": false,
    "ExecuteTime": {
     "end_time": "2024-05-26T23:53:51.692191900Z",
     "start_time": "2024-05-26T23:53:50.237955700Z"
    }
   },
   "id": "51c05b1d3576a126"
  },
  {
   "cell_type": "code",
   "execution_count": 82,
   "outputs": [],
   "source": [
    "invoke_config = {}\n",
    "# chain.with_config(**invoke_config).invoke  # Yeah, I know\n",
    "if os.environ.get(\"LANGFUSE_PUBLIC_KEY\") and os.environ.get(\"LANGFUSE_SECRET_KEY\") and os.environ.get(\"LANGFUSE_HOST\"):\n",
    "    langfuse_handler = CallbackHandler(\n",
    "        public_key=os.environ.get(\"LANGFUSE_PUBLIC_KEY\"),\n",
    "        secret_key=os.environ.get(\"LANGFUSE_SECRET_KEY\"),\n",
    "        host=os.environ.get(\"LANGFUSE_HOST\"),\n",
    "    )\n",
    "    invoke_config[\"callbacks\"] = invoke_config.get(\"callbacks\", []) + [langfuse_handler]"
   ],
   "metadata": {
    "collapsed": false,
    "ExecuteTime": {
     "end_time": "2024-05-27T00:13:01.582866900Z",
     "start_time": "2024-05-27T00:13:01.358391400Z"
    }
   },
   "id": "88eefd61f74eb415"
  },
  {
   "cell_type": "code",
   "execution_count": null,
   "outputs": [],
   "source": [],
   "metadata": {
    "collapsed": false
   },
   "id": "f1a5be46e4f34ce0"
  },
  {
   "cell_type": "code",
   "execution_count": null,
   "outputs": [],
   "source": [],
   "metadata": {
    "collapsed": false
   },
   "id": "3fd058f38f501f4d"
  },
  {
   "cell_type": "code",
   "execution_count": 70,
   "outputs": [
    {
     "data": {
      "text/plain": "ChatOpenAI(client=<openai.resources.chat.completions.Completions object at 0x000001CBC5701880>, async_client=<openai.resources.chat.completions.AsyncCompletions object at 0x000001CBC5707F10>, model_name='gpt-3.5-turbo-0125', openai_api_key=SecretStr('**********'), openai_proxy='', request_timeout=60.0, max_retries=3, http_client=<httpx.Client object at 0x000001CBBC9232E0>)"
     },
     "execution_count": 70,
     "metadata": {},
     "output_type": "execute_result"
    }
   ],
   "source": [
    "import langchain_core.runnables.config"
   ],
   "metadata": {
    "collapsed": false,
    "ExecuteTime": {
     "end_time": "2024-05-26T23:53:20.477426300Z",
     "start_time": "2024-05-26T23:53:20.464429200Z"
    }
   },
   "id": "550469228df45554"
  },
  {
   "cell_type": "code",
   "execution_count": 73,
   "outputs": [
    {
     "data": {
      "text/plain": "True"
     },
     "execution_count": 73,
     "metadata": {},
     "output_type": "execute_result"
    }
   ],
   "source": [
    "load_dotenv()"
   ],
   "metadata": {
    "collapsed": false,
    "ExecuteTime": {
     "end_time": "2024-05-27T00:04:51.113929900Z",
     "start_time": "2024-05-27T00:04:51.098903Z"
    }
   },
   "id": "726347a04bc2ebcc"
  },
  {
   "cell_type": "code",
   "execution_count": 80,
   "outputs": [],
   "source": [
    "from langfuse.decorators import observe\n",
    " \n",
    "def get_baseline_chain(inputs, llm=None):\n",
    "    if not llm:\n",
    "        llm = basic_llm\n",
    "    role_message = \"\"\"You are an expert copywriter specialized in crafting engaging and SEO-optimized product descriptions for an online furniture store. Your task is to transform basic product descriptions into compelling, informative content that appeals to potential customers and search engines alike. Each description should be around 400 words, creatively written to highlight the features and benefits of the product while incorporating relevant keywords to boost search engine visibility. Your writing should be clear, lively, and persuasive, designed to attract and retain customer interest and drive sales.\"\"\"\n",
    "\n",
    "    human_template = \"{original_description}\"\n",
    "\n",
    "    messages = [(\"system\", role_message), (\"human\", human_template)]\n",
    "    messages = [(role, trim_extra_whitespace(message)) for role, message in messages]\n",
    "\n",
    "    full_prompt = ChatPromptTemplate.from_messages(messages)\n",
    "    chain = full_prompt | llm | RunnableLambda(lambda x: x.content)\n",
    "    return {\"output\": chain.with_config({\"callbacks\": [langfuse_handler]}).invoke(inputs)}"
   ],
   "metadata": {
    "collapsed": false,
    "ExecuteTime": {
     "end_time": "2024-05-27T00:07:32.759558700Z",
     "start_time": "2024-05-27T00:07:32.742275300Z"
    }
   },
   "id": "6d936659cdb9d817"
  },
  {
   "cell_type": "code",
   "execution_count": 75,
   "outputs": [
    {
     "data": {
      "text/plain": "{'output': \"Upgrade your living room with our elegant and versatile Velvet Loveseat. This luxurious piece of furniture is more than just a place to sit – it's a statement of style and comfort. \\n\\nCrafted with a sturdy wooden frame and plush velvet upholstery, this loveseat is designed to provide both durability and sophistication. The rich velvet fabric not only adds a touch of luxury to your space but also offers a soft and cozy spot to relax after a long day.\\n\\nThe compact size of the loveseat makes it perfect for smaller spaces without compromising on seating capacity. Whether you're curling up with a book or entertaining guests, this loveseat offers ample seating while saving space in your living room.\\n\\nThe classic design of the Velvet Loveseat is timeless and can effortlessly complement any existing decor. The deep navy color adds a touch of elegance, while the button-tufted backrest and tapered legs bring a touch of mid-century charm to your home.\\n\\nDon't settle for just any loveseat – choose our Velvet Loveseat to add a touch of sophistication and comfort to your living space. With its durable construction, luxurious velvet upholstery, and timeless design, this loveseat is sure to become the focal point of your room. Upgrade your home with the Velvet Loveseat and experience the perfect blend of style and comfort.\"}"
     },
     "execution_count": 75,
     "metadata": {},
     "output_type": "execute_result"
    }
   ],
   "source": [
    "get_baseline_chain({\"original_description\": \"This is a test\"})"
   ],
   "metadata": {
    "collapsed": false,
    "ExecuteTime": {
     "end_time": "2024-05-27T00:05:30.055018300Z",
     "start_time": "2024-05-27T00:05:25.869609300Z"
    }
   },
   "id": "d39e5a82160ab0d7"
  },
  {
   "cell_type": "code",
   "execution_count": 76,
   "outputs": [],
   "source": [
    "llm_with_callbacks = basic_llm.with_config({\"callbacks\": [langfuse_handler]})"
   ],
   "metadata": {
    "collapsed": false,
    "ExecuteTime": {
     "end_time": "2024-05-27T00:06:19.894436900Z",
     "start_time": "2024-05-27T00:06:19.877438300Z"
    }
   },
   "id": "525b9920d0442d7f"
  },
  {
   "cell_type": "code",
   "execution_count": 81,
   "outputs": [
    {
     "data": {
      "text/plain": "{'output': 'Transforming basic product descriptions into compelling, informative content that appeals to potential customers and search engines is crucial for online furniture stores. As an expert copywriter in this field, I understand the importance of crafting engaging and SEO-optimized descriptions to drive sales and increase visibility. Each description should be around 400 words, creatively highlighting the features and benefits of the product while incorporating relevant keywords to boost search engine rankings. My writing is clear, lively, and persuasive, designed to attract and retain customer interest, ultimately leading to increased sales for the online store.'}"
     },
     "execution_count": 81,
     "metadata": {},
     "output_type": "execute_result"
    }
   ],
   "source": [
    "get_baseline_chain({\"original_description\": \"This is a test\"}, llm=llm_with_callbacks)"
   ],
   "metadata": {
    "collapsed": false,
    "ExecuteTime": {
     "end_time": "2024-05-27T00:07:39.458984700Z",
     "start_time": "2024-05-27T00:07:35.721966900Z"
    }
   },
   "id": "9f5f5328e5bc9a3c"
  },
  {
   "cell_type": "code",
   "execution_count": 85,
   "outputs": [
    {
     "data": {
      "text/plain": "DatasetItem(id='ce0c0be0-1044-4a1e-8040-e5af7c1cefc3', status=<DatasetStatus.ACTIVE: 'ACTIVE'>, input={'original_description': 'This is a test'}, expected_output=None, metadata=None, source_trace_id=None, source_observation_id=None, dataset_id='clwo7z19s000nmm28son9hsla', dataset_name='tech_test', created_at=datetime.datetime(2024, 5, 27, 0, 18, 7, 608000, tzinfo=datetime.timezone.utc), updated_at=datetime.datetime(2024, 5, 27, 0, 18, 7, 608000, tzinfo=datetime.timezone.utc))"
     },
     "execution_count": 85,
     "metadata": {},
     "output_type": "execute_result"
    }
   ],
   "source": [
    "from langfuse import Langfuse\n",
    " \n",
    "langfuse_client = Langfuse()\n",
    "\n",
    "langfuse_client.create_dataset(name=\"tech_test\")\n",
    "langfuse_client.create_dataset_item(dataset_name=\"tech_test\", input={\"original_description\": \"This is a test\"})"
   ],
   "metadata": {
    "collapsed": false,
    "ExecuteTime": {
     "end_time": "2024-05-27T00:18:07.695693100Z",
     "start_time": "2024-05-27T00:18:07.192837900Z"
    }
   },
   "id": "a13a01f2a822faf1"
  },
  {
   "cell_type": "code",
   "execution_count": null,
   "outputs": [],
   "source": [],
   "metadata": {
    "collapsed": false
   },
   "id": "8056b5390f11990f"
  },
  {
   "cell_type": "code",
   "execution_count": null,
   "outputs": [],
   "source": [
    "# def run_langchain_experiment(experiment_name, system_message):\n",
    "#   dataset = langfuse.get_dataset(\"capital_cities\")\n",
    "#  \n",
    "#   for item in dataset.items:\n",
    "#     handler = item.get_langchain_handler(run_name=experiment_name)\n",
    "#  \n",
    "#     completion = run_my_langchain_llm_app(item.input[\"country\"], system_message, handler)\n",
    "#  \n",
    "#     handler.trace.score(\n",
    "#       name=\"exact_match\",\n",
    "#       value=simple_evaluation(completion, item.expected_output)\n",
    "#     )\n",
    "\n"
   ],
   "metadata": {
    "collapsed": false
   },
   "id": "2bd5211e2ea8bd49"
  },
  {
   "cell_type": "code",
   "execution_count": 92,
   "outputs": [
    {
     "name": "stdout",
     "output_type": "stream",
     "text": [
      "{'comment': '{\\n  \"good\": [\\n    \"Emphasizes the importance of engaging and SEO-optimized product descriptions\",\\n    \"Highlights the benefits of communicating unique features effectively\",\\n    \"Encourages creating compelling narratives to inspire customer exploration\"\\n  ],\\n  \"bad\": [\\n    \"Lacks specific examples of how to improve product descriptions\",\\n    \"Could provide more actionable tips for enhancing SEO alignment\",\\n    \"Does not mention the importance of using relevant keywords\"\\n  ]\\n}', 'value': 75.0}\n"
     ]
    }
   ],
   "source": [
    "\n",
    "def get_baseline_chain(llm=None):\n",
    "    if not llm:\n",
    "        llm = basic_llm\n",
    "    role_message = \"\"\"You are an expert copywriter specialized in crafting engaging and SEO-optimized product descriptions for an online furniture store. Your task is to transform basic product descriptions into compelling, informative content that appeals to potential customers and search engines alike. Each description should be around 400 words, creatively written to highlight the features and benefits of the product while incorporating relevant keywords to boost search engine visibility. Your writing should be clear, lively, and persuasive, designed to attract and retain customer interest and drive sales.\"\"\"\n",
    "\n",
    "    human_template = \"{original_description}\"\n",
    "\n",
    "    messages = [(\"system\", role_message), (\"human\", human_template)]\n",
    "    messages = [(role, trim_extra_whitespace(message)) for role, message in messages]\n",
    "\n",
    "    full_prompt = ChatPromptTemplate.from_messages(messages)\n",
    "    chain = full_prompt | llm | RunnableLambda(lambda x: x.content)\n",
    "    return chain\n",
    "\n",
    "def simple_evaluation(output, expected_output):\n",
    "    role_message = \"\"\"\n",
    "    You are an expert evaluator tasked with analyzing and critiquing product descriptions. Your primary role is to assess the effectiveness, creativity, and SEO alignment of the content. Provide a short and concise feedback list that outlines what is good and what is abad. Additionally, assign a score out of 100 based on the overall quality, taking into account factors like clarity, engagement, keyword integration, accuracy, and stylistic appeal. \n",
    "    Write the result as a JSON with keys of \"good\", \"bad\", \"score\".\n",
    "    \"\"\"\n",
    "\n",
    "    human_template = \"{new_description}\"\n",
    "\n",
    "    messages = [(\"system\", role_message), (\"human\", human_template)]\n",
    "    messages = [(role, trim_extra_whitespace(message)) for role, message in messages]\n",
    "\n",
    "    full_prompt = ChatPromptTemplate.from_messages(messages)\n",
    "\n",
    "    eval_res = (full_prompt | basic_llm).with_config(**invoke_config).invoke({\"new_description\": output})\n",
    "    result = {\"comment\": eval_res.content}\n",
    "    try:\n",
    "        eval_score = safe_json_loads(eval_res.content)\n",
    "        if \"score\" in eval_score:\n",
    "            result[\"value\"] = float(eval_score.pop(\"score\"))\n",
    "        result[\"comment\"] = json.dumps(eval_score, indent=2)\n",
    "    except Exception as e:\n",
    "        pass\n",
    "\n",
    "    print(result)\n",
    "\n",
    "    return {\"name\": \"general\", **result}\n",
    "\n",
    "\n",
    "def make_experiment_name():\n",
    "    return \"not_implemented_yet\"\n",
    "\n",
    "\n",
    "def process_dataset_item(item, experiment_name=None):\n",
    "    if not experiment_name:\n",
    "        experiment_name = make_experiment_name()\n",
    "    \n",
    "    \n",
    "    local_handler = item.get_langchain_handler(run_name=experiment_name)\n",
    "    local_config = {\"callbacks\": [local_handler]}\n",
    "    chain = get_baseline_chain()\n",
    "    \n",
    "    res = chain.with_config(**local_config).invoke(item.input)\n",
    "    \n",
    "    score = simple_evaluation(res, item.expected_output)\n",
    "    \n",
    "    local_handler.trace.score(\n",
    "        **score\n",
    "    )\n",
    "    \n",
    "experiment_name=\"usage_example_4\"\n",
    "for item in langfuse_client.get_dataset(\"tech_test\").items:\n",
    "    process_dataset_item(item, experiment_name=experiment_name)\n",
    "    break\n"
   ],
   "metadata": {
    "collapsed": false,
    "ExecuteTime": {
     "end_time": "2024-05-27T01:01:10.265244600Z",
     "start_time": "2024-05-27T01:01:06.229147Z"
    }
   },
   "id": "cdc722e194bd52a8"
  },
  {
   "cell_type": "code",
   "execution_count": null,
   "outputs": [],
   "source": [],
   "metadata": {
    "collapsed": false
   },
   "id": "3fb2ebf0f1cacfa4"
  },
  {
   "cell_type": "code",
   "execution_count": null,
   "outputs": [],
   "source": [],
   "metadata": {
    "collapsed": false
   },
   "id": "941aadcdce85fd48"
  },
  {
   "cell_type": "code",
   "execution_count": null,
   "outputs": [],
   "source": [],
   "metadata": {
    "collapsed": false
   },
   "id": "e207e43cee657042"
  },
  {
   "cell_type": "code",
   "execution_count": null,
   "outputs": [],
   "source": [],
   "metadata": {
    "collapsed": false
   },
   "id": "c8c5baf400333791"
  }
 ],
 "metadata": {
  "kernelspec": {
   "display_name": "Python 3",
   "language": "python",
   "name": "python3"
  },
  "language_info": {
   "codemirror_mode": {
    "name": "ipython",
    "version": 2
   },
   "file_extension": ".py",
   "mimetype": "text/x-python",
   "name": "python",
   "nbconvert_exporter": "python",
   "pygments_lexer": "ipython2",
   "version": "2.7.6"
  }
 },
 "nbformat": 4,
 "nbformat_minor": 5
}
