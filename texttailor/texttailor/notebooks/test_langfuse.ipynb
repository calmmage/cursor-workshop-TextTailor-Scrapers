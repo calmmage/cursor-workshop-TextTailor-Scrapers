{
 "cells": [
  {
   "cell_type": "code",
   "id": "initial_id",
   "metadata": {
    "collapsed": true
   },
   "source": [
    "import json\n",
    "import os\n",
    "import random\n",
    "\n",
    "from mvodolagin_personal_imports import *\n",
    "\n",
    "load_dotenv()"
   ],
   "outputs": [],
   "execution_count": null
  },
  {
   "cell_type": "code",
   "source": [
    "from mvodolagin_personal_imports.langchain_stuff import *"
   ],
   "metadata": {
    "collapsed": false
   },
   "id": "46ee156a8c1d7443",
   "outputs": [],
   "execution_count": null
  },
  {
   "cell_type": "code",
   "source": [
    "data_dir = Path(r\"E:\\Work\\TextTailor\\repos\\text_tailor_scrapers\\texttailor\\texttailor\\dev\\data\")"
   ],
   "metadata": {
    "collapsed": false
   },
   "id": "45e5f9281c8fd985",
   "outputs": [],
   "execution_count": null
  },
  {
   "cell_type": "code",
   "source": [
    "for site_dir in data_dir.iterdir():\n",
    "    if not site_dir.is_dir():\n",
    "        continue\n",
    "    item_files = list(site_dir.glob(\"item_*.json\"))\n",
    "    if len(item_files) < 20:\n",
    "        continue\n",
    "    break"
   ],
   "metadata": {
    "collapsed": false
   },
   "id": "8ecf528bd6652677",
   "outputs": [],
   "execution_count": null
  },
  {
   "cell_type": "code",
   "source": [
    "examples = []\n",
    "\n",
    "random.shuffle(item_files)\n",
    "\n",
    "for i, fp in enumerate(item_files):\n",
    "    data = json.loads(fp.read_text(encoding=\"utf-8\"))\n",
    "    original_description_text = \"\\n\\n\".join(data[\"matching_texts\"])\n",
    "    examples.append(original_description_text)\n",
    "    if i > 5:\n",
    "        break"
   ],
   "metadata": {
    "collapsed": false
   },
   "id": "de8b21e8acfc4028",
   "outputs": [],
   "execution_count": null
  },
  {
   "cell_type": "code",
   "source": [
    "data.keys()"
   ],
   "metadata": {
    "collapsed": false
   },
   "id": "2af3f2b5b0faf4f9",
   "outputs": [],
   "execution_count": null
  },
  {
   "cell_type": "code",
   "source": [
    "data[\"url\"]"
   ],
   "metadata": {
    "collapsed": false
   },
   "id": "bba2ca579f56cb91",
   "outputs": [],
   "execution_count": null
  },
  {
   "cell_type": "code",
   "source": [
    "original_description_text"
   ],
   "metadata": {
    "collapsed": false
   },
   "id": "ac9bfc41b0cbfea4",
   "outputs": [],
   "execution_count": null
  },
  {
   "cell_type": "code",
   "source": [
    "import langsmith\n",
    "\n",
    "langsmith_client = langsmith.client.Client()\n",
    "dataset_name = \"Short Test\"\n",
    "\n",
    "# dataset = langsmith_client.create_dataset(dataset_name=dataset_name)\n",
    "# for e in examples:\n",
    "#     langsmith_client.create_example(dataset_name=dataset_name, inputs={\"original_description\": e})"
   ],
   "metadata": {
    "collapsed": false
   },
   "id": "72cdc12972232077",
   "outputs": [],
   "execution_count": null
  },
  {
   "cell_type": "code",
   "source": [
    "omni_llm = ChatOpenAI(model_name=\"gpt-4o\", **common_settings)"
   ],
   "metadata": {
    "collapsed": false
   },
   "id": "fa28ab0ed6748d0a",
   "outputs": [],
   "execution_count": null
  },
  {
   "cell_type": "code",
   "source": [
    "import openai"
   ],
   "metadata": {
    "collapsed": false
   },
   "id": "42396c24f544767a",
   "outputs": [],
   "execution_count": null
  },
  {
   "cell_type": "code",
   "source": [],
   "metadata": {
    "collapsed": false
   },
   "id": "5137a88d01c5c0dd",
   "outputs": [],
   "execution_count": null
  },
  {
   "cell_type": "code",
   "source": [],
   "metadata": {
    "collapsed": false
   },
   "id": "5f4a814cf012fffa",
   "outputs": [],
   "execution_count": null
  },
  {
   "cell_type": "code",
   "source": [
    "def get_baseline_chain(inputs, llm=None):\n",
    "    if not llm:\n",
    "        llm = basic_llm\n",
    "    role_message = \"\"\"You are an expert copywriter specialized in crafting engaging and SEO-optimized product descriptions for an online furniture store. Your task is to transform basic product descriptions into compelling, informative content that appeals to potential customers and search engines alike. Each description should be around 400 words, creatively written to highlight the features and benefits of the product while incorporating relevant keywords to boost search engine visibility. Your writing should be clear, lively, and persuasive, designed to attract and retain customer interest and drive sales.\"\"\"\n",
    "\n",
    "    human_template = \"{original_description}\"\n",
    "\n",
    "    messages = [(\"system\", role_message), (\"human\", human_template)]\n",
    "    messages = [(role, trim_extra_whitespace(message)) for role, message in messages]\n",
    "\n",
    "    full_prompt = ChatPromptTemplate.from_messages(messages)\n",
    "    chain = full_prompt | llm | RunnableLambda(lambda x: x.content)\n",
    "    return chain\n"
   ],
   "metadata": {
    "collapsed": false
   },
   "id": "7adf39a4eb0351a3",
   "outputs": [],
   "execution_count": null
  },
  {
   "cell_type": "code",
   "source": [
    "from functools import partial\n",
    "\n",
    "run_metadata = {\"version\": \"dev_baseline_1\"}\n",
    "langsmith_client.run_on_dataset(\n",
    "    llm_or_chain_factory=partial(get_baseline_chain, llm=basic_llm), dataset_name=dataset_name,\n",
    "    project_metadata={**run_metadata, \"model\": \"3.5\"},\n",
    "    evaluation=[\"eval_general\"]\n",
    ")"
   ],
   "metadata": {
    "collapsed": false
   },
   "id": "2c49b829e4595932",
   "outputs": [],
   "execution_count": null
  },
  {
   "cell_type": "code",
   "source": [
    "langsmith_client.run_on_dataset(llm_or_chain_factory=partial(get_baseline_chain, llm=omni_llm),\n",
    "                                dataset_name=dataset_name, project_metadata={**run_metadata, \"model\": \"4o\"})\n"
   ],
   "metadata": {
    "collapsed": false
   },
   "id": "985c034e1fb2aa8b",
   "outputs": [],
   "execution_count": null
  },
  {
   "cell_type": "code",
   "source": [
    "original_description_text"
   ],
   "metadata": {
    "collapsed": false
   },
   "id": "ca4a187742077e",
   "outputs": [],
   "execution_count": null
  },
  {
   "cell_type": "code",
   "source": [
    "from langsmith.evaluation import run_evaluator\n",
    "import langsmith.schemas\n",
    "\n",
    "\n",
    "@run_evaluator\n",
    "def eval_general(run: langsmith.schemas.Run, example: langsmith.schemas.Example) -> dict:\n",
    "    role_message = \"\"\"\n",
    "    You are an expert evaluator tasked with analyzing and critiquing product descriptions. Your primary role is to assess the effectiveness, creativity, and SEO alignment of the content. Provide a short and concise feedback list that outlines what is good and what is abad. Additionally, assign a score out of 100 based on the overall quality, taking into account factors like clarity, engagement, keyword integration, accuracy, and stylistic appeal. \n",
    "    Write the result as a JSON with keys of \"good\", \"bad\", \"score\".\n",
    "    \"\"\"\n",
    "\n",
    "    human_template = \"{new_description}\"\n",
    "\n",
    "    messages = [(\"system\", role_message), (\"human\", human_template)]\n",
    "    messages = [(role, trim_extra_whitespace(message)) for role, message in messages]\n",
    "\n",
    "    full_prompt = ChatPromptTemplate.from_messages(messages)\n",
    "\n",
    "    prediction = run.outputs.get(\"output\", \"\")\n",
    "\n",
    "    eval_res = (full_prompt | basic_llm).invoke({\"new_description\": prediction})\n",
    "    result = {\"comment\": eval_res.content}\n",
    "    try:\n",
    "        eval_score = safe_json_loads(eval_res.content)\n",
    "        if \"score\" in eval_score:\n",
    "            result[\"score\"] = float(eval_score.pop(\"score\"))\n",
    "        result[\"correction\"] = eval_score\n",
    "    except Exception as e:\n",
    "        pass\n",
    "\n",
    "    print(result)\n",
    "\n",
    "    return {\"key\": \"general\", **result}\n",
    "\n",
    "\n",
    "qq = langsmith_client.evaluate_run(run=\"7af3dd73-a8a9-492b-8e33-e0f5775a018b\", evaluator=eval_general)\n"
   ],
   "metadata": {
    "collapsed": false
   },
   "id": "29c606776932c85c",
   "outputs": [],
   "execution_count": null
  },
  {
   "cell_type": "code",
   "source": [
    "qq"
   ],
   "metadata": {
    "collapsed": false
   },
   "id": "aa1bc348a13e0816",
   "outputs": [],
   "execution_count": null
  },
  {
   "cell_type": "code",
   "source": [
    "qq.correction"
   ],
   "metadata": {
    "collapsed": false
   },
   "id": "1421bac2ad09661a",
   "outputs": [],
   "execution_count": null
  },
  {
   "cell_type": "code",
   "source": [],
   "metadata": {
    "collapsed": false
   },
   "id": "81674f5d45e451db",
   "outputs": [],
   "execution_count": null
  },
  {
   "cell_type": "code",
   "source": [
    "langsmith_client.create_dataset(dataset_name=\"Tech Test\")"
   ],
   "metadata": {
    "collapsed": false
   },
   "id": "74302715e7459475",
   "outputs": [],
   "execution_count": null
  },
  {
   "cell_type": "code",
   "source": [
    "langsmith_client.create_example(dataset_name=\"Tech Test\", inputs={\"original_description\": original_description_text})"
   ],
   "metadata": {
    "collapsed": false
   },
   "id": "27c1c6ccd263969e",
   "outputs": [],
   "execution_count": null
  },
  {
   "cell_type": "code",
   "source": [
    "from langsmith.evaluation import evaluate\n",
    "\n",
    "qqq = evaluate(\n",
    "    partial(get_baseline_chain, llm=basic_llm),\n",
    "    data=\"Tech Test\",\n",
    "    metadata={**run_metadata, \"model\": \"3.5\"},\n",
    "    evaluators=[eval_general],\n",
    "    experiment_prefix=\"test\",\n",
    "    client=langsmith_client\n",
    ")\n"
   ],
   "metadata": {
    "collapsed": false
   },
   "id": "e6c1bef7c7d279f5",
   "outputs": [],
   "execution_count": null
  },
  {
   "cell_type": "code",
   "source": [
    "qqq"
   ],
   "metadata": {
    "collapsed": false
   },
   "id": "f4962608218bf1b2",
   "outputs": [],
   "execution_count": null
  },
  {
   "cell_type": "code",
   "source": [
    "from langfuse.callback import CallbackHandler\n",
    "langfuse_handler = CallbackHandler(\n",
    "    \n",
    ")\n",
    "\n",
    "basic_llm.invoke(\"What's cookin?\", config={\"callbacks\": [langfuse_handler]})"
   ],
   "metadata": {
    "collapsed": false
   },
   "id": "51c05b1d3576a126",
   "outputs": [],
   "execution_count": null
  },
  {
   "cell_type": "code",
   "source": [
    "invoke_config = {}\n",
    "# chain.with_config(**invoke_config).invoke  # Yeah, I know\n",
    "if os.environ.get(\"LANGFUSE_PUBLIC_KEY\") and os.environ.get(\"LANGFUSE_SECRET_KEY\") and os.environ.get(\"LANGFUSE_HOST\"):\n",
    "    langfuse_handler = CallbackHandler(\n",
    "        public_key=os.environ.get(\"LANGFUSE_PUBLIC_KEY\"),\n",
    "        secret_key=os.environ.get(\"LANGFUSE_SECRET_KEY\"),\n",
    "        host=os.environ.get(\"LANGFUSE_HOST\"),\n",
    "    )\n",
    "    invoke_config[\"callbacks\"] = invoke_config.get(\"callbacks\", []) + [langfuse_handler]"
   ],
   "metadata": {
    "collapsed": false
   },
   "id": "88eefd61f74eb415",
   "outputs": [],
   "execution_count": null
  },
  {
   "cell_type": "code",
   "source": [],
   "metadata": {
    "collapsed": false
   },
   "id": "f1a5be46e4f34ce0",
   "outputs": [],
   "execution_count": null
  },
  {
   "cell_type": "code",
   "source": [],
   "metadata": {
    "collapsed": false
   },
   "id": "3fd058f38f501f4d",
   "outputs": [],
   "execution_count": null
  },
  {
   "cell_type": "code",
   "source": [
    "import langchain_core.runnables.config"
   ],
   "metadata": {
    "collapsed": false
   },
   "id": "550469228df45554",
   "outputs": [],
   "execution_count": null
  },
  {
   "cell_type": "code",
   "source": [
    "load_dotenv()"
   ],
   "metadata": {
    "collapsed": false
   },
   "id": "726347a04bc2ebcc",
   "outputs": [],
   "execution_count": null
  },
  {
   "cell_type": "code",
   "source": [
    "from langfuse.decorators import observe\n",
    " \n",
    "def get_baseline_chain(inputs, llm=None):\n",
    "    if not llm:\n",
    "        llm = basic_llm\n",
    "    role_message = \"\"\"You are an expert copywriter specialized in crafting engaging and SEO-optimized product descriptions for an online furniture store. Your task is to transform basic product descriptions into compelling, informative content that appeals to potential customers and search engines alike. Each description should be around 400 words, creatively written to highlight the features and benefits of the product while incorporating relevant keywords to boost search engine visibility. Your writing should be clear, lively, and persuasive, designed to attract and retain customer interest and drive sales.\"\"\"\n",
    "\n",
    "    human_template = \"{original_description}\"\n",
    "\n",
    "    messages = [(\"system\", role_message), (\"human\", human_template)]\n",
    "    messages = [(role, trim_extra_whitespace(message)) for role, message in messages]\n",
    "\n",
    "    full_prompt = ChatPromptTemplate.from_messages(messages)\n",
    "    chain = full_prompt | llm | RunnableLambda(lambda x: x.content)\n",
    "    return {\"output\": chain.with_config({\"callbacks\": [langfuse_handler]}).invoke(inputs)}"
   ],
   "metadata": {
    "collapsed": false
   },
   "id": "6d936659cdb9d817",
   "outputs": [],
   "execution_count": null
  },
  {
   "cell_type": "code",
   "source": [
    "get_baseline_chain({\"original_description\": \"This is a test\"})"
   ],
   "metadata": {
    "collapsed": false
   },
   "id": "d39e5a82160ab0d7",
   "outputs": [],
   "execution_count": null
  },
  {
   "cell_type": "code",
   "source": [
    "llm_with_callbacks = basic_llm.with_config({\"callbacks\": [langfuse_handler]})"
   ],
   "metadata": {
    "collapsed": false
   },
   "id": "525b9920d0442d7f",
   "outputs": [],
   "execution_count": null
  },
  {
   "cell_type": "code",
   "source": [
    "get_baseline_chain({\"original_description\": \"This is a test\"}, llm=llm_with_callbacks)"
   ],
   "metadata": {
    "collapsed": false
   },
   "id": "9f5f5328e5bc9a3c",
   "outputs": [],
   "execution_count": null
  },
  {
   "cell_type": "code",
   "source": [
    "from langfuse import Langfuse\n",
    " \n",
    "langfuse_client = Langfuse()\n",
    "\n",
    "langfuse_client.create_dataset(name=\"tech_test\")\n",
    "langfuse_client.create_dataset_item(dataset_name=\"tech_test\", input={\"original_description\": \"This is a test\"})"
   ],
   "metadata": {
    "collapsed": false
   },
   "id": "a13a01f2a822faf1",
   "outputs": [],
   "execution_count": null
  },
  {
   "cell_type": "code",
   "source": [],
   "metadata": {
    "collapsed": false
   },
   "id": "8056b5390f11990f",
   "outputs": [],
   "execution_count": null
  },
  {
   "cell_type": "code",
   "source": [
    "# def run_langchain_experiment(experiment_name, system_message):\n",
    "#   dataset = langfuse.get_dataset(\"capital_cities\")\n",
    "#  \n",
    "#   for item in dataset.items:\n",
    "#     handler = item.get_langchain_handler(run_name=experiment_name)\n",
    "#  \n",
    "#     completion = run_my_langchain_llm_app(item.input[\"country\"], system_message, handler)\n",
    "#  \n",
    "#     handler.trace.score(\n",
    "#       name=\"exact_match\",\n",
    "#       value=simple_evaluation(completion, item.expected_output)\n",
    "#     )\n",
    "\n"
   ],
   "metadata": {
    "collapsed": false
   },
   "id": "2bd5211e2ea8bd49",
   "outputs": [],
   "execution_count": null
  },
  {
   "cell_type": "code",
   "source": [
    "\n",
    "def get_baseline_chain(llm=None):\n",
    "    if not llm:\n",
    "        llm = basic_llm\n",
    "    role_message = \"\"\"You are an expert copywriter specialized in crafting engaging and SEO-optimized product descriptions for an online furniture store. Your task is to transform basic product descriptions into compelling, informative content that appeals to potential customers and search engines alike. Each description should be around 400 words, creatively written to highlight the features and benefits of the product while incorporating relevant keywords to boost search engine visibility. Your writing should be clear, lively, and persuasive, designed to attract and retain customer interest and drive sales.\"\"\"\n",
    "\n",
    "    human_template = \"{original_description}\"\n",
    "\n",
    "    messages = [(\"system\", role_message), (\"human\", human_template)]\n",
    "    messages = [(role, trim_extra_whitespace(message)) for role, message in messages]\n",
    "\n",
    "    full_prompt = ChatPromptTemplate.from_messages(messages)\n",
    "    chain = full_prompt | llm | RunnableLambda(lambda x: x.content)\n",
    "    return chain\n",
    "\n",
    "def simple_evaluation(output, expected_output):\n",
    "    role_message = \"\"\"\n",
    "    You are an expert evaluator tasked with analyzing and critiquing product descriptions. Your primary role is to assess the effectiveness, creativity, and SEO alignment of the content. Provide a short and concise feedback list that outlines what is good and what is abad. Additionally, assign a score out of 100 based on the overall quality, taking into account factors like clarity, engagement, keyword integration, accuracy, and stylistic appeal. \n",
    "    Write the result as a JSON with keys of \"good\", \"bad\", \"score\".\n",
    "    \"\"\"\n",
    "\n",
    "    human_template = \"{new_description}\"\n",
    "\n",
    "    messages = [(\"system\", role_message), (\"human\", human_template)]\n",
    "    messages = [(role, trim_extra_whitespace(message)) for role, message in messages]\n",
    "\n",
    "    full_prompt = ChatPromptTemplate.from_messages(messages)\n",
    "\n",
    "    eval_res = (full_prompt | basic_llm).with_config(**invoke_config).invoke({\"new_description\": output})\n",
    "    result = {\"comment\": eval_res.content}\n",
    "    try:\n",
    "        eval_score = safe_json_loads(eval_res.content)\n",
    "        if \"score\" in eval_score:\n",
    "            result[\"value\"] = float(eval_score.pop(\"score\"))\n",
    "        result[\"comment\"] = json.dumps(eval_score, indent=2)\n",
    "    except Exception as e:\n",
    "        pass\n",
    "\n",
    "    print(result)\n",
    "\n",
    "    return {\"name\": \"general\", **result}\n",
    "\n",
    "\n",
    "def make_experiment_name():\n",
    "    return \"not_implemented_yet\"\n",
    "\n",
    "\n",
    "def process_dataset_item(item, experiment_name=None):\n",
    "    if not experiment_name:\n",
    "        experiment_name = make_experiment_name()\n",
    "    \n",
    "    \n",
    "    local_handler = item.get_langchain_handler(run_name=experiment_name)\n",
    "    local_config = {\"callbacks\": [local_handler]}\n",
    "    chain = get_baseline_chain()\n",
    "    \n",
    "    res = chain.with_config(**local_config).invoke(item.input)\n",
    "    \n",
    "    score = simple_evaluation(res, item.expected_output)\n",
    "    \n",
    "    local_handler.trace.score(\n",
    "        **score\n",
    "    )\n",
    "    \n",
    "experiment_name=\"usage_example_4\"\n",
    "for item in langfuse_client.get_dataset(\"tech_test\").items:\n",
    "    process_dataset_item(item, experiment_name=experiment_name)\n",
    "    break\n"
   ],
   "metadata": {
    "collapsed": false
   },
   "id": "cdc722e194bd52a8",
   "outputs": [],
   "execution_count": null
  },
  {
   "cell_type": "code",
   "source": [],
   "metadata": {
    "collapsed": false
   },
   "id": "3fb2ebf0f1cacfa4",
   "outputs": [],
   "execution_count": null
  },
  {
   "cell_type": "code",
   "source": [],
   "metadata": {
    "collapsed": false
   },
   "id": "941aadcdce85fd48",
   "outputs": [],
   "execution_count": null
  },
  {
   "cell_type": "code",
   "source": [],
   "metadata": {
    "collapsed": false
   },
   "id": "e207e43cee657042",
   "outputs": [],
   "execution_count": null
  },
  {
   "cell_type": "code",
   "source": [],
   "metadata": {
    "collapsed": false
   },
   "id": "c8c5baf400333791",
   "outputs": [],
   "execution_count": null
  }
 ],
 "metadata": {
  "kernelspec": {
   "display_name": "Python 3",
   "language": "python",
   "name": "python3"
  },
  "language_info": {
   "codemirror_mode": {
    "name": "ipython",
    "version": 2
   },
   "file_extension": ".py",
   "mimetype": "text/x-python",
   "name": "python",
   "nbconvert_exporter": "python",
   "pygments_lexer": "ipython2",
   "version": "2.7.6"
  }
 },
 "nbformat": 4,
 "nbformat_minor": 5
}
