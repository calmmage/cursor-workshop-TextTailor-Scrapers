{
 "cells": [
  {
   "cell_type": "code",
   "execution_count": 1,
   "id": "initial_id",
   "metadata": {
    "collapsed": true,
    "ExecuteTime": {
     "end_time": "2024-06-18T17:09:07.006583500Z",
     "start_time": "2024-06-18T17:08:59.352262500Z"
    }
   },
   "outputs": [
    {
     "data": {
      "text/plain": "True"
     },
     "execution_count": 1,
     "metadata": {},
     "output_type": "execute_result"
    }
   ],
   "source": [
    "from mvodolagin_personal_imports import *\n",
    "\n",
    "load_dotenv()"
   ]
  },
  {
   "cell_type": "code",
   "execution_count": 2,
   "outputs": [],
   "source": [
    "from mvodolagin_personal_imports.langchain_stuff import *"
   ],
   "metadata": {
    "collapsed": false,
    "ExecuteTime": {
     "end_time": "2024-06-18T17:09:11.390330700Z",
     "start_time": "2024-06-18T17:09:07.008552300Z"
    }
   },
   "id": "b0d25828032d508f"
  },
  {
   "cell_type": "code",
   "execution_count": 3,
   "outputs": [],
   "source": [
    "data_dir = Path(r\"E:\\Work\\TextTailor\\repos\\text_tailor_scrapers\\texttailor\\texttailor\\dev\\data\")"
   ],
   "metadata": {
    "collapsed": false,
    "ExecuteTime": {
     "end_time": "2024-06-18T17:09:11.411328300Z",
     "start_time": "2024-06-18T17:09:11.393329100Z"
    }
   },
   "id": "7384a7f09d3434d6"
  },
  {
   "cell_type": "code",
   "execution_count": 4,
   "outputs": [],
   "source": [
    "for site_dir in data_dir.iterdir():\n",
    "    if not site_dir.is_dir():\n",
    "        continue\n",
    "    item_files = list(site_dir.glob(\"item_*.json\"))\n",
    "    if len(item_files) < 20:\n",
    "        continue\n",
    "    break"
   ],
   "metadata": {
    "collapsed": false,
    "ExecuteTime": {
     "end_time": "2024-06-18T17:09:11.446838100Z",
     "start_time": "2024-06-18T17:09:11.404329300Z"
    }
   },
   "id": "4f8ddc2f92a25668"
  },
  {
   "cell_type": "code",
   "execution_count": 5,
   "outputs": [],
   "source": [
    "examples = []\n",
    "\n",
    "random.shuffle(item_files)\n",
    "\n",
    "for i, fp in enumerate(item_files):\n",
    "    data = json.loads(fp.read_text(encoding=\"utf-8\"))\n",
    "    original_description_text = \"\\n\\n\".join(data[\"matching_texts\"])\n",
    "    examples.append(original_description_text)\n",
    "    if i > 5:\n",
    "        break"
   ],
   "metadata": {
    "collapsed": false,
    "ExecuteTime": {
     "end_time": "2024-06-18T17:09:11.460840200Z",
     "start_time": "2024-06-18T17:09:11.439840300Z"
    }
   },
   "id": "40b5c582cfd1352f"
  },
  {
   "cell_type": "code",
   "execution_count": 14,
   "outputs": [],
   "source": [
    "import langsmith\n",
    "\n",
    "langsmith_client = langsmith.client.Client()\n",
    "dataset_name = \"Short Test\"\n",
    "\n",
    "# dataset = langsmith_client.create_dataset(dataset_name=dataset_name)\n",
    "# for e in examples:\n",
    "#     langsmith_client.create_example(dataset_name=dataset_name, inputs={\"original_description\": e})"
   ],
   "metadata": {
    "collapsed": false,
    "ExecuteTime": {
     "end_time": "2024-05-27T01:40:24.434022600Z",
     "start_time": "2024-05-27T01:40:19.842112600Z"
    }
   },
   "id": "c97adf6c35f2179c"
  },
  {
   "cell_type": "code",
   "execution_count": 6,
   "outputs": [],
   "source": [
    "def get_baseline_chain(llm=None):\n",
    "    if not llm:\n",
    "        llm = basic_llm\n",
    "    role_message = \"\"\"You are an expert copywriter specialized in crafting engaging and SEO-optimized product descriptions for an online furniture store. Your task is to transform basic product descriptions into compelling, informative content that appeals to potential customers and search engines alike. Each description should be around 400 words, creatively written to highlight the features and benefits of the product while incorporating relevant keywords to boost search engine visibility. Your writing should be clear, lively, and persuasive, designed to attract and retain customer interest and drive sales.\"\"\"\n",
    "\n",
    "    human_template = \"{original_description}\"\n",
    "\n",
    "    messages = [(\"system\", role_message), (\"human\", human_template)]\n",
    "    messages = [(role, trim_extra_whitespace(message)) for role, message in messages]\n",
    "\n",
    "    full_prompt = ChatPromptTemplate.from_messages(messages)\n",
    "    chain = full_prompt | llm | RunnableLambda(lambda x: x.content)\n",
    "    return chain\n",
    "\n",
    "\n",
    "def wrapped_chain(inputs, llm=None):\n",
    "    chain = get_baseline_chain(llm)\n",
    "    return chain.invoke(inputs)"
   ],
   "metadata": {
    "collapsed": false,
    "ExecuteTime": {
     "end_time": "2024-06-18T17:32:16.028932500Z",
     "start_time": "2024-06-18T17:32:16.015937300Z"
    }
   },
   "id": "3396d618caa711b3"
  },
  {
   "cell_type": "code",
   "execution_count": 15,
   "outputs": [],
   "source": [
    "from langsmith.evaluation import run_evaluator\n",
    "import langsmith.schemas\n",
    "\n",
    "\n",
    "@run_evaluator\n",
    "def eval_general(run: langsmith.schemas.Run, example: langsmith.schemas.Example) -> dict:\n",
    "    role_message = \"\"\"\n",
    "    You are an expert evaluator tasked with analyzing and critiquing product descriptions. Your primary role is to assess the effectiveness, creativity, and SEO alignment of the content. Provide a short and concise feedback list that outlines what is good and what is abad. Additionally, assign a score out of 100 based on the overall quality, taking into account factors like clarity, engagement, keyword integration, accuracy, and stylistic appeal. \n",
    "    Write the result as a JSON with keys of \"good\", \"bad\", \"score\".\n",
    "    \"\"\"\n",
    "\n",
    "    human_template = \"{new_description}\"\n",
    "\n",
    "    messages = [(\"system\", role_message), (\"human\", human_template)]\n",
    "    messages = [(role, trim_extra_whitespace(message)) for role, message in messages]\n",
    "\n",
    "    full_prompt = ChatPromptTemplate.from_messages(messages)\n",
    "\n",
    "    prediction = run.outputs.get(\"output\", \"\")\n",
    "\n",
    "    eval_res = (full_prompt | basic_llm).invoke({\"new_description\": prediction})\n",
    "    result = {\"comment\": eval_res.content}\n",
    "    try:\n",
    "        eval_score = safe_json_loads(eval_res.content)\n",
    "        if \"score\" in eval_score:\n",
    "            result[\"score\"] = float(eval_score.pop(\"score\"))\n",
    "        result[\"correction\"] = eval_score\n",
    "    except Exception as e:\n",
    "        pass\n",
    "\n",
    "    print(result)\n",
    "\n",
    "    return {\"key\": \"general\", **result}\n"
   ],
   "metadata": {
    "collapsed": false,
    "ExecuteTime": {
     "end_time": "2024-06-18T17:51:01.127423100Z",
     "start_time": "2024-06-18T17:51:01.114422800Z"
    }
   },
   "id": "fee3273b5588d4b"
  },
  {
   "cell_type": "code",
   "execution_count": 16,
   "outputs": [
    {
     "name": "stdout",
     "output_type": "stream",
     "text": [
      "View the evaluation results for experiment: 'test-a58f97' at:\n",
      "https://smith.langchain.com/o/8e224494-8563-4197-8d31-d9119b399732/datasets/e9d4192a-027a-4e11-9087-87c8623ae821/compare?selectedSessions=bdcdcebc-f3cc-4e24-9954-24722be5314c\n"
     ]
    },
    {
     "data": {
      "text/plain": "0it [00:00, ?it/s]",
      "application/vnd.jupyter.widget-view+json": {
       "version_major": 2,
       "version_minor": 0,
       "model_id": "000c0b4ebaee485cb3ecfc010ceab6d9"
      }
     },
     "metadata": {},
     "output_type": "display_data"
    }
   ],
   "source": [],
   "metadata": {
    "collapsed": false,
    "ExecuteTime": {
     "end_time": "2024-06-18T17:51:20.369331500Z",
     "start_time": "2024-06-18T17:51:04.230001500Z"
    }
   },
   "id": "f4e1faec0d8ca8f2"
  },
  {
   "cell_type": "code",
   "execution_count": 20,
   "outputs": [
    {
     "name": "stdout",
     "output_type": "stream",
     "text": [
      "View the evaluation results for experiment: 'test-1774eb' at:\n",
      "https://smith.langchain.com/o/8e224494-8563-4197-8d31-d9119b399732/datasets/e9d4192a-027a-4e11-9087-87c8623ae821/compare?selectedSessions=c0d3eae6-7cfb-430b-ab19-5938249eae47\n"
     ]
    },
    {
     "data": {
      "text/plain": "0it [00:00, ?it/s]",
      "application/vnd.jupyter.widget-view+json": {
       "version_major": 2,
       "version_minor": 0,
       "model_id": "658911d9565142f5889fb647ee001e25"
      }
     },
     "metadata": {},
     "output_type": "display_data"
    },
    {
     "name": "stdout",
     "output_type": "stream",
     "text": [
      "{'comment': '{\\n  \"good\": [\\n    \"Engaging and descriptive language creates a vivid image for the reader\",\\n    \"Highlights the unique features and benefits of the dresser effectively\",\\n    \"Incorporates keywords related to coastal decor and furniture seamlessly\"\\n  ],\\n  \"bad\": [\\n    \"Could improve by including specific dimensions or measurements for the dresser\",\\n    \"Lacks information about the materials used in crafting the dresser\"\\n  ],\\n  \"score\": 85\\n}', 'score': 85.0, 'correction': {'good': ['Engaging and descriptive language creates a vivid image for the reader', 'Highlights the unique features and benefits of the dresser effectively', 'Incorporates keywords related to coastal decor and furniture seamlessly'], 'bad': ['Could improve by including specific dimensions or measurements for the dresser', 'Lacks information about the materials used in crafting the dresser']}}\n",
      "{'comment': '{\\n  \"good\": [\\n    \"Engaging and descriptive language that paints a vivid picture for the reader\",\\n    \"Effective use of sensory words to evoke emotions and imagery\",\\n    \"Highlights both the aesthetic appeal and functionality of the product\",\\n    \"Incorporates keywords related to coastal decor and furniture\"\\n  ],\\n  \"bad\": [\\n    \"Lacks specific dimensions or measurements of the product\",\\n    \"Could benefit from mentioning any unique selling points or special features\",\\n    \"Missing a call-to-action to encourage potential customers to make a purchase\"\\n  ],\\n  \"score\": 85\\n}', 'score': 85.0, 'correction': {'good': ['Engaging and descriptive language that paints a vivid picture for the reader', 'Effective use of sensory words to evoke emotions and imagery', 'Highlights both the aesthetic appeal and functionality of the product', 'Incorporates keywords related to coastal decor and furniture'], 'bad': ['Lacks specific dimensions or measurements of the product', 'Could benefit from mentioning any unique selling points or special features', 'Missing a call-to-action to encourage potential customers to make a purchase']}}\n",
      "{'comment': '**Good:**\\n1. Engaging language that paints a vivid picture of luxury relaxation.\\n2. Highlights the features and benefits of the mattress effectively.\\n3. Mentions compatibility with a foundation/box spring for a complete sleep setup.\\n\\n**Bad:**\\n1. Lacks specific details about the dimensions, materials, or warranty of the mattress.\\n2. Could benefit from including keywords related to mattress types (e.g., memory foam, hybrid, etc.).\\n3. The description could be more concise and focused.\\n\\n**Score:** 80'}\n",
      "{'comment': '{\\n  \"good\": [\\n    \"Engaging and descriptive language used throughout the description to create a visual image for the reader\",\\n    \"Clear explanation of the components included in the frame set (headboard, railing, footboard)\",\\n    \"Benefits and features of each component are highlighted effectively\"\\n  ],\\n  \"bad\": [\\n    \"Lacks specific details about the materials used in crafting the frame (e.g., type of wood, metal, etc.)\",\\n    \"Could benefit from incorporating more keywords related to bedroom furniture and decor for improved SEO\",\\n    \"Could provide more information about the dimensions and compatibility with different mattress sizes\"\\n  ],\\n  \"score\": 85\\n}', 'score': 85.0, 'correction': {'good': ['Engaging and descriptive language used throughout the description to create a visual image for the reader', 'Clear explanation of the components included in the frame set (headboard, railing, footboard)', 'Benefits and features of each component are highlighted effectively'], 'bad': ['Lacks specific details about the materials used in crafting the frame (e.g., type of wood, metal, etc.)', 'Could benefit from incorporating more keywords related to bedroom furniture and decor for improved SEO', 'Could provide more information about the dimensions and compatibility with different mattress sizes']}}\n",
      "{'comment': '{\\n  \"good\": [\\n    \"Engaging and descriptive language used to create a luxurious image of the product\",\\n    \"Clear explanation of the features and benefits of each component (headboard, railing, footboard)\",\\n    \"Inclusion of keywords related to bedroom furniture and comfort\",\\n    \"Emphasis on quality, durability, and design aesthetics\"\\n  ],\\n  \"bad\": [\\n    \"Lacks specific details about the materials used in crafting the frame\",\\n    \"Could benefit from mentioning any special or unique selling points that set this frame apart from others in the market\",\\n    \"Repetitive use of certain phrases like \\'elevate your sleeping space\\' and \\'sophistication and style\\'\"\\n  ],\\n  \"score\": 85\\n}', 'score': 85.0, 'correction': {'good': ['Engaging and descriptive language used to create a luxurious image of the product', 'Clear explanation of the features and benefits of each component (headboard, railing, footboard)', 'Inclusion of keywords related to bedroom furniture and comfort', 'Emphasis on quality, durability, and design aesthetics'], 'bad': ['Lacks specific details about the materials used in crafting the frame', 'Could benefit from mentioning any special or unique selling points that set this frame apart from others in the market', \"Repetitive use of certain phrases like 'elevate your sleeping space' and 'sophistication and style'\"]}}\n",
      "{'comment': '{\\n    \"good\": [\\n        \"Engaging and descriptive language used to highlight the product\\'s features and benefits\",\\n        \"Incorporates keywords like \\'dining room server,\\' \\'vintage-inspired,\\' and \\'retro-inspired cup metal pulls\\'\",\\n        \"Mentions both style and functionality aspects of the product\",\\n        \"Highlights the quality and design of the dining room server\"\\n    ],\\n    \"bad\": [\\n        \"Lacks specific dimensions or technical details about the product\",\\n        \"Could benefit from mentioning any special offers, promotions, or warranty information to entice potential buyers\"\\n    ],\\n    \"score\": 85\\n}', 'score': 85.0, 'correction': {'good': [\"Engaging and descriptive language used to highlight the product's features and benefits\", \"Incorporates keywords like 'dining room server,' 'vintage-inspired,' and 'retro-inspired cup metal pulls'\", 'Mentions both style and functionality aspects of the product', 'Highlights the quality and design of the dining room server'], 'bad': ['Lacks specific dimensions or technical details about the product', 'Could benefit from mentioning any special offers, promotions, or warranty information to entice potential buyers']}}\n",
      "{'comment': '{\\n  \"good\": [\\n    \"Engaging and descriptive language creates a cozy and inviting atmosphere for the reader\",\\n    \"Clear explanation of the product features and design elements\",\\n    \"Includes details on functionality and customization options for the consumer\",\\n    \"Incorporates keywords like \\'TV stand,\\' \\'fireplace,\\' and \\'rustic charm\\' for SEO optimization\"\\n  ],\\n  \"bad\": [\\n    \"Could benefit from more specific dimensions or sizing information to help customers visualize the product in their space\",\\n    \"Lacks information on color options available for the TV stand\"\\n  ],\\n  \"score\": 85\\n}', 'score': 85.0, 'correction': {'good': ['Engaging and descriptive language creates a cozy and inviting atmosphere for the reader', 'Clear explanation of the product features and design elements', 'Includes details on functionality and customization options for the consumer', \"Incorporates keywords like 'TV stand,' 'fireplace,' and 'rustic charm' for SEO optimization\"], 'bad': ['Could benefit from more specific dimensions or sizing information to help customers visualize the product in their space', 'Lacks information on color options available for the TV stand']}}\n"
     ]
    }
   ],
   "source": [
    "import langsmith\n",
    "\n",
    "from langsmith.evaluation import evaluate\n",
    "from functools import partial\n",
    "\n",
    "langsmith_client = langsmith.client.Client()\n",
    "\n",
    "run_metadata = {\"version\": \"dev_baseline_1\"}\n",
    "\n",
    "qqq = evaluate(\n",
    "    partial(wrapped_chain, llm=basic_llm),\n",
    "    data=\"Short Test\",\n",
    "    metadata={**run_metadata, \"model\": \"3.5\"},\n",
    "    evaluators=[eval_general],\n",
    "    experiment_prefix=\"test\",\n",
    "    client=langsmith_client\n",
    ")"
   ],
   "metadata": {
    "collapsed": false,
    "ExecuteTime": {
     "end_time": "2024-05-27T01:41:21.994686300Z",
     "start_time": "2024-05-27T01:41:06.057099500Z"
    }
   },
   "id": "b5fa3a383f6dc599"
  },
  {
   "cell_type": "code",
   "execution_count": 10,
   "outputs": [
    {
     "name": "stdout",
     "output_type": "stream",
     "text": [
      "View the evaluation results for experiment: 'test-fce24f' at:\n",
      "https://smith.langchain.com/o/8e224494-8563-4197-8d31-d9119b399732/datasets/e9d4192a-027a-4e11-9087-87c8623ae821/compare?selectedSessions=b563140d-7641-44e6-8d85-5b8e35dff078\n"
     ]
    },
    {
     "data": {
      "text/plain": "0it [00:00, ?it/s]",
      "application/vnd.jupyter.widget-view+json": {
       "version_major": 2,
       "version_minor": 0,
       "model_id": "f58b82bd0dfe4ed3b2e6e0dfc3338459"
      }
     },
     "metadata": {},
     "output_type": "display_data"
    }
   ],
   "source": [],
   "metadata": {
    "collapsed": false,
    "ExecuteTime": {
     "end_time": "2024-06-18T17:33:21.616944600Z",
     "start_time": "2024-06-18T17:33:05.314480300Z"
    }
   },
   "id": "e50549f34015f803"
  },
  {
   "cell_type": "code",
   "execution_count": null,
   "outputs": [],
   "source": [],
   "metadata": {
    "collapsed": false
   },
   "id": "4f535191533d9a11"
  },
  {
   "cell_type": "code",
   "execution_count": null,
   "outputs": [],
   "source": [],
   "metadata": {
    "collapsed": false
   },
   "id": "57c406bc2c943af"
  },
  {
   "cell_type": "code",
   "execution_count": null,
   "outputs": [],
   "source": [],
   "metadata": {
    "collapsed": false
   },
   "id": "c980fe283a8945ba"
  },
  {
   "cell_type": "code",
   "execution_count": null,
   "outputs": [],
   "source": [],
   "metadata": {
    "collapsed": false
   },
   "id": "b6e50bd5d7308a14"
  },
  {
   "cell_type": "code",
   "execution_count": null,
   "outputs": [],
   "source": [],
   "metadata": {
    "collapsed": false
   },
   "id": "55c4d9b93d59ebb3"
  }
 ],
 "metadata": {
  "kernelspec": {
   "display_name": "Python 3",
   "language": "python",
   "name": "python3"
  },
  "language_info": {
   "codemirror_mode": {
    "name": "ipython",
    "version": 2
   },
   "file_extension": ".py",
   "mimetype": "text/x-python",
   "name": "python",
   "nbconvert_exporter": "python",
   "pygments_lexer": "ipython2",
   "version": "2.7.6"
  }
 },
 "nbformat": 4,
 "nbformat_minor": 5
}
