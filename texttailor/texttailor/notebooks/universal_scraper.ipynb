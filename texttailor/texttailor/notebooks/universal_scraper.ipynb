{
 "cells": [
  {
   "cell_type": "code",
   "execution_count": 2,
   "id": "initial_id",
   "metadata": {
    "collapsed": true,
    "ExecuteTime": {
     "end_time": "2024-04-07T13:30:24.820826400Z",
     "start_time": "2024-04-07T13:30:16.545435100Z"
    }
   },
   "outputs": [
    {
     "data": {
      "text/plain": "True"
     },
     "execution_count": 2,
     "metadata": {},
     "output_type": "execute_result"
    }
   ],
   "source": [
    "from mvodolagin_personal_imports import *\n",
    "\n",
    "load_dotenv()"
   ]
  },
  {
   "cell_type": "code",
   "execution_count": 3,
   "outputs": [],
   "source": [
    "from mvodolagin_personal_imports.langchain_stuff import *"
   ],
   "metadata": {
    "collapsed": false,
    "ExecuteTime": {
     "end_time": "2024-04-07T13:30:28.764377100Z",
     "start_time": "2024-04-07T13:30:24.821849700Z"
    }
   },
   "id": "7e4a98821503a2fe"
  },
  {
   "cell_type": "code",
   "execution_count": 4,
   "outputs": [],
   "source": [
    "stores_df = pd.read_pickle(r\"E:\\Work\\Personal\\repos\\TextTailor\\resources\\furniture_stores_example.pickle\")"
   ],
   "metadata": {
    "collapsed": false,
    "ExecuteTime": {
     "end_time": "2024-04-07T13:30:28.780377100Z",
     "start_time": "2024-04-07T13:30:28.764377100Z"
    }
   },
   "id": "44d186a46aecc47a"
  },
  {
   "cell_type": "code",
   "execution_count": 4,
   "outputs": [
    {
     "data": {
      "text/plain": "                                                  name  \\\n0               {'text': 'IKEA', 'languageCode': 'en'}   \n1     {'text': 'Crate & Barrel', 'languageCode': 'en'}   \n2       {'text': 'World Market', 'languageCode': 'en'}   \n3    {'text': 'Belfort Furniture', 'languageCode': ...   \n4    {'text': 'Bob’s Discount Furniture and Mattres...   \n..                                                 ...   \n786    {'text': 'Rent-A-Center', 'languageCode': 'en'}   \n787  {'text': 'Johnson's Corner', 'languageCode': '...   \n788    {'text': 'Ashley Outlet', 'languageCode': 'en'}   \n789  {'text': 'Olivier Woodworks, LTD', 'languageCo...   \n790  {'text': 'Better Deal Furniture', 'languageCod...   \n\n                                               address  \\\n0    2901 Potomac Mills Cir, Woodbridge, VA 22192, USA   \n1    2001 International Dr Suite 1650, Tysons, VA 2...   \n2    5954 Kingstowne Towne Ctr, Alexandria, VA 2231...   \n3                 22250 Shaw Rd, Dulles, VA 20166, USA   \n4    13055 Lee Jackson Memorial Hwy, Fairfax, VA 22...   \n..                                                 ...   \n786      929 Keyser Ave Q, Natchitoches, LA 71457, USA   \n787           3065 U. S. Hwy 71, Campti, LA 71411, USA   \n788         320 Dixie Plz, Natchitoches, LA 71457, USA   \n789            117 2nd St, Natchitoches, LA 71457, USA   \n790             625 Bossier St, Cypress, LA 71457, USA   \n\n                                               website  \\\n0    https://www.ikea.com/us/en/stores/woodbridge/?...   \n1    https://www.crateandbarrel.com/stores/tysons-g...   \n2    https://stores.worldmarket.com/va/alexandria/5...   \n3                     http://www.belfortfurniture.com/   \n4    https://www.mybobs.com/stores/virginia/fairfax...   \n..                                                 ...   \n786  https://locations.rentacenter.com/louisiana/na...   \n787            https://m.facebook.com/102601077951181/   \n788  https://stores.ashleyfurniture.com/store/us/lo...   \n789                       http://olivierwoodworks.com/   \n790                               No website available   \n\n                                                 types  rating  \\\n0    [furniture_store, home_improvement_store, home...     4.4   \n1    [furniture_store, gift_shop, home_improvement_...     3.9   \n2    [furniture_store, home_improvement_store, home...     4.5   \n3    [furniture_store, home_improvement_store, home...     4.1   \n4    [furniture_store, home_improvement_store, home...     4.7   \n..                                                 ...     ...   \n786  [furniture_store, cell_phone_store, electronic...     4.2   \n787  [furniture_store, home_improvement_store, home...     4.8   \n788  [furniture_store, home_improvement_store, home...     4.9   \n789  [furniture_store, home_improvement_store, home...     5.0   \n790  [furniture_store, home_improvement_store, home...     NaN   \n\n     user_rating_count           price_level     business_status  \\\n0               8321.0                  None         OPERATIONAL   \n1                259.0  PRICE_LEVEL_MODERATE         OPERATIONAL   \n2                341.0  PRICE_LEVEL_MODERATE         OPERATIONAL   \n3               1191.0                  None         OPERATIONAL   \n4               3801.0                  None         OPERATIONAL   \n..                 ...                   ...                 ...   \n786               31.0                  None         OPERATIONAL   \n787               18.0                  None         OPERATIONAL   \n788               51.0                  None         OPERATIONAL   \n789                4.0                  None         OPERATIONAL   \n790                NaN                  None  CLOSED_TEMPORARILY   \n\n                                       google_maps_uri          city  \n0     https://maps.google.com/?cid=6243677075934072802     Annandale  \n1    https://maps.google.com/?cid=13172029008137911573     Annandale  \n2    https://maps.google.com/?cid=14686931570602360617     Annandale  \n3    https://maps.google.com/?cid=16522972106348208767     Annandale  \n4     https://maps.google.com/?cid=8292262693656360008     Annandale  \n..                                                 ...           ...  \n786  https://maps.google.com/?cid=12960929945509947236  Natchitoches  \n787   https://maps.google.com/?cid=7294421696100169003  Natchitoches  \n788  https://maps.google.com/?cid=16489883258056435509  Natchitoches  \n789  https://maps.google.com/?cid=16435872911803623917  Natchitoches  \n790  https://maps.google.com/?cid=10356924198327836732  Natchitoches  \n\n[791 rows x 10 columns]",
      "text/html": "<div>\n<style scoped>\n    .dataframe tbody tr th:only-of-type {\n        vertical-align: middle;\n    }\n\n    .dataframe tbody tr th {\n        vertical-align: top;\n    }\n\n    .dataframe thead th {\n        text-align: right;\n    }\n</style>\n<table border=\"1\" class=\"dataframe\">\n  <thead>\n    <tr style=\"text-align: right;\">\n      <th></th>\n      <th>name</th>\n      <th>address</th>\n      <th>website</th>\n      <th>types</th>\n      <th>rating</th>\n      <th>user_rating_count</th>\n      <th>price_level</th>\n      <th>business_status</th>\n      <th>google_maps_uri</th>\n      <th>city</th>\n    </tr>\n  </thead>\n  <tbody>\n    <tr>\n      <th>0</th>\n      <td>{'text': 'IKEA', 'languageCode': 'en'}</td>\n      <td>2901 Potomac Mills Cir, Woodbridge, VA 22192, USA</td>\n      <td>https://www.ikea.com/us/en/stores/woodbridge/?...</td>\n      <td>[furniture_store, home_improvement_store, home...</td>\n      <td>4.4</td>\n      <td>8321.0</td>\n      <td>None</td>\n      <td>OPERATIONAL</td>\n      <td>https://maps.google.com/?cid=6243677075934072802</td>\n      <td>Annandale</td>\n    </tr>\n    <tr>\n      <th>1</th>\n      <td>{'text': 'Crate &amp; Barrel', 'languageCode': 'en'}</td>\n      <td>2001 International Dr Suite 1650, Tysons, VA 2...</td>\n      <td>https://www.crateandbarrel.com/stores/tysons-g...</td>\n      <td>[furniture_store, gift_shop, home_improvement_...</td>\n      <td>3.9</td>\n      <td>259.0</td>\n      <td>PRICE_LEVEL_MODERATE</td>\n      <td>OPERATIONAL</td>\n      <td>https://maps.google.com/?cid=13172029008137911573</td>\n      <td>Annandale</td>\n    </tr>\n    <tr>\n      <th>2</th>\n      <td>{'text': 'World Market', 'languageCode': 'en'}</td>\n      <td>5954 Kingstowne Towne Ctr, Alexandria, VA 2231...</td>\n      <td>https://stores.worldmarket.com/va/alexandria/5...</td>\n      <td>[furniture_store, home_improvement_store, home...</td>\n      <td>4.5</td>\n      <td>341.0</td>\n      <td>PRICE_LEVEL_MODERATE</td>\n      <td>OPERATIONAL</td>\n      <td>https://maps.google.com/?cid=14686931570602360617</td>\n      <td>Annandale</td>\n    </tr>\n    <tr>\n      <th>3</th>\n      <td>{'text': 'Belfort Furniture', 'languageCode': ...</td>\n      <td>22250 Shaw Rd, Dulles, VA 20166, USA</td>\n      <td>http://www.belfortfurniture.com/</td>\n      <td>[furniture_store, home_improvement_store, home...</td>\n      <td>4.1</td>\n      <td>1191.0</td>\n      <td>None</td>\n      <td>OPERATIONAL</td>\n      <td>https://maps.google.com/?cid=16522972106348208767</td>\n      <td>Annandale</td>\n    </tr>\n    <tr>\n      <th>4</th>\n      <td>{'text': 'Bob’s Discount Furniture and Mattres...</td>\n      <td>13055 Lee Jackson Memorial Hwy, Fairfax, VA 22...</td>\n      <td>https://www.mybobs.com/stores/virginia/fairfax...</td>\n      <td>[furniture_store, home_improvement_store, home...</td>\n      <td>4.7</td>\n      <td>3801.0</td>\n      <td>None</td>\n      <td>OPERATIONAL</td>\n      <td>https://maps.google.com/?cid=8292262693656360008</td>\n      <td>Annandale</td>\n    </tr>\n    <tr>\n      <th>...</th>\n      <td>...</td>\n      <td>...</td>\n      <td>...</td>\n      <td>...</td>\n      <td>...</td>\n      <td>...</td>\n      <td>...</td>\n      <td>...</td>\n      <td>...</td>\n      <td>...</td>\n    </tr>\n    <tr>\n      <th>786</th>\n      <td>{'text': 'Rent-A-Center', 'languageCode': 'en'}</td>\n      <td>929 Keyser Ave Q, Natchitoches, LA 71457, USA</td>\n      <td>https://locations.rentacenter.com/louisiana/na...</td>\n      <td>[furniture_store, cell_phone_store, electronic...</td>\n      <td>4.2</td>\n      <td>31.0</td>\n      <td>None</td>\n      <td>OPERATIONAL</td>\n      <td>https://maps.google.com/?cid=12960929945509947236</td>\n      <td>Natchitoches</td>\n    </tr>\n    <tr>\n      <th>787</th>\n      <td>{'text': 'Johnson's Corner', 'languageCode': '...</td>\n      <td>3065 U. S. Hwy 71, Campti, LA 71411, USA</td>\n      <td>https://m.facebook.com/102601077951181/</td>\n      <td>[furniture_store, home_improvement_store, home...</td>\n      <td>4.8</td>\n      <td>18.0</td>\n      <td>None</td>\n      <td>OPERATIONAL</td>\n      <td>https://maps.google.com/?cid=7294421696100169003</td>\n      <td>Natchitoches</td>\n    </tr>\n    <tr>\n      <th>788</th>\n      <td>{'text': 'Ashley Outlet', 'languageCode': 'en'}</td>\n      <td>320 Dixie Plz, Natchitoches, LA 71457, USA</td>\n      <td>https://stores.ashleyfurniture.com/store/us/lo...</td>\n      <td>[furniture_store, home_improvement_store, home...</td>\n      <td>4.9</td>\n      <td>51.0</td>\n      <td>None</td>\n      <td>OPERATIONAL</td>\n      <td>https://maps.google.com/?cid=16489883258056435509</td>\n      <td>Natchitoches</td>\n    </tr>\n    <tr>\n      <th>789</th>\n      <td>{'text': 'Olivier Woodworks, LTD', 'languageCo...</td>\n      <td>117 2nd St, Natchitoches, LA 71457, USA</td>\n      <td>http://olivierwoodworks.com/</td>\n      <td>[furniture_store, home_improvement_store, home...</td>\n      <td>5.0</td>\n      <td>4.0</td>\n      <td>None</td>\n      <td>OPERATIONAL</td>\n      <td>https://maps.google.com/?cid=16435872911803623917</td>\n      <td>Natchitoches</td>\n    </tr>\n    <tr>\n      <th>790</th>\n      <td>{'text': 'Better Deal Furniture', 'languageCod...</td>\n      <td>625 Bossier St, Cypress, LA 71457, USA</td>\n      <td>No website available</td>\n      <td>[furniture_store, home_improvement_store, home...</td>\n      <td>NaN</td>\n      <td>NaN</td>\n      <td>None</td>\n      <td>CLOSED_TEMPORARILY</td>\n      <td>https://maps.google.com/?cid=10356924198327836732</td>\n      <td>Natchitoches</td>\n    </tr>\n  </tbody>\n</table>\n<p>791 rows × 10 columns</p>\n</div>"
     },
     "execution_count": 4,
     "metadata": {},
     "output_type": "execute_result"
    }
   ],
   "source": [
    "stores_df"
   ],
   "metadata": {
    "collapsed": false,
    "ExecuteTime": {
     "end_time": "2024-04-05T23:35:57.733007600Z",
     "start_time": "2024-04-05T23:35:57.705009100Z"
    }
   },
   "id": "33c0eb73d786ef7a"
  },
  {
   "cell_type": "code",
   "execution_count": 5,
   "outputs": [],
   "source": [
    "stores_df[\"url_root\"] = stores_df[\"website\"].apply(lambda x: x.split(\"://\", 1)[-1].split(\"/\", 1)[0])"
   ],
   "metadata": {
    "collapsed": false,
    "ExecuteTime": {
     "end_time": "2024-04-07T13:30:28.802376500Z",
     "start_time": "2024-04-07T13:30:28.783376400Z"
    }
   },
   "id": "6c81850ef63c0c29"
  },
  {
   "cell_type": "code",
   "execution_count": 5,
   "outputs": [
    {
     "data": {
      "text/plain": "count      774.000000\nmean       906.797158\nstd       1843.698958\nmin          1.000000\n25%         60.000000\n50%        255.000000\n75%        866.750000\nmax      17089.000000\nName: user_rating_count, dtype: float64"
     },
     "execution_count": 5,
     "metadata": {},
     "output_type": "execute_result"
    }
   ],
   "source": [
    "stores_df[\"user_rating_count\"].describe()"
   ],
   "metadata": {
    "collapsed": false,
    "ExecuteTime": {
     "end_time": "2024-04-05T23:19:47.112158700Z",
     "start_time": "2024-04-05T23:19:47.098582800Z"
    }
   },
   "id": "93478beb1543f41a"
  },
  {
   "cell_type": "code",
   "execution_count": 6,
   "outputs": [
    {
     "data": {
      "text/plain": "           rating  user_rating_count\ncount  774.000000         774.000000\nmean     4.371059         906.797158\nstd      0.490837        1843.698958\nmin      1.000000           1.000000\n25%      4.200000          60.000000\n50%      4.500000         255.000000\n75%      4.700000         866.750000\nmax      5.000000       17089.000000",
      "text/html": "<div>\n<style scoped>\n    .dataframe tbody tr th:only-of-type {\n        vertical-align: middle;\n    }\n\n    .dataframe tbody tr th {\n        vertical-align: top;\n    }\n\n    .dataframe thead th {\n        text-align: right;\n    }\n</style>\n<table border=\"1\" class=\"dataframe\">\n  <thead>\n    <tr style=\"text-align: right;\">\n      <th></th>\n      <th>rating</th>\n      <th>user_rating_count</th>\n    </tr>\n  </thead>\n  <tbody>\n    <tr>\n      <th>count</th>\n      <td>774.000000</td>\n      <td>774.000000</td>\n    </tr>\n    <tr>\n      <th>mean</th>\n      <td>4.371059</td>\n      <td>906.797158</td>\n    </tr>\n    <tr>\n      <th>std</th>\n      <td>0.490837</td>\n      <td>1843.698958</td>\n    </tr>\n    <tr>\n      <th>min</th>\n      <td>1.000000</td>\n      <td>1.000000</td>\n    </tr>\n    <tr>\n      <th>25%</th>\n      <td>4.200000</td>\n      <td>60.000000</td>\n    </tr>\n    <tr>\n      <th>50%</th>\n      <td>4.500000</td>\n      <td>255.000000</td>\n    </tr>\n    <tr>\n      <th>75%</th>\n      <td>4.700000</td>\n      <td>866.750000</td>\n    </tr>\n    <tr>\n      <th>max</th>\n      <td>5.000000</td>\n      <td>17089.000000</td>\n    </tr>\n  </tbody>\n</table>\n</div>"
     },
     "execution_count": 6,
     "metadata": {},
     "output_type": "execute_result"
    }
   ],
   "source": [
    "stores_df.describe()"
   ],
   "metadata": {
    "collapsed": false,
    "ExecuteTime": {
     "end_time": "2024-04-05T23:19:51.855088700Z",
     "start_time": "2024-04-05T23:19:51.839088700Z"
    }
   },
   "id": "922585f917e8a6d0"
  },
  {
   "cell_type": "code",
   "execution_count": 7,
   "outputs": [
    {
     "data": {
      "text/plain": "name\n{'text': 'Ashley Store', 'languageCode': 'en'}                                   53\n{'text': 'World Market', 'languageCode': 'en'}                                   30\n{'text': 'Bob’s Discount Furniture and Mattress Store', 'languageCode': 'en'}    23\n{'text': 'Value City Furniture', 'languageCode': 'en'}                           22\n{'text': 'west elm', 'languageCode': 'en'}                                       19\n                                                                                 ..\n{'text': 'Carpet Plus Flooring & Furniture', 'languageCode': 'en'}                1\n{'text': 'Beds Unlimited furniture and more inc.', 'languageCode': 'en'}          1\n{'text': 'No.5 Findings', 'languageCode': 'en'}                                   1\n{'text': 'Snows Furniture Enid', 'languageCode': 'en'}                            1\n{'text': 'Better Deal Furniture', 'languageCode': 'en'}                           1\nName: count, Length: 453, dtype: int64"
     },
     "execution_count": 7,
     "metadata": {},
     "output_type": "execute_result"
    }
   ],
   "source": [
    "stores_df[\"name\"].value_counts()"
   ],
   "metadata": {
    "collapsed": false,
    "ExecuteTime": {
     "end_time": "2024-04-05T23:20:25.629101Z",
     "start_time": "2024-04-05T23:20:25.603544300Z"
    }
   },
   "id": "b53d87291c30dac4"
  },
  {
   "cell_type": "code",
   "execution_count": 6,
   "outputs": [],
   "source": [
    "locations_count = stores_df[\"name\"].value_counts()\n",
    "locations_count_by_url_root = stores_df.groupby(\"url_root\").size()\n",
    "big_names = locations_count[locations_count >= 5].index\n",
    "big_urls = locations_count_by_url_root[locations_count_by_url_root >= 5].index\n",
    "big_chains = stores_df[(stores_df[\"name\"].isin(big_names)) | (stores_df[\"url_root\"].isin(big_urls))]\n",
    "small_stores = stores_df[(~stores_df[\"name\"].isin(big_names)) & (~stores_df[\"url_root\"].isin(big_urls))]"
   ],
   "metadata": {
    "collapsed": false,
    "ExecuteTime": {
     "end_time": "2024-04-05T23:36:04.152922900Z",
     "start_time": "2024-04-05T23:36:04.131923600Z"
    }
   },
   "id": "e7dfd8d9074206e3"
  },
  {
   "cell_type": "code",
   "execution_count": 29,
   "outputs": [
    {
     "data": {
      "text/plain": "           rating  user_rating_count\ncount  340.000000         340.000000\nmean     4.460882         615.470588\nstd      0.385235        1593.118776\nmin      2.800000           1.000000\n25%      4.300000          45.000000\n50%      4.500000         137.000000\n75%      4.700000         534.250000\nmax      5.000000       17089.000000",
      "text/html": "<div>\n<style scoped>\n    .dataframe tbody tr th:only-of-type {\n        vertical-align: middle;\n    }\n\n    .dataframe tbody tr th {\n        vertical-align: top;\n    }\n\n    .dataframe thead th {\n        text-align: right;\n    }\n</style>\n<table border=\"1\" class=\"dataframe\">\n  <thead>\n    <tr style=\"text-align: right;\">\n      <th></th>\n      <th>rating</th>\n      <th>user_rating_count</th>\n    </tr>\n  </thead>\n  <tbody>\n    <tr>\n      <th>count</th>\n      <td>340.000000</td>\n      <td>340.000000</td>\n    </tr>\n    <tr>\n      <th>mean</th>\n      <td>4.460882</td>\n      <td>615.470588</td>\n    </tr>\n    <tr>\n      <th>std</th>\n      <td>0.385235</td>\n      <td>1593.118776</td>\n    </tr>\n    <tr>\n      <th>min</th>\n      <td>2.800000</td>\n      <td>1.000000</td>\n    </tr>\n    <tr>\n      <th>25%</th>\n      <td>4.300000</td>\n      <td>45.000000</td>\n    </tr>\n    <tr>\n      <th>50%</th>\n      <td>4.500000</td>\n      <td>137.000000</td>\n    </tr>\n    <tr>\n      <th>75%</th>\n      <td>4.700000</td>\n      <td>534.250000</td>\n    </tr>\n    <tr>\n      <th>max</th>\n      <td>5.000000</td>\n      <td>17089.000000</td>\n    </tr>\n  </tbody>\n</table>\n</div>"
     },
     "execution_count": 29,
     "metadata": {},
     "output_type": "execute_result"
    }
   ],
   "source": [
    "small_stores.describe()"
   ],
   "metadata": {
    "collapsed": false,
    "ExecuteTime": {
     "end_time": "2024-04-05T23:26:47.744075300Z",
     "start_time": "2024-04-05T23:26:47.725042500Z"
    }
   },
   "id": "332a836074e07042"
  },
  {
   "cell_type": "code",
   "execution_count": 30,
   "outputs": [
    {
     "data": {
      "text/plain": "           rating  user_rating_count\ncount  340.000000         340.000000\nmean     4.460882         615.470588\nstd      0.385235        1593.118776\nmin      2.800000           1.000000\n25%      4.300000          45.000000\n50%      4.500000         137.000000\n75%      4.700000         534.250000\nmax      5.000000       17089.000000",
      "text/html": "<div>\n<style scoped>\n    .dataframe tbody tr th:only-of-type {\n        vertical-align: middle;\n    }\n\n    .dataframe tbody tr th {\n        vertical-align: top;\n    }\n\n    .dataframe thead th {\n        text-align: right;\n    }\n</style>\n<table border=\"1\" class=\"dataframe\">\n  <thead>\n    <tr style=\"text-align: right;\">\n      <th></th>\n      <th>rating</th>\n      <th>user_rating_count</th>\n    </tr>\n  </thead>\n  <tbody>\n    <tr>\n      <th>count</th>\n      <td>340.000000</td>\n      <td>340.000000</td>\n    </tr>\n    <tr>\n      <th>mean</th>\n      <td>4.460882</td>\n      <td>615.470588</td>\n    </tr>\n    <tr>\n      <th>std</th>\n      <td>0.385235</td>\n      <td>1593.118776</td>\n    </tr>\n    <tr>\n      <th>min</th>\n      <td>2.800000</td>\n      <td>1.000000</td>\n    </tr>\n    <tr>\n      <th>25%</th>\n      <td>4.300000</td>\n      <td>45.000000</td>\n    </tr>\n    <tr>\n      <th>50%</th>\n      <td>4.500000</td>\n      <td>137.000000</td>\n    </tr>\n    <tr>\n      <th>75%</th>\n      <td>4.700000</td>\n      <td>534.250000</td>\n    </tr>\n    <tr>\n      <th>max</th>\n      <td>5.000000</td>\n      <td>17089.000000</td>\n    </tr>\n  </tbody>\n</table>\n</div>"
     },
     "execution_count": 30,
     "metadata": {},
     "output_type": "execute_result"
    }
   ],
   "source": [
    "small_stores.describe()"
   ],
   "metadata": {
    "collapsed": false,
    "ExecuteTime": {
     "end_time": "2024-04-05T23:26:55.571334800Z",
     "start_time": "2024-04-05T23:26:55.541748600Z"
    }
   },
   "id": "ca8dc68cf26b3297"
  },
  {
   "cell_type": "code",
   "execution_count": 31,
   "outputs": [
    {
     "data": {
      "text/plain": "count      340.000000\nmean       615.470588\nstd       1593.118776\nmin          1.000000\n50%        137.000000\n90%       1193.900000\n91%       1234.000000\n92%       1519.360000\n93%       1935.260000\n94%       2263.220000\n95%       2676.950000\n96%       3118.680000\n97%       3474.770000\n98%       5651.360000\n99%       8876.660000\n100%     17089.000000\nmax      17089.000000\nName: user_rating_count, dtype: float64"
     },
     "execution_count": 31,
     "metadata": {},
     "output_type": "execute_result"
    }
   ],
   "source": [
    "small_stores[\"user_rating_count\"].describe(np.linspace(0.9, 1, 11))"
   ],
   "metadata": {
    "collapsed": false,
    "ExecuteTime": {
     "end_time": "2024-04-05T23:26:58.245008200Z",
     "start_time": "2024-04-05T23:26:58.224890400Z"
    }
   },
   "id": "50d2eb440941713b"
  },
  {
   "cell_type": "code",
   "execution_count": 32,
   "outputs": [
    {
     "data": {
      "text/plain": "                                                  name  \\\n3    {'text': 'Belfort Furniture', 'languageCode': ...   \n11   {'text': 'Marlo Furniture and Mattress Store',...   \n55   {'text': 'City Liquidators', 'languageCode': '...   \n65   {'text': 'Mor Furniture for Less', 'languageCo...   \n67   {'text': 'Mor Furniture for Less', 'languageCo...   \n77   {'text': 'El Dorado Furniture - West Palm Beac...   \n81   {'text': 'Furniture Direct', 'languageCode': '...   \n130  {'text': 'American Signature Furniture', 'lang...   \n151  {'text': 'Big Sandy Superstore - Dayton', 'lan...   \n153  {'text': 'Watson's of Dayton | Hot Tubs, Furni...   \n168  {'text': 'Kings Furniture & Mattress', 'langua...   \n196  {'text': 'Gardner White Furniture & Mattress S...   \n198  {'text': 'Tepperman's Windsor', 'languageCode'...   \n200  {'text': 'Gardner White Furniture & Mattress S...   \n204  {'text': 'Gardner White Furniture & Mattress S...   \n207        {'text': 'The Brick', 'languageCode': 'en'}   \n209  {'text': '5th Avenue Furniture', 'languageCode...   \n210  {'text': 'The Carpet Guys', 'languageCode': 'en'}   \n214  {'text': 'Leon's Furniture', 'languageCode': '...   \n216  {'text': 'American Furniture Warehouse', 'lang...   \n217  {'text': 'American Furniture Warehouse', 'lang...   \n270  {'text': 'Joe Tahan's Furniture', 'languageCod...   \n299  {'text': 'Watson's of Cincinnati | Hot Tubs, F...   \n300  {'text': 'Bargains and Buyouts Home Western Hi...   \n303   {'text': 'Furniture Fair', 'languageCode': 'en'}   \n304  {'text': 'Cincinnati Overstock Warehouse', 'la...   \n339        {'text': 'RC Willey', 'languageCode': 'en'}   \n342        {'text': 'RC Willey', 'languageCode': 'en'}   \n391  {'text': 'Baer's Furniture Co. Inc.', 'languag...   \n469  {'text': 'Georgia Furniture Mart', 'languageCo...   \n477  {'text': 'American Signature Furniture', 'lang...   \n482  {'text': 'American Signature Furniture', 'lang...   \n525  {'text': 'Mor Furniture for Less', 'languageCo...   \n528           {'text': 'DOCK86', 'languageCode': 'en'}   \n532  {'text': 'Schneiderman's Furniture', 'language...   \n560  {'text': 'Suburban Furniture', 'languageCode':...   \n600        {'text': 'RC Willey', 'languageCode': 'en'}   \n613  {'text': 'Beck's Furniture & Sleep', 'language...   \n692  {'text': 'Darvin Furniture & Mattress', 'langu...   \n738  {'text': 'Watson's of St. Louis | Hot Tubs, Fu...   \n742  {'text': 'Slumberland Furniture', 'languageCod...   \n\n                                               address  \\\n3                 22250 Shaw Rd, Dulles, VA 20166, USA   \n11   5650 General Washington Dr, Alexandria, VA 223...   \n55             823 SE 3rd Ave, Portland, OR 97214, USA   \n65          10015 SE Stark St, Portland, OR 97216, USA   \n67   1100 N Hayden Meadows Dr, Portland, OR 97217, USA   \n77   1901 Okeechobee Blvd, West Palm Beach, FL 3340...   \n81   2223 Palm Beach Lakes Blvd, West Palm Beach, F...   \n130  730 Sand Lake Rd Suite #100, Orlando, FL 32809...   \n151  2400 Miamisburg Centerville Rd, Dayton, OH 454...   \n153             2590 E Whipp Rd, Dayton, OH 45440, USA   \n168  8586 N Springboro Pike, Miamisburg, OH 45342, USA   \n196           6500 E 14 Mile Rd, Warren, MI 48092, USA   \n198    2595 Ouellette Ave, Windsor, ON N8X 4V8, Canada   \n200           14055 Hall Rd, Shelby Twp, MI 48315, USA   \n204     21100 Eight Mile Rd, Southfield, MI 48075, USA   \n207   4001 Legacy Park Dr, Windsor, ON N8W 5S6, Canada   \n209            15348 Livernois, Detroit, MI 48238, USA   \n210    977 E 14 Mile Rd suite 100, Troy, MI 48083, USA   \n214       700 Division Rd, Windsor, ON N8X 0A7, Canada   \n216             8501 Grant St, Thornton, CO 80229, USA   \n217     10550 Jake Jabs Blvd, Firestone, CO 80504, USA   \n270       5125 Commercial Dr, Yorkville, NY 13495, USA   \n299        2721 E Sharon Rd, Cincinnati, OH 45241, USA   \n300   5150 Glencrossing Way, Cincinnati, OH 45238, USA   \n303           7200 Dixie Hwy, Fairfield, OH 45014, USA   \n304  4 W Crescentville Rd, West Chester Township, O...   \n339               13300 S 200 W, Draper, UT 84020, USA   \n342         693 E University Pkwy, Orem, UT 84097, USA   \n391       15485 Tamiami Trail N, Naples, FL 34110, USA   \n469          6694 Dawson Blvd, Norcross, GA 30093, USA   \n477             3900 Venture Dr, Duluth, GA 30096, USA   \n482   7461 North Point Pkwy, Alpharetta, GA 30022, USA   \n525        10487 SW Cascade Ave, Tigard, OR 97223, USA   \n528  3201 Country Dr Suite D, Little Canada, MN 551...   \n532       1600 Annapolis Ln N, Plymouth, MN 55441, USA   \n560           10 NJ-10 West, Succasunna, NJ 07876, USA   \n600         6636 Lonetree Blvd, Rocklin, CA 95765, USA   \n613   11840 Folsom Blvd, Rancho Cordova, CA 95742, USA   \n692  15400 South La Grange Road, Orland Park, IL 60...   \n738          2620 Muegge Rd, St Charles, MO 63303, USA   \n742  8355 Veterans Memorial Pkwy, O'Fallon, MO 6336...   \n\n                                               website  \\\n3                     http://www.belfortfurniture.com/   \n11                      http://www.marlofurniture.com/   \n55                            http://www.cityliqs.com/   \n65   https://www.morfurniture.com/store/stark-stree...   \n67   https://www.morfurniture.com/store/delta-park-...   \n77   http://www.eldoradofurniture.com/?utm_source=g...   \n81                       http://furnituredirectfl.com/   \n130  https://www.americansignaturefurniture.com/sto...   \n151  https://www.bigsandysuperstore.com/locations/b...   \n153  https://www.watsons.com/stores/ohio/dayton/?ut...   \n168          https://www.kingsfurniture.com/index.html   \n196  https://www.gardner-white.com/stores/warren-14...   \n198                        https://www.teppermans.com/   \n200  https://www.gardner-white.com/stores/shelby-ha...   \n204    https://www.gardner-white.com/stores/southfield   \n207  https://www.thebrick.com/pages/store-windsor/?...   \n209                         http://www.5thdetroit.com/   \n210  https://www.carpetguys.com/?utm_source=gbp&utm...   \n214  https://www.leons.ca/pages/store-windsor?utm_s...   \n216             https://www.afw.com/stores/co/thornton   \n217  https://www.afw.com/stores/co/firestone?utm_ca...   \n270                             http://www.tahans.com/   \n299  https://www.watsons.com/stores/ohio/cincinnati...   \n300            https://www.bargainsandbuyoutshome.com/   \n303          https://furniturefair.net/pages/fairfield   \n304  http://www.cincinnatioverstockwarehouse.com/?u...   \n339  https://www.rcwilley.com/location/Utah/Draper-...   \n342  https://www.rcwilley.com/location/Utah/Orem-Ut...   \n391                              http://www.baers.com/   \n469  https://gafurnituremart.com/?utm_source=GMB&ut...   \n477  https://www.americansignaturefurniture.com/sto...   \n482  https://www.americansignaturefurniture.com/sto...   \n525  https://www.morfurniture.com/store/tigard-show...   \n528  https://www.dock86.com/location/little-canada?...   \n532  https://www.schneidermans.com/pages/location-p...   \n560                 https://www.suburbanfurniture.com/   \n600  https://www.rcwilley.com/location/California/S...   \n613                         http://becksfurniture.com/   \n692                            https://www.darvin.com/   \n738   https://www.watsons.com/stores/missouri/stlouis/   \n742  https://stores.slumberland.com/mo/ofallon/8355...   \n\n                                                 types  rating  \\\n3    [furniture_store, home_improvement_store, home...     4.1   \n11   [furniture_store, home_improvement_store, home...     4.6   \n55   [furniture_store, home_improvement_store, home...     4.2   \n65   [furniture_store, home_improvement_store, home...     4.7   \n67   [furniture_store, home_improvement_store, home...     4.7   \n77   [furniture_store, point_of_interest, home_impr...     4.6   \n81   [furniture_store, point_of_interest, home_impr...     4.7   \n130  [furniture_store, home_improvement_store, home...     4.7   \n151  [furniture_store, home_improvement_store, home...     4.5   \n153  [furniture_store, home_improvement_store, home...     4.7   \n168  [furniture_store, home_improvement_store, home...     4.6   \n196  [furniture_store, home_improvement_store, home...     4.4   \n198  [furniture_store, point_of_interest, home_impr...     4.2   \n200  [furniture_store, home_improvement_store, home...     4.5   \n204  [furniture_store, point_of_interest, home_impr...     4.4   \n207  [furniture_store, electronics_store, point_of_...     4.1   \n209  [furniture_store, point_of_interest, home_impr...     4.8   \n210  [furniture_store, home_improvement_store, gene...     4.8   \n214  [furniture_store, point_of_interest, home_impr...     4.0   \n216  [furniture_store, home_improvement_store, home...     4.7   \n217  [furniture_store, home_improvement_store, home...     4.7   \n270  [furniture_store, home_improvement_store, home...     4.8   \n299  [furniture_store, home_improvement_store, home...     4.6   \n300  [furniture_store, home_improvement_store, home...     4.5   \n303  [furniture_store, home_improvement_store, home...     4.5   \n304  [furniture_store, home_improvement_store, whol...     4.6   \n339  [furniture_store, electronics_store, point_of_...     4.6   \n342  [furniture_store, electronics_store, point_of_...     4.6   \n391  [furniture_store, home_improvement_store, home...     4.6   \n469  [furniture_store, general_contractor, home_imp...     4.5   \n477  [furniture_store, home_improvement_store, home...     4.7   \n482  [furniture_store, home_improvement_store, home...     4.7   \n525  [furniture_store, home_improvement_store, home...     4.6   \n528  [furniture_store, home_improvement_store, home...     4.6   \n532  [furniture_store, home_improvement_store, home...     4.7   \n560  [furniture_store, home_improvement_store, gene...     4.9   \n600  [furniture_store, electronics_store, home_impr...     4.7   \n613  [furniture_store, home_improvement_store, home...     4.3   \n692  [furniture_store, home_improvement_store, home...     4.6   \n738  [furniture_store, home_improvement_store, home...     4.7   \n742  [furniture_store, home_improvement_store, home...     4.7   \n\n     user_rating_count            price_level business_status  \\\n3               1191.0                   None     OPERATIONAL   \n11              3236.0                   None     OPERATIONAL   \n55              1234.0                   None     OPERATIONAL   \n65              2912.0                   None     OPERATIONAL   \n67              3495.0                   None     OPERATIONAL   \n77              1091.0                   None     OPERATIONAL   \n81              1220.0                   None     OPERATIONAL   \n130             2771.0                   None     OPERATIONAL   \n151             1796.0                   None     OPERATIONAL   \n153             2036.0                   None     OPERATIONAL   \n168             1155.0                   None     OPERATIONAL   \n196             5610.0                   None     OPERATIONAL   \n198             3043.0                   None     OPERATIONAL   \n200             4965.0                   None     OPERATIONAL   \n204             3376.0                   None     OPERATIONAL   \n207             1382.0                   None     OPERATIONAL   \n209             2219.0                   None     OPERATIONAL   \n210             2541.0                   None     OPERATIONAL   \n214             1051.0                   None     OPERATIONAL   \n216            17089.0                   None     OPERATIONAL   \n217             5798.0                   None     OPERATIONAL   \n270             1181.0                   None     OPERATIONAL   \n299             4320.0                   None     OPERATIONAL   \n300             1434.0                   None     OPERATIONAL   \n303             1232.0                   None     OPERATIONAL   \n304             2428.0                   None     OPERATIONAL   \n339            11914.0                   None     OPERATIONAL   \n342             8629.0                   None     OPERATIONAL   \n391             2286.0                   None     OPERATIONAL   \n469             6053.0                   None     OPERATIONAL   \n477             2672.0                   None     OPERATIONAL   \n482             1234.0                   None     OPERATIONAL   \n525             3215.0                   None     OPERATIONAL   \n528             1531.0                   None     OPERATIONAL   \n532             1046.0                   None     OPERATIONAL   \n560             1898.0                   None     OPERATIONAL   \n600             9035.0                   None     OPERATIONAL   \n613             1551.0                   None     OPERATIONAL   \n692             9127.0                   None     OPERATIONAL   \n738             2172.0                   None     OPERATIONAL   \n742             1016.0  PRICE_LEVEL_EXPENSIVE     OPERATIONAL   \n\n                                       google_maps_uri                 city  \\\n3    https://maps.google.com/?cid=16522972106348208767            Annandale   \n11    https://maps.google.com/?cid=9060054217508679836          Cherry Hill   \n55   https://maps.google.com/?cid=18061933618326779601             Damascus   \n65    https://maps.google.com/?cid=1446548938510302275             Damascus   \n67   https://maps.google.com/?cid=12779235695666273460             Damascus   \n77    https://maps.google.com/?cid=7376794127685730456     Royal Palm Beach   \n81   https://maps.google.com/?cid=17110804674475470332     Royal Palm Beach   \n130   https://maps.google.com/?cid=3187322932796576761       Wekiwa Springs   \n151   https://maps.google.com/?cid=7501118138856888035            Englewood   \n153  https://maps.google.com/?cid=12428216307671899667            Englewood   \n168   https://maps.google.com/?cid=8297111851065454173            Englewood   \n196    https://maps.google.com/?cid=327162370432581852        Mount Clemens   \n198   https://maps.google.com/?cid=7028976919567365146  Grosse Pointe Woods   \n200  https://maps.google.com/?cid=18158889992014465505        Mount Clemens   \n204   https://maps.google.com/?cid=9038159107827042039  Grosse Pointe Woods   \n207   https://maps.google.com/?cid=6488022497736267443  Grosse Pointe Woods   \n209  https://maps.google.com/?cid=17627238690380179369  Grosse Pointe Woods   \n210   https://maps.google.com/?cid=5145853985241564583        Mount Clemens   \n214  https://maps.google.com/?cid=13702258320041647386  Grosse Pointe Woods   \n216   https://maps.google.com/?cid=9573886734892612901            Lafayette   \n217    https://maps.google.com/?cid=372039827558253778            Lafayette   \n270  https://maps.google.com/?cid=11577275212362322663                 Rome   \n299  https://maps.google.com/?cid=15136880840274207369             Blue Ash   \n300   https://maps.google.com/?cid=7098214446762843933             Blue Ash   \n303    https://maps.google.com/?cid=403906720232472592             Blue Ash   \n304  https://maps.google.com/?cid=17071645519071510533             Blue Ash   \n339   https://maps.google.com/?cid=1551230327843756885                 Lehi   \n342   https://maps.google.com/?cid=6678033886269255016                 Lehi   \n391   https://maps.google.com/?cid=7365369518623588080               Naples   \n469  https://maps.google.com/?cid=15297049936257366526           Sugar Hill   \n477  https://maps.google.com/?cid=16433663863830699674           Sugar Hill   \n482  https://maps.google.com/?cid=13218770527191158399           Sugar Hill   \n525   https://maps.google.com/?cid=2135830850619126703             Damascus   \n528   https://maps.google.com/?cid=6146884507580428909             Champlin   \n532  https://maps.google.com/?cid=12189603487783384672             Champlin   \n560  https://maps.google.com/?cid=18001216046340284209         Hackettstown   \n600   https://maps.google.com/?cid=3735647488395898702          Granite Bay   \n613   https://maps.google.com/?cid=1116391577271254407          Granite Bay   \n692    https://maps.google.com/?cid=670029067886081684          Hazel Crest   \n738   https://maps.google.com/?cid=7944160462936404025       Lake St. Louis   \n742   https://maps.google.com/?cid=3303738506670965265       Lake St. Louis   \n\n                                 url_root  \n3                www.belfortfurniture.com  \n11                 www.marlofurniture.com  \n55                       www.cityliqs.com  \n65                   www.morfurniture.com  \n67                   www.morfurniture.com  \n77              www.eldoradofurniture.com  \n81                  furnituredirectfl.com  \n130    www.americansignaturefurniture.com  \n151            www.bigsandysuperstore.com  \n153                       www.watsons.com  \n168                www.kingsfurniture.com  \n196                 www.gardner-white.com  \n198                    www.teppermans.com  \n200                 www.gardner-white.com  \n204                 www.gardner-white.com  \n207                      www.thebrick.com  \n209                    www.5thdetroit.com  \n210                    www.carpetguys.com  \n214                          www.leons.ca  \n216                           www.afw.com  \n217                           www.afw.com  \n270                        www.tahans.com  \n299                       www.watsons.com  \n300        www.bargainsandbuyoutshome.com  \n303                     furniturefair.net  \n304  www.cincinnatioverstockwarehouse.com  \n339                      www.rcwilley.com  \n342                      www.rcwilley.com  \n391                         www.baers.com  \n469                   gafurnituremart.com  \n477    www.americansignaturefurniture.com  \n482    www.americansignaturefurniture.com  \n525                  www.morfurniture.com  \n528                        www.dock86.com  \n532                 www.schneidermans.com  \n560             www.suburbanfurniture.com  \n600                      www.rcwilley.com  \n613                    becksfurniture.com  \n692                        www.darvin.com  \n738                       www.watsons.com  \n742                stores.slumberland.com  ",
      "text/html": "<div>\n<style scoped>\n    .dataframe tbody tr th:only-of-type {\n        vertical-align: middle;\n    }\n\n    .dataframe tbody tr th {\n        vertical-align: top;\n    }\n\n    .dataframe thead th {\n        text-align: right;\n    }\n</style>\n<table border=\"1\" class=\"dataframe\">\n  <thead>\n    <tr style=\"text-align: right;\">\n      <th></th>\n      <th>name</th>\n      <th>address</th>\n      <th>website</th>\n      <th>types</th>\n      <th>rating</th>\n      <th>user_rating_count</th>\n      <th>price_level</th>\n      <th>business_status</th>\n      <th>google_maps_uri</th>\n      <th>city</th>\n      <th>url_root</th>\n    </tr>\n  </thead>\n  <tbody>\n    <tr>\n      <th>3</th>\n      <td>{'text': 'Belfort Furniture', 'languageCode': ...</td>\n      <td>22250 Shaw Rd, Dulles, VA 20166, USA</td>\n      <td>http://www.belfortfurniture.com/</td>\n      <td>[furniture_store, home_improvement_store, home...</td>\n      <td>4.1</td>\n      <td>1191.0</td>\n      <td>None</td>\n      <td>OPERATIONAL</td>\n      <td>https://maps.google.com/?cid=16522972106348208767</td>\n      <td>Annandale</td>\n      <td>www.belfortfurniture.com</td>\n    </tr>\n    <tr>\n      <th>11</th>\n      <td>{'text': 'Marlo Furniture and Mattress Store',...</td>\n      <td>5650 General Washington Dr, Alexandria, VA 223...</td>\n      <td>http://www.marlofurniture.com/</td>\n      <td>[furniture_store, home_improvement_store, home...</td>\n      <td>4.6</td>\n      <td>3236.0</td>\n      <td>None</td>\n      <td>OPERATIONAL</td>\n      <td>https://maps.google.com/?cid=9060054217508679836</td>\n      <td>Cherry Hill</td>\n      <td>www.marlofurniture.com</td>\n    </tr>\n    <tr>\n      <th>55</th>\n      <td>{'text': 'City Liquidators', 'languageCode': '...</td>\n      <td>823 SE 3rd Ave, Portland, OR 97214, USA</td>\n      <td>http://www.cityliqs.com/</td>\n      <td>[furniture_store, home_improvement_store, home...</td>\n      <td>4.2</td>\n      <td>1234.0</td>\n      <td>None</td>\n      <td>OPERATIONAL</td>\n      <td>https://maps.google.com/?cid=18061933618326779601</td>\n      <td>Damascus</td>\n      <td>www.cityliqs.com</td>\n    </tr>\n    <tr>\n      <th>65</th>\n      <td>{'text': 'Mor Furniture for Less', 'languageCo...</td>\n      <td>10015 SE Stark St, Portland, OR 97216, USA</td>\n      <td>https://www.morfurniture.com/store/stark-stree...</td>\n      <td>[furniture_store, home_improvement_store, home...</td>\n      <td>4.7</td>\n      <td>2912.0</td>\n      <td>None</td>\n      <td>OPERATIONAL</td>\n      <td>https://maps.google.com/?cid=1446548938510302275</td>\n      <td>Damascus</td>\n      <td>www.morfurniture.com</td>\n    </tr>\n    <tr>\n      <th>67</th>\n      <td>{'text': 'Mor Furniture for Less', 'languageCo...</td>\n      <td>1100 N Hayden Meadows Dr, Portland, OR 97217, USA</td>\n      <td>https://www.morfurniture.com/store/delta-park-...</td>\n      <td>[furniture_store, home_improvement_store, home...</td>\n      <td>4.7</td>\n      <td>3495.0</td>\n      <td>None</td>\n      <td>OPERATIONAL</td>\n      <td>https://maps.google.com/?cid=12779235695666273460</td>\n      <td>Damascus</td>\n      <td>www.morfurniture.com</td>\n    </tr>\n    <tr>\n      <th>77</th>\n      <td>{'text': 'El Dorado Furniture - West Palm Beac...</td>\n      <td>1901 Okeechobee Blvd, West Palm Beach, FL 3340...</td>\n      <td>http://www.eldoradofurniture.com/?utm_source=g...</td>\n      <td>[furniture_store, point_of_interest, home_impr...</td>\n      <td>4.6</td>\n      <td>1091.0</td>\n      <td>None</td>\n      <td>OPERATIONAL</td>\n      <td>https://maps.google.com/?cid=7376794127685730456</td>\n      <td>Royal Palm Beach</td>\n      <td>www.eldoradofurniture.com</td>\n    </tr>\n    <tr>\n      <th>81</th>\n      <td>{'text': 'Furniture Direct', 'languageCode': '...</td>\n      <td>2223 Palm Beach Lakes Blvd, West Palm Beach, F...</td>\n      <td>http://furnituredirectfl.com/</td>\n      <td>[furniture_store, point_of_interest, home_impr...</td>\n      <td>4.7</td>\n      <td>1220.0</td>\n      <td>None</td>\n      <td>OPERATIONAL</td>\n      <td>https://maps.google.com/?cid=17110804674475470332</td>\n      <td>Royal Palm Beach</td>\n      <td>furnituredirectfl.com</td>\n    </tr>\n    <tr>\n      <th>130</th>\n      <td>{'text': 'American Signature Furniture', 'lang...</td>\n      <td>730 Sand Lake Rd Suite #100, Orlando, FL 32809...</td>\n      <td>https://www.americansignaturefurniture.com/sto...</td>\n      <td>[furniture_store, home_improvement_store, home...</td>\n      <td>4.7</td>\n      <td>2771.0</td>\n      <td>None</td>\n      <td>OPERATIONAL</td>\n      <td>https://maps.google.com/?cid=3187322932796576761</td>\n      <td>Wekiwa Springs</td>\n      <td>www.americansignaturefurniture.com</td>\n    </tr>\n    <tr>\n      <th>151</th>\n      <td>{'text': 'Big Sandy Superstore - Dayton', 'lan...</td>\n      <td>2400 Miamisburg Centerville Rd, Dayton, OH 454...</td>\n      <td>https://www.bigsandysuperstore.com/locations/b...</td>\n      <td>[furniture_store, home_improvement_store, home...</td>\n      <td>4.5</td>\n      <td>1796.0</td>\n      <td>None</td>\n      <td>OPERATIONAL</td>\n      <td>https://maps.google.com/?cid=7501118138856888035</td>\n      <td>Englewood</td>\n      <td>www.bigsandysuperstore.com</td>\n    </tr>\n    <tr>\n      <th>153</th>\n      <td>{'text': 'Watson's of Dayton | Hot Tubs, Furni...</td>\n      <td>2590 E Whipp Rd, Dayton, OH 45440, USA</td>\n      <td>https://www.watsons.com/stores/ohio/dayton/?ut...</td>\n      <td>[furniture_store, home_improvement_store, home...</td>\n      <td>4.7</td>\n      <td>2036.0</td>\n      <td>None</td>\n      <td>OPERATIONAL</td>\n      <td>https://maps.google.com/?cid=12428216307671899667</td>\n      <td>Englewood</td>\n      <td>www.watsons.com</td>\n    </tr>\n    <tr>\n      <th>168</th>\n      <td>{'text': 'Kings Furniture &amp; Mattress', 'langua...</td>\n      <td>8586 N Springboro Pike, Miamisburg, OH 45342, USA</td>\n      <td>https://www.kingsfurniture.com/index.html</td>\n      <td>[furniture_store, home_improvement_store, home...</td>\n      <td>4.6</td>\n      <td>1155.0</td>\n      <td>None</td>\n      <td>OPERATIONAL</td>\n      <td>https://maps.google.com/?cid=8297111851065454173</td>\n      <td>Englewood</td>\n      <td>www.kingsfurniture.com</td>\n    </tr>\n    <tr>\n      <th>196</th>\n      <td>{'text': 'Gardner White Furniture &amp; Mattress S...</td>\n      <td>6500 E 14 Mile Rd, Warren, MI 48092, USA</td>\n      <td>https://www.gardner-white.com/stores/warren-14...</td>\n      <td>[furniture_store, home_improvement_store, home...</td>\n      <td>4.4</td>\n      <td>5610.0</td>\n      <td>None</td>\n      <td>OPERATIONAL</td>\n      <td>https://maps.google.com/?cid=327162370432581852</td>\n      <td>Mount Clemens</td>\n      <td>www.gardner-white.com</td>\n    </tr>\n    <tr>\n      <th>198</th>\n      <td>{'text': 'Tepperman's Windsor', 'languageCode'...</td>\n      <td>2595 Ouellette Ave, Windsor, ON N8X 4V8, Canada</td>\n      <td>https://www.teppermans.com/</td>\n      <td>[furniture_store, point_of_interest, home_impr...</td>\n      <td>4.2</td>\n      <td>3043.0</td>\n      <td>None</td>\n      <td>OPERATIONAL</td>\n      <td>https://maps.google.com/?cid=7028976919567365146</td>\n      <td>Grosse Pointe Woods</td>\n      <td>www.teppermans.com</td>\n    </tr>\n    <tr>\n      <th>200</th>\n      <td>{'text': 'Gardner White Furniture &amp; Mattress S...</td>\n      <td>14055 Hall Rd, Shelby Twp, MI 48315, USA</td>\n      <td>https://www.gardner-white.com/stores/shelby-ha...</td>\n      <td>[furniture_store, home_improvement_store, home...</td>\n      <td>4.5</td>\n      <td>4965.0</td>\n      <td>None</td>\n      <td>OPERATIONAL</td>\n      <td>https://maps.google.com/?cid=18158889992014465505</td>\n      <td>Mount Clemens</td>\n      <td>www.gardner-white.com</td>\n    </tr>\n    <tr>\n      <th>204</th>\n      <td>{'text': 'Gardner White Furniture &amp; Mattress S...</td>\n      <td>21100 Eight Mile Rd, Southfield, MI 48075, USA</td>\n      <td>https://www.gardner-white.com/stores/southfield</td>\n      <td>[furniture_store, point_of_interest, home_impr...</td>\n      <td>4.4</td>\n      <td>3376.0</td>\n      <td>None</td>\n      <td>OPERATIONAL</td>\n      <td>https://maps.google.com/?cid=9038159107827042039</td>\n      <td>Grosse Pointe Woods</td>\n      <td>www.gardner-white.com</td>\n    </tr>\n    <tr>\n      <th>207</th>\n      <td>{'text': 'The Brick', 'languageCode': 'en'}</td>\n      <td>4001 Legacy Park Dr, Windsor, ON N8W 5S6, Canada</td>\n      <td>https://www.thebrick.com/pages/store-windsor/?...</td>\n      <td>[furniture_store, electronics_store, point_of_...</td>\n      <td>4.1</td>\n      <td>1382.0</td>\n      <td>None</td>\n      <td>OPERATIONAL</td>\n      <td>https://maps.google.com/?cid=6488022497736267443</td>\n      <td>Grosse Pointe Woods</td>\n      <td>www.thebrick.com</td>\n    </tr>\n    <tr>\n      <th>209</th>\n      <td>{'text': '5th Avenue Furniture', 'languageCode...</td>\n      <td>15348 Livernois, Detroit, MI 48238, USA</td>\n      <td>http://www.5thdetroit.com/</td>\n      <td>[furniture_store, point_of_interest, home_impr...</td>\n      <td>4.8</td>\n      <td>2219.0</td>\n      <td>None</td>\n      <td>OPERATIONAL</td>\n      <td>https://maps.google.com/?cid=17627238690380179369</td>\n      <td>Grosse Pointe Woods</td>\n      <td>www.5thdetroit.com</td>\n    </tr>\n    <tr>\n      <th>210</th>\n      <td>{'text': 'The Carpet Guys', 'languageCode': 'en'}</td>\n      <td>977 E 14 Mile Rd suite 100, Troy, MI 48083, USA</td>\n      <td>https://www.carpetguys.com/?utm_source=gbp&amp;utm...</td>\n      <td>[furniture_store, home_improvement_store, gene...</td>\n      <td>4.8</td>\n      <td>2541.0</td>\n      <td>None</td>\n      <td>OPERATIONAL</td>\n      <td>https://maps.google.com/?cid=5145853985241564583</td>\n      <td>Mount Clemens</td>\n      <td>www.carpetguys.com</td>\n    </tr>\n    <tr>\n      <th>214</th>\n      <td>{'text': 'Leon's Furniture', 'languageCode': '...</td>\n      <td>700 Division Rd, Windsor, ON N8X 0A7, Canada</td>\n      <td>https://www.leons.ca/pages/store-windsor?utm_s...</td>\n      <td>[furniture_store, point_of_interest, home_impr...</td>\n      <td>4.0</td>\n      <td>1051.0</td>\n      <td>None</td>\n      <td>OPERATIONAL</td>\n      <td>https://maps.google.com/?cid=13702258320041647386</td>\n      <td>Grosse Pointe Woods</td>\n      <td>www.leons.ca</td>\n    </tr>\n    <tr>\n      <th>216</th>\n      <td>{'text': 'American Furniture Warehouse', 'lang...</td>\n      <td>8501 Grant St, Thornton, CO 80229, USA</td>\n      <td>https://www.afw.com/stores/co/thornton</td>\n      <td>[furniture_store, home_improvement_store, home...</td>\n      <td>4.7</td>\n      <td>17089.0</td>\n      <td>None</td>\n      <td>OPERATIONAL</td>\n      <td>https://maps.google.com/?cid=9573886734892612901</td>\n      <td>Lafayette</td>\n      <td>www.afw.com</td>\n    </tr>\n    <tr>\n      <th>217</th>\n      <td>{'text': 'American Furniture Warehouse', 'lang...</td>\n      <td>10550 Jake Jabs Blvd, Firestone, CO 80504, USA</td>\n      <td>https://www.afw.com/stores/co/firestone?utm_ca...</td>\n      <td>[furniture_store, home_improvement_store, home...</td>\n      <td>4.7</td>\n      <td>5798.0</td>\n      <td>None</td>\n      <td>OPERATIONAL</td>\n      <td>https://maps.google.com/?cid=372039827558253778</td>\n      <td>Lafayette</td>\n      <td>www.afw.com</td>\n    </tr>\n    <tr>\n      <th>270</th>\n      <td>{'text': 'Joe Tahan's Furniture', 'languageCod...</td>\n      <td>5125 Commercial Dr, Yorkville, NY 13495, USA</td>\n      <td>http://www.tahans.com/</td>\n      <td>[furniture_store, home_improvement_store, home...</td>\n      <td>4.8</td>\n      <td>1181.0</td>\n      <td>None</td>\n      <td>OPERATIONAL</td>\n      <td>https://maps.google.com/?cid=11577275212362322663</td>\n      <td>Rome</td>\n      <td>www.tahans.com</td>\n    </tr>\n    <tr>\n      <th>299</th>\n      <td>{'text': 'Watson's of Cincinnati | Hot Tubs, F...</td>\n      <td>2721 E Sharon Rd, Cincinnati, OH 45241, USA</td>\n      <td>https://www.watsons.com/stores/ohio/cincinnati...</td>\n      <td>[furniture_store, home_improvement_store, home...</td>\n      <td>4.6</td>\n      <td>4320.0</td>\n      <td>None</td>\n      <td>OPERATIONAL</td>\n      <td>https://maps.google.com/?cid=15136880840274207369</td>\n      <td>Blue Ash</td>\n      <td>www.watsons.com</td>\n    </tr>\n    <tr>\n      <th>300</th>\n      <td>{'text': 'Bargains and Buyouts Home Western Hi...</td>\n      <td>5150 Glencrossing Way, Cincinnati, OH 45238, USA</td>\n      <td>https://www.bargainsandbuyoutshome.com/</td>\n      <td>[furniture_store, home_improvement_store, home...</td>\n      <td>4.5</td>\n      <td>1434.0</td>\n      <td>None</td>\n      <td>OPERATIONAL</td>\n      <td>https://maps.google.com/?cid=7098214446762843933</td>\n      <td>Blue Ash</td>\n      <td>www.bargainsandbuyoutshome.com</td>\n    </tr>\n    <tr>\n      <th>303</th>\n      <td>{'text': 'Furniture Fair', 'languageCode': 'en'}</td>\n      <td>7200 Dixie Hwy, Fairfield, OH 45014, USA</td>\n      <td>https://furniturefair.net/pages/fairfield</td>\n      <td>[furniture_store, home_improvement_store, home...</td>\n      <td>4.5</td>\n      <td>1232.0</td>\n      <td>None</td>\n      <td>OPERATIONAL</td>\n      <td>https://maps.google.com/?cid=403906720232472592</td>\n      <td>Blue Ash</td>\n      <td>furniturefair.net</td>\n    </tr>\n    <tr>\n      <th>304</th>\n      <td>{'text': 'Cincinnati Overstock Warehouse', 'la...</td>\n      <td>4 W Crescentville Rd, West Chester Township, O...</td>\n      <td>http://www.cincinnatioverstockwarehouse.com/?u...</td>\n      <td>[furniture_store, home_improvement_store, whol...</td>\n      <td>4.6</td>\n      <td>2428.0</td>\n      <td>None</td>\n      <td>OPERATIONAL</td>\n      <td>https://maps.google.com/?cid=17071645519071510533</td>\n      <td>Blue Ash</td>\n      <td>www.cincinnatioverstockwarehouse.com</td>\n    </tr>\n    <tr>\n      <th>339</th>\n      <td>{'text': 'RC Willey', 'languageCode': 'en'}</td>\n      <td>13300 S 200 W, Draper, UT 84020, USA</td>\n      <td>https://www.rcwilley.com/location/Utah/Draper-...</td>\n      <td>[furniture_store, electronics_store, point_of_...</td>\n      <td>4.6</td>\n      <td>11914.0</td>\n      <td>None</td>\n      <td>OPERATIONAL</td>\n      <td>https://maps.google.com/?cid=1551230327843756885</td>\n      <td>Lehi</td>\n      <td>www.rcwilley.com</td>\n    </tr>\n    <tr>\n      <th>342</th>\n      <td>{'text': 'RC Willey', 'languageCode': 'en'}</td>\n      <td>693 E University Pkwy, Orem, UT 84097, USA</td>\n      <td>https://www.rcwilley.com/location/Utah/Orem-Ut...</td>\n      <td>[furniture_store, electronics_store, point_of_...</td>\n      <td>4.6</td>\n      <td>8629.0</td>\n      <td>None</td>\n      <td>OPERATIONAL</td>\n      <td>https://maps.google.com/?cid=6678033886269255016</td>\n      <td>Lehi</td>\n      <td>www.rcwilley.com</td>\n    </tr>\n    <tr>\n      <th>391</th>\n      <td>{'text': 'Baer's Furniture Co. Inc.', 'languag...</td>\n      <td>15485 Tamiami Trail N, Naples, FL 34110, USA</td>\n      <td>http://www.baers.com/</td>\n      <td>[furniture_store, home_improvement_store, home...</td>\n      <td>4.6</td>\n      <td>2286.0</td>\n      <td>None</td>\n      <td>OPERATIONAL</td>\n      <td>https://maps.google.com/?cid=7365369518623588080</td>\n      <td>Naples</td>\n      <td>www.baers.com</td>\n    </tr>\n    <tr>\n      <th>469</th>\n      <td>{'text': 'Georgia Furniture Mart', 'languageCo...</td>\n      <td>6694 Dawson Blvd, Norcross, GA 30093, USA</td>\n      <td>https://gafurnituremart.com/?utm_source=GMB&amp;ut...</td>\n      <td>[furniture_store, general_contractor, home_imp...</td>\n      <td>4.5</td>\n      <td>6053.0</td>\n      <td>None</td>\n      <td>OPERATIONAL</td>\n      <td>https://maps.google.com/?cid=15297049936257366526</td>\n      <td>Sugar Hill</td>\n      <td>gafurnituremart.com</td>\n    </tr>\n    <tr>\n      <th>477</th>\n      <td>{'text': 'American Signature Furniture', 'lang...</td>\n      <td>3900 Venture Dr, Duluth, GA 30096, USA</td>\n      <td>https://www.americansignaturefurniture.com/sto...</td>\n      <td>[furniture_store, home_improvement_store, home...</td>\n      <td>4.7</td>\n      <td>2672.0</td>\n      <td>None</td>\n      <td>OPERATIONAL</td>\n      <td>https://maps.google.com/?cid=16433663863830699674</td>\n      <td>Sugar Hill</td>\n      <td>www.americansignaturefurniture.com</td>\n    </tr>\n    <tr>\n      <th>482</th>\n      <td>{'text': 'American Signature Furniture', 'lang...</td>\n      <td>7461 North Point Pkwy, Alpharetta, GA 30022, USA</td>\n      <td>https://www.americansignaturefurniture.com/sto...</td>\n      <td>[furniture_store, home_improvement_store, home...</td>\n      <td>4.7</td>\n      <td>1234.0</td>\n      <td>None</td>\n      <td>OPERATIONAL</td>\n      <td>https://maps.google.com/?cid=13218770527191158399</td>\n      <td>Sugar Hill</td>\n      <td>www.americansignaturefurniture.com</td>\n    </tr>\n    <tr>\n      <th>525</th>\n      <td>{'text': 'Mor Furniture for Less', 'languageCo...</td>\n      <td>10487 SW Cascade Ave, Tigard, OR 97223, USA</td>\n      <td>https://www.morfurniture.com/store/tigard-show...</td>\n      <td>[furniture_store, home_improvement_store, home...</td>\n      <td>4.6</td>\n      <td>3215.0</td>\n      <td>None</td>\n      <td>OPERATIONAL</td>\n      <td>https://maps.google.com/?cid=2135830850619126703</td>\n      <td>Damascus</td>\n      <td>www.morfurniture.com</td>\n    </tr>\n    <tr>\n      <th>528</th>\n      <td>{'text': 'DOCK86', 'languageCode': 'en'}</td>\n      <td>3201 Country Dr Suite D, Little Canada, MN 551...</td>\n      <td>https://www.dock86.com/location/little-canada?...</td>\n      <td>[furniture_store, home_improvement_store, home...</td>\n      <td>4.6</td>\n      <td>1531.0</td>\n      <td>None</td>\n      <td>OPERATIONAL</td>\n      <td>https://maps.google.com/?cid=6146884507580428909</td>\n      <td>Champlin</td>\n      <td>www.dock86.com</td>\n    </tr>\n    <tr>\n      <th>532</th>\n      <td>{'text': 'Schneiderman's Furniture', 'language...</td>\n      <td>1600 Annapolis Ln N, Plymouth, MN 55441, USA</td>\n      <td>https://www.schneidermans.com/pages/location-p...</td>\n      <td>[furniture_store, home_improvement_store, home...</td>\n      <td>4.7</td>\n      <td>1046.0</td>\n      <td>None</td>\n      <td>OPERATIONAL</td>\n      <td>https://maps.google.com/?cid=12189603487783384672</td>\n      <td>Champlin</td>\n      <td>www.schneidermans.com</td>\n    </tr>\n    <tr>\n      <th>560</th>\n      <td>{'text': 'Suburban Furniture', 'languageCode':...</td>\n      <td>10 NJ-10 West, Succasunna, NJ 07876, USA</td>\n      <td>https://www.suburbanfurniture.com/</td>\n      <td>[furniture_store, home_improvement_store, gene...</td>\n      <td>4.9</td>\n      <td>1898.0</td>\n      <td>None</td>\n      <td>OPERATIONAL</td>\n      <td>https://maps.google.com/?cid=18001216046340284209</td>\n      <td>Hackettstown</td>\n      <td>www.suburbanfurniture.com</td>\n    </tr>\n    <tr>\n      <th>600</th>\n      <td>{'text': 'RC Willey', 'languageCode': 'en'}</td>\n      <td>6636 Lonetree Blvd, Rocklin, CA 95765, USA</td>\n      <td>https://www.rcwilley.com/location/California/S...</td>\n      <td>[furniture_store, electronics_store, home_impr...</td>\n      <td>4.7</td>\n      <td>9035.0</td>\n      <td>None</td>\n      <td>OPERATIONAL</td>\n      <td>https://maps.google.com/?cid=3735647488395898702</td>\n      <td>Granite Bay</td>\n      <td>www.rcwilley.com</td>\n    </tr>\n    <tr>\n      <th>613</th>\n      <td>{'text': 'Beck's Furniture &amp; Sleep', 'language...</td>\n      <td>11840 Folsom Blvd, Rancho Cordova, CA 95742, USA</td>\n      <td>http://becksfurniture.com/</td>\n      <td>[furniture_store, home_improvement_store, home...</td>\n      <td>4.3</td>\n      <td>1551.0</td>\n      <td>None</td>\n      <td>OPERATIONAL</td>\n      <td>https://maps.google.com/?cid=1116391577271254407</td>\n      <td>Granite Bay</td>\n      <td>becksfurniture.com</td>\n    </tr>\n    <tr>\n      <th>692</th>\n      <td>{'text': 'Darvin Furniture &amp; Mattress', 'langu...</td>\n      <td>15400 South La Grange Road, Orland Park, IL 60...</td>\n      <td>https://www.darvin.com/</td>\n      <td>[furniture_store, home_improvement_store, home...</td>\n      <td>4.6</td>\n      <td>9127.0</td>\n      <td>None</td>\n      <td>OPERATIONAL</td>\n      <td>https://maps.google.com/?cid=670029067886081684</td>\n      <td>Hazel Crest</td>\n      <td>www.darvin.com</td>\n    </tr>\n    <tr>\n      <th>738</th>\n      <td>{'text': 'Watson's of St. Louis | Hot Tubs, Fu...</td>\n      <td>2620 Muegge Rd, St Charles, MO 63303, USA</td>\n      <td>https://www.watsons.com/stores/missouri/stlouis/</td>\n      <td>[furniture_store, home_improvement_store, home...</td>\n      <td>4.7</td>\n      <td>2172.0</td>\n      <td>None</td>\n      <td>OPERATIONAL</td>\n      <td>https://maps.google.com/?cid=7944160462936404025</td>\n      <td>Lake St. Louis</td>\n      <td>www.watsons.com</td>\n    </tr>\n    <tr>\n      <th>742</th>\n      <td>{'text': 'Slumberland Furniture', 'languageCod...</td>\n      <td>8355 Veterans Memorial Pkwy, O'Fallon, MO 6336...</td>\n      <td>https://stores.slumberland.com/mo/ofallon/8355...</td>\n      <td>[furniture_store, home_improvement_store, home...</td>\n      <td>4.7</td>\n      <td>1016.0</td>\n      <td>PRICE_LEVEL_EXPENSIVE</td>\n      <td>OPERATIONAL</td>\n      <td>https://maps.google.com/?cid=3303738506670965265</td>\n      <td>Lake St. Louis</td>\n      <td>stores.slumberland.com</td>\n    </tr>\n  </tbody>\n</table>\n</div>"
     },
     "execution_count": 32,
     "metadata": {},
     "output_type": "execute_result"
    }
   ],
   "source": [
    "small_stores[small_stores[\"user_rating_count\"] > 1000]"
   ],
   "metadata": {
    "collapsed": false,
    "ExecuteTime": {
     "end_time": "2024-04-05T23:26:59.817679300Z",
     "start_time": "2024-04-05T23:26:59.774682600Z"
    }
   },
   "id": "a7c276c8e8698c28"
  },
  {
   "cell_type": "code",
   "execution_count": 7,
   "outputs": [],
   "source": [
    "urls_to_try = small_stores[\"url_root\"].unique().tolist()"
   ],
   "metadata": {
    "collapsed": false,
    "ExecuteTime": {
     "end_time": "2024-04-05T23:36:07.341687800Z",
     "start_time": "2024-04-05T23:36:07.323177200Z"
    }
   },
   "id": "325c6a50ac3756b3"
  },
  {
   "cell_type": "code",
   "execution_count": 8,
   "outputs": [
    {
     "data": {
      "text/plain": "'cityhomepdx.com'"
     },
     "execution_count": 8,
     "metadata": {},
     "output_type": "execute_result"
    }
   ],
   "source": [
    "urls_to_try[12]"
   ],
   "metadata": {
    "collapsed": false,
    "ExecuteTime": {
     "end_time": "2024-04-05T23:36:08.444499Z",
     "start_time": "2024-04-05T23:36:08.429498400Z"
    }
   },
   "id": "7bb663b7ec1041ea"
  },
  {
   "cell_type": "code",
   "execution_count": 9,
   "outputs": [],
   "source": [
    "import requests"
   ],
   "metadata": {
    "collapsed": false,
    "ExecuteTime": {
     "end_time": "2024-04-05T23:36:10.315307700Z",
     "start_time": "2024-04-05T23:36:10.299807600Z"
    }
   },
   "id": "3c36810ef4ad6e84"
  },
  {
   "cell_type": "code",
   "execution_count": 6,
   "outputs": [],
   "source": [
    "data_dir = Path(\"./root_pages\")\n",
    "data_dir.mkdir(exist_ok=True)\n",
    "\n",
    "failed_dir = data_dir / \"failed\"\n",
    "failed_dir.mkdir(exist_ok=True)"
   ],
   "metadata": {
    "collapsed": false,
    "ExecuteTime": {
     "end_time": "2024-04-07T13:30:28.802376500Z",
     "start_time": "2024-04-07T13:30:28.789376100Z"
    }
   },
   "id": "a3da964748f5293d"
  },
  {
   "cell_type": "code",
   "execution_count": 10,
   "outputs": [],
   "source": [],
   "metadata": {
    "collapsed": false,
    "ExecuteTime": {
     "end_time": "2024-04-05T23:36:13.887526500Z",
     "start_time": "2024-04-05T23:36:13.883006700Z"
    }
   },
   "id": "cceeb1f1e9af4558"
  },
  {
   "cell_type": "code",
   "execution_count": null,
   "outputs": [
    {
     "data": {
      "text/plain": "  0%|          | 0/288 [00:00<?, ?it/s]",
      "application/vnd.jupyter.widget-view+json": {
       "version_major": 2,
       "version_minor": 0,
       "model_id": "3be72f327065491a8184b38f66706efb"
      }
     },
     "metadata": {},
     "output_type": "display_data"
    },
    {
     "name": "stdout",
     "output_type": "stream",
     "text": [
      "HTTPConnectionPool(host='furnitureiconin.com', port=80): Max retries exceeded with url: / (Caused by ConnectTimeoutError(<urllib3.connection.HTTPConnection object at 0x00000291D007BE80>, 'Connection to furnitureiconin.com timed out. (connect timeout=None)'))\n",
      "('Connection aborted.', ConnectionResetError(10054, 'Удаленный хост принудительно разорвал существующее подключение', None, 10054, None))\n",
      "('Connection broken: IncompleteRead(0 bytes read, 1397 more expected)', IncompleteRead(0 bytes read, 1397 more expected))\n"
     ]
    }
   ],
   "source": [
    "random.shuffle(urls_to_try)\n",
    "\n",
    "for url in tqdm(urls_to_try):\n",
    "    try:\n",
    "        res = requests.get(\"http://\" + url)\n",
    "        if res.ok:\n",
    "            with open(data_dir / (url + \".html\"), \"w\", encoding=\"utf-8\") as f:\n",
    "                f.write(res.text)\n",
    "        else:\n",
    "            with open(failed_dir / (url + \".html\"), \"w\", encoding=\"utf-8\") as f:\n",
    "                f.write(res.text)\n",
    "    except Exception as e:\n",
    "        print(e)"
   ],
   "metadata": {
    "collapsed": false,
    "ExecuteTime": {
     "start_time": "2024-04-05T23:38:38.368728600Z"
    }
   },
   "id": "4fa0083d36f90b27"
  },
  {
   "cell_type": "code",
   "execution_count": null,
   "outputs": [],
   "source": [],
   "metadata": {
    "collapsed": false,
    "ExecuteTime": {
     "end_time": "2024-04-05T23:33:03.203518800Z",
     "start_time": "2024-04-05T23:33:03.203518800Z"
    }
   },
   "id": "16ef1bb1a6ebb511"
  },
  {
   "cell_type": "code",
   "execution_count": 1,
   "outputs": [
    {
     "data": {
      "text/plain": "12"
     },
     "execution_count": 1,
     "metadata": {},
     "output_type": "execute_result"
    }
   ],
   "source": [],
   "metadata": {
    "collapsed": false,
    "ExecuteTime": {
     "end_time": "2024-04-07T13:30:10.497495800Z",
     "start_time": "2024-04-07T13:30:10.474474200Z"
    }
   },
   "id": "b939787979dff291"
  },
  {
   "cell_type": "code",
   "execution_count": 13,
   "outputs": [],
   "source": [
    "for fp in data_dir.glob(\"*.html\"):\n",
    "    with open(fp, \"r\", encoding=\"utf-8\") as f:\n",
    "        html_text = f.read()\n",
    "    root_url = fp.stem\n",
    "    break"
   ],
   "metadata": {
    "collapsed": false,
    "ExecuteTime": {
     "end_time": "2024-04-07T13:33:45.972885400Z",
     "start_time": "2024-04-07T13:33:45.936886200Z"
    }
   },
   "id": "795c6c6c582e89c1"
  },
  {
   "cell_type": "code",
   "execution_count": 14,
   "outputs": [],
   "source": [
    "from bs4 import BeautifulSoup\n",
    "\n",
    "\n",
    "def get_links_from_html(html, root_url=None):\n",
    "    soup = BeautifulSoup(html, \"html.parser\")\n",
    "    links = set()\n",
    "    for link in soup.find_all(\"a\"):\n",
    "        if link.has_attr(\"href\"):\n",
    "            links.add(link[\"href\"])\n",
    "\n",
    "    proper_links = set()\n",
    "    for link in links:\n",
    "        if root_url and root_url in link:\n",
    "            proper_links.add(link.split(root_url, 1)[-1])\n",
    "        elif link.startswith(\"/\"):\n",
    "            proper_links.add(link)\n",
    "    return proper_links"
   ],
   "metadata": {
    "collapsed": false,
    "ExecuteTime": {
     "end_time": "2024-04-07T13:33:49.215088200Z",
     "start_time": "2024-04-07T13:33:49.188089200Z"
    }
   },
   "id": "431fef94b6598ba3"
  },
  {
   "cell_type": "code",
   "execution_count": 17,
   "outputs": [],
   "source": [
    "ll = get_links_from_html(html_text, root_url=root_url)"
   ],
   "metadata": {
    "collapsed": false,
    "ExecuteTime": {
     "end_time": "2024-04-07T13:33:57.913883200Z",
     "start_time": "2024-04-07T13:33:57.878337100Z"
    }
   },
   "id": "c15e45544f86f26d"
  },
  {
   "cell_type": "code",
   "execution_count": 18,
   "outputs": [
    {
     "data": {
      "text/plain": "{'',\n '/',\n '/#how-it-works',\n '/cart',\n '/collections/all',\n '/collections/living-room/sofas',\n '/collections/tables-chairs',\n '/pages/about-us',\n '/pages/careers',\n '/pages/contact-us',\n '/pages/payments',\n '/pages/shipping-information',\n '/policies/privacy-policy',\n '/policies/terms-of-service',\n '/products/32-720p-hd-led-roku-smart-tv',\n '/products/32led-hdtv-1080p-60hz',\n '/products/abney-swivel-accent-chair',\n '/products/albalone-accent-chair',\n '/products/aldwin-bench',\n '/products/aldwin-side-chair',\n '/products/anemoon-metal-floor-lamp',\n '/products/barchan-two-drawer-nightstand',\n '/products/beauland-accent-bench',\n '/products/bolanburg-square-end-table',\n '/products/brickwell-storage-bench',\n '/products/carondelet-accent-bench',\n '/products/chromebook-14-intel-atom-x5-e8000-quad-core-processor-14-hd-4gb-lpddr3-32gb-emmc',\n '/products/colldale-metal-arc-lamp',\n '/products/copy-of-juinville-accent-table',\n '/products/cottonburg-two-drawer-nightstand',\n '/products/dinsmore-twin-twin-bunk-bed',\n '/products/drakestone-rocker-recliner',\n '/products/envy-13-3-full-hd-intel-core-i5-1035g1-8gb-sdram-256gb-ssd',\n '/products/flaybern-counter-extension-table',\n '/products/flaybern-dining-room-server',\n '/products/flaybern-dining-room-side-chair',\n '/products/freimore-dining-room-table-set',\n '/products/fridgecam-wireless-camera',\n '/products/giga-system-w-dj-effects-mic-input-karaoke',\n '/products/huey-vineyard-full-bed-frame',\n '/products/hyland-dining-room-table-set',\n '/products/juararo-five-drawer-chest',\n '/products/nashburg-full-metal-bedframe-1',\n '/products/odium-dining-room-counter-table-set',\n '/products/paxberry-queen-platform-bed',\n '/products/realyn-queen-bed-frame',\n '/products/realyn-vanity',\n '/products/samsung-32led-hdtv-720p-60hz',\n '/products/shawburn-one-drawer-nightstand',\n '/products/spin-1-11-6-hd-touch-intel-pentium-4gb-lpddr4-64gb-emmc',\n '/products/whitesburg-round-table-top',\n '/products/woodanville-dining-room-table-set',\n '/search'}"
     },
     "execution_count": 18,
     "metadata": {},
     "output_type": "execute_result"
    }
   ],
   "source": [
    "ll"
   ],
   "metadata": {
    "collapsed": false,
    "ExecuteTime": {
     "end_time": "2024-04-07T13:34:00.443226500Z",
     "start_time": "2024-04-07T13:34:00.366572500Z"
    }
   },
   "id": "49bb70ff142b2301"
  },
  {
   "cell_type": "code",
   "execution_count": 19,
   "outputs": [],
   "source": [
    "role_message = \"\"\"You will be given a numbered list of internal links. Some of them link to item catalogues. Your task is to find the links that lead to item catalogues and return their numbers. Return a JSON that contains only the numbers.\"\"\"\n",
    "\n",
    "formatted_list = \"\\n\".join([f\"{i + 1}. {link}\" for i, link in enumerate(ll)])\n",
    "\n",
    "full_prompt = ChatPromptTemplate.from_messages([(\"system\", role_message), (\"human\", formatted_list)])\n"
   ],
   "metadata": {
    "collapsed": false,
    "ExecuteTime": {
     "end_time": "2024-04-07T13:34:47.017674100Z",
     "start_time": "2024-04-07T13:34:46.987678400Z"
    }
   },
   "id": "a140ecb21d16ad8f"
  },
  {
   "cell_type": "code",
   "execution_count": 20,
   "outputs": [
    {
     "data": {
      "text/plain": "AIMessage(content='```json\\n{\\n    \"catalogue_links\": [\\n        1,\\n        5,\\n        6,\\n        7,\\n        8,\\n        9,\\n        10,\\n        12,\\n        13,\\n        16,\\n        17,\\n        19,\\n        20,\\n        21,\\n        23,\\n        25,\\n        27,\\n        29,\\n        30,\\n        34,\\n        35,\\n        37,\\n        38,\\n        41,\\n        42,\\n        45,\\n        49\\n    ]\\n}\\n```  ', response_metadata={'token_usage': {'completion_tokens': 124, 'prompt_tokens': 735, 'total_tokens': 859}, 'model_name': 'gpt-3.5-turbo-0125', 'system_fingerprint': 'fp_b28b39ffa8', 'finish_reason': 'stop', 'logprobs': None}, id='run-6cc749bc-573b-4d31-977d-0e56022cd9af-0')"
     },
     "execution_count": 20,
     "metadata": {},
     "output_type": "execute_result"
    }
   ],
   "source": [
    "res_o = (full_prompt | basic_llm).invoke({})\n",
    "res_o"
   ],
   "metadata": {
    "collapsed": false,
    "ExecuteTime": {
     "end_time": "2024-04-07T13:35:01.068411200Z",
     "start_time": "2024-04-07T13:34:58.711896900Z"
    }
   },
   "id": "e9248d32c0ab0d1a"
  },
  {
   "cell_type": "code",
   "execution_count": 21,
   "outputs": [],
   "source": [
    "def get_prompt_for_links_list(ll):\n",
    "    role_message = \"\"\"You will be given a numbered list of internal links. Some of them link to item catalogues. Your task is to find the links that lead to item catalogues and return their numbers. Return a JSON that contains only the numbers.\"\"\"\n",
    "\n",
    "    example_input = \"\"\"1. /clothing/men\n",
    "    2. /about\n",
    "    3. /deals/item-catalogue\n",
    "    4. /contact-us\"\"\"\n",
    "\n",
    "    example_output = \"\"\"{{\"catalogue_links\": [1, 3]}}\"\"\"\n",
    "\n",
    "    formatted_list = \"\\n\".join([f\"{i + 1}. {link}\" for i, link in enumerate(ll)])\n",
    "\n",
    "    messages = [(\"system\", role_message), (\"human\", example_input), (\"ai\", example_output), (\"human\", formatted_list)]\n",
    "    messages = [(role, trim_extra_whitespace(message)) for role, message in messages]\n",
    "\n",
    "    full_prompt = ChatPromptTemplate.from_messages(messages)\n",
    "    return full_prompt\n"
   ],
   "metadata": {
    "collapsed": false,
    "ExecuteTime": {
     "end_time": "2024-04-07T14:59:47.374102300Z",
     "start_time": "2024-04-07T14:59:47.339110900Z"
    }
   },
   "id": "e17493371432f6b5"
  },
  {
   "cell_type": "code",
   "execution_count": 33,
   "outputs": [],
   "source": [
    "def get_prompt_for_links_regexp(ll):\n",
    "    role_message = \"\"\"You will be given a numbered list of internal links from a web store or marketplace website. Your task is to analyze these links and identify which of them lead to product listing pages (PLPs) or category pages. These are pages designed to list multiple products, either by brand or category, often for the purposes of browsing or making a selection. The links to these pages are crucial for understanding the structure and navigational layout of the site. Return only a Python-style regular expression (regexp) pattern that could be used to distinguish these PLP or category links from others.\"\"\"\n",
    "\n",
    "    example_input = \"\"\"1. /bedroom/cabinets/room-type.aspx\n",
    "2. /terms-conditions.inc\n",
    "3. /southern-motion/brand-type.aspx\n",
    "4. /designcenter.inc\n",
    "5. /office-furniture/desks/category-type.aspx\n",
    "6. /homepage.aspx?logout=true\n",
    "7. /living-room/chaises/room-type.aspx\n",
    "8. /brand/john-thomas/\n",
    "9. /in-home-design-staging.inc\"\"\"\n",
    "\n",
    "    example_output = \"\\/(room-type|brand-type|category-type)\\.aspx\"\n",
    "\n",
    "    formatted_list = \"\\n\".join([f\"{i + 1}. {link}\" for i, link in enumerate(ll)])\n",
    "\n",
    "    messages = [(\"system\", role_message), (\"human\", example_input), (\"ai\", example_output), (\"human\", formatted_list)]\n",
    "    messages = [(role, trim_extra_whitespace(message)) for role, message in messages]\n",
    "\n",
    "    full_prompt = ChatPromptTemplate.from_messages(messages)\n",
    "    return full_prompt\n"
   ],
   "metadata": {
    "collapsed": false,
    "ExecuteTime": {
     "end_time": "2024-04-07T15:06:50.267232400Z",
     "start_time": "2024-04-07T15:06:50.216213200Z"
    }
   },
   "id": "457679af3d462ed9"
  },
  {
   "cell_type": "code",
   "execution_count": 34,
   "outputs": [],
   "source": [
    "full_prompt_regexp = get_prompt_for_links_regexp(ll)"
   ],
   "metadata": {
    "collapsed": false,
    "ExecuteTime": {
     "end_time": "2024-04-07T15:06:56.875991300Z",
     "start_time": "2024-04-07T15:06:56.823242200Z"
    }
   },
   "id": "fbd57bea2c948e84"
  },
  {
   "cell_type": "code",
   "execution_count": 35,
   "outputs": [
    {
     "data": {
      "text/plain": "AIMessage(content='\\\\/products\\\\/[\\\\w-]+', response_metadata={'token_usage': {'completion_tokens': 7, 'prompt_tokens': 915, 'total_tokens': 922}, 'model_name': 'gpt-3.5-turbo-0125', 'system_fingerprint': 'fp_b28b39ffa8', 'finish_reason': 'stop', 'logprobs': None}, id='run-12481723-724f-4821-b225-5da296046bf0-0')"
     },
     "execution_count": 35,
     "metadata": {},
     "output_type": "execute_result"
    }
   ],
   "source": [
    "res_o = (full_prompt_regexp | basic_llm).invoke({})\n",
    "res_o"
   ],
   "metadata": {
    "collapsed": false,
    "ExecuteTime": {
     "end_time": "2024-04-07T15:07:00.586489800Z",
     "start_time": "2024-04-07T15:06:59.165122Z"
    }
   },
   "id": "93fc5bd474dc552c"
  },
  {
   "cell_type": "code",
   "execution_count": 36,
   "outputs": [
    {
     "data": {
      "text/plain": "AIMessage(content='\"\\\\/(products|collections)\\\\/\"', response_metadata={'token_usage': {'completion_tokens': 9, 'prompt_tokens': 915, 'total_tokens': 924}, 'model_name': 'gpt-4', 'system_fingerprint': None, 'finish_reason': 'stop', 'logprobs': None}, id='run-ae88b708-315d-4bc7-bc8d-c709a9087e53-0')"
     },
     "execution_count": 36,
     "metadata": {},
     "output_type": "execute_result"
    }
   ],
   "source": [
    "res_o_smart = (full_prompt_regexp | smart_llm).invoke({})\n",
    "res_o_smart"
   ],
   "metadata": {
    "collapsed": false,
    "ExecuteTime": {
     "end_time": "2024-04-07T15:07:11.498473700Z",
     "start_time": "2024-04-07T15:07:09.677069500Z"
    }
   },
   "id": "a4b1fa33ecd5860b"
  },
  {
   "cell_type": "code",
   "execution_count": 56,
   "outputs": [
    {
     "name": "stdout",
     "output_type": "stream",
     "text": [
      "/(products|collections)/\n"
     ]
    }
   ],
   "source": [
    "regex_string = res_o_smart.content\n",
    "\n",
    "# Convert to a proper regex pattern (note: removing unnecessary escapes)\n",
    "# Since we're dealing with Python, we don't need to escape forward slashes.\n",
    "pattern = regex_string.replace(\"\\\\/\", \"/\").strip(\"\\\"\")\n",
    "print(pattern)\n",
    "regex = re.compile(pattern)\n",
    "\n",
    "links_that_pass = [link for link in ll if regex.match(link)]\n",
    "links_that_fail = [link for link in ll if not regex.match(link)]\n"
   ],
   "metadata": {
    "collapsed": false,
    "ExecuteTime": {
     "end_time": "2024-04-07T15:14:13.875077500Z",
     "start_time": "2024-04-07T15:14:13.839078900Z"
    }
   },
   "id": "53743b6b548002de"
  },
  {
   "cell_type": "code",
   "execution_count": 60,
   "outputs": [],
   "source": [
    "def get_diverse_sample(links_list, n=3):\n",
    "    if len(links_list) <= n:\n",
    "        return links_list\n",
    "\n",
    "    result = set()\n",
    "    result.add(random.sample(links_list, 1)[0])\n",
    "\n",
    "    for i in range((n + 1) ** 2):\n",
    "        candidates = []\n",
    "        for link in links_list:\n",
    "            if any(link.startswith(r[:3]) for r in result):\n",
    "                continue\n",
    "            candidates.append(link)\n",
    "        if len(candidates) == 0:\n",
    "            candidates = links_list\n",
    "\n",
    "        better_candidates = []\n",
    "\n",
    "        for candidate in candidates:\n",
    "            if any(candidate.endswith(r[-3:]) for r in result):\n",
    "                continue\n",
    "            better_candidates.append(candidate)\n",
    "        if len(better_candidates) == 0:\n",
    "            better_candidates = candidates\n",
    "\n",
    "        result.add(random.sample(better_candidates, 1)[0])\n",
    "        if len(result) == n:\n",
    "            return list(result)\n",
    "\n"
   ],
   "metadata": {
    "collapsed": false,
    "ExecuteTime": {
     "end_time": "2024-04-07T15:20:02.060785800Z",
     "start_time": "2024-04-07T15:20:01.998786400Z"
    }
   },
   "id": "75e996bc6fc534d"
  },
  {
   "cell_type": "code",
   "execution_count": 63,
   "outputs": [],
   "source": [
    "diverse_links = get_diverse_sample(links_that_pass)"
   ],
   "metadata": {
    "collapsed": false,
    "ExecuteTime": {
     "end_time": "2024-04-07T17:30:20.785382300Z",
     "start_time": "2024-04-07T17:30:20.748113400Z"
    }
   },
   "id": "6474f8638e353412"
  },
  {
   "cell_type": "code",
   "execution_count": 69,
   "outputs": [],
   "source": [
    "import requests\n",
    "\n",
    "for link in diverse_links:\n",
    "    full_link = \"https://\" + root_url + link\n",
    "    filepath = (data_dir / root_url / link.lstrip(\"/\").replace(\"/\", \"_\")).with_suffix(\".html\")\n",
    "    filepath.parent.mkdir(exist_ok=True, parents=True)\n",
    "    try:\n",
    "        res = requests.get(full_link)\n",
    "        if res.ok:\n",
    "            with open(filepath, \"w\", encoding=\"utf-8\") as f:\n",
    "                f.write(res.text)\n",
    "        else:\n",
    "            with open(failed_dir / (link + \".html\"), \"w\", encoding=\"utf-8\") as f:\n",
    "                f.write(res.text)\n",
    "    except Exception as e:\n",
    "        print(e)"
   ],
   "metadata": {
    "collapsed": false,
    "ExecuteTime": {
     "end_time": "2024-04-07T17:32:19.861851600Z",
     "start_time": "2024-04-07T17:32:17.563847200Z"
    }
   },
   "id": "1a132aeb9ab54e3c"
  },
  {
   "cell_type": "code",
   "execution_count": 71,
   "outputs": [],
   "source": [
    "item_candidate_links = []\n",
    "for fp in data_dir.glob(f\"{root_url}/*.html\"):\n",
    "    with open(fp, \"r\", encoding=\"utf-8\") as f:\n",
    "        html_text = f.read()\n",
    "    ll = get_links_from_html(html_text, root_url=root_url)\n",
    "    item_candidate_links.extend(ll)\n",
    "\n",
    "item_candidate_links = list(set(item_candidate_links))\n"
   ],
   "metadata": {
    "collapsed": false,
    "ExecuteTime": {
     "end_time": "2024-04-07T17:34:11.911319900Z",
     "start_time": "2024-04-07T17:34:11.830270900Z"
    }
   },
   "id": "6d0283ee5f80b62b"
  },
  {
   "cell_type": "code",
   "execution_count": 73,
   "outputs": [
    {
     "data": {
      "text/plain": "['',\n '/pages/contact-us',\n '/pages/careers',\n '/collections/bedroom/dressers',\n '/collections/tables-chairs/products/flaybern-dining-room-bench',\n '/collections/outdoor/patio',\n '/collections/appliances/washer-dryer',\n '/collections/bedroom/mattresses',\n '/collections/home-office',\n '/collections/home-office/desk-chairs',\n '/pages/payments',\n '/collections/living-room/tv-stand',\n '/collections/electronics/TV',\n '/collections/living-room/accent-bench',\n '/collections/tables-chairs/products/flaybern-dining-room-side-chair',\n '/collections/appliances',\n '/collections/tables-chairs/products/stool',\n '/collections/appliances/stove',\n '/pages/shipping-information',\n '/collections/tables-chairs/products/caitbrook-barstool',\n '/collections/bedroom',\n '/collections/living-room/loveseat',\n '/collections/dining-room/dining-chair',\n '/collections/living-room/sidetable',\n '/collections/home-decor',\n '/pages/about-us',\n '/search',\n '/collections/living-room/lighting',\n '/collections/outdoor',\n '/collections/living-room/sofas',\n '/collections/bedroom/nightstands',\n '/collections/tables-chairs/products/whitesburg-side-chair',\n '/',\n '/collections/living-room/living-room',\n '/collections/bedroom/bedding',\n '/collections/outdoor/grill',\n '/collections/tables-chairs/products/whitesburg-round-table-top',\n '/collections/dining-room/dining-set',\n '/policies/privacy-policy',\n '/collections/dining-room',\n '/collections/appliances/washer',\n '/collections/electronics',\n '/collections/living-room/coffeetable',\n '/collections/appliances/refrigeration',\n '/policies/terms-of-service',\n '/collections/tables-chairs/products/whitesburg-large-dining-room-bench',\n '/collections/bedroom/bed-frames',\n '/collections/dining-room/sideboard',\n '/collections/living-room/recliner',\n '/cart',\n '/collections/all',\n '/collections/living-room/accent-chair',\n '/collections/dining-room/dining-table',\n '/collections/appliances/dryer',\n '/collections/home-office/desks',\n '/#how-it-works',\n '/collections/electronics/laptop']"
     },
     "execution_count": 73,
     "metadata": {},
     "output_type": "execute_result"
    }
   ],
   "source": [
    "item_candidate_links"
   ],
   "metadata": {
    "collapsed": false,
    "ExecuteTime": {
     "end_time": "2024-04-07T17:34:29.022735500Z",
     "start_time": "2024-04-07T17:34:28.984621800Z"
    }
   },
   "id": "fd778a195a2fbd07"
  },
  {
   "cell_type": "code",
   "execution_count": 74,
   "outputs": [],
   "source": [
    "def get_prompt_for_product_links_regexp(ll):\n",
    "    role_message = \"\"\"You will be given a numbered list of internal links from a web store or marketplace website. Your task is to analyze these links and identify which of them lead to Product Detail Pages (PDPs). PDPs are pages dedicated to presenting detailed information about a single product, including but not limited to its price, features, descriptions, customer reviews, and purchase options. Return only a Python-style regular expression (regexp) pattern that could be used to distinguish these PDP links from others.\"\"\"\n",
    "\n",
    "    example_input = \"\"\"1. /bedroom/cabinets/room-type.aspx\n",
    "2. /terms-conditions.inc\n",
    "3. /southern-motion/brand-type.aspx\n",
    "4. /designcenter.inc\n",
    "5. /office-furniture/desks/category-type.aspx\n",
    "6. /homepage.aspx?logout=true\n",
    "7. /living-room/chaises/room-type.aspx\n",
    "8. /brand/john-thomas/\n",
    "9. /in-home-design-staging.inc\"\"\"\n",
    "\n",
    "    example_output = \"\\/(room-type|brand-type|category-type)\\.aspx\"\n",
    "\n",
    "    formatted_list = \"\\n\".join([f\"{i + 1}. {link}\" for i, link in enumerate(ll)])\n",
    "\n",
    "    messages = [(\"system\", role_message), (\"human\", example_input), (\"ai\", example_output), (\"human\", formatted_list)]\n",
    "    messages = [(role, trim_extra_whitespace(message)) for role, message in messages]\n",
    "\n",
    "    full_prompt = ChatPromptTemplate.from_messages(messages)\n",
    "    return full_prompt\n"
   ],
   "metadata": {
    "collapsed": false,
    "ExecuteTime": {
     "end_time": "2024-04-07T17:38:05.136529500Z",
     "start_time": "2024-04-07T17:38:05.077148900Z"
    }
   },
   "id": "9a71306def16a2f0"
  },
  {
   "cell_type": "code",
   "execution_count": 75,
   "outputs": [
    {
     "data": {
      "text/plain": "AIMessage(content='\\\\/collections\\\\/[\\\\w-]+\\\\/products\\\\/[\\\\w-]+', response_metadata={'token_usage': {'completion_tokens': 14, 'prompt_tokens': 804, 'total_tokens': 818}, 'model_name': 'gpt-4', 'system_fingerprint': None, 'finish_reason': 'stop', 'logprobs': None}, id='run-55359b2f-b639-4f83-99ee-67fa6a9d0257-0')"
     },
     "execution_count": 75,
     "metadata": {},
     "output_type": "execute_result"
    }
   ],
   "source": [
    "prompt = get_prompt_for_product_links_regexp(item_candidate_links)\n",
    "res_o_smart = (prompt | smart_llm).invoke({})\n",
    "\n",
    "res_o_smart"
   ],
   "metadata": {
    "collapsed": false,
    "ExecuteTime": {
     "end_time": "2024-04-07T17:38:30.605690200Z",
     "start_time": "2024-04-07T17:38:28.948475500Z"
    }
   },
   "id": "a859e7b760682368"
  },
  {
   "cell_type": "code",
   "execution_count": 76,
   "outputs": [],
   "source": [
    "def get_regexp_from_llm_answer(llm_answer: AIMessage):\n",
    "    regex_string = llm_answer.content\n",
    "\n",
    "    # Convert to a proper regex pattern (note: removing unnecessary escapes)\n",
    "    # Since we're dealing with Python, we don't need to escape forward slashes.\n",
    "    pattern = regex_string.replace(\"\\\\/\", \"/\").strip('\"')\n",
    "\n",
    "    return pattern\n"
   ],
   "metadata": {
    "collapsed": false,
    "ExecuteTime": {
     "end_time": "2024-04-07T17:42:39.470110800Z",
     "start_time": "2024-04-07T17:42:39.448112300Z"
    }
   },
   "id": "e6a1830f9eadb4f8"
  },
  {
   "cell_type": "code",
   "execution_count": 77,
   "outputs": [],
   "source": [
    "pattern = get_regexp_from_llm_answer(res_o_smart)"
   ],
   "metadata": {
    "collapsed": false,
    "ExecuteTime": {
     "end_time": "2024-04-07T17:42:46.534930Z",
     "start_time": "2024-04-07T17:42:46.497370200Z"
    }
   },
   "id": "ae797d13c31ac9f3"
  },
  {
   "cell_type": "code",
   "execution_count": 78,
   "outputs": [],
   "source": [
    "links_that_pass = [link for link in item_candidate_links if re.match(pattern, link)]\n",
    "links_that_fail = [link for link in item_candidate_links if not re.match(pattern, link)]\n",
    "\n",
    "text = f\"\"\"\n",
    "Passed links:\n",
    "{newline.join(links_that_pass)}\n",
    "\n",
    "Failed links:\n",
    "{newline.join(links_that_fail)}\n",
    "\"\"\""
   ],
   "metadata": {
    "collapsed": false,
    "ExecuteTime": {
     "end_time": "2024-04-07T17:43:10.621510500Z",
     "start_time": "2024-04-07T17:43:10.585512800Z"
    }
   },
   "id": "e0a4f7b206bd7be5"
  },
  {
   "cell_type": "code",
   "execution_count": 79,
   "outputs": [],
   "source": [
    "clipboard_copy(text)"
   ],
   "metadata": {
    "collapsed": false,
    "ExecuteTime": {
     "end_time": "2024-04-07T17:43:14.106473700Z",
     "start_time": "2024-04-07T17:43:14.027754Z"
    }
   },
   "id": "a1e5dc92eb565893"
  },
  {
   "cell_type": "code",
   "execution_count": null,
   "outputs": [],
   "source": [],
   "metadata": {
    "collapsed": false
   },
   "id": "1bafd280114ebc71"
  },
  {
   "cell_type": "code",
   "execution_count": 57,
   "outputs": [],
   "source": [
    "newline = \"\\n\"\n",
    "\n",
    "text = f\"\"\"\n",
    "Passed links:\n",
    "{newline.join(links_that_pass)}\n",
    "\n",
    "Failed links:\n",
    "{newline.join(links_that_fail)}\n",
    "\"\"\""
   ],
   "metadata": {
    "collapsed": false,
    "ExecuteTime": {
     "end_time": "2024-04-07T15:14:14.410587Z",
     "start_time": "2024-04-07T15:14:14.332587700Z"
    }
   },
   "id": "c516bf47004cd003"
  },
  {
   "cell_type": "code",
   "execution_count": 54,
   "outputs": [],
   "source": [
    "clipboard_copy(text)"
   ],
   "metadata": {
    "collapsed": false,
    "ExecuteTime": {
     "end_time": "2024-04-07T15:14:00.412988400Z",
     "start_time": "2024-04-07T15:14:00.310475Z"
    }
   },
   "id": "c87d5867cfefdde5"
  },
  {
   "cell_type": "code",
   "execution_count": 55,
   "outputs": [
    {
     "data": {
      "text/plain": "<re.Match object; span=(0, 10), match='/products/'>"
     },
     "execution_count": 55,
     "metadata": {},
     "output_type": "execute_result"
    }
   ],
   "source": [
    "qq = regex.search(\"/products/brickwell-storage-bench\")\n",
    "\n",
    "qq"
   ],
   "metadata": {
    "collapsed": false,
    "ExecuteTime": {
     "end_time": "2024-04-07T15:14:00.872313100Z",
     "start_time": "2024-04-07T15:14:00.563671900Z"
    }
   },
   "id": "72f2018a8dca9fd3"
  },
  {
   "cell_type": "code",
   "execution_count": 51,
   "outputs": [
    {
     "data": {
      "text/plain": "re.compile(r'\"/(products|collections)/\"', re.UNICODE)"
     },
     "execution_count": 51,
     "metadata": {},
     "output_type": "execute_result"
    }
   ],
   "source": [
    "regex"
   ],
   "metadata": {
    "collapsed": false,
    "ExecuteTime": {
     "end_time": "2024-04-07T15:13:41.594472400Z",
     "start_time": "2024-04-07T15:13:41.555475400Z"
    }
   },
   "id": "b996329813b90fba"
  },
  {
   "cell_type": "code",
   "execution_count": null,
   "outputs": [],
   "source": [],
   "metadata": {
    "collapsed": false
   },
   "id": "5148513980339ad3"
  },
  {
   "cell_type": "code",
   "execution_count": null,
   "outputs": [],
   "source": [],
   "metadata": {
    "collapsed": false
   },
   "id": "a1d0ddf4cc2cda05"
  },
  {
   "cell_type": "code",
   "execution_count": null,
   "outputs": [],
   "source": [],
   "metadata": {
    "collapsed": false
   },
   "id": "d875bf3a89d8c72a"
  },
  {
   "cell_type": "code",
   "execution_count": null,
   "outputs": [],
   "source": [],
   "metadata": {
    "collapsed": false
   },
   "id": "84e56a3c47573f50"
  },
  {
   "cell_type": "code",
   "execution_count": null,
   "outputs": [],
   "source": [],
   "metadata": {
    "collapsed": false
   },
   "id": "ee610ba76061a16a"
  },
  {
   "cell_type": "code",
   "execution_count": 27,
   "outputs": [],
   "source": [
    "full_prompt_list = get_prompt_for_links_list(ll)"
   ],
   "metadata": {
    "collapsed": false,
    "ExecuteTime": {
     "end_time": "2024-04-07T15:01:07.219519900Z",
     "start_time": "2024-04-07T15:01:07.186521400Z"
    }
   },
   "id": "5aa8feeff4b25018"
  },
  {
   "cell_type": "code",
   "execution_count": 28,
   "outputs": [
    {
     "data": {
      "text/plain": "AIMessage(content='{\"catalogue_links\": [1, 5, 6, 7, 8, 9, 10, 12, 13, 16, 17, 19, 20, 21, 22, 25, 27, 29, 30, 34, 35, 36, 38, 41, 42, 45, 49]}', response_metadata={'token_usage': {'completion_tokens': 86, 'prompt_tokens': 781, 'total_tokens': 867}, 'model_name': 'gpt-3.5-turbo-0125', 'system_fingerprint': 'fp_b28b39ffa8', 'finish_reason': 'stop', 'logprobs': None}, id='run-ddf5e428-9b6c-40aa-bcb1-8ec8447b92e9-0')"
     },
     "execution_count": 28,
     "metadata": {},
     "output_type": "execute_result"
    }
   ],
   "source": [
    "res_o = (full_prompt_list | basic_llm).invoke({})\n",
    "res_o"
   ],
   "metadata": {
    "collapsed": false,
    "ExecuteTime": {
     "end_time": "2024-04-07T15:01:17.900749600Z",
     "start_time": "2024-04-07T15:01:15.886502800Z"
    }
   },
   "id": "142430b7aa1b168c"
  },
  {
   "cell_type": "code",
   "execution_count": 29,
   "outputs": [
    {
     "data": {
      "text/plain": "AIMessage(content='{\"catalogue_links\": [1, 3, 5, 6, 7, 8, 9, 10, 11, 12, 13, 15, 16, 17, 18, 19, 20, 21, 22, 23, 24, 25, 27, 29, 30, 32, 34, 35, 36, 37, 38, 39, 41, 42, 44, 45, 47, 48, 49]}', response_metadata={'id': 'msg_019Z3zN35EiU3DimGgNxni6Y', 'content': [ContentBlock(text='{\"catalogue_links\": [1, 3, 5, 6, 7, 8, 9, 10, 11, 12, 13, 15, 16, 17, 18, 19, 20, 21, 22, 23, 24, 25, 27, 29, 30, 32, 34, 35, 36, 37, 38, 39, 41, 42, 44, 45, 47, 48, 49]}', type='text')], 'model': 'claude-3-haiku-20240307', 'role': 'assistant', 'stop_reason': 'end_turn', 'stop_sequence': None, 'type': 'message', 'usage': Usage(input_tokens=888, output_tokens=125)}, id='run-a83141aa-6811-42cb-bd20-1516eacee3b2-0')"
     },
     "execution_count": 29,
     "metadata": {},
     "output_type": "execute_result"
    }
   ],
   "source": [
    "res_a = (full_prompt_list | basic_llm_claude).invoke({})\n",
    "res_a"
   ],
   "metadata": {
    "collapsed": false,
    "ExecuteTime": {
     "end_time": "2024-04-07T15:01:55.519001900Z",
     "start_time": "2024-04-07T15:01:53.554865Z"
    }
   },
   "id": "1a6f6582db9de4b3"
  },
  {
   "cell_type": "code",
   "execution_count": 30,
   "outputs": [
    {
     "data": {
      "text/plain": "AIMessage(content='{\"catalogue_links\": [1, 5, 6, 7, 8, 9, 10, 11, 12, 13, 15, 16, 17, 18, 19, 20, 21, 22, 23, 24, 25, 27, 28, 29, 30, 32, 34, 35, 36, 37, 38, 39, 41, 42, 44, 45, 47, 48, 49, 51, 52]}', response_metadata={'token_usage': {'completion_tokens': 128, 'prompt_tokens': 781, 'total_tokens': 909}, 'model_name': 'gpt-4', 'system_fingerprint': None, 'finish_reason': 'stop', 'logprobs': None}, id='run-7d06d8b2-df59-4719-9f25-1c9798e8c869-0')"
     },
     "execution_count": 30,
     "metadata": {},
     "output_type": "execute_result"
    }
   ],
   "source": [
    "res_o_smart = (full_prompt_list | smart_llm).invoke({})\n",
    "res_o_smart"
   ],
   "metadata": {
    "collapsed": false,
    "ExecuteTime": {
     "end_time": "2024-04-07T15:02:40.401399200Z",
     "start_time": "2024-04-07T15:02:33.718989Z"
    }
   },
   "id": "b32fa8bf72642092"
  },
  {
   "cell_type": "code",
   "execution_count": null,
   "outputs": [],
   "source": [],
   "metadata": {
    "collapsed": false
   },
   "id": "92fe722c1617dc3f"
  },
  {
   "cell_type": "code",
   "execution_count": null,
   "outputs": [],
   "source": [],
   "metadata": {
    "collapsed": false
   },
   "id": "881c9c89e45c071"
  },
  {
   "cell_type": "code",
   "execution_count": 25,
   "outputs": [],
   "source": [
    "clipboard_copy(formatted_list)"
   ],
   "metadata": {
    "collapsed": false,
    "ExecuteTime": {
     "end_time": "2024-04-07T15:00:21.169551600Z",
     "start_time": "2024-04-07T15:00:21.030526200Z"
    }
   },
   "id": "ddac2d9139666662"
  },
  {
   "cell_type": "code",
   "execution_count": null,
   "outputs": [],
   "source": [],
   "metadata": {
    "collapsed": false
   },
   "id": "f510fcc3907be928"
  },
  {
   "cell_type": "code",
   "execution_count": 114,
   "outputs": [],
   "source": [
    "from bs4 import BeautifulSoup\n",
    "from collections import Counter\n",
    "\n",
    "\n",
    "def is_lowest_level_tag(tag, excluded_tags):\n",
    "    # A tag is the lowest level if it doesn't contain other tags with text,\n",
    "    # excluding specific tags as defined.\n",
    "    return not any(\n",
    "        child\n",
    "        for child in tag.descendants\n",
    "        if child.name and child != tag and child.name not in excluded_tags and child.get_text(strip=True)\n",
    "    )\n",
    "\n",
    "\n",
    "def collect_text_heavy_tags(html, excluded_tags=None):\n",
    "    if excluded_tags is None:\n",
    "        excluded_tags = {\n",
    "            \"a\",\n",
    "            \"b\",\n",
    "            \"button\",\n",
    "            \"h1\",\n",
    "            \"p\",\n",
    "            \"script\",\n",
    "            \"span\",\n",
    "            \"strong\",\n",
    "            \"style\",\n",
    "            \"title\",\n",
    "        }  # Tags generally to be excluded\n",
    "    soup = BeautifulSoup(html, \"html.parser\")\n",
    "    tags_with_text = defaultdict(list)\n",
    "\n",
    "    for tag in soup.find_all(True):\n",
    "        if tag.name in excluded_tags:\n",
    "            continue  # Skip excluded tags early\n",
    "        tag_text = tag.get_text(strip=True)\n",
    "        if is_lowest_level_tag(tag, excluded_tags) and len(tag_text) >= 20:\n",
    "            # Use tag name and class as key if class exists, otherwise just tag name\n",
    "            if tag.has_attr(\"class\"):\n",
    "                key = f\"{tag.name} ({' '.join(tag['class'])})\"\n",
    "            else:\n",
    "                key = tag.name\n",
    "\n",
    "            tags_with_text[key].append(tag)\n",
    "\n",
    "    return tags_with_text\n",
    "\n",
    "\n",
    "def collect_texts_by_class_from_tags(html):\n",
    "    # Placeholder for the modified collect_lowest_level_tags_with_substantial_text function\n",
    "    # This version is assumed to return a dict with class names as keys and lists of tag objects as values\n",
    "    substantial_tags = collect_text_heavy_tags(html)\n",
    "\n",
    "    texts_by_class = {}\n",
    "    for class_name, tags in substantial_tags.items():\n",
    "        # Initialize or extend the list of texts for the class name\n",
    "        texts_by_class.setdefault(class_name, [])\n",
    "        for tag in tags:\n",
    "            texts_by_class[class_name].append(tag.get_text(strip=True))\n",
    "\n",
    "    return texts_by_class\n",
    "\n",
    "# \n",
    "# # Collect and print tags with substantial text\n",
    "# substantial_tag_counts = collect_lowest_level_tags_with_substantial_text(html_text)\n",
    "# texts_by_class = collect_texts_by_class_from_tags(html_text)\n"
   ],
   "metadata": {
    "collapsed": false,
    "ExecuteTime": {
     "end_time": "2024-04-07T19:00:06.033213Z",
     "start_time": "2024-04-07T19:00:05.962088400Z"
    }
   },
   "id": "16505cd03a1ee004"
  },
  {
   "cell_type": "code",
   "execution_count": 115,
   "outputs": [
    {
     "name": "stdout",
     "output_type": "stream",
     "text": [
      "collections_tables-chairs\n",
      "products_abney-swivel-accent-chair\n"
     ]
    }
   ],
   "source": [
    "texts_by_class_global = defaultdict(list)\n",
    "\n",
    "for fp in (data_dir / root_url).glob(\"*.html\"):\n",
    "    print(fp.stem)\n",
    "    with open(fp, \"r\", encoding=\"utf-8\") as f:\n",
    "        html_text = f.read()\n",
    "    texts_by_class = collect_texts_by_class_from_tags(html_text)\n",
    "    if \"accent-chair\" in fp.stem:\n",
    "        break\n",
    "\n",
    "    for k, v in texts_by_class.items():\n",
    "        texts_by_class_global[k].extend(v)\n",
    "\n",
    "\n",
    "# misses some info for now, not just for \"content\""
   ],
   "metadata": {
    "collapsed": false,
    "ExecuteTime": {
     "end_time": "2024-04-07T19:00:06.817692300Z",
     "start_time": "2024-04-07T19:00:06.743581700Z"
    }
   },
   "id": "5ffab8b590eb4b26"
  },
  {
   "cell_type": "code",
   "execution_count": 123,
   "outputs": [
    {
     "data": {
      "text/plain": "'ahfshop.com'"
     },
     "execution_count": 123,
     "metadata": {},
     "output_type": "execute_result"
    }
   ],
   "source": [
    "root_url"
   ],
   "metadata": {
    "collapsed": false,
    "ExecuteTime": {
     "end_time": "2024-04-07T20:27:45.481649600Z",
     "start_time": "2024-04-07T20:27:45.390618400Z"
    }
   },
   "id": "2e3ee1c8fadb02f"
  },
  {
   "cell_type": "code",
   "execution_count": 101,
   "outputs": [
    {
     "data": {
      "text/plain": "dict_keys(['script', 'script (analytics)', 'script (boomerang)', 'h2', 'a', 'style'])"
     },
     "execution_count": 101,
     "metadata": {},
     "output_type": "execute_result"
    }
   ],
   "source": [
    "texts_by_class_global.keys()"
   ],
   "metadata": {
    "collapsed": false,
    "ExecuteTime": {
     "end_time": "2024-04-07T18:52:13.078796400Z",
     "start_time": "2024-04-07T18:52:13.015247900Z"
    }
   },
   "id": "99a897c446d84a78"
  },
  {
   "cell_type": "code",
   "execution_count": 108,
   "outputs": [
    {
     "data": {
      "text/plain": "dict_keys(['title', 'h1 (product__title)', 'strong', 'p', 'div (tabs__list)', 'b', 'p (help)', 'li (orangecolor)', 'div (col-md-12)', 'li'])"
     },
     "execution_count": 108,
     "metadata": {},
     "output_type": "execute_result"
    }
   ],
   "source": [
    "texts_by_class.keys()"
   ],
   "metadata": {
    "collapsed": false,
    "ExecuteTime": {
     "end_time": "2024-04-07T18:58:38.953537600Z",
     "start_time": "2024-04-07T18:58:38.891943200Z"
    }
   },
   "id": "3b31d1053a46f2ff"
  },
  {
   "cell_type": "code",
   "execution_count": 109,
   "outputs": [
    {
     "ename": "TypeError",
     "evalue": "is_lowest_level_tag() missing 1 required positional argument: 'excluded_tags'",
     "output_type": "error",
     "traceback": [
      "\u001B[1;31m---------------------------------------------------------------------------\u001B[0m",
      "\u001B[1;31mTypeError\u001B[0m                                 Traceback (most recent call last)",
      "Cell \u001B[1;32mIn[109], line 1\u001B[0m\n\u001B[1;32m----> 1\u001B[0m substantial_tags \u001B[38;5;241m=\u001B[39m \u001B[43mcollect_lowest_level_tags_with_substantial_text\u001B[49m\u001B[43m(\u001B[49m\u001B[43mhtml_text\u001B[49m\u001B[43m)\u001B[49m\n",
      "Cell \u001B[1;32mIn[99], line 15\u001B[0m, in \u001B[0;36mcollect_lowest_level_tags_with_substantial_text\u001B[1;34m(html)\u001B[0m\n\u001B[0;32m     12\u001B[0m tags_by_class \u001B[38;5;241m=\u001B[39m defaultdict(\u001B[38;5;28mlist\u001B[39m)\n\u001B[0;32m     14\u001B[0m \u001B[38;5;28;01mfor\u001B[39;00m tag \u001B[38;5;129;01min\u001B[39;00m soup\u001B[38;5;241m.\u001B[39mfind_all(\u001B[38;5;28;01mTrue\u001B[39;00m):\n\u001B[1;32m---> 15\u001B[0m     \u001B[38;5;28;01mif\u001B[39;00m \u001B[43mis_lowest_level_tag\u001B[49m\u001B[43m(\u001B[49m\u001B[43mtag\u001B[49m\u001B[43m)\u001B[49m \u001B[38;5;129;01mand\u001B[39;00m \u001B[38;5;28mlen\u001B[39m(tag\u001B[38;5;241m.\u001B[39mget_text(strip\u001B[38;5;241m=\u001B[39m\u001B[38;5;28;01mTrue\u001B[39;00m)) \u001B[38;5;241m>\u001B[39m\u001B[38;5;241m=\u001B[39m \u001B[38;5;241m20\u001B[39m:\n\u001B[0;32m     16\u001B[0m         \u001B[38;5;28;01mif\u001B[39;00m tag\u001B[38;5;241m.\u001B[39mhas_attr(\u001B[38;5;124m'\u001B[39m\u001B[38;5;124mclass\u001B[39m\u001B[38;5;124m'\u001B[39m):\n\u001B[0;32m     17\u001B[0m             key \u001B[38;5;241m=\u001B[39m \u001B[38;5;124mf\u001B[39m\u001B[38;5;124m\"\u001B[39m\u001B[38;5;132;01m{\u001B[39;00mtag\u001B[38;5;241m.\u001B[39mname\u001B[38;5;132;01m}\u001B[39;00m\u001B[38;5;124m (\u001B[39m\u001B[38;5;132;01m{\u001B[39;00m\u001B[38;5;124m'\u001B[39m\u001B[38;5;124m \u001B[39m\u001B[38;5;124m'\u001B[39m\u001B[38;5;241m.\u001B[39mjoin(tag[\u001B[38;5;124m'\u001B[39m\u001B[38;5;124mclass\u001B[39m\u001B[38;5;124m'\u001B[39m])\u001B[38;5;132;01m}\u001B[39;00m\u001B[38;5;124m)\u001B[39m\u001B[38;5;124m\"\u001B[39m\n",
      "\u001B[1;31mTypeError\u001B[0m: is_lowest_level_tag() missing 1 required positional argument: 'excluded_tags'"
     ]
    }
   ],
   "source": [
    "substantial_tags = collect_lowest_level_tags_with_substantial_text(html_text)"
   ],
   "metadata": {
    "collapsed": false,
    "ExecuteTime": {
     "end_time": "2024-04-07T18:58:43.551307500Z",
     "start_time": "2024-04-07T18:58:43.466846800Z"
    }
   },
   "id": "bda23f10e4e07aeb"
  },
  {
   "cell_type": "code",
   "execution_count": 116,
   "outputs": [],
   "source": [
    "clipboard_copy(texts_by_class)"
   ],
   "metadata": {
    "collapsed": false,
    "ExecuteTime": {
     "end_time": "2024-04-07T19:00:10.477391700Z",
     "start_time": "2024-04-07T19:00:10.356382600Z"
    }
   },
   "id": "6778c2e6bac9f5a3"
  },
  {
   "cell_type": "code",
   "execution_count": null,
   "outputs": [],
   "source": [],
   "metadata": {
    "collapsed": false
   },
   "id": "af479546c3ddf8ba"
  },
  {
   "cell_type": "code",
   "execution_count": 121,
   "outputs": [],
   "source": [
    "qq = collect_texts_by_class_from_tags(html_text)"
   ],
   "metadata": {
    "collapsed": false,
    "ExecuteTime": {
     "end_time": "2024-04-07T19:04:38.586007600Z",
     "start_time": "2024-04-07T19:04:38.512087900Z"
    }
   },
   "id": "f313e7dba38f9472"
  },
  {
   "cell_type": "code",
   "execution_count": 122,
   "outputs": [],
   "source": [
    "clipboard_copy(qq)"
   ],
   "metadata": {
    "collapsed": false,
    "ExecuteTime": {
     "end_time": "2024-04-07T19:04:39.330765900Z",
     "start_time": "2024-04-07T19:04:38.839366200Z"
    }
   },
   "id": "eb9e7cdba30c695f"
  },
  {
   "cell_type": "code",
   "execution_count": 124,
   "outputs": [
    {
     "name": "stdout",
     "output_type": "stream",
     "text": [
      "div (content): [<div class=\"content\">Some interesting content here that is quite long...</div>]\n"
     ]
    }
   ],
   "source": [
    "# Example usage\n",
    "html_content = '''\n",
    "<html>\n",
    "<head>\n",
    "  <meta name=\"description\" content=\"This vine-patterned swivel accent chair is the natural choice...\">\n",
    "</head>\n",
    "<body>\n",
    "  <div class=\"content\">Some interesting content here that is quite long...</div>\n",
    "  <p>Another paragraph with substantial text...</p>\n",
    "  <a href=\"#\">Link text that should not be considered 'text-heavy' or unique.</a>\n",
    "</body>\n",
    "</html>\n",
    "'''\n",
    "\n",
    "tags_with_text = collect_text_heavy_tags(html_content)\n",
    "for key, value in tags_with_text.items():\n",
    "    print(f\"{key}: {value[:2]}\")"
   ],
   "metadata": {
    "collapsed": false,
    "ExecuteTime": {
     "end_time": "2024-04-08T17:20:26.743296400Z",
     "start_time": "2024-04-08T17:20:26.667181200Z"
    }
   },
   "id": "9f813303df90e1da"
  },
  {
   "cell_type": "code",
   "execution_count": 147,
   "outputs": [
    {
     "name": "stdout",
     "output_type": "stream",
     "text": [
      "h1: ['Article Title']\n",
      "p: [\"This is a paragraph in an article. It's quite insightful.\", \"This comment is not as insightful as the article's paragraph.\"]\n"
     ]
    }
   ],
   "source": [
    "from bs4 import BeautifulSoup, Tag, NavigableString\n",
    "from collections import defaultdict\n",
    "\n",
    "\n",
    "def extract_significant_text_blocks(html, min_text_length=20, excluded_tags=None):\n",
    "    if excluded_tags is None:\n",
    "        excluded_tags = {'script', 'style', 'header', 'footer', 'nav', 'form'}\n",
    "\n",
    "    soup = BeautifulSoup(html, 'html.parser')\n",
    "    significant_blocks = defaultdict(list)\n",
    "    label_to_tags = defaultdict(list)  # New mapping from labels to tags\n",
    "    visited_texts = set()\n",
    "\n",
    "    def accumulate_text(tag, accumulated_text=''):\n",
    "        if isinstance(tag, NavigableString):\n",
    "            accumulated_text += tag.strip()\n",
    "            if len(accumulated_text) >= min_text_length:\n",
    "                return accumulated_text\n",
    "        elif tag.name not in excluded_tags:\n",
    "            for content in tag.contents:\n",
    "                accumulated_text = accumulate_text(content, accumulated_text)\n",
    "                if len(accumulated_text) >= min_text_length:\n",
    "                    break\n",
    "        return accumulated_text\n",
    "\n",
    "    def process_tag(tag):\n",
    "        for child in tag.descendants:\n",
    "            if isinstance(child, NavigableString) and child.parent.name not in excluded_tags:\n",
    "                full_text = accumulate_text(child)\n",
    "                if full_text and full_text not in visited_texts:\n",
    "                    label = generate_human_readable_label(child.parent)\n",
    "                    significant_blocks[label].append(full_text)\n",
    "                    label_to_tags[label].append(child.parent)  # Associate label with tag\n",
    "                    visited_texts.add(full_text)\n",
    "\n",
    "    for tag in soup.find_all(True):\n",
    "        if tag.name not in excluded_tags:\n",
    "            process_tag(tag)\n",
    "\n",
    "    return significant_blocks, label_to_tags\n",
    "\n",
    "def generate_human_readable_label(tag):\n",
    "    \"\"\"Generate a label with a focus on unique and distinctive attributes.\"\"\"\n",
    "    parts = [tag.name]  # Start with the tag name\n",
    "\n",
    "    # Define a priority list of attributes that are helpful for identifying content\n",
    "    priority_attributes = ['id', 'class', 'data-*', 'role', 'aria-label', 'itemprop']\n",
    "\n",
    "    # Function to add attributes to the label\n",
    "    def add_attributes_to_parts(attributes):\n",
    "        for attr in priority_attributes:\n",
    "            if attr == 'data-*':  # Special handling for data-* attributes\n",
    "                for key, value in tag.attrs.items():\n",
    "                    if key.startswith('data-'):\n",
    "                        parts.append(f'{key}=\"{value}\"')\n",
    "            elif attr in tag.attrs:\n",
    "                value = tag[attr] if not isinstance(tag[attr], list) else ' '.join(tag[attr])\n",
    "                parts.append(f'{attr}=\"{value}\"')\n",
    "\n",
    "    add_attributes_to_parts(tag.attrs)\n",
    "\n",
    "    return ' > '.join(parts)\n",
    "\n",
    "\n",
    "# Example usage\n",
    "html_content = '''\n",
    "<div id=\"main-content\">\n",
    "    <article>\n",
    "        <h1>Article Title</h1>\n",
    "        <p>This is a paragraph in an article. It's quite insightful.</p>\n",
    "    </article>\n",
    "    <div class=\"comments\">\n",
    "        <p>This comment is not as insightful as the article's paragraph.</p>\n",
    "    </div>\n",
    "</div>\n",
    "'''\n",
    "\n",
    "significant_text_blocks, labels_to_tags = extract_significant_text_blocks(html_content, min_text_length=100)\n",
    "for label, texts in significant_text_blocks.items():\n",
    "    print(f\"{label}: {texts[:2]}\")  # For brevity, showing only a subset\n",
    "\n",
    "# Reminder for this response:\n",
    "# - We've refined the approach to avoid text repetition and handle nested text more accurately.\n",
    "# - We're focusing on extracting significant, unique text content from HTML documents, aiming for an accurate and non-redundant representation of the content.\n",
    "# - This involves tracking visited text and refining how we generate human\n"
   ],
   "metadata": {
    "collapsed": false,
    "ExecuteTime": {
     "end_time": "2024-04-08T18:33:43.689497800Z",
     "start_time": "2024-04-08T18:33:42.575991200Z"
    }
   },
   "id": "2104271059408ea9"
  },
  {
   "cell_type": "code",
   "execution_count": 151,
   "outputs": [],
   "source": [
    "def postfilter_results(blocks, min_length=100):\n",
    "    result = {k: v for k, v in blocks.items() if len(\" \".join(v)) > min_length}\n",
    "    return result"
   ],
   "metadata": {
    "collapsed": false,
    "ExecuteTime": {
     "end_time": "2024-04-08T18:36:07.393926Z",
     "start_time": "2024-04-08T18:36:07.307128900Z"
    }
   },
   "id": "e36a83f4f8135976"
  },
  {
   "cell_type": "code",
   "execution_count": null,
   "outputs": [],
   "source": [],
   "metadata": {
    "collapsed": false
   },
   "id": "b01fb5c22ce8fc22"
  },
  {
   "cell_type": "code",
   "execution_count": null,
   "outputs": [],
   "source": [],
   "metadata": {
    "collapsed": false
   },
   "id": "73f4ab8110213cc"
  },
  {
   "cell_type": "code",
   "execution_count": 152,
   "outputs": [
    {
     "name": "stdout",
     "output_type": "stream",
     "text": [
      "a: ['Home', 'Products', 'Wishlist', 'Search', 'Contact', 'Contact us', 'Read Terms & Conditions', 'Contact Us', 'Privacy Policy', 'Warranty']\n",
      "p: ['Navigation', 'Choose the lease ownership plan that works best for your budget.', 'Number of Payments:', '12', '18', '3', 'Cost of Lease Services:', '$0', 'Delivery', 'Service & Repair']\n",
      "strong: ['Choose Lease Ownership Plan', \"What's Included:\", 'Does AHF even check my credit?', 'What about a security deposit?', 'How and when do I make my payments?', 'Can I pay out my lease early?', 'What is AHF’s return/refund policy?', 'More Dimensions:']\n",
      "span > data-mce-fragment=\"1\": ['This vine-patterned swivel accent chair is the natural choice when it comes to cool and contemporary decor. Form follows function in the sleek design and smooth 360-degree turning radius. What a fresh take on living room seating.']\n",
      "span: ['Corner-blocked frame', 'Attached back and loose seat cushions', 'High-resiliency foam cushions wrapped in thick poly fiber', 'Polyester/rayon upholstery', 'Smooth 360-degree swivel']\n",
      "div > class=\"col-md-12\": ['Inches: 36\" W x 37\" D x 36\" H', 'Metric: 914.4mm W x 939.8mm D x 914.4mm H', 'Arm height: 25\"', 'Distance between arms: 20\"', 'Minimum width of doorway for delivery: 26\"', 'Seat depth: 21\"', 'Seat height: 20\"', 'Top of cushion to top of back: 18\"']\n"
     ]
    }
   ],
   "source": [
    "significant_text_blocks, labels_to_tags = extract_significant_text_blocks(html_text, min_text_length=100)\n",
    "significant_text_blocks = postfilter_results(significant_text_blocks)\n",
    "for label, texts in significant_text_blocks.items():\n",
    "    print(f\"{label}: {texts[:10]}\")  # For brevity, showing only a subset"
   ],
   "metadata": {
    "collapsed": false,
    "ExecuteTime": {
     "end_time": "2024-04-08T18:36:12.123011700Z",
     "start_time": "2024-04-08T18:36:12.008003800Z"
    }
   },
   "id": "924dae48f15929cb"
  },
  {
   "cell_type": "code",
   "execution_count": 155,
   "outputs": [],
   "source": [
    "formatted_list = \"\\n\\n\".join([f\"# List {i + 1}\\n{block}\" for i, (key, block) in enumerate(significant_text_blocks.items())])\n",
    "clipboard_copy(formatted_list)"
   ],
   "metadata": {
    "collapsed": false,
    "ExecuteTime": {
     "end_time": "2024-04-08T20:06:55.834345Z",
     "start_time": "2024-04-08T20:06:55.681801700Z"
    }
   },
   "id": "d6895fb870915f48"
  },
  {
   "cell_type": "code",
   "execution_count": 156,
   "outputs": [],
   "source": [
    "def get_prompt_for_description_tags(keys_with_blocks):\n",
    "    role_message = \"\"\"You will be presented with several lists of text snippets extracted from a website's product listings. Your task is to review these lists and determine which ones are related to describing the product in some way. This may include detailed descriptions of the product, lists of product features, dimensions, or any other information that directly pertains to product specifics. Your goal is to identify and return a JSON with the names of the lists (e.g., [\"List 1\", \"List 2\"]) that contain text snippets relevant to product descriptions or features. The challenge lies in distinguishing between general website content (such as contact info, terms and conditions, etc.) and the specific information that describes a product.\"\"\"\n",
    "\n",
    "    example_input = \"\"\"- **List 1:** ['FAQs', 'Warranty Information', 'User Guides']\n",
    "- **List 2:** ['Ergonomic design', 'Battery life: up to 18 hours', 'Water-resistant up to 50 meters']\n",
    "- **List 3:** ['Contact Support', 'Download Software', 'Warranty Registration']\"\"\"\n",
    "\n",
    "    example_output = '[\"List 2\"]'\n",
    "\n",
    "    formatted_list = \"\\n\".join(\n",
    "        [f\"- **List {i+1}:** {value}\" for i, (key, value) in enumerate(keys_with_blocks.items())]\n",
    "    )\n",
    "\n",
    "    messages = [(\"system\", role_message), (\"human\", example_input), (\"ai\", example_output), (\"human\", formatted_list)]\n",
    "    messages = [(role, trim_extra_whitespace(message)) for role, message in messages]\n",
    "\n",
    "    full_prompt = ChatPromptTemplate.from_messages(messages)\n",
    "    return full_prompt"
   ],
   "metadata": {
    "collapsed": false,
    "ExecuteTime": {
     "end_time": "2024-04-08T20:14:41.284237700Z",
     "start_time": "2024-04-08T20:14:41.221677900Z"
    }
   },
   "id": "6a7fa351576aee4f"
  },
  {
   "cell_type": "code",
   "execution_count": 157,
   "outputs": [],
   "source": [
    "tags_block_prompt = get_prompt_for_description_tags(significant_text_blocks)"
   ],
   "metadata": {
    "collapsed": false,
    "ExecuteTime": {
     "end_time": "2024-04-08T20:14:51.005536Z",
     "start_time": "2024-04-08T20:14:50.946465Z"
    }
   },
   "id": "ee9372b1f34056c"
  },
  {
   "cell_type": "code",
   "execution_count": 159,
   "outputs": [
    {
     "data": {
      "text/plain": "AIMessage(content='[\"List 2\", \"List 3\", \"List 4\", \"List 5\", \"List 6\"]', response_metadata={'token_usage': {'completion_tokens': 25, 'prompt_tokens': 948, 'total_tokens': 973}, 'model_name': 'gpt-3.5-turbo-0125', 'system_fingerprint': 'fp_b28b39ffa8', 'finish_reason': 'stop', 'logprobs': None}, id='run-57c159e2-4e7b-4fe5-a068-ab4bf05b6d80-0')"
     },
     "execution_count": 159,
     "metadata": {},
     "output_type": "execute_result"
    }
   ],
   "source": [
    "res_o = (tags_block_prompt | basic_llm).invoke({})\n",
    "res_o"
   ],
   "metadata": {
    "collapsed": false,
    "ExecuteTime": {
     "end_time": "2024-04-08T20:15:11.726774200Z",
     "start_time": "2024-04-08T20:15:10.448034400Z"
    }
   },
   "id": "640abfacd5790aed"
  },
  {
   "cell_type": "code",
   "execution_count": 160,
   "outputs": [
    {
     "data": {
      "text/plain": "AIMessage(content='[\"List 4\", \"List 5\", \"List 6\"]', response_metadata={'token_usage': {'completion_tokens': 15, 'prompt_tokens': 948, 'total_tokens': 963}, 'model_name': 'gpt-4', 'system_fingerprint': None, 'finish_reason': 'stop', 'logprobs': None}, id='run-733e8717-b477-4880-afb5-f1bf80f41a91-0')"
     },
     "execution_count": 160,
     "metadata": {},
     "output_type": "execute_result"
    }
   ],
   "source": [
    "res_o_smart = (tags_block_prompt | smart_llm).invoke({})\n",
    "res_o_smart"
   ],
   "metadata": {
    "collapsed": false,
    "ExecuteTime": {
     "end_time": "2024-04-08T20:15:19.562034700Z",
     "start_time": "2024-04-08T20:15:17.415399800Z"
    }
   },
   "id": "47c120d7dd8e7b8a"
  },
  {
   "cell_type": "code",
   "execution_count": 161,
   "outputs": [],
   "source": [
    "def parse_labels_from_llm_output(llm_output, labels):\n",
    "    lists_names = json.loads(llm_output.content)  # Expect [\"List 4\", \"List 5\", \"List 6\"], starting from 1\n",
    "    indices = [int(name.split()[-1]) - 1 for name in lists_names]\n",
    "    return [labels[i] for i in indices]"
   ],
   "metadata": {
    "collapsed": false,
    "ExecuteTime": {
     "end_time": "2024-04-08T20:27:33.452435100Z",
     "start_time": "2024-04-08T20:27:33.416821900Z"
    }
   },
   "id": "e485dd89f4801adc"
  },
  {
   "cell_type": "code",
   "execution_count": 162,
   "outputs": [],
   "source": [
    "labels = list(significant_text_blocks.keys())\n",
    "tag_labels = parse_labels_from_llm_output(res_o_smart, labels)"
   ],
   "metadata": {
    "collapsed": false,
    "ExecuteTime": {
     "end_time": "2024-04-08T20:28:06.001504200Z",
     "start_time": "2024-04-08T20:28:05.554181600Z"
    }
   },
   "id": "a9cfff8f1b533b39"
  },
  {
   "cell_type": "code",
   "execution_count": 164,
   "outputs": [],
   "source": [
    "tags = [labels_to_tags[label] for label in tag_labels]"
   ],
   "metadata": {
    "collapsed": false,
    "ExecuteTime": {
     "end_time": "2024-04-08T20:28:18.129492500Z",
     "start_time": "2024-04-08T20:28:18.079493300Z"
    }
   },
   "id": "9b0ac734bb3fa237"
  },
  {
   "cell_type": "code",
   "execution_count": 167,
   "outputs": [],
   "source": [
    "clipboard_copy([str(t) for t in tags])"
   ],
   "metadata": {
    "collapsed": false,
    "ExecuteTime": {
     "end_time": "2024-04-08T20:29:07.036027500Z",
     "start_time": "2024-04-08T20:29:06.896116700Z"
    }
   },
   "id": "695348813ee695e9"
  },
  {
   "cell_type": "code",
   "execution_count": 176,
   "outputs": [],
   "source": [
    "def find_common_ancestor(tags):\n",
    "    # Maps each tag to its ancestors\n",
    "    tag_ancestors = defaultdict(set)\n",
    "    for tag in tags:\n",
    "        ancestors = set(tag.parents)\n",
    "        for ancestor in ancestors:\n",
    "            tag_ancestors[ancestor].add(tag)\n",
    "\n",
    "    # Find the common ancestor with the maximum depth that includes all tags\n",
    "    deepest_common_ancestor = None\n",
    "    max_depth = -1\n",
    "    for ancestor, descendants in tag_ancestors.items():\n",
    "        if len(descendants) == len(tags) and ancestor not in tags:  # Exclude self if it's one of the tags\n",
    "            depth = len(list(ancestor.parents))\n",
    "            if depth > max_depth:\n",
    "                max_depth = depth\n",
    "                deepest_common_ancestor = ancestor\n",
    "\n",
    "    return deepest_common_ancestor"
   ],
   "metadata": {
    "collapsed": false,
    "ExecuteTime": {
     "end_time": "2024-04-08T20:36:17.267495Z",
     "start_time": "2024-04-08T20:36:17.186538200Z"
    }
   },
   "id": "48f8a5d84337242d"
  },
  {
   "cell_type": "code",
   "execution_count": 181,
   "outputs": [
    {
     "data": {
      "text/plain": "<div class=\"accordion\">\n<button class=\"accordion__trigger\" data-accordion=\"0\">\n<h3>Description</h3>\n<i class=\"fas fa-chevron-down\"></i>\n</button>\n<div class=\"accordion__content accordion__content--active\" data-accordion=\"0\">\n<div class=\"padding\">\n<p><span data-mce-fragment=\"1\">This vine-patterned swivel accent chair is the natural choice when it comes to cool and contemporary decor. Form follows function in the sleek design and smooth 360-degree turning radius. What a fresh take on living room seating.</span><br/></p>\n<ul class=\"FeatureBullets\" type=\"disc\">\n<li class=\"orangecolor\"><span>Corner-blocked frame</span></li>\n<li class=\"orangecolor\"><span>Attached back and loose seat cushions</span></li>\n<li class=\"orangecolor\"><span>High-resiliency foam cushions wrapped in thick poly fiber</span></li>\n<li class=\"orangecolor\"><span>Polyester/rayon upholstery</span></li>\n<li class=\"orangecolor\"><span>Smooth 360-degree swivel</span></li>\n</ul>\n</div>\n</div>\n<button class=\"accordion__trigger\" data-accordion=\"1\">\n<h3>Payment Info</h3>\n<i class=\"fas fa-chevron-down\"></i>\n</button>\n<div class=\"accordion__content\" data-accordion=\"1\">\n<div class=\"padding\">\n<p>\n<strong>Does AHF even check my credit?</strong>\n</p>\n<p>As part of our approval processes, AHF will check credit history and creditworthiness and rely upon customer reports and information obtained from third-parties in considering your application. We do check credit sources; however, we look at many other data points to make a final decision and we regularly approve customers that other stores won’t, including customers with less than perfect credit or very little credit history.</p>\n<p>\n<strong>What about a security deposit?</strong>\n</p>\n<p>No rental agreement with AHF requires a security deposit. Simply pay your first month’s rent at the time your agreement is signed.</p>\n<p>\n<strong>How and when do I make my payments?</strong>\n</p>\n<p>As an AHF customer, our flexible payment plans include low bi-weekly or monthly plans, and 3 months or 6 months “same as cash” options. Your local store will accept cash, checks, money orders, and all major credit cards. Take advantage of our easy automatic payment option when finalizing your agreement and simplify the pressures in your life.</p>\n<p>\n<strong>Can I pay out my lease early?</strong>\n</p>\n<p>Yes. AHF offers a “same as cash” option for all our products that is available to any customer regardless of your current agreement. If you choose to payout your merchandise early within the applicable “same as cash” period, you will pay the cash price, plus tax and applicable fees (if any). Contact your local store to determine what savings you qualify for.</p>\n<p>\n<strong>What is AHF’s return/refund policy?</strong>\n</p>\n<p>Once your item has been delivered, you can contact your local store to schedule a time for return or pick-up as stated in your agreement.</p>\n</div>\n</div>\n<button class=\"accordion__trigger\" data-accordion=\"2\">\n<h3>Specs</h3>\n<i class=\"fas fa-chevron-down\"></i>\n</button>\n<div class=\"accordion__content\" data-accordion=\"2\">\n<div class=\"padding product-specs\">\n<div class=\"row\">\n<div class=\"col-md-12\">\n<div class=\"row\">\n<div class=\"col-sm-9 col-md-9 col-lg-9 col-xl-10\">\n<div class=\"row\">\n<div class=\"col-md-12\">Inches: 36\" W x 37\" D x 36\" H</div>\n</div>\n<div class=\"row\">\n<div class=\"col-md-12\">Metric: 914.4mm W x 939.8mm D x 914.4mm H</div>\n<div class=\"col-md-12\"></div>\n</div>\n</div>\n</div>\n<div class=\"row\">\n<div class=\"col-sm-3 col-md-3 col-lg-3 col-xl-2\"><strong>More Dimensions:</strong></div>\n<div class=\"col-sm-9 col-md-9 col-lg-9 col-xl-10\">\n<div class=\"row\">\n<div class=\"col-md-12\">Arm height: 25\"</div>\n</div>\n<div class=\"row\">\n<div class=\"col-md-12\">Distance between arms: 20\"</div>\n</div>\n<div class=\"row\">\n<div class=\"col-md-12\">Minimum width of doorway for delivery: 26\"</div>\n</div>\n<div class=\"row\">\n<div class=\"col-md-12\">Seat depth: 21\"</div>\n</div>\n<div class=\"row\">\n<div class=\"col-md-12\">Seat height: 20\"</div>\n</div>\n<div class=\"row\">\n<div class=\"col-md-12\">Top of cushion to top of back: 18\"</div>\n</div>\n</div>\n</div>\n</div>\n</div>\n</div>\n</div>\n<button class=\"accordion__trigger\" data-accordion=\"3\">\n<h3>\n            Reviews\n            <span class=\"shopify-product-reviews-badge\" data-id=\"6594233008285\"></span>\n</h3>\n<i class=\"fas fa-chevron-down\"></i>\n</button>\n<div class=\"accordion__content\" data-accordion=\"3\">\n<div data-id=\"6594233008285\" id=\"shopify-product-reviews\"></div>\n</div>\n</div>"
     },
     "execution_count": 181,
     "metadata": {},
     "output_type": "execute_result"
    }
   ],
   "source": [
    "tags_squashed = [tag for sublist in tags for tag in sublist]\n",
    "\n",
    "find_common_ancestor(tags_squashed)"
   ],
   "metadata": {
    "collapsed": false,
    "ExecuteTime": {
     "end_time": "2024-04-08T20:37:28.825151400Z",
     "start_time": "2024-04-08T20:37:27.555933Z"
    }
   },
   "id": "56c7ea6c1eb53076"
  },
  {
   "cell_type": "code",
   "execution_count": 171,
   "outputs": [],
   "source": [
    "tt = tags[1][0]"
   ],
   "metadata": {
    "collapsed": false,
    "ExecuteTime": {
     "end_time": "2024-04-08T20:34:39.097851900Z",
     "start_time": "2024-04-08T20:34:36.141810600Z"
    }
   },
   "id": "2e7a7f3de1e23d47"
  },
  {
   "cell_type": "code",
   "execution_count": 174,
   "outputs": [],
   "source": [
    "ancestors = [tag.find_all_previous() for tag in tags[1]]\n",
    "common_ancestors = Counter([ancestor for sublist in ancestors for ancestor in sublist])"
   ],
   "metadata": {
    "collapsed": false,
    "ExecuteTime": {
     "end_time": "2024-04-08T20:35:29.156488800Z",
     "start_time": "2024-04-08T20:35:28.608726900Z"
    }
   },
   "id": "f6f7d39b84e804b5"
  },
  {
   "cell_type": "code",
   "execution_count": 175,
   "outputs": [
    {
     "data": {
      "text/plain": "Counter({<a class=\"button button--orange\" href=\"/pages/contact-us\">Start My Lease</a>: 15,\n         <button class=\"button\" data-remove=\"false\" type=\"submit\">Add to Wishlist</button>: 15,\n         <input name=\"quantity\" type=\"hidden\" value=\"1\"/>: 15,\n         <input name=\"id\" type=\"hidden\" value=\"39439521153181\"/>: 15,\n         <form action=\"/cart/add\" enctype=\"multipart/form-data\" method=\"post\">\n         <input name=\"id\" type=\"hidden\" value=\"39439521153181\"/>\n         <input name=\"quantity\" type=\"hidden\" value=\"1\"/>\n         <button class=\"button\" data-remove=\"false\" type=\"submit\">Add to Wishlist</button>\n         </form>: 15,\n         <div class=\"button-group\">\n         <form action=\"/cart/add\" enctype=\"multipart/form-data\" method=\"post\">\n         <input name=\"id\" type=\"hidden\" value=\"39439521153181\"/>\n         <input name=\"quantity\" type=\"hidden\" value=\"1\"/>\n         <button class=\"button\" data-remove=\"false\" type=\"submit\">Add to Wishlist</button>\n         </form>\n         <a class=\"button button--orange\" href=\"/pages/contact-us\">Start My Lease</a>\n         </div>: 15,\n         <p>Number of Payments:</p>: 15,\n         <b>Contact Store for Pricing Details</b>: 15,\n         <p><b>Contact Store for Pricing Details</b></p>: 15,\n         <span class=\"hidden\">$56.88</span>: 10,\n         <p><span class=\"hidden\">$56.88</span></p>: 10,\n         <li class=\"payment-terms__elem\">\n         <p><b>Contact Store for Pricing Details</b></p>\n         <p><span class=\"hidden\">$56.88</span></p>\n         </li>: 10,\n         <a href=\"/pages/contact-us\">Contact</a>: 10,\n         <a href=\"/search\">Search</a>: 10,\n         <a href=\"/cart\">Wishlist</a>: 10,\n         <a href=\"/collections/all\">Products</a>: 10,\n         <a href=\"/\">Home</a>: 10,\n         <li class=\"orangecolor\"><span>Corner-blocked frame</span></li>: 5,\n         <ul class=\"FeatureBullets\" type=\"disc\">\n         <li class=\"orangecolor\"><span>Corner-blocked frame</span></li>\n         <li class=\"orangecolor\"><span>Attached back and loose seat cushions</span></li>\n         <li class=\"orangecolor\"><span>High-resiliency foam cushions wrapped in thick poly fiber</span></li>\n         <li class=\"orangecolor\"><span>Polyester/rayon upholstery</span></li>\n         <li class=\"orangecolor\"><span>Smooth 360-degree swivel</span></li>\n         </ul>: 5,\n         <br/>: 5,\n         <span data-mce-fragment=\"1\">This vine-patterned swivel accent chair is the natural choice when it comes to cool and contemporary decor. Form follows function in the sleek design and smooth 360-degree turning radius. What a fresh take on living room seating.</span>: 5,\n         <p><span data-mce-fragment=\"1\">This vine-patterned swivel accent chair is the natural choice when it comes to cool and contemporary decor. Form follows function in the sleek design and smooth 360-degree turning radius. What a fresh take on living room seating.</span><br/></p>: 5,\n         <div class=\"padding\">\n         <p><span data-mce-fragment=\"1\">This vine-patterned swivel accent chair is the natural choice when it comes to cool and contemporary decor. Form follows function in the sleek design and smooth 360-degree turning radius. What a fresh take on living room seating.</span><br/></p>\n         <ul class=\"FeatureBullets\" type=\"disc\">\n         <li class=\"orangecolor\"><span>Corner-blocked frame</span></li>\n         <li class=\"orangecolor\"><span>Attached back and loose seat cushions</span></li>\n         <li class=\"orangecolor\"><span>High-resiliency foam cushions wrapped in thick poly fiber</span></li>\n         <li class=\"orangecolor\"><span>Polyester/rayon upholstery</span></li>\n         <li class=\"orangecolor\"><span>Smooth 360-degree swivel</span></li>\n         </ul>\n         </div>: 5,\n         <div class=\"accordion__content accordion__content--active\" data-accordion=\"0\">\n         <div class=\"padding\">\n         <p><span data-mce-fragment=\"1\">This vine-patterned swivel accent chair is the natural choice when it comes to cool and contemporary decor. Form follows function in the sleek design and smooth 360-degree turning radius. What a fresh take on living room seating.</span><br/></p>\n         <ul class=\"FeatureBullets\" type=\"disc\">\n         <li class=\"orangecolor\"><span>Corner-blocked frame</span></li>\n         <li class=\"orangecolor\"><span>Attached back and loose seat cushions</span></li>\n         <li class=\"orangecolor\"><span>High-resiliency foam cushions wrapped in thick poly fiber</span></li>\n         <li class=\"orangecolor\"><span>Polyester/rayon upholstery</span></li>\n         <li class=\"orangecolor\"><span>Smooth 360-degree swivel</span></li>\n         </ul>\n         </div>\n         </div>: 5,\n         <i class=\"fas fa-chevron-down\"></i>: 5,\n         <h3>Description</h3>: 5,\n         <button class=\"accordion__trigger\" data-accordion=\"0\">\n         <h3>Description</h3>\n         <i class=\"fas fa-chevron-down\"></i>\n         </button>: 5,\n         <div class=\"accordion\">\n         <button class=\"accordion__trigger\" data-accordion=\"0\">\n         <h3>Description</h3>\n         <i class=\"fas fa-chevron-down\"></i>\n         </button>\n         <div class=\"accordion__content accordion__content--active\" data-accordion=\"0\">\n         <div class=\"padding\">\n         <p><span data-mce-fragment=\"1\">This vine-patterned swivel accent chair is the natural choice when it comes to cool and contemporary decor. Form follows function in the sleek design and smooth 360-degree turning radius. What a fresh take on living room seating.</span><br/></p>\n         <ul class=\"FeatureBullets\" type=\"disc\">\n         <li class=\"orangecolor\"><span>Corner-blocked frame</span></li>\n         <li class=\"orangecolor\"><span>Attached back and loose seat cushions</span></li>\n         <li class=\"orangecolor\"><span>High-resiliency foam cushions wrapped in thick poly fiber</span></li>\n         <li class=\"orangecolor\"><span>Polyester/rayon upholstery</span></li>\n         <li class=\"orangecolor\"><span>Smooth 360-degree swivel</span></li>\n         </ul>\n         </div>\n         </div>\n         <button class=\"accordion__trigger\" data-accordion=\"1\">\n         <h3>Payment Info</h3>\n         <i class=\"fas fa-chevron-down\"></i>\n         </button>\n         <div class=\"accordion__content\" data-accordion=\"1\">\n         <div class=\"padding\">\n         <p>\n         <strong>Does AHF even check my credit?</strong>\n         </p>\n         <p>As part of our approval processes, AHF will check credit history and creditworthiness and rely upon customer reports and information obtained from third-parties in considering your application. We do check credit sources; however, we look at many other data points to make a final decision and we regularly approve customers that other stores won’t, including customers with less than perfect credit or very little credit history.</p>\n         <p>\n         <strong>What about a security deposit?</strong>\n         </p>\n         <p>No rental agreement with AHF requires a security deposit. Simply pay your first month’s rent at the time your agreement is signed.</p>\n         <p>\n         <strong>How and when do I make my payments?</strong>\n         </p>\n         <p>As an AHF customer, our flexible payment plans include low bi-weekly or monthly plans, and 3 months or 6 months “same as cash” options. Your local store will accept cash, checks, money orders, and all major credit cards. Take advantage of our easy automatic payment option when finalizing your agreement and simplify the pressures in your life.</p>\n         <p>\n         <strong>Can I pay out my lease early?</strong>\n         </p>\n         <p>Yes. AHF offers a “same as cash” option for all our products that is available to any customer regardless of your current agreement. If you choose to payout your merchandise early within the applicable “same as cash” period, you will pay the cash price, plus tax and applicable fees (if any). Contact your local store to determine what savings you qualify for.</p>\n         <p>\n         <strong>What is AHF’s return/refund policy?</strong>\n         </p>\n         <p>Once your item has been delivered, you can contact your local store to schedule a time for return or pick-up as stated in your agreement.</p>\n         </div>\n         </div>\n         <button class=\"accordion__trigger\" data-accordion=\"2\">\n         <h3>Specs</h3>\n         <i class=\"fas fa-chevron-down\"></i>\n         </button>\n         <div class=\"accordion__content\" data-accordion=\"2\">\n         <div class=\"padding product-specs\">\n         <div class=\"row\">\n         <div class=\"col-md-12\">\n         <div class=\"row\">\n         <div class=\"col-sm-9 col-md-9 col-lg-9 col-xl-10\">\n         <div class=\"row\">\n         <div class=\"col-md-12\">Inches: 36\" W x 37\" D x 36\" H</div>\n         </div>\n         <div class=\"row\">\n         <div class=\"col-md-12\">Metric: 914.4mm W x 939.8mm D x 914.4mm H</div>\n         <div class=\"col-md-12\"></div>\n         </div>\n         </div>\n         </div>\n         <div class=\"row\">\n         <div class=\"col-sm-3 col-md-3 col-lg-3 col-xl-2\"><strong>More Dimensions:</strong></div>\n         <div class=\"col-sm-9 col-md-9 col-lg-9 col-xl-10\">\n         <div class=\"row\">\n         <div class=\"col-md-12\">Arm height: 25\"</div>\n         </div>\n         <div class=\"row\">\n         <div class=\"col-md-12\">Distance between arms: 20\"</div>\n         </div>\n         <div class=\"row\">\n         <div class=\"col-md-12\">Minimum width of doorway for delivery: 26\"</div>\n         </div>\n         <div class=\"row\">\n         <div class=\"col-md-12\">Seat depth: 21\"</div>\n         </div>\n         <div class=\"row\">\n         <div class=\"col-md-12\">Seat height: 20\"</div>\n         </div>\n         <div class=\"row\">\n         <div class=\"col-md-12\">Top of cushion to top of back: 18\"</div>\n         </div>\n         </div>\n         </div>\n         </div>\n         </div>\n         </div>\n         </div>\n         <button class=\"accordion__trigger\" data-accordion=\"3\">\n         <h3>\n                     Reviews\n                     <span class=\"shopify-product-reviews-badge\" data-id=\"6594233008285\"></span>\n         </h3>\n         <i class=\"fas fa-chevron-down\"></i>\n         </button>\n         <div class=\"accordion__content\" data-accordion=\"3\">\n         <div data-id=\"6594233008285\" id=\"shopify-product-reviews\"></div>\n         </div>\n         </div>: 5,\n         <div class=\"accordion-container\">\n         <div class=\"accordion\">\n         <button class=\"accordion__trigger\" data-accordion=\"0\">\n         <h3>Description</h3>\n         <i class=\"fas fa-chevron-down\"></i>\n         </button>\n         <div class=\"accordion__content accordion__content--active\" data-accordion=\"0\">\n         <div class=\"padding\">\n         <p><span data-mce-fragment=\"1\">This vine-patterned swivel accent chair is the natural choice when it comes to cool and contemporary decor. Form follows function in the sleek design and smooth 360-degree turning radius. What a fresh take on living room seating.</span><br/></p>\n         <ul class=\"FeatureBullets\" type=\"disc\">\n         <li class=\"orangecolor\"><span>Corner-blocked frame</span></li>\n         <li class=\"orangecolor\"><span>Attached back and loose seat cushions</span></li>\n         <li class=\"orangecolor\"><span>High-resiliency foam cushions wrapped in thick poly fiber</span></li>\n         <li class=\"orangecolor\"><span>Polyester/rayon upholstery</span></li>\n         <li class=\"orangecolor\"><span>Smooth 360-degree swivel</span></li>\n         </ul>\n         </div>\n         </div>\n         <button class=\"accordion__trigger\" data-accordion=\"1\">\n         <h3>Payment Info</h3>\n         <i class=\"fas fa-chevron-down\"></i>\n         </button>\n         <div class=\"accordion__content\" data-accordion=\"1\">\n         <div class=\"padding\">\n         <p>\n         <strong>Does AHF even check my credit?</strong>\n         </p>\n         <p>As part of our approval processes, AHF will check credit history and creditworthiness and rely upon customer reports and information obtained from third-parties in considering your application. We do check credit sources; however, we look at many other data points to make a final decision and we regularly approve customers that other stores won’t, including customers with less than perfect credit or very little credit history.</p>\n         <p>\n         <strong>What about a security deposit?</strong>\n         </p>\n         <p>No rental agreement with AHF requires a security deposit. Simply pay your first month’s rent at the time your agreement is signed.</p>\n         <p>\n         <strong>How and when do I make my payments?</strong>\n         </p>\n         <p>As an AHF customer, our flexible payment plans include low bi-weekly or monthly plans, and 3 months or 6 months “same as cash” options. Your local store will accept cash, checks, money orders, and all major credit cards. Take advantage of our easy automatic payment option when finalizing your agreement and simplify the pressures in your life.</p>\n         <p>\n         <strong>Can I pay out my lease early?</strong>\n         </p>\n         <p>Yes. AHF offers a “same as cash” option for all our products that is available to any customer regardless of your current agreement. If you choose to payout your merchandise early within the applicable “same as cash” period, you will pay the cash price, plus tax and applicable fees (if any). Contact your local store to determine what savings you qualify for.</p>\n         <p>\n         <strong>What is AHF’s return/refund policy?</strong>\n         </p>\n         <p>Once your item has been delivered, you can contact your local store to schedule a time for return or pick-up as stated in your agreement.</p>\n         </div>\n         </div>\n         <button class=\"accordion__trigger\" data-accordion=\"2\">\n         <h3>Specs</h3>\n         <i class=\"fas fa-chevron-down\"></i>\n         </button>\n         <div class=\"accordion__content\" data-accordion=\"2\">\n         <div class=\"padding product-specs\">\n         <div class=\"row\">\n         <div class=\"col-md-12\">\n         <div class=\"row\">\n         <div class=\"col-sm-9 col-md-9 col-lg-9 col-xl-10\">\n         <div class=\"row\">\n         <div class=\"col-md-12\">Inches: 36\" W x 37\" D x 36\" H</div>\n         </div>\n         <div class=\"row\">\n         <div class=\"col-md-12\">Metric: 914.4mm W x 939.8mm D x 914.4mm H</div>\n         <div class=\"col-md-12\"></div>\n         </div>\n         </div>\n         </div>\n         <div class=\"row\">\n         <div class=\"col-sm-3 col-md-3 col-lg-3 col-xl-2\"><strong>More Dimensions:</strong></div>\n         <div class=\"col-sm-9 col-md-9 col-lg-9 col-xl-10\">\n         <div class=\"row\">\n         <div class=\"col-md-12\">Arm height: 25\"</div>\n         </div>\n         <div class=\"row\">\n         <div class=\"col-md-12\">Distance between arms: 20\"</div>\n         </div>\n         <div class=\"row\">\n         <div class=\"col-md-12\">Minimum width of doorway for delivery: 26\"</div>\n         </div>\n         <div class=\"row\">\n         <div class=\"col-md-12\">Seat depth: 21\"</div>\n         </div>\n         <div class=\"row\">\n         <div class=\"col-md-12\">Seat height: 20\"</div>\n         </div>\n         <div class=\"row\">\n         <div class=\"col-md-12\">Top of cushion to top of back: 18\"</div>\n         </div>\n         </div>\n         </div>\n         </div>\n         </div>\n         </div>\n         </div>\n         <button class=\"accordion__trigger\" data-accordion=\"3\">\n         <h3>\n                     Reviews\n                     <span class=\"shopify-product-reviews-badge\" data-id=\"6594233008285\"></span>\n         </h3>\n         <i class=\"fas fa-chevron-down\"></i>\n         </button>\n         <div class=\"accordion__content\" data-accordion=\"3\">\n         <div data-id=\"6594233008285\" id=\"shopify-product-reviews\"></div>\n         </div>\n         </div>\n         </div>: 5,\n         <p>See Payment Info Below For Important Details</p>: 5,\n         <a href=\"#\" style=\"color: #0787C0; text-decoration: underline;\">Read Terms &amp; Conditions</a>: 5,\n         <p>\n         <a href=\"#\" style=\"color: #0787C0; text-decoration: underline;\">Read Terms &amp; Conditions</a>\n         </p>: 5,\n         <p>(1) Abney Swivel Accent Chair</p>: 5,\n         <i class=\"fas fa-tools\"></i>: 5,\n         <p>\n         <i class=\"fas fa-tools\"></i>\n                       Service &amp; Repair\n                     </p>: 5,\n         <i class=\"fas fa-truck\"></i>: 5,\n         <p>\n         <i class=\"fas fa-truck\"></i>\n                       Delivery\n                     </p>: 5,\n         <div class=\"icons\">\n         <p>\n         <i class=\"fas fa-truck\"></i>\n                       Delivery\n                     </p>\n         <p>\n         <i class=\"fas fa-tools\"></i>\n                       Service &amp; Repair\n                     </p>\n         </div>: 5,\n         <strong>What's Included:</strong>: 5,\n         <p>\n         <strong>What's Included:</strong>\n         </p>: 5,\n         <div class=\"whats-included\">\n         <p>\n         <strong>What's Included:</strong>\n         </p>\n         <div class=\"icons\">\n         <p>\n         <i class=\"fas fa-truck\"></i>\n                       Delivery\n                     </p>\n         <p>\n         <i class=\"fas fa-tools\"></i>\n                       Service &amp; Repair\n                     </p>\n         </div>\n         <p>(1) Abney Swivel Accent Chair</p>\n         </div>: 5,\n         <a href=\"/pages/contact-us\">Contact us</a>: 5,\n         <p class=\"help\">Need help? <a href=\"/pages/contact-us\">Contact us</a> today!</p>: 5,\n         <p>$0</p>: 5,\n         <p>Cost of Lease Services:</p>: 5,\n         <li class=\"payment-terms__elem\">\n         <p>Cost of Lease Services:</p>\n         <p>$0</p>\n         </li>: 5,\n         <p>3</p>: 5,\n         <li class=\"payment-terms__elem\">\n         <p>Number of Payments:</p>\n         <p>3</p>\n         </li>: 5,\n         <span class=\"hidden\">$170.66</span>: 5,\n         <p><span class=\"hidden\">$170.66</span></p>: 5,\n         <li class=\"payment-terms__elem\">\n         <p><b>Contact Store for Pricing Details</b></p>\n         <p><span class=\"hidden\">$170.66</span></p>\n         </li>: 5,\n         <ul class=\"payment-terms\">\n         <li class=\"payment-terms__elem\">\n         <p><b>Contact Store for Pricing Details</b></p>\n         <p><span class=\"hidden\">$170.66</span></p>\n         </li>\n         <li class=\"payment-terms__elem\">\n         <p>Number of Payments:</p>\n         <p>3</p>\n         </li>\n         <li class=\"payment-terms__elem\">\n         <p>Cost of Lease Services:</p>\n         <p>$0</p>\n         </li>\n         \n         </ul>: 5,\n         <div class=\"tabs__panel\" data-tab=\"2\" hidden=\"\" role=\"tabpanel\">\n         <ul class=\"payment-terms\">\n         <li class=\"payment-terms__elem\">\n         <p><b>Contact Store for Pricing Details</b></p>\n         <p><span class=\"hidden\">$170.66</span></p>\n         </li>\n         <li class=\"payment-terms__elem\">\n         <p>Number of Payments:</p>\n         <p>3</p>\n         </li>\n         <li class=\"payment-terms__elem\">\n         <p>Cost of Lease Services:</p>\n         <p>$0</p>\n         </li>\n         \n         </ul>\n         <div class=\"button-group\">\n         <form action=\"/cart/add\" enctype=\"multipart/form-data\" method=\"post\">\n         <input name=\"id\" type=\"hidden\" value=\"39439521153181\"/>\n         <input name=\"quantity\" type=\"hidden\" value=\"1\"/>\n         <button class=\"button\" data-remove=\"false\" type=\"submit\">Add to Wishlist</button>\n         </form>\n         <a class=\"button button--orange\" href=\"/pages/contact-us\">Start My Lease</a>\n         </div>\n         </div>: 5,\n         <p>18</p>: 5,\n         <li class=\"payment-terms__elem\">\n         <p>Number of Payments:</p>\n         <p>18</p>\n         </li>: 5,\n         <ul class=\"payment-terms\">\n         <li class=\"payment-terms__elem\">\n         <p><b>Contact Store for Pricing Details</b></p>\n         <p><span class=\"hidden\">$56.88</span></p>\n         </li>\n         <li class=\"payment-terms__elem\">\n         <p>Number of Payments:</p>\n         <p>18</p>\n         </li>\n         </ul>: 5,\n         <div class=\"tabs__panel\" data-tab=\"1\" hidden=\"\" role=\"tabpanel\">\n         <ul class=\"payment-terms\">\n         <li class=\"payment-terms__elem\">\n         <p><b>Contact Store for Pricing Details</b></p>\n         <p><span class=\"hidden\">$56.88</span></p>\n         </li>\n         <li class=\"payment-terms__elem\">\n         <p>Number of Payments:</p>\n         <p>18</p>\n         </li>\n         </ul>\n         <div class=\"button-group\">\n         <form action=\"/cart/add\" enctype=\"multipart/form-data\" method=\"post\">\n         <input name=\"id\" type=\"hidden\" value=\"39439521153181\"/>\n         <input name=\"quantity\" type=\"hidden\" value=\"1\"/>\n         <button class=\"button\" data-remove=\"false\" type=\"submit\">Add to Wishlist</button>\n         </form>\n         <a class=\"button button--orange\" href=\"/pages/contact-us\">Start My Lease</a>\n         </div>\n         </div>: 5,\n         <p>12</p>: 5,\n         <li class=\"payment-terms__elem\">\n         <p>Number of Payments:</p>\n         <p>12</p>\n         </li>: 5,\n         <ul class=\"payment-terms\">\n         <li class=\"payment-terms__elem\">\n         <p><b>Contact Store for Pricing Details</b></p>\n         <p><span class=\"hidden\">$56.88</span></p>\n         </li>\n         <li class=\"payment-terms__elem\">\n         <p>Number of Payments:</p>\n         <p>12</p>\n         </li>\n         \n         </ul>: 5,\n         <div class=\"tabs__panel\" data-tab=\"0\" role=\"tabpanel\">\n         <ul class=\"payment-terms\">\n         <li class=\"payment-terms__elem\">\n         <p><b>Contact Store for Pricing Details</b></p>\n         <p><span class=\"hidden\">$56.88</span></p>\n         </li>\n         <li class=\"payment-terms__elem\">\n         <p>Number of Payments:</p>\n         <p>12</p>\n         </li>\n         \n         </ul>\n         <div class=\"button-group\">\n         <form action=\"/cart/add\" enctype=\"multipart/form-data\" method=\"post\">\n         <input name=\"id\" type=\"hidden\" value=\"39439521153181\"/>\n         <input name=\"quantity\" type=\"hidden\" value=\"1\"/>\n         <button class=\"button\" data-remove=\"false\" type=\"submit\">Add to Wishlist</button>\n         </form>\n         <a class=\"button button--orange\" href=\"/pages/contact-us\">Start My Lease</a>\n         </div>\n         </div>: 5,\n         <button class=\"tabs__tab\" data-tab=\"2\" role=\"tab\" type=\"button\">Cash Price</button>: 5,\n         <button class=\"tabs__tab\" data-tab=\"1\" role=\"tab\" type=\"button\">18 Months</button>: 5,\n         <button class=\"tabs__tab tabs__tab--active\" data-tab=\"0\" role=\"tab\" type=\"button\">12 Months</button>: 5,\n         <div class=\"tabs__list\" role=\"tablist\">\n         <button class=\"tabs__tab tabs__tab--active\" data-tab=\"0\" role=\"tab\" type=\"button\">12 Months</button>\n         <button class=\"tabs__tab\" data-tab=\"1\" role=\"tab\" type=\"button\">18 Months</button>\n         <button class=\"tabs__tab\" data-tab=\"2\" role=\"tab\" type=\"button\">Cash Price</button>\n         </div>: 5,\n         <div class=\"tabs\">\n         <div class=\"tabs__list\" role=\"tablist\">\n         <button class=\"tabs__tab tabs__tab--active\" data-tab=\"0\" role=\"tab\" type=\"button\">12 Months</button>\n         <button class=\"tabs__tab\" data-tab=\"1\" role=\"tab\" type=\"button\">18 Months</button>\n         <button class=\"tabs__tab\" data-tab=\"2\" role=\"tab\" type=\"button\">Cash Price</button>\n         </div>\n         <div class=\"tabs__panel\" data-tab=\"0\" role=\"tabpanel\">\n         <ul class=\"payment-terms\">\n         <li class=\"payment-terms__elem\">\n         <p><b>Contact Store for Pricing Details</b></p>\n         <p><span class=\"hidden\">$56.88</span></p>\n         </li>\n         <li class=\"payment-terms__elem\">\n         <p>Number of Payments:</p>\n         <p>12</p>\n         </li>\n         \n         </ul>\n         <div class=\"button-group\">\n         <form action=\"/cart/add\" enctype=\"multipart/form-data\" method=\"post\">\n         <input name=\"id\" type=\"hidden\" value=\"39439521153181\"/>\n         <input name=\"quantity\" type=\"hidden\" value=\"1\"/>\n         <button class=\"button\" data-remove=\"false\" type=\"submit\">Add to Wishlist</button>\n         </form>\n         <a class=\"button button--orange\" href=\"/pages/contact-us\">Start My Lease</a>\n         </div>\n         </div>\n         <div class=\"tabs__panel\" data-tab=\"1\" hidden=\"\" role=\"tabpanel\">\n         <ul class=\"payment-terms\">\n         <li class=\"payment-terms__elem\">\n         <p><b>Contact Store for Pricing Details</b></p>\n         <p><span class=\"hidden\">$56.88</span></p>\n         </li>\n         <li class=\"payment-terms__elem\">\n         <p>Number of Payments:</p>\n         <p>18</p>\n         </li>\n         </ul>\n         <div class=\"button-group\">\n         <form action=\"/cart/add\" enctype=\"multipart/form-data\" method=\"post\">\n         <input name=\"id\" type=\"hidden\" value=\"39439521153181\"/>\n         <input name=\"quantity\" type=\"hidden\" value=\"1\"/>\n         <button class=\"button\" data-remove=\"false\" type=\"submit\">Add to Wishlist</button>\n         </form>\n         <a class=\"button button--orange\" href=\"/pages/contact-us\">Start My Lease</a>\n         </div>\n         </div>\n         <div class=\"tabs__panel\" data-tab=\"2\" hidden=\"\" role=\"tabpanel\">\n         <ul class=\"payment-terms\">\n         <li class=\"payment-terms__elem\">\n         <p><b>Contact Store for Pricing Details</b></p>\n         <p><span class=\"hidden\">$170.66</span></p>\n         </li>\n         <li class=\"payment-terms__elem\">\n         <p>Number of Payments:</p>\n         <p>3</p>\n         </li>\n         <li class=\"payment-terms__elem\">\n         <p>Cost of Lease Services:</p>\n         <p>$0</p>\n         </li>\n         \n         </ul>\n         <div class=\"button-group\">\n         <form action=\"/cart/add\" enctype=\"multipart/form-data\" method=\"post\">\n         <input name=\"id\" type=\"hidden\" value=\"39439521153181\"/>\n         <input name=\"quantity\" type=\"hidden\" value=\"1\"/>\n         <button class=\"button\" data-remove=\"false\" type=\"submit\">Add to Wishlist</button>\n         </form>\n         <a class=\"button button--orange\" href=\"/pages/contact-us\">Start My Lease</a>\n         </div>\n         </div>\n         </div>: 5,\n         <p>Choose the lease ownership plan that works best for your budget.</p>: 5,\n         <strong>Choose Lease Ownership Plan</strong>: 5,\n         <p>\n         <strong>Choose Lease Ownership Plan</strong>\n         </p>: 5,\n         <span class=\"shopify-product-reviews-badge\" data-id=\"6594233008285\"></span>: 5,\n         <p>\n         <span class=\"shopify-product-reviews-badge\" data-id=\"6594233008285\"></span>\n         </p>: 5,\n         <div class=\"grid__col--xs-12 grid__col--lg-6\" style=\"margin-bottom: 30px;\">\n         <p>\n         <span class=\"shopify-product-reviews-badge\" data-id=\"6594233008285\"></span>\n         </p>\n         <p>\n         <strong>Choose Lease Ownership Plan</strong>\n         </p>\n         <p>Choose the lease ownership plan that works best for your budget.</p>\n         <div class=\"tabs\">\n         <div class=\"tabs__list\" role=\"tablist\">\n         <button class=\"tabs__tab tabs__tab--active\" data-tab=\"0\" role=\"tab\" type=\"button\">12 Months</button>\n         <button class=\"tabs__tab\" data-tab=\"1\" role=\"tab\" type=\"button\">18 Months</button>\n         <button class=\"tabs__tab\" data-tab=\"2\" role=\"tab\" type=\"button\">Cash Price</button>\n         </div>\n         <div class=\"tabs__panel\" data-tab=\"0\" role=\"tabpanel\">\n         <ul class=\"payment-terms\">\n         <li class=\"payment-terms__elem\">\n         <p><b>Contact Store for Pricing Details</b></p>\n         <p><span class=\"hidden\">$56.88</span></p>\n         </li>\n         <li class=\"payment-terms__elem\">\n         <p>Number of Payments:</p>\n         <p>12</p>\n         </li>\n         \n         </ul>\n         <div class=\"button-group\">\n         <form action=\"/cart/add\" enctype=\"multipart/form-data\" method=\"post\">\n         <input name=\"id\" type=\"hidden\" value=\"39439521153181\"/>\n         <input name=\"quantity\" type=\"hidden\" value=\"1\"/>\n         <button class=\"button\" data-remove=\"false\" type=\"submit\">Add to Wishlist</button>\n         </form>\n         <a class=\"button button--orange\" href=\"/pages/contact-us\">Start My Lease</a>\n         </div>\n         </div>\n         <div class=\"tabs__panel\" data-tab=\"1\" hidden=\"\" role=\"tabpanel\">\n         <ul class=\"payment-terms\">\n         <li class=\"payment-terms__elem\">\n         <p><b>Contact Store for Pricing Details</b></p>\n         <p><span class=\"hidden\">$56.88</span></p>\n         </li>\n         <li class=\"payment-terms__elem\">\n         <p>Number of Payments:</p>\n         <p>18</p>\n         </li>\n         </ul>\n         <div class=\"button-group\">\n         <form action=\"/cart/add\" enctype=\"multipart/form-data\" method=\"post\">\n         <input name=\"id\" type=\"hidden\" value=\"39439521153181\"/>\n         <input name=\"quantity\" type=\"hidden\" value=\"1\"/>\n         <button class=\"button\" data-remove=\"false\" type=\"submit\">Add to Wishlist</button>\n         </form>\n         <a class=\"button button--orange\" href=\"/pages/contact-us\">Start My Lease</a>\n         </div>\n         </div>\n         <div class=\"tabs__panel\" data-tab=\"2\" hidden=\"\" role=\"tabpanel\">\n         <ul class=\"payment-terms\">\n         <li class=\"payment-terms__elem\">\n         <p><b>Contact Store for Pricing Details</b></p>\n         <p><span class=\"hidden\">$170.66</span></p>\n         </li>\n         <li class=\"payment-terms__elem\">\n         <p>Number of Payments:</p>\n         <p>3</p>\n         </li>\n         <li class=\"payment-terms__elem\">\n         <p>Cost of Lease Services:</p>\n         <p>$0</p>\n         </li>\n         \n         </ul>\n         <div class=\"button-group\">\n         <form action=\"/cart/add\" enctype=\"multipart/form-data\" method=\"post\">\n         <input name=\"id\" type=\"hidden\" value=\"39439521153181\"/>\n         <input name=\"quantity\" type=\"hidden\" value=\"1\"/>\n         <button class=\"button\" data-remove=\"false\" type=\"submit\">Add to Wishlist</button>\n         </form>\n         <a class=\"button button--orange\" href=\"/pages/contact-us\">Start My Lease</a>\n         </div>\n         </div>\n         </div>\n         <p class=\"help\">Need help? <a href=\"/pages/contact-us\">Contact us</a> today!</p>\n         <div class=\"whats-included\">\n         <p>\n         <strong>What's Included:</strong>\n         </p>\n         <div class=\"icons\">\n         <p>\n         <i class=\"fas fa-truck\"></i>\n                       Delivery\n                     </p>\n         <p>\n         <i class=\"fas fa-tools\"></i>\n                       Service &amp; Repair\n                     </p>\n         </div>\n         <p>(1) Abney Swivel Accent Chair</p>\n         </div>\n         <p>\n         <a href=\"#\" style=\"color: #0787C0; text-decoration: underline;\">Read Terms &amp; Conditions</a>\n         </p>\n         <p>See Payment Info Below For Important Details</p>\n         </div>: 5,\n         <img alt=\"Abney Swivel Accent Chair\" src=\"//ahfshop.com/cdn/shop/products/4970142-Abney-DIM_150x150.jpg?v=1616099274\"/>: 5,\n         <div>\n         <img alt=\"Abney Swivel Accent Chair\" src=\"//ahfshop.com/cdn/shop/products/4970142-Abney-DIM_150x150.jpg?v=1616099274\"/>\n         </div>: 5,\n         <img alt=\"Abney Swivel Accent Chair\" src=\"//ahfshop.com/cdn/shop/products/49701-18-42-A3000060-T459_150x150.jpg?v=1616099274\"/>: 5,\n         <div>\n         <img alt=\"Abney Swivel Accent Chair\" src=\"//ahfshop.com/cdn/shop/products/49701-18-42-A3000060-T459_150x150.jpg?v=1616099274\"/>\n         </div>: 5,\n         <img alt=\"Abney Swivel Accent Chair\" src=\"//ahfshop.com/cdn/shop/products/4970142-10X8-CROP_150x150.jpg?v=1616099264\"/>: 5,\n         <div>\n         <img alt=\"Abney Swivel Accent Chair\" src=\"//ahfshop.com/cdn/shop/products/4970142-10X8-CROP_150x150.jpg?v=1616099264\"/>\n         </div>: 5,\n         <div class=\"product-thumbnails\">\n         <div>\n         <img alt=\"Abney Swivel Accent Chair\" src=\"//ahfshop.com/cdn/shop/products/4970142-10X8-CROP_150x150.jpg?v=1616099264\"/>\n         </div>\n         <div>\n         <img alt=\"Abney Swivel Accent Chair\" src=\"//ahfshop.com/cdn/shop/products/49701-18-42-A3000060-T459_150x150.jpg?v=1616099274\"/>\n         </div>\n         <div>\n         <img alt=\"Abney Swivel Accent Chair\" src=\"//ahfshop.com/cdn/shop/products/4970142-Abney-DIM_150x150.jpg?v=1616099274\"/>\n         </div>\n         </div>: 5,\n         <img alt=\"Abney Swivel Accent Chair\" data-zoom-image=\"//ahfshop.com/cdn/shop/products/4970142-Abney-DIM.jpg?v=1616099274\" src=\"//ahfshop.com/cdn/shop/products/4970142-Abney-DIM_600x600.jpg?v=1616099274\"/>: 5,\n         <div>\n         <img alt=\"Abney Swivel Accent Chair\" data-zoom-image=\"//ahfshop.com/cdn/shop/products/4970142-Abney-DIM.jpg?v=1616099274\" src=\"//ahfshop.com/cdn/shop/products/4970142-Abney-DIM_600x600.jpg?v=1616099274\"/>\n         </div>: 5,\n         <img alt=\"Abney Swivel Accent Chair\" data-zoom-image=\"//ahfshop.com/cdn/shop/products/49701-18-42-A3000060-T459.jpg?v=1616099274\" src=\"//ahfshop.com/cdn/shop/products/49701-18-42-A3000060-T459_600x600.jpg?v=1616099274\"/>: 5,\n         <div>\n         <img alt=\"Abney Swivel Accent Chair\" data-zoom-image=\"//ahfshop.com/cdn/shop/products/49701-18-42-A3000060-T459.jpg?v=1616099274\" src=\"//ahfshop.com/cdn/shop/products/49701-18-42-A3000060-T459_600x600.jpg?v=1616099274\"/>\n         </div>: 5,\n         <img alt=\"Abney Swivel Accent Chair\" data-zoom-image=\"//ahfshop.com/cdn/shop/products/4970142-10X8-CROP.jpg?v=1616099264\" src=\"//ahfshop.com/cdn/shop/products/4970142-10X8-CROP_600x600.jpg?v=1616099264\"/>: 5,\n         <div>\n         <img alt=\"Abney Swivel Accent Chair\" data-zoom-image=\"//ahfshop.com/cdn/shop/products/4970142-10X8-CROP.jpg?v=1616099264\" src=\"//ahfshop.com/cdn/shop/products/4970142-10X8-CROP_600x600.jpg?v=1616099264\"/>\n         </div>: 5,\n         <div class=\"product-images\">\n         <div>\n         <img alt=\"Abney Swivel Accent Chair\" data-zoom-image=\"//ahfshop.com/cdn/shop/products/4970142-10X8-CROP.jpg?v=1616099264\" src=\"//ahfshop.com/cdn/shop/products/4970142-10X8-CROP_600x600.jpg?v=1616099264\"/>\n         </div>\n         <div>\n         <img alt=\"Abney Swivel Accent Chair\" data-zoom-image=\"//ahfshop.com/cdn/shop/products/49701-18-42-A3000060-T459.jpg?v=1616099274\" src=\"//ahfshop.com/cdn/shop/products/49701-18-42-A3000060-T459_600x600.jpg?v=1616099274\"/>\n         </div>\n         <div>\n         <img alt=\"Abney Swivel Accent Chair\" data-zoom-image=\"//ahfshop.com/cdn/shop/products/4970142-Abney-DIM.jpg?v=1616099274\" src=\"//ahfshop.com/cdn/shop/products/4970142-Abney-DIM_600x600.jpg?v=1616099274\"/>\n         </div>\n         </div>: 5,\n         <div class=\"grid__col--xs-12 grid__col--lg-6\" style=\"margin-bottom: 30px;\">\n         <div class=\"product-images\">\n         <div>\n         <img alt=\"Abney Swivel Accent Chair\" data-zoom-image=\"//ahfshop.com/cdn/shop/products/4970142-10X8-CROP.jpg?v=1616099264\" src=\"//ahfshop.com/cdn/shop/products/4970142-10X8-CROP_600x600.jpg?v=1616099264\"/>\n         </div>\n         <div>\n         <img alt=\"Abney Swivel Accent Chair\" data-zoom-image=\"//ahfshop.com/cdn/shop/products/49701-18-42-A3000060-T459.jpg?v=1616099274\" src=\"//ahfshop.com/cdn/shop/products/49701-18-42-A3000060-T459_600x600.jpg?v=1616099274\"/>\n         </div>\n         <div>\n         <img alt=\"Abney Swivel Accent Chair\" data-zoom-image=\"//ahfshop.com/cdn/shop/products/4970142-Abney-DIM.jpg?v=1616099274\" src=\"//ahfshop.com/cdn/shop/products/4970142-Abney-DIM_600x600.jpg?v=1616099274\"/>\n         </div>\n         </div>\n         <div class=\"product-thumbnails\">\n         <div>\n         <img alt=\"Abney Swivel Accent Chair\" src=\"//ahfshop.com/cdn/shop/products/4970142-10X8-CROP_150x150.jpg?v=1616099264\"/>\n         </div>\n         <div>\n         <img alt=\"Abney Swivel Accent Chair\" src=\"//ahfshop.com/cdn/shop/products/49701-18-42-A3000060-T459_150x150.jpg?v=1616099274\"/>\n         </div>\n         <div>\n         <img alt=\"Abney Swivel Accent Chair\" src=\"//ahfshop.com/cdn/shop/products/4970142-Abney-DIM_150x150.jpg?v=1616099274\"/>\n         </div>\n         </div>\n         </div>: 5,\n         <div class=\"grid\">\n         <div class=\"grid__col--xs-12 grid__col--lg-6\" style=\"margin-bottom: 30px;\">\n         <div class=\"product-images\">\n         <div>\n         <img alt=\"Abney Swivel Accent Chair\" data-zoom-image=\"//ahfshop.com/cdn/shop/products/4970142-10X8-CROP.jpg?v=1616099264\" src=\"//ahfshop.com/cdn/shop/products/4970142-10X8-CROP_600x600.jpg?v=1616099264\"/>\n         </div>\n         <div>\n         <img alt=\"Abney Swivel Accent Chair\" data-zoom-image=\"//ahfshop.com/cdn/shop/products/49701-18-42-A3000060-T459.jpg?v=1616099274\" src=\"//ahfshop.com/cdn/shop/products/49701-18-42-A3000060-T459_600x600.jpg?v=1616099274\"/>\n         </div>\n         <div>\n         <img alt=\"Abney Swivel Accent Chair\" data-zoom-image=\"//ahfshop.com/cdn/shop/products/4970142-Abney-DIM.jpg?v=1616099274\" src=\"//ahfshop.com/cdn/shop/products/4970142-Abney-DIM_600x600.jpg?v=1616099274\"/>\n         </div>\n         </div>\n         <div class=\"product-thumbnails\">\n         <div>\n         <img alt=\"Abney Swivel Accent Chair\" src=\"//ahfshop.com/cdn/shop/products/4970142-10X8-CROP_150x150.jpg?v=1616099264\"/>\n         </div>\n         <div>\n         <img alt=\"Abney Swivel Accent Chair\" src=\"//ahfshop.com/cdn/shop/products/49701-18-42-A3000060-T459_150x150.jpg?v=1616099274\"/>\n         </div>\n         <div>\n         <img alt=\"Abney Swivel Accent Chair\" src=\"//ahfshop.com/cdn/shop/products/4970142-Abney-DIM_150x150.jpg?v=1616099274\"/>\n         </div>\n         </div>\n         </div>\n         <div class=\"grid__col--xs-12 grid__col--lg-6\" style=\"margin-bottom: 30px;\">\n         <p>\n         <span class=\"shopify-product-reviews-badge\" data-id=\"6594233008285\"></span>\n         </p>\n         <p>\n         <strong>Choose Lease Ownership Plan</strong>\n         </p>\n         <p>Choose the lease ownership plan that works best for your budget.</p>\n         <div class=\"tabs\">\n         <div class=\"tabs__list\" role=\"tablist\">\n         <button class=\"tabs__tab tabs__tab--active\" data-tab=\"0\" role=\"tab\" type=\"button\">12 Months</button>\n         <button class=\"tabs__tab\" data-tab=\"1\" role=\"tab\" type=\"button\">18 Months</button>\n         <button class=\"tabs__tab\" data-tab=\"2\" role=\"tab\" type=\"button\">Cash Price</button>\n         </div>\n         <div class=\"tabs__panel\" data-tab=\"0\" role=\"tabpanel\">\n         <ul class=\"payment-terms\">\n         <li class=\"payment-terms__elem\">\n         <p><b>Contact Store for Pricing Details</b></p>\n         <p><span class=\"hidden\">$56.88</span></p>\n         </li>\n         <li class=\"payment-terms__elem\">\n         <p>Number of Payments:</p>\n         <p>12</p>\n         </li>\n         \n         </ul>\n         <div class=\"button-group\">\n         <form action=\"/cart/add\" enctype=\"multipart/form-data\" method=\"post\">\n         <input name=\"id\" type=\"hidden\" value=\"39439521153181\"/>\n         <input name=\"quantity\" type=\"hidden\" value=\"1\"/>\n         <button class=\"button\" data-remove=\"false\" type=\"submit\">Add to Wishlist</button>\n         </form>\n         <a class=\"button button--orange\" href=\"/pages/contact-us\">Start My Lease</a>\n         </div>\n         </div>\n         <div class=\"tabs__panel\" data-tab=\"1\" hidden=\"\" role=\"tabpanel\">\n         <ul class=\"payment-terms\">\n         <li class=\"payment-terms__elem\">\n         <p><b>Contact Store for Pricing Details</b></p>\n         <p><span class=\"hidden\">$56.88</span></p>\n         </li>\n         <li class=\"payment-terms__elem\">\n         <p>Number of Payments:</p>\n         <p>18</p>\n         </li>\n         </ul>\n         <div class=\"button-group\">\n         <form action=\"/cart/add\" enctype=\"multipart/form-data\" method=\"post\">\n         <input name=\"id\" type=\"hidden\" value=\"39439521153181\"/>\n         <input name=\"quantity\" type=\"hidden\" value=\"1\"/>\n         <button class=\"button\" data-remove=\"false\" type=\"submit\">Add to Wishlist</button>\n         </form>\n         <a class=\"button button--orange\" href=\"/pages/contact-us\">Start My Lease</a>\n         </div>\n         </div>\n         <div class=\"tabs__panel\" data-tab=\"2\" hidden=\"\" role=\"tabpanel\">\n         <ul class=\"payment-terms\">\n         <li class=\"payment-terms__elem\">\n         <p><b>Contact Store for Pricing Details</b></p>\n         <p><span class=\"hidden\">$170.66</span></p>\n         </li>\n         <li class=\"payment-terms__elem\">\n         <p>Number of Payments:</p>\n         <p>3</p>\n         </li>\n         <li class=\"payment-terms__elem\">\n         <p>Cost of Lease Services:</p>\n         <p>$0</p>\n         </li>\n         \n         </ul>\n         <div class=\"button-group\">\n         <form action=\"/cart/add\" enctype=\"multipart/form-data\" method=\"post\">\n         <input name=\"id\" type=\"hidden\" value=\"39439521153181\"/>\n         <input name=\"quantity\" type=\"hidden\" value=\"1\"/>\n         <button class=\"button\" data-remove=\"false\" type=\"submit\">Add to Wishlist</button>\n         </form>\n         <a class=\"button button--orange\" href=\"/pages/contact-us\">Start My Lease</a>\n         </div>\n         </div>\n         </div>\n         <p class=\"help\">Need help? <a href=\"/pages/contact-us\">Contact us</a> today!</p>\n         <div class=\"whats-included\">\n         <p>\n         <strong>What's Included:</strong>\n         </p>\n         <div class=\"icons\">\n         <p>\n         <i class=\"fas fa-truck\"></i>\n                       Delivery\n                     </p>\n         <p>\n         <i class=\"fas fa-tools\"></i>\n                       Service &amp; Repair\n                     </p>\n         </div>\n         <p>(1) Abney Swivel Accent Chair</p>\n         </div>\n         <p>\n         <a href=\"#\" style=\"color: #0787C0; text-decoration: underline;\">Read Terms &amp; Conditions</a>\n         </p>\n         <p>See Payment Info Below For Important Details</p>\n         </div>\n         </div>: 5,\n         <h1 class=\"product__title\">Abney Swivel Accent Chair</h1>: 5,\n         <h2 class=\"product__brand\">Ashley</h2>: 5,\n         <div class=\"container container--large\">\n         <h2 class=\"product__brand\">Ashley</h2>\n         <h1 class=\"product__title\">Abney Swivel Accent Chair</h1>\n         <div class=\"grid\">\n         <div class=\"grid__col--xs-12 grid__col--lg-6\" style=\"margin-bottom: 30px;\">\n         <div class=\"product-images\">\n         <div>\n         <img alt=\"Abney Swivel Accent Chair\" data-zoom-image=\"//ahfshop.com/cdn/shop/products/4970142-10X8-CROP.jpg?v=1616099264\" src=\"//ahfshop.com/cdn/shop/products/4970142-10X8-CROP_600x600.jpg?v=1616099264\"/>\n         </div>\n         <div>\n         <img alt=\"Abney Swivel Accent Chair\" data-zoom-image=\"//ahfshop.com/cdn/shop/products/49701-18-42-A3000060-T459.jpg?v=1616099274\" src=\"//ahfshop.com/cdn/shop/products/49701-18-42-A3000060-T459_600x600.jpg?v=1616099274\"/>\n         </div>\n         <div>\n         <img alt=\"Abney Swivel Accent Chair\" data-zoom-image=\"//ahfshop.com/cdn/shop/products/4970142-Abney-DIM.jpg?v=1616099274\" src=\"//ahfshop.com/cdn/shop/products/4970142-Abney-DIM_600x600.jpg?v=1616099274\"/>\n         </div>\n         </div>\n         <div class=\"product-thumbnails\">\n         <div>\n         <img alt=\"Abney Swivel Accent Chair\" src=\"//ahfshop.com/cdn/shop/products/4970142-10X8-CROP_150x150.jpg?v=1616099264\"/>\n         </div>\n         <div>\n         <img alt=\"Abney Swivel Accent Chair\" src=\"//ahfshop.com/cdn/shop/products/49701-18-42-A3000060-T459_150x150.jpg?v=1616099274\"/>\n         </div>\n         <div>\n         <img alt=\"Abney Swivel Accent Chair\" src=\"//ahfshop.com/cdn/shop/products/4970142-Abney-DIM_150x150.jpg?v=1616099274\"/>\n         </div>\n         </div>\n         </div>\n         <div class=\"grid__col--xs-12 grid__col--lg-6\" style=\"margin-bottom: 30px;\">\n         <p>\n         <span class=\"shopify-product-reviews-badge\" data-id=\"6594233008285\"></span>\n         </p>\n         <p>\n         <strong>Choose Lease Ownership Plan</strong>\n         </p>\n         <p>Choose the lease ownership plan that works best for your budget.</p>\n         <div class=\"tabs\">\n         <div class=\"tabs__list\" role=\"tablist\">\n         <button class=\"tabs__tab tabs__tab--active\" data-tab=\"0\" role=\"tab\" type=\"button\">12 Months</button>\n         <button class=\"tabs__tab\" data-tab=\"1\" role=\"tab\" type=\"button\">18 Months</button>\n         <button class=\"tabs__tab\" data-tab=\"2\" role=\"tab\" type=\"button\">Cash Price</button>\n         </div>\n         <div class=\"tabs__panel\" data-tab=\"0\" role=\"tabpanel\">\n         <ul class=\"payment-terms\">\n         <li class=\"payment-terms__elem\">\n         <p><b>Contact Store for Pricing Details</b></p>\n         <p><span class=\"hidden\">$56.88</span></p>\n         </li>\n         <li class=\"payment-terms__elem\">\n         <p>Number of Payments:</p>\n         <p>12</p>\n         </li>\n         \n         </ul>\n         <div class=\"button-group\">\n         <form action=\"/cart/add\" enctype=\"multipart/form-data\" method=\"post\">\n         <input name=\"id\" type=\"hidden\" value=\"39439521153181\"/>\n         <input name=\"quantity\" type=\"hidden\" value=\"1\"/>\n         <button class=\"button\" data-remove=\"false\" type=\"submit\">Add to Wishlist</button>\n         </form>\n         <a class=\"button button--orange\" href=\"/pages/contact-us\">Start My Lease</a>\n         </div>\n         </div>\n         <div class=\"tabs__panel\" data-tab=\"1\" hidden=\"\" role=\"tabpanel\">\n         <ul class=\"payment-terms\">\n         <li class=\"payment-terms__elem\">\n         <p><b>Contact Store for Pricing Details</b></p>\n         <p><span class=\"hidden\">$56.88</span></p>\n         </li>\n         <li class=\"payment-terms__elem\">\n         <p>Number of Payments:</p>\n         <p>18</p>\n         </li>\n         </ul>\n         <div class=\"button-group\">\n         <form action=\"/cart/add\" enctype=\"multipart/form-data\" method=\"post\">\n         <input name=\"id\" type=\"hidden\" value=\"39439521153181\"/>\n         <input name=\"quantity\" type=\"hidden\" value=\"1\"/>\n         <button class=\"button\" data-remove=\"false\" type=\"submit\">Add to Wishlist</button>\n         </form>\n         <a class=\"button button--orange\" href=\"/pages/contact-us\">Start My Lease</a>\n         </div>\n         </div>\n         <div class=\"tabs__panel\" data-tab=\"2\" hidden=\"\" role=\"tabpanel\">\n         <ul class=\"payment-terms\">\n         <li class=\"payment-terms__elem\">\n         <p><b>Contact Store for Pricing Details</b></p>\n         <p><span class=\"hidden\">$170.66</span></p>\n         </li>\n         <li class=\"payment-terms__elem\">\n         <p>Number of Payments:</p>\n         <p>3</p>\n         </li>\n         <li class=\"payment-terms__elem\">\n         <p>Cost of Lease Services:</p>\n         <p>$0</p>\n         </li>\n         \n         </ul>\n         <div class=\"button-group\">\n         <form action=\"/cart/add\" enctype=\"multipart/form-data\" method=\"post\">\n         <input name=\"id\" type=\"hidden\" value=\"39439521153181\"/>\n         <input name=\"quantity\" type=\"hidden\" value=\"1\"/>\n         <button class=\"button\" data-remove=\"false\" type=\"submit\">Add to Wishlist</button>\n         </form>\n         <a class=\"button button--orange\" href=\"/pages/contact-us\">Start My Lease</a>\n         </div>\n         </div>\n         </div>\n         <p class=\"help\">Need help? <a href=\"/pages/contact-us\">Contact us</a> today!</p>\n         <div class=\"whats-included\">\n         <p>\n         <strong>What's Included:</strong>\n         </p>\n         <div class=\"icons\">\n         <p>\n         <i class=\"fas fa-truck\"></i>\n                       Delivery\n                     </p>\n         <p>\n         <i class=\"fas fa-tools\"></i>\n                       Service &amp; Repair\n                     </p>\n         </div>\n         <p>(1) Abney Swivel Accent Chair</p>\n         </div>\n         <p>\n         <a href=\"#\" style=\"color: #0787C0; text-decoration: underline;\">Read Terms &amp; Conditions</a>\n         </p>\n         <p>See Payment Info Below For Important Details</p>\n         </div>\n         </div>\n         <div class=\"accordion-container\">\n         <div class=\"accordion\">\n         <button class=\"accordion__trigger\" data-accordion=\"0\">\n         <h3>Description</h3>\n         <i class=\"fas fa-chevron-down\"></i>\n         </button>\n         <div class=\"accordion__content accordion__content--active\" data-accordion=\"0\">\n         <div class=\"padding\">\n         <p><span data-mce-fragment=\"1\">This vine-patterned swivel accent chair is the natural choice when it comes to cool and contemporary decor. Form follows function in the sleek design and smooth 360-degree turning radius. What a fresh take on living room seating.</span><br/></p>\n         <ul class=\"FeatureBullets\" type=\"disc\">\n         <li class=\"orangecolor\"><span>Corner-blocked frame</span></li>\n         <li class=\"orangecolor\"><span>Attached back and loose seat cushions</span></li>\n         <li class=\"orangecolor\"><span>High-resiliency foam cushions wrapped in thick poly fiber</span></li>\n         <li class=\"orangecolor\"><span>Polyester/rayon upholstery</span></li>\n         <li class=\"orangecolor\"><span>Smooth 360-degree swivel</span></li>\n         </ul>\n         </div>\n         </div>\n         <button class=\"accordion__trigger\" data-accordion=\"1\">\n         <h3>Payment Info</h3>\n         <i class=\"fas fa-chevron-down\"></i>\n         </button>\n         <div class=\"accordion__content\" data-accordion=\"1\">\n         <div class=\"padding\">\n         <p>\n         <strong>Does AHF even check my credit?</strong>\n         </p>\n         <p>As part of our approval processes, AHF will check credit history and creditworthiness and rely upon customer reports and information obtained from third-parties in considering your application. We do check credit sources; however, we look at many other data points to make a final decision and we regularly approve customers that other stores won’t, including customers with less than perfect credit or very little credit history.</p>\n         <p>\n         <strong>What about a security deposit?</strong>\n         </p>\n         <p>No rental agreement with AHF requires a security deposit. Simply pay your first month’s rent at the time your agreement is signed.</p>\n         <p>\n         <strong>How and when do I make my payments?</strong>\n         </p>\n         <p>As an AHF customer, our flexible payment plans include low bi-weekly or monthly plans, and 3 months or 6 months “same as cash” options. Your local store will accept cash, checks, money orders, and all major credit cards. Take advantage of our easy automatic payment option when finalizing your agreement and simplify the pressures in your life.</p>\n         <p>\n         <strong>Can I pay out my lease early?</strong>\n         </p>\n         <p>Yes. AHF offers a “same as cash” option for all our products that is available to any customer regardless of your current agreement. If you choose to payout your merchandise early within the applicable “same as cash” period, you will pay the cash price, plus tax and applicable fees (if any). Contact your local store to determine what savings you qualify for.</p>\n         <p>\n         <strong>What is AHF’s return/refund policy?</strong>\n         </p>\n         <p>Once your item has been delivered, you can contact your local store to schedule a time for return or pick-up as stated in your agreement.</p>\n         </div>\n         </div>\n         <button class=\"accordion__trigger\" data-accordion=\"2\">\n         <h3>Specs</h3>\n         <i class=\"fas fa-chevron-down\"></i>\n         </button>\n         <div class=\"accordion__content\" data-accordion=\"2\">\n         <div class=\"padding product-specs\">\n         <div class=\"row\">\n         <div class=\"col-md-12\">\n         <div class=\"row\">\n         <div class=\"col-sm-9 col-md-9 col-lg-9 col-xl-10\">\n         <div class=\"row\">\n         <div class=\"col-md-12\">Inches: 36\" W x 37\" D x 36\" H</div>\n         </div>\n         <div class=\"row\">\n         <div class=\"col-md-12\">Metric: 914.4mm W x 939.8mm D x 914.4mm H</div>\n         <div class=\"col-md-12\"></div>\n         </div>\n         </div>\n         </div>\n         <div class=\"row\">\n         <div class=\"col-sm-3 col-md-3 col-lg-3 col-xl-2\"><strong>More Dimensions:</strong></div>\n         <div class=\"col-sm-9 col-md-9 col-lg-9 col-xl-10\">\n         <div class=\"row\">\n         <div class=\"col-md-12\">Arm height: 25\"</div>\n         </div>\n         <div class=\"row\">\n         <div class=\"col-md-12\">Distance between arms: 20\"</div>\n         </div>\n         <div class=\"row\">\n         <div class=\"col-md-12\">Minimum width of doorway for delivery: 26\"</div>\n         </div>\n         <div class=\"row\">\n         <div class=\"col-md-12\">Seat depth: 21\"</div>\n         </div>\n         <div class=\"row\">\n         <div class=\"col-md-12\">Seat height: 20\"</div>\n         </div>\n         <div class=\"row\">\n         <div class=\"col-md-12\">Top of cushion to top of back: 18\"</div>\n         </div>\n         </div>\n         </div>\n         </div>\n         </div>\n         </div>\n         </div>\n         <button class=\"accordion__trigger\" data-accordion=\"3\">\n         <h3>\n                     Reviews\n                     <span class=\"shopify-product-reviews-badge\" data-id=\"6594233008285\"></span>\n         </h3>\n         <i class=\"fas fa-chevron-down\"></i>\n         </button>\n         <div class=\"accordion__content\" data-accordion=\"3\">\n         <div data-id=\"6594233008285\" id=\"shopify-product-reviews\"></div>\n         </div>\n         </div>\n         </div>\n         <div class=\"border-line\"></div>\n         <div class=\"border-line\"></div>\n         <h2 class=\"text-center recently-viewed-header\">Recently Viewed</h2>\n         <div class=\"recently-viewed\">\n         </div>\n         </div>: 5,\n         <section class=\"product\">\n         <div class=\"container container--large\">\n         <h2 class=\"product__brand\">Ashley</h2>\n         <h1 class=\"product__title\">Abney Swivel Accent Chair</h1>\n         <div class=\"grid\">\n         <div class=\"grid__col--xs-12 grid__col--lg-6\" style=\"margin-bottom: 30px;\">\n         <div class=\"product-images\">\n         <div>\n         <img alt=\"Abney Swivel Accent Chair\" data-zoom-image=\"//ahfshop.com/cdn/shop/products/4970142-10X8-CROP.jpg?v=1616099264\" src=\"//ahfshop.com/cdn/shop/products/4970142-10X8-CROP_600x600.jpg?v=1616099264\"/>\n         </div>\n         <div>\n         <img alt=\"Abney Swivel Accent Chair\" data-zoom-image=\"//ahfshop.com/cdn/shop/products/49701-18-42-A3000060-T459.jpg?v=1616099274\" src=\"//ahfshop.com/cdn/shop/products/49701-18-42-A3000060-T459_600x600.jpg?v=1616099274\"/>\n         </div>\n         <div>\n         <img alt=\"Abney Swivel Accent Chair\" data-zoom-image=\"//ahfshop.com/cdn/shop/products/4970142-Abney-DIM.jpg?v=1616099274\" src=\"//ahfshop.com/cdn/shop/products/4970142-Abney-DIM_600x600.jpg?v=1616099274\"/>\n         </div>\n         </div>\n         <div class=\"product-thumbnails\">\n         <div>\n         <img alt=\"Abney Swivel Accent Chair\" src=\"//ahfshop.com/cdn/shop/products/4970142-10X8-CROP_150x150.jpg?v=1616099264\"/>\n         </div>\n         <div>\n         <img alt=\"Abney Swivel Accent Chair\" src=\"//ahfshop.com/cdn/shop/products/49701-18-42-A3000060-T459_150x150.jpg?v=1616099274\"/>\n         </div>\n         <div>\n         <img alt=\"Abney Swivel Accent Chair\" src=\"//ahfshop.com/cdn/shop/products/4970142-Abney-DIM_150x150.jpg?v=1616099274\"/>\n         </div>\n         </div>\n         </div>\n         <div class=\"grid__col--xs-12 grid__col--lg-6\" style=\"margin-bottom: 30px;\">\n         <p>\n         <span class=\"shopify-product-reviews-badge\" data-id=\"6594233008285\"></span>\n         </p>\n         <p>\n         <strong>Choose Lease Ownership Plan</strong>\n         </p>\n         <p>Choose the lease ownership plan that works best for your budget.</p>\n         <div class=\"tabs\">\n         <div class=\"tabs__list\" role=\"tablist\">\n         <button class=\"tabs__tab tabs__tab--active\" data-tab=\"0\" role=\"tab\" type=\"button\">12 Months</button>\n         <button class=\"tabs__tab\" data-tab=\"1\" role=\"tab\" type=\"button\">18 Months</button>\n         <button class=\"tabs__tab\" data-tab=\"2\" role=\"tab\" type=\"button\">Cash Price</button>\n         </div>\n         <div class=\"tabs__panel\" data-tab=\"0\" role=\"tabpanel\">\n         <ul class=\"payment-terms\">\n         <li class=\"payment-terms__elem\">\n         <p><b>Contact Store for Pricing Details</b></p>\n         <p><span class=\"hidden\">$56.88</span></p>\n         </li>\n         <li class=\"payment-terms__elem\">\n         <p>Number of Payments:</p>\n         <p>12</p>\n         </li>\n         \n         </ul>\n         <div class=\"button-group\">\n         <form action=\"/cart/add\" enctype=\"multipart/form-data\" method=\"post\">\n         <input name=\"id\" type=\"hidden\" value=\"39439521153181\"/>\n         <input name=\"quantity\" type=\"hidden\" value=\"1\"/>\n         <button class=\"button\" data-remove=\"false\" type=\"submit\">Add to Wishlist</button>\n         </form>\n         <a class=\"button button--orange\" href=\"/pages/contact-us\">Start My Lease</a>\n         </div>\n         </div>\n         <div class=\"tabs__panel\" data-tab=\"1\" hidden=\"\" role=\"tabpanel\">\n         <ul class=\"payment-terms\">\n         <li class=\"payment-terms__elem\">\n         <p><b>Contact Store for Pricing Details</b></p>\n         <p><span class=\"hidden\">$56.88</span></p>\n         </li>\n         <li class=\"payment-terms__elem\">\n         <p>Number of Payments:</p>\n         <p>18</p>\n         </li>\n         </ul>\n         <div class=\"button-group\">\n         <form action=\"/cart/add\" enctype=\"multipart/form-data\" method=\"post\">\n         <input name=\"id\" type=\"hidden\" value=\"39439521153181\"/>\n         <input name=\"quantity\" type=\"hidden\" value=\"1\"/>\n         <button class=\"button\" data-remove=\"false\" type=\"submit\">Add to Wishlist</button>\n         </form>\n         <a class=\"button button--orange\" href=\"/pages/contact-us\">Start My Lease</a>\n         </div>\n         </div>\n         <div class=\"tabs__panel\" data-tab=\"2\" hidden=\"\" role=\"tabpanel\">\n         <ul class=\"payment-terms\">\n         <li class=\"payment-terms__elem\">\n         <p><b>Contact Store for Pricing Details</b></p>\n         <p><span class=\"hidden\">$170.66</span></p>\n         </li>\n         <li class=\"payment-terms__elem\">\n         <p>Number of Payments:</p>\n         <p>3</p>\n         </li>\n         <li class=\"payment-terms__elem\">\n         <p>Cost of Lease Services:</p>\n         <p>$0</p>\n         </li>\n         \n         </ul>\n         <div class=\"button-group\">\n         <form action=\"/cart/add\" enctype=\"multipart/form-data\" method=\"post\">\n         <input name=\"id\" type=\"hidden\" value=\"39439521153181\"/>\n         <input name=\"quantity\" type=\"hidden\" value=\"1\"/>\n         <button class=\"button\" data-remove=\"false\" type=\"submit\">Add to Wishlist</button>\n         </form>\n         <a class=\"button button--orange\" href=\"/pages/contact-us\">Start My Lease</a>\n         </div>\n         </div>\n         </div>\n         <p class=\"help\">Need help? <a href=\"/pages/contact-us\">Contact us</a> today!</p>\n         <div class=\"whats-included\">\n         <p>\n         <strong>What's Included:</strong>\n         </p>\n         <div class=\"icons\">\n         <p>\n         <i class=\"fas fa-truck\"></i>\n                       Delivery\n                     </p>\n         <p>\n         <i class=\"fas fa-tools\"></i>\n                       Service &amp; Repair\n                     </p>\n         </div>\n         <p>(1) Abney Swivel Accent Chair</p>\n         </div>\n         <p>\n         <a href=\"#\" style=\"color: #0787C0; text-decoration: underline;\">Read Terms &amp; Conditions</a>\n         </p>\n         <p>See Payment Info Below For Important Details</p>\n         </div>\n         </div>\n         <div class=\"accordion-container\">\n         <div class=\"accordion\">\n         <button class=\"accordion__trigger\" data-accordion=\"0\">\n         <h3>Description</h3>\n         <i class=\"fas fa-chevron-down\"></i>\n         </button>\n         <div class=\"accordion__content accordion__content--active\" data-accordion=\"0\">\n         <div class=\"padding\">\n         <p><span data-mce-fragment=\"1\">This vine-patterned swivel accent chair is the natural choice when it comes to cool and contemporary decor. Form follows function in the sleek design and smooth 360-degree turning radius. What a fresh take on living room seating.</span><br/></p>\n         <ul class=\"FeatureBullets\" type=\"disc\">\n         <li class=\"orangecolor\"><span>Corner-blocked frame</span></li>\n         <li class=\"orangecolor\"><span>Attached back and loose seat cushions</span></li>\n         <li class=\"orangecolor\"><span>High-resiliency foam cushions wrapped in thick poly fiber</span></li>\n         <li class=\"orangecolor\"><span>Polyester/rayon upholstery</span></li>\n         <li class=\"orangecolor\"><span>Smooth 360-degree swivel</span></li>\n         </ul>\n         </div>\n         </div>\n         <button class=\"accordion__trigger\" data-accordion=\"1\">\n         <h3>Payment Info</h3>\n         <i class=\"fas fa-chevron-down\"></i>\n         </button>\n         <div class=\"accordion__content\" data-accordion=\"1\">\n         <div class=\"padding\">\n         <p>\n         <strong>Does AHF even check my credit?</strong>\n         </p>\n         <p>As part of our approval processes, AHF will check credit history and creditworthiness and rely upon customer reports and information obtained from third-parties in considering your application. We do check credit sources; however, we look at many other data points to make a final decision and we regularly approve customers that other stores won’t, including customers with less than perfect credit or very little credit history.</p>\n         <p>\n         <strong>What about a security deposit?</strong>\n         </p>\n         <p>No rental agreement with AHF requires a security deposit. Simply pay your first month’s rent at the time your agreement is signed.</p>\n         <p>\n         <strong>How and when do I make my payments?</strong>\n         </p>\n         <p>As an AHF customer, our flexible payment plans include low bi-weekly or monthly plans, and 3 months or 6 months “same as cash” options. Your local store will accept cash, checks, money orders, and all major credit cards. Take advantage of our easy automatic payment option when finalizing your agreement and simplify the pressures in your life.</p>\n         <p>\n         <strong>Can I pay out my lease early?</strong>\n         </p>\n         <p>Yes. AHF offers a “same as cash” option for all our products that is available to any customer regardless of your current agreement. If you choose to payout your merchandise early within the applicable “same as cash” period, you will pay the cash price, plus tax and applicable fees (if any). Contact your local store to determine what savings you qualify for.</p>\n         <p>\n         <strong>What is AHF’s return/refund policy?</strong>\n         </p>\n         <p>Once your item has been delivered, you can contact your local store to schedule a time for return or pick-up as stated in your agreement.</p>\n         </div>\n         </div>\n         <button class=\"accordion__trigger\" data-accordion=\"2\">\n         <h3>Specs</h3>\n         <i class=\"fas fa-chevron-down\"></i>\n         </button>\n         <div class=\"accordion__content\" data-accordion=\"2\">\n         <div class=\"padding product-specs\">\n         <div class=\"row\">\n         <div class=\"col-md-12\">\n         <div class=\"row\">\n         <div class=\"col-sm-9 col-md-9 col-lg-9 col-xl-10\">\n         <div class=\"row\">\n         <div class=\"col-md-12\">Inches: 36\" W x 37\" D x 36\" H</div>\n         </div>\n         <div class=\"row\">\n         <div class=\"col-md-12\">Metric: 914.4mm W x 939.8mm D x 914.4mm H</div>\n         <div class=\"col-md-12\"></div>\n         </div>\n         </div>\n         </div>\n         <div class=\"row\">\n         <div class=\"col-sm-3 col-md-3 col-lg-3 col-xl-2\"><strong>More Dimensions:</strong></div>\n         <div class=\"col-sm-9 col-md-9 col-lg-9 col-xl-10\">\n         <div class=\"row\">\n         <div class=\"col-md-12\">Arm height: 25\"</div>\n         </div>\n         <div class=\"row\">\n         <div class=\"col-md-12\">Distance between arms: 20\"</div>\n         </div>\n         <div class=\"row\">\n         <div class=\"col-md-12\">Minimum width of doorway for delivery: 26\"</div>\n         </div>\n         <div class=\"row\">\n         <div class=\"col-md-12\">Seat depth: 21\"</div>\n         </div>\n         <div class=\"row\">\n         <div class=\"col-md-12\">Seat height: 20\"</div>\n         </div>\n         <div class=\"row\">\n         <div class=\"col-md-12\">Top of cushion to top of back: 18\"</div>\n         </div>\n         </div>\n         </div>\n         </div>\n         </div>\n         </div>\n         </div>\n         <button class=\"accordion__trigger\" data-accordion=\"3\">\n         <h3>\n                     Reviews\n                     <span class=\"shopify-product-reviews-badge\" data-id=\"6594233008285\"></span>\n         </h3>\n         <i class=\"fas fa-chevron-down\"></i>\n         </button>\n         <div class=\"accordion__content\" data-accordion=\"3\">\n         <div data-id=\"6594233008285\" id=\"shopify-product-reviews\"></div>\n         </div>\n         </div>\n         </div>\n         <div class=\"border-line\"></div>\n         <div class=\"border-line\"></div>\n         <h2 class=\"text-center recently-viewed-header\">Recently Viewed</h2>\n         <div class=\"recently-viewed\">\n         </div>\n         </div>\n         </section>: 5,\n         <main role=\"main\">\n         <section class=\"product\">\n         <div class=\"container container--large\">\n         <h2 class=\"product__brand\">Ashley</h2>\n         <h1 class=\"product__title\">Abney Swivel Accent Chair</h1>\n         <div class=\"grid\">\n         <div class=\"grid__col--xs-12 grid__col--lg-6\" style=\"margin-bottom: 30px;\">\n         <div class=\"product-images\">\n         <div>\n         <img alt=\"Abney Swivel Accent Chair\" data-zoom-image=\"//ahfshop.com/cdn/shop/products/4970142-10X8-CROP.jpg?v=1616099264\" src=\"//ahfshop.com/cdn/shop/products/4970142-10X8-CROP_600x600.jpg?v=1616099264\"/>\n         </div>\n         <div>\n         <img alt=\"Abney Swivel Accent Chair\" data-zoom-image=\"//ahfshop.com/cdn/shop/products/49701-18-42-A3000060-T459.jpg?v=1616099274\" src=\"//ahfshop.com/cdn/shop/products/49701-18-42-A3000060-T459_600x600.jpg?v=1616099274\"/>\n         </div>\n         <div>\n         <img alt=\"Abney Swivel Accent Chair\" data-zoom-image=\"//ahfshop.com/cdn/shop/products/4970142-Abney-DIM.jpg?v=1616099274\" src=\"//ahfshop.com/cdn/shop/products/4970142-Abney-DIM_600x600.jpg?v=1616099274\"/>\n         </div>\n         </div>\n         <div class=\"product-thumbnails\">\n         <div>\n         <img alt=\"Abney Swivel Accent Chair\" src=\"//ahfshop.com/cdn/shop/products/4970142-10X8-CROP_150x150.jpg?v=1616099264\"/>\n         </div>\n         <div>\n         <img alt=\"Abney Swivel Accent Chair\" src=\"//ahfshop.com/cdn/shop/products/49701-18-42-A3000060-T459_150x150.jpg?v=1616099274\"/>\n         </div>\n         <div>\n         <img alt=\"Abney Swivel Accent Chair\" src=\"//ahfshop.com/cdn/shop/products/4970142-Abney-DIM_150x150.jpg?v=1616099274\"/>\n         </div>\n         </div>\n         </div>\n         <div class=\"grid__col--xs-12 grid__col--lg-6\" style=\"margin-bottom: 30px;\">\n         <p>\n         <span class=\"shopify-product-reviews-badge\" data-id=\"6594233008285\"></span>\n         </p>\n         <p>\n         <strong>Choose Lease Ownership Plan</strong>\n         </p>\n         <p>Choose the lease ownership plan that works best for your budget.</p>\n         <div class=\"tabs\">\n         <div class=\"tabs__list\" role=\"tablist\">\n         <button class=\"tabs__tab tabs__tab--active\" data-tab=\"0\" role=\"tab\" type=\"button\">12 Months</button>\n         <button class=\"tabs__tab\" data-tab=\"1\" role=\"tab\" type=\"button\">18 Months</button>\n         <button class=\"tabs__tab\" data-tab=\"2\" role=\"tab\" type=\"button\">Cash Price</button>\n         </div>\n         <div class=\"tabs__panel\" data-tab=\"0\" role=\"tabpanel\">\n         <ul class=\"payment-terms\">\n         <li class=\"payment-terms__elem\">\n         <p><b>Contact Store for Pricing Details</b></p>\n         <p><span class=\"hidden\">$56.88</span></p>\n         </li>\n         <li class=\"payment-terms__elem\">\n         <p>Number of Payments:</p>\n         <p>12</p>\n         </li>\n         \n         </ul>\n         <div class=\"button-group\">\n         <form action=\"/cart/add\" enctype=\"multipart/form-data\" method=\"post\">\n         <input name=\"id\" type=\"hidden\" value=\"39439521153181\"/>\n         <input name=\"quantity\" type=\"hidden\" value=\"1\"/>\n         <button class=\"button\" data-remove=\"false\" type=\"submit\">Add to Wishlist</button>\n         </form>\n         <a class=\"button button--orange\" href=\"/pages/contact-us\">Start My Lease</a>\n         </div>\n         </div>\n         <div class=\"tabs__panel\" data-tab=\"1\" hidden=\"\" role=\"tabpanel\">\n         <ul class=\"payment-terms\">\n         <li class=\"payment-terms__elem\">\n         <p><b>Contact Store for Pricing Details</b></p>\n         <p><span class=\"hidden\">$56.88</span></p>\n         </li>\n         <li class=\"payment-terms__elem\">\n         <p>Number of Payments:</p>\n         <p>18</p>\n         </li>\n         </ul>\n         <div class=\"button-group\">\n         <form action=\"/cart/add\" enctype=\"multipart/form-data\" method=\"post\">\n         <input name=\"id\" type=\"hidden\" value=\"39439521153181\"/>\n         <input name=\"quantity\" type=\"hidden\" value=\"1\"/>\n         <button class=\"button\" data-remove=\"false\" type=\"submit\">Add to Wishlist</button>\n         </form>\n         <a class=\"button button--orange\" href=\"/pages/contact-us\">Start My Lease</a>\n         </div>\n         </div>\n         <div class=\"tabs__panel\" data-tab=\"2\" hidden=\"\" role=\"tabpanel\">\n         <ul class=\"payment-terms\">\n         <li class=\"payment-terms__elem\">\n         <p><b>Contact Store for Pricing Details</b></p>\n         <p><span class=\"hidden\">$170.66</span></p>\n         </li>\n         <li class=\"payment-terms__elem\">\n         <p>Number of Payments:</p>\n         <p>3</p>\n         </li>\n         <li class=\"payment-terms__elem\">\n         <p>Cost of Lease Services:</p>\n         <p>$0</p>\n         </li>\n         \n         </ul>\n         <div class=\"button-group\">\n         <form action=\"/cart/add\" enctype=\"multipart/form-data\" method=\"post\">\n         <input name=\"id\" type=\"hidden\" value=\"39439521153181\"/>\n         <input name=\"quantity\" type=\"hidden\" value=\"1\"/>\n         <button class=\"button\" data-remove=\"false\" type=\"submit\">Add to Wishlist</button>\n         </form>\n         <a class=\"button button--orange\" href=\"/pages/contact-us\">Start My Lease</a>\n         </div>\n         </div>\n         </div>\n         <p class=\"help\">Need help? <a href=\"/pages/contact-us\">Contact us</a> today!</p>\n         <div class=\"whats-included\">\n         <p>\n         <strong>What's Included:</strong>\n         </p>\n         <div class=\"icons\">\n         <p>\n         <i class=\"fas fa-truck\"></i>\n                       Delivery\n                     </p>\n         <p>\n         <i class=\"fas fa-tools\"></i>\n                       Service &amp; Repair\n                     </p>\n         </div>\n         <p>(1) Abney Swivel Accent Chair</p>\n         </div>\n         <p>\n         <a href=\"#\" style=\"color: #0787C0; text-decoration: underline;\">Read Terms &amp; Conditions</a>\n         </p>\n         <p>See Payment Info Below For Important Details</p>\n         </div>\n         </div>\n         <div class=\"accordion-container\">\n         <div class=\"accordion\">\n         <button class=\"accordion__trigger\" data-accordion=\"0\">\n         <h3>Description</h3>\n         <i class=\"fas fa-chevron-down\"></i>\n         </button>\n         <div class=\"accordion__content accordion__content--active\" data-accordion=\"0\">\n         <div class=\"padding\">\n         <p><span data-mce-fragment=\"1\">This vine-patterned swivel accent chair is the natural choice when it comes to cool and contemporary decor. Form follows function in the sleek design and smooth 360-degree turning radius. What a fresh take on living room seating.</span><br/></p>\n         <ul class=\"FeatureBullets\" type=\"disc\">\n         <li class=\"orangecolor\"><span>Corner-blocked frame</span></li>\n         <li class=\"orangecolor\"><span>Attached back and loose seat cushions</span></li>\n         <li class=\"orangecolor\"><span>High-resiliency foam cushions wrapped in thick poly fiber</span></li>\n         <li class=\"orangecolor\"><span>Polyester/rayon upholstery</span></li>\n         <li class=\"orangecolor\"><span>Smooth 360-degree swivel</span></li>\n         </ul>\n         </div>\n         </div>\n         <button class=\"accordion__trigger\" data-accordion=\"1\">\n         <h3>Payment Info</h3>\n         <i class=\"fas fa-chevron-down\"></i>\n         </button>\n         <div class=\"accordion__content\" data-accordion=\"1\">\n         <div class=\"padding\">\n         <p>\n         <strong>Does AHF even check my credit?</strong>\n         </p>\n         <p>As part of our approval processes, AHF will check credit history and creditworthiness and rely upon customer reports and information obtained from third-parties in considering your application. We do check credit sources; however, we look at many other data points to make a final decision and we regularly approve customers that other stores won’t, including customers with less than perfect credit or very little credit history.</p>\n         <p>\n         <strong>What about a security deposit?</strong>\n         </p>\n         <p>No rental agreement with AHF requires a security deposit. Simply pay your first month’s rent at the time your agreement is signed.</p>\n         <p>\n         <strong>How and when do I make my payments?</strong>\n         </p>\n         <p>As an AHF customer, our flexible payment plans include low bi-weekly or monthly plans, and 3 months or 6 months “same as cash” options. Your local store will accept cash, checks, money orders, and all major credit cards. Take advantage of our easy automatic payment option when finalizing your agreement and simplify the pressures in your life.</p>\n         <p>\n         <strong>Can I pay out my lease early?</strong>\n         </p>\n         <p>Yes. AHF offers a “same as cash” option for all our products that is available to any customer regardless of your current agreement. If you choose to payout your merchandise early within the applicable “same as cash” period, you will pay the cash price, plus tax and applicable fees (if any). Contact your local store to determine what savings you qualify for.</p>\n         <p>\n         <strong>What is AHF’s return/refund policy?</strong>\n         </p>\n         <p>Once your item has been delivered, you can contact your local store to schedule a time for return or pick-up as stated in your agreement.</p>\n         </div>\n         </div>\n         <button class=\"accordion__trigger\" data-accordion=\"2\">\n         <h3>Specs</h3>\n         <i class=\"fas fa-chevron-down\"></i>\n         </button>\n         <div class=\"accordion__content\" data-accordion=\"2\">\n         <div class=\"padding product-specs\">\n         <div class=\"row\">\n         <div class=\"col-md-12\">\n         <div class=\"row\">\n         <div class=\"col-sm-9 col-md-9 col-lg-9 col-xl-10\">\n         <div class=\"row\">\n         <div class=\"col-md-12\">Inches: 36\" W x 37\" D x 36\" H</div>\n         </div>\n         <div class=\"row\">\n         <div class=\"col-md-12\">Metric: 914.4mm W x 939.8mm D x 914.4mm H</div>\n         <div class=\"col-md-12\"></div>\n         </div>\n         </div>\n         </div>\n         <div class=\"row\">\n         <div class=\"col-sm-3 col-md-3 col-lg-3 col-xl-2\"><strong>More Dimensions:</strong></div>\n         <div class=\"col-sm-9 col-md-9 col-lg-9 col-xl-10\">\n         <div class=\"row\">\n         <div class=\"col-md-12\">Arm height: 25\"</div>\n         </div>\n         <div class=\"row\">\n         <div class=\"col-md-12\">Distance between arms: 20\"</div>\n         </div>\n         <div class=\"row\">\n         <div class=\"col-md-12\">Minimum width of doorway for delivery: 26\"</div>\n         </div>\n         <div class=\"row\">\n         <div class=\"col-md-12\">Seat depth: 21\"</div>\n         </div>\n         <div class=\"row\">\n         <div class=\"col-md-12\">Seat height: 20\"</div>\n         </div>\n         <div class=\"row\">\n         <div class=\"col-md-12\">Top of cushion to top of back: 18\"</div>\n         </div>\n         </div>\n         </div>\n         </div>\n         </div>\n         </div>\n         </div>\n         <button class=\"accordion__trigger\" data-accordion=\"3\">\n         <h3>\n                     Reviews\n                     <span class=\"shopify-product-reviews-badge\" data-id=\"6594233008285\"></span>\n         </h3>\n         <i class=\"fas fa-chevron-down\"></i>\n         </button>\n         <div class=\"accordion__content\" data-accordion=\"3\">\n         <div data-id=\"6594233008285\" id=\"shopify-product-reviews\"></div>\n         </div>\n         </div>\n         </div>\n         <div class=\"border-line\"></div>\n         <div class=\"border-line\"></div>\n         <h2 class=\"text-center recently-viewed-header\">Recently Viewed</h2>\n         <div class=\"recently-viewed\">\n         </div>\n         </div>\n         </section>\n         <script type=\"application/ld+json\">\n           {\n             \"@context\": \"http://schema.org/\",\n             \"@type\": \"Product\",\n             \"name\": \"Abney Swivel Accent Chair\",\n             \"url\": \"https://ahfshop.com/products/abney-swivel-accent-chair\",\n             \n               \n               \"image\": [\n                 \"https://ahfshop.com/cdn/shop/products/4970142-10X8-CROP_2153x.jpg?v=1616099264\"\n               ],\n             \n             \"description\": \"This vine-patterned swivel accent chair is the natural choice when it comes to cool and contemporary decor. Form follows function in the sleek design and smooth 360-degree turning radius. What a fresh take on living room seating.\n         \n         Corner-blocked frame\n         Attached back and loose seat cushions\n         High-resiliency foam cushions wrapped in thick poly fiber\n         Polyester/rayon upholstery\n         Smooth 360-degree swivel\n         \n         split\n         \n         \n         \n         \n         \n         Inches: 36&quot; W x 37&quot; D x 36&quot; H\n         \n         \n         Metric: 914.4mm W x 939.8mm D x 914.4mm H\n         \n         \n         \n         \n         \n         More Dimensions:\n         \n         \n         Arm height: 25&quot;\n         \n         \n         Distance between arms: 20&quot;\n         \n         \n         Minimum width of doorway for delivery: 26&quot;\n         \n         \n         Seat depth: 21&quot;\n         \n         \n         Seat height: 20&quot;\n         \n         \n         Top of cushion to top of back: 18&quot;\n         \n         \n         \n         \n         \",\n             \n             \"brand\": {\n               \"@type\": \"Thing\",\n               \"name\": \"Ashley\"\n             },\n             \n               \"offers\": [\n                 \n                   {\n                     \"@type\" : \"Offer\",\n                     \"availability\" : \"http://schema.org/InStock\",\n                     \"price\" : \"512.0\",\n                     \"priceCurrency\" : \"USD\",\n                     \"url\" : \"https://ahfshop.com/products/abney-swivel-accent-chair?variant=39439521153181\",\n                     \"itemOffered\" :\n                     {\n                         \"@type\" : \"Product\",\n                         \n                         \n                           \"name\" : \"Default Title\",\n                         \n                         \n                           \"sku\": \"4970142\",\n                         \n                         \n                           \"weight\": {\n                             \"@type\": \"QuantitativeValue\",\n                             \n                               \"unitCode\": \"lb\",\n                             \n                             \"value\": \"83.0 lb\"\n                           },\n                         \n                         \"url\": \"https://ahfshop.com/products/abney-swivel-accent-chair?variant=39439521153181\"\n                     }\n                   }\n                 \n               ]\n             \n           }\n         </script>\n         <script>\n           $(document).ready(function() {\n             const recentlyViewed = Shopify.RecentlyViewed.get();\n         \n             if (recentlyViewed) {\n               const handles = recentlyViewed.split(';');\n               const promises = [];\n         \n               for (let i = 0; i < handles.length; i += 1) {\n                 promises.push(\n                   $.ajax({\n                     type: 'GET',\n                     url: `/products/${handles[i]}.js`,\n                     dataType: 'json',\n                   })\n                 );\n               }\n         \n               Promise.all(promises)\n                 .then(function (responses) {\n                   function formatUrl(src, size) {\n                     const match = src.match(/\\.(jpg|jpeg|gif|png|bmp|bitmap|tiff|tif)(\\?v=\\d+)?/i);\n         \n                     if (match !== null) {\n                       const prefix = src.split(match[0]);\n                       const suffix = match[0];\n         \n                       return (`${prefix[0]}_${size}${suffix}`).replace(/http(s)?:/, '');\n                     } else {\n                       return null;\n                     }\n                   }\n         \n                   for (let i = 0; i < responses.length; i += 1) {\n                     $('.recently-viewed').append(`\n                       <div>\n                         <a href=\"${responses[i].url}\">\n                           <img alt=\"${responses[i].media[0].alt}\" src=\"${formatUrl(responses[i].media[0].src, '300x300')}\">\n                         </a>\n                       </div>\n                     `);\n                   }\n         \n                   $('.recently-viewed').slick({\n                     slidesToShow: 4,\n                     slidesToScroll: 1,\n                     prevArrow: '<div class=\"slick-prev\"><i class=\"fas fa-chevron-left\"></i></div>',\n                     nextArrow: '<div class=\"slick-next\"><i class=\"fas fa-chevron-right\"></i></div>',\n                     responsive: [\n                       {\n                         breakpoint: 1200,\n                         settings: {\n                           slidesToShow: 3,\n                         },\n                       },\n                       {\n                         breakpoint: 575,\n                         settings: {\n                           slidesToShow: 2,\n                         },\n                       },\n                     ],\n                   });\n                 });\n             }\n         \n             Shopify.RecentlyViewed.save('abney-swivel-accent-chair');\n         \n             $('form[action=\"/cart/add\"]').click(function(event) {\n               event.preventDefault();\n         \n               const $button = $('form[action=\"/cart/add\"] button');\n         \n               if ($button.data('remove') === true) {\n                 $button.text('Removing from Wishlist...');\n         \n                 $.ajax({\n                   type: 'POST',\n                   url: '/cart/change.js',\n                   data: {\n                     id: 39439521153181,\n                     quantity: 0,\n                   },\n                   dataType: 'json',\n                   success: function() {\n                     $button.text('Add to Wishlist');\n                   },\n                   error: function() {\n                     alert('Could not remove item to wishlist. Please try again.');\n         \n                     $button.text('Remove from Wishlist');\n                   },\n                 });\n               } else {\n                 $button.text('Adding to Wishlist...');\n         \n                 $.ajax({\n                   type: 'POST',\n                   url: '/cart/add.js',\n                   data: $(this).serialize(),\n                   dataType: 'json',\n                   success: function() {\n                     $button.text('Remove from Wishlist');\n                   },\n                   error: function() {\n                     alert('Could not add item to wishlist. Please try again.');\n         \n                     $button.text('Add to Wishlist');\n                   },\n                 });\n               }\n             });\n           });\n         </script>\n         </main>: 5,\n         <li class=\"mobile-nav-list__elem\">\n         <a href=\"/pages/contact-us\">Contact</a>\n         </li>: 5,\n         <li class=\"mobile-nav-list__elem\">\n         <a href=\"/search\">Search</a>\n         </li>: 5,\n         <li class=\"mobile-nav-list__elem\">\n         <a href=\"/cart\">Wishlist</a>\n         </li>: 5,\n         <li class=\"mobile-nav-list__elem\">\n         <a href=\"/collections/all\">Products</a>\n         </li>: 5,\n         <li class=\"mobile-nav-list__elem\">\n         <a href=\"/\">Home</a>\n         </li>: 5,\n         <ul class=\"mobile-nav-list\">\n         <li class=\"mobile-nav-list__elem\">\n         <a href=\"/\">Home</a>\n         </li>\n         <li class=\"mobile-nav-list__elem\">\n         <a href=\"/collections/all\">Products</a>\n         </li>\n         <li class=\"mobile-nav-list__elem\">\n         <a href=\"/cart\">Wishlist</a>\n         </li>\n         <li class=\"mobile-nav-list__elem\">\n         <a href=\"/search\">Search</a>\n         </li>\n         <li class=\"mobile-nav-list__elem\">\n         <a href=\"/pages/contact-us\">Contact</a>\n         </li>\n         </ul>: 5,\n         <i class=\"fas fa-times\"></i>: 5,\n         <p>Navigation</p>: 5,\n         <div class=\"mobile-nav__header\">\n         <p>Navigation</p>\n         <i class=\"fas fa-times\"></i>\n         </div>: 5,\n         <div class=\"mobile-nav\">\n         <div class=\"mobile-nav__header\">\n         <p>Navigation</p>\n         <i class=\"fas fa-times\"></i>\n         </div>\n         <ul class=\"mobile-nav-list\">\n         <li class=\"mobile-nav-list__elem\">\n         <a href=\"/\">Home</a>\n         </li>\n         <li class=\"mobile-nav-list__elem\">\n         <a href=\"/collections/all\">Products</a>\n         </li>\n         <li class=\"mobile-nav-list__elem\">\n         <a href=\"/cart\">Wishlist</a>\n         </li>\n         <li class=\"mobile-nav-list__elem\">\n         <a href=\"/search\">Search</a>\n         </li>\n         <li class=\"mobile-nav-list__elem\">\n         <a href=\"/pages/contact-us\">Contact</a>\n         </li>\n         </ul>\n         </div>: 5,\n         <i class=\"fas fa-bars\"></i>: 5,\n         <div class=\"mobile-nav-trigger\">\n         <i class=\"fas fa-bars\"></i>\n         </div>: 5,\n         <div class=\"mobile-icons\">\n         <div class=\"mobile-nav-trigger\">\n         <i class=\"fas fa-bars\"></i>\n         </div>\n         </div>: 5,\n         <li class=\"nav-list__elem\">\n         <a href=\"/pages/contact-us\">Contact</a>\n         </li>: 5,\n         <li class=\"nav-list__elem\">\n         <a href=\"/search\">Search</a>\n         </li>: 5,\n         <li class=\"nav-list__elem\">\n         <a href=\"/cart\">Wishlist</a>\n         </li>: 5,\n         <li class=\"nav-list__elem\">\n         <a href=\"/collections/all\">Products</a>\n         </li>: 5,\n         <li class=\"nav-list__elem\">\n         <a href=\"/\">Home</a>\n         </li>: 5,\n         <ul class=\"nav-list\">\n         <li class=\"nav-list__elem\">\n         <a href=\"/\">Home</a>\n         </li>\n         <li class=\"nav-list__elem\">\n         <a href=\"/collections/all\">Products</a>\n         </li>\n         <li class=\"nav-list__elem\">\n         <a href=\"/cart\">Wishlist</a>\n         </li>\n         <li class=\"nav-list__elem\">\n         <a href=\"/search\">Search</a>\n         </li>\n         <li class=\"nav-list__elem\">\n         <a href=\"/pages/contact-us\">Contact</a>\n         </li>\n         </ul>: 5,\n         <img alt=\"Affordable Home Furnishings\" src=\"//ahfshop.com/cdn/shop/files/logo-green_300x.png?v=1613557642\"/>: 5,\n         <a href=\"/\">\n         <img alt=\"Affordable Home Furnishings\" src=\"//ahfshop.com/cdn/shop/files/logo-green_300x.png?v=1613557642\"/>\n         </a>: 5,\n         <nav class=\"navbar\">\n         <a href=\"/\">\n         <img alt=\"Affordable Home Furnishings\" src=\"//ahfshop.com/cdn/shop/files/logo-green_300x.png?v=1613557642\"/>\n         </a>\n         <ul class=\"nav-list\">\n         <li class=\"nav-list__elem\">\n         <a href=\"/\">Home</a>\n         </li>\n         <li class=\"nav-list__elem\">\n         <a href=\"/collections/all\">Products</a>\n         </li>\n         <li class=\"nav-list__elem\">\n         <a href=\"/cart\">Wishlist</a>\n         </li>\n         <li class=\"nav-list__elem\">\n         <a href=\"/search\">Search</a>\n         </li>\n         <li class=\"nav-list__elem\">\n         <a href=\"/pages/contact-us\">Contact</a>\n         </li>\n         </ul>\n         <div class=\"mobile-icons\">\n         <div class=\"mobile-nav-trigger\">\n         <i class=\"fas fa-bars\"></i>\n         </div>\n         </div>\n         </nav>: 5,\n         <header id=\"header\">\n         <nav class=\"navbar\">\n         <a href=\"/\">\n         <img alt=\"Affordable Home Furnishings\" src=\"//ahfshop.com/cdn/shop/files/logo-green_300x.png?v=1613557642\"/>\n         </a>\n         <ul class=\"nav-list\">\n         <li class=\"nav-list__elem\">\n         <a href=\"/\">Home</a>\n         </li>\n         <li class=\"nav-list__elem\">\n         <a href=\"/collections/all\">Products</a>\n         </li>\n         <li class=\"nav-list__elem\">\n         <a href=\"/cart\">Wishlist</a>\n         </li>\n         <li class=\"nav-list__elem\">\n         <a href=\"/search\">Search</a>\n         </li>\n         <li class=\"nav-list__elem\">\n         <a href=\"/pages/contact-us\">Contact</a>\n         </li>\n         </ul>\n         <div class=\"mobile-icons\">\n         <div class=\"mobile-nav-trigger\">\n         <i class=\"fas fa-bars\"></i>\n         </div>\n         </div>\n         </nav>\n         <div class=\"mobile-nav\">\n         <div class=\"mobile-nav__header\">\n         <p>Navigation</p>\n         <i class=\"fas fa-times\"></i>\n         </div>\n         <ul class=\"mobile-nav-list\">\n         <li class=\"mobile-nav-list__elem\">\n         <a href=\"/\">Home</a>\n         </li>\n         <li class=\"mobile-nav-list__elem\">\n         <a href=\"/collections/all\">Products</a>\n         </li>\n         <li class=\"mobile-nav-list__elem\">\n         <a href=\"/cart\">Wishlist</a>\n         </li>\n         <li class=\"mobile-nav-list__elem\">\n         <a href=\"/search\">Search</a>\n         </li>\n         <li class=\"mobile-nav-list__elem\">\n         <a href=\"/pages/contact-us\">Contact</a>\n         </li>\n         </ul>\n         </div>\n         </header>: 5,\n         <div class=\"shopify-section\" id=\"shopify-section-header\"><header id=\"header\">\n         <nav class=\"navbar\">\n         <a href=\"/\">\n         <img alt=\"Affordable Home Furnishings\" src=\"//ahfshop.com/cdn/shop/files/logo-green_300x.png?v=1613557642\"/>\n         </a>\n         <ul class=\"nav-list\">\n         <li class=\"nav-list__elem\">\n         <a href=\"/\">Home</a>\n         </li>\n         <li class=\"nav-list__elem\">\n         <a href=\"/collections/all\">Products</a>\n         </li>\n         <li class=\"nav-list__elem\">\n         <a href=\"/cart\">Wishlist</a>\n         </li>\n         <li class=\"nav-list__elem\">\n         <a href=\"/search\">Search</a>\n         </li>\n         <li class=\"nav-list__elem\">\n         <a href=\"/pages/contact-us\">Contact</a>\n         </li>\n         </ul>\n         <div class=\"mobile-icons\">\n         <div class=\"mobile-nav-trigger\">\n         <i class=\"fas fa-bars\"></i>\n         </div>\n         </div>\n         </nav>\n         <div class=\"mobile-nav\">\n         <div class=\"mobile-nav__header\">\n         <p>Navigation</p>\n         <i class=\"fas fa-times\"></i>\n         </div>\n         <ul class=\"mobile-nav-list\">\n         <li class=\"mobile-nav-list__elem\">\n         <a href=\"/\">Home</a>\n         </li>\n         <li class=\"mobile-nav-list__elem\">\n         <a href=\"/collections/all\">Products</a>\n         </li>\n         <li class=\"mobile-nav-list__elem\">\n         <a href=\"/cart\">Wishlist</a>\n         </li>\n         <li class=\"mobile-nav-list__elem\">\n         <a href=\"/search\">Search</a>\n         </li>\n         <li class=\"mobile-nav-list__elem\">\n         <a href=\"/pages/contact-us\">Contact</a>\n         </li>\n         </ul>\n         </div>\n         </header>\n         </div>: 5,\n         <body>\n         <div class=\"shopify-section\" id=\"shopify-section-header\"><header id=\"header\">\n         <nav class=\"navbar\">\n         <a href=\"/\">\n         <img alt=\"Affordable Home Furnishings\" src=\"//ahfshop.com/cdn/shop/files/logo-green_300x.png?v=1613557642\"/>\n         </a>\n         <ul class=\"nav-list\">\n         <li class=\"nav-list__elem\">\n         <a href=\"/\">Home</a>\n         </li>\n         <li class=\"nav-list__elem\">\n         <a href=\"/collections/all\">Products</a>\n         </li>\n         <li class=\"nav-list__elem\">\n         <a href=\"/cart\">Wishlist</a>\n         </li>\n         <li class=\"nav-list__elem\">\n         <a href=\"/search\">Search</a>\n         </li>\n         <li class=\"nav-list__elem\">\n         <a href=\"/pages/contact-us\">Contact</a>\n         </li>\n         </ul>\n         <div class=\"mobile-icons\">\n         <div class=\"mobile-nav-trigger\">\n         <i class=\"fas fa-bars\"></i>\n         </div>\n         </div>\n         </nav>\n         <div class=\"mobile-nav\">\n         <div class=\"mobile-nav__header\">\n         <p>Navigation</p>\n         <i class=\"fas fa-times\"></i>\n         </div>\n         <ul class=\"mobile-nav-list\">\n         <li class=\"mobile-nav-list__elem\">\n         <a href=\"/\">Home</a>\n         </li>\n         <li class=\"mobile-nav-list__elem\">\n         <a href=\"/collections/all\">Products</a>\n         </li>\n         <li class=\"mobile-nav-list__elem\">\n         <a href=\"/cart\">Wishlist</a>\n         </li>\n         <li class=\"mobile-nav-list__elem\">\n         <a href=\"/search\">Search</a>\n         </li>\n         <li class=\"mobile-nav-list__elem\">\n         <a href=\"/pages/contact-us\">Contact</a>\n         </li>\n         </ul>\n         </div>\n         </header>\n         </div>\n         <main role=\"main\">\n         <section class=\"product\">\n         <div class=\"container container--large\">\n         <h2 class=\"product__brand\">Ashley</h2>\n         <h1 class=\"product__title\">Abney Swivel Accent Chair</h1>\n         <div class=\"grid\">\n         <div class=\"grid__col--xs-12 grid__col--lg-6\" style=\"margin-bottom: 30px;\">\n         <div class=\"product-images\">\n         <div>\n         <img alt=\"Abney Swivel Accent Chair\" data-zoom-image=\"//ahfshop.com/cdn/shop/products/4970142-10X8-CROP.jpg?v=1616099264\" src=\"//ahfshop.com/cdn/shop/products/4970142-10X8-CROP_600x600.jpg?v=1616099264\"/>\n         </div>\n         <div>\n         <img alt=\"Abney Swivel Accent Chair\" data-zoom-image=\"//ahfshop.com/cdn/shop/products/49701-18-42-A3000060-T459.jpg?v=1616099274\" src=\"//ahfshop.com/cdn/shop/products/49701-18-42-A3000060-T459_600x600.jpg?v=1616099274\"/>\n         </div>\n         <div>\n         <img alt=\"Abney Swivel Accent Chair\" data-zoom-image=\"//ahfshop.com/cdn/shop/products/4970142-Abney-DIM.jpg?v=1616099274\" src=\"//ahfshop.com/cdn/shop/products/4970142-Abney-DIM_600x600.jpg?v=1616099274\"/>\n         </div>\n         </div>\n         <div class=\"product-thumbnails\">\n         <div>\n         <img alt=\"Abney Swivel Accent Chair\" src=\"//ahfshop.com/cdn/shop/products/4970142-10X8-CROP_150x150.jpg?v=1616099264\"/>\n         </div>\n         <div>\n         <img alt=\"Abney Swivel Accent Chair\" src=\"//ahfshop.com/cdn/shop/products/49701-18-42-A3000060-T459_150x150.jpg?v=1616099274\"/>\n         </div>\n         <div>\n         <img alt=\"Abney Swivel Accent Chair\" src=\"//ahfshop.com/cdn/shop/products/4970142-Abney-DIM_150x150.jpg?v=1616099274\"/>\n         </div>\n         </div>\n         </div>\n         <div class=\"grid__col--xs-12 grid__col--lg-6\" style=\"margin-bottom: 30px;\">\n         <p>\n         <span class=\"shopify-product-reviews-badge\" data-id=\"6594233008285\"></span>\n         </p>\n         <p>\n         <strong>Choose Lease Ownership Plan</strong>\n         </p>\n         <p>Choose the lease ownership plan that works best for your budget.</p>\n         <div class=\"tabs\">\n         <div class=\"tabs__list\" role=\"tablist\">\n         <button class=\"tabs__tab tabs__tab--active\" data-tab=\"0\" role=\"tab\" type=\"button\">12 Months</button>\n         <button class=\"tabs__tab\" data-tab=\"1\" role=\"tab\" type=\"button\">18 Months</button>\n         <button class=\"tabs__tab\" data-tab=\"2\" role=\"tab\" type=\"button\">Cash Price</button>\n         </div>\n         <div class=\"tabs__panel\" data-tab=\"0\" role=\"tabpanel\">\n         <ul class=\"payment-terms\">\n         <li class=\"payment-terms__elem\">\n         <p><b>Contact Store for Pricing Details</b></p>\n         <p><span class=\"hidden\">$56.88</span></p>\n         </li>\n         <li class=\"payment-terms__elem\">\n         <p>Number of Payments:</p>\n         <p>12</p>\n         </li>\n         \n         </ul>\n         <div class=\"button-group\">\n         <form action=\"/cart/add\" enctype=\"multipart/form-data\" method=\"post\">\n         <input name=\"id\" type=\"hidden\" value=\"39439521153181\"/>\n         <input name=\"quantity\" type=\"hidden\" value=\"1\"/>\n         <button class=\"button\" data-remove=\"false\" type=\"submit\">Add to Wishlist</button>\n         </form>\n         <a class=\"button button--orange\" href=\"/pages/contact-us\">Start My Lease</a>\n         </div>\n         </div>\n         <div class=\"tabs__panel\" data-tab=\"1\" hidden=\"\" role=\"tabpanel\">\n         <ul class=\"payment-terms\">\n         <li class=\"payment-terms__elem\">\n         <p><b>Contact Store for Pricing Details</b></p>\n         <p><span class=\"hidden\">$56.88</span></p>\n         </li>\n         <li class=\"payment-terms__elem\">\n         <p>Number of Payments:</p>\n         <p>18</p>\n         </li>\n         </ul>\n         <div class=\"button-group\">\n         <form action=\"/cart/add\" enctype=\"multipart/form-data\" method=\"post\">\n         <input name=\"id\" type=\"hidden\" value=\"39439521153181\"/>\n         <input name=\"quantity\" type=\"hidden\" value=\"1\"/>\n         <button class=\"button\" data-remove=\"false\" type=\"submit\">Add to Wishlist</button>\n         </form>\n         <a class=\"button button--orange\" href=\"/pages/contact-us\">Start My Lease</a>\n         </div>\n         </div>\n         <div class=\"tabs__panel\" data-tab=\"2\" hidden=\"\" role=\"tabpanel\">\n         <ul class=\"payment-terms\">\n         <li class=\"payment-terms__elem\">\n         <p><b>Contact Store for Pricing Details</b></p>\n         <p><span class=\"hidden\">$170.66</span></p>\n         </li>\n         <li class=\"payment-terms__elem\">\n         <p>Number of Payments:</p>\n         <p>3</p>\n         </li>\n         <li class=\"payment-terms__elem\">\n         <p>Cost of Lease Services:</p>\n         <p>$0</p>\n         </li>\n         \n         </ul>\n         <div class=\"button-group\">\n         <form action=\"/cart/add\" enctype=\"multipart/form-data\" method=\"post\">\n         <input name=\"id\" type=\"hidden\" value=\"39439521153181\"/>\n         <input name=\"quantity\" type=\"hidden\" value=\"1\"/>\n         <button class=\"button\" data-remove=\"false\" type=\"submit\">Add to Wishlist</button>\n         </form>\n         <a class=\"button button--orange\" href=\"/pages/contact-us\">Start My Lease</a>\n         </div>\n         </div>\n         </div>\n         <p class=\"help\">Need help? <a href=\"/pages/contact-us\">Contact us</a> today!</p>\n         <div class=\"whats-included\">\n         <p>\n         <strong>What's Included:</strong>\n         </p>\n         <div class=\"icons\">\n         <p>\n         <i class=\"fas fa-truck\"></i>\n                       Delivery\n                     </p>\n         <p>\n         <i class=\"fas fa-tools\"></i>\n                       Service &amp; Repair\n                     </p>\n         </div>\n         <p>(1) Abney Swivel Accent Chair</p>\n         </div>\n         <p>\n         <a href=\"#\" style=\"color: #0787C0; text-decoration: underline;\">Read Terms &amp; Conditions</a>\n         </p>\n         <p>See Payment Info Below For Important Details</p>\n         </div>\n         </div>\n         <div class=\"accordion-container\">\n         <div class=\"accordion\">\n         <button class=\"accordion__trigger\" data-accordion=\"0\">\n         <h3>Description</h3>\n         <i class=\"fas fa-chevron-down\"></i>\n         </button>\n         <div class=\"accordion__content accordion__content--active\" data-accordion=\"0\">\n         <div class=\"padding\">\n         <p><span data-mce-fragment=\"1\">This vine-patterned swivel accent chair is the natural choice when it comes to cool and contemporary decor. Form follows function in the sleek design and smooth 360-degree turning radius. What a fresh take on living room seating.</span><br/></p>\n         <ul class=\"FeatureBullets\" type=\"disc\">\n         <li class=\"orangecolor\"><span>Corner-blocked frame</span></li>\n         <li class=\"orangecolor\"><span>Attached back and loose seat cushions</span></li>\n         <li class=\"orangecolor\"><span>High-resiliency foam cushions wrapped in thick poly fiber</span></li>\n         <li class=\"orangecolor\"><span>Polyester/rayon upholstery</span></li>\n         <li class=\"orangecolor\"><span>Smooth 360-degree swivel</span></li>\n         </ul>\n         </div>\n         </div>\n         <button class=\"accordion__trigger\" data-accordion=\"1\">\n         <h3>Payment Info</h3>\n         <i class=\"fas fa-chevron-down\"></i>\n         </button>\n         <div class=\"accordion__content\" data-accordion=\"1\">\n         <div class=\"padding\">\n         <p>\n         <strong>Does AHF even check my credit?</strong>\n         </p>\n         <p>As part of our approval processes, AHF will check credit history and creditworthiness and rely upon customer reports and information obtained from third-parties in considering your application. We do check credit sources; however, we look at many other data points to make a final decision and we regularly approve customers that other stores won’t, including customers with less than perfect credit or very little credit history.</p>\n         <p>\n         <strong>What about a security deposit?</strong>\n         </p>\n         <p>No rental agreement with AHF requires a security deposit. Simply pay your first month’s rent at the time your agreement is signed.</p>\n         <p>\n         <strong>How and when do I make my payments?</strong>\n         </p>\n         <p>As an AHF customer, our flexible payment plans include low bi-weekly or monthly plans, and 3 months or 6 months “same as cash” options. Your local store will accept cash, checks, money orders, and all major credit cards. Take advantage of our easy automatic payment option when finalizing your agreement and simplify the pressures in your life.</p>\n         <p>\n         <strong>Can I pay out my lease early?</strong>\n         </p>\n         <p>Yes. AHF offers a “same as cash” option for all our products that is available to any customer regardless of your current agreement. If you choose to payout your merchandise early within the applicable “same as cash” period, you will pay the cash price, plus tax and applicable fees (if any). Contact your local store to determine what savings you qualify for.</p>\n         <p>\n         <strong>What is AHF’s return/refund policy?</strong>\n         </p>\n         <p>Once your item has been delivered, you can contact your local store to schedule a time for return or pick-up as stated in your agreement.</p>\n         </div>\n         </div>\n         <button class=\"accordion__trigger\" data-accordion=\"2\">\n         <h3>Specs</h3>\n         <i class=\"fas fa-chevron-down\"></i>\n         </button>\n         <div class=\"accordion__content\" data-accordion=\"2\">\n         <div class=\"padding product-specs\">\n         <div class=\"row\">\n         <div class=\"col-md-12\">\n         <div class=\"row\">\n         <div class=\"col-sm-9 col-md-9 col-lg-9 col-xl-10\">\n         <div class=\"row\">\n         <div class=\"col-md-12\">Inches: 36\" W x 37\" D x 36\" H</div>\n         </div>\n         <div class=\"row\">\n         <div class=\"col-md-12\">Metric: 914.4mm W x 939.8mm D x 914.4mm H</div>\n         <div class=\"col-md-12\"></div>\n         </div>\n         </div>\n         </div>\n         <div class=\"row\">\n         <div class=\"col-sm-3 col-md-3 col-lg-3 col-xl-2\"><strong>More Dimensions:</strong></div>\n         <div class=\"col-sm-9 col-md-9 col-lg-9 col-xl-10\">\n         <div class=\"row\">\n         <div class=\"col-md-12\">Arm height: 25\"</div>\n         </div>\n         <div class=\"row\">\n         <div class=\"col-md-12\">Distance between arms: 20\"</div>\n         </div>\n         <div class=\"row\">\n         <div class=\"col-md-12\">Minimum width of doorway for delivery: 26\"</div>\n         </div>\n         <div class=\"row\">\n         <div class=\"col-md-12\">Seat depth: 21\"</div>\n         </div>\n         <div class=\"row\">\n         <div class=\"col-md-12\">Seat height: 20\"</div>\n         </div>\n         <div class=\"row\">\n         <div class=\"col-md-12\">Top of cushion to top of back: 18\"</div>\n         </div>\n         </div>\n         </div>\n         </div>\n         </div>\n         </div>\n         </div>\n         <button class=\"accordion__trigger\" data-accordion=\"3\">\n         <h3>\n                     Reviews\n                     <span class=\"shopify-product-reviews-badge\" data-id=\"6594233008285\"></span>\n         </h3>\n         <i class=\"fas fa-chevron-down\"></i>\n         </button>\n         <div class=\"accordion__content\" data-accordion=\"3\">\n         <div data-id=\"6594233008285\" id=\"shopify-product-reviews\"></div>\n         </div>\n         </div>\n         </div>\n         <div class=\"border-line\"></div>\n         <div class=\"border-line\"></div>\n         <h2 class=\"text-center recently-viewed-header\">Recently Viewed</h2>\n         <div class=\"recently-viewed\">\n         </div>\n         </div>\n         </section>\n         <script type=\"application/ld+json\">\n           {\n             \"@context\": \"http://schema.org/\",\n             \"@type\": \"Product\",\n             \"name\": \"Abney Swivel Accent Chair\",\n             \"url\": \"https://ahfshop.com/products/abney-swivel-accent-chair\",\n             \n               \n               \"image\": [\n                 \"https://ahfshop.com/cdn/shop/products/4970142-10X8-CROP_2153x.jpg?v=1616099264\"\n               ],\n             \n             \"description\": \"This vine-patterned swivel accent chair is the natural choice when it comes to cool and contemporary decor. Form follows function in the sleek design and smooth 360-degree turning radius. What a fresh take on living room seating.\n         \n         Corner-blocked frame\n         Attached back and loose seat cushions\n         High-resiliency foam cushions wrapped in thick poly fiber\n         Polyester/rayon upholstery\n         Smooth 360-degree swivel\n         \n         split\n         \n         \n         \n         \n         \n         Inches: 36&quot; W x 37&quot; D x 36&quot; H\n         \n         \n         Metric: 914.4mm W x 939.8mm D x 914.4mm H\n         \n         \n         \n         \n         \n         More Dimensions:\n         \n         \n         Arm height: 25&quot;\n         \n         \n         Distance between arms: 20&quot;\n         \n         \n         Minimum width of doorway for delivery: 26&quot;\n         \n         \n         Seat depth: 21&quot;\n         \n         \n         Seat height: 20&quot;\n         \n         \n         Top of cushion to top of back: 18&quot;\n         \n         \n         \n         \n         \",\n             \n             \"brand\": {\n               \"@type\": \"Thing\",\n               \"name\": \"Ashley\"\n             },\n             \n               \"offers\": [\n                 \n                   {\n                     \"@type\" : \"Offer\",\n                     \"availability\" : \"http://schema.org/InStock\",\n                     \"price\" : \"512.0\",\n                     \"priceCurrency\" : \"USD\",\n                     \"url\" : \"https://ahfshop.com/products/abney-swivel-accent-chair?variant=39439521153181\",\n                     \"itemOffered\" :\n                     {\n                         \"@type\" : \"Product\",\n                         \n                         \n                           \"name\" : \"Default Title\",\n                         \n                         \n                           \"sku\": \"4970142\",\n                         \n                         \n                           \"weight\": {\n                             \"@type\": \"QuantitativeValue\",\n                             \n                               \"unitCode\": \"lb\",\n                             \n                             \"value\": \"83.0 lb\"\n                           },\n                         \n                         \"url\": \"https://ahfshop.com/products/abney-swivel-accent-chair?variant=39439521153181\"\n                     }\n                   }\n                 \n               ]\n             \n           }\n         </script>\n         <script>\n           $(document).ready(function() {\n             const recentlyViewed = Shopify.RecentlyViewed.get();\n         \n             if (recentlyViewed) {\n               const handles = recentlyViewed.split(';');\n               const promises = [];\n         \n               for (let i = 0; i < handles.length; i += 1) {\n                 promises.push(\n                   $.ajax({\n                     type: 'GET',\n                     url: `/products/${handles[i]}.js`,\n                     dataType: 'json',\n                   })\n                 );\n               }\n         \n               Promise.all(promises)\n                 .then(function (responses) {\n                   function formatUrl(src, size) {\n                     const match = src.match(/\\.(jpg|jpeg|gif|png|bmp|bitmap|tiff|tif)(\\?v=\\d+)?/i);\n         \n                     if (match !== null) {\n                       const prefix = src.split(match[0]);\n                       const suffix = match[0];\n         \n                       return (`${prefix[0]}_${size}${suffix}`).replace(/http(s)?:/, '');\n                     } else {\n                       return null;\n                     }\n                   }\n         \n                   for (let i = 0; i < responses.length; i += 1) {\n                     $('.recently-viewed').append(`\n                       <div>\n                         <a href=\"${responses[i].url}\">\n                           <img alt=\"${responses[i].media[0].alt}\" src=\"${formatUrl(responses[i].media[0].src, '300x300')}\">\n                         </a>\n                       </div>\n                     `);\n                   }\n         \n                   $('.recently-viewed').slick({\n                     slidesToShow: 4,\n                     slidesToScroll: 1,\n                     prevArrow: '<div class=\"slick-prev\"><i class=\"fas fa-chevron-left\"></i></div>',\n                     nextArrow: '<div class=\"slick-next\"><i class=\"fas fa-chevron-right\"></i></div>',\n                     responsive: [\n                       {\n                         breakpoint: 1200,\n                         settings: {\n                           slidesToShow: 3,\n                         },\n                       },\n                       {\n                         breakpoint: 575,\n                         settings: {\n                           slidesToShow: 2,\n                         },\n                       },\n                     ],\n                   });\n                 });\n             }\n         \n             Shopify.RecentlyViewed.save('abney-swivel-accent-chair');\n         \n             $('form[action=\"/cart/add\"]').click(function(event) {\n               event.preventDefault();\n         \n               const $button = $('form[action=\"/cart/add\"] button');\n         \n               if ($button.data('remove') === true) {\n                 $button.text('Removing from Wishlist...');\n         \n                 $.ajax({\n                   type: 'POST',\n                   url: '/cart/change.js',\n                   data: {\n                     id: 39439521153181,\n                     quantity: 0,\n                   },\n                   dataType: 'json',\n                   success: function() {\n                     $button.text('Add to Wishlist');\n                   },\n                   error: function() {\n                     alert('Could not remove item to wishlist. Please try again.');\n         \n                     $button.text('Remove from Wishlist');\n                   },\n                 });\n               } else {\n                 $button.text('Adding to Wishlist...');\n         \n                 $.ajax({\n                   type: 'POST',\n                   url: '/cart/add.js',\n                   data: $(this).serialize(),\n                   dataType: 'json',\n                   success: function() {\n                     $button.text('Remove from Wishlist');\n                   },\n                   error: function() {\n                     alert('Could not add item to wishlist. Please try again.');\n         \n                     $button.text('Add to Wishlist');\n                   },\n                 });\n               }\n             });\n           });\n         </script>\n         </main>\n         <div class=\"shopify-section\" id=\"shopify-section-footer\"><footer id=\"footer\">\n         <div class=\"container container--large\">\n         <div class=\"grid\">\n         <div class=\"grid__col--xs-12 grid__col--lg-5\">\n         <img alt=\"Affordable Home Furnishings\" class=\"lazyload\" data-src=\"//ahfshop.com/cdn/shop/files/logo-white_350x.png?v=1613557335\"/>\n         <div class=\"input-group\">\n         <input class=\"input-group__input\" placeholder=\"Subscribe to Our Email Newsletter\" type=\"text\"/>\n         <button class=\"button input-group__button\">Submit</button>\n         </div>\n         </div>\n         <div class=\"grid__col--xs-12 grid__col--sm-4 grid__col--lg-2\">\n         <h4>Customer Service</h4>\n         <ul>\n         <li>\n         <a href=\"/pages/contact-us\">Contact Us</a>\n         </li>\n         <li>\n         <a href=\"/policies/privacy-policy\">Privacy Policy</a>\n         </li>\n         <li>\n         <a href=\"/policies/terms-of-service\">Warranty</a>\n         </li>\n         <li>\n         <a href=\"/policies/terms-of-service\">Terms &amp; Conditions</a>\n         </li>\n         <li>\n         <a href=\"/pages/shipping-information\">Shipping Information</a>\n         </li>\n         <li>\n         <a href=\"/pages/payments\">Payments</a>\n         </li>\n         </ul>\n         </div>\n         <div class=\"grid__col--xs-5 grid__col--sm-4 grid__col--lg-2\">\n         <h4>About</h4>\n         <ul>\n         <li>\n         <a href=\"/pages/about-us\">About Us</a>\n         </li>\n         <li>\n         <a href=\"/#how-it-works\">How AHF Works</a>\n         </li>\n         <li>\n         <a href=\"/collections/all\">Inventory</a>\n         </li>\n         <li>\n         <a href=\"/pages/careers\">Careers</a>\n         </li>\n         </ul>\n         </div>\n         <div class=\"grid__col--xs-7 grid__col--sm-4 grid__col--lg-3\">\n         <h4>Contact Us</h4>\n         <ul>\n         <li>\n         <a href=\"tel:6072186060\" style=\"font-style: normal;\">\n         <i class=\"fas fa-phone\"></i>\n                       607-218-6060\n                     </a>\n         </li>\n         <li>\n         <a href=\"mailto:info@ahfshop.com\" style=\"font-style: normal;\">\n         <i class=\"fas fa-envelope\"></i>\n                       info@ahfshop.com\n                     </a>\n         </li>\n         </ul>\n         </div>\n         </div>\n         <div class=\"text-center copy\">\n         <small>2024 © AHF Shop</small>\n         </div>\n         </div>\n         </footer>\n         </div>\n         <script data-organization-api-token=\"0bcb433a-85df-4dea-95c5-acadc30eec8b\" defer=\"\" id=\"podium-widget\" src=\"https://connect.podium.com/widget.js#ORG_TOKEN=0bcb433a-85df-4dea-95c5-acadc30eec8b\"></script>\n         </body>: 5,\n         <script class=\"boomerang\">\n         (function () {\n           if (window.BOOMR && (window.BOOMR.version || window.BOOMR.snippetExecuted)) {\n             return;\n           }\n           window.BOOMR = window.BOOMR || {};\n           window.BOOMR.snippetStart = new Date().getTime();\n           window.BOOMR.snippetExecuted = true;\n           window.BOOMR.snippetVersion = 12;\n           window.BOOMR.application = \"storefront-renderer\";\n           window.BOOMR.themeName = \"Themekit template theme\";\n           window.BOOMR.themeVersion = \"1.0.0\";\n           window.BOOMR.shopId = 40508194973;\n           window.BOOMR.themeId = 100847222941;\n           window.BOOMR.renderRegion = \"gcp-europe-west1\";\n           window.BOOMR.url =\n             \"https://ahfshop.com/cdn/shopifycloud/boomerang/shopify-boomerang-1.0.0.min.js\";\n           var where = document.currentScript || document.getElementsByTagName(\"script\")[0];\n           var parentNode = where.parentNode;\n           var promoted = false;\n           var LOADER_TIMEOUT = 3000;\n           function promote() {\n             if (promoted) {\n               return;\n             }\n             var script = document.createElement(\"script\");\n             script.id = \"boomr-scr-as\";\n             script.src = window.BOOMR.url;\n             script.async = true;\n             parentNode.appendChild(script);\n             promoted = true;\n           }\n           function iframeLoader(wasFallback) {\n             promoted = true;\n             var dom, bootstrap, iframe, iframeStyle;\n             var doc = document;\n             var win = window;\n             window.BOOMR.snippetMethod = wasFallback ? \"if\" : \"i\";\n             bootstrap = function(parent, scriptId) {\n               var script = doc.createElement(\"script\");\n               script.id = scriptId || \"boomr-if-as\";\n               script.src = window.BOOMR.url;\n               BOOMR_lstart = new Date().getTime();\n               parent = parent || doc.body;\n               parent.appendChild(script);\n             };\n             if (!window.addEventListener && window.attachEvent && navigator.userAgent.match(/MSIE [67]./)) {\n               window.BOOMR.snippetMethod = \"s\";\n               bootstrap(parentNode, \"boomr-async\");\n               return;\n             }\n             iframe = document.createElement(\"IFRAME\");\n             iframe.src = \"about:blank\";\n             iframe.title = \"\";\n             iframe.role = \"presentation\";\n             iframe.loading = \"eager\";\n             iframeStyle = (iframe.frameElement || iframe).style;\n             iframeStyle.width = 0;\n             iframeStyle.height = 0;\n             iframeStyle.border = 0;\n             iframeStyle.display = \"none\";\n             parentNode.appendChild(iframe);\n             try {\n               win = iframe.contentWindow;\n               doc = win.document.open();\n             } catch (e) {\n               dom = document.domain;\n               iframe.src = \"javascript:var d=document.open();d.domain='\" + dom + \"';void(0);\";\n               win = iframe.contentWindow;\n               doc = win.document.open();\n             }\n             if (dom) {\n               doc._boomrl = function() {\n                 this.domain = dom;\n                 bootstrap();\n               };\n               doc.write(\"<body onload='document._boomrl();'>\");\n             } else {\n               win._boomrl = function() {\n                 bootstrap();\n               };\n               if (win.addEventListener) {\n                 win.addEventListener(\"load\", win._boomrl, false);\n               } else if (win.attachEvent) {\n                 win.attachEvent(\"onload\", win._boomrl);\n               }\n             }\n             doc.close();\n           }\n           var link = document.createElement(\"link\");\n           if (link.relList &&\n             typeof link.relList.supports === \"function\" &&\n             link.relList.supports(\"preload\") &&\n             (\"as\" in link)) {\n             window.BOOMR.snippetMethod = \"p\";\n             link.href = window.BOOMR.url;\n             link.rel = \"preload\";\n             link.as = \"script\";\n             link.addEventListener(\"load\", promote);\n             link.addEventListener(\"error\", function() {\n               iframeLoader(true);\n             });\n             setTimeout(function() {\n               if (!promoted) {\n                 iframeLoader(true);\n               }\n             }, LOADER_TIMEOUT);\n             BOOMR_lstart = new Date().getTime();\n             parentNode.appendChild(link);\n           } else {\n             iframeLoader(false);\n           }\n           function boomerangSaveLoadTime(e) {\n             window.BOOMR_onload = (e && e.timeStamp) || new Date().getTime();\n           }\n           if (window.addEventListener) {\n             window.addEventListener(\"load\", boomerangSaveLoadTime, false);\n           } else if (window.attachEvent) {\n             window.attachEvent(\"onload\", boomerangSaveLoadTime);\n           }\n           if (document.addEventListener) {\n             document.addEventListener(\"onBoomerangLoaded\", function(e) {\n               e.detail.BOOMR.init({\n                 ResourceTiming: {\n                   enabled: true,\n                   trackedResourceTypes: [\"script\", \"img\", \"css\"]\n                 },\n               });\n               e.detail.BOOMR.t_end = new Date().getTime();\n             });\n           } else if (document.attachEvent) {\n             document.attachEvent(\"onpropertychange\", function(e) {\n               if (!e) e=event;\n               if (e.propertyName === \"onBoomerangLoaded\") {\n                 e.detail.BOOMR.init({\n                   ResourceTiming: {\n                     enabled: true,\n                     trackedResourceTypes: [\"script\", \"img\", \"css\"]\n                   },\n                 });\n                 e.detail.BOOMR.t_end = new Date().getTime();\n               }\n             });\n           }\n         })();</script>: 5,\n         <script class=\"analytics\">(function () {\n             var customDocumentWrite = function(content) {\n               var jquery = null;\n         \n               if (window.jQuery) {\n                 jquery = window.jQuery;\n               } else if (window.Checkout && window.Checkout.$) {\n                 jquery = window.Checkout.$;\n               }\n         \n               if (jquery) {\n                 jquery('body').append(content);\n               }\n             };\n         \n             var hasLoggedConversion = function(token) {\n               if (token) {\n                 return document.cookie.indexOf('loggedConversion=' + token) !== -1;\n               }\n               return false;\n             }\n         \n             var setCookieIfConversion = function(token) {\n               if (token) {\n                 var twoMonthsFromNow = new Date(Date.now());\n                 twoMonthsFromNow.setMonth(twoMonthsFromNow.getMonth() + 2);\n         \n                 document.cookie = 'loggedConversion=' + token + '; expires=' + twoMonthsFromNow;\n               }\n             }\n         \n             var trekkie = window.ShopifyAnalytics.lib = window.trekkie = window.trekkie || [];\n             if (trekkie.integrations) {\n               return;\n             }\n             trekkie.methods = [\n               'identify',\n               'page',\n               'ready',\n               'track',\n               'trackForm',\n               'trackLink'\n             ];\n             trekkie.factory = function(method) {\n               return function() {\n                 var args = Array.prototype.slice.call(arguments);\n                 args.unshift(method);\n                 trekkie.push(args);\n                 return trekkie;\n               };\n             };\n             for (var i = 0; i < trekkie.methods.length; i++) {\n               var key = trekkie.methods[i];\n               trekkie[key] = trekkie.factory(key);\n             }\n             trekkie.load = function(config) {\n               trekkie.config = config || {};\n               trekkie.config.initialDocumentCookie = document.cookie;\n               var first = document.getElementsByTagName('script')[0];\n               var script = document.createElement('script');\n               script.type = 'text/javascript';\n               script.onerror = function(e) {\n                 var scriptFallback = document.createElement('script');\n                 scriptFallback.type = 'text/javascript';\n                 scriptFallback.onerror = function(error) {\n                         var Monorail = {\n               produce: function produce(monorailDomain, schemaId, payload) {\n                 var currentMs = new Date().getTime();\n                 var event = {\n                   schema_id: schemaId,\n                   payload: payload,\n                   metadata: {\n                     event_created_at_ms: currentMs,\n                     event_sent_at_ms: currentMs\n                   }\n                 };\n                 return Monorail.sendRequest(\"https://\" + monorailDomain + \"/v1/produce\", JSON.stringify(event));\n               },\n               sendRequest: function sendRequest(endpointUrl, payload) {\n                 // Try the sendBeacon API\n                 if (window && window.navigator && typeof window.navigator.sendBeacon === 'function' && typeof window.Blob === 'function' && !Monorail.isIos12()) {\n                   var blobData = new window.Blob([payload], {\n                     type: 'text/plain'\n                   });\n         \n                   if (window.navigator.sendBeacon(endpointUrl, blobData)) {\n                     return true;\n                   } // sendBeacon was not successful\n         \n                 } // XHR beacon\n         \n                 var xhr = new XMLHttpRequest();\n         \n                 try {\n                   xhr.open('POST', endpointUrl);\n                   xhr.setRequestHeader('Content-Type', 'text/plain');\n                   xhr.send(payload);\n                 } catch (e) {\n                   console.log(e);\n                 }\n         \n                 return false;\n               },\n               isIos12: function isIos12() {\n                 return window.navigator.userAgent.lastIndexOf('iPhone; CPU iPhone OS 12_') !== -1 || window.navigator.userAgent.lastIndexOf('iPad; CPU OS 12_') !== -1;\n               }\n             };\n             Monorail.produce('monorail-edge.shopifysvc.com',\n               'trekkie_storefront_load_errors/1.1',\n               {shop_id: 40508194973,\n               theme_id: 100847222941,\n               app_name: \"storefront\",\n               context_url: window.location.href,\n               source_url: \"//ahfshop.com/cdn/s/trekkie.storefront.2eced10260225d6798d99c4a95501a3f587f6b15.min.js\"});\n         \n                 };\n                 scriptFallback.async = true;\n                 scriptFallback.src = '//ahfshop.com/cdn/s/trekkie.storefront.2eced10260225d6798d99c4a95501a3f587f6b15.min.js';\n                 first.parentNode.insertBefore(scriptFallback, first);\n               };\n               script.async = true;\n               script.src = '//ahfshop.com/cdn/s/trekkie.storefront.2eced10260225d6798d99c4a95501a3f587f6b15.min.js';\n               first.parentNode.insertBefore(script, first);\n             };\n             trekkie.load(\n               {\"Trekkie\":{\"appName\":\"storefront\",\"development\":false,\"defaultAttributes\":{\"shopId\":40508194973,\"isMerchantRequest\":null,\"themeId\":100847222941,\"themeCityHash\":\"1746395193339291158\",\"contentLanguage\":\"en\",\"currency\":\"USD\"},\"isServerSideCookieWritingEnabled\":true,\"monorailRegion\":\"shop_domain\",\"enabledBetaFlags\":[\"bbcf04e6\"]},\"Session Attribution\":{},\"S2S\":{\"facebookCapiEnabled\":false,\"source\":\"trekkie-storefront-renderer\"}}\n             );\n         \n             var loaded = false;\n             trekkie.ready(function() {\n               if (loaded) return;\n               loaded = true;\n         \n               window.ShopifyAnalytics.lib = window.trekkie;\n         \n           \n               var originalDocumentWrite = document.write;\n               document.write = customDocumentWrite;\n               try { window.ShopifyAnalytics.merchantGoogleAnalytics.call(this); } catch(error) {};\n               document.write = originalDocumentWrite;\n         \n               window.ShopifyAnalytics.lib.page(null,{\"pageType\":\"product\",\"resourceType\":\"product\",\"resourceId\":6594233008285});\n         \n               var match = window.location.pathname.match(/checkouts\\/(.+)\\/(thank_you|post_purchase)/)\n               var token = match? match[1]: undefined;\n               if (!hasLoggedConversion(token)) {\n                 setCookieIfConversion(token);\n                 window.ShopifyAnalytics.lib.track(\"Viewed Product\",{\"currency\":\"USD\",\"variantId\":39439521153181,\"productId\":6594233008285,\"productGid\":\"gid:\\/\\/shopify\\/Product\\/6594233008285\",\"name\":\"Abney Swivel Accent Chair\",\"price\":\"512.00\",\"sku\":\"4970142\",\"brand\":\"Ashley\",\"variant\":null,\"category\":\"Accent Chair\",\"nonInteraction\":true});\n               window.ShopifyAnalytics.lib.track(\"monorail:\\/\\/trekkie_storefront_viewed_product\\/1.1\",{\"currency\":\"USD\",\"variantId\":39439521153181,\"productId\":6594233008285,\"productGid\":\"gid:\\/\\/shopify\\/Product\\/6594233008285\",\"name\":\"Abney Swivel Accent Chair\",\"price\":\"512.00\",\"sku\":\"4970142\",\"brand\":\"Ashley\",\"variant\":null,\"category\":\"Accent Chair\",\"nonInteraction\":true,\"referer\":\"https:\\/\\/ahfshop.com\\/products\\/abney-swivel-accent-chair\"});\n               }\n             });\n         \n         \n                 var eventsListenerScript = document.createElement('script');\n                 eventsListenerScript.async = true;\n                 eventsListenerScript.src = \"//ahfshop.com/cdn/shopifycloud/shopify/assets/shop_events_listener-61fa9e0a912c675e178777d2b27f6cbd482f8912a6b0aa31fa3515985a8cd626.js\";\n                 document.getElementsByTagName('head')[0].appendChild(eventsListenerScript);\n         \n         })();</script>: 5,\n         <script>window.ShopifyAnalytics.merchantGoogleAnalytics = function() {\n           \n         };\n         </script>: 5,\n         <script>window.ShopifyAnalytics = window.ShopifyAnalytics || {};\n         window.ShopifyAnalytics.meta = window.ShopifyAnalytics.meta || {};\n         window.ShopifyAnalytics.meta.currency = 'USD';\n         var meta = {\"product\":{\"id\":6594233008285,\"gid\":\"gid:\\/\\/shopify\\/Product\\/6594233008285\",\"vendor\":\"Ashley\",\"type\":\"Accent Chair\",\"variants\":[{\"id\":39439521153181,\"price\":51200,\"name\":\"Abney Swivel Accent Chair\",\"public_title\":null,\"sku\":\"4970142\"}]},\"page\":{\"pageType\":\"product\",\"resourceType\":\"product\",\"resourceId\":6594233008285}};\n         for (var attr in meta) {\n           window.ShopifyAnalytics.meta[attr] = meta[attr];\n         }</script>: 5,\n         <script id=\"web-pixels-manager-setup\">(function e(e,n,a,t,r){var o=\"function\"==typeof BigInt&&-1!==BigInt.toString().indexOf(\"[native code]\")?\"modern\":\"legacy\";window.Shopify=window.Shopify||{};var i=window.Shopify;i.analytics=i.analytics||{};var s=i.analytics;s.replayQueue=[],s.publish=function(e,n,a){return s.replayQueue.push([e,n,a]),!0};try{self.performance.mark(\"wpm:start\")}catch(e){}var l=[a,\"/wpm\",\"/b\",r,o.substring(0,1),\".js\"].join(\"\");!function(e){var n=e.src,a=e.async,t=void 0===a||a,r=e.onload,o=e.onerror,i=document.createElement(\"script\"),s=document.head,l=document.body;i.async=t,i.src=n,r&&i.addEventListener(\"load\",r),o&&i.addEventListener(\"error\",o),s?s.appendChild(i):l?l.appendChild(i):console.error(\"Did not find a head or body element to append the script\")}({src:l,async:!0,onload:function(){var a=window.webPixelsManager.init(e);n(a);var t=window.Shopify.analytics;t.replayQueue.forEach((function(e){var n=e[0],t=e[1],r=e[2];a.publishCustomEvent(n,t,r)})),t.replayQueue=[],t.publish=a.publishCustomEvent,t.visitor=a.visitor},onerror:function(){var n=e.storefrontBaseUrl.replace(/\\/$/,\"\"),a=\"\".concat(n,\"/.well-known/shopify/monorail/unstable/produce_batch\"),r=JSON.stringify({metadata:{event_sent_at_ms:(new Date).getTime()},events:[{schema_id:\"web_pixels_manager_load/2.0\",payload:{version:t||\"latest\",page_url:self.location.href,status:\"failed\",error_msg:\"\".concat(l,\" has failed to load\")},metadata:{event_created_at_ms:(new Date).getTime()}}]});try{if(self.navigator.sendBeacon.bind(self.navigator)(a,r))return!0}catch(e){}var o=new XMLHttpRequest;try{return o.open(\"POST\",a,!0),o.setRequestHeader(\"Content-Type\",\"text/plain\"),o.send(r),!0}catch(e){console&&console.warn&&console.warn(\"[Web Pixels Manager] Got an unhandled error while logging a load error.\")}return!1}})})({shopId: 40508194973,storefrontBaseUrl: \"https://ahfshop.com\",cdnBaseUrl: \"https://ahfshop.com/cdn\",surface: \"storefront-renderer\",enabledBetaFlags: [],webPixelsConfigList: [{\"id\":\"shopify-app-pixel\",\"configuration\":\"{}\",\"eventPayloadVersion\":\"v1\",\"runtimeContext\":\"STRICT\",\"scriptVersion\":\"0575\",\"apiClientId\":\"shopify-pixel\",\"type\":\"APP\",\"purposes\":[\"ANALYTICS\"]},{\"id\":\"shopify-custom-pixel\",\"eventPayloadVersion\":\"v1\",\"runtimeContext\":\"LAX\",\"scriptVersion\":\"0575\",\"apiClientId\":\"shopify-pixel\",\"type\":\"CUSTOM\",\"purposes\":[\"ANALYTICS\"]}],initData: {\"cart\":null,\"checkout\":null,\"customer\":null,\"productVariants\":[{\"id\":\"39439521153181\",\"image\":{\"src\":\"\\/\\/ahfshop.com\\/cdn\\/shop\\/products\\/4970142-10X8-CROP.jpg?v=1616099264\"},\"price\":{\"amount\":512.0,\"currencyCode\":\"USD\"},\"product\":{\"id\":\"6594233008285\",\"title\":\"Abney Swivel Accent Chair\",\"untranslatedTitle\":\"Abney Swivel Accent Chair\",\"url\":\"\\/products\\/abney-swivel-accent-chair\",\"vendor\":\"Ashley\",\"type\":\"Accent Chair\"},\"sku\":\"4970142\",\"title\":\"Default Title\",\"untranslatedTitle\":\"Default Title\"}]},},function pageEvents(webPixelsManagerAPI) {webPixelsManagerAPI.publish(\"page_viewed\");webPixelsManagerAPI.publish(\"product_viewed\", {\"productVariant\":{\"id\":\"39439521153181\",\"image\":{\"src\":\"\\/\\/ahfshop.com\\/cdn\\/shop\\/products\\/4970142-10X8-CROP.jpg?v=1616099264\"},\"price\":{\"amount\":512.0,\"currencyCode\":\"USD\"},\"product\":{\"id\":\"6594233008285\",\"title\":\"Abney Swivel Accent Chair\",\"untranslatedTitle\":\"Abney Swivel Accent Chair\",\"url\":\"\\/products\\/abney-swivel-accent-chair\",\"vendor\":\"Ashley\",\"type\":\"Accent Chair\"},\"sku\":\"4970142\",\"title\":\"Default Title\",\"untranslatedTitle\":\"Default Title\"}});},\"https://ahfshop.com/cdn\",\"0.0.469\",\"7265dc79wdf6f2cd2p26523560m583183dc\",);</script>: 5,\n         <script>(function(){if (\"sendBeacon\" in navigator && \"performance\" in window) {var session_token = document.cookie.match(/_shopify_s=([^;]*)/);function handle_abandonment_event(e) {var entries = performance.getEntries().filter(function(entry) {return /monorail-edge.shopifysvc.com/.test(entry.name);});if (!window.abandonment_tracked && entries.length === 0) {window.abandonment_tracked = true;var currentMs = Date.now();var navigation_start = performance.timing.navigationStart;var payload = {shop_id: 40508194973,url: window.location.href,navigation_start,duration: currentMs - navigation_start,session_token: session_token && session_token.length === 2 ? session_token[1] : \"\",page_type: \"product\"};window.navigator.sendBeacon(\"https://monorail-edge.shopifysvc.com/v1/produce\", JSON.stringify({schema_id: \"online_store_buyer_site_abandonment/1.1\",payload: payload,metadata: {event_created_at_ms: currentMs,event_sent_at_ms: currentMs}}));}}window.addEventListener('pagehide', handle_abandonment_event);}}());</script>: 5,\n         <link href=\"https://monorail-edge.shopifysvc.com\" rel=\"dns-prefetch\"/>: 5,\n         <meta content=\"1723\" property=\"og:image:height\">\n         <link href=\"https://monorail-edge.shopifysvc.com\" rel=\"dns-prefetch\"/>\n         <script>(function(){if (\"sendBeacon\" in navigator && \"performance\" in window) {var session_token = document.cookie.match(/_shopify_s=([^;]*)/);function handle_abandonment_event(e) {var entries = performance.getEntries().filter(function(entry) {return /monorail-edge.shopifysvc.com/.test(entry.name);});if (!window.abandonment_tracked && entries.length === 0) {window.abandonment_tracked = true;var currentMs = Date.now();var navigation_start = performance.timing.navigationStart;var payload = {shop_id: 40508194973,url: window.location.href,navigation_start,duration: currentMs - navigation_start,session_token: session_token && session_token.length === 2 ? session_token[1] : \"\",page_type: \"product\"};window.navigator.sendBeacon(\"https://monorail-edge.shopifysvc.com/v1/produce\", JSON.stringify({schema_id: \"online_store_buyer_site_abandonment/1.1\",payload: payload,metadata: {event_created_at_ms: currentMs,event_sent_at_ms: currentMs}}));}}window.addEventListener('pagehide', handle_abandonment_event);}}());</script>\n         <script id=\"web-pixels-manager-setup\">(function e(e,n,a,t,r){var o=\"function\"==typeof BigInt&&-1!==BigInt.toString().indexOf(\"[native code]\")?\"modern\":\"legacy\";window.Shopify=window.Shopify||{};var i=window.Shopify;i.analytics=i.analytics||{};var s=i.analytics;s.replayQueue=[],s.publish=function(e,n,a){return s.replayQueue.push([e,n,a]),!0};try{self.performance.mark(\"wpm:start\")}catch(e){}var l=[a,\"/wpm\",\"/b\",r,o.substring(0,1),\".js\"].join(\"\");!function(e){var n=e.src,a=e.async,t=void 0===a||a,r=e.onload,o=e.onerror,i=document.createElement(\"script\"),s=document.head,l=document.body;i.async=t,i.src=n,r&&i.addEventListener(\"load\",r),o&&i.addEventListener(\"error\",o),s?s.appendChild(i):l?l.appendChild(i):console.error(\"Did not find a head or body element to append the script\")}({src:l,async:!0,onload:function(){var a=window.webPixelsManager.init(e);n(a);var t=window.Shopify.analytics;t.replayQueue.forEach((function(e){var n=e[0],t=e[1],r=e[2];a.publishCustomEvent(n,t,r)})),t.replayQueue=[],t.publish=a.publishCustomEvent,t.visitor=a.visitor},onerror:function(){var n=e.storefrontBaseUrl.replace(/\\/$/,\"\"),a=\"\".concat(n,\"/.well-known/shopify/monorail/unstable/produce_batch\"),r=JSON.stringify({metadata:{event_sent_at_ms:(new Date).getTime()},events:[{schema_id:\"web_pixels_manager_load/2.0\",payload:{version:t||\"latest\",page_url:self.location.href,status:\"failed\",error_msg:\"\".concat(l,\" has failed to load\")},metadata:{event_created_at_ms:(new Date).getTime()}}]});try{if(self.navigator.sendBeacon.bind(self.navigator)(a,r))return!0}catch(e){}var o=new XMLHttpRequest;try{return o.open(\"POST\",a,!0),o.setRequestHeader(\"Content-Type\",\"text/plain\"),o.send(r),!0}catch(e){console&&console.warn&&console.warn(\"[Web Pixels Manager] Got an unhandled error while logging a load error.\")}return!1}})})({shopId: 40508194973,storefrontBaseUrl: \"https://ahfshop.com\",cdnBaseUrl: \"https://ahfshop.com/cdn\",surface: \"storefront-renderer\",enabledBetaFlags: [],webPixelsConfigList: [{\"id\":\"shopify-app-pixel\",\"configuration\":\"{}\",\"eventPayloadVersion\":\"v1\",\"runtimeContext\":\"STRICT\",\"scriptVersion\":\"0575\",\"apiClientId\":\"shopify-pixel\",\"type\":\"APP\",\"purposes\":[\"ANALYTICS\"]},{\"id\":\"shopify-custom-pixel\",\"eventPayloadVersion\":\"v1\",\"runtimeContext\":\"LAX\",\"scriptVersion\":\"0575\",\"apiClientId\":\"shopify-pixel\",\"type\":\"CUSTOM\",\"purposes\":[\"ANALYTICS\"]}],initData: {\"cart\":null,\"checkout\":null,\"customer\":null,\"productVariants\":[{\"id\":\"39439521153181\",\"image\":{\"src\":\"\\/\\/ahfshop.com\\/cdn\\/shop\\/products\\/4970142-10X8-CROP.jpg?v=1616099264\"},\"price\":{\"amount\":512.0,\"currencyCode\":\"USD\"},\"product\":{\"id\":\"6594233008285\",\"title\":\"Abney Swivel Accent Chair\",\"untranslatedTitle\":\"Abney Swivel Accent Chair\",\"url\":\"\\/products\\/abney-swivel-accent-chair\",\"vendor\":\"Ashley\",\"type\":\"Accent Chair\"},\"sku\":\"4970142\",\"title\":\"Default Title\",\"untranslatedTitle\":\"Default Title\"}]},},function pageEvents(webPixelsManagerAPI) {webPixelsManagerAPI.publish(\"page_viewed\");webPixelsManagerAPI.publish(\"product_viewed\", {\"productVariant\":{\"id\":\"39439521153181\",\"image\":{\"src\":\"\\/\\/ahfshop.com\\/cdn\\/shop\\/products\\/4970142-10X8-CROP.jpg?v=1616099264\"},\"price\":{\"amount\":512.0,\"currencyCode\":\"USD\"},\"product\":{\"id\":\"6594233008285\",\"title\":\"Abney Swivel Accent Chair\",\"untranslatedTitle\":\"Abney Swivel Accent Chair\",\"url\":\"\\/products\\/abney-swivel-accent-chair\",\"vendor\":\"Ashley\",\"type\":\"Accent Chair\"},\"sku\":\"4970142\",\"title\":\"Default Title\",\"untranslatedTitle\":\"Default Title\"}});},\"https://ahfshop.com/cdn\",\"0.0.469\",\"7265dc79wdf6f2cd2p26523560m583183dc\",);</script> <script>window.ShopifyAnalytics = window.ShopifyAnalytics || {};\n         window.ShopifyAnalytics.meta = window.ShopifyAnalytics.meta || {};\n         window.ShopifyAnalytics.meta.currency = 'USD';\n         var meta = {\"product\":{\"id\":6594233008285,\"gid\":\"gid:\\/\\/shopify\\/Product\\/6594233008285\",\"vendor\":\"Ashley\",\"type\":\"Accent Chair\",\"variants\":[{\"id\":39439521153181,\"price\":51200,\"name\":\"Abney Swivel Accent Chair\",\"public_title\":null,\"sku\":\"4970142\"}]},\"page\":{\"pageType\":\"product\",\"resourceType\":\"product\",\"resourceId\":6594233008285}};\n         for (var attr in meta) {\n           window.ShopifyAnalytics.meta[attr] = meta[attr];\n         }</script>\n         <script>window.ShopifyAnalytics.merchantGoogleAnalytics = function() {\n           \n         };\n         </script>\n         <script class=\"analytics\">(function () {\n             var customDocumentWrite = function(content) {\n               var jquery = null;\n         \n               if (window.jQuery) {\n                 jquery = window.jQuery;\n               } else if (window.Checkout && window.Checkout.$) {\n                 jquery = window.Checkout.$;\n               }\n         \n               if (jquery) {\n                 jquery('body').append(content);\n               }\n             };\n         \n             var hasLoggedConversion = function(token) {\n               if (token) {\n                 return document.cookie.indexOf('loggedConversion=' + token) !== -1;\n               }\n               return false;\n             }\n         \n             var setCookieIfConversion = function(token) {\n               if (token) {\n                 var twoMonthsFromNow = new Date(Date.now());\n                 twoMonthsFromNow.setMonth(twoMonthsFromNow.getMonth() + 2);\n         \n                 document.cookie = 'loggedConversion=' + token + '; expires=' + twoMonthsFromNow;\n               }\n             }\n         \n             var trekkie = window.ShopifyAnalytics.lib = window.trekkie = window.trekkie || [];\n             if (trekkie.integrations) {\n               return;\n             }\n             trekkie.methods = [\n               'identify',\n               'page',\n               'ready',\n               'track',\n               'trackForm',\n               'trackLink'\n             ];\n             trekkie.factory = function(method) {\n               return function() {\n                 var args = Array.prototype.slice.call(arguments);\n                 args.unshift(method);\n                 trekkie.push(args);\n                 return trekkie;\n               };\n             };\n             for (var i = 0; i < trekkie.methods.length; i++) {\n               var key = trekkie.methods[i];\n               trekkie[key] = trekkie.factory(key);\n             }\n             trekkie.load = function(config) {\n               trekkie.config = config || {};\n               trekkie.config.initialDocumentCookie = document.cookie;\n               var first = document.getElementsByTagName('script')[0];\n               var script = document.createElement('script');\n               script.type = 'text/javascript';\n               script.onerror = function(e) {\n                 var scriptFallback = document.createElement('script');\n                 scriptFallback.type = 'text/javascript';\n                 scriptFallback.onerror = function(error) {\n                         var Monorail = {\n               produce: function produce(monorailDomain, schemaId, payload) {\n                 var currentMs = new Date().getTime();\n                 var event = {\n                   schema_id: schemaId,\n                   payload: payload,\n                   metadata: {\n                     event_created_at_ms: currentMs,\n                     event_sent_at_ms: currentMs\n                   }\n                 };\n                 return Monorail.sendRequest(\"https://\" + monorailDomain + \"/v1/produce\", JSON.stringify(event));\n               },\n               sendRequest: function sendRequest(endpointUrl, payload) {\n                 // Try the sendBeacon API\n                 if (window && window.navigator && typeof window.navigator.sendBeacon === 'function' && typeof window.Blob === 'function' && !Monorail.isIos12()) {\n                   var blobData = new window.Blob([payload], {\n                     type: 'text/plain'\n                   });\n         \n                   if (window.navigator.sendBeacon(endpointUrl, blobData)) {\n                     return true;\n                   } // sendBeacon was not successful\n         \n                 } // XHR beacon\n         \n                 var xhr = new XMLHttpRequest();\n         \n                 try {\n                   xhr.open('POST', endpointUrl);\n                   xhr.setRequestHeader('Content-Type', 'text/plain');\n                   xhr.send(payload);\n                 } catch (e) {\n                   console.log(e);\n                 }\n         \n                 return false;\n               },\n               isIos12: function isIos12() {\n                 return window.navigator.userAgent.lastIndexOf('iPhone; CPU iPhone OS 12_') !== -1 || window.navigator.userAgent.lastIndexOf('iPad; CPU OS 12_') !== -1;\n               }\n             };\n             Monorail.produce('monorail-edge.shopifysvc.com',\n               'trekkie_storefront_load_errors/1.1',\n               {shop_id: 40508194973,\n               theme_id: 100847222941,\n               app_name: \"storefront\",\n               context_url: window.location.href,\n               source_url: \"//ahfshop.com/cdn/s/trekkie.storefront.2eced10260225d6798d99c4a95501a3f587f6b15.min.js\"});\n         \n                 };\n                 scriptFallback.async = true;\n                 scriptFallback.src = '//ahfshop.com/cdn/s/trekkie.storefront.2eced10260225d6798d99c4a95501a3f587f6b15.min.js';\n                 first.parentNode.insertBefore(scriptFallback, first);\n               };\n               script.async = true;\n               script.src = '//ahfshop.com/cdn/s/trekkie.storefront.2eced10260225d6798d99c4a95501a3f587f6b15.min.js';\n               first.parentNode.insertBefore(script, first);\n             };\n             trekkie.load(\n               {\"Trekkie\":{\"appName\":\"storefront\",\"development\":false,\"defaultAttributes\":{\"shopId\":40508194973,\"isMerchantRequest\":null,\"themeId\":100847222941,\"themeCityHash\":\"1746395193339291158\",\"contentLanguage\":\"en\",\"currency\":\"USD\"},\"isServerSideCookieWritingEnabled\":true,\"monorailRegion\":\"shop_domain\",\"enabledBetaFlags\":[\"bbcf04e6\"]},\"Session Attribution\":{},\"S2S\":{\"facebookCapiEnabled\":false,\"source\":\"trekkie-storefront-renderer\"}}\n             );\n         \n             var loaded = false;\n             trekkie.ready(function() {\n               if (loaded) return;\n               loaded = true;\n         \n               window.ShopifyAnalytics.lib = window.trekkie;\n         \n           \n               var originalDocumentWrite = document.write;\n               document.write = customDocumentWrite;\n               try { window.ShopifyAnalytics.merchantGoogleAnalytics.call(this); } catch(error) {};\n               document.write = originalDocumentWrite;\n         \n               window.ShopifyAnalytics.lib.page(null,{\"pageType\":\"product\",\"resourceType\":\"product\",\"resourceId\":6594233008285});\n         \n               var match = window.location.pathname.match(/checkouts\\/(.+)\\/(thank_you|post_purchase)/)\n               var token = match? match[1]: undefined;\n               if (!hasLoggedConversion(token)) {\n                 setCookieIfConversion(token);\n                 window.ShopifyAnalytics.lib.track(\"Viewed Product\",{\"currency\":\"USD\",\"variantId\":39439521153181,\"productId\":6594233008285,\"productGid\":\"gid:\\/\\/shopify\\/Product\\/6594233008285\",\"name\":\"Abney Swivel Accent Chair\",\"price\":\"512.00\",\"sku\":\"4970142\",\"brand\":\"Ashley\",\"variant\":null,\"category\":\"Accent Chair\",\"nonInteraction\":true});\n               window.ShopifyAnalytics.lib.track(\"monorail:\\/\\/trekkie_storefront_viewed_product\\/1.1\",{\"currency\":\"USD\",\"variantId\":39439521153181,\"productId\":6594233008285,\"productGid\":\"gid:\\/\\/shopify\\/Product\\/6594233008285\",\"name\":\"Abney Swivel Accent Chair\",\"price\":\"512.00\",\"sku\":\"4970142\",\"brand\":\"Ashley\",\"variant\":null,\"category\":\"Accent Chair\",\"nonInteraction\":true,\"referer\":\"https:\\/\\/ahfshop.com\\/products\\/abney-swivel-accent-chair\"});\n               }\n             });\n         \n         \n                 var eventsListenerScript = document.createElement('script');\n                 eventsListenerScript.async = true;\n                 eventsListenerScript.src = \"//ahfshop.com/cdn/shopifycloud/shopify/assets/shop_events_listener-61fa9e0a912c675e178777d2b27f6cbd482f8912a6b0aa31fa3515985a8cd626.js\";\n                 document.getElementsByTagName('head')[0].appendChild(eventsListenerScript);\n         \n         })();</script>\n         <script class=\"boomerang\">\n         (function () {\n           if (window.BOOMR && (window.BOOMR.version || window.BOOMR.snippetExecuted)) {\n             return;\n           }\n           window.BOOMR = window.BOOMR || {};\n           window.BOOMR.snippetStart = new Date().getTime();\n           window.BOOMR.snippetExecuted = true;\n           window.BOOMR.snippetVersion = 12;\n           window.BOOMR.application = \"storefront-renderer\";\n           window.BOOMR.themeName = \"Themekit template theme\";\n           window.BOOMR.themeVersion = \"1.0.0\";\n           window.BOOMR.shopId = 40508194973;\n           window.BOOMR.themeId = 100847222941;\n           window.BOOMR.renderRegion = \"gcp-europe-west1\";\n           window.BOOMR.url =\n             \"https://ahfshop.com/cdn/shopifycloud/boomerang/shopify-boomerang-1.0.0.min.js\";\n           var where = document.currentScript || document.getElementsByTagName(\"script\")[0];\n           var parentNode = where.parentNode;\n           var promoted = false;\n           var LOADER_TIMEOUT = 3000;\n           function promote() {\n             if (promoted) {\n               return;\n             }\n             var script = document.createElement(\"script\");\n             script.id = \"boomr-scr-as\";\n             script.src = window.BOOMR.url;\n             script.async = true;\n             parentNode.appendChild(script);\n             promoted = true;\n           }\n           function iframeLoader(wasFallback) {\n             promoted = true;\n             var dom, bootstrap, iframe, iframeStyle;\n             var doc = document;\n             var win = window;\n             window.BOOMR.snippetMethod = wasFallback ? \"if\" : \"i\";\n             bootstrap = function(parent, scriptId) {\n               var script = doc.createElement(\"script\");\n               script.id = scriptId || \"boomr-if-as\";\n               script.src = window.BOOMR.url;\n               BOOMR_lstart = new Date().getTime();\n               parent = parent || doc.body;\n               parent.appendChild(script);\n             };\n             if (!window.addEventListener && window.attachEvent && navigator.userAgent.match(/MSIE [67]./)) {\n               window.BOOMR.snippetMethod = \"s\";\n               bootstrap(parentNode, \"boomr-async\");\n               return;\n             }\n             iframe = document.createElement(\"IFRAME\");\n             iframe.src = \"about:blank\";\n             iframe.title = \"\";\n             iframe.role = \"presentation\";\n             iframe.loading = \"eager\";\n             iframeStyle = (iframe.frameElement || iframe).style;\n             iframeStyle.width = 0;\n             iframeStyle.height = 0;\n             iframeStyle.border = 0;\n             iframeStyle.display = \"none\";\n             parentNode.appendChild(iframe);\n             try {\n               win = iframe.contentWindow;\n               doc = win.document.open();\n             } catch (e) {\n               dom = document.domain;\n               iframe.src = \"javascript:var d=document.open();d.domain='\" + dom + \"';void(0);\";\n               win = iframe.contentWindow;\n               doc = win.document.open();\n             }\n             if (dom) {\n               doc._boomrl = function() {\n                 this.domain = dom;\n                 bootstrap();\n               };\n               doc.write(\"<body onload='document._boomrl();'>\");\n             } else {\n               win._boomrl = function() {\n                 bootstrap();\n               };\n               if (win.addEventListener) {\n                 win.addEventListener(\"load\", win._boomrl, false);\n               } else if (win.attachEvent) {\n                 win.attachEvent(\"onload\", win._boomrl);\n               }\n             }\n             doc.close();\n           }\n           var link = document.createElement(\"link\");\n           if (link.relList &&\n             typeof link.relList.supports === \"function\" &&\n             link.relList.supports(\"preload\") &&\n             (\"as\" in link)) {\n             window.BOOMR.snippetMethod = \"p\";\n             link.href = window.BOOMR.url;\n             link.rel = \"preload\";\n             link.as = \"script\";\n             link.addEventListener(\"load\", promote);\n             link.addEventListener(\"error\", function() {\n               iframeLoader(true);\n             });\n             setTimeout(function() {\n               if (!promoted) {\n                 iframeLoader(true);\n               }\n             }, LOADER_TIMEOUT);\n             BOOMR_lstart = new Date().getTime();\n             parentNode.appendChild(link);\n           } else {\n             iframeLoader(false);\n           }\n           function boomerangSaveLoadTime(e) {\n             window.BOOMR_onload = (e && e.timeStamp) || new Date().getTime();\n           }\n           if (window.addEventListener) {\n             window.addEventListener(\"load\", boomerangSaveLoadTime, false);\n           } else if (window.attachEvent) {\n             window.attachEvent(\"onload\", boomerangSaveLoadTime);\n           }\n           if (document.addEventListener) {\n             document.addEventListener(\"onBoomerangLoaded\", function(e) {\n               e.detail.BOOMR.init({\n                 ResourceTiming: {\n                   enabled: true,\n                   trackedResourceTypes: [\"script\", \"img\", \"css\"]\n                 },\n               });\n               e.detail.BOOMR.t_end = new Date().getTime();\n             });\n           } else if (document.attachEvent) {\n             document.attachEvent(\"onpropertychange\", function(e) {\n               if (!e) e=event;\n               if (e.propertyName === \"onBoomerangLoaded\") {\n                 e.detail.BOOMR.init({\n                   ResourceTiming: {\n                     enabled: true,\n                     trackedResourceTypes: [\"script\", \"img\", \"css\"]\n                   },\n                 });\n                 e.detail.BOOMR.t_end = new Date().getTime();\n               }\n             });\n           }\n         })();</script>\n         </meta>: 5,\n         <meta content=\"2153\" property=\"og:image:width\">\n         <meta content=\"1723\" property=\"og:image:height\">\n         <link href=\"https://monorail-edge.shopifysvc.com\" rel=\"dns-prefetch\"/>\n         <script>(function(){if (\"sendBeacon\" in navigator && \"performance\" in window) {var session_token = document.cookie.match(/_shopify_s=([^;]*)/);function handle_abandonment_event(e) {var entries = performance.getEntries().filter(function(entry) {return /monorail-edge.shopifysvc.com/.test(entry.name);});if (!window.abandonment_tracked && entries.length === 0) {window.abandonment_tracked = true;var currentMs = Date.now();var navigation_start = performance.timing.navigationStart;var payload = {shop_id: 40508194973,url: window.location.href,navigation_start,duration: currentMs - navigation_start,session_token: session_token && session_token.length === 2 ? session_token[1] : \"\",page_type: \"product\"};window.navigator.sendBeacon(\"https://monorail-edge.shopifysvc.com/v1/produce\", JSON.stringify({schema_id: \"online_store_buyer_site_abandonment/1.1\",payload: payload,metadata: {event_created_at_ms: currentMs,event_sent_at_ms: currentMs}}));}}window.addEventListener('pagehide', handle_abandonment_event);}}());</script>\n         <script id=\"web-pixels-manager-setup\">(function e(e,n,a,t,r){var o=\"function\"==typeof BigInt&&-1!==BigInt.toString().indexOf(\"[native code]\")?\"modern\":\"legacy\";window.Shopify=window.Shopify||{};var i=window.Shopify;i.analytics=i.analytics||{};var s=i.analytics;s.replayQueue=[],s.publish=function(e,n,a){return s.replayQueue.push([e,n,a]),!0};try{self.performance.mark(\"wpm:start\")}catch(e){}var l=[a,\"/wpm\",\"/b\",r,o.substring(0,1),\".js\"].join(\"\");!function(e){var n=e.src,a=e.async,t=void 0===a||a,r=e.onload,o=e.onerror,i=document.createElement(\"script\"),s=document.head,l=document.body;i.async=t,i.src=n,r&&i.addEventListener(\"load\",r),o&&i.addEventListener(\"error\",o),s?s.appendChild(i):l?l.appendChild(i):console.error(\"Did not find a head or body element to append the script\")}({src:l,async:!0,onload:function(){var a=window.webPixelsManager.init(e);n(a);var t=window.Shopify.analytics;t.replayQueue.forEach((function(e){var n=e[0],t=e[1],r=e[2];a.publishCustomEvent(n,t,r)})),t.replayQueue=[],t.publish=a.publishCustomEvent,t.visitor=a.visitor},onerror:function(){var n=e.storefrontBaseUrl.replace(/\\/$/,\"\"),a=\"\".concat(n,\"/.well-known/shopify/monorail/unstable/produce_batch\"),r=JSON.stringify({metadata:{event_sent_at_ms:(new Date).getTime()},events:[{schema_id:\"web_pixels_manager_load/2.0\",payload:{version:t||\"latest\",page_url:self.location.href,status:\"failed\",error_msg:\"\".concat(l,\" has failed to load\")},metadata:{event_created_at_ms:(new Date).getTime()}}]});try{if(self.navigator.sendBeacon.bind(self.navigator)(a,r))return!0}catch(e){}var o=new XMLHttpRequest;try{return o.open(\"POST\",a,!0),o.setRequestHeader(\"Content-Type\",\"text/plain\"),o.send(r),!0}catch(e){console&&console.warn&&console.warn(\"[Web Pixels Manager] Got an unhandled error while logging a load error.\")}return!1}})})({shopId: 40508194973,storefrontBaseUrl: \"https://ahfshop.com\",cdnBaseUrl: \"https://ahfshop.com/cdn\",surface: \"storefront-renderer\",enabledBetaFlags: [],webPixelsConfigList: [{\"id\":\"shopify-app-pixel\",\"configuration\":\"{}\",\"eventPayloadVersion\":\"v1\",\"runtimeContext\":\"STRICT\",\"scriptVersion\":\"0575\",\"apiClientId\":\"shopify-pixel\",\"type\":\"APP\",\"purposes\":[\"ANALYTICS\"]},{\"id\":\"shopify-custom-pixel\",\"eventPayloadVersion\":\"v1\",\"runtimeContext\":\"LAX\",\"scriptVersion\":\"0575\",\"apiClientId\":\"shopify-pixel\",\"type\":\"CUSTOM\",\"purposes\":[\"ANALYTICS\"]}],initData: {\"cart\":null,\"checkout\":null,\"customer\":null,\"productVariants\":[{\"id\":\"39439521153181\",\"image\":{\"src\":\"\\/\\/ahfshop.com\\/cdn\\/shop\\/products\\/4970142-10X8-CROP.jpg?v=1616099264\"},\"price\":{\"amount\":512.0,\"currencyCode\":\"USD\"},\"product\":{\"id\":\"6594233008285\",\"title\":\"Abney Swivel Accent Chair\",\"untranslatedTitle\":\"Abney Swivel Accent Chair\",\"url\":\"\\/products\\/abney-swivel-accent-chair\",\"vendor\":\"Ashley\",\"type\":\"Accent Chair\"},\"sku\":\"4970142\",\"title\":\"Default Title\",\"untranslatedTitle\":\"Default Title\"}]},},function pageEvents(webPixelsManagerAPI) {webPixelsManagerAPI.publish(\"page_viewed\");webPixelsManagerAPI.publish(\"product_viewed\", {\"productVariant\":{\"id\":\"39439521153181\",\"image\":{\"src\":\"\\/\\/ahfshop.com\\/cdn\\/shop\\/products\\/4970142-10X8-CROP.jpg?v=1616099264\"},\"price\":{\"amount\":512.0,\"currencyCode\":\"USD\"},\"product\":{\"id\":\"6594233008285\",\"title\":\"Abney Swivel Accent Chair\",\"untranslatedTitle\":\"Abney Swivel Accent Chair\",\"url\":\"\\/products\\/abney-swivel-accent-chair\",\"vendor\":\"Ashley\",\"type\":\"Accent Chair\"},\"sku\":\"4970142\",\"title\":\"Default Title\",\"untranslatedTitle\":\"Default Title\"}});},\"https://ahfshop.com/cdn\",\"0.0.469\",\"7265dc79wdf6f2cd2p26523560m583183dc\",);</script> <script>window.ShopifyAnalytics = window.ShopifyAnalytics || {};\n         window.ShopifyAnalytics.meta = window.ShopifyAnalytics.meta || {};\n         window.ShopifyAnalytics.meta.currency = 'USD';\n         var meta = {\"product\":{\"id\":6594233008285,\"gid\":\"gid:\\/\\/shopify\\/Product\\/6594233008285\",\"vendor\":\"Ashley\",\"type\":\"Accent Chair\",\"variants\":[{\"id\":39439521153181,\"price\":51200,\"name\":\"Abney Swivel Accent Chair\",\"public_title\":null,\"sku\":\"4970142\"}]},\"page\":{\"pageType\":\"product\",\"resourceType\":\"product\",\"resourceId\":6594233008285}};\n         for (var attr in meta) {\n           window.ShopifyAnalytics.meta[attr] = meta[attr];\n         }</script>\n         <script>window.ShopifyAnalytics.merchantGoogleAnalytics = function() {\n           \n         };\n         </script>\n         <script class=\"analytics\">(function () {\n             var customDocumentWrite = function(content) {\n               var jquery = null;\n         \n               if (window.jQuery) {\n                 jquery = window.jQuery;\n               } else if (window.Checkout && window.Checkout.$) {\n                 jquery = window.Checkout.$;\n               }\n         \n               if (jquery) {\n                 jquery('body').append(content);\n               }\n             };\n         \n             var hasLoggedConversion = function(token) {\n               if (token) {\n                 return document.cookie.indexOf('loggedConversion=' + token) !== -1;\n               }\n               return false;\n             }\n         \n             var setCookieIfConversion = function(token) {\n               if (token) {\n                 var twoMonthsFromNow = new Date(Date.now());\n                 twoMonthsFromNow.setMonth(twoMonthsFromNow.getMonth() + 2);\n         \n                 document.cookie = 'loggedConversion=' + token + '; expires=' + twoMonthsFromNow;\n               }\n             }\n         \n             var trekkie = window.ShopifyAnalytics.lib = window.trekkie = window.trekkie || [];\n             if (trekkie.integrations) {\n               return;\n             }\n             trekkie.methods = [\n               'identify',\n               'page',\n               'ready',\n               'track',\n               'trackForm',\n               'trackLink'\n             ];\n             trekkie.factory = function(method) {\n               return function() {\n                 var args = Array.prototype.slice.call(arguments);\n                 args.unshift(method);\n                 trekkie.push(args);\n                 return trekkie;\n               };\n             };\n             for (var i = 0; i < trekkie.methods.length; i++) {\n               var key = trekkie.methods[i];\n               trekkie[key] = trekkie.factory(key);\n             }\n             trekkie.load = function(config) {\n               trekkie.config = config || {};\n               trekkie.config.initialDocumentCookie = document.cookie;\n               var first = document.getElementsByTagName('script')[0];\n               var script = document.createElement('script');\n               script.type = 'text/javascript';\n               script.onerror = function(e) {\n                 var scriptFallback = document.createElement('script');\n                 scriptFallback.type = 'text/javascript';\n                 scriptFallback.onerror = function(error) {\n                         var Monorail = {\n               produce: function produce(monorailDomain, schemaId, payload) {\n                 var currentMs = new Date().getTime();\n                 var event = {\n                   schema_id: schemaId,\n                   payload: payload,\n                   metadata: {\n                     event_created_at_ms: currentMs,\n                     event_sent_at_ms: currentMs\n                   }\n                 };\n                 return Monorail.sendRequest(\"https://\" + monorailDomain + \"/v1/produce\", JSON.stringify(event));\n               },\n               sendRequest: function sendRequest(endpointUrl, payload) {\n                 // Try the sendBeacon API\n                 if (window && window.navigator && typeof window.navigator.sendBeacon === 'function' && typeof window.Blob === 'function' && !Monorail.isIos12()) {\n                   var blobData = new window.Blob([payload], {\n                     type: 'text/plain'\n                   });\n         \n                   if (window.navigator.sendBeacon(endpointUrl, blobData)) {\n                     return true;\n                   } // sendBeacon was not successful\n         \n                 } // XHR beacon\n         \n                 var xhr = new XMLHttpRequest();\n         \n                 try {\n                   xhr.open('POST', endpointUrl);\n                   xhr.setRequestHeader('Content-Type', 'text/plain');\n                   xhr.send(payload);\n                 } catch (e) {\n                   console.log(e);\n                 }\n         \n                 return false;\n               },\n               isIos12: function isIos12() {\n                 return window.navigator.userAgent.lastIndexOf('iPhone; CPU iPhone OS 12_') !== -1 || window.navigator.userAgent.lastIndexOf('iPad; CPU OS 12_') !== -1;\n               }\n             };\n             Monorail.produce('monorail-edge.shopifysvc.com',\n               'trekkie_storefront_load_errors/1.1',\n               {shop_id: 40508194973,\n               theme_id: 100847222941,\n               app_name: \"storefront\",\n               context_url: window.location.href,\n               source_url: \"//ahfshop.com/cdn/s/trekkie.storefront.2eced10260225d6798d99c4a95501a3f587f6b15.min.js\"});\n         \n                 };\n                 scriptFallback.async = true;\n                 scriptFallback.src = '//ahfshop.com/cdn/s/trekkie.storefront.2eced10260225d6798d99c4a95501a3f587f6b15.min.js';\n                 first.parentNode.insertBefore(scriptFallback, first);\n               };\n               script.async = true;\n               script.src = '//ahfshop.com/cdn/s/trekkie.storefront.2eced10260225d6798d99c4a95501a3f587f6b15.min.js';\n               first.parentNode.insertBefore(script, first);\n             };\n             trekkie.load(\n               {\"Trekkie\":{\"appName\":\"storefront\",\"development\":false,\"defaultAttributes\":{\"shopId\":40508194973,\"isMerchantRequest\":null,\"themeId\":100847222941,\"themeCityHash\":\"1746395193339291158\",\"contentLanguage\":\"en\",\"currency\":\"USD\"},\"isServerSideCookieWritingEnabled\":true,\"monorailRegion\":\"shop_domain\",\"enabledBetaFlags\":[\"bbcf04e6\"]},\"Session Attribution\":{},\"S2S\":{\"facebookCapiEnabled\":false,\"source\":\"trekkie-storefront-renderer\"}}\n             );\n         \n             var loaded = false;\n             trekkie.ready(function() {\n               if (loaded) return;\n               loaded = true;\n         \n               window.ShopifyAnalytics.lib = window.trekkie;\n         \n           \n               var originalDocumentWrite = document.write;\n               document.write = customDocumentWrite;\n               try { window.ShopifyAnalytics.merchantGoogleAnalytics.call(this); } catch(error) {};\n               document.write = originalDocumentWrite;\n         \n               window.ShopifyAnalytics.lib.page(null,{\"pageType\":\"product\",\"resourceType\":\"product\",\"resourceId\":6594233008285});\n         \n               var match = window.location.pathname.match(/checkouts\\/(.+)\\/(thank_you|post_purchase)/)\n               var token = match? match[1]: undefined;\n               if (!hasLoggedConversion(token)) {\n                 setCookieIfConversion(token);\n                 window.ShopifyAnalytics.lib.track(\"Viewed Product\",{\"currency\":\"USD\",\"variantId\":39439521153181,\"productId\":6594233008285,\"productGid\":\"gid:\\/\\/shopify\\/Product\\/6594233008285\",\"name\":\"Abney Swivel Accent Chair\",\"price\":\"512.00\",\"sku\":\"4970142\",\"brand\":\"Ashley\",\"variant\":null,\"category\":\"Accent Chair\",\"nonInteraction\":true});\n               window.ShopifyAnalytics.lib.track(\"monorail:\\/\\/trekkie_storefront_viewed_product\\/1.1\",{\"currency\":\"USD\",\"variantId\":39439521153181,\"productId\":6594233008285,\"productGid\":\"gid:\\/\\/shopify\\/Product\\/6594233008285\",\"name\":\"Abney Swivel Accent Chair\",\"price\":\"512.00\",\"sku\":\"4970142\",\"brand\":\"Ashley\",\"variant\":null,\"category\":\"Accent Chair\",\"nonInteraction\":true,\"referer\":\"https:\\/\\/ahfshop.com\\/products\\/abney-swivel-accent-chair\"});\n               }\n             });\n         \n         \n                 var eventsListenerScript = document.createElement('script');\n                 eventsListenerScript.async = true;\n                 eventsListenerScript.src = \"//ahfshop.com/cdn/shopifycloud/shopify/assets/shop_events_listener-61fa9e0a912c675e178777d2b27f6cbd482f8912a6b0aa31fa3515985a8cd626.js\";\n                 document.getElementsByTagName('head')[0].appendChild(eventsListenerScript);\n         \n         })();</script>\n         <script class=\"boomerang\">\n         (function () {\n           if (window.BOOMR && (window.BOOMR.version || window.BOOMR.snippetExecuted)) {\n             return;\n           }\n           window.BOOMR = window.BOOMR || {};\n           window.BOOMR.snippetStart = new Date().getTime();\n           window.BOOMR.snippetExecuted = true;\n           window.BOOMR.snippetVersion = 12;\n           window.BOOMR.application = \"storefront-renderer\";\n           window.BOOMR.themeName = \"Themekit template theme\";\n           window.BOOMR.themeVersion = \"1.0.0\";\n           window.BOOMR.shopId = 40508194973;\n           window.BOOMR.themeId = 100847222941;\n           window.BOOMR.renderRegion = \"gcp-europe-west1\";\n           window.BOOMR.url =\n             \"https://ahfshop.com/cdn/shopifycloud/boomerang/shopify-boomerang-1.0.0.min.js\";\n           var where = document.currentScript || document.getElementsByTagName(\"script\")[0];\n           var parentNode = where.parentNode;\n           var promoted = false;\n           var LOADER_TIMEOUT = 3000;\n           function promote() {\n             if (promoted) {\n               return;\n             }\n             var script = document.createElement(\"script\");\n             script.id = \"boomr-scr-as\";\n             script.src = window.BOOMR.url;\n             script.async = true;\n             parentNode.appendChild(script);\n             promoted = true;\n           }\n           function iframeLoader(wasFallback) {\n             promoted = true;\n             var dom, bootstrap, iframe, iframeStyle;\n             var doc = document;\n             var win = window;\n             window.BOOMR.snippetMethod = wasFallback ? \"if\" : \"i\";\n             bootstrap = function(parent, scriptId) {\n               var script = doc.createElement(\"script\");\n               script.id = scriptId || \"boomr-if-as\";\n               script.src = window.BOOMR.url;\n               BOOMR_lstart = new Date().getTime();\n               parent = parent || doc.body;\n               parent.appendChild(script);\n             };\n             if (!window.addEventListener && window.attachEvent && navigator.userAgent.match(/MSIE [67]./)) {\n               window.BOOMR.snippetMethod = \"s\";\n               bootstrap(parentNode, \"boomr-async\");\n               return;\n             }\n             iframe = document.createElement(\"IFRAME\");\n             iframe.src = \"about:blank\";\n             iframe.title = \"\";\n             iframe.role = \"presentation\";\n             iframe.loading = \"eager\";\n             iframeStyle = (iframe.frameElement || iframe).style;\n             iframeStyle.width = 0;\n             iframeStyle.height = 0;\n             iframeStyle.border = 0;\n             iframeStyle.display = \"none\";\n             parentNode.appendChild(iframe);\n             try {\n               win = iframe.contentWindow;\n               doc = win.document.open();\n             } catch (e) {\n               dom = document.domain;\n               iframe.src = \"javascript:var d=document.open();d.domain='\" + dom + \"';void(0);\";\n               win = iframe.contentWindow;\n               doc = win.document.open();\n             }\n             if (dom) {\n               doc._boomrl = function() {\n                 this.domain = dom;\n                 bootstrap();\n               };\n               doc.write(\"<body onload='document._boomrl();'>\");\n             } else {\n               win._boomrl = function() {\n                 bootstrap();\n               };\n               if (win.addEventListener) {\n                 win.addEventListener(\"load\", win._boomrl, false);\n               } else if (win.attachEvent) {\n                 win.attachEvent(\"onload\", win._boomrl);\n               }\n             }\n             doc.close();\n           }\n           var link = document.createElement(\"link\");\n           if (link.relList &&\n             typeof link.relList.supports === \"function\" &&\n             link.relList.supports(\"preload\") &&\n             (\"as\" in link)) {\n             window.BOOMR.snippetMethod = \"p\";\n             link.href = window.BOOMR.url;\n             link.rel = \"preload\";\n             link.as = \"script\";\n             link.addEventListener(\"load\", promote);\n             link.addEventListener(\"error\", function() {\n               iframeLoader(true);\n             });\n             setTimeout(function() {\n               if (!promoted) {\n                 iframeLoader(true);\n               }\n             }, LOADER_TIMEOUT);\n             BOOMR_lstart = new Date().getTime();\n             parentNode.appendChild(link);\n           } else {\n             iframeLoader(false);\n           }\n           function boomerangSaveLoadTime(e) {\n             window.BOOMR_onload = (e && e.timeStamp) || new Date().getTime();\n           }\n           if (window.addEventListener) {\n             window.addEventListener(\"load\", boomerangSaveLoadTime, false);\n           } else if (window.attachEvent) {\n             window.attachEvent(\"onload\", boomerangSaveLoadTime);\n           }\n           if (document.addEventListener) {\n             document.addEventListener(\"onBoomerangLoaded\", function(e) {\n               e.detail.BOOMR.init({\n                 ResourceTiming: {\n                   enabled: true,\n                   trackedResourceTypes: [\"script\", \"img\", \"css\"]\n                 },\n               });\n               e.detail.BOOMR.t_end = new Date().getTime();\n             });\n           } else if (document.attachEvent) {\n             document.attachEvent(\"onpropertychange\", function(e) {\n               if (!e) e=event;\n               if (e.propertyName === \"onBoomerangLoaded\") {\n                 e.detail.BOOMR.init({\n                   ResourceTiming: {\n                     enabled: true,\n                     trackedResourceTypes: [\"script\", \"img\", \"css\"]\n                   },\n                 });\n                 e.detail.BOOMR.t_end = new Date().getTime();\n               }\n             });\n           }\n         })();</script>\n         </meta></meta>: 5,\n         <meta content=\"https://cdn.shopify.com/s/files/1/0405/0819/4973/products/4970142-10X8-CROP.jpg?v=1616099264\" property=\"og:image:secure_url\">\n         <meta content=\"2153\" property=\"og:image:width\">\n         <meta content=\"1723\" property=\"og:image:height\">\n         <link href=\"https://monorail-edge.shopifysvc.com\" rel=\"dns-prefetch\"/>\n         <script>(function(){if (\"sendBeacon\" in navigator && \"performance\" in window) {var session_token = document.cookie.match(/_shopify_s=([^;]*)/);function handle_abandonment_event(e) {var entries = performance.getEntries().filter(function(entry) {return /monorail-edge.shopifysvc.com/.test(entry.name);});if (!window.abandonment_tracked && entries.length === 0) {window.abandonment_tracked = true;var currentMs = Date.now();var navigation_start = performance.timing.navigationStart;var payload = {shop_id: 40508194973,url: window.location.href,navigation_start,duration: currentMs - navigation_start,session_token: session_token && session_token.length === 2 ? session_token[1] : \"\",page_type: \"product\"};window.navigator.sendBeacon(\"https://monorail-edge.shopifysvc.com/v1/produce\", JSON.stringify({schema_id: \"online_store_buyer_site_abandonment/1.1\",payload: payload,metadata: {event_created_at_ms: currentMs,event_sent_at_ms: currentMs}}));}}window.addEventListener('pagehide', handle_abandonment_event);}}());</script>\n         <script id=\"web-pixels-manager-setup\">(function e(e,n,a,t,r){var o=\"function\"==typeof BigInt&&-1!==BigInt.toString().indexOf(\"[native code]\")?\"modern\":\"legacy\";window.Shopify=window.Shopify||{};var i=window.Shopify;i.analytics=i.analytics||{};var s=i.analytics;s.replayQueue=[],s.publish=function(e,n,a){return s.replayQueue.push([e,n,a]),!0};try{self.performance.mark(\"wpm:start\")}catch(e){}var l=[a,\"/wpm\",\"/b\",r,o.substring(0,1),\".js\"].join(\"\");!function(e){var n=e.src,a=e.async,t=void 0===a||a,r=e.onload,o=e.onerror,i=document.createElement(\"script\"),s=document.head,l=document.body;i.async=t,i.src=n,r&&i.addEventListener(\"load\",r),o&&i.addEventListener(\"error\",o),s?s.appendChild(i):l?l.appendChild(i):console.error(\"Did not find a head or body element to append the script\")}({src:l,async:!0,onload:function(){var a=window.webPixelsManager.init(e);n(a);var t=window.Shopify.analytics;t.replayQueue.forEach((function(e){var n=e[0],t=e[1],r=e[2];a.publishCustomEvent(n,t,r)})),t.replayQueue=[],t.publish=a.publishCustomEvent,t.visitor=a.visitor},onerror:function(){var n=e.storefrontBaseUrl.replace(/\\/$/,\"\"),a=\"\".concat(n,\"/.well-known/shopify/monorail/unstable/produce_batch\"),r=JSON.stringify({metadata:{event_sent_at_ms:(new Date).getTime()},events:[{schema_id:\"web_pixels_manager_load/2.0\",payload:{version:t||\"latest\",page_url:self.location.href,status:\"failed\",error_msg:\"\".concat(l,\" has failed to load\")},metadata:{event_created_at_ms:(new Date).getTime()}}]});try{if(self.navigator.sendBeacon.bind(self.navigator)(a,r))return!0}catch(e){}var o=new XMLHttpRequest;try{return o.open(\"POST\",a,!0),o.setRequestHeader(\"Content-Type\",\"text/plain\"),o.send(r),!0}catch(e){console&&console.warn&&console.warn(\"[Web Pixels Manager] Got an unhandled error while logging a load error.\")}return!1}})})({shopId: 40508194973,storefrontBaseUrl: \"https://ahfshop.com\",cdnBaseUrl: \"https://ahfshop.com/cdn\",surface: \"storefront-renderer\",enabledBetaFlags: [],webPixelsConfigList: [{\"id\":\"shopify-app-pixel\",\"configuration\":\"{}\",\"eventPayloadVersion\":\"v1\",\"runtimeContext\":\"STRICT\",\"scriptVersion\":\"0575\",\"apiClientId\":\"shopify-pixel\",\"type\":\"APP\",\"purposes\":[\"ANALYTICS\"]},{\"id\":\"shopify-custom-pixel\",\"eventPayloadVersion\":\"v1\",\"runtimeContext\":\"LAX\",\"scriptVersion\":\"0575\",\"apiClientId\":\"shopify-pixel\",\"type\":\"CUSTOM\",\"purposes\":[\"ANALYTICS\"]}],initData: {\"cart\":null,\"checkout\":null,\"customer\":null,\"productVariants\":[{\"id\":\"39439521153181\",\"image\":{\"src\":\"\\/\\/ahfshop.com\\/cdn\\/shop\\/products\\/4970142-10X8-CROP.jpg?v=1616099264\"},\"price\":{\"amount\":512.0,\"currencyCode\":\"USD\"},\"product\":{\"id\":\"6594233008285\",\"title\":\"Abney Swivel Accent Chair\",\"untranslatedTitle\":\"Abney Swivel Accent Chair\",\"url\":\"\\/products\\/abney-swivel-accent-chair\",\"vendor\":\"Ashley\",\"type\":\"Accent Chair\"},\"sku\":\"4970142\",\"title\":\"Default Title\",\"untranslatedTitle\":\"Default Title\"}]},},function pageEvents(webPixelsManagerAPI) {webPixelsManagerAPI.publish(\"page_viewed\");webPixelsManagerAPI.publish(\"product_viewed\", {\"productVariant\":{\"id\":\"39439521153181\",\"image\":{\"src\":\"\\/\\/ahfshop.com\\/cdn\\/shop\\/products\\/4970142-10X8-CROP.jpg?v=1616099264\"},\"price\":{\"amount\":512.0,\"currencyCode\":\"USD\"},\"product\":{\"id\":\"6594233008285\",\"title\":\"Abney Swivel Accent Chair\",\"untranslatedTitle\":\"Abney Swivel Accent Chair\",\"url\":\"\\/products\\/abney-swivel-accent-chair\",\"vendor\":\"Ashley\",\"type\":\"Accent Chair\"},\"sku\":\"4970142\",\"title\":\"Default Title\",\"untranslatedTitle\":\"Default Title\"}});},\"https://ahfshop.com/cdn\",\"0.0.469\",\"7265dc79wdf6f2cd2p26523560m583183dc\",);</script> <script>window.ShopifyAnalytics = window.ShopifyAnalytics || {};\n         window.ShopifyAnalytics.meta = window.ShopifyAnalytics.meta || {};\n         window.ShopifyAnalytics.meta.currency = 'USD';\n         var meta = {\"product\":{\"id\":6594233008285,\"gid\":\"gid:\\/\\/shopify\\/Product\\/6594233008285\",\"vendor\":\"Ashley\",\"type\":\"Accent Chair\",\"variants\":[{\"id\":39439521153181,\"price\":51200,\"name\":\"Abney Swivel Accent Chair\",\"public_title\":null,\"sku\":\"4970142\"}]},\"page\":{\"pageType\":\"product\",\"resourceType\":\"product\",\"resourceId\":6594233008285}};\n         for (var attr in meta) {\n           window.ShopifyAnalytics.meta[attr] = meta[attr];\n         }</script>\n         <script>window.ShopifyAnalytics.merchantGoogleAnalytics = function() {\n           \n         };\n         </script>\n         <script class=\"analytics\">(function () {\n             var customDocumentWrite = function(content) {\n               var jquery = null;\n         \n               if (window.jQuery) {\n                 jquery = window.jQuery;\n               } else if (window.Checkout && window.Checkout.$) {\n                 jquery = window.Checkout.$;\n               }\n         \n               if (jquery) {\n                 jquery('body').append(content);\n               }\n             };\n         \n             var hasLoggedConversion = function(token) {\n               if (token) {\n                 return document.cookie.indexOf('loggedConversion=' + token) !== -1;\n               }\n               return false;\n             }\n         \n             var setCookieIfConversion = function(token) {\n               if (token) {\n                 var twoMonthsFromNow = new Date(Date.now());\n                 twoMonthsFromNow.setMonth(twoMonthsFromNow.getMonth() + 2);\n         \n                 document.cookie = 'loggedConversion=' + token + '; expires=' + twoMonthsFromNow;\n               }\n             }\n         \n             var trekkie = window.ShopifyAnalytics.lib = window.trekkie = window.trekkie || [];\n             if (trekkie.integrations) {\n               return;\n             }\n             trekkie.methods = [\n               'identify',\n               'page',\n               'ready',\n               'track',\n               'trackForm',\n               'trackLink'\n             ];\n             trekkie.factory = function(method) {\n               return function() {\n                 var args = Array.prototype.slice.call(arguments);\n                 args.unshift(method);\n                 trekkie.push(args);\n                 return trekkie;\n               };\n             };\n             for (var i = 0; i < trekkie.methods.length; i++) {\n               var key = trekkie.methods[i];\n               trekkie[key] = trekkie.factory(key);\n             }\n             trekkie.load = function(config) {\n               trekkie.config = config || {};\n               trekkie.config.initialDocumentCookie = document.cookie;\n               var first = document.getElementsByTagName('script')[0];\n               var script = document.createElement('script');\n               script.type = 'text/javascript';\n               script.onerror = function(e) {\n                 var scriptFallback = document.createElement('script');\n                 scriptFallback.type = 'text/javascript';\n                 scriptFallback.onerror = function(error) {\n                         var Monorail = {\n               produce: function produce(monorailDomain, schemaId, payload) {\n                 var currentMs = new Date().getTime();\n                 var event = {\n                   schema_id: schemaId,\n                   payload: payload,\n                   metadata: {\n                     event_created_at_ms: currentMs,\n                     event_sent_at_ms: currentMs\n                   }\n                 };\n                 return Monorail.sendRequest(\"https://\" + monorailDomain + \"/v1/produce\", JSON.stringify(event));\n               },\n               sendRequest: function sendRequest(endpointUrl, payload) {\n                 // Try the sendBeacon API\n                 if (window && window.navigator && typeof window.navigator.sendBeacon === 'function' && typeof window.Blob === 'function' && !Monorail.isIos12()) {\n                   var blobData = new window.Blob([payload], {\n                     type: 'text/plain'\n                   });\n         \n                   if (window.navigator.sendBeacon(endpointUrl, blobData)) {\n                     return true;\n                   } // sendBeacon was not successful\n         \n                 } // XHR beacon\n         \n                 var xhr = new XMLHttpRequest();\n         \n                 try {\n                   xhr.open('POST', endpointUrl);\n                   xhr.setRequestHeader('Content-Type', 'text/plain');\n                   xhr.send(payload);\n                 } catch (e) {\n                   console.log(e);\n                 }\n         \n                 return false;\n               },\n               isIos12: function isIos12() {\n                 return window.navigator.userAgent.lastIndexOf('iPhone; CPU iPhone OS 12_') !== -1 || window.navigator.userAgent.lastIndexOf('iPad; CPU OS 12_') !== -1;\n               }\n             };\n             Monorail.produce('monorail-edge.shopifysvc.com',\n               'trekkie_storefront_load_errors/1.1',\n               {shop_id: 40508194973,\n               theme_id: 100847222941,\n               app_name: \"storefront\",\n               context_url: window.location.href,\n               source_url: \"//ahfshop.com/cdn/s/trekkie.storefront.2eced10260225d6798d99c4a95501a3f587f6b15.min.js\"});\n         \n                 };\n                 scriptFallback.async = true;\n                 scriptFallback.src = '//ahfshop.com/cdn/s/trekkie.storefront.2eced10260225d6798d99c4a95501a3f587f6b15.min.js';\n                 first.parentNode.insertBefore(scriptFallback, first);\n               };\n               script.async = true;\n               script.src = '//ahfshop.com/cdn/s/trekkie.storefront.2eced10260225d6798d99c4a95501a3f587f6b15.min.js';\n               first.parentNode.insertBefore(script, first);\n             };\n             trekkie.load(\n               {\"Trekkie\":{\"appName\":\"storefront\",\"development\":false,\"defaultAttributes\":{\"shopId\":40508194973,\"isMerchantRequest\":null,\"themeId\":100847222941,\"themeCityHash\":\"1746395193339291158\",\"contentLanguage\":\"en\",\"currency\":\"USD\"},\"isServerSideCookieWritingEnabled\":true,\"monorailRegion\":\"shop_domain\",\"enabledBetaFlags\":[\"bbcf04e6\"]},\"Session Attribution\":{},\"S2S\":{\"facebookCapiEnabled\":false,\"source\":\"trekkie-storefront-renderer\"}}\n             );\n         \n             var loaded = false;\n             trekkie.ready(function() {\n               if (loaded) return;\n               loaded = true;\n         \n               window.ShopifyAnalytics.lib = window.trekkie;\n         \n           \n               var originalDocumentWrite = document.write;\n               document.write = customDocumentWrite;\n               try { window.ShopifyAnalytics.merchantGoogleAnalytics.call(this); } catch(error) {};\n               document.write = originalDocumentWrite;\n         \n               window.ShopifyAnalytics.lib.page(null,{\"pageType\":\"product\",\"resourceType\":\"product\",\"resourceId\":6594233008285});\n         \n               var match = window.location.pathname.match(/checkouts\\/(.+)\\/(thank_you|post_purchase)/)\n               var token = match? match[1]: undefined;\n               if (!hasLoggedConversion(token)) {\n                 setCookieIfConversion(token);\n                 window.ShopifyAnalytics.lib.track(\"Viewed Product\",{\"currency\":\"USD\",\"variantId\":39439521153181,\"productId\":6594233008285,\"productGid\":\"gid:\\/\\/shopify\\/Product\\/6594233008285\",\"name\":\"Abney Swivel Accent Chair\",\"price\":\"512.00\",\"sku\":\"4970142\",\"brand\":\"Ashley\",\"variant\":null,\"category\":\"Accent Chair\",\"nonInteraction\":true});\n               window.ShopifyAnalytics.lib.track(\"monorail:\\/\\/trekkie_storefront_viewed_product\\/1.1\",{\"currency\":\"USD\",\"variantId\":39439521153181,\"productId\":6594233008285,\"productGid\":\"gid:\\/\\/shopify\\/Product\\/6594233008285\",\"name\":\"Abney Swivel Accent Chair\",\"price\":\"512.00\",\"sku\":\"4970142\",\"brand\":\"Ashley\",\"variant\":null,\"category\":\"Accent Chair\",\"nonInteraction\":true,\"referer\":\"https:\\/\\/ahfshop.com\\/products\\/abney-swivel-accent-chair\"});\n               }\n             });\n         \n         \n                 var eventsListenerScript = document.createElement('script');\n                 eventsListenerScript.async = true;\n                 eventsListenerScript.src = \"//ahfshop.com/cdn/shopifycloud/shopify/assets/shop_events_listener-61fa9e0a912c675e178777d2b27f6cbd482f8912a6b0aa31fa3515985a8cd626.js\";\n                 document.getElementsByTagName('head')[0].appendChild(eventsListenerScript);\n         \n         })();</script>\n         <script class=\"boomerang\">\n         (function () {\n           if (window.BOOMR && (window.BOOMR.version || window.BOOMR.snippetExecuted)) {\n             return;\n           }\n           window.BOOMR = window.BOOMR || {};\n           window.BOOMR.snippetStart = new Date().getTime();\n           window.BOOMR.snippetExecuted = true;\n           window.BOOMR.snippetVersion = 12;\n           window.BOOMR.application = \"storefront-renderer\";\n           window.BOOMR.themeName = \"Themekit template theme\";\n           window.BOOMR.themeVersion = \"1.0.0\";\n           window.BOOMR.shopId = 40508194973;\n           window.BOOMR.themeId = 100847222941;\n           window.BOOMR.renderRegion = \"gcp-europe-west1\";\n           window.BOOMR.url =\n             \"https://ahfshop.com/cdn/shopifycloud/boomerang/shopify-boomerang-1.0.0.min.js\";\n           var where = document.currentScript || document.getElementsByTagName(\"script\")[0];\n           var parentNode = where.parentNode;\n           var promoted = false;\n           var LOADER_TIMEOUT = 3000;\n           function promote() {\n             if (promoted) {\n               return;\n             }\n             var script = document.createElement(\"script\");\n             script.id = \"boomr-scr-as\";\n             script.src = window.BOOMR.url;\n             script.async = true;\n             parentNode.appendChild(script);\n             promoted = true;\n           }\n           function iframeLoader(wasFallback) {\n             promoted = true;\n             var dom, bootstrap, iframe, iframeStyle;\n             var doc = document;\n             var win = window;\n             window.BOOMR.snippetMethod = wasFallback ? \"if\" : \"i\";\n             bootstrap = function(parent, scriptId) {\n               var script = doc.createElement(\"script\");\n               script.id = scriptId || \"boomr-if-as\";\n               script.src = window.BOOMR.url;\n               BOOMR_lstart = new Date().getTime();\n               parent = parent || doc.body;\n               parent.appendChild(script);\n             };\n             if (!window.addEventListener && window.attachEvent && navigator.userAgent.match(/MSIE [67]./)) {\n               window.BOOMR.snippetMethod = \"s\";\n               bootstrap(parentNode, \"boomr-async\");\n               return;\n             }\n             iframe = document.createElement(\"IFRAME\");\n             iframe.src = \"about:blank\";\n             iframe.title = \"\";\n             iframe.role = \"presentation\";\n             iframe.loading = \"eager\";\n             iframeStyle = (iframe.frameElement || iframe).style;\n             iframeStyle.width = 0;\n             iframeStyle.height = 0;\n             iframeStyle.border = 0;\n             iframeStyle.display = \"none\";\n             parentNode.appendChild(iframe);\n             try {\n               win = iframe.contentWindow;\n               doc = win.document.open();\n             } catch (e) {\n               dom = document.domain;\n               iframe.src = \"javascript:var d=document.open();d.domain='\" + dom + \"';void(0);\";\n               win = iframe.contentWindow;\n               doc = win.document.open();\n             }\n             if (dom) {\n               doc._boomrl = function() {\n                 this.domain = dom;\n                 bootstrap();\n               };\n               doc.write(\"<body onload='document._boomrl();'>\");\n             } else {\n               win._boomrl = function() {\n                 bootstrap();\n               };\n               if (win.addEventListener) {\n                 win.addEventListener(\"load\", win._boomrl, false);\n               } else if (win.attachEvent) {\n                 win.attachEvent(\"onload\", win._boomrl);\n               }\n             }\n             doc.close();\n           }\n           var link = document.createElement(\"link\");\n           if (link.relList &&\n             typeof link.relList.supports === \"function\" &&\n             link.relList.supports(\"preload\") &&\n             (\"as\" in link)) {\n             window.BOOMR.snippetMethod = \"p\";\n             link.href = window.BOOMR.url;\n             link.rel = \"preload\";\n             link.as = \"script\";\n             link.addEventListener(\"load\", promote);\n             link.addEventListener(\"error\", function() {\n               iframeLoader(true);\n             });\n             setTimeout(function() {\n               if (!promoted) {\n                 iframeLoader(true);\n               }\n             }, LOADER_TIMEOUT);\n             BOOMR_lstart = new Date().getTime();\n             parentNode.appendChild(link);\n           } else {\n             iframeLoader(false);\n           }\n           function boomerangSaveLoadTime(e) {\n             window.BOOMR_onload = (e && e.timeStamp) || new Date().getTime();\n           }\n           if (window.addEventListener) {\n             window.addEventListener(\"load\", boomerangSaveLoadTime, false);\n           } else if (window.attachEvent) {\n             window.attachEvent(\"onload\", boomerangSaveLoadTime);\n           }\n           if (document.addEventListener) {\n             document.addEventListener(\"onBoomerangLoaded\", function(e) {\n               e.detail.BOOMR.init({\n                 ResourceTiming: {\n                   enabled: true,\n                   trackedResourceTypes: [\"script\", \"img\", \"css\"]\n                 },\n               });\n               e.detail.BOOMR.t_end = new Date().getTime();\n             });\n           } else if (document.attachEvent) {\n             document.attachEvent(\"onpropertychange\", function(e) {\n               if (!e) e=event;\n               if (e.propertyName === \"onBoomerangLoaded\") {\n                 e.detail.BOOMR.init({\n                   ResourceTiming: {\n                     enabled: true,\n                     trackedResourceTypes: [\"script\", \"img\", \"css\"]\n                   },\n                 });\n                 e.detail.BOOMR.t_end = new Date().getTime();\n               }\n             });\n           }\n         })();</script>\n         </meta></meta></meta>: 5,\n         <meta content=\"https://cdn.shopify.com/s/files/1/0405/0819/4973/products/4970142-10X8-CROP.jpg?v=1616099264\" property=\"og:image\">\n         <meta content=\"https://cdn.shopify.com/s/files/1/0405/0819/4973/products/4970142-10X8-CROP.jpg?v=1616099264\" property=\"og:image:secure_url\">\n         <meta content=\"2153\" property=\"og:image:width\">\n         <meta content=\"1723\" property=\"og:image:height\">\n         <link href=\"https://monorail-edge.shopifysvc.com\" rel=\"dns-prefetch\"/>\n         <script>(function(){if (\"sendBeacon\" in navigator && \"performance\" in window) {var session_token = document.cookie.match(/_shopify_s=([^;]*)/);function handle_abandonment_event(e) {var entries = performance.getEntries().filter(function(entry) {return /monorail-edge.shopifysvc.com/.test(entry.name);});if (!window.abandonment_tracked && entries.length === 0) {window.abandonment_tracked = true;var currentMs = Date.now();var navigation_start = performance.timing.navigationStart;var payload = {shop_id: 40508194973,url: window.location.href,navigation_start,duration: currentMs - navigation_start,session_token: session_token && session_token.length === 2 ? session_token[1] : \"\",page_type: \"product\"};window.navigator.sendBeacon(\"https://monorail-edge.shopifysvc.com/v1/produce\", JSON.stringify({schema_id: \"online_store_buyer_site_abandonment/1.1\",payload: payload,metadata: {event_created_at_ms: currentMs,event_sent_at_ms: currentMs}}));}}window.addEventListener('pagehide', handle_abandonment_event);}}());</script>\n         <script id=\"web-pixels-manager-setup\">(function e(e,n,a,t,r){var o=\"function\"==typeof BigInt&&-1!==BigInt.toString().indexOf(\"[native code]\")?\"modern\":\"legacy\";window.Shopify=window.Shopify||{};var i=window.Shopify;i.analytics=i.analytics||{};var s=i.analytics;s.replayQueue=[],s.publish=function(e,n,a){return s.replayQueue.push([e,n,a]),!0};try{self.performance.mark(\"wpm:start\")}catch(e){}var l=[a,\"/wpm\",\"/b\",r,o.substring(0,1),\".js\"].join(\"\");!function(e){var n=e.src,a=e.async,t=void 0===a||a,r=e.onload,o=e.onerror,i=document.createElement(\"script\"),s=document.head,l=document.body;i.async=t,i.src=n,r&&i.addEventListener(\"load\",r),o&&i.addEventListener(\"error\",o),s?s.appendChild(i):l?l.appendChild(i):console.error(\"Did not find a head or body element to append the script\")}({src:l,async:!0,onload:function(){var a=window.webPixelsManager.init(e);n(a);var t=window.Shopify.analytics;t.replayQueue.forEach((function(e){var n=e[0],t=e[1],r=e[2];a.publishCustomEvent(n,t,r)})),t.replayQueue=[],t.publish=a.publishCustomEvent,t.visitor=a.visitor},onerror:function(){var n=e.storefrontBaseUrl.replace(/\\/$/,\"\"),a=\"\".concat(n,\"/.well-known/shopify/monorail/unstable/produce_batch\"),r=JSON.stringify({metadata:{event_sent_at_ms:(new Date).getTime()},events:[{schema_id:\"web_pixels_manager_load/2.0\",payload:{version:t||\"latest\",page_url:self.location.href,status:\"failed\",error_msg:\"\".concat(l,\" has failed to load\")},metadata:{event_created_at_ms:(new Date).getTime()}}]});try{if(self.navigator.sendBeacon.bind(self.navigator)(a,r))return!0}catch(e){}var o=new XMLHttpRequest;try{return o.open(\"POST\",a,!0),o.setRequestHeader(\"Content-Type\",\"text/plain\"),o.send(r),!0}catch(e){console&&console.warn&&console.warn(\"[Web Pixels Manager] Got an unhandled error while logging a load error.\")}return!1}})})({shopId: 40508194973,storefrontBaseUrl: \"https://ahfshop.com\",cdnBaseUrl: \"https://ahfshop.com/cdn\",surface: \"storefront-renderer\",enabledBetaFlags: [],webPixelsConfigList: [{\"id\":\"shopify-app-pixel\",\"configuration\":\"{}\",\"eventPayloadVersion\":\"v1\",\"runtimeContext\":\"STRICT\",\"scriptVersion\":\"0575\",\"apiClientId\":\"shopify-pixel\",\"type\":\"APP\",\"purposes\":[\"ANALYTICS\"]},{\"id\":\"shopify-custom-pixel\",\"eventPayloadVersion\":\"v1\",\"runtimeContext\":\"LAX\",\"scriptVersion\":\"0575\",\"apiClientId\":\"shopify-pixel\",\"type\":\"CUSTOM\",\"purposes\":[\"ANALYTICS\"]}],initData: {\"cart\":null,\"checkout\":null,\"customer\":null,\"productVariants\":[{\"id\":\"39439521153181\",\"image\":{\"src\":\"\\/\\/ahfshop.com\\/cdn\\/shop\\/products\\/4970142-10X8-CROP.jpg?v=1616099264\"},\"price\":{\"amount\":512.0,\"currencyCode\":\"USD\"},\"product\":{\"id\":\"6594233008285\",\"title\":\"Abney Swivel Accent Chair\",\"untranslatedTitle\":\"Abney Swivel Accent Chair\",\"url\":\"\\/products\\/abney-swivel-accent-chair\",\"vendor\":\"Ashley\",\"type\":\"Accent Chair\"},\"sku\":\"4970142\",\"title\":\"Default Title\",\"untranslatedTitle\":\"Default Title\"}]},},function pageEvents(webPixelsManagerAPI) {webPixelsManagerAPI.publish(\"page_viewed\");webPixelsManagerAPI.publish(\"product_viewed\", {\"productVariant\":{\"id\":\"39439521153181\",\"image\":{\"src\":\"\\/\\/ahfshop.com\\/cdn\\/shop\\/products\\/4970142-10X8-CROP.jpg?v=1616099264\"},\"price\":{\"amount\":512.0,\"currencyCode\":\"USD\"},\"product\":{\"id\":\"6594233008285\",\"title\":\"Abney Swivel Accent Chair\",\"untranslatedTitle\":\"Abney Swivel Accent Chair\",\"url\":\"\\/products\\/abney-swivel-accent-chair\",\"vendor\":\"Ashley\",\"type\":\"Accent Chair\"},\"sku\":\"4970142\",\"title\":\"Default Title\",\"untranslatedTitle\":\"Default Title\"}});},\"https://ahfshop.com/cdn\",\"0.0.469\",\"7265dc79wdf6f2cd2p26523560m583183dc\",);</script> <script>window.ShopifyAnalytics = window.ShopifyAnalytics || {};\n         window.ShopifyAnalytics.meta = window.ShopifyAnalytics.meta || {};\n         window.ShopifyAnalytics.meta.currency = 'USD';\n         var meta = {\"product\":{\"id\":6594233008285,\"gid\":\"gid:\\/\\/shopify\\/Product\\/6594233008285\",\"vendor\":\"Ashley\",\"type\":\"Accent Chair\",\"variants\":[{\"id\":39439521153181,\"price\":51200,\"name\":\"Abney Swivel Accent Chair\",\"public_title\":null,\"sku\":\"4970142\"}]},\"page\":{\"pageType\":\"product\",\"resourceType\":\"product\",\"resourceId\":6594233008285}};\n         for (var attr in meta) {\n           window.ShopifyAnalytics.meta[attr] = meta[attr];\n         }</script>\n         <script>window.ShopifyAnalytics.merchantGoogleAnalytics = function() {\n           \n         };\n         </script>\n         <script class=\"analytics\">(function () {\n             var customDocumentWrite = function(content) {\n               var jquery = null;\n         \n               if (window.jQuery) {\n                 jquery = window.jQuery;\n               } else if (window.Checkout && window.Checkout.$) {\n                 jquery = window.Checkout.$;\n               }\n         \n               if (jquery) {\n                 jquery('body').append(content);\n               }\n             };\n         \n             var hasLoggedConversion = function(token) {\n               if (token) {\n                 return document.cookie.indexOf('loggedConversion=' + token) !== -1;\n               }\n               return false;\n             }\n         \n             var setCookieIfConversion = function(token) {\n               if (token) {\n                 var twoMonthsFromNow = new Date(Date.now());\n                 twoMonthsFromNow.setMonth(twoMonthsFromNow.getMonth() + 2);\n         \n                 document.cookie = 'loggedConversion=' + token + '; expires=' + twoMonthsFromNow;\n               }\n             }\n         \n             var trekkie = window.ShopifyAnalytics.lib = window.trekkie = window.trekkie || [];\n             if (trekkie.integrations) {\n               return;\n             }\n             trekkie.methods = [\n               'identify',\n               'page',\n               'ready',\n               'track',\n               'trackForm',\n               'trackLink'\n             ];\n             trekkie.factory = function(method) {\n               return function() {\n                 var args = Array.prototype.slice.call(arguments);\n                 args.unshift(method);\n                 trekkie.push(args);\n                 return trekkie;\n               };\n             };\n             for (var i = 0; i < trekkie.methods.length; i++) {\n               var key = trekkie.methods[i];\n               trekkie[key] = trekkie.factory(key);\n             }\n             trekkie.load = function(config) {\n               trekkie.config = config || {};\n               trekkie.config.initialDocumentCookie = document.cookie;\n               var first = document.getElementsByTagName('script')[0];\n               var script = document.createElement('script');\n               script.type = 'text/javascript';\n               script.onerror = function(e) {\n                 var scriptFallback = document.createElement('script');\n                 scriptFallback.type = 'text/javascript';\n                 scriptFallback.onerror = function(error) {\n                         var Monorail = {\n               produce: function produce(monorailDomain, schemaId, payload) {\n                 var currentMs = new Date().getTime();\n                 var event = {\n                   schema_id: schemaId,\n                   payload: payload,\n                   metadata: {\n                     event_created_at_ms: currentMs,\n                     event_sent_at_ms: currentMs\n                   }\n                 };\n                 return Monorail.sendRequest(\"https://\" + monorailDomain + \"/v1/produce\", JSON.stringify(event));\n               },\n               sendRequest: function sendRequest(endpointUrl, payload) {\n                 // Try the sendBeacon API\n                 if (window && window.navigator && typeof window.navigator.sendBeacon === 'function' && typeof window.Blob === 'function' && !Monorail.isIos12()) {\n                   var blobData = new window.Blob([payload], {\n                     type: 'text/plain'\n                   });\n         \n                   if (window.navigator.sendBeacon(endpointUrl, blobData)) {\n                     return true;\n                   } // sendBeacon was not successful\n         \n                 } // XHR beacon\n         \n                 var xhr = new XMLHttpRequest();\n         \n                 try {\n                   xhr.open('POST', endpointUrl);\n                   xhr.setRequestHeader('Content-Type', 'text/plain');\n                   xhr.send(payload);\n                 } catch (e) {\n                   console.log(e);\n                 }\n         \n                 return false;\n               },\n               isIos12: function isIos12() {\n                 return window.navigator.userAgent.lastIndexOf('iPhone; CPU iPhone OS 12_') !== -1 || window.navigator.userAgent.lastIndexOf('iPad; CPU OS 12_') !== -1;\n               }\n             };\n             Monorail.produce('monorail-edge.shopifysvc.com',\n               'trekkie_storefront_load_errors/1.1',\n               {shop_id: 40508194973,\n               theme_id: 100847222941,\n               app_name: \"storefront\",\n               context_url: window.location.href,\n               source_url: \"//ahfshop.com/cdn/s/trekkie.storefront.2eced10260225d6798d99c4a95501a3f587f6b15.min.js\"});\n         \n                 };\n                 scriptFallback.async = true;\n                 scriptFallback.src = '//ahfshop.com/cdn/s/trekkie.storefront.2eced10260225d6798d99c4a95501a3f587f6b15.min.js';\n                 first.parentNode.insertBefore(scriptFallback, first);\n               };\n               script.async = true;\n               script.src = '//ahfshop.com/cdn/s/trekkie.storefront.2eced10260225d6798d99c4a95501a3f587f6b15.min.js';\n               first.parentNode.insertBefore(script, first);\n             };\n             trekkie.load(\n               {\"Trekkie\":{\"appName\":\"storefront\",\"development\":false,\"defaultAttributes\":{\"shopId\":40508194973,\"isMerchantRequest\":null,\"themeId\":100847222941,\"themeCityHash\":\"1746395193339291158\",\"contentLanguage\":\"en\",\"currency\":\"USD\"},\"isServerSideCookieWritingEnabled\":true,\"monorailRegion\":\"shop_domain\",\"enabledBetaFlags\":[\"bbcf04e6\"]},\"Session Attribution\":{},\"S2S\":{\"facebookCapiEnabled\":false,\"source\":\"trekkie-storefront-renderer\"}}\n             );\n         \n             var loaded = false;\n             trekkie.ready(function() {\n               if (loaded) return;\n               loaded = true;\n         \n               window.ShopifyAnalytics.lib = window.trekkie;\n         \n           \n               var originalDocumentWrite = document.write;\n               document.write = customDocumentWrite;\n               try { window.ShopifyAnalytics.merchantGoogleAnalytics.call(this); } catch(error) {};\n               document.write = originalDocumentWrite;\n         \n               window.ShopifyAnalytics.lib.page(null,{\"pageType\":\"product\",\"resourceType\":\"product\",\"resourceId\":6594233008285});\n         \n               var match = window.location.pathname.match(/checkouts\\/(.+)\\/(thank_you|post_purchase)/)\n               var token = match? match[1]: undefined;\n               if (!hasLoggedConversion(token)) {\n                 setCookieIfConversion(token);\n                 window.ShopifyAnalytics.lib.track(\"Viewed Product\",{\"currency\":\"USD\",\"variantId\":39439521153181,\"productId\":6594233008285,\"productGid\":\"gid:\\/\\/shopify\\/Product\\/6594233008285\",\"name\":\"Abney Swivel Accent Chair\",\"price\":\"512.00\",\"sku\":\"4970142\",\"brand\":\"Ashley\",\"variant\":null,\"category\":\"Accent Chair\",\"nonInteraction\":true});\n               window.ShopifyAnalytics.lib.track(\"monorail:\\/\\/trekkie_storefront_viewed_product\\/1.1\",{\"currency\":\"USD\",\"variantId\":39439521153181,\"productId\":6594233008285,\"productGid\":\"gid:\\/\\/shopify\\/Product\\/6594233008285\",\"name\":\"Abney Swivel Accent Chair\",\"price\":\"512.00\",\"sku\":\"4970142\",\"brand\":\"Ashley\",\"variant\":null,\"category\":\"Accent Chair\",\"nonInteraction\":true,\"referer\":\"https:\\/\\/ahfshop.com\\/products\\/abney-swivel-accent-chair\"});\n               }\n             });\n         \n         \n                 var eventsListenerScript = document.createElement('script');\n                 eventsListenerScript.async = true;\n                 eventsListenerScript.src = \"//ahfshop.com/cdn/shopifycloud/shopify/assets/shop_events_listener-61fa9e0a912c675e178777d2b27f6cbd482f8912a6b0aa31fa3515985a8cd626.js\";\n                 document.getElementsByTagName('head')[0].appendChild(eventsListenerScript);\n         \n         })();</script>\n         <script class=\"boomerang\">\n         (function () {\n           if (window.BOOMR && (window.BOOMR.version || window.BOOMR.snippetExecuted)) {\n             return;\n           }\n           window.BOOMR = window.BOOMR || {};\n           window.BOOMR.snippetStart = new Date().getTime();\n           window.BOOMR.snippetExecuted = true;\n           window.BOOMR.snippetVersion = 12;\n           window.BOOMR.application = \"storefront-renderer\";\n           window.BOOMR.themeName = \"Themekit template theme\";\n           window.BOOMR.themeVersion = \"1.0.0\";\n           window.BOOMR.shopId = 40508194973;\n           window.BOOMR.themeId = 100847222941;\n           window.BOOMR.renderRegion = \"gcp-europe-west1\";\n           window.BOOMR.url =\n             \"https://ahfshop.com/cdn/shopifycloud/boomerang/shopify-boomerang-1.0.0.min.js\";\n           var where = document.currentScript || document.getElementsByTagName(\"script\")[0];\n           var parentNode = where.parentNode;\n           var promoted = false;\n           var LOADER_TIMEOUT = 3000;\n           function promote() {\n             if (promoted) {\n               return;\n             }\n             var script = document.createElement(\"script\");\n             script.id = \"boomr-scr-as\";\n             script.src = window.BOOMR.url;\n             script.async = true;\n             parentNode.appendChild(script);\n             promoted = true;\n           }\n           function iframeLoader(wasFallback) {\n             promoted = true;\n             var dom, bootstrap, iframe, iframeStyle;\n             var doc = document;\n             var win = window;\n             window.BOOMR.snippetMethod = wasFallback ? \"if\" : \"i\";\n             bootstrap = function(parent, scriptId) {\n               var script = doc.createElement(\"script\");\n               script.id = scriptId || \"boomr-if-as\";\n               script.src = window.BOOMR.url;\n               BOOMR_lstart = new Date().getTime();\n               parent = parent || doc.body;\n               parent.appendChild(script);\n             };\n             if (!window.addEventListener && window.attachEvent && navigator.userAgent.match(/MSIE [67]./)) {\n               window.BOOMR.snippetMethod = \"s\";\n               bootstrap(parentNode, \"boomr-async\");\n               return;\n             }\n             iframe = document.createElement(\"IFRAME\");\n             iframe.src = \"about:blank\";\n             iframe.title = \"\";\n             iframe.role = \"presentation\";\n             iframe.loading = \"eager\";\n             iframeStyle = (iframe.frameElement || iframe).style;\n             iframeStyle.width = 0;\n             iframeStyle.height = 0;\n             iframeStyle.border = 0;\n             iframeStyle.display = \"none\";\n             parentNode.appendChild(iframe);\n             try {\n               win = iframe.contentWindow;\n               doc = win.document.open();\n             } catch (e) {\n               dom = document.domain;\n               iframe.src = \"javascript:var d=document.open();d.domain='\" + dom + \"';void(0);\";\n               win = iframe.contentWindow;\n               doc = win.document.open();\n             }\n             if (dom) {\n               doc._boomrl = function() {\n                 this.domain = dom;\n                 bootstrap();\n               };\n               doc.write(\"<body onload='document._boomrl();'>\");\n             } else {\n               win._boomrl = function() {\n                 bootstrap();\n               };\n               if (win.addEventListener) {\n                 win.addEventListener(\"load\", win._boomrl, false);\n               } else if (win.attachEvent) {\n                 win.attachEvent(\"onload\", win._boomrl);\n               }\n             }\n             doc.close();\n           }\n           var link = document.createElement(\"link\");\n           if (link.relList &&\n             typeof link.relList.supports === \"function\" &&\n             link.relList.supports(\"preload\") &&\n             (\"as\" in link)) {\n             window.BOOMR.snippetMethod = \"p\";\n             link.href = window.BOOMR.url;\n             link.rel = \"preload\";\n             link.as = \"script\";\n             link.addEventListener(\"load\", promote);\n             link.addEventListener(\"error\", function() {\n               iframeLoader(true);\n             });\n             setTimeout(function() {\n               if (!promoted) {\n                 iframeLoader(true);\n               }\n             }, LOADER_TIMEOUT);\n             BOOMR_lstart = new Date().getTime();\n             parentNode.appendChild(link);\n           } else {\n             iframeLoader(false);\n           }\n           function boomerangSaveLoadTime(e) {\n             window.BOOMR_onload = (e && e.timeStamp) || new Date().getTime();\n           }\n           if (window.addEventListener) {\n             window.addEventListener(\"load\", boomerangSaveLoadTime, false);\n           } else if (window.attachEvent) {\n             window.attachEvent(\"onload\", boomerangSaveLoadTime);\n           }\n           if (document.addEventListener) {\n             document.addEventListener(\"onBoomerangLoaded\", function(e) {\n               e.detail.BOOMR.init({\n                 ResourceTiming: {\n                   enabled: true,\n                   trackedResourceTypes: [\"script\", \"img\", \"css\"]\n                 },\n               });\n               e.detail.BOOMR.t_end = new Date().getTime();\n             });\n           } else if (document.attachEvent) {\n             document.attachEvent(\"onpropertychange\", function(e) {\n               if (!e) e=event;\n               if (e.propertyName === \"onBoomerangLoaded\") {\n                 e.detail.BOOMR.init({\n                   ResourceTiming: {\n                     enabled: true,\n                     trackedResourceTypes: [\"script\", \"img\", \"css\"]\n                   },\n                 });\n                 e.detail.BOOMR.t_end = new Date().getTime();\n               }\n             });\n           }\n         })();</script>\n         </meta></meta></meta></meta>: 5,\n         <script src=\"//ahfshop.com/cdn/shop/t/2/assets/application.js?v=87574166635179617941599142930\" type=\"text/javascript\"></script>: 5,\n         <link href=\"//ahfshop.com/cdn/shop/t/2/assets/theme.css?v=76391909379040385701644871467\" media=\"all\" rel=\"stylesheet\" type=\"text/css\">\n         <script src=\"//ahfshop.com/cdn/shop/t/2/assets/application.js?v=87574166635179617941599142930\" type=\"text/javascript\"></script>\n         <meta content=\"https://cdn.shopify.com/s/files/1/0405/0819/4973/products/4970142-10X8-CROP.jpg?v=1616099264\" property=\"og:image\">\n         <meta content=\"https://cdn.shopify.com/s/files/1/0405/0819/4973/products/4970142-10X8-CROP.jpg?v=1616099264\" property=\"og:image:secure_url\">\n         <meta content=\"2153\" property=\"og:image:width\">\n         <meta content=\"1723\" property=\"og:image:height\">\n         <link href=\"https://monorail-edge.shopifysvc.com\" rel=\"dns-prefetch\"/>\n         <script>(function(){if (\"sendBeacon\" in navigator && \"performance\" in window) {var session_token = document.cookie.match(/_shopify_s=([^;]*)/);function handle_abandonment_event(e) {var entries = performance.getEntries().filter(function(entry) {return /monorail-edge.shopifysvc.com/.test(entry.name);});if (!window.abandonment_tracked && entries.length === 0) {window.abandonment_tracked = true;var currentMs = Date.now();var navigation_start = performance.timing.navigationStart;var payload = {shop_id: 40508194973,url: window.location.href,navigation_start,duration: currentMs - navigation_start,session_token: session_token && session_token.length === 2 ? session_token[1] : \"\",page_type: \"product\"};window.navigator.sendBeacon(\"https://monorail-edge.shopifysvc.com/v1/produce\", JSON.stringify({schema_id: \"online_store_buyer_site_abandonment/1.1\",payload: payload,metadata: {event_created_at_ms: currentMs,event_sent_at_ms: currentMs}}));}}window.addEventListener('pagehide', handle_abandonment_event);}}());</script>\n         <script id=\"web-pixels-manager-setup\">(function e(e,n,a,t,r){var o=\"function\"==typeof BigInt&&-1!==BigInt.toString().indexOf(\"[native code]\")?\"modern\":\"legacy\";window.Shopify=window.Shopify||{};var i=window.Shopify;i.analytics=i.analytics||{};var s=i.analytics;s.replayQueue=[],s.publish=function(e,n,a){return s.replayQueue.push([e,n,a]),!0};try{self.performance.mark(\"wpm:start\")}catch(e){}var l=[a,\"/wpm\",\"/b\",r,o.substring(0,1),\".js\"].join(\"\");!function(e){var n=e.src,a=e.async,t=void 0===a||a,r=e.onload,o=e.onerror,i=document.createElement(\"script\"),s=document.head,l=document.body;i.async=t,i.src=n,r&&i.addEventListener(\"load\",r),o&&i.addEventListener(\"error\",o),s?s.appendChild(i):l?l.appendChild(i):console.error(\"Did not find a head or body element to append the script\")}({src:l,async:!0,onload:function(){var a=window.webPixelsManager.init(e);n(a);var t=window.Shopify.analytics;t.replayQueue.forEach((function(e){var n=e[0],t=e[1],r=e[2];a.publishCustomEvent(n,t,r)})),t.replayQueue=[],t.publish=a.publishCustomEvent,t.visitor=a.visitor},onerror:function(){var n=e.storefrontBaseUrl.replace(/\\/$/,\"\"),a=\"\".concat(n,\"/.well-known/shopify/monorail/unstable/produce_batch\"),r=JSON.stringify({metadata:{event_sent_at_ms:(new Date).getTime()},events:[{schema_id:\"web_pixels_manager_load/2.0\",payload:{version:t||\"latest\",page_url:self.location.href,status:\"failed\",error_msg:\"\".concat(l,\" has failed to load\")},metadata:{event_created_at_ms:(new Date).getTime()}}]});try{if(self.navigator.sendBeacon.bind(self.navigator)(a,r))return!0}catch(e){}var o=new XMLHttpRequest;try{return o.open(\"POST\",a,!0),o.setRequestHeader(\"Content-Type\",\"text/plain\"),o.send(r),!0}catch(e){console&&console.warn&&console.warn(\"[Web Pixels Manager] Got an unhandled error while logging a load error.\")}return!1}})})({shopId: 40508194973,storefrontBaseUrl: \"https://ahfshop.com\",cdnBaseUrl: \"https://ahfshop.com/cdn\",surface: \"storefront-renderer\",enabledBetaFlags: [],webPixelsConfigList: [{\"id\":\"shopify-app-pixel\",\"configuration\":\"{}\",\"eventPayloadVersion\":\"v1\",\"runtimeContext\":\"STRICT\",\"scriptVersion\":\"0575\",\"apiClientId\":\"shopify-pixel\",\"type\":\"APP\",\"purposes\":[\"ANALYTICS\"]},{\"id\":\"shopify-custom-pixel\",\"eventPayloadVersion\":\"v1\",\"runtimeContext\":\"LAX\",\"scriptVersion\":\"0575\",\"apiClientId\":\"shopify-pixel\",\"type\":\"CUSTOM\",\"purposes\":[\"ANALYTICS\"]}],initData: {\"cart\":null,\"checkout\":null,\"customer\":null,\"productVariants\":[{\"id\":\"39439521153181\",\"image\":{\"src\":\"\\/\\/ahfshop.com\\/cdn\\/shop\\/products\\/4970142-10X8-CROP.jpg?v=1616099264\"},\"price\":{\"amount\":512.0,\"currencyCode\":\"USD\"},\"product\":{\"id\":\"6594233008285\",\"title\":\"Abney Swivel Accent Chair\",\"untranslatedTitle\":\"Abney Swivel Accent Chair\",\"url\":\"\\/products\\/abney-swivel-accent-chair\",\"vendor\":\"Ashley\",\"type\":\"Accent Chair\"},\"sku\":\"4970142\",\"title\":\"Default Title\",\"untranslatedTitle\":\"Default Title\"}]},},function pageEvents(webPixelsManagerAPI) {webPixelsManagerAPI.publish(\"page_viewed\");webPixelsManagerAPI.publish(\"product_viewed\", {\"productVariant\":{\"id\":\"39439521153181\",\"image\":{\"src\":\"\\/\\/ahfshop.com\\/cdn\\/shop\\/products\\/4970142-10X8-CROP.jpg?v=1616099264\"},\"price\":{\"amount\":512.0,\"currencyCode\":\"USD\"},\"product\":{\"id\":\"6594233008285\",\"title\":\"Abney Swivel Accent Chair\",\"untranslatedTitle\":\"Abney Swivel Accent Chair\",\"url\":\"\\/products\\/abney-swivel-accent-chair\",\"vendor\":\"Ashley\",\"type\":\"Accent Chair\"},\"sku\":\"4970142\",\"title\":\"Default Title\",\"untranslatedTitle\":\"Default Title\"}});},\"https://ahfshop.com/cdn\",\"0.0.469\",\"7265dc79wdf6f2cd2p26523560m583183dc\",);</script> <script>window.ShopifyAnalytics = window.ShopifyAnalytics || {};\n         window.ShopifyAnalytics.meta = window.ShopifyAnalytics.meta || {};\n         window.ShopifyAnalytics.meta.currency = 'USD';\n         var meta = {\"product\":{\"id\":6594233008285,\"gid\":\"gid:\\/\\/shopify\\/Product\\/6594233008285\",\"vendor\":\"Ashley\",\"type\":\"Accent Chair\",\"variants\":[{\"id\":39439521153181,\"price\":51200,\"name\":\"Abney Swivel Accent Chair\",\"public_title\":null,\"sku\":\"4970142\"}]},\"page\":{\"pageType\":\"product\",\"resourceType\":\"product\",\"resourceId\":6594233008285}};\n         for (var attr in meta) {\n           window.ShopifyAnalytics.meta[attr] = meta[attr];\n         }</script>\n         <script>window.ShopifyAnalytics.merchantGoogleAnalytics = function() {\n           \n         };\n         </script>\n         <script class=\"analytics\">(function () {\n             var customDocumentWrite = function(content) {\n               var jquery = null;\n         \n               if (window.jQuery) {\n                 jquery = window.jQuery;\n               } else if (window.Checkout && window.Checkout.$) {\n                 jquery = window.Checkout.$;\n               }\n         \n               if (jquery) {\n                 jquery('body').append(content);\n               }\n             };\n         \n             var hasLoggedConversion = function(token) {\n               if (token) {\n                 return document.cookie.indexOf('loggedConversion=' + token) !== -1;\n               }\n               return false;\n             }\n         \n             var setCookieIfConversion = function(token) {\n               if (token) {\n                 var twoMonthsFromNow = new Date(Date.now());\n                 twoMonthsFromNow.setMonth(twoMonthsFromNow.getMonth() + 2);\n         \n                 document.cookie = 'loggedConversion=' + token + '; expires=' + twoMonthsFromNow;\n               }\n             }\n         \n             var trekkie = window.ShopifyAnalytics.lib = window.trekkie = window.trekkie || [];\n             if (trekkie.integrations) {\n               return;\n             }\n             trekkie.methods = [\n               'identify',\n               'page',\n               'ready',\n               'track',\n               'trackForm',\n               'trackLink'\n             ];\n             trekkie.factory = function(method) {\n               return function() {\n                 var args = Array.prototype.slice.call(arguments);\n                 args.unshift(method);\n                 trekkie.push(args);\n                 return trekkie;\n               };\n             };\n             for (var i = 0; i < trekkie.methods.length; i++) {\n               var key = trekkie.methods[i];\n               trekkie[key] = trekkie.factory(key);\n             }\n             trekkie.load = function(config) {\n               trekkie.config = config || {};\n               trekkie.config.initialDocumentCookie = document.cookie;\n               var first = document.getElementsByTagName('script')[0];\n               var script = document.createElement('script');\n               script.type = 'text/javascript';\n               script.onerror = function(e) {\n                 var scriptFallback = document.createElement('script');\n                 scriptFallback.type = 'text/javascript';\n                 scriptFallback.onerror = function(error) {\n                         var Monorail = {\n               produce: function produce(monorailDomain, schemaId, payload) {\n                 var currentMs = new Date().getTime();\n                 var event = {\n                   schema_id: schemaId,\n                   payload: payload,\n                   metadata: {\n                     event_created_at_ms: currentMs,\n                     event_sent_at_ms: currentMs\n                   }\n                 };\n                 return Monorail.sendRequest(\"https://\" + monorailDomain + \"/v1/produce\", JSON.stringify(event));\n               },\n               sendRequest: function sendRequest(endpointUrl, payload) {\n                 // Try the sendBeacon API\n                 if (window && window.navigator && typeof window.navigator.sendBeacon === 'function' && typeof window.Blob === 'function' && !Monorail.isIos12()) {\n                   var blobData = new window.Blob([payload], {\n                     type: 'text/plain'\n                   });\n         \n                   if (window.navigator.sendBeacon(endpointUrl, blobData)) {\n                     return true;\n                   } // sendBeacon was not successful\n         \n                 } // XHR beacon\n         \n                 var xhr = new XMLHttpRequest();\n         \n                 try {\n                   xhr.open('POST', endpointUrl);\n                   xhr.setRequestHeader('Content-Type', 'text/plain');\n                   xhr.send(payload);\n                 } catch (e) {\n                   console.log(e);\n                 }\n         \n                 return false;\n               },\n               isIos12: function isIos12() {\n                 return window.navigator.userAgent.lastIndexOf('iPhone; CPU iPhone OS 12_') !== -1 || window.navigator.userAgent.lastIndexOf('iPad; CPU OS 12_') !== -1;\n               }\n             };\n             Monorail.produce('monorail-edge.shopifysvc.com',\n               'trekkie_storefront_load_errors/1.1',\n               {shop_id: 40508194973,\n               theme_id: 100847222941,\n               app_name: \"storefront\",\n               context_url: window.location.href,\n               source_url: \"//ahfshop.com/cdn/s/trekkie.storefront.2eced10260225d6798d99c4a95501a3f587f6b15.min.js\"});\n         \n                 };\n                 scriptFallback.async = true;\n                 scriptFallback.src = '//ahfshop.com/cdn/s/trekkie.storefront.2eced10260225d6798d99c4a95501a3f587f6b15.min.js';\n                 first.parentNode.insertBefore(scriptFallback, first);\n               };\n               script.async = true;\n               script.src = '//ahfshop.com/cdn/s/trekkie.storefront.2eced10260225d6798d99c4a95501a3f587f6b15.min.js';\n               first.parentNode.insertBefore(script, first);\n             };\n             trekkie.load(\n               {\"Trekkie\":{\"appName\":\"storefront\",\"development\":false,\"defaultAttributes\":{\"shopId\":40508194973,\"isMerchantRequest\":null,\"themeId\":100847222941,\"themeCityHash\":\"1746395193339291158\",\"contentLanguage\":\"en\",\"currency\":\"USD\"},\"isServerSideCookieWritingEnabled\":true,\"monorailRegion\":\"shop_domain\",\"enabledBetaFlags\":[\"bbcf04e6\"]},\"Session Attribution\":{},\"S2S\":{\"facebookCapiEnabled\":false,\"source\":\"trekkie-storefront-renderer\"}}\n             );\n         \n             var loaded = false;\n             trekkie.ready(function() {\n               if (loaded) return;\n               loaded = true;\n         \n               window.ShopifyAnalytics.lib = window.trekkie;\n         \n           \n               var originalDocumentWrite = document.write;\n               document.write = customDocumentWrite;\n               try { window.ShopifyAnalytics.merchantGoogleAnalytics.call(this); } catch(error) {};\n               document.write = originalDocumentWrite;\n         \n               window.ShopifyAnalytics.lib.page(null,{\"pageType\":\"product\",\"resourceType\":\"product\",\"resourceId\":6594233008285});\n         \n               var match = window.location.pathname.match(/checkouts\\/(.+)\\/(thank_you|post_purchase)/)\n               var token = match? match[1]: undefined;\n               if (!hasLoggedConversion(token)) {\n                 setCookieIfConversion(token);\n                 window.ShopifyAnalytics.lib.track(\"Viewed Product\",{\"currency\":\"USD\",\"variantId\":39439521153181,\"productId\":6594233008285,\"productGid\":\"gid:\\/\\/shopify\\/Product\\/6594233008285\",\"name\":\"Abney Swivel Accent Chair\",\"price\":\"512.00\",\"sku\":\"4970142\",\"brand\":\"Ashley\",\"variant\":null,\"category\":\"Accent Chair\",\"nonInteraction\":true});\n               window.ShopifyAnalytics.lib.track(\"monorail:\\/\\/trekkie_storefront_viewed_product\\/1.1\",{\"currency\":\"USD\",\"variantId\":39439521153181,\"productId\":6594233008285,\"productGid\":\"gid:\\/\\/shopify\\/Product\\/6594233008285\",\"name\":\"Abney Swivel Accent Chair\",\"price\":\"512.00\",\"sku\":\"4970142\",\"brand\":\"Ashley\",\"variant\":null,\"category\":\"Accent Chair\",\"nonInteraction\":true,\"referer\":\"https:\\/\\/ahfshop.com\\/products\\/abney-swivel-accent-chair\"});\n               }\n             });\n         \n         \n                 var eventsListenerScript = document.createElement('script');\n                 eventsListenerScript.async = true;\n                 eventsListenerScript.src = \"//ahfshop.com/cdn/shopifycloud/shopify/assets/shop_events_listener-61fa9e0a912c675e178777d2b27f6cbd482f8912a6b0aa31fa3515985a8cd626.js\";\n                 document.getElementsByTagName('head')[0].appendChild(eventsListenerScript);\n         \n         })();</script>\n         <script class=\"boomerang\">\n         (function () {\n           if (window.BOOMR && (window.BOOMR.version || window.BOOMR.snippetExecuted)) {\n             return;\n           }\n           window.BOOMR = window.BOOMR || {};\n           window.BOOMR.snippetStart = new Date().getTime();\n           window.BOOMR.snippetExecuted = true;\n           window.BOOMR.snippetVersion = 12;\n           window.BOOMR.application = \"storefront-renderer\";\n           window.BOOMR.themeName = \"Themekit template theme\";\n           window.BOOMR.themeVersion = \"1.0.0\";\n           window.BOOMR.shopId = 40508194973;\n           window.BOOMR.themeId = 100847222941;\n           window.BOOMR.renderRegion = \"gcp-europe-west1\";\n           window.BOOMR.url =\n             \"https://ahfshop.com/cdn/shopifycloud/boomerang/shopify-boomerang-1.0.0.min.js\";\n           var where = document.currentScript || document.getElementsByTagName(\"script\")[0];\n           var parentNode = where.parentNode;\n           var promoted = false;\n           var LOADER_TIMEOUT = 3000;\n           function promote() {\n             if (promoted) {\n               return;\n             }\n             var script = document.createElement(\"script\");\n             script.id = \"boomr-scr-as\";\n             script.src = window.BOOMR.url;\n             script.async = true;\n             parentNode.appendChild(script);\n             promoted = true;\n           }\n           function iframeLoader(wasFallback) {\n             promoted = true;\n             var dom, bootstrap, iframe, iframeStyle;\n             var doc = document;\n             var win = window;\n             window.BOOMR.snippetMethod = wasFallback ? \"if\" : \"i\";\n             bootstrap = function(parent, scriptId) {\n               var script = doc.createElement(\"script\");\n               script.id = scriptId || \"boomr-if-as\";\n               script.src = window.BOOMR.url;\n               BOOMR_lstart = new Date().getTime();\n               parent = parent || doc.body;\n               parent.appendChild(script);\n             };\n             if (!window.addEventListener && window.attachEvent && navigator.userAgent.match(/MSIE [67]./)) {\n               window.BOOMR.snippetMethod = \"s\";\n               bootstrap(parentNode, \"boomr-async\");\n               return;\n             }\n             iframe = document.createElement(\"IFRAME\");\n             iframe.src = \"about:blank\";\n             iframe.title = \"\";\n             iframe.role = \"presentation\";\n             iframe.loading = \"eager\";\n             iframeStyle = (iframe.frameElement || iframe).style;\n             iframeStyle.width = 0;\n             iframeStyle.height = 0;\n             iframeStyle.border = 0;\n             iframeStyle.display = \"none\";\n             parentNode.appendChild(iframe);\n             try {\n               win = iframe.contentWindow;\n               doc = win.document.open();\n             } catch (e) {\n               dom = document.domain;\n               iframe.src = \"javascript:var d=document.open();d.domain='\" + dom + \"';void(0);\";\n               win = iframe.contentWindow;\n               doc = win.document.open();\n             }\n             if (dom) {\n               doc._boomrl = function() {\n                 this.domain = dom;\n                 bootstrap();\n               };\n               doc.write(\"<body onload='document._boomrl();'>\");\n             } else {\n               win._boomrl = function() {\n                 bootstrap();\n               };\n               if (win.addEventListener) {\n                 win.addEventListener(\"load\", win._boomrl, false);\n               } else if (win.attachEvent) {\n                 win.attachEvent(\"onload\", win._boomrl);\n               }\n             }\n             doc.close();\n           }\n           var link = document.createElement(\"link\");\n           if (link.relList &&\n             typeof link.relList.supports === \"function\" &&\n             link.relList.supports(\"preload\") &&\n             (\"as\" in link)) {\n             window.BOOMR.snippetMethod = \"p\";\n             link.href = window.BOOMR.url;\n             link.rel = \"preload\";\n             link.as = \"script\";\n             link.addEventListener(\"load\", promote);\n             link.addEventListener(\"error\", function() {\n               iframeLoader(true);\n             });\n             setTimeout(function() {\n               if (!promoted) {\n                 iframeLoader(true);\n               }\n             }, LOADER_TIMEOUT);\n             BOOMR_lstart = new Date().getTime();\n             parentNode.appendChild(link);\n           } else {\n             iframeLoader(false);\n           }\n           function boomerangSaveLoadTime(e) {\n             window.BOOMR_onload = (e && e.timeStamp) || new Date().getTime();\n           }\n           if (window.addEventListener) {\n             window.addEventListener(\"load\", boomerangSaveLoadTime, false);\n           } else if (window.attachEvent) {\n             window.attachEvent(\"onload\", boomerangSaveLoadTime);\n           }\n           if (document.addEventListener) {\n             document.addEventListener(\"onBoomerangLoaded\", function(e) {\n               e.detail.BOOMR.init({\n                 ResourceTiming: {\n                   enabled: true,\n                   trackedResourceTypes: [\"script\", \"img\", \"css\"]\n                 },\n               });\n               e.detail.BOOMR.t_end = new Date().getTime();\n             });\n           } else if (document.attachEvent) {\n             document.attachEvent(\"onpropertychange\", function(e) {\n               if (!e) e=event;\n               if (e.propertyName === \"onBoomerangLoaded\") {\n                 e.detail.BOOMR.init({\n                   ResourceTiming: {\n                     enabled: true,\n                     trackedResourceTypes: [\"script\", \"img\", \"css\"]\n                   },\n                 });\n                 e.detail.BOOMR.t_end = new Date().getTime();\n               }\n             });\n           }\n         })();</script>\n         </meta></meta></meta></meta></link>: 5,\n         <script>window.performance && window.performance.mark && window.performance.mark('shopify.content_for_header.end');</script>: 5,\n         <script crossorigin=\"anonymous\" data-source-attribution=\"shopify.dynamic-checkout\" defer=\"defer\" integrity=\"sha256-HAs5a9TQVLlKuuHrahvWuke+s1UlxXohfHeoYv8G2D8=\" src=\"//ahfshop.com/cdn/shopifycloud/shopify/assets/storefront/features-1c0b396bd4d054b94abae1eb6a1bd6ba47beb35525c57a217c77a862ff06d83f.js\"></script>: 5,\n         <script crossorigin=\"anonymous\" data-source-attribution=\"shopify.loadfeatures\" defer=\"defer\" integrity=\"sha256-n5Uet9jVOXPHGd4hH4B9Y6+BxkTluaaucmYaxAjUcvY=\" src=\"//ahfshop.com/cdn/shopifycloud/shopify/assets/storefront/load_feature-9f951eb7d8d53973c719de211f807d63af81c644e5b9a6ae72661ac408d472f6.js\"></script>: 5,\n         <script>!function(o){o.addEventListener(\"DOMContentLoaded\",function(){window.Shopify=window.Shopify||{},window.Shopify.recaptchaV3=window.Shopify.recaptchaV3||{siteKey:\"6LeHG2ApAAAAAO4rPaDW-qVpPKPOBfjbCpzJB9ey\"};var t=['form[action*=\"/contact\"] input[name=\"form_type\"][value=\"contact\"]','form[action*=\"/comments\"] input[name=\"form_type\"][value=\"new_comment\"]','form[action*=\"/account\"] input[name=\"form_type\"][value=\"customer_login\"]','form[action*=\"/account\"] input[name=\"form_type\"][value=\"recover_customer_password\"]','form[action*=\"/account\"] input[name=\"form_type\"][value=\"create_customer\"]','form[action*=\"/contact\"] input[name=\"form_type\"][value=\"customer\"]'].join(\",\");function n(e){e=e.target;null==e||null!=(e=function e(t,n){if(null==t.parentElement)return null;if(\"FORM\"!=t.parentElement.tagName)return e(t.parentElement,n);for(var o=t.parentElement.action,r=0;r<n.length;r++)if(-1!==o.indexOf(n[r]))return t.parentElement;return null}(e,[\"/contact\",\"/comments\",\"/account\"]))&&null!=e.querySelector(t)&&((e=o.createElement(\"script\")).setAttribute(\"src\",\"https://cdn.shopify.com/shopifycloud/storefront-recaptcha-v3/v0.6/index.js\"),o.body.appendChild(e),o.removeEventListener(\"focus\",n,!0),o.removeEventListener(\"change\",n,!0),o.removeEventListener(\"click\",n,!0))}o.addEventListener(\"click\",n,!0),o.addEventListener(\"change\",n,!0),o.addEventListener(\"focus\",n,!0)})}(document);</script>: 5,\n         <script>window.ShopifyPaypalV4VisibilityTracking = true;</script>: 5,\n         <script id=\"__st\">var __st={\"a\":40508194973,\"offset\":-14400,\"reqid\":\"83ae5b09-91e0-492d-9cc0-2eb310d81e81-1712511139\",\"pageurl\":\"ahfshop.com\\/products\\/abney-swivel-accent-chair\",\"u\":\"a7b809de5c78\",\"p\":\"product\",\"rtyp\":\"product\",\"rid\":6594233008285};</script>: 5,\n         <script>(function() {\n           function asyncLoad() {\n             var urls = [\"\\/\\/productreviews.shopifycdn.com\\/embed\\/loader.js?shop=ahf-shop.myshopify.com\"];\n             for (var i = 0; i < urls.length; i++) {\n               var s = document.createElement('script');\n               s.type = 'text/javascript';\n               s.async = true;\n               s.src = urls[i];\n               var x = document.getElementsByTagName('script')[0];\n               x.parentNode.insertBefore(s, x);\n             }\n           };\n           if(window.attachEvent) {\n             window.attachEvent('onload', asyncLoad);\n           } else {\n             window.addEventListener('load', asyncLoad, false);\n           }\n         })();</script>: 5,\n         <script>!function(o){function n(){var o=[];function n(){o.push(Array.prototype.slice.apply(arguments))}return n.q=o,n}var t=o.Shopify=o.Shopify||{};t.loadFeatures=n(),t.autoloadFeatures=n()}(window);</script>: 5,\n         <script type=\"module\">!function(o){(o.Shopify=o.Shopify||{}).modules=!0}(window);</script>: 5,\n         <script>var Shopify = Shopify || {};\n         Shopify.shop = \"ahf-shop.myshopify.com\";\n         Shopify.locale = \"en\";\n         Shopify.currency = {\"active\":\"USD\",\"rate\":\"1.0\"};\n         Shopify.country = \"US\";\n         Shopify.theme = {\"name\":\"Dev Theme\",\"id\":100847222941,\"theme_store_id\":null,\"role\":\"main\"};\n         Shopify.theme.handle = \"null\";\n         Shopify.theme.style = {\"id\":null,\"handle\":null};\n         Shopify.cdnHost = \"ahfshop.com/cdn\";\n         Shopify.routes = Shopify.routes || {};\n         Shopify.routes.root = \"/\";</script>: 5,\n         <script id=\"shopify-features\" type=\"application/json\">{\"accessToken\":\"fe4a1ace9e572a0ba6dc0c7f148fbac3\",\"betas\":[\"rich-media-storefront-analytics\"],\"domain\":\"ahfshop.com\",\"predictiveSearch\":true,\"shopId\":40508194973,\"smart_payment_buttons_url\":\"https:\\/\\/ahfshop.com\\/cdn\\/shopifycloud\\/payment-sheet\\/assets\\/latest\\/spb.en.js\",\"dynamic_checkout_cart_url\":\"https:\\/\\/ahfshop.com\\/cdn\\/shopifycloud\\/payment-sheet\\/assets\\/latest\\/dynamic-checkout-cart.en.js\",\"locale\":\"en\",\"flg4ff40b22\":false}</script>: 5,\n         <script async=\"async\" crossorigin=\"anonymous\" src=\"https://shop.app/checkouts/internal/preloads.js?locale=en-US&amp;shop_id=40508194973\"></script>: 5,\n         <script async=\"async\" src=\"/checkouts/internal/preloads.js?locale=en-US\"></script>: 5,\n         <link href=\"https://ahfshop.com/products/abney-swivel-accent-chair.oembed\" rel=\"alternate\" type=\"application/json+oembed\"/>: 5,\n         <meta content=\"/40508194973/digital_wallets/dialog\" id=\"shopify-digital-wallet\" name=\"shopify-digital-wallet\"/>: 5,\n         <script>window.performance && window.performance.mark && window.performance.mark('shopify.content_for_header.start');</script>: 5,\n         <script src=\"https://cdnjs.cloudflare.com/ajax/libs/lazysizes/5.2.2/lazysizes.min.js\" type=\"text/javascript\"></script>: 5,\n         <script src=\"https://cdn.jsdelivr.net/npm/js-cookie@rc/dist/js.cookie.min.js\"></script>: 5,\n         <link href=\"https://cdnjs.cloudflare.com/ajax/libs/slick-carousel/1.8.1/slick-theme.min.css\" rel=\"stylesheet\"/>: 5,\n         <link href=\"https://cdnjs.cloudflare.com/ajax/libs/slick-carousel/1.8.1/slick.min.css\" rel=\"stylesheet\"/>: 5,\n         <script src=\"https://cdnjs.cloudflare.com/ajax/libs/slick-carousel/1.8.1/slick.min.js\"></script>: 5,\n         <script crossorigin=\"anonymous\" integrity=\"sha256-9/aliU8dGd2tb6OSsuzixeV4y/faTqgFtohetphbbj0=\" src=\"https://code.jquery.com/jquery-3.5.1.min.js\"></script>: 5,\n         <link href=\"https://fonts.googleapis.com/css2?family=Roboto:wght@400;500;700&amp;display=swap\" rel=\"stylesheet\"/>: 5,\n         <meta content=\"width=device-width,initial-scale=1,shrink-to-fit=no\" name=\"viewport\"/>: 5,\n         <link href=\"https://ahfshop.com/products/abney-swivel-accent-chair\" rel=\"canonical\"/>: 5,\n         <meta content=\"This vine-patterned swivel accent chair is the natural choice when it comes to cool and contemporary decor. Form follows function in the sleek design and smooth 360-degree turning radius. What a fresh take on living room seating. Corner-blocked frame Attached back and loose seat cushions High-resiliency foam cushions w\" name=\"description\"/>: 5,\n         <meta content=\"IE=edge,chrome=1\" http-equiv=\"X-UA-Compatible\"/>: 5,\n         <meta charset=\"utf-8\"/>: 5,\n         <title>Abney Swivel Accent Chair</title>: 5,\n         <head>\n         <title>Abney Swivel Accent Chair</title>\n         <meta charset=\"utf-8\"/>\n         <meta content=\"IE=edge,chrome=1\" http-equiv=\"X-UA-Compatible\"/>\n         <meta content=\"This vine-patterned swivel accent chair is the natural choice when it comes to cool and contemporary decor. Form follows function in the sleek design and smooth 360-degree turning radius. What a fresh take on living room seating. Corner-blocked frame Attached back and loose seat cushions High-resiliency foam cushions w\" name=\"description\"/>\n         <link href=\"https://ahfshop.com/products/abney-swivel-accent-chair\" rel=\"canonical\"/>\n         <meta content=\"width=device-width,initial-scale=1,shrink-to-fit=no\" name=\"viewport\"/>\n         <link href=\"https://fonts.googleapis.com/css2?family=Roboto:wght@400;500;700&amp;display=swap\" rel=\"stylesheet\"/>\n         <script crossorigin=\"anonymous\" integrity=\"sha256-9/aliU8dGd2tb6OSsuzixeV4y/faTqgFtohetphbbj0=\" src=\"https://code.jquery.com/jquery-3.5.1.min.js\"></script>\n         <script src=\"https://cdnjs.cloudflare.com/ajax/libs/slick-carousel/1.8.1/slick.min.js\"></script>\n         <link href=\"https://cdnjs.cloudflare.com/ajax/libs/slick-carousel/1.8.1/slick.min.css\" rel=\"stylesheet\"/>\n         <link href=\"https://cdnjs.cloudflare.com/ajax/libs/slick-carousel/1.8.1/slick-theme.min.css\" rel=\"stylesheet\"/>\n         <script src=\"https://cdn.jsdelivr.net/npm/js-cookie@rc/dist/js.cookie.min.js\"></script>\n         <script src=\"https://cdnjs.cloudflare.com/ajax/libs/lazysizes/5.2.2/lazysizes.min.js\" type=\"text/javascript\"></script>\n         <script>window.performance && window.performance.mark && window.performance.mark('shopify.content_for_header.start');</script><meta content=\"/40508194973/digital_wallets/dialog\" id=\"shopify-digital-wallet\" name=\"shopify-digital-wallet\"/>\n         <link href=\"https://ahfshop.com/products/abney-swivel-accent-chair.oembed\" rel=\"alternate\" type=\"application/json+oembed\"/>\n         <script async=\"async\" src=\"/checkouts/internal/preloads.js?locale=en-US\"></script>\n         <script async=\"async\" crossorigin=\"anonymous\" src=\"https://shop.app/checkouts/internal/preloads.js?locale=en-US&amp;shop_id=40508194973\"></script>\n         <script id=\"shopify-features\" type=\"application/json\">{\"accessToken\":\"fe4a1ace9e572a0ba6dc0c7f148fbac3\",\"betas\":[\"rich-media-storefront-analytics\"],\"domain\":\"ahfshop.com\",\"predictiveSearch\":true,\"shopId\":40508194973,\"smart_payment_buttons_url\":\"https:\\/\\/ahfshop.com\\/cdn\\/shopifycloud\\/payment-sheet\\/assets\\/latest\\/spb.en.js\",\"dynamic_checkout_cart_url\":\"https:\\/\\/ahfshop.com\\/cdn\\/shopifycloud\\/payment-sheet\\/assets\\/latest\\/dynamic-checkout-cart.en.js\",\"locale\":\"en\",\"flg4ff40b22\":false}</script>\n         <script>var Shopify = Shopify || {};\n         Shopify.shop = \"ahf-shop.myshopify.com\";\n         Shopify.locale = \"en\";\n         Shopify.currency = {\"active\":\"USD\",\"rate\":\"1.0\"};\n         Shopify.country = \"US\";\n         Shopify.theme = {\"name\":\"Dev Theme\",\"id\":100847222941,\"theme_store_id\":null,\"role\":\"main\"};\n         Shopify.theme.handle = \"null\";\n         Shopify.theme.style = {\"id\":null,\"handle\":null};\n         Shopify.cdnHost = \"ahfshop.com/cdn\";\n         Shopify.routes = Shopify.routes || {};\n         Shopify.routes.root = \"/\";</script>\n         <script type=\"module\">!function(o){(o.Shopify=o.Shopify||{}).modules=!0}(window);</script>\n         <script>!function(o){function n(){var o=[];function n(){o.push(Array.prototype.slice.apply(arguments))}return n.q=o,n}var t=o.Shopify=o.Shopify||{};t.loadFeatures=n(),t.autoloadFeatures=n()}(window);</script>\n         <script>(function() {\n           function asyncLoad() {\n             var urls = [\"\\/\\/productreviews.shopifycdn.com\\/embed\\/loader.js?shop=ahf-shop.myshopify.com\"];\n             for (var i = 0; i < urls.length; i++) {\n               var s = document.createElement('script');\n               s.type = 'text/javascript';\n               s.async = true;\n               s.src = urls[i];\n               var x = document.getElementsByTagName('script')[0];\n               x.parentNode.insertBefore(s, x);\n             }\n           };\n           if(window.attachEvent) {\n             window.attachEvent('onload', asyncLoad);\n           } else {\n             window.addEventListener('load', asyncLoad, false);\n           }\n         })();</script>\n         <script id=\"__st\">var __st={\"a\":40508194973,\"offset\":-14400,\"reqid\":\"83ae5b09-91e0-492d-9cc0-2eb310d81e81-1712511139\",\"pageurl\":\"ahfshop.com\\/products\\/abney-swivel-accent-chair\",\"u\":\"a7b809de5c78\",\"p\":\"product\",\"rtyp\":\"product\",\"rid\":6594233008285};</script>\n         <script>window.ShopifyPaypalV4VisibilityTracking = true;</script>\n         <script>!function(o){o.addEventListener(\"DOMContentLoaded\",function(){window.Shopify=window.Shopify||{},window.Shopify.recaptchaV3=window.Shopify.recaptchaV3||{siteKey:\"6LeHG2ApAAAAAO4rPaDW-qVpPKPOBfjbCpzJB9ey\"};var t=['form[action*=\"/contact\"] input[name=\"form_type\"][value=\"contact\"]','form[action*=\"/comments\"] input[name=\"form_type\"][value=\"new_comment\"]','form[action*=\"/account\"] input[name=\"form_type\"][value=\"customer_login\"]','form[action*=\"/account\"] input[name=\"form_type\"][value=\"recover_customer_password\"]','form[action*=\"/account\"] input[name=\"form_type\"][value=\"create_customer\"]','form[action*=\"/contact\"] input[name=\"form_type\"][value=\"customer\"]'].join(\",\");function n(e){e=e.target;null==e||null!=(e=function e(t,n){if(null==t.parentElement)return null;if(\"FORM\"!=t.parentElement.tagName)return e(t.parentElement,n);for(var o=t.parentElement.action,r=0;r<n.length;r++)if(-1!==o.indexOf(n[r]))return t.parentElement;return null}(e,[\"/contact\",\"/comments\",\"/account\"]))&&null!=e.querySelector(t)&&((e=o.createElement(\"script\")).setAttribute(\"src\",\"https://cdn.shopify.com/shopifycloud/storefront-recaptcha-v3/v0.6/index.js\"),o.body.appendChild(e),o.removeEventListener(\"focus\",n,!0),o.removeEventListener(\"change\",n,!0),o.removeEventListener(\"click\",n,!0))}o.addEventListener(\"click\",n,!0),o.addEventListener(\"change\",n,!0),o.addEventListener(\"focus\",n,!0)})}(document);</script>\n         <script crossorigin=\"anonymous\" data-source-attribution=\"shopify.loadfeatures\" defer=\"defer\" integrity=\"sha256-n5Uet9jVOXPHGd4hH4B9Y6+BxkTluaaucmYaxAjUcvY=\" src=\"//ahfshop.com/cdn/shopifycloud/shopify/assets/storefront/load_feature-9f951eb7d8d53973c719de211f807d63af81c644e5b9a6ae72661ac408d472f6.js\"></script>\n         <script crossorigin=\"anonymous\" data-source-attribution=\"shopify.dynamic-checkout\" defer=\"defer\" integrity=\"sha256-HAs5a9TQVLlKuuHrahvWuke+s1UlxXohfHeoYv8G2D8=\" src=\"//ahfshop.com/cdn/shopifycloud/shopify/assets/storefront/features-1c0b396bd4d054b94abae1eb6a1bd6ba47beb35525c57a217c77a862ff06d83f.js\"></script>\n         <script>window.performance && window.performance.mark && window.performance.mark('shopify.content_for_header.end');</script> <!-- Header hook for plugins -->\n         <link href=\"//ahfshop.com/cdn/shop/t/2/assets/theme.css?v=76391909379040385701644871467\" media=\"all\" rel=\"stylesheet\" type=\"text/css\">\n         <script src=\"//ahfshop.com/cdn/shop/t/2/assets/application.js?v=87574166635179617941599142930\" type=\"text/javascript\"></script>\n         <meta content=\"https://cdn.shopify.com/s/files/1/0405/0819/4973/products/4970142-10X8-CROP.jpg?v=1616099264\" property=\"og:image\">\n         <meta content=\"https://cdn.shopify.com/s/files/1/0405/0819/4973/products/4970142-10X8-CROP.jpg?v=1616099264\" property=\"og:image:secure_url\">\n         <meta content=\"2153\" property=\"og:image:width\">\n         <meta content=\"1723\" property=\"og:image:height\">\n         <link href=\"https://monorail-edge.shopifysvc.com\" rel=\"dns-prefetch\"/>\n         <script>(function(){if (\"sendBeacon\" in navigator && \"performance\" in window) {var session_token = document.cookie.match(/_shopify_s=([^;]*)/);function handle_abandonment_event(e) {var entries = performance.getEntries().filter(function(entry) {return /monorail-edge.shopifysvc.com/.test(entry.name);});if (!window.abandonment_tracked && entries.length === 0) {window.abandonment_tracked = true;var currentMs = Date.now();var navigation_start = performance.timing.navigationStart;var payload = {shop_id: 40508194973,url: window.location.href,navigation_start,duration: currentMs - navigation_start,session_token: session_token && session_token.length === 2 ? session_token[1] : \"\",page_type: \"product\"};window.navigator.sendBeacon(\"https://monorail-edge.shopifysvc.com/v1/produce\", JSON.stringify({schema_id: \"online_store_buyer_site_abandonment/1.1\",payload: payload,metadata: {event_created_at_ms: currentMs,event_sent_at_ms: currentMs}}));}}window.addEventListener('pagehide', handle_abandonment_event);}}());</script>\n         <script id=\"web-pixels-manager-setup\">(function e(e,n,a,t,r){var o=\"function\"==typeof BigInt&&-1!==BigInt.toString().indexOf(\"[native code]\")?\"modern\":\"legacy\";window.Shopify=window.Shopify||{};var i=window.Shopify;i.analytics=i.analytics||{};var s=i.analytics;s.replayQueue=[],s.publish=function(e,n,a){return s.replayQueue.push([e,n,a]),!0};try{self.performance.mark(\"wpm:start\")}catch(e){}var l=[a,\"/wpm\",\"/b\",r,o.substring(0,1),\".js\"].join(\"\");!function(e){var n=e.src,a=e.async,t=void 0===a||a,r=e.onload,o=e.onerror,i=document.createElement(\"script\"),s=document.head,l=document.body;i.async=t,i.src=n,r&&i.addEventListener(\"load\",r),o&&i.addEventListener(\"error\",o),s?s.appendChild(i):l?l.appendChild(i):console.error(\"Did not find a head or body element to append the script\")}({src:l,async:!0,onload:function(){var a=window.webPixelsManager.init(e);n(a);var t=window.Shopify.analytics;t.replayQueue.forEach((function(e){var n=e[0],t=e[1],r=e[2];a.publishCustomEvent(n,t,r)})),t.replayQueue=[],t.publish=a.publishCustomEvent,t.visitor=a.visitor},onerror:function(){var n=e.storefrontBaseUrl.replace(/\\/$/,\"\"),a=\"\".concat(n,\"/.well-known/shopify/monorail/unstable/produce_batch\"),r=JSON.stringify({metadata:{event_sent_at_ms:(new Date).getTime()},events:[{schema_id:\"web_pixels_manager_load/2.0\",payload:{version:t||\"latest\",page_url:self.location.href,status:\"failed\",error_msg:\"\".concat(l,\" has failed to load\")},metadata:{event_created_at_ms:(new Date).getTime()}}]});try{if(self.navigator.sendBeacon.bind(self.navigator)(a,r))return!0}catch(e){}var o=new XMLHttpRequest;try{return o.open(\"POST\",a,!0),o.setRequestHeader(\"Content-Type\",\"text/plain\"),o.send(r),!0}catch(e){console&&console.warn&&console.warn(\"[Web Pixels Manager] Got an unhandled error while logging a load error.\")}return!1}})})({shopId: 40508194973,storefrontBaseUrl: \"https://ahfshop.com\",cdnBaseUrl: \"https://ahfshop.com/cdn\",surface: \"storefront-renderer\",enabledBetaFlags: [],webPixelsConfigList: [{\"id\":\"shopify-app-pixel\",\"configuration\":\"{}\",\"eventPayloadVersion\":\"v1\",\"runtimeContext\":\"STRICT\",\"scriptVersion\":\"0575\",\"apiClientId\":\"shopify-pixel\",\"type\":\"APP\",\"purposes\":[\"ANALYTICS\"]},{\"id\":\"shopify-custom-pixel\",\"eventPayloadVersion\":\"v1\",\"runtimeContext\":\"LAX\",\"scriptVersion\":\"0575\",\"apiClientId\":\"shopify-pixel\",\"type\":\"CUSTOM\",\"purposes\":[\"ANALYTICS\"]}],initData: {\"cart\":null,\"checkout\":null,\"customer\":null,\"productVariants\":[{\"id\":\"39439521153181\",\"image\":{\"src\":\"\\/\\/ahfshop.com\\/cdn\\/shop\\/products\\/4970142-10X8-CROP.jpg?v=1616099264\"},\"price\":{\"amount\":512.0,\"currencyCode\":\"USD\"},\"product\":{\"id\":\"6594233008285\",\"title\":\"Abney Swivel Accent Chair\",\"untranslatedTitle\":\"Abney Swivel Accent Chair\",\"url\":\"\\/products\\/abney-swivel-accent-chair\",\"vendor\":\"Ashley\",\"type\":\"Accent Chair\"},\"sku\":\"4970142\",\"title\":\"Default Title\",\"untranslatedTitle\":\"Default Title\"}]},},function pageEvents(webPixelsManagerAPI) {webPixelsManagerAPI.publish(\"page_viewed\");webPixelsManagerAPI.publish(\"product_viewed\", {\"productVariant\":{\"id\":\"39439521153181\",\"image\":{\"src\":\"\\/\\/ahfshop.com\\/cdn\\/shop\\/products\\/4970142-10X8-CROP.jpg?v=1616099264\"},\"price\":{\"amount\":512.0,\"currencyCode\":\"USD\"},\"product\":{\"id\":\"6594233008285\",\"title\":\"Abney Swivel Accent Chair\",\"untranslatedTitle\":\"Abney Swivel Accent Chair\",\"url\":\"\\/products\\/abney-swivel-accent-chair\",\"vendor\":\"Ashley\",\"type\":\"Accent Chair\"},\"sku\":\"4970142\",\"title\":\"Default Title\",\"untranslatedTitle\":\"Default Title\"}});},\"https://ahfshop.com/cdn\",\"0.0.469\",\"7265dc79wdf6f2cd2p26523560m583183dc\",);</script> <script>window.ShopifyAnalytics = window.ShopifyAnalytics || {};\n         window.ShopifyAnalytics.meta = window.ShopifyAnalytics.meta || {};\n         window.ShopifyAnalytics.meta.currency = 'USD';\n         var meta = {\"product\":{\"id\":6594233008285,\"gid\":\"gid:\\/\\/shopify\\/Product\\/6594233008285\",\"vendor\":\"Ashley\",\"type\":\"Accent Chair\",\"variants\":[{\"id\":39439521153181,\"price\":51200,\"name\":\"Abney Swivel Accent Chair\",\"public_title\":null,\"sku\":\"4970142\"}]},\"page\":{\"pageType\":\"product\",\"resourceType\":\"product\",\"resourceId\":6594233008285}};\n         for (var attr in meta) {\n           window.ShopifyAnalytics.meta[attr] = meta[attr];\n         }</script>\n         <script>window.ShopifyAnalytics.merchantGoogleAnalytics = function() {\n           \n         };\n         </script>\n         <script class=\"analytics\">(function () {\n             var customDocumentWrite = function(content) {\n               var jquery = null;\n         \n               if (window.jQuery) {\n                 jquery = window.jQuery;\n               } else if (window.Checkout && window.Checkout.$) {\n                 jquery = window.Checkout.$;\n               }\n         \n               if (jquery) {\n                 jquery('body').append(content);\n               }\n             };\n         \n             var hasLoggedConversion = function(token) {\n               if (token) {\n                 return document.cookie.indexOf('loggedConversion=' + token) !== -1;\n               }\n               return false;\n             }\n         \n             var setCookieIfConversion = function(token) {\n               if (token) {\n                 var twoMonthsFromNow = new Date(Date.now());\n                 twoMonthsFromNow.setMonth(twoMonthsFromNow.getMonth() + 2);\n         \n                 document.cookie = 'loggedConversion=' + token + '; expires=' + twoMonthsFromNow;\n               }\n             }\n         \n             var trekkie = window.ShopifyAnalytics.lib = window.trekkie = window.trekkie || [];\n             if (trekkie.integrations) {\n               return;\n             }\n             trekkie.methods = [\n               'identify',\n               'page',\n               'ready',\n               'track',\n               'trackForm',\n               'trackLink'\n             ];\n             trekkie.factory = function(method) {\n               return function() {\n                 var args = Array.prototype.slice.call(arguments);\n                 args.unshift(method);\n                 trekkie.push(args);\n                 return trekkie;\n               };\n             };\n             for (var i = 0; i < trekkie.methods.length; i++) {\n               var key = trekkie.methods[i];\n               trekkie[key] = trekkie.factory(key);\n             }\n             trekkie.load = function(config) {\n               trekkie.config = config || {};\n               trekkie.config.initialDocumentCookie = document.cookie;\n               var first = document.getElementsByTagName('script')[0];\n               var script = document.createElement('script');\n               script.type = 'text/javascript';\n               script.onerror = function(e) {\n                 var scriptFallback = document.createElement('script');\n                 scriptFallback.type = 'text/javascript';\n                 scriptFallback.onerror = function(error) {\n                         var Monorail = {\n               produce: function produce(monorailDomain, schemaId, payload) {\n                 var currentMs = new Date().getTime();\n                 var event = {\n                   schema_id: schemaId,\n                   payload: payload,\n                   metadata: {\n                     event_created_at_ms: currentMs,\n                     event_sent_at_ms: currentMs\n                   }\n                 };\n                 return Monorail.sendRequest(\"https://\" + monorailDomain + \"/v1/produce\", JSON.stringify(event));\n               },\n               sendRequest: function sendRequest(endpointUrl, payload) {\n                 // Try the sendBeacon API\n                 if (window && window.navigator && typeof window.navigator.sendBeacon === 'function' && typeof window.Blob === 'function' && !Monorail.isIos12()) {\n                   var blobData = new window.Blob([payload], {\n                     type: 'text/plain'\n                   });\n         \n                   if (window.navigator.sendBeacon(endpointUrl, blobData)) {\n                     return true;\n                   } // sendBeacon was not successful\n         \n                 } // XHR beacon\n         \n                 var xhr = new XMLHttpRequest();\n         \n                 try {\n                   xhr.open('POST', endpointUrl);\n                   xhr.setRequestHeader('Content-Type', 'text/plain');\n                   xhr.send(payload);\n                 } catch (e) {\n                   console.log(e);\n                 }\n         \n                 return false;\n               },\n               isIos12: function isIos12() {\n                 return window.navigator.userAgent.lastIndexOf('iPhone; CPU iPhone OS 12_') !== -1 || window.navigator.userAgent.lastIndexOf('iPad; CPU OS 12_') !== -1;\n               }\n             };\n             Monorail.produce('monorail-edge.shopifysvc.com',\n               'trekkie_storefront_load_errors/1.1',\n               {shop_id: 40508194973,\n               theme_id: 100847222941,\n               app_name: \"storefront\",\n               context_url: window.location.href,\n               source_url: \"//ahfshop.com/cdn/s/trekkie.storefront.2eced10260225d6798d99c4a95501a3f587f6b15.min.js\"});\n         \n                 };\n                 scriptFallback.async = true;\n                 scriptFallback.src = '//ahfshop.com/cdn/s/trekkie.storefront.2eced10260225d6798d99c4a95501a3f587f6b15.min.js';\n                 first.parentNode.insertBefore(scriptFallback, first);\n               };\n               script.async = true;\n               script.src = '//ahfshop.com/cdn/s/trekkie.storefront.2eced10260225d6798d99c4a95501a3f587f6b15.min.js';\n               first.parentNode.insertBefore(script, first);\n             };\n             trekkie.load(\n               {\"Trekkie\":{\"appName\":\"storefront\",\"development\":false,\"defaultAttributes\":{\"shopId\":40508194973,\"isMerchantRequest\":null,\"themeId\":100847222941,\"themeCityHash\":\"1746395193339291158\",\"contentLanguage\":\"en\",\"currency\":\"USD\"},\"isServerSideCookieWritingEnabled\":true,\"monorailRegion\":\"shop_domain\",\"enabledBetaFlags\":[\"bbcf04e6\"]},\"Session Attribution\":{},\"S2S\":{\"facebookCapiEnabled\":false,\"source\":\"trekkie-storefront-renderer\"}}\n             );\n         \n             var loaded = false;\n             trekkie.ready(function() {\n               if (loaded) return;\n               loaded = true;\n         \n               window.ShopifyAnalytics.lib = window.trekkie;\n         \n           \n               var originalDocumentWrite = document.write;\n               document.write = customDocumentWrite;\n               try { window.ShopifyAnalytics.merchantGoogleAnalytics.call(this); } catch(error) {};\n               document.write = originalDocumentWrite;\n         \n               window.ShopifyAnalytics.lib.page(null,{\"pageType\":\"product\",\"resourceType\":\"product\",\"resourceId\":6594233008285});\n         \n               var match = window.location.pathname.match(/checkouts\\/(.+)\\/(thank_you|post_purchase)/)\n               var token = match? match[1]: undefined;\n               if (!hasLoggedConversion(token)) {\n                 setCookieIfConversion(token);\n                 window.ShopifyAnalytics.lib.track(\"Viewed Product\",{\"currency\":\"USD\",\"variantId\":39439521153181,\"productId\":6594233008285,\"productGid\":\"gid:\\/\\/shopify\\/Product\\/6594233008285\",\"name\":\"Abney Swivel Accent Chair\",\"price\":\"512.00\",\"sku\":\"4970142\",\"brand\":\"Ashley\",\"variant\":null,\"category\":\"Accent Chair\",\"nonInteraction\":true});\n               window.ShopifyAnalytics.lib.track(\"monorail:\\/\\/trekkie_storefront_viewed_product\\/1.1\",{\"currency\":\"USD\",\"variantId\":39439521153181,\"productId\":6594233008285,\"productGid\":\"gid:\\/\\/shopify\\/Product\\/6594233008285\",\"name\":\"Abney Swivel Accent Chair\",\"price\":\"512.00\",\"sku\":\"4970142\",\"brand\":\"Ashley\",\"variant\":null,\"category\":\"Accent Chair\",\"nonInteraction\":true,\"referer\":\"https:\\/\\/ahfshop.com\\/products\\/abney-swivel-accent-chair\"});\n               }\n             });\n         \n         \n                 var eventsListenerScript = document.createElement('script');\n                 eventsListenerScript.async = true;\n                 eventsListenerScript.src = \"//ahfshop.com/cdn/shopifycloud/shopify/assets/shop_events_listener-61fa9e0a912c675e178777d2b27f6cbd482f8912a6b0aa31fa3515985a8cd626.js\";\n                 document.getElementsByTagName('head')[0].appendChild(eventsListenerScript);\n         \n         })();</script>\n         <script class=\"boomerang\">\n         (function () {\n           if (window.BOOMR && (window.BOOMR.version || window.BOOMR.snippetExecuted)) {\n             return;\n           }\n           window.BOOMR = window.BOOMR || {};\n           window.BOOMR.snippetStart = new Date().getTime();\n           window.BOOMR.snippetExecuted = true;\n           window.BOOMR.snippetVersion = 12;\n           window.BOOMR.application = \"storefront-renderer\";\n           window.BOOMR.themeName = \"Themekit template theme\";\n           window.BOOMR.themeVersion = \"1.0.0\";\n           window.BOOMR.shopId = 40508194973;\n           window.BOOMR.themeId = 100847222941;\n           window.BOOMR.renderRegion = \"gcp-europe-west1\";\n           window.BOOMR.url =\n             \"https://ahfshop.com/cdn/shopifycloud/boomerang/shopify-boomerang-1.0.0.min.js\";\n           var where = document.currentScript || document.getElementsByTagName(\"script\")[0];\n           var parentNode = where.parentNode;\n           var promoted = false;\n           var LOADER_TIMEOUT = 3000;\n           function promote() {\n             if (promoted) {\n               return;\n             }\n             var script = document.createElement(\"script\");\n             script.id = \"boomr-scr-as\";\n             script.src = window.BOOMR.url;\n             script.async = true;\n             parentNode.appendChild(script);\n             promoted = true;\n           }\n           function iframeLoader(wasFallback) {\n             promoted = true;\n             var dom, bootstrap, iframe, iframeStyle;\n             var doc = document;\n             var win = window;\n             window.BOOMR.snippetMethod = wasFallback ? \"if\" : \"i\";\n             bootstrap = function(parent, scriptId) {\n               var script = doc.createElement(\"script\");\n               script.id = scriptId || \"boomr-if-as\";\n               script.src = window.BOOMR.url;\n               BOOMR_lstart = new Date().getTime();\n               parent = parent || doc.body;\n               parent.appendChild(script);\n             };\n             if (!window.addEventListener && window.attachEvent && navigator.userAgent.match(/MSIE [67]./)) {\n               window.BOOMR.snippetMethod = \"s\";\n               bootstrap(parentNode, \"boomr-async\");\n               return;\n             }\n             iframe = document.createElement(\"IFRAME\");\n             iframe.src = \"about:blank\";\n             iframe.title = \"\";\n             iframe.role = \"presentation\";\n             iframe.loading = \"eager\";\n             iframeStyle = (iframe.frameElement || iframe).style;\n             iframeStyle.width = 0;\n             iframeStyle.height = 0;\n             iframeStyle.border = 0;\n             iframeStyle.display = \"none\";\n             parentNode.appendChild(iframe);\n             try {\n               win = iframe.contentWindow;\n               doc = win.document.open();\n             } catch (e) {\n               dom = document.domain;\n               iframe.src = \"javascript:var d=document.open();d.domain='\" + dom + \"';void(0);\";\n               win = iframe.contentWindow;\n               doc = win.document.open();\n             }\n             if (dom) {\n               doc._boomrl = function() {\n                 this.domain = dom;\n                 bootstrap();\n               };\n               doc.write(\"<body onload='document._boomrl();'>\");\n             } else {\n               win._boomrl = function() {\n                 bootstrap();\n               };\n               if (win.addEventListener) {\n                 win.addEventListener(\"load\", win._boomrl, false);\n               } else if (win.attachEvent) {\n                 win.attachEvent(\"onload\", win._boomrl);\n               }\n             }\n             doc.close();\n           }\n           var link = document.createElement(\"link\");\n           if (link.relList &&\n             typeof link.relList.supports === \"function\" &&\n             link.relList.supports(\"preload\") &&\n             (\"as\" in link)) {\n             window.BOOMR.snippetMethod = \"p\";\n             link.href = window.BOOMR.url;\n             link.rel = \"preload\";\n             link.as = \"script\";\n             link.addEventListener(\"load\", promote);\n             link.addEventListener(\"error\", function() {\n               iframeLoader(true);\n             });\n             setTimeout(function() {\n               if (!promoted) {\n                 iframeLoader(true);\n               }\n             }, LOADER_TIMEOUT);\n             BOOMR_lstart = new Date().getTime();\n             parentNode.appendChild(link);\n           } else {\n             iframeLoader(false);\n           }\n           function boomerangSaveLoadTime(e) {\n             window.BOOMR_onload = (e && e.timeStamp) || new Date().getTime();\n           }\n           if (window.addEventListener) {\n             window.addEventListener(\"load\", boomerangSaveLoadTime, false);\n           } else if (window.attachEvent) {\n             window.attachEvent(\"onload\", boomerangSaveLoadTime);\n           }\n           if (document.addEventListener) {\n             document.addEventListener(\"onBoomerangLoaded\", function(e) {\n               e.detail.BOOMR.init({\n                 ResourceTiming: {\n                   enabled: true,\n                   trackedResourceTypes: [\"script\", \"img\", \"css\"]\n                 },\n               });\n               e.detail.BOOMR.t_end = new Date().getTime();\n             });\n           } else if (document.attachEvent) {\n             document.attachEvent(\"onpropertychange\", function(e) {\n               if (!e) e=event;\n               if (e.propertyName === \"onBoomerangLoaded\") {\n                 e.detail.BOOMR.init({\n                   ResourceTiming: {\n                     enabled: true,\n                     trackedResourceTypes: [\"script\", \"img\", \"css\"]\n                   },\n                 });\n                 e.detail.BOOMR.t_end = new Date().getTime();\n               }\n             });\n           }\n         })();</script>\n         </meta></meta></meta></meta></link></head>: 5,\n         <li class=\"orangecolor\"><span>Attached back and loose seat cushions</span></li>: 4,\n         <span>Corner-blocked frame</span>: 4,\n         <li class=\"orangecolor\"><span>High-resiliency foam cushions wrapped in thick poly fiber</span></li>: 3,\n         <span>Attached back and loose seat cushions</span>: 3,\n         <li class=\"orangecolor\"><span>Polyester/rayon upholstery</span></li>: 2,\n         <span>High-resiliency foam cushions wrapped in thick poly fiber</span>: 2,\n         <li class=\"orangecolor\"><span>Smooth 360-degree swivel</span></li>: 1,\n         <span>Polyester/rayon upholstery</span>: 1})"
     },
     "execution_count": 175,
     "metadata": {},
     "output_type": "execute_result"
    }
   ],
   "source": [
    "common_ancestors"
   ],
   "metadata": {
    "collapsed": false,
    "ExecuteTime": {
     "end_time": "2024-04-08T20:35:34.025917300Z",
     "start_time": "2024-04-08T20:35:33.861045400Z"
    }
   },
   "id": "8ad67246b670eca1"
  },
  {
   "cell_type": "code",
   "execution_count": null,
   "outputs": [],
   "source": [],
   "metadata": {
    "collapsed": false
   },
   "id": "ac034360f0885396"
  },
  {
   "cell_type": "code",
   "execution_count": 182,
   "outputs": [
    {
     "data": {
      "text/plain": "'/collections/[\\\\w-]+/products/[\\\\w-]+'"
     },
     "execution_count": 182,
     "metadata": {},
     "output_type": "execute_result"
    }
   ],
   "source": [
    "pattern"
   ],
   "metadata": {
    "collapsed": false,
    "ExecuteTime": {
     "end_time": "2024-04-08T22:33:15.887143200Z",
     "start_time": "2024-04-08T22:33:15.545368800Z"
    }
   },
   "id": "b7fb83b12322921f"
  },
  {
   "cell_type": "code",
   "execution_count": 1,
   "outputs": [
    {
     "data": {
      "text/plain": "123"
     },
     "execution_count": 1,
     "metadata": {},
     "output_type": "execute_result"
    }
   ],
   "source": [
    "123"
   ],
   "metadata": {
    "collapsed": false,
    "ExecuteTime": {
     "end_time": "2024-04-14T11:58:27.053349500Z",
     "start_time": "2024-04-14T11:58:27.040807900Z"
    }
   },
   "id": "5638ceb29d437d00"
  },
  {
   "cell_type": "code",
   "execution_count": null,
   "outputs": [],
   "source": [],
   "metadata": {
    "collapsed": false
   },
   "id": "1273d42c3983e3ea"
  },
  {
   "cell_type": "code",
   "execution_count": null,
   "outputs": [],
   "source": [],
   "metadata": {
    "collapsed": false
   },
   "id": "21af24fd2dd38015"
  },
  {
   "cell_type": "code",
   "execution_count": 186,
   "outputs": [
    {
     "data": {
      "text/plain": "'_codelucas_newspaper_'"
     },
     "execution_count": 186,
     "metadata": {},
     "output_type": "execute_result"
    }
   ],
   "source": [
    "link = \"/codelucas/newspaper/\"\n",
    "\n",
    "from pathvalidate import sanitize_filename\n",
    "\n",
    "sanitize_filename(link, replacement_text=\"_\")"
   ],
   "metadata": {
    "collapsed": false,
    "ExecuteTime": {
     "end_time": "2024-04-08T22:58:16.465875100Z",
     "start_time": "2024-04-08T22:58:16.428766800Z"
    }
   },
   "id": "9775cfe8a4e7191e"
  },
  {
   "cell_type": "code",
   "execution_count": null,
   "outputs": [],
   "source": [],
   "metadata": {
    "collapsed": false
   },
   "id": "8a9caaf60af05e8c"
  },
  {
   "cell_type": "code",
   "execution_count": null,
   "outputs": [],
   "source": [],
   "metadata": {
    "collapsed": false
   },
   "id": "119982348f9cb4f6"
  },
  {
   "cell_type": "code",
   "execution_count": null,
   "outputs": [],
   "source": [],
   "metadata": {
    "collapsed": false
   },
   "id": "4b0b4cb987c0c49"
  }
 ],
 "metadata": {
  "kernelspec": {
   "display_name": "Python 3",
   "language": "python",
   "name": "python3"
  },
  "language_info": {
   "codemirror_mode": {
    "name": "ipython",
    "version": 2
   },
   "file_extension": ".py",
   "mimetype": "text/x-python",
   "name": "python",
   "nbconvert_exporter": "python",
   "pygments_lexer": "ipython2",
   "version": "2.7.6"
  }
 },
 "nbformat": 4,
 "nbformat_minor": 5
}
