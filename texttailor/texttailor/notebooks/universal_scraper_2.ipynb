{
 "cells": [
  {
   "cell_type": "code",
   "execution_count": 1,
   "id": "initial_id",
   "metadata": {
    "collapsed": true,
    "ExecuteTime": {
     "end_time": "2024-04-14T15:05:19.807274700Z",
     "start_time": "2024-04-14T15:05:11.917265500Z"
    }
   },
   "outputs": [
    {
     "data": {
      "text/plain": "True"
     },
     "execution_count": 1,
     "metadata": {},
     "output_type": "execute_result"
    }
   ],
   "source": [
    "from mvodolagin_personal_imports import *\n",
    "\n",
    "load_dotenv()"
   ]
  },
  {
   "cell_type": "code",
   "execution_count": 2,
   "outputs": [],
   "source": [
    "from mvodolagin_personal_imports.langchain_stuff import *"
   ],
   "metadata": {
    "collapsed": false,
    "ExecuteTime": {
     "end_time": "2024-04-14T15:05:23.473728200Z",
     "start_time": "2024-04-14T15:05:19.806272600Z"
    }
   },
   "id": "79cdbb5f6f8115ad"
  },
  {
   "cell_type": "code",
   "execution_count": 3,
   "outputs": [],
   "source": [
    "stores_df = pd.read_pickle(r\"E:\\Work\\Personal\\repos\\TextTailor\\resources\\furniture_stores_example.pickle\")\n",
    "stores_df[\"url_root\"] = stores_df[\"website\"].apply(lambda x: x.split(\"://\", 1)[-1].split(\"/\", 1)[0])"
   ],
   "metadata": {
    "collapsed": false,
    "ExecuteTime": {
     "end_time": "2024-04-14T15:05:23.489726300Z",
     "start_time": "2024-04-14T15:05:23.475726500Z"
    }
   },
   "id": "a483d6bf5903fd1b"
  },
  {
   "cell_type": "code",
   "execution_count": 4,
   "outputs": [],
   "source": [
    "locations_count = stores_df[\"name\"].value_counts()\n",
    "locations_count_by_url_root = stores_df.groupby(\"url_root\").size()\n",
    "big_names = locations_count[locations_count >= 5].index\n",
    "big_urls = locations_count_by_url_root[locations_count_by_url_root >= 5].index\n",
    "big_chains = stores_df[(stores_df[\"name\"].isin(big_names)) | (stores_df[\"url_root\"].isin(big_urls))]\n",
    "small_stores = stores_df[(~stores_df[\"name\"].isin(big_names)) & (~stores_df[\"url_root\"].isin(big_urls))]"
   ],
   "metadata": {
    "collapsed": false,
    "ExecuteTime": {
     "end_time": "2024-04-14T15:05:23.524309800Z",
     "start_time": "2024-04-14T15:05:23.486725500Z"
    }
   },
   "id": "c2da6521f03d241"
  },
  {
   "cell_type": "code",
   "execution_count": 5,
   "outputs": [
    {
     "data": {
      "text/plain": "           rating  user_rating_count\ncount  340.000000         340.000000\nmean     4.460882         615.470588\nstd      0.385235        1593.118776\nmin      2.800000           1.000000\n25%      4.300000          45.000000\n50%      4.500000         137.000000\n75%      4.700000         534.250000\nmax      5.000000       17089.000000",
      "text/html": "<div>\n<style scoped>\n    .dataframe tbody tr th:only-of-type {\n        vertical-align: middle;\n    }\n\n    .dataframe tbody tr th {\n        vertical-align: top;\n    }\n\n    .dataframe thead th {\n        text-align: right;\n    }\n</style>\n<table border=\"1\" class=\"dataframe\">\n  <thead>\n    <tr style=\"text-align: right;\">\n      <th></th>\n      <th>rating</th>\n      <th>user_rating_count</th>\n    </tr>\n  </thead>\n  <tbody>\n    <tr>\n      <th>count</th>\n      <td>340.000000</td>\n      <td>340.000000</td>\n    </tr>\n    <tr>\n      <th>mean</th>\n      <td>4.460882</td>\n      <td>615.470588</td>\n    </tr>\n    <tr>\n      <th>std</th>\n      <td>0.385235</td>\n      <td>1593.118776</td>\n    </tr>\n    <tr>\n      <th>min</th>\n      <td>2.800000</td>\n      <td>1.000000</td>\n    </tr>\n    <tr>\n      <th>25%</th>\n      <td>4.300000</td>\n      <td>45.000000</td>\n    </tr>\n    <tr>\n      <th>50%</th>\n      <td>4.500000</td>\n      <td>137.000000</td>\n    </tr>\n    <tr>\n      <th>75%</th>\n      <td>4.700000</td>\n      <td>534.250000</td>\n    </tr>\n    <tr>\n      <th>max</th>\n      <td>5.000000</td>\n      <td>17089.000000</td>\n    </tr>\n  </tbody>\n</table>\n</div>"
     },
     "execution_count": 5,
     "metadata": {},
     "output_type": "execute_result"
    }
   ],
   "source": [
    "small_stores.describe()"
   ],
   "metadata": {
    "collapsed": false,
    "ExecuteTime": {
     "end_time": "2024-04-14T15:05:23.543309700Z",
     "start_time": "2024-04-14T15:05:23.511312200Z"
    }
   },
   "id": "f1a2a898882663d8"
  },
  {
   "cell_type": "code",
   "execution_count": 6,
   "outputs": [],
   "source": [
    "data_dir = Path(\"./root_pages\")"
   ],
   "metadata": {
    "collapsed": false,
    "ExecuteTime": {
     "end_time": "2024-04-14T15:05:23.546310300Z",
     "start_time": "2024-04-14T15:05:23.527309500Z"
    }
   },
   "id": "5ad15f76caf80681"
  },
  {
   "cell_type": "code",
   "execution_count": 19,
   "outputs": [
    {
     "name": "stdout",
     "output_type": "stream",
     "text": [
      "www.simsfurnitureco.com 15\n"
     ]
    }
   ],
   "source": [
    "all_dirs = [fp for fp in data_dir.glob(\"*\") if fp.is_dir()]\n",
    "random.shuffle(all_dirs)\n",
    "\n",
    "for dir_path in all_dirs:\n",
    "    url_root = dir_path.name\n",
    "    print(url_root, len(os.listdir(dir_path)))\n",
    "    break\n"
   ],
   "metadata": {
    "collapsed": false,
    "ExecuteTime": {
     "end_time": "2024-04-14T15:06:24.310499500Z",
     "start_time": "2024-04-14T15:06:24.246140400Z"
    }
   },
   "id": "fa3479acb8b48eb9"
  },
  {
   "cell_type": "code",
   "execution_count": 20,
   "outputs": [
    {
     "name": "stdout",
     "output_type": "stream",
     "text": [
      "{'category': '/collections/.*',\n",
      " 'item': '/collections/[a-z0-9-]+/products/[a-z0-9-]+'}\n"
     ]
    }
   ],
   "source": [
    "patterns = json.load((dir_path / \"patterns.json\").open(encoding=\"utf-8\"))\n",
    "pprint(patterns)\n",
    "category_pattern = re.compile(patterns[\"category\"])\n",
    "item_pattern = re.compile(patterns[\"item\"])"
   ],
   "metadata": {
    "collapsed": false,
    "ExecuteTime": {
     "end_time": "2024-04-14T15:06:25.483225500Z",
     "start_time": "2024-04-14T15:06:25.462906300Z"
    }
   },
   "id": "d7e21717af3a7c1"
  },
  {
   "cell_type": "code",
   "execution_count": 23,
   "outputs": [],
   "source": [
    "# item_pattern = re.compile(r\"/products/\")"
   ],
   "metadata": {
    "collapsed": false,
    "ExecuteTime": {
     "end_time": "2024-04-14T15:07:32.662641200Z",
     "start_time": "2024-04-14T15:07:32.642641400Z"
    }
   },
   "id": "6a3859c5a462006f"
  },
  {
   "cell_type": "code",
   "execution_count": 24,
   "outputs": [
    {
     "name": "stdout",
     "output_type": "stream",
     "text": [
      "https://www.simsfurnitureco.com/collections/buffet True False\n",
      "https://www.simsfurnitureco.com/products/galliden-dining-buffet False True\n",
      "https://www.simsfurnitureco.com/products/maylee-dining-buffet-and-hutch False True\n",
      "https://www.simsfurnitureco.com/collections/coaster-z2-premium True False\n",
      "https://www.simsfurnitureco.com/products/yvette-grey-driftwood-l-shaped-office-desk False True\n",
      "https://www.simsfurnitureco.com/products/zamora-rectangular-3-door-accent-cabinet-natural False True\n",
      "https://www.simsfurnitureco.com/collections/outdoor-seating-set True False\n",
      "https://www.simsfurnitureco.com/products/fynnegan-outdoor-loveseat-with-table-set-of-2 False True\n",
      "https://www.simsfurnitureco.com/products/fynnegan-outdoor-seating-package False True\n",
      "https://www.simsfurnitureco.com/products/grasson-lane-outdoor-sofa-and-loveseat-with-ottoman False True\n",
      "https://www.simsfurnitureco.com/products/mandarin-cape-outdoor-table-and-chairs-set-of-3 False True\n",
      "https://www.simsfurnitureco.com/products/oasis-court-outdoor-sofa-chairs-table-set-set-of-4 False True\n",
      "https://www.simsfurnitureco.com/products/visola-outdoor-dining-table-with-4-chairs False True\n"
     ]
    }
   ],
   "source": [
    "from trafilatura import extract\n",
    "\n",
    "item_html_texts = []\n",
    "\n",
    "for fp in dir_path.glob(\"*.html\"):\n",
    "    # print(fp)\n",
    "    html_text = fp.read_text(encoding=\"utf-8\")\n",
    "    data = extract(html_text, output_format=\"json\")\n",
    "    data = json.loads(data)\n",
    "    partial_url = \"/\" + data[\"source\"].split(\"://\", 1)[-1].split(\"/\", 1)[-1]\n",
    "    print(data[\"source\"], bool(category_pattern.match(partial_url)), bool(item_pattern.match(partial_url)))\n",
    "    if bool(item_pattern.match(partial_url)):\n",
    "        item_html_texts.append(html_text)\n",
    "    # break"
   ],
   "metadata": {
    "collapsed": false,
    "ExecuteTime": {
     "end_time": "2024-04-14T15:07:36.146355Z",
     "start_time": "2024-04-14T15:07:33.487144700Z"
    }
   },
   "id": "61643f08f7790033"
  },
  {
   "cell_type": "code",
   "execution_count": 83,
   "outputs": [],
   "source": [
    "# significant_text_blocks, labels_to_tags = extract_significant_text_blocks(html_text, min_text_length=100)\n",
    "# significant_text_blocks = postfilter_results(significant_text_blocks)"
   ],
   "metadata": {
    "collapsed": false,
    "ExecuteTime": {
     "end_time": "2024-04-14T14:40:59.158993900Z",
     "start_time": "2024-04-14T14:40:59.085993600Z"
    }
   },
   "id": "f65b95bb5b79c62e"
  },
  {
   "cell_type": "code",
   "execution_count": 25,
   "outputs": [
    {
     "data": {
      "text/plain": "10"
     },
     "execution_count": 25,
     "metadata": {},
     "output_type": "execute_result"
    }
   ],
   "source": [
    "len(item_html_texts)"
   ],
   "metadata": {
    "collapsed": false,
    "ExecuteTime": {
     "end_time": "2024-04-14T15:08:04.228873Z",
     "start_time": "2024-04-14T15:08:04.192877600Z"
    }
   },
   "id": "1a74655d2714b1d0"
  },
  {
   "cell_type": "code",
   "execution_count": 76,
   "outputs": [],
   "source": [
    "from bs4 import BeautifulSoup, Tag\n",
    "\n",
    "\n",
    "# def get_full_tag_label(tag):\n",
    "#     # return f\"{tag.name}{'#' + tag.get('id') if tag.get('id') else ''}{'.' + tag.get('class')[0] if tag\n",
    "#     attributes = []\n",
    "#     if tag.get('id'):\n",
    "#         attributes.append(f\"id='{tag['id']}'\")\n",
    "#     if tag.get('class'):\n",
    "#         attributes.append(f\"class='{' '.join(tag['class'])}'\")\n",
    "# \n",
    "#     attr_string = \" \".join(attributes)\n",
    "#     full_label = f\"<{tag.name} {attr_string}>\".strip()\n",
    "#     return full_label\n",
    "\n",
    "\n",
    "def determine_tag_location(tag):\n",
    "    # Helper function to create a CSS selector for a given tag\n",
    "    def generate_css_selector(tag):\n",
    "        selector = tag.name\n",
    "        if tag.attrs:\n",
    "            if 'id' in tag.attrs:\n",
    "                selector += f\"#{tag['id']}\"\n",
    "            elif 'class' in tag.attrs:\n",
    "                # Join all classes into one selector\n",
    "                classes = '.'.join(tag['class'])\n",
    "                selector += f\".{classes}\"\n",
    "        return selector\n",
    "\n",
    "    # Helper function to create an XPath for a given tag\n",
    "    def generate_xpath(tag):\n",
    "        path = []\n",
    "        current = tag\n",
    "        while current.parent and isinstance(current.parent, Tag):\n",
    "            siblings = [t for t in current.parent.children if isinstance(t, Tag) and t.name == current.name]\n",
    "            count = 1 + siblings.index(current)\n",
    "            path.append(f\"{current.name}[{count}]\")\n",
    "            current = current.parent\n",
    "        return '/' + '/'.join(reversed(path))\n",
    "\n",
    "    result = {\n",
    "        \"css_selector\": generate_css_selector(tag),\n",
    "        \"xpath\": generate_xpath(tag),\n",
    "    }\n",
    "    return result\n",
    "\n",
    "\n",
    "def is_text_content_allowed(s):\n",
    "    if s.endswith(\"...\"):\n",
    "        return False\n",
    "    if \"...\\n\" in s:\n",
    "        return False\n",
    "    if len(s) < 10:\n",
    "        return False\n",
    "    return True\n",
    "\n",
    "\n",
    "def extract_unique_content(html_pages):\n",
    "    texts_per_page = []\n",
    "    target_tags = ['title', 'h1', 'h2', 'h3', 'p', 'span', 'a', 'div']  # ToDo: check if something's missing \n",
    "\n",
    "    # Process each page separately\n",
    "    for html in html_pages:\n",
    "        soup = BeautifulSoup(html, 'html5lib')\n",
    "        \n",
    "        page_texts = []\n",
    "\n",
    "        for tag in soup.find_all(target_tags):\n",
    "            text_content = trim_extra_whitespace(tag.get_text(strip=False))\n",
    "            page_texts.append(text_content)\n",
    "        \n",
    "        page_texts = list(set(page_texts))\n",
    "        texts_per_page.append(page_texts)\n",
    "    \n",
    "    all_texts = sum(texts_per_page, [])\n",
    "    all_texts_counter = Counter(all_texts)\n",
    "    \n",
    "    threshold = int(0.7 * len(html_pages))\n",
    "    \n",
    "    common_texts = [k for k, v in all_texts_counter.items() if v >= threshold]\n",
    "    \n",
    "    unique_texts_per_page = defaultdict(list)\n",
    "    \n",
    "    for i, html in enumerate(html_pages):\n",
    "        soup = BeautifulSoup(html, 'html5lib')\n",
    "        \n",
    "        for tag in soup.find_all(target_tags):\n",
    "            text_content = trim_extra_whitespace(tag.get_text(strip=False))\n",
    "            if text_content in common_texts:\n",
    "                continue\n",
    "            if not is_text_content_allowed(text_content):\n",
    "                continue\n",
    "            data = determine_tag_location(tag)\n",
    "            data[\"text\"] = text_content\n",
    "            unique_texts_per_page[i].append(data)            \n",
    "    \n",
    "    return unique_texts_per_page, all_texts_counter\n",
    "    \n"
   ],
   "metadata": {
    "collapsed": false,
    "ExecuteTime": {
     "end_time": "2024-04-14T21:04:19.024076800Z",
     "start_time": "2024-04-14T21:04:19.007664800Z"
    }
   },
   "id": "a5334166f1ca9d78"
  },
  {
   "cell_type": "code",
   "execution_count": 77,
   "outputs": [],
   "source": [
    "unique_content, all_texts_counter = extract_unique_content(item_html_texts)"
   ],
   "metadata": {
    "collapsed": false,
    "ExecuteTime": {
     "end_time": "2024-04-14T21:04:26.208590900Z",
     "start_time": "2024-04-14T21:04:20.140322400Z"
    }
   },
   "id": "b140a46a6b4e8200"
  },
  {
   "cell_type": "code",
   "execution_count": 75,
   "outputs": [
    {
     "data": {
      "text/plain": "\"This dining buffet brings a rustic vibe to urban contemporary design. It’s a modern approach to natural beauty, with an aged black finish defining the piece. And the buffet's color palette is stunningly simple, allowing it to coordinate seamlessly with your existing decor.\\n\\nProduct Features\\nAdjustable\\n\\nMore About This Product\\n\\nWeight & Dimensions\\n\\nDimensions\\n\\nFull Dimension\\n54W x 18D x 40H\\n\\nWeight\\n\\nWeight\\n59.4lbs.\""
     },
     "execution_count": 75,
     "metadata": {},
     "output_type": "execute_result"
    }
   ],
   "source": [
    "example_text"
   ],
   "metadata": {
    "collapsed": false,
    "ExecuteTime": {
     "end_time": "2024-04-14T21:02:40.192741700Z",
     "start_time": "2024-04-14T21:02:40.157714300Z"
    }
   },
   "id": "6fb14e9a9431b2a9"
  },
  {
   "cell_type": "code",
   "execution_count": 73,
   "outputs": [],
   "source": [
    "example_text = unique_content[0][16][\"text\"]\n",
    "\n",
    "all_css_selectors = [d[\"css_selector\"] for d in unique_content[0] if d[\"text\"] == example_text]"
   ],
   "metadata": {
    "collapsed": false,
    "ExecuteTime": {
     "end_time": "2024-04-14T21:02:09.346121700Z",
     "start_time": "2024-04-14T21:02:09.302868900Z"
    }
   },
   "id": "19a5e54707a959b7"
  },
  {
   "cell_type": "code",
   "execution_count": 78,
   "outputs": [],
   "source": [
    "description_css_selectors = [d[\"css_selector\"] for d in unique_content[0] if \"description\" in d[\"css_selector\"].lower()]"
   ],
   "metadata": {
    "collapsed": false,
    "ExecuteTime": {
     "end_time": "2024-04-14T21:05:08.101691900Z",
     "start_time": "2024-04-14T21:05:08.073576600Z"
    }
   },
   "id": "6d78d524098bcfdc"
  },
  {
   "cell_type": "code",
   "execution_count": 79,
   "outputs": [
    {
     "data": {
      "text/plain": "['div.product-description.rte']"
     },
     "execution_count": 79,
     "metadata": {},
     "output_type": "execute_result"
    }
   ],
   "source": [
    "description_css_selectors"
   ],
   "metadata": {
    "collapsed": false,
    "ExecuteTime": {
     "end_time": "2024-04-14T21:05:10.961006Z",
     "start_time": "2024-04-14T21:05:10.938905400Z"
    }
   },
   "id": "bc7f2113e5e6a08d"
  },
  {
   "cell_type": "code",
   "execution_count": 80,
   "outputs": [],
   "source": [
    "soup = BeautifulSoup(item_html_texts[4], 'html5lib')"
   ],
   "metadata": {
    "collapsed": false,
    "ExecuteTime": {
     "end_time": "2024-04-14T21:05:50.654495300Z",
     "start_time": "2024-04-14T21:05:50.399165600Z"
    }
   },
   "id": "86f4218ffdcc907b"
  },
  {
   "cell_type": "code",
   "execution_count": 86,
   "outputs": [
    {
     "data": {
      "text/plain": "'With its sleek lines, gorgeous driftwood tone and cushioned comfort, this 2-piece outdoor loveseat and table set can make your outdoor space feel more like an upscale resort. Made for looks and longevity, this high-quality ensemble is built from eucalyptus wood treated to a deluxe embossed finish to brave the elements. The thick, all-weather seat cushion and back pillow are wrapped in a delightfully neutral Nuvella® fabric that’s a breeze to clean. A pair of throw pillows add a coastal cool touch.More About This ProductWeight & DimensionsDimensionsFull Dimension53W x 30D x 33HWeightWeight87lbs.'"
     },
     "execution_count": 86,
     "metadata": {},
     "output_type": "execute_result"
    }
   ],
   "source": [
    "soup.select(description_css_selectors[0])[0].get_text(strip=True)"
   ],
   "metadata": {
    "collapsed": false,
    "ExecuteTime": {
     "end_time": "2024-04-14T21:06:27.108838500Z",
     "start_time": "2024-04-14T21:06:27.057299800Z"
    }
   },
   "id": "54303365437350e6"
  },
  {
   "cell_type": "code",
   "execution_count": 88,
   "outputs": [
    {
     "name": "stdout",
     "output_type": "stream",
     "text": [
      "With its sleek lines, gorgeous driftwood tone and cushioned comfort, this 2-piece outdoor loveseat and table set can make your outdoor space feel more like an upscale resort. Made for looks and longevity, this high-quality ensemble is built from eucalyptus wood treated to a deluxe embossed finish to brave the elements.\n"
     ]
    }
   ],
   "source": [
    "# check out meta \"description\"\n",
    "\n",
    "meta_tags = soup.find_all(\"meta\", attrs={\"name\": \"description\"})\n",
    "if meta_tags:\n",
    "    meta_description = meta_tags[0][\"content\"]\n",
    "    print(meta_description)\n"
   ],
   "metadata": {
    "collapsed": false,
    "ExecuteTime": {
     "end_time": "2024-04-14T21:10:20.724040700Z",
     "start_time": "2024-04-14T21:10:20.697960400Z"
    }
   },
   "id": "f77da06d0693da72"
  },
  {
   "cell_type": "code",
   "execution_count": 100,
   "outputs": [
    {
     "data": {
      "text/plain": "Counter({20: 3, 30: 3, 10: 2})"
     },
     "execution_count": 100,
     "metadata": {},
     "output_type": "execute_result"
    }
   ],
   "source": [
    "winner_candidates = Counter([10, 10, 20, 20, 20, 30, 30, 30])\n",
    "winner_candidates"
   ],
   "metadata": {
    "collapsed": false,
    "ExecuteTime": {
     "end_time": "2024-04-14T21:41:07.048321600Z",
     "start_time": "2024-04-14T21:41:06.987799900Z"
    }
   },
   "id": "b90089909ee81c08"
  },
  {
   "cell_type": "code",
   "execution_count": 102,
   "outputs": [
    {
     "data": {
      "text/plain": "[20, 30]"
     },
     "execution_count": 102,
     "metadata": {},
     "output_type": "execute_result"
    }
   ],
   "source": [
    "# all first places\n",
    "\n",
    "max_value = max(winner_candidates.values())\n",
    "winners = [k for k, v in winner_candidates.items() if v == max_value]\n",
    "winners"
   ],
   "metadata": {
    "collapsed": false,
    "ExecuteTime": {
     "end_time": "2024-04-14T21:41:28.931441300Z",
     "start_time": "2024-04-14T21:41:28.858477300Z"
    }
   },
   "id": "a9b312d96e75e56e"
  },
  {
   "cell_type": "code",
   "execution_count": null,
   "outputs": [],
   "source": [],
   "metadata": {
    "collapsed": false
   },
   "id": "a9e73b776e9309a5"
  },
  {
   "cell_type": "code",
   "execution_count": null,
   "outputs": [],
   "source": [],
   "metadata": {
    "collapsed": false
   },
   "id": "203fd11bde02c1b2"
  },
  {
   "cell_type": "code",
   "execution_count": 33,
   "outputs": [
    {
     "data": {
      "text/plain": "('p',\n 'This dining table expertly refines the raw beauty of wood, bringing a rustic vibe to urban contemporary design. It creates an organically beautiful...')"
     },
     "execution_count": 33,
     "metadata": {},
     "output_type": "execute_result"
    }
   ],
   "source": [
    "unique_content[44]"
   ],
   "metadata": {
    "collapsed": false,
    "ExecuteTime": {
     "end_time": "2024-04-14T18:13:15.938834600Z",
     "start_time": "2024-04-14T18:13:15.915722900Z"
    }
   },
   "id": "a5d163adb1e45328"
  },
  {
   "cell_type": "code",
   "execution_count": 36,
   "outputs": [],
   "source": [
    "clipboard_copy(data[\"source\"])"
   ],
   "metadata": {
    "collapsed": false,
    "ExecuteTime": {
     "end_time": "2024-04-14T18:14:12.615234100Z",
     "start_time": "2024-04-14T18:14:12.544234Z"
    }
   },
   "id": "a853f32978c6276c"
  },
  {
   "cell_type": "code",
   "execution_count": 47,
   "outputs": [
    {
     "data": {
      "text/plain": "[('div',\n  '\\n  {\\n    \"settings\": {\\n      \"cart_redirection\": false,\\n      \"layout\": \"layout--two-col\",\\n      \"thumbnail_position\": \"below\",\\n      \"gallery_video_autoplay\": true,\\n      \"gallery_video_looping\": true,\\n      \"hover_zoom\": \"disabled\",\\n      \"click_to_zoom\": \"always\",\\n      \"money_format\": \"${{amount}}\",\\n      \"swatches_enable\": true\\n    },\\n    \"context\": {\\n      \"product_available\": \"Add to cart\",\\n      \"product_unavailable\": \"Sold out\"\\n    },\\n    \"product\": {\"id\":8517193957606,\"title\":\"Visola Outdoor Dining Table with 4 Chairs\",\"handle\":\"visola-outdoor-dining-table-with-4-chairs\",\"description\":\"It’s the dawn of a new day for gray. Embrace the style trend with this outdoor dining set. Each piece is crafted of HDPE material, combining the exceptional durability and weather resistance you need with the â€œwood lookâ€\\x9d you love. The rectangular table and comfortably cushioned chairs take alfresco living to a whole new level. A slatted table top infuses a plank-style, farmhouse-inspired touch and naturally sheds rainwater. Rest assured, the thick seat and back cushions on the chair are wrapped in Nuvella® high-performance fabric that’s fade-resistant, stain-resistant and a breeze to clean.\\\\n\\\\u003cbr\\\\u003e\\\\u003cbr\\\\u003e\\\\n\\\\u003ch3\\\\u003eMore About This Product\\\\u003c\\\\/h3\\\\u003e\\\\n\\\\u003cbr\\\\u003e\\\\n\\\\u003cdiv class=\\\\\"container-desc\\\\\"\\\\u003e\\\\n    \\\\u003ch2 class=\\\\\"kas58-header\\\\\"\\\\u003eWeight\\\\u003c\\\\/h2\\\\u003e\\\\n    \\\\u003cdetails\\\\u003e\\\\n        \\\\u003csummary\\\\u003eWeight\\\\u003c\\\\/summary\\\\u003e\\\\n        \\\\u003ctable class=\\\\\"kas58-table\\\\\"\\\\u003e\\\\n            \\\\u003ctbody\\\\u003e\\\\n                \\\\u003ctr class=\\\\\"kas58-row\\\\\"\\\\u003e\\\\n                    \\\\u003ctd class=\\\\\"kas58-cell-header\\\\\"\\\\u003eWeight\\\\u003c\\\\/td\\\\u003e\\\\n                    \\\\u003ctd class=\\\\\"kas58-cell\\\\\"\\\\u003e\\\\u003cp\\\\u003e0.0lbs.\\\\u003c\\\\/p\\\\u003e\\\\u003c\\\\/td\\\\u003e\\\\n                \\\\u003c\\\\/tr\\\\u003e\\\\n            \\\\u003c\\\\/tbody\\\\u003e\\\\n        \\\\u003c\\\\/table\\\\u003e\\\\n    \\\\u003c\\\\/details\\\\u003e\\\\n\\\\u003c\\\\/div\\\\u003e\",\"published_at\":\"2024-04-05T17:32:15-04:00\",\"created_at\":\"2024-04-05T17:32:15-04:00\",\"vendor\":\"Ashley Furniture\",\"type\":\"Outdoor Seating Set\",\"tags\":[\"ashley-furniture\",\"Brand_Ashley\",\"Collection_Visola\",\"Color_Gray\",\"outdoor-seating-set\",\"product-video_not-available\",\"Production_Paused\",\"Shipping_Not Express\",\"top-products_consumer-choice\",\"Type_Outdoor Dining Table\"],\"price\":240999,\"price_min\":240999,\"price_max\":240999,\"available\":true,\"price_varies\":false,\"compare_at_price\":313999,\"compare_at_price_min\":313999,\"compare_at_price_max\":313999,\"compare_at_price_varies\":false,\"variants\":[{\"id\":44565571895526,\"title\":\"Default Title\",\"option1\":\"Default Title\",\"option2\":null,\"option3\":null,\"sku\":\"PKG011416\",\"requires_shipping\":true,\"taxable\":true,\"featured_image\":{\"id\":40789590638822,\"product_id\":8517193957606,\"position\":1,\"created_at\":\"2024-04-05T17:32:15-04:00\",\"updated_at\":\"2024-04-05T17:32:15-04:00\",\"alt\":\"Visola Outdoor Dining Table with 4 Chairs image\",\"width\":1145,\"height\":525,\"src\":\"\\\\/\\\\/www.simsfurnitureco.com\\\\/cdn\\\\/shop\\\\/files\\\\/P802-625-601A_4_-SW-P1-KO.jpg?v=1712352735\",\"variant_ids\":[44565571895526]},\"available\":true,\"name\":\"Visola Outdoor Dining Table with 4 Chairs\",\"public_title\":null,\"options\":[\"Default Title\"],\"price\":240999,\"weight\":0,\"compare_at_price\":313999,\"inventory_management\":null,\"barcode\":null,\"featured_media\":{\"alt\":\"Visola Outdoor Dining Table with 4 Chairs image\",\"id\":33419683660006,\"position\":1,\"preview_image\":{\"aspect_ratio\":2.181,\"height\":525,\"width\":1145,\"src\":\"\\\\/\\\\/www.simsfurnitureco.com\\\\/cdn\\\\/shop\\\\/files\\\\/P802-625-601A_4_-SW-P1-KO.jpg?v=1712352735\"}},\"requires_selling_plan\":false,\"selling_plan_allocations\":[]}],\"images\":[\"\\\\/\\\\/www.simsfurnitureco.com\\\\/cdn\\\\/shop\\\\/files\\\\/P802-625-601A_4_-SW-P1-KO.jpg?v=1712352735\",\"\\\\/\\\\/www.simsfurnitureco.com\\\\/cdn\\\\/shop\\\\/files\\\\/P802-625-601A_284_29.jpg?v=1712352738\",\"\\\\/\\\\/www.simsfurnitureco.com\\\\/cdn\\\\/shop\\\\/files\\\\/P802-625-601A_284_29-SW-P1-KO.jpg?v=1712352740\",\"\\\\/\\\\/www.simsfurnitureco.com\\\\/cdn\\\\/shop\\\\/files\\\\/P802-625-ANGLE-SW.jpg?v=1712352742\",\"\\\\/\\\\/www.simsfurnitureco.com\\\\/cdn\\\\/shop\\\\/files\\\\/P802-625-HEAD-ON-SW.jpg?v=1712352743\",\"\\\\/\\\\/www.simsfurnitureco.com\\\\/cdn\\\\/shop\\\\/files\\\\/P802-625-SIDE-SW.jpg?v=1712352744\",\"\\\\/\\\\/www.simsfurnitureco.com\\\\/cdn\\\\/shop\\\\/files\\\\/P802-601A-ANGLE-SW.jpg?v=1712352747\",\"\\\\/\\\\/www.simsfurnitureco.com\\\\/cdn\\\\/shop\\\\/files\\\\/P802-601A-HEAD-ON-SW.jpg?v=1712352748\",\"\\\\/\\\\/www.simsfurnitureco.com\\\\/cdn\\\\/shop\\\\/files\\\\/P802-601A-BACK-SW.jpg?v=1712352750\",\"\\\\/\\\\/www.simsfurnitureco.com\\\\/cdn\\\\/shop\\\\/files\\\\/P802-601A-SIDE-SW.jpg?v=1712352751\",\"\\\\/\\\\/www.simsfurnitureco.com\\\\/cdn\\\\/shop\\\\/files\\\\/P802-625-DETAIL_f4581e2c-d1df-4a40-908d-ebf90acc57b7.jpg?v=1712352753\",\"\\\\/\\\\/www.simsfurnitureco.com\\\\/cdn\\\\/shop\\\\/files\\\\/P802-601A-DETAIL_06d81257-a057-4d94-a613-735fedf0ef4a.jpg?v=1712352754\",\"\\\\/\\\\/www.simsfurnitureco.com\\\\/cdn\\\\/shop\\\\/files\\\\/P802-625-TOP-SW.jpg?v=1712352756\",\"\\\\/\\\\/www.simsfurnitureco.com\\\\/cdn\\\\/shop\\\\/files\\\\/P802-625-ANGLE-SW-P1-KO_e877ab31-a813-4951-b005-c07fe6b32de9.jpg?v=1712352759\",\"\\\\/\\\\/www.simsfurnitureco.com\\\\/cdn\\\\/shop\\\\/files\\\\/P802-625-MOOD-V-A_2e84b389-bf82-4bea-8c1b-f55cab2c8d6f.jpg?v=1712352760\",\"\\\\/\\\\/www.simsfurnitureco.com\\\\/cdn\\\\/shop\\\\/files\\\\/P802-625-ANGLE-SW_BIG_e771f8af-cf1b-45ac-a7fb-e7a3083f23e5.jpg?v=1712352762\",\"\\\\/\\\\/www.simsfurnitureco.com\\\\/cdn\\\\/shop\\\\/files\\\\/P802-625-FINISH-500_5b0b0a70-033b-4273-853b-c988f5c3eefd.jpg?v=1712352764\"],\"featured_image\":\"\\\\/\\\\/www.simsfurnitureco.com\\\\/cdn\\\\/shop\\\\/files\\\\/P802-625-601A_4_-SW-P1-KO.jpg?v=1712352735\",\"options\":[\"Title\"],\"media\":[{\"alt\":\"Visola Outdoor Dining Table with 4 Chairs image\",\"id\":33419683660006,\"position\":1,\"preview_image\":{\"aspect_ratio\":2.181,\"height\":525,\"width\":1145,\"src\":\"\\\\/\\\\/www.simsfurnitureco.com\\\\/cdn\\\\/shop\\\\/files\\\\/P802-625-601A_4_-SW-P1-KO.jpg?v=1712352735\"},\"aspect_ratio\":2.181,\"height\":525,\"media_type\":\"image\",\"src\":\"\\\\/\\\\/www.simsfurnitureco.com\\\\/cdn\\\\/shop\\\\/files\\\\/P802-625-601A_4_-SW-P1-KO.jpg?v=1712352735\",\"width\":1145},{\"alt\":null,\"id\":33419683758310,\"position\":2,\"preview_image\":{\"aspect_ratio\":1.5,\"height\":1440,\"width\":2160,\"src\":\"\\\\/\\\\/www.simsfurnitureco.com\\\\/cdn\\\\/shop\\\\/files\\\\/P802-625-601A_284_29.jpg?v=1712352738\"},\"aspect_ratio\":1.5,\"height\":1440,\"media_type\":\"image\",\"src\":\"\\\\/\\\\/www.simsfurnitureco.com\\\\/cdn\\\\/shop\\\\/files\\\\/P802-625-601A_284_29.jpg?v=1712352738\",\"width\":2160},{\"alt\":null,\"id\":33419683856614,\"position\":3,\"preview_image\":{\"aspect_ratio\":2.181,\"height\":525,\"width\":1145,\"src\":\"\\\\/\\\\/www.simsfurnitureco.com\\\\/cdn\\\\/shop\\\\/files\\\\/P802-625-601A_284_29-SW-P1-KO.jpg?v=1712352740\"},\"aspect_ratio\":2.181,\"height\":525,\"media_type\":\"image\",\"src\":\"\\\\/\\\\/www.simsfurnitureco.com\\\\/cdn\\\\/shop\\\\/files\\\\/P802-625-601A_284_29-SW-P1-KO.jpg?v=1712352740\",\"width\":1145},{\"alt\":null,\"id\":33419683889382,\"position\":4,\"preview_image\":{\"aspect_ratio\":2.058,\"height\":1137,\"width\":2340,\"src\":\"\\\\/\\\\/www.simsfurnitureco.com\\\\/cdn\\\\/shop\\\\/files\\\\/P802-625-ANGLE-SW.jpg?v=1712352742\"},\"aspect_ratio\":2.058,\"height\":1137,\"media_type\":\"image\",\"src\":\"\\\\/\\\\/www.simsfurnitureco.com\\\\/cdn\\\\/shop\\\\/files\\\\/P802-625-ANGLE-SW.jpg?v=1712352742\",\"width\":2340},{\"alt\":null,\"id\":33419683954918,\"position\":5,\"preview_image\":{\"aspect_ratio\":2.138,\"height\":1036,\"width\":2215,\"src\":\"\\\\/\\\\/www.simsfurnitureco.com\\\\/cdn\\\\/shop\\\\/files\\\\/P802-625-HEAD-ON-SW.jpg?v=1712352743\"},\"aspect_ratio\":2.138,\"height\":1036,\"media_type\":\"image\",\"src\":\"\\\\/\\\\/www.simsfurnitureco.com\\\\/cdn\\\\/shop\\\\/files\\\\/P802-625-HEAD-ON-SW.jpg?v=1712352743\",\"width\":2215},{\"alt\":null,\"id\":33419684020454,\"position\":6,\"preview_image\":{\"aspect_ratio\":1.285,\"height\":1146,\"width\":1473,\"src\":\"\\\\/\\\\/www.simsfurnitureco.com\\\\/cdn\\\\/shop\\\\/files\\\\/P802-625-SIDE-SW.jpg?v=1712352744\"},\"aspect_ratio\":1.285,\"height\":1146,\"media_type\":\"image\",\"src\":\"\\\\/\\\\/www.simsfurnitureco.com\\\\/cdn\\\\/shop\\\\/files\\\\/P802-625-SIDE-SW.jpg?v=1712352744\",\"width\":1473},{\"alt\":null,\"id\":33419684118758,\"position\":7,\"preview_image\":{\"aspect_ratio\":0.83,\"height\":1179,\"width\":978,\"src\":\"\\\\/\\\\/www.simsfurnitureco.com\\\\/cdn\\\\/shop\\\\/files\\\\/P802-601A-ANGLE-SW.jpg?v=1712352747\"},\"aspect_ratio\":0.83,\"height\":1179,\"media_type\":\"image\",\"src\":\"\\\\/\\\\/www.simsfurnitureco.com\\\\/cdn\\\\/shop\\\\/files\\\\/P802-601A-ANGLE-SW.jpg?v=1712352747\",\"width\":978},{\"alt\":null,\"id\":33419684217062,\"position\":8,\"preview_image\":{\"aspect_ratio\":0.702,\"height\":1166,\"width\":819,\"src\":\"\\\\/\\\\/www.simsfurnitureco.com\\\\/cdn\\\\/shop\\\\/files\\\\/P802-601A-HEAD-ON-SW.jpg?v=1712352748\"},\"aspect_ratio\":0.702,\"height\":1166,\"media_type\":\"image\",\"src\":\"\\\\/\\\\/www.simsfurnitureco.com\\\\/cdn\\\\/shop\\\\/files\\\\/P802-601A-HEAD-ON-SW.jpg?v=1712352748\",\"width\":819},{\"alt\":null,\"id\":33419684282598,\"position\":9,\"preview_image\":{\"aspect_ratio\":0.878,\"height\":1152,\"width\":1011,\"src\":\"\\\\/\\\\/www.simsfurnitureco.com\\\\/cdn\\\\/shop\\\\/files\\\\/P802-601A-BACK-SW.jpg?v=1712352750\"},\"aspect_ratio\":0.878,\"height\":1152,\"media_type\":\"image\",\"src\":\"\\\\/\\\\/www.simsfurnitureco.com\\\\/cdn\\\\/shop\\\\/files\\\\/P802-601A-BACK-SW.jpg?v=1712352750\",\"width\":1011},{\"alt\":null,\"id\":33419684348134,\"position\":10,\"preview_image\":{\"aspect_ratio\":0.736,\"height\":1161,\"width\":855,\"src\":\"\\\\/\\\\/www.simsfurnitureco.com\\\\/cdn\\\\/shop\\\\/files\\\\/P802-601A-SIDE-SW.jpg?v=1712352751\"},\"aspect_ratio\":0.736,\"height\":1161,\"media_type\":\"image\",\"src\":\"\\\\/\\\\/www.simsfurnitureco.com\\\\/cdn\\\\/shop\\\\/files\\\\/P802-601A-SIDE-SW.jpg?v=1712352751\",\"width\":855},{\"alt\":null,\"id\":33419684413670,\"position\":11,\"preview_image\":{\"aspect_ratio\":1.5,\"height\":1440,\"width\":2160,\"src\":\"\\\\/\\\\/www.simsfurnitureco.com\\\\/cdn\\\\/shop\\\\/files\\\\/P802-625-DETAIL_f4581e2c-d1df-4a40-908d-ebf90acc57b7.jpg?v=1712352753\"},\"aspect_ratio\":1.5,\"height\":1440,\"media_type\":\"image\",\"src\":\"\\\\/\\\\/www.simsfurnitureco.com\\\\/cdn\\\\/shop\\\\/files\\\\/P802-625-DETAIL_f4581e2c-d1df-4a40-908d-ebf90acc57b7.jpg?v=1712352753\",\"width\":2160},{\"alt\":null,\"id\":33419684479206,\"position\":12,\"preview_image\":{\"aspect_ratio\":0.667,\"height\":2160,\"width\":1440,\"src\":\"\\\\/\\\\/www.simsfurnitureco.com\\\\/cdn\\\\/shop\\\\/files\\\\/P802-601A-DETAIL_06d81257-a057-4d94-a613-735fedf0ef4a.jpg?v=1712352754\"},\"aspect_ratio\":0.667,\"height\":2160,\"media_type\":\"image\",\"src\":\"\\\\/\\\\/www.simsfurnitureco.com\\\\/cdn\\\\/shop\\\\/files\\\\/P802-601A-DETAIL_06d81257-a057-4d94-a613-735fedf0ef4a.jpg?v=1712352754\",\"width\":1440},{\"alt\":null,\"id\":33419684544742,\"position\":13,\"preview_image\":{\"aspect_ratio\":1.72,\"height\":1430,\"width\":2460,\"src\":\"\\\\/\\\\/www.simsfurnitureco.com\\\\/cdn\\\\/shop\\\\/files\\\\/P802-625-TOP-SW.jpg?v=1712352756\"},\"aspect_ratio\":1.72,\"height\":1430,\"media_type\":\"image\",\"src\":\"\\\\/\\\\/www.simsfurnitureco.com\\\\/cdn\\\\/shop\\\\/files\\\\/P802-625-TOP-SW.jpg?v=1712352756\",\"width\":2460},{\"alt\":null,\"id\":33419684643046,\"position\":14,\"preview_image\":{\"aspect_ratio\":2.067,\"height\":525,\"width\":1085,\"src\":\"\\\\/\\\\/www.simsfurnitureco.com\\\\/cdn\\\\/shop\\\\/files\\\\/P802-625-ANGLE-SW-P1-KO_e877ab31-a813-4951-b005-c07fe6b32de9.jpg?v=1712352759\"},\"aspect_ratio\":2.067,\"height\":525,\"media_type\":\"image\",\"src\":\"\\\\/\\\\/www.simsfurnitureco.com\\\\/cdn\\\\/shop\\\\/files\\\\/P802-625-ANGLE-SW-P1-KO_e877ab31-a813-4951-b005-c07fe6b32de9.jpg?v=1712352759\",\"width\":1085},{\"alt\":null,\"id\":33419684774118,\"position\":15,\"preview_image\":{\"aspect_ratio\":0.667,\"height\":2160,\"width\":1440,\"src\":\"\\\\/\\\\/www.simsfurnitureco.com\\\\/cdn\\\\/shop\\\\/files\\\\/P802-625-MOOD-V-A_2e84b389-bf82-4bea-8c1b-f55cab2c8d6f.jpg?v=1712352760\"},\"aspect_ratio\":0.667,\"height\":2160,\"media_type\":\"image\",\"src\":\"\\\\/\\\\/www.simsfurnitureco.com\\\\/cdn\\\\/shop\\\\/files\\\\/P802-625-MOOD-V-A_2e84b389-bf82-4bea-8c1b-f55cab2c8d6f.jpg?v=1712352760\",\"width\":1440},{\"alt\":null,\"id\":33419684839654,\"position\":16,\"preview_image\":{\"aspect_ratio\":2.059,\"height\":170,\"width\":350,\"src\":\"\\\\/\\\\/www.simsfurnitureco.com\\\\/cdn\\\\/shop\\\\/files\\\\/P802-625-ANGLE-SW_BIG_e771f8af-cf1b-45ac-a7fb-e7a3083f23e5.jpg?v=1712352762\"},\"aspect_ratio\":2.059,\"height\":170,\"media_type\":\"image\",\"src\":\"\\\\/\\\\/www.simsfurnitureco.com\\\\/cdn\\\\/shop\\\\/files\\\\/P802-625-ANGLE-SW_BIG_e771f8af-cf1b-45ac-a7fb-e7a3083f23e5.jpg?v=1712352762\",\"width\":350},{\"alt\":null,\"id\":33419684905190,\"position\":17,\"preview_image\":{\"aspect_ratio\":1.0,\"height\":240,\"width\":240,\"src\":\"\\\\/\\\\/www.simsfurnitureco.com\\\\/cdn\\\\/shop\\\\/files\\\\/P802-625-FINISH-500_5b0b0a70-033b-4273-853b-c988f5c3eefd.jpg?v=1712352764\"},\"aspect_ratio\":1.0,\"height\":240,\"media_type\":\"image\",\"src\":\"\\\\/\\\\/www.simsfurnitureco.com\\\\/cdn\\\\/shop\\\\/files\\\\/P802-625-FINISH-500_5b0b0a70-033b-4273-853b-c988f5c3eefd.jpg?v=1712352764\",\"width\":240}],\"requires_selling_plan\":false,\"selling_plan_groups\":[],\"content\":\"It’s the dawn of a new day for gray. Embrace the style trend with this outdoor dining set. Each piece is crafted of HDPE material, combining the exceptional durability and weather resistance you need with the â€œwood lookâ€\\x9d you love. The rectangular table and comfortably cushioned chairs take alfresco living to a whole new level. A slatted table top infuses a plank-style, farmhouse-inspired touch and naturally sheds rainwater. Rest assured, the thick seat and back cushions on the chair are wrapped in Nuvella® high-performance fabric that’s fade-resistant, stain-resistant and a breeze to clean.\\\\n\\\\u003cbr\\\\u003e\\\\u003cbr\\\\u003e\\\\n\\\\u003ch3\\\\u003eMore About This Product\\\\u003c\\\\/h3\\\\u003e\\\\n\\\\u003cbr\\\\u003e\\\\n\\\\u003cdiv class=\\\\\"container-desc\\\\\"\\\\u003e\\\\n    \\\\u003ch2 class=\\\\\"kas58-header\\\\\"\\\\u003eWeight\\\\u003c\\\\/h2\\\\u003e\\\\n    \\\\u003cdetails\\\\u003e\\\\n        \\\\u003csummary\\\\u003eWeight\\\\u003c\\\\/summary\\\\u003e\\\\n        \\\\u003ctable class=\\\\\"kas58-table\\\\\"\\\\u003e\\\\n            \\\\u003ctbody\\\\u003e\\\\n                \\\\u003ctr class=\\\\\"kas58-row\\\\\"\\\\u003e\\\\n                    \\\\u003ctd class=\\\\\"kas58-cell-header\\\\\"\\\\u003eWeight\\\\u003c\\\\/td\\\\u003e\\\\n                    \\\\u003ctd class=\\\\\"kas58-cell\\\\\"\\\\u003e\\\\u003cp\\\\u003e0.0lbs.\\\\u003c\\\\/p\\\\u003e\\\\u003c\\\\/td\\\\u003e\\\\n                \\\\u003c\\\\/tr\\\\u003e\\\\n            \\\\u003c\\\\/tbody\\\\u003e\\\\n        \\\\u003c\\\\/table\\\\u003e\\\\n    \\\\u003c\\\\/details\\\\u003e\\\\n\\\\u003c\\\\/div\\\\u003e\"}\\n  }\\n\\n\\n\\n  \\n\\n\\n\\n\\n\\n\\n\\n\\n\\n\\n\\n\\n\\n\\n\\n\\n\\n\\n\\n\\n\\n\\n\\n\\n\\n\\n\\n\\n  \\n  \\n\\n\\n\\n\\n\\n\\n\\n\\n  \\n\\n  \\n\\n\\n  \\n    \\n      \\n        \\n          \\n\\n  \\n    \\n      \\n    \\n  \\n\\n  \\n\\n\\n\\n  \\n\\n\\n        \\n      \\n    \\n  \\n    \\n      \\n        \\n          \\n\\n  \\n    \\n      \\n    \\n  \\n\\n  \\n\\n\\n\\n  \\n\\n\\n        \\n      \\n    \\n  \\n    \\n      \\n        \\n          \\n\\n  \\n    \\n      \\n    \\n  \\n\\n  \\n\\n\\n\\n  \\n\\n\\n        \\n      \\n    \\n  \\n    \\n      \\n        \\n          \\n\\n  \\n    \\n      \\n    \\n  \\n\\n  \\n\\n\\n\\n  \\n\\n\\n        \\n      \\n    \\n  \\n    \\n      \\n        \\n          \\n\\n  \\n    \\n      \\n    \\n  \\n\\n  \\n\\n\\n\\n  \\n\\n\\n        \\n      \\n    \\n  \\n    \\n      \\n        \\n          \\n\\n  \\n    \\n      \\n    \\n  \\n\\n  \\n\\n\\n\\n  \\n\\n\\n        \\n      \\n    \\n  \\n    \\n      \\n        \\n          \\n\\n  \\n    \\n      \\n    \\n  \\n\\n  \\n\\n\\n\\n  \\n\\n\\n        \\n      \\n    \\n  \\n    \\n      \\n        \\n          \\n\\n  \\n    \\n      \\n    \\n  \\n\\n  \\n\\n\\n\\n  \\n\\n\\n        \\n      \\n    \\n  \\n    \\n      \\n        \\n          \\n\\n  \\n    \\n      \\n    \\n  \\n\\n  \\n\\n\\n\\n  \\n\\n\\n        \\n      \\n    \\n  \\n    \\n      \\n        \\n          \\n\\n  \\n    \\n      \\n    \\n  \\n\\n  \\n\\n\\n\\n  \\n\\n\\n        \\n      \\n    \\n  \\n    \\n      \\n        \\n          \\n\\n  \\n    \\n      \\n    \\n  \\n\\n  \\n\\n\\n\\n  \\n\\n\\n        \\n      \\n    \\n  \\n    \\n      \\n        \\n          \\n\\n  \\n    \\n      \\n    \\n  \\n\\n  \\n\\n\\n\\n  \\n\\n\\n        \\n      \\n    \\n  \\n    \\n      \\n        \\n          \\n\\n  \\n    \\n      \\n    \\n  \\n\\n  \\n\\n\\n\\n  \\n\\n\\n        \\n      \\n    \\n  \\n    \\n      \\n        \\n          \\n\\n  \\n    \\n      \\n    \\n  \\n\\n  \\n\\n\\n\\n  \\n\\n\\n        \\n      \\n    \\n  \\n    \\n      \\n        \\n          \\n\\n  \\n    \\n      \\n    \\n  \\n\\n  \\n\\n\\n\\n  \\n\\n\\n        \\n      \\n    \\n  \\n    \\n      \\n        \\n          \\n\\n  \\n    \\n      \\n    \\n  \\n\\n  \\n\\n\\n\\n  \\n\\n\\n        \\n      \\n    \\n  \\n    \\n      \\n        \\n          \\n\\n  \\n    \\n      \\n    \\n  \\n\\n  \\n\\n\\n\\n  \\n\\n\\n        \\n      \\n    \\n  \\n\\n  \\n  \\n    \\n      \\n        \\n                                                                              \\n\\n        Click to expand\\n      \\n      \\n        \\n                                                                                                                                          \\n\\n        Tap to zoom\\n      \\n    \\n  \\n\\n\\n\\n\\n\\n  \\n  \\n  \\n\\n  \\n    \\n\\n\\n  \\n  \\n\\n  \\n    \\n      \\n  \\n  \\n\\n\\n    \\n    \\n      \\n  \\n  \\n\\n\\n    \\n    \\n    \\n      \\n        \\n          \\n          \\n\\n  \\n\\n  \\n\\n\\n\\n\\n        \\n      \\n    \\n      \\n        \\n          \\n          \\n\\n  \\n\\n  \\n\\n\\n\\n\\n        \\n      \\n    \\n      \\n        \\n          \\n          \\n\\n  \\n\\n  \\n\\n\\n\\n\\n        \\n      \\n    \\n      \\n        \\n          \\n          \\n\\n  \\n\\n  \\n\\n\\n\\n\\n        \\n      \\n    \\n      \\n        \\n          \\n          \\n\\n  \\n\\n  \\n\\n\\n\\n\\n        \\n      \\n    \\n      \\n        \\n          \\n          \\n\\n  \\n\\n  \\n\\n\\n\\n\\n        \\n      \\n    \\n      \\n        \\n          \\n          \\n\\n  \\n\\n  \\n\\n\\n\\n\\n        \\n      \\n    \\n      \\n        \\n          \\n          \\n\\n  \\n\\n  \\n\\n\\n\\n\\n        \\n      \\n    \\n      \\n        \\n          \\n          \\n\\n  \\n\\n  \\n\\n\\n\\n\\n        \\n      \\n    \\n      \\n        \\n          \\n          \\n\\n  \\n\\n  \\n\\n\\n\\n\\n        \\n      \\n    \\n      \\n        \\n          \\n          \\n\\n  \\n\\n  \\n\\n\\n\\n\\n        \\n      \\n    \\n      \\n        \\n          \\n          \\n\\n  \\n\\n  \\n\\n\\n\\n\\n        \\n      \\n    \\n      \\n        \\n          \\n          \\n\\n  \\n\\n  \\n\\n\\n\\n\\n        \\n      \\n    \\n      \\n        \\n          \\n          \\n\\n  \\n\\n  \\n\\n\\n\\n\\n        \\n      \\n    \\n      \\n        \\n          \\n          \\n\\n  \\n\\n  \\n\\n\\n\\n\\n        \\n      \\n    \\n      \\n        \\n          \\n          \\n\\n  \\n\\n  \\n\\n\\n\\n\\n        \\n      \\n    \\n      \\n        \\n          \\n          \\n\\n  \\n\\n  \\n\\n\\n\\n\\n        \\n      \\n    \\n    \\n  \\n\\n\\n  \\n\\n\\n  \\n    \\n      \\n        \\n          \\n        \\n          \\n            Visola Outdoor Dining Table with 4 Chairs\\n          \\n        \\n          \\n        \\n      \\n\\n      \\n        \\n          \\nby Ashley Furniture\\n\\n          \\n        \\n      \\n\\n      \\n        \\n          \\n            \\n              \\n                \\n                \\n                \\n                \\n                \\n              \\n            \\n          \\n        \\n      \\n\\n      \\n        \\n\\n\\n        \\n\\n  \\n      Original price\\n      \\n        $3,139.99\\n      \\n    \\n  \\n\\n  \\n      \\n        Current price\\n      \\n      \\n        $2,409.99\\n      \\n    \\n  \\n\\n\\n      \\n\\n      Please contact our store to place an order on this item.\\n      \\n  \\n\\n\\n  \\n\\n  \\n\\n\\n\\n\\n\\n/*dovr-tooltip Box*/\\n.dovr-parent-dovr-tooltip {\\n  position: relative;\\n  border-radius: 9px;\\n  margin: 10px;\\n  display: inline-block;\\n  transition: all 0.3s ease-in-out;\\n  cursor: default;\\n}\\n\\n/*dovr-tooltip */\\n.dovr-tooltip {\\n  visibility: hidden;\\n  z-index: 1;\\n  opacity: .40;\\n  width: 100%;\\n  padding: 5px 20px;\\n  background: #fff;\\n  color: #000;\\n  border: 1px solid #000;  \\n  position: absolute;\\n  bottom: 85px;\\n  left: 0%;\\n  border-radius: 9px;\\n  font: 16px;\\n  transform: translateY(9px);\\n  transition: all 0.3s ease-in-out; \\n  box-shadow: 0 0 3px rgba(56, 54, 54, 0.86);\\n}\\n\\n\\n/* dovr-tooltip  after*/\\n.dovr-tooltip::after {\\n  content: \" \";\\n  width: 0;\\n  height: 0; \\n  border-style: solid;\\n  border-width: 12px 12.5px 0 12.5px;\\n  border-color: #333 transparent transparent transparent;\\n  position: absolute;\\n  left: 40%;\\n}\\n\\n.dovr-parent-dovr-tooltip:hover .dovr-tooltip{\\n  visibility: visible;\\n  transform: translateY(-10px);\\n  opacity: 1;\\n  transition: .3s linear;\\n  animation: odsoky 1s ease-in-out infinite  alternate;\\n\\n}\\n@keyframes odsoky {\\n  0%{\\n    transform: translateY(6px);\\t\\n  }\\n\\n  100%{\\n    transform: translateY(1px);\\t\\n  }\\n\\n}\\n\\n/*hover dovr-tooltip*/\\n/* .top:hover {transform: translateY(-6px);  } */\\n\\n  \\n  \\n\\n  \\n\\n\\n\\n  \\n  We offer free pickup at any of our store locations. For Delivery, call us about our shipping rates for more info!\\n\\n  \\n  \\n    \\n  \\n    \\n  \\n    \\n  \\n    \\n  \\n    \\n  \\n    \\n  \\n    \\n      \\n        \\n          \\n          Financing Options Available!\\n        \\n      \\n      \\n\\n  \\n\\n  [{\"id\":44565571895526,\"title\":\"Default Title\",\"option1\":\"Default Title\",\"option2\":null,\"option3\":null,\"sku\":\"PKG011416\",\"requires_shipping\":true,\"taxable\":true,\"featured_image\":{\"id\":40789590638822,\"product_id\":8517193957606,\"position\":1,\"created_at\":\"2024-04-05T17:32:15-04:00\",\"updated_at\":\"2024-04-05T17:32:15-04:00\",\"alt\":\"Visola Outdoor Dining Table with 4 Chairs image\",\"width\":1145,\"height\":525,\"src\":\"\\\\/\\\\/www.simsfurnitureco.com\\\\/cdn\\\\/shop\\\\/files\\\\/P802-625-601A_4_-SW-P1-KO.jpg?v=1712352735\",\"variant_ids\":[44565571895526]},\"available\":true,\"name\":\"Visola Outdoor Dining Table with 4 Chairs\",\"public_title\":null,\"options\":[\"Default Title\"],\"price\":240999,\"weight\":0,\"compare_at_price\":313999,\"inventory_management\":null,\"barcode\":null,\"featured_media\":{\"alt\":\"Visola Outdoor Dining Table with 4 Chairs image\",\"id\":33419683660006,\"position\":1,\"preview_image\":{\"aspect_ratio\":2.181,\"height\":525,\"width\":1145,\"src\":\"\\\\/\\\\/www.simsfurnitureco.com\\\\/cdn\\\\/shop\\\\/files\\\\/P802-625-601A_4_-SW-P1-KO.jpg?v=1712352735\"}},\"requires_selling_plan\":false,\"selling_plan_allocations\":[]}]\\n\\n\\n\\n      \\n      \\n        \\n          \\n            SKU PKG011416\\n          \\n        \\n      \\n    \\n\\n    \\n    \\n      \\n        \\n\\n        \\n          \\n\\n\\n\\n\\n\\n\\n\\n\\n\\n\\n\\n  \\n    \\n  \\n\\n  \\n   \\n      \\n        \\n          \\n            \\n              \\n                1\\n              \\n            \\n              \\n                2\\n              \\n            \\n              \\n                3\\n              \\n            \\n              \\n                4\\n              \\n            \\n              \\n                5\\n              \\n            \\n              \\n                6\\n              \\n            \\n              \\n                7\\n              \\n            \\n              \\n                8\\n              \\n            \\n              \\n                9\\n              \\n            \\n            \\n              10+\\n            \\n          \\n          \\n            Quantity\\n          \\n          \\n\\n\\n\\n\\n        \\n      \\n      \\n      \\n        \\n        \\n          Quantity\\n        \\n      \\n    \\n  \\n    \\n      \\n        \\n          Add to cart\\n        \\n      \\n      \\n  \\n    \\n  \\n\\n    \\n  \\n\\n\\n\\n        \\n\\n        \\n\\n        \\n         Click On Your Local Sims Store For Questions\\n        Norwood Store  |\\n        Florence Store   |\\n        Cincinnati Store \\n        \\n        Eastgate Store   |\\n        Hamilton Store  \\n        \\n         \\n                  Share this:                  Share on Facebook                  Tweet on Twitter                  Share on LinkedIn                        Pin on Pinterest            \\n        \\n      \\n      \\n    \\n\\n    \\n    \\n      \\n        It’s the dawn of a new day for gray. Embrace the style trend with this outdoor dining set. Each piece is crafted of HDPE material, combining the exceptional durability and weather resistance you need with the â€œwood lookâ€\\x9d you love. The rectangular table and comfortably cushioned chairs take alfresco living to a whole new level. A slatted table top infuses a plank-style, farmhouse-inspired touch and naturally sheds rainwater. Rest assured, the thick seat and back cushions on the chair are wrapped in Nuvella® high-performance fabric that’s fade-resistant, stain-resistant and a breeze to clean.\\n\\nMore About This Product\\n\\n\\n    Weight\\n    \\n        Weight\\n        \\n            \\n                \\n                    Weight\\n                    0.0lbs.\\n                \\n            \\n        \\n    \\n\\n      \\n    \\n\\n    \\n  \\n\\n  \\n  \\n\\n\\n\\n\\nconst details = document.querySelectorAll(\"details\");\\n\\ndetails.forEach((targetDetail) => {\\ntargetDetail.open = true;\\ntargetDetail.style.display = \\'table\\'\\n\\n});\\n\\n\\n\\n\\n'),\n ('div',\n  '\\n    \\n      \\n        \\n          \\n        \\n          \\n            Visola Outdoor Dining Table with 4 Chairs\\n          \\n        \\n          \\n        \\n      \\n\\n      \\n        \\n          \\nby Ashley Furniture\\n\\n          \\n        \\n      \\n\\n      \\n        \\n          \\n            \\n              \\n                \\n                \\n                \\n                \\n                \\n              \\n            \\n          \\n        \\n      \\n\\n      \\n        \\n\\n\\n        \\n\\n  \\n      Original price\\n      \\n        $3,139.99\\n      \\n    \\n  \\n\\n  \\n      \\n        Current price\\n      \\n      \\n        $2,409.99\\n      \\n    \\n  \\n\\n\\n      \\n\\n      Please contact our store to place an order on this item.\\n      \\n  \\n\\n\\n  \\n\\n  \\n\\n\\n\\n\\n\\n/*dovr-tooltip Box*/\\n.dovr-parent-dovr-tooltip {\\n  position: relative;\\n  border-radius: 9px;\\n  margin: 10px;\\n  display: inline-block;\\n  transition: all 0.3s ease-in-out;\\n  cursor: default;\\n}\\n\\n/*dovr-tooltip */\\n.dovr-tooltip {\\n  visibility: hidden;\\n  z-index: 1;\\n  opacity: .40;\\n  width: 100%;\\n  padding: 5px 20px;\\n  background: #fff;\\n  color: #000;\\n  border: 1px solid #000;  \\n  position: absolute;\\n  bottom: 85px;\\n  left: 0%;\\n  border-radius: 9px;\\n  font: 16px;\\n  transform: translateY(9px);\\n  transition: all 0.3s ease-in-out; \\n  box-shadow: 0 0 3px rgba(56, 54, 54, 0.86);\\n}\\n\\n\\n/* dovr-tooltip  after*/\\n.dovr-tooltip::after {\\n  content: \" \";\\n  width: 0;\\n  height: 0; \\n  border-style: solid;\\n  border-width: 12px 12.5px 0 12.5px;\\n  border-color: #333 transparent transparent transparent;\\n  position: absolute;\\n  left: 40%;\\n}\\n\\n.dovr-parent-dovr-tooltip:hover .dovr-tooltip{\\n  visibility: visible;\\n  transform: translateY(-10px);\\n  opacity: 1;\\n  transition: .3s linear;\\n  animation: odsoky 1s ease-in-out infinite  alternate;\\n\\n}\\n@keyframes odsoky {\\n  0%{\\n    transform: translateY(6px);\\t\\n  }\\n\\n  100%{\\n    transform: translateY(1px);\\t\\n  }\\n\\n}\\n\\n/*hover dovr-tooltip*/\\n/* .top:hover {transform: translateY(-6px);  } */\\n\\n  \\n  \\n\\n  \\n\\n\\n\\n  \\n  We offer free pickup at any of our store locations. For Delivery, call us about our shipping rates for more info!\\n\\n  \\n  \\n    \\n  \\n    \\n  \\n    \\n  \\n    \\n  \\n    \\n  \\n    \\n  \\n    \\n      \\n        \\n          \\n          Financing Options Available!\\n        \\n      \\n      \\n\\n  \\n\\n  [{\"id\":44565571895526,\"title\":\"Default Title\",\"option1\":\"Default Title\",\"option2\":null,\"option3\":null,\"sku\":\"PKG011416\",\"requires_shipping\":true,\"taxable\":true,\"featured_image\":{\"id\":40789590638822,\"product_id\":8517193957606,\"position\":1,\"created_at\":\"2024-04-05T17:32:15-04:00\",\"updated_at\":\"2024-04-05T17:32:15-04:00\",\"alt\":\"Visola Outdoor Dining Table with 4 Chairs image\",\"width\":1145,\"height\":525,\"src\":\"\\\\/\\\\/www.simsfurnitureco.com\\\\/cdn\\\\/shop\\\\/files\\\\/P802-625-601A_4_-SW-P1-KO.jpg?v=1712352735\",\"variant_ids\":[44565571895526]},\"available\":true,\"name\":\"Visola Outdoor Dining Table with 4 Chairs\",\"public_title\":null,\"options\":[\"Default Title\"],\"price\":240999,\"weight\":0,\"compare_at_price\":313999,\"inventory_management\":null,\"barcode\":null,\"featured_media\":{\"alt\":\"Visola Outdoor Dining Table with 4 Chairs image\",\"id\":33419683660006,\"position\":1,\"preview_image\":{\"aspect_ratio\":2.181,\"height\":525,\"width\":1145,\"src\":\"\\\\/\\\\/www.simsfurnitureco.com\\\\/cdn\\\\/shop\\\\/files\\\\/P802-625-601A_4_-SW-P1-KO.jpg?v=1712352735\"}},\"requires_selling_plan\":false,\"selling_plan_allocations\":[]}]\\n\\n\\n\\n      \\n      \\n        \\n          \\n            SKU PKG011416\\n          \\n        \\n      \\n    \\n\\n    \\n    \\n      \\n        \\n\\n        \\n          \\n\\n\\n\\n\\n\\n\\n\\n\\n\\n\\n\\n  \\n    \\n  \\n\\n  \\n   \\n      \\n        \\n          \\n            \\n              \\n                1\\n              \\n            \\n              \\n                2\\n              \\n            \\n              \\n                3\\n              \\n            \\n              \\n                4\\n              \\n            \\n              \\n                5\\n              \\n            \\n              \\n                6\\n              \\n            \\n              \\n                7\\n              \\n            \\n              \\n                8\\n              \\n            \\n              \\n                9\\n              \\n            \\n            \\n              10+\\n            \\n          \\n          \\n            Quantity\\n          \\n          \\n\\n\\n\\n\\n        \\n      \\n      \\n      \\n        \\n        \\n          Quantity\\n        \\n      \\n    \\n  \\n    \\n      \\n        \\n          Add to cart\\n        \\n      \\n      \\n  \\n    \\n  \\n\\n    \\n  \\n\\n\\n\\n        \\n\\n        \\n\\n        \\n         Click On Your Local Sims Store For Questions\\n        Norwood Store  |\\n        Florence Store   |\\n        Cincinnati Store \\n        \\n        Eastgate Store   |\\n        Hamilton Store  \\n        \\n         \\n                  Share this:                  Share on Facebook                  Tweet on Twitter                  Share on LinkedIn                        Pin on Pinterest            \\n        \\n      \\n      \\n    \\n\\n    \\n    \\n      \\n        It’s the dawn of a new day for gray. Embrace the style trend with this outdoor dining set. Each piece is crafted of HDPE material, combining the exceptional durability and weather resistance you need with the â€œwood lookâ€\\x9d you love. The rectangular table and comfortably cushioned chairs take alfresco living to a whole new level. A slatted table top infuses a plank-style, farmhouse-inspired touch and naturally sheds rainwater. Rest assured, the thick seat and back cushions on the chair are wrapped in Nuvella® high-performance fabric that’s fade-resistant, stain-resistant and a breeze to clean.\\n\\nMore About This Product\\n\\n\\n    Weight\\n    \\n        Weight\\n        \\n            \\n                \\n                    Weight\\n                    0.0lbs.\\n                \\n            \\n        \\n    \\n\\n      \\n    \\n\\n    \\n  '),\n ('div',\n  '\\n        It’s the dawn of a new day for gray. Embrace the style trend with this outdoor dining set. Each piece is crafted of HDPE material, combining the exceptional durability and weather resistance you need with the â€œwood lookâ€\\x9d you love. The rectangular table and comfortably cushioned chairs take alfresco living to a whole new level. A slatted table top infuses a plank-style, farmhouse-inspired touch and naturally sheds rainwater. Rest assured, the thick seat and back cushions on the chair are wrapped in Nuvella® high-performance fabric that’s fade-resistant, stain-resistant and a breeze to clean.\\n\\nMore About This Product\\n\\n\\n    Weight\\n    \\n        Weight\\n        \\n            \\n                \\n                    Weight\\n                    0.0lbs.\\n                \\n            \\n        \\n    \\n\\n      '),\n ('div',\n  '\\n    \\n  \\n  \\n\\n  \\n      \\n    \\n  \\n  \\n    \\n  \\n\\n\\n\\n  \\n      \\n    \\n  \\n  \\n    \\n  \\n\\n\\n\\n  \\n      \\n    \\n  \\n  \\n    \\n  \\n\\n\\n\\n  \\n      \\n    \\n  \\n  \\n    \\n  \\n\\n\\n\\n  \\n      \\n    \\n  \\n  \\n    \\n  \\n\\n\\n\\n  \\n      \\n    \\n  \\n  \\n    \\n  \\n\\n\\n\\n  \\n      \\n    \\n  \\n  \\n    \\n  \\n\\n\\n\\n  \\n      \\n    \\n  \\n  \\n    \\n  \\n\\n\\n\\n  \\n      \\n\\n\\n  \\n    \\n      More Visola Collection\\n     \\n    \\n      \\n    \\n      \\n\\n\\n\\n\\n\\n\\n\\n\\n\\n\\n\\n\\n\\n\\n\\n\\n\\n\\n\\n\\n\\n\\n\\n\\n\\n\\n\\n\\n\\n\\n\\n\\n\\n\\n    \\n\\n  \\n    \\n    \\n      \\n        \\n          \\n          \\n\\n  \\n    \\n      \\n    \\n  \\n\\n  \\n\\n\\n\\n  \\n\\n\\n        \\n\\n        \\n\\n      \\n    \\n      \\n\\n\\n      \\n\\n      \\n        \\n          Visola Outdoor Sofa with Cushion\\n        \\n      \\n\\n      \\n        \\n          Ashley Furniture\\n        \\n      \\n\\n      \\n        \\n\\n  \\n  \\n\\n  \\n      \\n      \\n        $1,629.99\\n      \\n    \\n  \\n\\n\\n\\n      \\n\\n      \\n\\n      \\n        \\n          It’s the dawn of a new day for gray. Embrace the style trend with this outdoor sofa. Crafted of HDPE material that combines the exceptional durabil...\\n\\n          \\n            \\n              View full details\\n            \\n          \\n        \\n      \\n    \\n    \\n    \\n  \\n     \\n    3D Available\\n  \\n\\n    \\n\\n\\n    \\n\\n\\n\\n\\n\\n\\n    \\n      \\n        \\n        \\n        \\n\\n        \\n        \\n\\n        \\n\\n        \\n\\n        \\n          \\n\\n        \\n      \\n    \\n    \\n  \\n\\n  \\n    \\n      {\\n        \"cart_redirection\": false,\\n        \"money_format\": \"${{amount}}\"\\n      }\\n    \\n  \\n\\n\\t\\n    \\n      \\n\\n\\n\\n\\n\\n\\n\\n\\n\\n\\n\\n\\n\\n\\n\\n\\n\\n\\n\\n\\n\\n\\n\\n\\n\\n\\n\\n\\n\\n\\n\\n\\n\\n\\n    \\n\\n  \\n    \\n    \\n      \\n        \\n          \\n          \\n\\n  \\n    \\n      \\n    \\n  \\n\\n  \\n\\n\\n\\n  \\n\\n\\n        \\n\\n        \\n\\n      \\n    \\n      \\n\\n\\n      \\n\\n      \\n        \\n          Visola Outdoor Sofa Conversation Set\\n        \\n      \\n\\n      \\n        \\n          Ashley Furniture\\n        \\n      \\n\\n      \\n        \\n\\n  \\n  \\n\\n  \\n      \\n      \\n        $3,319.99\\n      \\n    \\n  \\n\\n\\n\\n      \\n\\n      \\n\\n      \\n        \\n          It’s the dawn of a new day for gray. Embrace the style trend with this outdoor conversation set. Each piece is crafted of HDPE material, combining ...\\n\\n          \\n            \\n              View full details\\n            \\n          \\n        \\n      \\n    \\n    \\n    \\n  \\n\\n    \\n\\n\\n    \\n\\n\\n\\n\\n\\n\\n    \\n      \\n        \\n        \\n        \\n\\n        \\n        \\n\\n        \\n\\n        \\n\\n        \\n          \\n\\n        \\n      \\n    \\n    \\n  \\n\\n  \\n    \\n      {\\n        \"cart_redirection\": false,\\n        \"money_format\": \"${{amount}}\"\\n      }\\n    \\n  \\n\\n\\t\\n    \\n      \\n\\n\\n\\n\\n\\n\\n\\n\\n\\n\\n\\n\\n\\n\\n\\n\\n\\n\\n\\n\\n\\n\\n\\n\\n\\n\\n\\n\\n\\n\\n\\n\\n\\n\\n    \\n\\n  \\n    \\n    \\n      \\n        \\n          \\n          \\n\\n  \\n    \\n      \\n    \\n  \\n\\n  \\n\\n\\n\\n  \\n\\n\\n        \\n\\n        \\n\\n      \\n    \\n      \\n\\n\\n      \\n\\n      \\n        \\n          Visola Outdoor Sofa and Loveseat with Coffee Table\\n        \\n      \\n\\n      \\n        \\n          Ashley Furniture\\n        \\n      \\n\\n      \\n        \\n\\n  \\n  \\n\\n  \\n      \\n      \\n        $3,199.99\\n      \\n    \\n  \\n\\n\\n\\n      \\n\\n      \\n\\n      \\n        \\n          It’s the dawn of a new day for gray. Embrace the style trend with this outdoor set. Each piece is crafted of HDPE material, combining the exception...\\n\\n          \\n            \\n              View full details\\n            \\n          \\n        \\n      \\n    \\n    \\n    \\n  \\n\\n    \\n\\n\\n    \\n\\n\\n\\n\\n\\n\\n    \\n      \\n        \\n        \\n        \\n\\n        \\n        \\n\\n        \\n\\n        \\n\\n        \\n          \\n\\n        \\n      \\n    \\n    \\n  \\n\\n  \\n    \\n      {\\n        \"cart_redirection\": false,\\n        \"money_format\": \"${{amount}}\"\\n      }\\n    \\n  \\n\\n\\t\\n    \\n      \\n\\n\\n\\n\\n\\n\\n\\n\\n\\n\\n\\n\\n\\n\\n\\n\\n\\n\\n\\n\\n\\n\\n\\n\\n\\n\\n\\n\\n\\n\\n\\n\\n\\n\\n    \\n\\n  \\n    \\n    \\n      \\n        \\n          \\n          \\n\\n  \\n    \\n      \\n    \\n  \\n\\n  \\n\\n\\n\\n  \\n\\n\\n        \\n\\n        \\n\\n      \\n    \\n      \\n\\n\\n      \\n\\n      \\n        \\n          Visola Outdoor Sofa and Loveseat Set\\n        \\n      \\n\\n      \\n        \\n          Ashley Furniture\\n        \\n      \\n\\n      \\n        \\n\\n  \\n  \\n\\n  \\n      \\n      \\n        $4,769.99\\n      \\n    \\n  \\n\\n\\n\\n      \\n\\n      \\n\\n      \\n        \\n          It’s the dawn of a new day for gray. Embrace the style trend with this outdoor set. Each piece is crafted of HDPE material, combining the exception...\\n\\n          \\n            \\n              View full details\\n            \\n          \\n        \\n      \\n    \\n    \\n    \\n  \\n\\n    \\n\\n\\n    \\n\\n\\n\\n\\n\\n\\n    \\n      \\n        \\n        \\n        \\n\\n        \\n        \\n\\n        \\n\\n        \\n\\n        \\n          \\n\\n        \\n      \\n    \\n    \\n  \\n\\n  \\n    \\n      {\\n        \"cart_redirection\": false,\\n        \"money_format\": \"${{amount}}\"\\n      }\\n    \\n  \\n\\n\\t\\n    \\n      \\n\\n\\n\\n\\n\\n\\n\\n\\n\\n\\n\\n\\n\\n\\n\\n\\n\\n\\n\\n\\n\\n\\n\\n\\n\\n\\n\\n\\n\\n\\n\\n\\n\\n\\n    \\n\\n  \\n    \\n    \\n      \\n        \\n          \\n          \\n\\n  \\n    \\n      \\n    \\n  \\n\\n  \\n\\n\\n\\n  \\n\\n\\n        \\n\\n        \\n\\n      \\n    \\n      \\n\\n\\n      \\n\\n      \\n        \\n          Visola Outdoor Sofa and Coffee Table\\n        \\n      \\n\\n      \\n        \\n          Ashley Furniture\\n        \\n      \\n\\n      \\n        \\n\\n  \\n  \\n\\n  \\n      \\n      \\n        $1,959.99\\n      \\n    \\n  \\n\\n\\n\\n      \\n\\n      \\n\\n      \\n        \\n          It’s the dawn of a new day for gray. Embrace the style trend with this sofa and coffee table set. Crafted of HDPE material that combines the except...\\n\\n          \\n            \\n              View full details\\n            \\n          \\n        \\n      \\n    \\n    \\n    \\n  \\n\\n    \\n\\n\\n    \\n\\n\\n\\n\\n\\n\\n    \\n      \\n        \\n        \\n        \\n\\n        \\n        \\n\\n        \\n\\n        \\n\\n        \\n          \\n\\n        \\n      \\n    \\n    \\n  \\n\\n  \\n    \\n      {\\n        \"cart_redirection\": false,\\n        \"money_format\": \"${{amount}}\"\\n      }\\n    \\n  \\n\\n\\t\\n    \\n        \\n    \\n  \\n  \\n\\n  \\n\\n  .dovr-related-collection-heading {\\n    font-weight: bold !important;\\n    font-size: 25px !important;\\n    color: #000000 !important;\\n  }\\n\\n\\n  \\n\\n\\n\\n'),\n ('div',\n  '\\n    \\n  \\n  \\n\\n  \\n      \\n    \\n  \\n  \\n    \\n  \\n\\n\\n\\n  \\n      \\n    \\n  \\n  \\n    \\n  \\n\\n\\n\\n  \\n      \\n    \\n  \\n  \\n    \\n  \\n\\n\\n\\n  \\n      \\n    \\n  \\n  \\n    \\n  \\n\\n\\n\\n  \\n      \\n    \\n  \\n  \\n    \\n  \\n\\n\\n\\n  \\n      \\n    \\n  \\n  \\n    \\n  \\n\\n\\n\\n  \\n      \\n    \\n  \\n  \\n    \\n  \\n\\n\\n\\n  \\n      \\n    \\n  \\n  \\n    \\n  \\n\\n\\n\\n  \\n      \\n\\n\\n  \\n    \\n      More Visola Collection\\n     \\n    \\n      \\n    \\n      \\n\\n\\n\\n\\n\\n\\n\\n\\n\\n\\n\\n\\n\\n\\n\\n\\n\\n\\n\\n\\n\\n\\n\\n\\n\\n\\n\\n\\n\\n\\n\\n\\n\\n\\n    \\n\\n  \\n    \\n    \\n      \\n        \\n          \\n          \\n\\n  \\n    \\n      \\n    \\n  \\n\\n  \\n\\n\\n\\n  \\n\\n\\n        \\n\\n        \\n\\n      \\n    \\n      \\n\\n\\n      \\n\\n      \\n        \\n          Visola Outdoor Sofa with Cushion\\n        \\n      \\n\\n      \\n        \\n          Ashley Furniture\\n        \\n      \\n\\n      \\n        \\n\\n  \\n  \\n\\n  \\n      \\n      \\n        $1,629.99\\n      \\n    \\n  \\n\\n\\n\\n      \\n\\n      \\n\\n      \\n        \\n          It’s the dawn of a new day for gray. Embrace the style trend with this outdoor sofa. Crafted of HDPE material that combines the exceptional durabil...\\n\\n          \\n            \\n              View full details\\n            \\n          \\n        \\n      \\n    \\n    \\n    \\n  \\n     \\n    3D Available\\n  \\n\\n    \\n\\n\\n    \\n\\n\\n\\n\\n\\n\\n    \\n      \\n        \\n        \\n        \\n\\n        \\n        \\n\\n        \\n\\n        \\n\\n        \\n          \\n\\n        \\n      \\n    \\n    \\n  \\n\\n  \\n    \\n      {\\n        \"cart_redirection\": false,\\n        \"money_format\": \"${{amount}}\"\\n      }\\n    \\n  \\n\\n\\t\\n    \\n      \\n\\n\\n\\n\\n\\n\\n\\n\\n\\n\\n\\n\\n\\n\\n\\n\\n\\n\\n\\n\\n\\n\\n\\n\\n\\n\\n\\n\\n\\n\\n\\n\\n\\n\\n    \\n\\n  \\n    \\n    \\n      \\n        \\n          \\n          \\n\\n  \\n    \\n      \\n    \\n  \\n\\n  \\n\\n\\n\\n  \\n\\n\\n        \\n\\n        \\n\\n      \\n    \\n      \\n\\n\\n      \\n\\n      \\n        \\n          Visola Outdoor Sofa Conversation Set\\n        \\n      \\n\\n      \\n        \\n          Ashley Furniture\\n        \\n      \\n\\n      \\n        \\n\\n  \\n  \\n\\n  \\n      \\n      \\n        $3,319.99\\n      \\n    \\n  \\n\\n\\n\\n      \\n\\n      \\n\\n      \\n        \\n          It’s the dawn of a new day for gray. Embrace the style trend with this outdoor conversation set. Each piece is crafted of HDPE material, combining ...\\n\\n          \\n            \\n              View full details\\n            \\n          \\n        \\n      \\n    \\n    \\n    \\n  \\n\\n    \\n\\n\\n    \\n\\n\\n\\n\\n\\n\\n    \\n      \\n        \\n        \\n        \\n\\n        \\n        \\n\\n        \\n\\n        \\n\\n        \\n          \\n\\n        \\n      \\n    \\n    \\n  \\n\\n  \\n    \\n      {\\n        \"cart_redirection\": false,\\n        \"money_format\": \"${{amount}}\"\\n      }\\n    \\n  \\n\\n\\t\\n    \\n      \\n\\n\\n\\n\\n\\n\\n\\n\\n\\n\\n\\n\\n\\n\\n\\n\\n\\n\\n\\n\\n\\n\\n\\n\\n\\n\\n\\n\\n\\n\\n\\n\\n\\n\\n    \\n\\n  \\n    \\n    \\n      \\n        \\n          \\n          \\n\\n  \\n    \\n      \\n    \\n  \\n\\n  \\n\\n\\n\\n  \\n\\n\\n        \\n\\n        \\n\\n      \\n    \\n      \\n\\n\\n      \\n\\n      \\n        \\n          Visola Outdoor Sofa and Loveseat with Coffee Table\\n        \\n      \\n\\n      \\n        \\n          Ashley Furniture\\n        \\n      \\n\\n      \\n        \\n\\n  \\n  \\n\\n  \\n      \\n      \\n        $3,199.99\\n      \\n    \\n  \\n\\n\\n\\n      \\n\\n      \\n\\n      \\n        \\n          It’s the dawn of a new day for gray. Embrace the style trend with this outdoor set. Each piece is crafted of HDPE material, combining the exception...\\n\\n          \\n            \\n              View full details\\n            \\n          \\n        \\n      \\n    \\n    \\n    \\n  \\n\\n    \\n\\n\\n    \\n\\n\\n\\n\\n\\n\\n    \\n      \\n        \\n        \\n        \\n\\n        \\n        \\n\\n        \\n\\n        \\n\\n        \\n          \\n\\n        \\n      \\n    \\n    \\n  \\n\\n  \\n    \\n      {\\n        \"cart_redirection\": false,\\n        \"money_format\": \"${{amount}}\"\\n      }\\n    \\n  \\n\\n\\t\\n    \\n      \\n\\n\\n\\n\\n\\n\\n\\n\\n\\n\\n\\n\\n\\n\\n\\n\\n\\n\\n\\n\\n\\n\\n\\n\\n\\n\\n\\n\\n\\n\\n\\n\\n\\n\\n    \\n\\n  \\n    \\n    \\n      \\n        \\n          \\n          \\n\\n  \\n    \\n      \\n    \\n  \\n\\n  \\n\\n\\n\\n  \\n\\n\\n        \\n\\n        \\n\\n      \\n    \\n      \\n\\n\\n      \\n\\n      \\n        \\n          Visola Outdoor Sofa and Loveseat Set\\n        \\n      \\n\\n      \\n        \\n          Ashley Furniture\\n        \\n      \\n\\n      \\n        \\n\\n  \\n  \\n\\n  \\n      \\n      \\n        $4,769.99\\n      \\n    \\n  \\n\\n\\n\\n      \\n\\n      \\n\\n      \\n        \\n          It’s the dawn of a new day for gray. Embrace the style trend with this outdoor set. Each piece is crafted of HDPE material, combining the exception...\\n\\n          \\n            \\n              View full details\\n            \\n          \\n        \\n      \\n    \\n    \\n    \\n  \\n\\n    \\n\\n\\n    \\n\\n\\n\\n\\n\\n\\n    \\n      \\n        \\n        \\n        \\n\\n        \\n        \\n\\n        \\n\\n        \\n\\n        \\n          \\n\\n        \\n      \\n    \\n    \\n  \\n\\n  \\n    \\n      {\\n        \"cart_redirection\": false,\\n        \"money_format\": \"${{amount}}\"\\n      }\\n    \\n  \\n\\n\\t\\n    \\n      \\n\\n\\n\\n\\n\\n\\n\\n\\n\\n\\n\\n\\n\\n\\n\\n\\n\\n\\n\\n\\n\\n\\n\\n\\n\\n\\n\\n\\n\\n\\n\\n\\n\\n\\n    \\n\\n  \\n    \\n    \\n      \\n        \\n          \\n          \\n\\n  \\n    \\n      \\n    \\n  \\n\\n  \\n\\n\\n\\n  \\n\\n\\n        \\n\\n        \\n\\n      \\n    \\n      \\n\\n\\n      \\n\\n      \\n        \\n          Visola Outdoor Sofa and Coffee Table\\n        \\n      \\n\\n      \\n        \\n          Ashley Furniture\\n        \\n      \\n\\n      \\n        \\n\\n  \\n  \\n\\n  \\n      \\n      \\n        $1,959.99\\n      \\n    \\n  \\n\\n\\n\\n      \\n\\n      \\n\\n      \\n        \\n          It’s the dawn of a new day for gray. Embrace the style trend with this sofa and coffee table set. Crafted of HDPE material that combines the except...\\n\\n          \\n            \\n              View full details\\n            \\n          \\n        \\n      \\n    \\n    \\n    \\n  \\n\\n    \\n\\n\\n    \\n\\n\\n\\n\\n\\n\\n    \\n      \\n        \\n        \\n        \\n\\n        \\n        \\n\\n        \\n\\n        \\n\\n        \\n          \\n\\n        \\n      \\n    \\n    \\n  \\n\\n  \\n    \\n      {\\n        \"cart_redirection\": false,\\n        \"money_format\": \"${{amount}}\"\\n      }\\n    \\n  \\n\\n\\t\\n    \\n        \\n    \\n  \\n  \\n\\n  \\n\\n  .dovr-related-collection-heading {\\n    font-weight: bold !important;\\n    font-size: 25px !important;\\n    color: #000000 !important;\\n  }\\n\\n\\n  \\n'),\n ('div',\n  '\\n    \\n    \\n      \\n        \\n          \\n          \\n\\n  \\n    \\n      \\n    \\n  \\n\\n  \\n\\n\\n\\n  \\n\\n\\n        \\n\\n        \\n\\n      \\n    \\n      \\n\\n\\n      \\n\\n      \\n        \\n          Visola Outdoor Sofa with Cushion\\n        \\n      \\n\\n      \\n        \\n          Ashley Furniture\\n        \\n      \\n\\n      \\n        \\n\\n  \\n  \\n\\n  \\n      \\n      \\n        $1,629.99\\n      \\n    \\n  \\n\\n\\n\\n      \\n\\n      \\n\\n      \\n        \\n          It’s the dawn of a new day for gray. Embrace the style trend with this outdoor sofa. Crafted of HDPE material that combines the exceptional durabil...\\n\\n          \\n            \\n              View full details\\n            \\n          \\n        \\n      \\n    \\n    \\n    \\n  \\n     \\n    3D Available\\n  \\n\\n    \\n\\n\\n    \\n\\n\\n\\n\\n\\n\\n    \\n      \\n        \\n        \\n        \\n\\n        \\n        \\n\\n        \\n\\n        \\n\\n        \\n          \\n\\n        \\n      \\n    \\n    \\n  '),\n ('div',\n  '\\n      \\n\\n\\n      \\n\\n      \\n        \\n          Visola Outdoor Sofa with Cushion\\n        \\n      \\n\\n      \\n        \\n          Ashley Furniture\\n        \\n      \\n\\n      \\n        \\n\\n  \\n  \\n\\n  \\n      \\n      \\n        $1,629.99\\n      \\n    \\n  \\n\\n\\n\\n      \\n\\n      \\n\\n      \\n        \\n          It’s the dawn of a new day for gray. Embrace the style trend with this outdoor sofa. Crafted of HDPE material that combines the exceptional durabil...\\n\\n          \\n            \\n              View full details\\n            \\n          \\n        \\n      \\n    '),\n ('div',\n  '\\n          It’s the dawn of a new day for gray. Embrace the style trend with this outdoor sofa. Crafted of HDPE material that combines the exceptional durabil...\\n\\n          \\n            \\n              View full details\\n            \\n          \\n        '),\n ('p',\n  'It’s the dawn of a new day for gray. Embrace the style trend with this outdoor sofa. Crafted of HDPE material that combines the exceptional durabil...'),\n ('div',\n  '\\n    \\n    \\n      \\n        \\n          \\n          \\n\\n  \\n    \\n      \\n    \\n  \\n\\n  \\n\\n\\n\\n  \\n\\n\\n        \\n\\n        \\n\\n      \\n    \\n      \\n\\n\\n      \\n\\n      \\n        \\n          Visola Outdoor Sofa Conversation Set\\n        \\n      \\n\\n      \\n        \\n          Ashley Furniture\\n        \\n      \\n\\n      \\n        \\n\\n  \\n  \\n\\n  \\n      \\n      \\n        $3,319.99\\n      \\n    \\n  \\n\\n\\n\\n      \\n\\n      \\n\\n      \\n        \\n          It’s the dawn of a new day for gray. Embrace the style trend with this outdoor conversation set. Each piece is crafted of HDPE material, combining ...\\n\\n          \\n            \\n              View full details\\n            \\n          \\n        \\n      \\n    \\n    \\n    \\n  \\n\\n    \\n\\n\\n    \\n\\n\\n\\n\\n\\n\\n    \\n      \\n        \\n        \\n        \\n\\n        \\n        \\n\\n        \\n\\n        \\n\\n        \\n          \\n\\n        \\n      \\n    \\n    \\n  '),\n ('div',\n  '\\n      \\n\\n\\n      \\n\\n      \\n        \\n          Visola Outdoor Sofa Conversation Set\\n        \\n      \\n\\n      \\n        \\n          Ashley Furniture\\n        \\n      \\n\\n      \\n        \\n\\n  \\n  \\n\\n  \\n      \\n      \\n        $3,319.99\\n      \\n    \\n  \\n\\n\\n\\n      \\n\\n      \\n\\n      \\n        \\n          It’s the dawn of a new day for gray. Embrace the style trend with this outdoor conversation set. Each piece is crafted of HDPE material, combining ...\\n\\n          \\n            \\n              View full details\\n            \\n          \\n        \\n      \\n    '),\n ('div',\n  '\\n          It’s the dawn of a new day for gray. Embrace the style trend with this outdoor conversation set. Each piece is crafted of HDPE material, combining ...\\n\\n          \\n            \\n              View full details\\n            \\n          \\n        '),\n ('p',\n  'It’s the dawn of a new day for gray. Embrace the style trend with this outdoor conversation set. Each piece is crafted of HDPE material, combining ...'),\n ('div',\n  '\\n    \\n    \\n      \\n        \\n          \\n          \\n\\n  \\n    \\n      \\n    \\n  \\n\\n  \\n\\n\\n\\n  \\n\\n\\n        \\n\\n        \\n\\n      \\n    \\n      \\n\\n\\n      \\n\\n      \\n        \\n          Visola Outdoor Sofa and Loveseat with Coffee Table\\n        \\n      \\n\\n      \\n        \\n          Ashley Furniture\\n        \\n      \\n\\n      \\n        \\n\\n  \\n  \\n\\n  \\n      \\n      \\n        $3,199.99\\n      \\n    \\n  \\n\\n\\n\\n      \\n\\n      \\n\\n      \\n        \\n          It’s the dawn of a new day for gray. Embrace the style trend with this outdoor set. Each piece is crafted of HDPE material, combining the exception...\\n\\n          \\n            \\n              View full details\\n            \\n          \\n        \\n      \\n    \\n    \\n    \\n  \\n\\n    \\n\\n\\n    \\n\\n\\n\\n\\n\\n\\n    \\n      \\n        \\n        \\n        \\n\\n        \\n        \\n\\n        \\n\\n        \\n\\n        \\n          \\n\\n        \\n      \\n    \\n    \\n  '),\n ('div',\n  '\\n      \\n\\n\\n      \\n\\n      \\n        \\n          Visola Outdoor Sofa and Loveseat with Coffee Table\\n        \\n      \\n\\n      \\n        \\n          Ashley Furniture\\n        \\n      \\n\\n      \\n        \\n\\n  \\n  \\n\\n  \\n      \\n      \\n        $3,199.99\\n      \\n    \\n  \\n\\n\\n\\n      \\n\\n      \\n\\n      \\n        \\n          It’s the dawn of a new day for gray. Embrace the style trend with this outdoor set. Each piece is crafted of HDPE material, combining the exception...\\n\\n          \\n            \\n              View full details\\n            \\n          \\n        \\n      \\n    '),\n ('div',\n  '\\n          It’s the dawn of a new day for gray. Embrace the style trend with this outdoor set. Each piece is crafted of HDPE material, combining the exception...\\n\\n          \\n            \\n              View full details\\n            \\n          \\n        '),\n ('p',\n  'It’s the dawn of a new day for gray. Embrace the style trend with this outdoor set. Each piece is crafted of HDPE material, combining the exception...'),\n ('div',\n  '\\n    \\n    \\n      \\n        \\n          \\n          \\n\\n  \\n    \\n      \\n    \\n  \\n\\n  \\n\\n\\n\\n  \\n\\n\\n        \\n\\n        \\n\\n      \\n    \\n      \\n\\n\\n      \\n\\n      \\n        \\n          Visola Outdoor Sofa and Loveseat Set\\n        \\n      \\n\\n      \\n        \\n          Ashley Furniture\\n        \\n      \\n\\n      \\n        \\n\\n  \\n  \\n\\n  \\n      \\n      \\n        $4,769.99\\n      \\n    \\n  \\n\\n\\n\\n      \\n\\n      \\n\\n      \\n        \\n          It’s the dawn of a new day for gray. Embrace the style trend with this outdoor set. Each piece is crafted of HDPE material, combining the exception...\\n\\n          \\n            \\n              View full details\\n            \\n          \\n        \\n      \\n    \\n    \\n    \\n  \\n\\n    \\n\\n\\n    \\n\\n\\n\\n\\n\\n\\n    \\n      \\n        \\n        \\n        \\n\\n        \\n        \\n\\n        \\n\\n        \\n\\n        \\n          \\n\\n        \\n      \\n    \\n    \\n  '),\n ('div',\n  '\\n      \\n\\n\\n      \\n\\n      \\n        \\n          Visola Outdoor Sofa and Loveseat Set\\n        \\n      \\n\\n      \\n        \\n          Ashley Furniture\\n        \\n      \\n\\n      \\n        \\n\\n  \\n  \\n\\n  \\n      \\n      \\n        $4,769.99\\n      \\n    \\n  \\n\\n\\n\\n      \\n\\n      \\n\\n      \\n        \\n          It’s the dawn of a new day for gray. Embrace the style trend with this outdoor set. Each piece is crafted of HDPE material, combining the exception...\\n\\n          \\n            \\n              View full details\\n            \\n          \\n        \\n      \\n    '),\n ('div',\n  '\\n    \\n    \\n      \\n        \\n          \\n          \\n\\n  \\n    \\n      \\n    \\n  \\n\\n  \\n\\n\\n\\n  \\n\\n\\n        \\n\\n        \\n\\n      \\n    \\n      \\n\\n\\n      \\n\\n      \\n        \\n          Visola Outdoor Sofa and Coffee Table\\n        \\n      \\n\\n      \\n        \\n          Ashley Furniture\\n        \\n      \\n\\n      \\n        \\n\\n  \\n  \\n\\n  \\n      \\n      \\n        $1,959.99\\n      \\n    \\n  \\n\\n\\n\\n      \\n\\n      \\n\\n      \\n        \\n          It’s the dawn of a new day for gray. Embrace the style trend with this sofa and coffee table set. Crafted of HDPE material that combines the except...\\n\\n          \\n            \\n              View full details\\n            \\n          \\n        \\n      \\n    \\n    \\n    \\n  \\n\\n    \\n\\n\\n    \\n\\n\\n\\n\\n\\n\\n    \\n      \\n        \\n        \\n        \\n\\n        \\n        \\n\\n        \\n\\n        \\n\\n        \\n          \\n\\n        \\n      \\n    \\n    \\n  '),\n ('div',\n  '\\n      \\n\\n\\n      \\n\\n      \\n        \\n          Visola Outdoor Sofa and Coffee Table\\n        \\n      \\n\\n      \\n        \\n          Ashley Furniture\\n        \\n      \\n\\n      \\n        \\n\\n  \\n  \\n\\n  \\n      \\n      \\n        $1,959.99\\n      \\n    \\n  \\n\\n\\n\\n      \\n\\n      \\n\\n      \\n        \\n          It’s the dawn of a new day for gray. Embrace the style trend with this sofa and coffee table set. Crafted of HDPE material that combines the except...\\n\\n          \\n            \\n              View full details\\n            \\n          \\n        \\n      \\n    '),\n ('div',\n  '\\n          It’s the dawn of a new day for gray. Embrace the style trend with this sofa and coffee table set. Crafted of HDPE material that combines the except...\\n\\n          \\n            \\n              View full details\\n            \\n          \\n        '),\n ('p',\n  'It’s the dawn of a new day for gray. Embrace the style trend with this sofa and coffee table set. Crafted of HDPE material that combines the except...')]"
     },
     "execution_count": 47,
     "metadata": {},
     "output_type": "execute_result"
    }
   ],
   "source": [
    "qq = [s for s in unique_content if \"It’s the dawn of a new day for gray\" in s[1]]\n",
    "qq"
   ],
   "metadata": {
    "collapsed": false,
    "ExecuteTime": {
     "end_time": "2024-04-14T18:16:32.182255100Z",
     "start_time": "2024-04-14T18:16:32.157276400Z"
    }
   },
   "id": "4b8eadaa285264b1"
  },
  {
   "cell_type": "code",
   "execution_count": 109,
   "outputs": [],
   "source": [
    "import html5lib\n"
   ],
   "metadata": {
    "collapsed": false,
    "ExecuteTime": {
     "end_time": "2024-04-14T15:04:53.911586500Z",
     "start_time": "2024-04-14T15:04:53.826984700Z"
    }
   },
   "id": "990af8e46b600602"
  },
  {
   "cell_type": "code",
   "execution_count": null,
   "outputs": [],
   "source": [],
   "metadata": {
    "collapsed": false
   },
   "id": "9618c6c4cb7251b4"
  },
  {
   "cell_type": "code",
   "execution_count": null,
   "outputs": [],
   "source": [],
   "metadata": {
    "collapsed": false
   },
   "id": "3e4c32ce4b323717"
  },
  {
   "cell_type": "code",
   "execution_count": null,
   "outputs": [],
   "source": [],
   "metadata": {
    "collapsed": false
   },
   "id": "12f8d77f5de50165"
  },
  {
   "cell_type": "code",
   "execution_count": null,
   "outputs": [],
   "source": [],
   "metadata": {
    "collapsed": false
   },
   "id": "c218498f7499ff8"
  },
  {
   "cell_type": "code",
   "execution_count": null,
   "outputs": [],
   "source": [],
   "metadata": {
    "collapsed": false
   },
   "id": "3379968b751d5b39"
  },
  {
   "cell_type": "code",
   "execution_count": null,
   "outputs": [],
   "source": [],
   "metadata": {
    "collapsed": false
   },
   "id": "7cb77a973e221f85"
  }
 ],
 "metadata": {
  "kernelspec": {
   "display_name": "Python 3",
   "language": "python",
   "name": "python3"
  },
  "language_info": {
   "codemirror_mode": {
    "name": "ipython",
    "version": 2
   },
   "file_extension": ".py",
   "mimetype": "text/x-python",
   "name": "python",
   "nbconvert_exporter": "python",
   "pygments_lexer": "ipython2",
   "version": "2.7.6"
  }
 },
 "nbformat": 4,
 "nbformat_minor": 5
}
