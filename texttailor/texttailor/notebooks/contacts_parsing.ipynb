{
 "cells": [
  {
   "cell_type": "code",
   "execution_count": 1,
   "id": "initial_id",
   "metadata": {
    "collapsed": true,
    "ExecuteTime": {
     "end_time": "2024-04-19T21:45:53.061027500Z",
     "start_time": "2024-04-19T21:45:50.381092200Z"
    }
   },
   "outputs": [
    {
     "data": {
      "text/plain": "True"
     },
     "execution_count": 1,
     "metadata": {},
     "output_type": "execute_result"
    }
   ],
   "source": [
    "import os\n",
    "\n",
    "from mvodolagin_personal_imports import *\n",
    "\n",
    "load_dotenv()"
   ]
  },
  {
   "cell_type": "code",
   "execution_count": 3,
   "outputs": [],
   "source": [
    "root_dir = Path(\"./root_pages\")\n",
    "root_dir = Path(root_dir.absolute())"
   ],
   "metadata": {
    "collapsed": false,
    "ExecuteTime": {
     "end_time": "2024-04-19T21:47:01.746784900Z",
     "start_time": "2024-04-19T21:47:01.725718200Z"
    }
   },
   "id": "3b3af94c2097b21d"
  },
  {
   "cell_type": "code",
   "execution_count": 4,
   "outputs": [],
   "source": [
    "def is_contact_url(url):\n",
    "    # Regex to find typical contact page keywords in URLs\n",
    "    pattern = re.compile(r'/contact|/support|/help|/about-us|/connect', re.IGNORECASE)\n",
    "    return bool(pattern.search(url))"
   ],
   "metadata": {
    "collapsed": false,
    "ExecuteTime": {
     "end_time": "2024-04-19T21:47:27.222711100Z",
     "start_time": "2024-04-19T21:47:27.201648800Z"
    }
   },
   "id": "76eb321c5ed1f370"
  },
  {
   "cell_type": "code",
   "execution_count": 5,
   "outputs": [],
   "source": [
    "os.chdir(\"..\")"
   ],
   "metadata": {
    "collapsed": false,
    "ExecuteTime": {
     "end_time": "2024-04-19T21:48:05.715500600Z",
     "start_time": "2024-04-19T21:48:05.687470400Z"
    }
   },
   "id": "ddee7646840a3260"
  },
  {
   "cell_type": "code",
   "execution_count": 6,
   "outputs": [],
   "source": [
    "from dev.get_regexps_for_pages import get_links_for_shop_directory"
   ],
   "metadata": {
    "collapsed": false,
    "ExecuteTime": {
     "end_time": "2024-04-19T21:48:34.559447800Z",
     "start_time": "2024-04-19T21:48:31.379999200Z"
    }
   },
   "id": "74fe9c66c91efaa0"
  },
  {
   "cell_type": "code",
   "execution_count": 7,
   "outputs": [
    {
     "name": "stderr",
     "output_type": "stream",
     "text": [
      "\u001B[32m2024-04-20 00:49:03.436\u001B[0m | \u001B[34m\u001B[1mDEBUG   \u001B[0m | \u001B[36mdev.get_regexps_for_pages\u001B[0m:\u001B[36mget_links_for_shop_directory\u001B[0m:\u001B[36m28\u001B[0m - \u001B[34m\u001B[1mRoot URL: ahfshop.com\u001B[0m\n",
      "\u001B[32m2024-04-20 00:49:03.437\u001B[0m | \u001B[34m\u001B[1mDEBUG   \u001B[0m | \u001B[36mdev.get_regexps_for_pages\u001B[0m:\u001B[36mget_links_for_shop_directory\u001B[0m:\u001B[36m46\u001B[0m - \u001B[34m\u001B[1mLinks: 193, Contacts: 20, Internals: 164, Externals: 0, Unprocessed: 9\u001B[0m\n",
      "\u001B[32m2024-04-20 00:49:03.438\u001B[0m | \u001B[34m\u001B[1mDEBUG   \u001B[0m | \u001B[36mdev.get_regexps_for_pages\u001B[0m:\u001B[36mget_links_for_shop_directory\u001B[0m:\u001B[36m61\u001B[0m - \u001B[34m\u001B[1mTotal links: 56, Universal: 12, Common: 0, Rare: 44\u001B[0m\n"
     ]
    }
   ],
   "source": [
    "for d in root_dir.iterdir():\n",
    "    links = get_links_for_shop_directory(d)\n",
    "    if links:\n",
    "        break\n"
   ],
   "metadata": {
    "collapsed": false,
    "ExecuteTime": {
     "end_time": "2024-04-19T21:49:03.449885Z",
     "start_time": "2024-04-19T21:49:02.819686400Z"
    }
   },
   "id": "f2b931caafa96638"
  },
  {
   "cell_type": "code",
   "execution_count": 9,
   "outputs": [
    {
     "data": {
      "text/plain": "dict_keys(['universal', 'common', 'rare', 'contact'])"
     },
     "execution_count": 9,
     "metadata": {},
     "output_type": "execute_result"
    }
   ],
   "source": [
    "links.keys()"
   ],
   "metadata": {
    "collapsed": false,
    "ExecuteTime": {
     "end_time": "2024-04-19T21:49:14.512040600Z",
     "start_time": "2024-04-19T21:49:14.476946300Z"
    }
   },
   "id": "a5612b1003fa1f4e"
  },
  {
   "cell_type": "code",
   "execution_count": 12,
   "outputs": [
    {
     "data": {
      "text/plain": "['/pages/contact-us', '/pages/about-us']"
     },
     "execution_count": 12,
     "metadata": {},
     "output_type": "execute_result"
    }
   ],
   "source": [
    "contact_page_links = sum([[link for link in links[k] if is_contact_url(link)] for k in [\"universal\", \"common\", \"rare\"]], [])\n",
    "contact_page_links"
   ],
   "metadata": {
    "collapsed": false,
    "ExecuteTime": {
     "end_time": "2024-04-19T21:50:22.965179800Z",
     "start_time": "2024-04-19T21:50:22.933156200Z"
    }
   },
   "id": "3d56a4bcb5cfca74"
  },
  {
   "cell_type": "code",
   "execution_count": null,
   "outputs": [],
   "source": [],
   "metadata": {
    "collapsed": false
   },
   "id": "989646d68f9c99ae"
  },
  {
   "cell_type": "code",
   "execution_count": null,
   "outputs": [],
   "source": [],
   "metadata": {
    "collapsed": false
   },
   "id": "c9d96f1e62154ac6"
  },
  {
   "cell_type": "code",
   "execution_count": null,
   "outputs": [],
   "source": [],
   "metadata": {
    "collapsed": false
   },
   "id": "a3d62e1ec1a76d56"
  },
  {
   "cell_type": "code",
   "execution_count": null,
   "outputs": [],
   "source": [],
   "metadata": {
    "collapsed": false
   },
   "id": "d4f45d63e90f99b2"
  },
  {
   "cell_type": "code",
   "execution_count": null,
   "outputs": [],
   "source": [],
   "metadata": {
    "collapsed": false
   },
   "id": "e664aea249904c97"
  },
  {
   "cell_type": "code",
   "execution_count": null,
   "outputs": [],
   "source": [],
   "metadata": {
    "collapsed": false
   },
   "id": "75bfdb6448e17757"
  },
  {
   "cell_type": "code",
   "execution_count": null,
   "outputs": [],
   "source": [],
   "metadata": {
    "collapsed": false
   },
   "id": "75dfe2344d59dcee"
  },
  {
   "cell_type": "code",
   "execution_count": null,
   "outputs": [],
   "source": [],
   "metadata": {
    "collapsed": false
   },
   "id": "d77db719ffc98ba6"
  },
  {
   "cell_type": "code",
   "execution_count": null,
   "outputs": [],
   "source": [],
   "metadata": {
    "collapsed": false
   },
   "id": "81e26ff14b65e26"
  },
  {
   "cell_type": "code",
   "execution_count": null,
   "outputs": [],
   "source": [],
   "metadata": {
    "collapsed": false
   },
   "id": "ace5985d3148355"
  },
  {
   "cell_type": "code",
   "execution_count": null,
   "outputs": [],
   "source": [],
   "metadata": {
    "collapsed": false
   },
   "id": "25a6543a3d87a51d"
  },
  {
   "cell_type": "code",
   "execution_count": null,
   "outputs": [],
   "source": [],
   "metadata": {
    "collapsed": false
   },
   "id": "f8aa757cc3b2d1ac"
  }
 ],
 "metadata": {
  "kernelspec": {
   "display_name": "Python 3",
   "language": "python",
   "name": "python3"
  },
  "language_info": {
   "codemirror_mode": {
    "name": "ipython",
    "version": 2
   },
   "file_extension": ".py",
   "mimetype": "text/x-python",
   "name": "python",
   "nbconvert_exporter": "python",
   "pygments_lexer": "ipython2",
   "version": "2.7.6"
  }
 },
 "nbformat": 4,
 "nbformat_minor": 5
}
