{
 "cells": [
  {
   "cell_type": "code",
   "execution_count": 1,
   "id": "initial_id",
   "metadata": {
    "collapsed": true,
    "ExecuteTime": {
     "end_time": "2024-04-04T14:13:56.365943100Z",
     "start_time": "2024-04-04T14:13:53.501918Z"
    }
   },
   "outputs": [
    {
     "data": {
      "text/plain": "True"
     },
     "execution_count": 1,
     "metadata": {},
     "output_type": "execute_result"
    }
   ],
   "source": [
    "import json\n",
    "\n",
    "from mvodolagin_personal_imports import *\n",
    "\n",
    "load_dotenv()"
   ]
  },
  {
   "cell_type": "code",
   "execution_count": 2,
   "outputs": [],
   "source": [
    "data_dir = Path(r\"E:\\Work\\Personal\\repos\\web_scrapers\\spiders\\texttailor\\data\\carolhouse_spider\")"
   ],
   "metadata": {
    "collapsed": false,
    "ExecuteTime": {
     "end_time": "2024-04-04T14:13:56.375945800Z",
     "start_time": "2024-04-04T14:13:56.366944100Z"
    }
   },
   "id": "f456d26f19f62338"
  },
  {
   "cell_type": "code",
   "execution_count": 3,
   "outputs": [],
   "source": [
    "for file in data_dir.glob(\"*.html\"):\n",
    "    with open(file, \"r\", encoding=\"utf-8\") as f:\n",
    "        html_text = f.read()\n",
    "    break"
   ],
   "metadata": {
    "collapsed": false,
    "ExecuteTime": {
     "end_time": "2024-04-04T14:13:56.377944500Z",
     "start_time": "2024-04-04T14:13:56.370944300Z"
    }
   },
   "id": "cb8eab79c1eedbf"
  },
  {
   "cell_type": "code",
   "execution_count": null,
   "outputs": [],
   "source": [
    "from readability import Document as readability_Document\n",
    "import html2text\n",
    "from trafilatura import extract\n",
    "\n",
    "text_maker = html2text.HTML2Text()\n",
    "text_maker.ignore_links = True\n",
    "\n",
    "raw_data_path = Path(r\"E:\\Work\\Personal\\repos\\web_scrapers\\spiders\\glossary_scraper\\data\")\n",
    "\n",
    "raw_documents = []\n",
    "\n",
    "for subdir in raw_data_path.glob(\"*\"):\n",
    "    source_name = subdir.stem\n",
    "    common_elements, _ = populate_common_elements(subdir, threshold=0.25)\n",
    "    for html_file in tqdm(list(subdir.glob(\"*.html\"))):\n",
    "        if html_file.stem == \"start_page\":\n",
    "            continue\n",
    "        page_name = html_file.stem.split(\"-\", 1)[-1]\n",
    "        with open(html_file, \"r\", encoding=\"utf-8\") as f:\n",
    "            html = f.read()\n",
    "\n",
    "        modified_html = remove_common_elements(html, common_elements)\n",
    "        doc = json.loads(extract(modified_html, output_format=\"json\", include_comments=True))\n",
    "        doc[\"page_name\"] = page_name\n",
    "\n",
    "        raw_documents.append(doc)\n"
   ],
   "metadata": {
    "collapsed": false
   },
   "id": "c1449f5432bf9008"
  },
  {
   "cell_type": "code",
   "execution_count": 4,
   "outputs": [],
   "source": [
    "from trafilatura import extract\n",
    "\n",
    "doc = json.loads(extract(html_text, output_format=\"json\", include_comments=True))"
   ],
   "metadata": {
    "collapsed": false,
    "ExecuteTime": {
     "end_time": "2024-04-04T14:00:37.776557900Z",
     "start_time": "2024-04-04T14:00:33.349232400Z"
    }
   },
   "id": "3adee94a2dce9901"
  },
  {
   "cell_type": "code",
   "execution_count": 5,
   "outputs": [
    {
     "data": {
      "text/plain": "{'title': 'Pulaski Furniture Living Room Two Way Sliding Door Curio 20484',\n 'author': None,\n 'hostname': 'carolhouse.com',\n 'date': '2024-01-01',\n 'fingerprint': '966a2b6c5da7d07f',\n 'id': None,\n 'license': None,\n 'comments': '',\n 'raw_text': 'Pulaski Furniture Living Room Two Way Sliding Door Curio 20484 at Carol House Furniture This beautiful mirrored-back curio cabinet lets you display your collections: a source of pride, accomplishment, and fond memories. Give your cherished belongings the spotlight they deserve with this beautiful locking curio cabinet, fitted with a sliding beveled class door and locking mechanism for security. Five generously-sized glass shelves can be adjusted into nearly any configuration with top-to-bottom position holes every two inches, allowing you to customize the display to your liking. Along the framed edges, stunning rope-and-block molding frames and flatters the curio\\'s contents, while two-setting halogen top-mounted lights provide an attractive, uncluttered view of your items. This curio cabinet is finished with glass sides and a fully mirrored back that allows you to see your items on display from every angle. A warm honey-brown finish on the cabinet\\'s attractive veneers goes with any decor theme for easy style matching. Two Way Sliding Door Curio 20484 20484 Pulaski Furniture Carol House Discount Price 1047. Carol House will BEAT ANY legitimate competitor\\'s PRICE (including internet prices) on the same item when you come into our stores. Plus you\\'ll get our Free Concierge Services! On average you\\'ll get a 20-30% better value than purchasing during a sale elsewhere! Please call us at Valley Park, MO (636) 225-3666 OR Maryland Heights, Missouri (314) 427-4200 for more information. Availability In Stock 90% of time. On Display Maryland Hts. & Valley Park, MO stores! Product Details UPHOLSTERED FURNITURE: in store may be displayed in latest color patterns available. Pictures shown demonstrate colors and patterns that are usually also available. Most Brand Names at Carol House have many fabric options. Brand Pulaski Furniture SKU 20484 Item Description Dimensions Design Elements & Features Other Details Product Overview Item Description Product Description This beautiful mirrored-back curio cabinet lets you display your collections: a source of pride, accomplishment, and fond memories. Give your cherished belongings the spotlight they deserve with this beautiful locking curio cabinet, fitted with a sliding beveled class door and locking mechanism for security. Five generously-sized glass shelves can be adjusted into nearly any configuration with top-to-bottom position holes every two inches, allowing you to customize the display to your liking. Along the framed edges, stunning rope-and-block molding frames and flatters the curio\\'s contents, while two-setting halogen top-mounted lights provide an attractive, uncluttered view of your items. This curio cabinet is finished with glass sides and a fully mirrored back that allows you to see your items on display from every angle. A warm honey-brown finish on the cabinet\\'s attractive veneers goes with any decor theme for easy style matching. Collection Features With over 60 years of furnishing homes across America, Pulaski Furniture continues its heritage of outstanding value, quality and design. We invite you to explore our accents and display cabinet collection and find the perfect piece to make a statement or complete your vision for any area of your home. Dimensions Carton 46.22\" L x 19.29\" W x 83.66\" H (117 cm x 49 cm x 212 cm), 244.2 lb (109.89 kg) Width 43\" (109.2 cm)43INH Depth 16\" (40.6 cm)16INH Height 80\" (203.2 cm)80INH Weight 211.2 lb (95 kg)211.2 lb Volume 43.17 cu ft (1.2 m3) Specifications Shelves measure 38W x 11.5D x 0.25H Design Elements & Features Material Hardwoods, Glass 5 Style Traditional Features One door Five shelves Plate grooves on shelves 1.5-inches from the back Lock on left side Finish Medium Wood Finish Warm honey-toned wood veneers highlight subtle details in rope-and-block carved frame Frame Construction Pulaski uses carefully chosen solid wood and select wood veneers over durable wood products in our furniture construction. Use of veneers enables more decorative looks unattainable with solid wood. Veneers are used over durable wood products such as medium density fiberboard (MDF) and particle board, made of renewable resources. MDF and particle board are used in quality furniture for areas that need to be stable, such as large surfaces. These durable wood products do not expand and contract with heat and cold and do not absorb moisture as much as solid wood, which results in stronger and longer-lasting furniture.',\n 'text': 'Pulaski Furniture Living Room Two Way Sliding Door Curio 20484 at Carol House Furniture\\nThis beautiful mirrored-back curio cabinet lets you display your collections: a source of pride, accomplishment, and fond memories. Give your cherished belongings the spotlight they deserve with this beautiful locking curio cabinet, fitted with a sliding beveled class door and locking mechanism for security. Five generously-sized glass shelves can be adjusted into nearly any configuration with top-to-bottom position holes every two inches, allowing you to customize the display to your liking. Along the framed edges, stunning rope-and-block molding frames and flatters the curio\\'s contents, while two-setting halogen top-mounted lights provide an attractive, uncluttered view of your items. This curio cabinet is finished with glass sides and a fully mirrored back that allows you to see your items on display from every angle. A warm honey-brown finish on the cabinet\\'s attractive veneers goes with any decor theme for easy style matching.\\nTwo Way Sliding Door Curio\\n20484\\n20484\\nPulaski Furniture\\nCarol House Discount Price\\n1047.\\nCarol House will BEAT ANY legitimate competitor\\'s PRICE (including internet prices) on the same item when you come into our stores. Plus you\\'ll get our Free Concierge Services! On average you\\'ll get a 20-30% better value than purchasing during a sale elsewhere!\\nPlease call us at Valley Park, MO (636) 225-3666 OR Maryland Heights, Missouri (314) 427-4200 for more information.\\nAvailability\\nIn Stock 90% of time.\\nOn Display\\nMaryland Hts. & Valley Park, MO stores!\\nProduct Details\\nUPHOLSTERED FURNITURE: in store may be displayed in latest color patterns available. Pictures shown demonstrate colors and patterns that are usually also available. Most Brand Names at Carol House have many fabric options.\\nBrand Pulaski Furniture\\nSKU 20484\\nItem Description\\nDimensions\\nDesign Elements & Features\\nOther Details\\nProduct Overview\\nItem Description\\nProduct Description This beautiful mirrored-back curio cabinet lets you display your collections: a source of pride, accomplishment, and fond memories. Give your cherished belongings the spotlight they deserve with this beautiful locking curio cabinet, fitted with a sliding beveled class door and locking mechanism for security. Five generously-sized glass shelves can be adjusted into nearly any configuration with top-to-bottom position holes every two inches, allowing you to customize the display to your liking. Along the framed edges, stunning rope-and-block molding frames and flatters the curio\\'s contents, while two-setting halogen top-mounted lights provide an attractive, uncluttered view of your items. This curio cabinet is finished with glass sides and a fully mirrored back that allows you to see your items on display from every angle. A warm honey-brown finish on the cabinet\\'s attractive veneers goes with any decor theme for easy style matching.\\nCollection Features With over 60 years of furnishing homes across America, Pulaski Furniture continues its heritage of outstanding value, quality and design. We invite you to explore our accents and display cabinet collection and find the perfect piece to make a statement or complete your vision for any area of your home.\\nDimensions\\nCarton 46.22\" L x 19.29\" W x 83.66\" H (117 cm x 49 cm x 212 cm), 244.2 lb (109.89 kg)\\nWidth 43\" (109.2 cm)43INH\\nDepth 16\" (40.6 cm)16INH\\nHeight 80\" (203.2 cm)80INH\\nWeight 211.2 lb (95 kg)211.2 lb\\nVolume 43.17 cu ft (1.2 m3)\\nSpecifications Shelves measure 38W x 11.5D x 0.25H\\nDesign Elements & Features\\nMaterial Hardwoods, Glass\\n5\\nStyle Traditional\\nFeatures One door\\nFive shelves\\nPlate grooves on shelves 1.5-inches from the back\\nLock on left side\\nFinish Medium Wood\\nFinish Warm honey-toned wood veneers highlight subtle details in rope-and-block carved frame\\nFrame Construction Pulaski uses carefully chosen solid wood and select wood veneers over durable wood products in our furniture construction. Use of veneers enables more decorative looks unattainable with solid wood. Veneers are used over durable wood products such as medium density fiberboard (MDF) and particle board, made of renewable resources. MDF and particle board are used in quality furniture for areas that need to be stable, such as large surfaces. These durable wood products do not expand and contract with heat and cold and do not absorb moisture as much as solid wood, which results in stronger and longer-lasting furniture.',\n 'language': None,\n 'image': 'https://images2.imgix.net/p4dbimg/707/images/20484-silo.jpg?fit=fill&bg=FFFFFF&trim=color&trimtol=5&trimcolor=FFFFFF&w=384&h=288&fm=pjpg&auto=format',\n 'pagetype': 'website',\n 'source': 'https://www.carolhouse.com/pulaski-furniture-two-way-sliding-door-curio/20484-707/iteminformation.aspx',\n 'source-hostname': 'carolhouse.com',\n 'excerpt': 'This beautiful mirrored-back curio cabinet lets you display your collections: a source of pride, accomplishment, and fond memories.',\n 'categories': '',\n 'tags': '20484,In Stock 90% of time.,Curio Cabinets, Cabinets,Living Room,PFC Curios,5,Traditional,Medium Wood,Pulaski Furniture,Two Way Sliding Door Curio'}"
     },
     "execution_count": 5,
     "metadata": {},
     "output_type": "execute_result"
    }
   ],
   "source": [
    "doc"
   ],
   "metadata": {
    "collapsed": false,
    "ExecuteTime": {
     "end_time": "2024-04-04T14:00:37.828555200Z",
     "start_time": "2024-04-04T14:00:37.792557700Z"
    }
   },
   "id": "e07424d0eab10e42"
  },
  {
   "cell_type": "code",
   "execution_count": 6,
   "outputs": [
    {
     "data": {
      "text/plain": "dict_keys(['title', 'author', 'hostname', 'date', 'fingerprint', 'id', 'license', 'comments', 'raw_text', 'text', 'language', 'image', 'pagetype', 'source', 'source-hostname', 'excerpt', 'categories', 'tags'])"
     },
     "execution_count": 6,
     "metadata": {},
     "output_type": "execute_result"
    }
   ],
   "source": [
    "doc.keys()"
   ],
   "metadata": {
    "collapsed": false,
    "ExecuteTime": {
     "end_time": "2024-04-04T14:00:37.851557300Z",
     "start_time": "2024-04-04T14:00:37.801560400Z"
    }
   },
   "id": "d264e0cd701bb4f3"
  },
  {
   "cell_type": "code",
   "execution_count": 8,
   "outputs": [
    {
     "data": {
      "text/plain": "'https://www.carolhouse.com/pulaski-furniture-two-way-sliding-door-curio/20484-707/iteminformation.aspx'"
     },
     "execution_count": 8,
     "metadata": {},
     "output_type": "execute_result"
    }
   ],
   "source": [
    "doc[\"source\"]"
   ],
   "metadata": {
    "collapsed": false,
    "ExecuteTime": {
     "end_time": "2024-04-04T08:32:03.968253700Z",
     "start_time": "2024-04-04T08:32:03.949255400Z"
    }
   },
   "id": "5923de4debc71ff5"
  },
  {
   "cell_type": "code",
   "execution_count": 4,
   "outputs": [],
   "source": [
    "from bs4 import BeautifulSoup\n",
    "\n",
    "soup = BeautifulSoup(html_text, \"html.parser\")"
   ],
   "metadata": {
    "collapsed": false,
    "ExecuteTime": {
     "end_time": "2024-04-04T14:14:02.893253300Z",
     "start_time": "2024-04-04T14:14:02.686649600Z"
    }
   },
   "id": "d0ce4dd9e7a2c1f4"
  },
  {
   "cell_type": "code",
   "execution_count": 14,
   "outputs": [
    {
     "name": "stdout",
     "output_type": "stream",
     "text": [
      "html\n"
     ]
    }
   ],
   "source": [
    "# Check which of the lowest-level tags have \"Product Description\" in them\n",
    "\n",
    "for tag in soup.find_all():\n",
    "    if \"Product Description\" in tag.text:\n",
    "        print(tag.name)\n",
    "        break\n",
    "\n"
   ],
   "metadata": {
    "collapsed": false,
    "ExecuteTime": {
     "end_time": "2024-04-04T08:35:06.285170900Z",
     "start_time": "2024-04-04T08:35:06.268632700Z"
    }
   },
   "id": "350cc3aecc3fe743"
  },
  {
   "cell_type": "code",
   "execution_count": 20,
   "outputs": [],
   "source": [
    "candidates = []\n",
    "\n",
    "# Search for tags that contain text and bold elements\n",
    "for tag in soup.find_all(string=True):\n",
    "    parent = tag.parent\n",
    "    if parent.name not in ['script', 'style'] and parent.find(['b', 'strong']):\n",
    "        candidates.append(parent)"
   ],
   "metadata": {
    "collapsed": false,
    "ExecuteTime": {
     "end_time": "2024-04-04T08:37:03.504212400Z",
     "start_time": "2024-04-04T08:37:03.231555800Z"
    }
   },
   "id": "22e7a1e1bad8a754"
  },
  {
   "cell_type": "code",
   "execution_count": 28,
   "outputs": [],
   "source": [
    "unique_candidates = list({c for c in candidates if not any([c.find_parent() in candidates])})"
   ],
   "metadata": {
    "collapsed": false,
    "ExecuteTime": {
     "end_time": "2024-04-04T08:37:59.750434600Z",
     "start_time": "2024-04-04T08:37:59.704434600Z"
    }
   },
   "id": "c23555a2dc321465"
  },
  {
   "cell_type": "code",
   "execution_count": 29,
   "outputs": [
    {
     "data": {
      "text/plain": "2"
     },
     "execution_count": 29,
     "metadata": {},
     "output_type": "execute_result"
    }
   ],
   "source": [
    "len(unique_candidates)"
   ],
   "metadata": {
    "collapsed": false,
    "ExecuteTime": {
     "end_time": "2024-04-04T08:38:00.982946800Z",
     "start_time": "2024-04-04T08:38:00.962947800Z"
    }
   },
   "id": "5845fb91cb645503"
  },
  {
   "cell_type": "code",
   "execution_count": 34,
   "outputs": [
    {
     "data": {
      "text/plain": "'html'"
     },
     "execution_count": 34,
     "metadata": {},
     "output_type": "execute_result"
    }
   ],
   "source": [
    "unique_candidates[0].name"
   ],
   "metadata": {
    "collapsed": false,
    "ExecuteTime": {
     "end_time": "2024-04-04T08:39:14.810114400Z",
     "start_time": "2024-04-04T08:39:14.795792500Z"
    }
   },
   "id": "d91e72b3af39adc6"
  },
  {
   "cell_type": "code",
   "execution_count": 35,
   "outputs": [],
   "source": [
    "def find_description_tags(html):\n",
    "    soup = BeautifulSoup(html, 'html.parser')\n",
    "    candidates = []\n",
    "\n",
    "    # Search for tags that contain text and bold elements\n",
    "    for tag in soup.find_all(text=True):\n",
    "        parent = tag.parent\n",
    "        if parent.name not in ['script', 'style'] and \"Product Description\" in tag:\n",
    "            candidates.append(parent)\n",
    "\n",
    "    # Narrow down to unique smallest candidates by filtering out parents of found tags\n",
    "    unique_candidates = list({c for c in candidates if not any([c.find_parent() in candidates])})\n",
    "    unique_candidates = [c for c in unique_candidates if c.name != \"html\"]\n",
    "\n",
    "    # Further processing to ensure they match your product description criteria\n",
    "    descriptions = [tag for tag in unique_candidates if 'product' in tag.text.lower()]\n",
    "\n",
    "    return descriptions"
   ],
   "metadata": {
    "collapsed": false,
    "ExecuteTime": {
     "end_time": "2024-04-04T08:39:22.829805200Z",
     "start_time": "2024-04-04T08:39:22.817241700Z"
    }
   },
   "id": "75595248bd83e236"
  },
  {
   "cell_type": "code",
   "execution_count": 36,
   "outputs": [
    {
     "name": "stdout",
     "output_type": "stream",
     "text": [
      "<span class=\"ProductInfoSpanName ProductInfoSpanNameProductDescription\">Product Description</span> \n"
     ]
    },
    {
     "name": "stderr",
     "output_type": "stream",
     "text": [
      "C:\\Users\\Karganak\\AppData\\Local\\Temp\\ipykernel_38904\\1672327430.py:6: DeprecationWarning: The 'text' argument to find()-type methods is deprecated. Use 'string' instead.\n",
      "  for tag in soup.find_all(text=True):\n"
     ]
    }
   ],
   "source": [
    "description_tags = find_description_tags(html_text)\n",
    "for tag in description_tags:\n",
    "    print(tag, '\\n')"
   ],
   "metadata": {
    "collapsed": false,
    "ExecuteTime": {
     "end_time": "2024-04-04T08:39:24.726723500Z",
     "start_time": "2024-04-04T08:39:24.656117800Z"
    }
   },
   "id": "bb2665a2c0c24eb5"
  },
  {
   "cell_type": "code",
   "execution_count": 39,
   "outputs": [
    {
     "data": {
      "text/plain": "<span class=\"ProductInfoSpanValue ProductInfoSpanValueProductDescription\">This beautiful mirrored-back curio cabinet lets you display your collections: a source of pride, accomplishment, and fond memories. Give your cherished belongings the spotlight they deserve with this beautiful locking curio cabinet, fitted with a sliding beveled class door and locking mechanism for security. Five generously-sized glass shelves can be adjusted into nearly any configuration with top-to-bottom position holes every two inches, allowing you to customize the display to your liking. Along the framed edges, stunning rope-and-block molding frames and flatters the curio's contents, while two-setting halogen top-mounted lights provide an attractive, uncluttered view of your items. This curio cabinet is finished with glass sides and a fully mirrored back that allows you to see your items on display from every angle. A warm honey-brown finish on the cabinet's attractive veneers goes with any decor theme for easy style matching.</span>"
     },
     "execution_count": 39,
     "metadata": {},
     "output_type": "execute_result"
    }
   ],
   "source": [
    "tag.next_sibling.next_sibling"
   ],
   "metadata": {
    "collapsed": false,
    "ExecuteTime": {
     "end_time": "2024-04-04T08:40:44.046286800Z",
     "start_time": "2024-04-04T08:40:44.032289500Z"
    }
   },
   "id": "ac9cc0710b4321ff"
  },
  {
   "cell_type": "code",
   "execution_count": 5,
   "outputs": [],
   "source": [
    "from bs4 import BeautifulSoup\n",
    "from collections import Counter\n",
    "\n",
    "\n",
    "def is_lowest_level_tag(tag):\n",
    "    # A tag is the lowest level if it does not contain other tags with text\n",
    "    return not any(child for child in tag.children if child.name and child.get_text(strip=True))\n",
    "\n",
    "\n",
    "def collect_lowest_level_tags_with_substantial_text(html):\n",
    "    soup = BeautifulSoup(html, 'html.parser')\n",
    "    tags_by_class = {}\n",
    "\n",
    "    for tag in soup.find_all(True):\n",
    "        if tag.has_attr('class') and is_lowest_level_tag(tag) and len(tag.get_text(strip=True)) >= 20:\n",
    "            class_name = ' '.join(tag['class'])\n",
    "            if class_name not in tags_by_class:\n",
    "                tags_by_class[class_name] = []\n",
    "            tags_by_class[class_name].append(tag)\n",
    "\n",
    "    return tags_by_class\n",
    "\n",
    "\n",
    "def collect_texts_by_class_from_tags(html):\n",
    "    # Placeholder for the modified collect_lowest_level_tags_with_substantial_text function\n",
    "    # This version is assumed to return a dict with class names as keys and lists of tag objects as values\n",
    "    substantial_tags = collect_lowest_level_tags_with_substantial_text(html)\n",
    "\n",
    "    texts_by_class = {}\n",
    "    for class_name, tags in substantial_tags.items():\n",
    "        # Initialize or extend the list of texts for the class name\n",
    "        texts_by_class.setdefault(class_name, [])\n",
    "        for tag in tags:\n",
    "            texts_by_class[class_name].append(tag.get_text(strip=True))\n",
    "\n",
    "    return texts_by_class\n",
    "\n",
    "\n",
    "# Collect and print tags with substantial text\n",
    "substantial_tag_counts = collect_lowest_level_tags_with_substantial_text(html_text)\n",
    "texts_by_class = collect_texts_by_class_from_tags(html_text)\n"
   ],
   "metadata": {
    "collapsed": false,
    "ExecuteTime": {
     "end_time": "2024-04-04T14:14:14.201971Z",
     "start_time": "2024-04-04T14:14:14.114911700Z"
    }
   },
   "id": "58990ecf1a67b236"
  },
  {
   "cell_type": "code",
   "execution_count": 6,
   "outputs": [
    {
     "data": {
      "text/plain": "{'shopbycolorLabel': ['Shiatsu Massage Chairs',\n  'Bunk Beds & Loft Beds',\n  'Home Theater Seating',\n  'Shiatsu Massage Chairs',\n  'Bassett Mirror Company',\n  'Best Home Furnishings',\n  'Carol House Design Collection',\n  'Carol House Reclaimed Collection',\n  'Hillsdale Kids and Teen',\n  'Jonathan Louis International',\n  'Legacy Classic Furniture',\n  'Pacific Coast Lighting',\n  'Perfect Sleeper® by Serta',\n  'Rachael Ray Home by Legacy Classic Furniture',\n  'Vaughan-Bassett Furniture Company'],\n 'Label': ['Entertainment Centers'],\n 'ProductImageDisclaimerParagraph ProductImageDisclaimerParagraphPhotoText': ['Upholstered furniture may be stocked in a different color or pattern than picture shows. Fabric in pictures may also be available by custom order.'],\n 'viewallincollectionLink': ['View all of the items in the PFC Curios collection'],\n 'ProductDescriptionHeading': ['Pulaski Furniture Living Room Two Way Sliding Door Curio 20484 at Carol House Furniture'],\n 'popupForReqInfoFormFn omnivue-popup': ['Request More Information'],\n 'AvailabilitySpanValue AvailabilitySpanValue1': ['In Stock 90% of time.'],\n 'OnDisplaySpanValue': ['Maryland Hts. & Valley Park, MO stores!'],\n 'ProductDetailsParagraphSEO': ['UPHOLSTERED FURNITURE: in store may be displayed in latest color patterns available. Pictures shown demonstrate colors and patterns that are usually also available. Most Brand Names at Carol House have many fabric options.'],\n 'AdditionalLinksAnchor': ['Free Delivery and Free Concierge Services',\n  'Satisfaction Guarantee'],\n 'PDFAttachmentsTitle': ['Additional Information:'],\n 'ProductInfoHeading ProductInfoHeadingDesignElementsFeatures desktop-tab-heading': ['Design Elements & Features'],\n 'ProductInfoSpanValue ProductInfoSpanValueProductDescription': [\"This beautiful mirrored-back curio cabinet lets you display your collections: a source of pride, accomplishment, and fond memories. Give your cherished belongings the spotlight they deserve with this beautiful locking curio cabinet, fitted with a sliding beveled class door and locking mechanism for security. Five generously-sized glass shelves can be adjusted into nearly any configuration with top-to-bottom position holes every two inches, allowing you to customize the display to your liking. Along the framed edges, stunning rope-and-block molding frames and flatters the curio's contents, while two-setting halogen top-mounted lights provide an attractive, uncluttered view of your items. This curio cabinet is finished with glass sides and a fully mirrored back that allows you to see your items on display from every angle. A warm honey-brown finish on the cabinet's attractive veneers goes with any decor theme for easy style matching.\"],\n 'ProductInfoSpanValue ProductInfoSpanValueCollectionFeatures': ['With over 60 years of furnishing homes across America, Pulaski Furniture continues its heritage of outstanding value, quality and design. We invite you to explore our accents and display cabinet collection and find the perfect piece to make a statement or complete your vision for any area of your home.'],\n 'ProductInfoSpanValue ProductInfoSpanValueLength': ['46.22\" L x 19.29\" W x 83.66\" H (117 cm x 49 cm x 212 cm), 244.2 lb (109.89 kg)'],\n 'ProductInfoSpanValue ProductInfoSpanValueSpecifications': ['Shelves measure 38W x 11.5D x 0.25H'],\n 'ProductInfoHeading ProductInfoHeadingDesignElementsFeatures': ['Design Elements & Features'],\n 'ProductInfoSpanValue ProductInfoSpanValueFeatures': ['One doorFive shelvesPlate grooves on shelves 1.5-inches from the backLock on left side'],\n 'ProductInfoSpanValue ProductInfoSpanValueFinish': ['Warm honey-toned wood veneers highlight subtle details in rope-and-block carved frame'],\n 'ProductInfoSpanValue ProductInfoSpanValueFrameConstruction': ['Pulaski uses carefully chosen solid wood and select wood veneers over durable wood products in our furniture construction. Use of veneers enables more decorative looks unattainable with solid wood. Veneers are used over durable wood products such as medium density fiberboard (MDF) and particle board, made of renewable resources. MDF and particle board are used in quality furniture for areas that need to be stable, such as large surfaces. These durable wood products do not expand and contract with heat and cold and do not absorb moisture as much as solid wood, which results in stronger and longer-lasting furniture.'],\n 'ProductInfoSpanValue ProductInfoSpanValueAvailability': ['In Stock 90% of time.'],\n 'ProductInfoSpanName ProductInfoSpanNameCleaningInformation': ['Cleaning Information'],\n 'ProductInfoSpanValue ProductInfoSpanValueCleaningInformation': ['L: Gently wipe with a water dampened white cotton cloth. Wipe dry with a clean dry cloth. Clean spills immediately with a soft, slightly damp cloth.'],\n 'ProductInfoSpanValue ProductInfoSpanValueDescription': ['Two Way Sliding Door Curio'],\n 'ProductInfoSpanValue ProductInfoSpanValueType': ['Curio Cabinets, Cabinets'],\n 'ProductThumbnailParagraph ProductThumbnailParagraphDescription': ['Two Way Sliding Door Curio',\n  '2-way Sliding Door Curio Medallion Cher',\n  'Two Way Sliding Door Curio',\n  'Two Way Sliding Door Curio',\n  'Two Way Sliding Door Curio',\n  'Sliding Door 5 Shelf Curio Cabinet in Golden Oak Brown',\n  'Two Way Sliding Door Curio',\n  'Two Way Sliding Door Curio'],\n 'ProductPriceDisclaimerParagraph': ['Management reserves the right to cancel and refund any order when circumstances will cause cumbersome difficulties, or if keyed below CHF operating costs.']}"
     },
     "execution_count": 6,
     "metadata": {},
     "output_type": "execute_result"
    }
   ],
   "source": [
    "texts_by_class"
   ],
   "metadata": {
    "collapsed": false,
    "ExecuteTime": {
     "end_time": "2024-04-04T14:14:15.206207600Z",
     "start_time": "2024-04-04T14:14:15.183208Z"
    }
   },
   "id": "abacc88ce892a321"
  },
  {
   "cell_type": "code",
   "execution_count": null,
   "outputs": [],
   "source": [],
   "metadata": {
    "collapsed": false
   },
   "id": "1c6d64f61ba99583"
  },
  {
   "cell_type": "code",
   "execution_count": null,
   "outputs": [],
   "source": [],
   "metadata": {
    "collapsed": false
   },
   "id": "5076c607bdacca24"
  },
  {
   "cell_type": "code",
   "execution_count": null,
   "outputs": [],
   "source": [],
   "metadata": {
    "collapsed": false
   },
   "id": "dba5a0cba09885ce"
  },
  {
   "cell_type": "code",
   "execution_count": 7,
   "outputs": [],
   "source": [
    "root_page_html = Path(\n",
    "    r\"C:\\Users\\Karganak\\Downloads\\Vivaldi downloads\\Carol House Furniture _ Largest Selection Lowest Price.html\")"
   ],
   "metadata": {
    "collapsed": false,
    "ExecuteTime": {
     "end_time": "2024-04-04T14:14:17.894093200Z",
     "start_time": "2024-04-04T14:14:17.888093900Z"
    }
   },
   "id": "6e512e1308da1df0"
  },
  {
   "cell_type": "code",
   "execution_count": 8,
   "outputs": [],
   "source": [
    "with open(root_page_html, \"r\", encoding=\"utf-8\") as f:\n",
    "    root_page_text = f.read()"
   ],
   "metadata": {
    "collapsed": false,
    "ExecuteTime": {
     "end_time": "2024-04-04T14:14:19.071751100Z",
     "start_time": "2024-04-04T14:14:19.052751900Z"
    }
   },
   "id": "7a947b4e4b648e0a"
  },
  {
   "cell_type": "code",
   "execution_count": 9,
   "outputs": [],
   "source": [
    "soup = BeautifulSoup(root_page_text, \"html.parser\")"
   ],
   "metadata": {
    "collapsed": false,
    "ExecuteTime": {
     "end_time": "2024-04-04T14:14:19.467074900Z",
     "start_time": "2024-04-04T14:14:19.422039700Z"
    }
   },
   "id": "91dc646952e9a5b9"
  },
  {
   "cell_type": "code",
   "execution_count": 10,
   "outputs": [],
   "source": [
    "# get all the links from within the html. Fully resolved, unique links only\n",
    "\n",
    "def get_links_from_html(html):\n",
    "    soup = BeautifulSoup(html, \"html.parser\")\n",
    "    links = set()\n",
    "    for link in soup.find_all(\"a\"):\n",
    "        if link.has_attr(\"href\"):\n",
    "            links.add(link[\"href\"])\n",
    "    return links"
   ],
   "metadata": {
    "collapsed": false,
    "ExecuteTime": {
     "end_time": "2024-04-04T14:14:19.887034400Z",
     "start_time": "2024-04-04T14:14:19.865036600Z"
    }
   },
   "id": "b6942a8ea4be241"
  },
  {
   "cell_type": "code",
   "execution_count": 11,
   "outputs": [],
   "source": [
    "ll = get_links_from_html(root_page_text)"
   ],
   "metadata": {
    "collapsed": false,
    "ExecuteTime": {
     "end_time": "2024-04-04T14:14:21.799899400Z",
     "start_time": "2024-04-04T14:14:21.700464900Z"
    }
   },
   "id": "bc659ec0f3d3994b"
  },
  {
   "cell_type": "code",
   "execution_count": 12,
   "outputs": [],
   "source": [
    "ll = [l for l in ll if l.startswith(\"/\") and l != \"/\"]"
   ],
   "metadata": {
    "collapsed": false,
    "ExecuteTime": {
     "end_time": "2024-04-04T14:14:21.941418100Z",
     "start_time": "2024-04-04T14:14:21.914902100Z"
    }
   },
   "id": "e669f8d741d65ca1"
  },
  {
   "cell_type": "code",
   "execution_count": 13,
   "outputs": [
    {
     "data": {
      "text/plain": "['/bedroom/cabinets/room-type.aspx',\n '/bedroom/room-type.aspx?features=baby%2fyouth',\n '/dining-room/stools/room-type.aspx',\n '/terms-conditions.inc',\n '/southern-motion/brand-type.aspx',\n '/designcenter.inc',\n '/american-drew/brand-type.aspx',\n '/homepage.aspx?logout=true',\n '/carol-house-design-collection/brand-type.aspx',\n '/office-furniture/desks/category-type.aspx',\n '/office-furniture/tables/category-type.aspx',\n '/living-room/chaises/room-type.aspx',\n '/brand/john-thomas/',\n '/in-home-design-staging.inc',\n '/art-furniture/brand-type.aspx',\n '/cooper-classics/brand-type.aspx',\n '/accessories/mirrors/department-type.aspx',\n '/winners-only/brand-type.aspx',\n '/entertainment.inc',\n '/bedroom/entertainment-centers/room-type.aspx',\n '/flexsteel/brand-type.aspx',\n '/riverside/brand-type.aspx',\n '/best-home-furnishings/brand-type.aspx',\n '/dining-room/cabinets/room-type.aspx',\n '/living-room/loveseats/room-type.aspx',\n '/howard-elliott/brand-type.aspx',\n '/bedroom/mirrors/room-type.aspx',\n '/satisfactionguarantee.inc',\n '/office-furniture/chairs/category-type.aspx',\n '/living-room/sectionals/room-type.aspx',\n '/living-room/accessories/room-type.aspx',\n '/rachael-ray-home-by-legacy-classic-furniture/brand-type.aspx',\n '/bedroom/bookcases/room-type.aspx',\n '/bedroom/chests-and-dressers/room-type.aspx',\n '/brand/hooker-furniture/',\n '/history.inc',\n '/bedroom/benches/room-type.aspx',\n '/vaughan-bassett-furniture-company/brand-type.aspx',\n '/dining-room/tables/room-type.aspx',\n '/bedroom/ottomans/room-type.aspx',\n '/magnussen-home/brand-type.aspx',\n '/bedroom/desks/room-type.aspx',\n '/living-room/entertainment-centers/room-type.aspx',\n '/communityoutreach.inc',\n '/samuel-lawrence/brand-type.aspx',\n '/home-theater-furniture/entertainment-centers/category-type.aspx',\n '/office-furniture/accessories/category-type.aspx',\n '/parker-house/brand-type.aspx',\n '/bedroom/chairs/room-type.aspx',\n '/office-furniture/entertainment-centers/category-type.aspx',\n '/bedroom/beds/room-type.aspx',\n '/hammary/brand-type.aspx',\n '/living-room/mirrors/room-type.aspx',\n '/freeconciergeservices.inc',\n '/DisplayFlyer.aspx',\n '/paragon/brand-type.aspx',\n '/aspenhome/brand-type.aspx',\n '/living-room/bars/room-type.aspx',\n '/livingroom.inc',\n '/accessories/upholstery-pillows/department-type.aspx',\n '/bassett-mirror-company/brand-type.aspx',\n '/careers.inc',\n '/contactus.inc',\n '/living-room/ottomans/room-type.aspx',\n '/bedroom/home-office-sets/room-type.aspx',\n '/kincaid-furniture/brand-type.aspx',\n '/living-room/bookcases/room-type.aspx',\n '/bernhardt-interiors/brand-type.aspx',\n '/living-room/sofas/room-type.aspx',\n '/displayflyer.aspx',\n '/bernhardt-workspace/brand-type.aspx',\n '/craftmaster/brand-type.aspx',\n '/office-furniture/bookcases/category-type.aspx',\n '/dining-room/entertainment-centers/room-type.aspx',\n '/hughes-furniture/brand-type.aspx',\n '/living-room/tables/room-type.aspx',\n '/jonathan-louis-international/beds/brand-type.aspx',\n '/huntington-house/brand-type.aspx',\n '/dining-room/benches/room-type.aspx',\n '/home-theater-furniture/tables/category-type.aspx',\n '/dining-room/storage-and-carts/room-type.aspx',\n '/home-theater-furniture/chairs/category-type.aspx',\n '/living-room/stools/room-type.aspx',\n '/caracole/brand-type.aspx',\n '/loloi/brand-type.aspx',\n '/martin-furniture/brand-type.aspx',\n '/visual-site-map.inc',\n '/powell-furniture/brand-type.aspx',\n '/pacific-coast-lighting/brand-type.aspx',\n '/viewcart.aspx',\n '/favorites.aspx',\n '/bedroom/tables/room-type.aspx',\n '/accessories/tables/department-type.aspx',\n '/accessories/fireplaces/department-type.aspx',\n '/aboutus.inc',\n '/dining-room/bars/room-type.aspx',\n '/propac/brand-type.aspx',\n '/carol-house-reclaimed-collection/settees/brand-type.aspx',\n '/ultracomfort/chairs/brand-type.aspx',\n '/oriental-weavers/rugs/brand-type.aspx',\n '/bedroom/bedding/room-type.aspx',\n '/home-theater-furniture/chests-and-dressers/category-type.aspx',\n '/modifyaccount.aspx',\n '/htl/chairs/brand-type.aspx',\n '/icomfort-by-serta/brand-type.aspx',\n '/bernhardt/brand-type.aspx',\n '/perfect-sleeper-by-serta/brand-type.aspx',\n '/rize-home/brand-type.aspx',\n '/bedroom/stools/room-type.aspx',\n '/intercon/brand-type.aspx',\n '/createaccount.aspx',\n '/hillsdale-furniture/brand-type.aspx',\n '/hillsdale-kids-and-teen/brand-type.aspx',\n '/accessories/accessories/department-type.aspx',\n '/dining-room/kitchen-islands/room-type.aspx',\n '/office-furniture/home-office-sets/category-type.aspx',\n '/brands.inc',\n '/howard-miller/brand-type.aspx',\n '/living-room/chairs/room-type.aspx',\n '/WhatOurCustomersThink.inc',\n '/crestview/brand-type.aspx',\n '/bedroom/slipcovers/room-type.aspx',\n '/bedroom/nightstands/room-type.aspx',\n '/accessories/storage-and-carts/department-type.aspx',\n '/living-room/cabinets/room-type.aspx',\n '/motion-1-innovation/brand-type.aspx',\n '/furniturecare.inc',\n '/living-room/slipcovers/room-type.aspx',\n '/caracole-modern/brand-type.aspx',\n '/home-theater-furniture/cabinets/category-type.aspx',\n '/living-room/benches/room-type.aspx',\n '/bedroom.inc',\n '/living-room/accent-chests/room-type.aspx',\n '/itembrowser.aspx?action=attributes&Category=Mattresses',\n '/diningroom.inc',\n '/accessories/bakers-racks/department-type.aspx',\n '/roomplanner/',\n '/pulaski-furniture/brand-type.aspx',\n '/accessories.inc',\n '/dining-room/chairs/room-type.aspx',\n '/living-room/settees/room-type.aspx',\n '/bedroom/accessories/room-type.aspx',\n '/home-theater-furniture/bookcases/category-type.aspx',\n '/uttermost/brand-type.aspx',\n '/chf/accessories/brand-type.aspx',\n '/ch-vintage-commercials.inc',\n '/privacy-policy.inc',\n '/bedroom/youth-bedroom-sets/room-type.aspx',\n '/contractsalesvolume.inc',\n '/joinemail.inc',\n '/homeoffice.inc',\n '/caracole-signature/brand-type.aspx',\n '/office-furniture/cabinets/category-type.aspx',\n '/brand/universal-furniture/',\n '/primo/sectionals/brand-type.aspx',\n '/legacy-classic-furniture/brand-type.aspx',\n '/living-room/desks/room-type.aspx',\n '/steve-silver/brand-type.aspx',\n '/login.aspx']"
     },
     "execution_count": 13,
     "metadata": {},
     "output_type": "execute_result"
    }
   ],
   "source": [
    "ll"
   ],
   "metadata": {
    "collapsed": false,
    "ExecuteTime": {
     "end_time": "2024-04-04T14:14:22.059058100Z",
     "start_time": "2024-04-04T14:14:22.036153Z"
    }
   },
   "id": "ccc016181c7e20fa"
  },
  {
   "cell_type": "code",
   "execution_count": 14,
   "outputs": [],
   "source": [
    "from mvodolagin_personal_imports.langchain_stuff import *"
   ],
   "metadata": {
    "collapsed": false,
    "ExecuteTime": {
     "end_time": "2024-04-04T14:14:27.393813600Z",
     "start_time": "2024-04-04T14:14:24.570879300Z"
    }
   },
   "id": "d3b1e6f0d463e01e"
  },
  {
   "cell_type": "code",
   "execution_count": 59,
   "outputs": [],
   "source": [
    "def get_prompt_for_links_list(ll):\n",
    "    role_message = \"\"\"You will be given a numbered list of internal links. Some of them link to item catalogues. Your task is to find the links that lead to item catalogues and return their numbers. Return a JSON that contains only the numbers.\"\"\"\n",
    "\n",
    "    example_input = \"\"\"1. /clothing/men\n",
    "    2. /about\n",
    "    3. /deals/item-catalogue\n",
    "    4. /contact-us\"\"\"\n",
    "\n",
    "    example_output = \"\"\"{{\"catalogue_links\": [1, 3]}}\"\"\"\n",
    "\n",
    "    formatted_list = \"\\n\".join([f\"{i + 1}. {link}\" for i, link in enumerate(ll)])\n",
    "\n",
    "    messages = [(\"system\", role_message), (\"human\", example_input), (\"ai\", example_output), (\"human\", formatted_list)]\n",
    "    messages = [(role, trim_extra_whitespace(message)) for role, message in messages]\n",
    "\n",
    "    full_prompt = ChatPromptTemplate.from_messages(messages)\n",
    "    return full_prompt\n"
   ],
   "metadata": {
    "collapsed": false,
    "ExecuteTime": {
     "end_time": "2024-04-07T13:40:50.264943500Z",
     "start_time": "2024-04-07T13:40:50.211932200Z"
    }
   },
   "id": "a150dcfd7c7778b9"
  },
  {
   "cell_type": "code",
   "execution_count": 68,
   "outputs": [],
   "source": [
    "def get_prompt_for_links_regexp(ll):\n",
    "    role_message = \"\"\"You will be presented with a numbered list of internal links. Your task is to analyze these links and derive a Python-style regular expression (regexp) pattern that could be used to identify links leading to item catalogues. The goal is to create a regexp template that matches as many catalogue links as possible without being overly broad. Return only the regexp pattern in a string format.\"\"\"\n",
    "\n",
    "    example_input = \"\"\"1. /bedroom/cabinets/room-type.aspx\n",
    "2. /terms-conditions.inc\n",
    "3. /southern-motion/brand-type.aspx\n",
    "4. /designcenter.inc\n",
    "5. /office-furniture/desks/category-type.aspx\n",
    "6. /homepage.aspx?logout=true\n",
    "7. /living-room/chaises/room-type.aspx\n",
    "8. /brand/john-thomas/\n",
    "9. /in-home-design-staging.inc\"\"\"\n",
    "\n",
    "    example_output = \"\\/(room-type|brand-type|category-type)\\.aspx\"\n",
    "\n",
    "    formatted_list = \"\\n\".join([f\"{i + 1}. {link}\" for i, link in enumerate(ll)])\n",
    "\n",
    "    messages = [(\"system\", role_message), (\"human\", example_input), (\"ai\", example_output), (\"human\", formatted_list)]\n",
    "    messages = [(role, trim_extra_whitespace(message)) for role, message in messages]\n",
    "\n",
    "    full_prompt = ChatPromptTemplate.from_messages(messages)\n",
    "    return full_prompt\n"
   ],
   "metadata": {
    "collapsed": false,
    "ExecuteTime": {
     "end_time": "2024-04-07T13:53:01.675001900Z",
     "start_time": "2024-04-07T13:53:01.625976400Z"
    }
   },
   "id": "ac91e0d68267ea73"
  },
  {
   "cell_type": "code",
   "execution_count": 64,
   "outputs": [],
   "source": [
    "full_prompt = get_prompt_for_links_regexp(ll)"
   ],
   "metadata": {
    "collapsed": false,
    "ExecuteTime": {
     "end_time": "2024-04-07T13:51:36.478299900Z",
     "start_time": "2024-04-07T13:51:36.441300600Z"
    }
   },
   "id": "a1be8e97f7fdea"
  },
  {
   "cell_type": "code",
   "execution_count": null,
   "outputs": [],
   "source": [],
   "metadata": {
    "collapsed": false
   },
   "id": "59f1504dde79d3fa"
  },
  {
   "cell_type": "code",
   "execution_count": 65,
   "outputs": [
    {
     "data": {
      "text/plain": "AIMessage(content='\\\\/(room-type|brand-type|category-type)\\\\/?.*', response_metadata={'token_usage': {'completion_tokens': 14, 'prompt_tokens': 2082, 'total_tokens': 2096}, 'model_name': 'gpt-3.5-turbo-0125', 'system_fingerprint': 'fp_b28b39ffa8', 'finish_reason': 'stop', 'logprobs': None}, id='run-6af0d042-df0c-4ca0-a7bd-4d7cb5e8a57d-0')"
     },
     "execution_count": 65,
     "metadata": {},
     "output_type": "execute_result"
    }
   ],
   "source": [
    "res_o = (full_prompt | basic_llm).invoke({})\n",
    "res_o"
   ],
   "metadata": {
    "collapsed": false,
    "ExecuteTime": {
     "end_time": "2024-04-07T13:51:39.882800600Z",
     "start_time": "2024-04-07T13:51:38.573174500Z"
    }
   },
   "id": "8007287a309539c4"
  },
  {
   "cell_type": "code",
   "execution_count": 66,
   "outputs": [
    {
     "data": {
      "text/plain": "AIMessage(content='The regular expression pattern that could be used to identify links leading to item catalogues is:\\n\\n\\\\/((room|brand|category|department)-type)\\\\.aspx\\n\\nThis pattern matches links that contain either \"room-type\", \"brand-type\", \"category-type\", or \"department-type\" in the URL path, followed by \".aspx\".', response_metadata={'id': 'msg_01KdWXBeYXbLC7faa1NavPvC', 'content': [ContentBlock(text='The regular expression pattern that could be used to identify links leading to item catalogues is:\\n\\n\\\\/((room|brand|category|department)-type)\\\\.aspx\\n\\nThis pattern matches links that contain either \"room-type\", \"brand-type\", \"category-type\", or \"department-type\" in the URL path, followed by \".aspx\".', type='text')], 'model': 'claude-3-haiku-20240307', 'role': 'assistant', 'stop_reason': 'end_turn', 'stop_sequence': None, 'type': 'message', 'usage': Usage(input_tokens=2583, output_tokens=77)}, id='run-e5659ead-aa95-45a7-8656-96029f01e801-0')"
     },
     "execution_count": 66,
     "metadata": {},
     "output_type": "execute_result"
    }
   ],
   "source": [
    "res_a = (full_prompt | basic_llm_claude).invoke({})\n",
    "res_a"
   ],
   "metadata": {
    "collapsed": false,
    "ExecuteTime": {
     "end_time": "2024-04-07T13:51:41.986672200Z",
     "start_time": "2024-04-07T13:51:39.879652400Z"
    }
   },
   "id": "99e335a094094225"
  },
  {
   "cell_type": "code",
   "execution_count": 69,
   "outputs": [
    {
     "data": {
      "text/plain": "AIMessage(content='Based on the provided list of links, we can observe that the links leading to item catalogues have a consistent pattern where they include a specific type (room-type, brand-type, category-type, or department-type) followed by `.aspx`. To match these catalogue links and not the others, we can use the following regexp pattern:\\n\\n```\\n\\\\/(room-type|brand-type|category-type|department-type)\\\\.aspx\\n```\\n\\nThis pattern ensures that we match any link that ends with one of the specified types followed by `.aspx`, which seems to be the common format for catalogue links in the given list.', response_metadata={'token_usage': {'completion_tokens': 126, 'prompt_tokens': 2082, 'total_tokens': 2208}, 'model_name': 'gpt-4-0125-preview', 'system_fingerprint': 'fp_b77cb481ed', 'finish_reason': 'stop', 'logprobs': None}, id='run-fafe3e17-677e-472f-8c37-8c227aff35d1-0')"
     },
     "execution_count": 69,
     "metadata": {},
     "output_type": "execute_result"
    }
   ],
   "source": [
    "res_o_mid = (full_prompt | mid_llm).invoke({})\n",
    "res_o_mid"
   ],
   "metadata": {
    "collapsed": false,
    "ExecuteTime": {
     "end_time": "2024-04-07T13:53:10.365840700Z",
     "start_time": "2024-04-07T13:53:05.764047300Z"
    }
   },
   "id": "5f8f2b9c0a0b3d68"
  },
  {
   "cell_type": "code",
   "execution_count": null,
   "outputs": [],
   "source": [],
   "metadata": {
    "collapsed": false
   },
   "id": "20088516264d5c13"
  },
  {
   "cell_type": "code",
   "execution_count": null,
   "outputs": [],
   "source": [],
   "metadata": {
    "collapsed": false
   },
   "id": "b7fbfb63c4e0d72a"
  },
  {
   "cell_type": "code",
   "execution_count": null,
   "outputs": [],
   "source": [],
   "metadata": {
    "collapsed": false
   },
   "id": "d69472974d1cb37c"
  },
  {
   "cell_type": "code",
   "execution_count": 62,
   "outputs": [],
   "source": [
    "clipboard_copy(formatted_list)"
   ],
   "metadata": {
    "collapsed": false,
    "ExecuteTime": {
     "end_time": "2024-04-07T13:41:17.448388300Z",
     "start_time": "2024-04-07T13:41:17.328630700Z"
    }
   },
   "id": "d5a7468d47d2db74"
  },
  {
   "cell_type": "code",
   "execution_count": 29,
   "outputs": [],
   "source": [
    "numbers = safe_json_loads(res_a.content.split(\"\\n\\n\")[-1])\n",
    "to_join = [ll[i - 2] for i in numbers]\n",
    "sample = random.sample(to_join, 10)\n",
    "text = \"\\n\".join(sample)\n",
    "clipboard_copy(text)"
   ],
   "metadata": {
    "collapsed": false,
    "ExecuteTime": {
     "end_time": "2024-04-04T14:22:18.541804700Z",
     "start_time": "2024-04-04T14:22:18.474700100Z"
    }
   },
   "id": "e7c4567734759009"
  },
  {
   "cell_type": "code",
   "execution_count": 27,
   "outputs": [
    {
     "data": {
      "text/plain": "'2. /bedroom/cabinets/room-type.aspx\\n3. /bedroom/room-type.aspx?features=baby%2fyouth\\n4. /dining-room/stools/room-type.aspx\\n5. /terms-conditions.inc\\n6. /southern-motion/brand-type.aspx\\n7. /designcenter.inc\\n8. /american-drew/brand-type.aspx\\n9. /homepage.aspx?logout=true\\n10. /carol-house-design-collection/brand-type.aspx\\n11. /office-furniture/desks/category-type.aspx\\n12. /office-furniture/tables/category-type.aspx\\n13. /living-room/chaises/room-type.aspx\\n14. /brand/john-thomas/\\n15. /in-home-design-staging.inc\\n16. /art-furniture/brand-type.aspx\\n17. /cooper-classics/brand-type.aspx\\n18. /accessories/mirrors/department-type.aspx\\n19. /winners-only/brand-type.aspx\\n20. /entertainment.inc\\n21. /bedroom/entertainment-centers/room-type.aspx\\n22. /flexsteel/brand-type.aspx\\n23. /riverside/brand-type.aspx\\n24. /best-home-furnishings/brand-type.aspx\\n25. /dining-room/cabinets/room-type.aspx\\n26. /living-room/loveseats/room-type.aspx\\n27. /howard-elliott/brand-type.aspx\\n28. /bedroom/mirrors/room-type.aspx\\n29. /satisfactionguarantee.inc\\n30. /office-furniture/chairs/category-type.aspx\\n31. /living-room/sectionals/room-type.aspx\\n32. /living-room/accessories/room-type.aspx\\n33. /rachael-ray-home-by-legacy-classic-furniture/brand-type.aspx\\n34. /bedroom/bookcases/room-type.aspx\\n35. /bedroom/chests-and-dressers/room-type.aspx\\n36. /brand/hooker-furniture/\\n37. /history.inc\\n38. /bedroom/benches/room-type.aspx\\n39. /vaughan-bassett-furniture-company/brand-type.aspx\\n40. /dining-room/tables/room-type.aspx\\n41. /bedroom/ottomans/room-type.aspx\\n42. /magnussen-home/brand-type.aspx\\n43. /bedroom/desks/room-type.aspx\\n44. /living-room/entertainment-centers/room-type.aspx\\n45. /communityoutreach.inc\\n46. /samuel-lawrence/brand-type.aspx\\n47. /home-theater-furniture/entertainment-centers/category-type.aspx\\n48. /office-furniture/accessories/category-type.aspx\\n49. /parker-house/brand-type.aspx\\n50. /bedroom/chairs/room-type.aspx\\n51. /office-furniture/entertainment-centers/category-type.aspx\\n52. /bedroom/beds/room-type.aspx\\n53. /hammary/brand-type.aspx\\n54. /living-room/mirrors/room-type.aspx\\n55. /freeconciergeservices.inc\\n56. /DisplayFlyer.aspx\\n57. /paragon/brand-type.aspx\\n58. /aspenhome/brand-type.aspx\\n59. /living-room/bars/room-type.aspx\\n60. /livingroom.inc\\n61. /accessories/upholstery-pillows/department-type.aspx\\n62. /bassett-mirror-company/brand-type.aspx\\n63. /careers.inc\\n64. /contactus.inc\\n65. /living-room/ottomans/room-type.aspx\\n66. /bedroom/home-office-sets/room-type.aspx\\n67. /kincaid-furniture/brand-type.aspx\\n68. /living-room/bookcases/room-type.aspx\\n69. /bernhardt-interiors/brand-type.aspx\\n70. /living-room/sofas/room-type.aspx\\n71. /displayflyer.aspx\\n72. /bernhardt-workspace/brand-type.aspx\\n73. /craftmaster/brand-type.aspx\\n74. /office-furniture/bookcases/category-type.aspx\\n75. /dining-room/entertainment-centers/room-type.aspx\\n76. /hughes-furniture/brand-type.aspx\\n77. /living-room/tables/room-type.aspx\\n78. /jonathan-louis-international/beds/brand-type.aspx\\n79. /huntington-house/brand-type.aspx\\n80. /dining-room/benches/room-type.aspx\\n81. /home-theater-furniture/tables/category-type.aspx\\n82. /dining-room/storage-and-carts/room-type.aspx\\n83. /home-theater-furniture/chairs/category-type.aspx\\n84. /living-room/stools/room-type.aspx\\n85. /caracole/brand-type.aspx\\n86. /loloi/brand-type.aspx\\n87. /martin-furniture/brand-type.aspx\\n88. /visual-site-map.inc\\n89. /powell-furniture/brand-type.aspx\\n90. /pacific-coast-lighting/brand-type.aspx\\n91. /viewcart.aspx\\n92. /favorites.aspx\\n93. /bedroom/tables/room-type.aspx\\n94. /accessories/tables/department-type.aspx\\n95. /accessories/fireplaces/department-type.aspx\\n96. /aboutus.inc\\n97. /dining-room/bars/room-type.aspx\\n98. /propac/brand-type.aspx\\n99. /carol-house-reclaimed-collection/settees/brand-type.aspx\\n100. /ultracomfort/chairs/brand-type.aspx\\n101. /oriental-weavers/rugs/brand-type.aspx\\n102. /bedroom/bedding/room-type.aspx\\n103. /home-theater-furniture/chests-and-dressers/category-type.aspx\\n104. /modifyaccount.aspx\\n105. /htl/chairs/brand-type.aspx\\n106. /icomfort-by-serta/brand-type.aspx\\n107. /bernhardt/brand-type.aspx\\n108. /perfect-sleeper-by-serta/brand-type.aspx\\n109. /rize-home/brand-type.aspx\\n110. /bedroom/stools/room-type.aspx\\n111. /intercon/brand-type.aspx\\n112. /createaccount.aspx\\n113. /hillsdale-furniture/brand-type.aspx\\n114. /hillsdale-kids-and-teen/brand-type.aspx\\n115. /accessories/accessories/department-type.aspx\\n116. /dining-room/kitchen-islands/room-type.aspx\\n117. /office-furniture/home-office-sets/category-type.aspx\\n118. /brands.inc\\n119. /howard-miller/brand-type.aspx\\n120. /living-room/chairs/room-type.aspx\\n121. /WhatOurCustomersThink.inc\\n122. /crestview/brand-type.aspx\\n123. /bedroom/slipcovers/room-type.aspx\\n124. /bedroom/nightstands/room-type.aspx\\n125. /accessories/storage-and-carts/department-type.aspx\\n126. /living-room/cabinets/room-type.aspx\\n127. /motion-1-innovation/brand-type.aspx\\n128. /furniturecare.inc\\n129. /living-room/slipcovers/room-type.aspx\\n130. /caracole-modern/brand-type.aspx\\n131. /home-theater-furniture/cabinets/category-type.aspx\\n132. /living-room/benches/room-type.aspx\\n133. /bedroom.inc\\n134. /living-room/accent-chests/room-type.aspx\\n135. /itembrowser.aspx?action=attributes&Category=Mattresses\\n136. /diningroom.inc\\n137. /accessories/bakers-racks/department-type.aspx\\n138. /roomplanner/\\n139. /pulaski-furniture/brand-type.aspx\\n140. /accessories.inc\\n141. /dining-room/chairs/room-type.aspx\\n142. /living-room/settees/room-type.aspx\\n143. /bedroom/accessories/room-type.aspx\\n144. /home-theater-furniture/bookcases/category-type.aspx\\n145. /uttermost/brand-type.aspx\\n146. /chf/accessories/brand-type.aspx\\n147. /ch-vintage-commercials.inc\\n148. /privacy-policy.inc\\n149. /bedroom/youth-bedroom-sets/room-type.aspx\\n150. /contractsalesvolume.inc\\n151. /joinemail.inc\\n152. /homeoffice.inc\\n153. /caracole-signature/brand-type.aspx\\n154. /office-furniture/cabinets/category-type.aspx\\n155. /brand/universal-furniture/\\n156. /primo/sectionals/brand-type.aspx\\n157. /legacy-classic-furniture/brand-type.aspx\\n158. /living-room/desks/room-type.aspx\\n159. /steve-silver/brand-type.aspx\\n160. /login.aspx'"
     },
     "execution_count": 27,
     "metadata": {},
     "output_type": "execute_result"
    }
   ],
   "source": [
    "formatted_list"
   ],
   "metadata": {
    "collapsed": false,
    "ExecuteTime": {
     "end_time": "2024-04-04T14:21:24.145145200Z",
     "start_time": "2024-04-04T14:21:24.126402300Z"
    }
   },
   "id": "e74428ec959e34dd"
  },
  {
   "cell_type": "code",
   "execution_count": 31,
   "outputs": [
    {
     "name": "stdout",
     "output_type": "stream",
     "text": [
      "/bedroom/room-type.aspx?features=baby%2fyouth\n",
      "/terms-conditions.inc\n",
      "/designcenter.inc\n",
      "/homepage.aspx?logout=true\n",
      "/in-home-design-staging.inc\n",
      "/entertainment.inc\n",
      "/satisfactionguarantee.inc\n",
      "/history.inc\n",
      "/communityoutreach.inc\n",
      "/freeconciergeservices.inc\n",
      "/DisplayFlyer.aspx\n",
      "/livingroom.inc\n",
      "/careers.inc\n",
      "/contactus.inc\n",
      "/displayflyer.aspx\n",
      "/visual-site-map.inc\n",
      "/viewcart.aspx\n",
      "/favorites.aspx\n",
      "/aboutus.inc\n",
      "/modifyaccount.aspx\n",
      "/createaccount.aspx\n",
      "/brands.inc\n",
      "/WhatOurCustomersThink.inc\n",
      "/furniturecare.inc\n",
      "/bedroom.inc\n",
      "/itembrowser.aspx?action=attributes&Category=Mattresses\n",
      "/diningroom.inc\n",
      "/accessories.inc\n",
      "/ch-vintage-commercials.inc\n",
      "/privacy-policy.inc\n",
      "/contractsalesvolume.inc\n",
      "/joinemail.inc\n",
      "/homeoffice.inc\n",
      "/login.aspx\n"
     ]
    }
   ],
   "source": [
    "url_pattern = re.compile(\n",
    "    r'^/[\\w-]+(/[\\w-]+)*(/[\\w-]+(\\.aspx|\\.inc)?)?/?$'\n",
    ")\n",
    "\n",
    "for l in ll:\n",
    "    if not url_pattern.match(l):\n",
    "        print(l)"
   ],
   "metadata": {
    "collapsed": false,
    "ExecuteTime": {
     "end_time": "2024-04-04T14:23:53.841565Z",
     "start_time": "2024-04-04T14:23:53.815563200Z"
    }
   },
   "id": "cce7043193655c32"
  },
  {
   "cell_type": "code",
   "execution_count": 32,
   "outputs": [
    {
     "data": {
      "text/plain": "{'shopbycolorLabel': ['Shiatsu Massage Chairs',\n  'Bunk Beds & Loft Beds',\n  'Home Theater Seating',\n  'Shiatsu Massage Chairs',\n  'Bassett Mirror Company',\n  'Best Home Furnishings',\n  'Carol House Design Collection',\n  'Carol House Reclaimed Collection',\n  'Hillsdale Kids and Teen',\n  'Jonathan Louis International',\n  'Legacy Classic Furniture',\n  'Pacific Coast Lighting',\n  'Perfect Sleeper® by Serta',\n  'Rachael Ray Home by Legacy Classic Furniture',\n  'Vaughan-Bassett Furniture Company'],\n 'Label': ['Entertainment Centers'],\n 'ProductImageDisclaimerParagraph ProductImageDisclaimerParagraphPhotoText': ['Upholstered furniture may be stocked in a different color or pattern than picture shows. Fabric in pictures may also be available by custom order.'],\n 'viewallincollectionLink': ['View all of the items in the PFC Curios collection'],\n 'ProductDescriptionHeading': ['Pulaski Furniture Living Room Two Way Sliding Door Curio 20484 at Carol House Furniture'],\n 'popupForReqInfoFormFn omnivue-popup': ['Request More Information'],\n 'AvailabilitySpanValue AvailabilitySpanValue1': ['In Stock 90% of time.'],\n 'OnDisplaySpanValue': ['Maryland Hts. & Valley Park, MO stores!'],\n 'ProductDetailsParagraphSEO': ['UPHOLSTERED FURNITURE: in store may be displayed in latest color patterns available. Pictures shown demonstrate colors and patterns that are usually also available. Most Brand Names at Carol House have many fabric options.'],\n 'AdditionalLinksAnchor': ['Free Delivery and Free Concierge Services',\n  'Satisfaction Guarantee'],\n 'PDFAttachmentsTitle': ['Additional Information:'],\n 'ProductInfoHeading ProductInfoHeadingDesignElementsFeatures desktop-tab-heading': ['Design Elements & Features'],\n 'ProductInfoSpanValue ProductInfoSpanValueProductDescription': [\"This beautiful mirrored-back curio cabinet lets you display your collections: a source of pride, accomplishment, and fond memories. Give your cherished belongings the spotlight they deserve with this beautiful locking curio cabinet, fitted with a sliding beveled class door and locking mechanism for security. Five generously-sized glass shelves can be adjusted into nearly any configuration with top-to-bottom position holes every two inches, allowing you to customize the display to your liking. Along the framed edges, stunning rope-and-block molding frames and flatters the curio's contents, while two-setting halogen top-mounted lights provide an attractive, uncluttered view of your items. This curio cabinet is finished with glass sides and a fully mirrored back that allows you to see your items on display from every angle. A warm honey-brown finish on the cabinet's attractive veneers goes with any decor theme for easy style matching.\"],\n 'ProductInfoSpanValue ProductInfoSpanValueCollectionFeatures': ['With over 60 years of furnishing homes across America, Pulaski Furniture continues its heritage of outstanding value, quality and design. We invite you to explore our accents and display cabinet collection and find the perfect piece to make a statement or complete your vision for any area of your home.'],\n 'ProductInfoSpanValue ProductInfoSpanValueLength': ['46.22\" L x 19.29\" W x 83.66\" H (117 cm x 49 cm x 212 cm), 244.2 lb (109.89 kg)'],\n 'ProductInfoSpanValue ProductInfoSpanValueSpecifications': ['Shelves measure 38W x 11.5D x 0.25H'],\n 'ProductInfoHeading ProductInfoHeadingDesignElementsFeatures': ['Design Elements & Features'],\n 'ProductInfoSpanValue ProductInfoSpanValueFeatures': ['One doorFive shelvesPlate grooves on shelves 1.5-inches from the backLock on left side'],\n 'ProductInfoSpanValue ProductInfoSpanValueFinish': ['Warm honey-toned wood veneers highlight subtle details in rope-and-block carved frame'],\n 'ProductInfoSpanValue ProductInfoSpanValueFrameConstruction': ['Pulaski uses carefully chosen solid wood and select wood veneers over durable wood products in our furniture construction. Use of veneers enables more decorative looks unattainable with solid wood. Veneers are used over durable wood products such as medium density fiberboard (MDF) and particle board, made of renewable resources. MDF and particle board are used in quality furniture for areas that need to be stable, such as large surfaces. These durable wood products do not expand and contract with heat and cold and do not absorb moisture as much as solid wood, which results in stronger and longer-lasting furniture.'],\n 'ProductInfoSpanValue ProductInfoSpanValueAvailability': ['In Stock 90% of time.'],\n 'ProductInfoSpanName ProductInfoSpanNameCleaningInformation': ['Cleaning Information'],\n 'ProductInfoSpanValue ProductInfoSpanValueCleaningInformation': ['L: Gently wipe with a water dampened white cotton cloth. Wipe dry with a clean dry cloth. Clean spills immediately with a soft, slightly damp cloth.'],\n 'ProductInfoSpanValue ProductInfoSpanValueDescription': ['Two Way Sliding Door Curio'],\n 'ProductInfoSpanValue ProductInfoSpanValueType': ['Curio Cabinets, Cabinets'],\n 'ProductThumbnailParagraph ProductThumbnailParagraphDescription': ['Two Way Sliding Door Curio',\n  '2-way Sliding Door Curio Medallion Cher',\n  'Two Way Sliding Door Curio',\n  'Two Way Sliding Door Curio',\n  'Two Way Sliding Door Curio',\n  'Sliding Door 5 Shelf Curio Cabinet in Golden Oak Brown',\n  'Two Way Sliding Door Curio',\n  'Two Way Sliding Door Curio'],\n 'ProductPriceDisclaimerParagraph': ['Management reserves the right to cancel and refund any order when circumstances will cause cumbersome difficulties, or if keyed below CHF operating costs.']}"
     },
     "execution_count": 32,
     "metadata": {},
     "output_type": "execute_result"
    }
   ],
   "source": [
    "texts_by_class"
   ],
   "metadata": {
    "collapsed": false,
    "ExecuteTime": {
     "end_time": "2024-04-04T14:47:30.628840Z",
     "start_time": "2024-04-04T14:47:30.606843800Z"
    }
   },
   "id": "4dc7afa83f71d592"
  },
  {
   "cell_type": "code",
   "execution_count": 37,
   "outputs": [],
   "source": [
    "from langchain_core.prompt_values import ChatPromptValue\n",
    "\n",
    "role_message = \"\"\"Your task is to determine which of the html tags contain description of the item on the page in a retail marketplace. You will be given a dictionary of tags and the text they contain. Return a JSON that contains the tags that contain the description of the item. Write only the tags.\"\"\"\n",
    "\n",
    "human_template = \"{formatted_data}\"\n",
    "\n",
    "full_prompt = ChatPromptTemplate.from_messages([(\"system\", role_message), (\"human\", human_template)])"
   ],
   "metadata": {
    "collapsed": false,
    "ExecuteTime": {
     "end_time": "2024-04-04T15:38:58.879917200Z",
     "start_time": "2024-04-04T15:38:58.854933Z"
    }
   },
   "id": "46b5ae776c8b06bc"
  },
  {
   "cell_type": "code",
   "execution_count": 38,
   "outputs": [
    {
     "data": {
      "text/plain": "AIMessage(content='```json\\n[\\n    \"ProductDescriptionHeading\",\\n    \"ProductInfoSpanValue ProductInfoSpanValueProductDescription\",\\n    \"ProductInfoSpanValue ProductInfoSpanValueDescription\"\\n]\\n```', response_metadata={'token_usage': {'completion_tokens': 37, 'prompt_tokens': 1401, 'total_tokens': 1438}, 'model_name': 'gpt-3.5-turbo-0125', 'system_fingerprint': 'fp_b28b39ffa8', 'finish_reason': 'stop', 'logprobs': None}, id='run-adf53a56-215b-4121-9404-320dd532a0cf-0')"
     },
     "execution_count": 38,
     "metadata": {},
     "output_type": "execute_result"
    }
   ],
   "source": [
    "res_o = (full_prompt | basic_llm).invoke({\"formatted_data\": json.dumps(texts_by_class, indent=4)})\n",
    "res_o"
   ],
   "metadata": {
    "collapsed": false,
    "ExecuteTime": {
     "end_time": "2024-04-04T15:39:16.376430400Z",
     "start_time": "2024-04-04T15:39:14.476529800Z"
    }
   },
   "id": "57abea0485cc53f9"
  },
  {
   "cell_type": "code",
   "execution_count": 39,
   "outputs": [
    {
     "data": {
      "text/plain": "AIMessage(content='Based on the given dictionary of tags and text, the tags that contain the description of the item are:\\n\\n[\\n  \"ProductDescriptionHeading\",\\n  \"ProductInfoSpanValue ProductInfoSpanValueProductDescription\",\\n  \"ProductInfoSpanValue ProductInfoSpanValueCollectionFeatures\",\\n  \"ProductInfoSpanValue ProductInfoSpanValueFeatures\",\\n  \"ProductInfoSpanValue ProductInfoSpanValueFinish\",\\n  \"ProductInfoSpanValue ProductInfoSpanValueFrameConstruction\",\\n  \"ProductInfoSpanValue ProductInfoSpanValueDescription\",\\n  \"ProductInfoSpanValue ProductInfoSpanValueType\"\\n]', response_metadata={'id': 'msg_017A39B6oPZhcaXkq8bLEJzj', 'content': [ContentBlock(text='Based on the given dictionary of tags and text, the tags that contain the description of the item are:\\n\\n[\\n  \"ProductDescriptionHeading\",\\n  \"ProductInfoSpanValue ProductInfoSpanValueProductDescription\",\\n  \"ProductInfoSpanValue ProductInfoSpanValueCollectionFeatures\",\\n  \"ProductInfoSpanValue ProductInfoSpanValueFeatures\",\\n  \"ProductInfoSpanValue ProductInfoSpanValueFinish\",\\n  \"ProductInfoSpanValue ProductInfoSpanValueFrameConstruction\",\\n  \"ProductInfoSpanValue ProductInfoSpanValueDescription\",\\n  \"ProductInfoSpanValue ProductInfoSpanValueType\"\\n]', type='text')], 'model': 'claude-3-haiku-20240307', 'role': 'assistant', 'stop_reason': 'end_turn', 'stop_sequence': None, 'type': 'message', 'usage': Usage(input_tokens=1735, output_tokens=151)}, id='run-56b38056-f8a1-47c3-92b5-d461d3bb8b50-0')"
     },
     "execution_count": 39,
     "metadata": {},
     "output_type": "execute_result"
    }
   ],
   "source": [
    "res_a = (full_prompt | basic_llm_claude).invoke({\"formatted_data\": json.dumps(texts_by_class, indent=4)})\n",
    "res_a"
   ],
   "metadata": {
    "collapsed": false,
    "ExecuteTime": {
     "end_time": "2024-04-04T15:39:23.786984300Z",
     "start_time": "2024-04-04T15:39:21.267921400Z"
    }
   },
   "id": "116ad3c96a23266f"
  },
  {
   "cell_type": "code",
   "execution_count": 40,
   "outputs": [
    {
     "data": {
      "text/plain": "AIMessage(content='The tags that contain the description of the item are:\\n\\n[\\n  \"ProductInfoSpanValue ProductInfoSpanValueProductDescription\",\\n  \"ProductInfoSpanValue ProductInfoSpanValueCollectionFeatures\",\\n  \"ProductInfoSpanValue ProductInfoSpanValueDescription\"\\n]', response_metadata={'id': 'msg_01VZxT5MULV9DYFhV5qGK4EJ', 'content': [ContentBlock(text='The tags that contain the description of the item are:\\n\\n[\\n  \"ProductInfoSpanValue ProductInfoSpanValueProductDescription\",\\n  \"ProductInfoSpanValue ProductInfoSpanValueCollectionFeatures\",\\n  \"ProductInfoSpanValue ProductInfoSpanValueDescription\"\\n]', type='text')], 'model': 'claude-3-opus-20240229', 'role': 'assistant', 'stop_reason': 'end_turn', 'stop_sequence': None, 'type': 'message', 'usage': Usage(input_tokens=1735, output_tokens=67)}, id='run-30ed8da5-a534-4b97-8d76-2d406aa513bb-0')"
     },
     "execution_count": 40,
     "metadata": {},
     "output_type": "execute_result"
    }
   ],
   "source": [
    "res_a_smart = (full_prompt | smart_llm_claude).invoke({\"formatted_data\": json.dumps(texts_by_class, indent=4)})\n",
    "res_a_smart"
   ],
   "metadata": {
    "collapsed": false,
    "ExecuteTime": {
     "end_time": "2024-04-04T15:39:56.799053300Z",
     "start_time": "2024-04-04T15:39:50.495668600Z"
    }
   },
   "id": "2c983cd518baa655"
  },
  {
   "cell_type": "code",
   "execution_count": 41,
   "outputs": [
    {
     "name": "stdout",
     "output_type": "stream",
     "text": [
      "The tags that contain the description of the item are:\n",
      "\n",
      "[\n",
      "  \"ProductInfoSpanValue ProductInfoSpanValueProductDescription\",\n",
      "  \"ProductInfoSpanValue ProductInfoSpanValueCollectionFeatures\",\n",
      "  \"ProductInfoSpanValue ProductInfoSpanValueDescription\"\n",
      "]\n"
     ]
    }
   ],
   "source": [
    "print(res_a_smart.content)"
   ],
   "metadata": {
    "collapsed": false,
    "ExecuteTime": {
     "end_time": "2024-04-04T15:40:11.935347300Z",
     "start_time": "2024-04-04T15:40:11.919825800Z"
    }
   },
   "id": "af33af89dfb06b28"
  },
  {
   "cell_type": "code",
   "execution_count": 42,
   "outputs": [
    {
     "name": "stdout",
     "output_type": "stream",
     "text": [
      "Based on the given dictionary of tags and text, the tags that contain the description of the item are:\n",
      "\n",
      "[\n",
      "  \"ProductDescriptionHeading\",\n",
      "  \"ProductInfoSpanValue ProductInfoSpanValueProductDescription\",\n",
      "  \"ProductInfoSpanValue ProductInfoSpanValueCollectionFeatures\",\n",
      "  \"ProductInfoSpanValue ProductInfoSpanValueFeatures\",\n",
      "  \"ProductInfoSpanValue ProductInfoSpanValueFinish\",\n",
      "  \"ProductInfoSpanValue ProductInfoSpanValueFrameConstruction\",\n",
      "  \"ProductInfoSpanValue ProductInfoSpanValueDescription\",\n",
      "  \"ProductInfoSpanValue ProductInfoSpanValueType\"\n",
      "]\n"
     ]
    }
   ],
   "source": [
    "print(res_a.content)"
   ],
   "metadata": {
    "collapsed": false,
    "ExecuteTime": {
     "end_time": "2024-04-04T15:40:23.555780700Z",
     "start_time": "2024-04-04T15:40:23.538781700Z"
    }
   },
   "id": "f498b59fc970538f"
  },
  {
   "cell_type": "code",
   "execution_count": 43,
   "outputs": [
    {
     "name": "stdout",
     "output_type": "stream",
     "text": [
      "```json\n",
      "[\n",
      "    \"ProductDescriptionHeading\",\n",
      "    \"ProductInfoSpanValue ProductInfoSpanValueProductDescription\",\n",
      "    \"ProductInfoSpanValue ProductInfoSpanValueDescription\"\n",
      "]\n",
      "```\n"
     ]
    }
   ],
   "source": [
    "print(res_o.content)"
   ],
   "metadata": {
    "collapsed": false,
    "ExecuteTime": {
     "end_time": "2024-04-04T15:40:28.668183100Z",
     "start_time": "2024-04-04T15:40:28.653207800Z"
    }
   },
   "id": "f93c1523ff051e14"
  },
  {
   "cell_type": "code",
   "execution_count": 44,
   "outputs": [],
   "source": [
    "clipboard_copy(texts_by_class)"
   ],
   "metadata": {
    "collapsed": false,
    "ExecuteTime": {
     "end_time": "2024-04-04T15:40:55.453002700Z",
     "start_time": "2024-04-04T15:40:55.367431500Z"
    }
   },
   "id": "6eac601f28958483"
  },
  {
   "cell_type": "code",
   "execution_count": 47,
   "outputs": [],
   "source": [
    "classes_to_parse = [\"ProductDescriptionHeading\",\n",
    "                    \"ProductInfoSpanValue ProductInfoSpanValueProductDescription\",\n",
    "                    \"ProductInfoSpanValue ProductInfoSpanValueCollectionFeatures\"]\n",
    "\n",
    "\n",
    "def parse_description(html, classes_to_parse):\n",
    "    soup = BeautifulSoup(html, \"html.parser\")\n",
    "    descriptions = defaultdict(list)\n",
    "    for class_name in classes_to_parse:\n",
    "        for tag in soup.find_all(class_=class_name):\n",
    "            descriptions[class_name].append(tag.text)\n",
    "    return descriptions"
   ],
   "metadata": {
    "collapsed": false,
    "ExecuteTime": {
     "end_time": "2024-04-04T15:43:25.879493600Z",
     "start_time": "2024-04-04T15:43:25.858493Z"
    }
   },
   "id": "a43e75e045f88b0c"
  },
  {
   "cell_type": "code",
   "execution_count": 48,
   "outputs": [
    {
     "data": {
      "text/plain": "defaultdict(list,\n            {'ProductDescriptionHeading': ['Pulaski Furniture Living Room Two Way Sliding Door Curio 20484 at Carol House Furniture'],\n             'ProductInfoSpanValue ProductInfoSpanValueProductDescription': [\"This beautiful mirrored-back curio cabinet lets you display your collections: a source of pride, accomplishment, and fond memories. Give your cherished belongings the spotlight they deserve with this beautiful locking curio cabinet, fitted with a sliding beveled class door and locking mechanism for security. Five generously-sized glass shelves can be adjusted into nearly any configuration with top-to-bottom position holes every two inches, allowing you to customize the display to your liking. Along the framed edges, stunning rope-and-block molding frames and flatters the curio's contents, while two-setting halogen top-mounted lights provide an attractive, uncluttered view of your items. This curio cabinet is finished with glass sides and a fully mirrored back that allows you to see your items on display from every angle. A warm honey-brown finish on the cabinet's attractive veneers goes with any decor theme for easy style matching.\"],\n             'ProductInfoSpanValue ProductInfoSpanValueCollectionFeatures': ['With over 60 years of furnishing homes across America, Pulaski Furniture continues its heritage of outstanding value, quality and design. We invite you to explore our accents and display cabinet collection and find the perfect piece to make a statement or complete your vision for any area of your home.']})"
     },
     "execution_count": 48,
     "metadata": {},
     "output_type": "execute_result"
    }
   ],
   "source": [
    "parse_description(html_text, classes_to_parse)"
   ],
   "metadata": {
    "collapsed": false,
    "ExecuteTime": {
     "end_time": "2024-04-04T15:43:26.310125600Z",
     "start_time": "2024-04-04T15:43:26.184128700Z"
    }
   },
   "id": "a939423c93406734"
  },
  {
   "cell_type": "code",
   "execution_count": null,
   "outputs": [],
   "source": [],
   "metadata": {
    "collapsed": false
   },
   "id": "748a9be4d4a7295e"
  },
  {
   "cell_type": "code",
   "execution_count": 49,
   "outputs": [],
   "source": [
    "import subprocess\n",
    "\n",
    "\n",
    "def force_kill_process_by_pid(pid):\n",
    "    try:\n",
    "        subprocess.run(['taskkill', '/F', '/PID', str(pid)], check=True)\n",
    "        print(f\"Successfully terminated process PID {pid}.\")\n",
    "    except subprocess.CalledProcessError as e:\n",
    "        print(f\"Failed to terminate process PID {pid}: {e}\")"
   ],
   "metadata": {
    "collapsed": false,
    "ExecuteTime": {
     "end_time": "2024-04-04T21:36:52.639536Z",
     "start_time": "2024-04-04T21:36:52.616500800Z"
    }
   },
   "id": "3700841a3008a087"
  },
  {
   "cell_type": "code",
   "execution_count": 50,
   "outputs": [
    {
     "name": "stdout",
     "output_type": "stream",
     "text": [
      "Failed to terminate process PID 34744: Command '['taskkill', '/F', '/PID', '34744']' returned non-zero exit status 128.\n"
     ]
    }
   ],
   "source": [
    "force_kill_process_by_pid(34744)"
   ],
   "metadata": {
    "collapsed": false,
    "ExecuteTime": {
     "end_time": "2024-04-04T21:37:06.385966Z",
     "start_time": "2024-04-04T21:37:06.233127Z"
    }
   },
   "id": "be6cdabe5d07f165"
  },
  {
   "cell_type": "code",
   "execution_count": 51,
   "outputs": [],
   "source": [
    "import psutil"
   ],
   "metadata": {
    "collapsed": false,
    "ExecuteTime": {
     "end_time": "2024-04-04T21:37:46.686214Z",
     "start_time": "2024-04-04T21:37:46.679213700Z"
    }
   },
   "id": "33acbae21c634af0"
  },
  {
   "cell_type": "code",
   "execution_count": 52,
   "outputs": [
    {
     "ename": "NoSuchProcess",
     "evalue": "process PID not found (pid=34744)",
     "output_type": "error",
     "traceback": [
      "\u001B[1;31m---------------------------------------------------------------------------\u001B[0m",
      "\u001B[1;31mProcessLookupError\u001B[0m                        Traceback (most recent call last)",
      "File \u001B[1;32mC:\\Tools\\Miniconda3\\envs\\web-scrappers\\lib\\site-packages\\psutil\\_pswindows.py:694\u001B[0m, in \u001B[0;36mwrap_exceptions.<locals>.wrapper\u001B[1;34m(self, *args, **kwargs)\u001B[0m\n\u001B[0;32m    693\u001B[0m \u001B[38;5;28;01mtry\u001B[39;00m:\n\u001B[1;32m--> 694\u001B[0m     \u001B[38;5;28;01mreturn\u001B[39;00m fun(\u001B[38;5;28mself\u001B[39m, \u001B[38;5;241m*\u001B[39margs, \u001B[38;5;241m*\u001B[39m\u001B[38;5;241m*\u001B[39mkwargs)\n\u001B[0;32m    695\u001B[0m \u001B[38;5;28;01mexcept\u001B[39;00m \u001B[38;5;167;01mOSError\u001B[39;00m \u001B[38;5;28;01mas\u001B[39;00m err:\n",
      "File \u001B[1;32mC:\\Tools\\Miniconda3\\envs\\web-scrappers\\lib\\site-packages\\psutil\\_pswindows.py:948\u001B[0m, in \u001B[0;36mProcess.create_time\u001B[1;34m(self)\u001B[0m\n\u001B[0;32m    947\u001B[0m \u001B[38;5;28;01mtry\u001B[39;00m:\n\u001B[1;32m--> 948\u001B[0m     user, system, created \u001B[38;5;241m=\u001B[39m \u001B[43mcext\u001B[49m\u001B[38;5;241;43m.\u001B[39;49m\u001B[43mproc_times\u001B[49m\u001B[43m(\u001B[49m\u001B[38;5;28;43mself\u001B[39;49m\u001B[38;5;241;43m.\u001B[39;49m\u001B[43mpid\u001B[49m\u001B[43m)\u001B[49m\n\u001B[0;32m    949\u001B[0m     \u001B[38;5;28;01mreturn\u001B[39;00m created\n",
      "\u001B[1;31mProcessLookupError\u001B[0m: [Errno 3] assume no such process (originated from OpenProcess -> ERROR_INVALID_PARAMETER)",
      "\nDuring handling of the above exception, another exception occurred:\n",
      "\u001B[1;31mNoSuchProcess\u001B[0m                             Traceback (most recent call last)",
      "File \u001B[1;32mC:\\Tools\\Miniconda3\\envs\\web-scrappers\\lib\\site-packages\\psutil\\__init__.py:361\u001B[0m, in \u001B[0;36mProcess._init\u001B[1;34m(self, pid, _ignore_nsp)\u001B[0m\n\u001B[0;32m    360\u001B[0m \u001B[38;5;28;01mtry\u001B[39;00m:\n\u001B[1;32m--> 361\u001B[0m     \u001B[38;5;28;43mself\u001B[39;49m\u001B[38;5;241;43m.\u001B[39;49m\u001B[43mcreate_time\u001B[49m\u001B[43m(\u001B[49m\u001B[43m)\u001B[49m\n\u001B[0;32m    362\u001B[0m \u001B[38;5;28;01mexcept\u001B[39;00m AccessDenied:\n\u001B[0;32m    363\u001B[0m     \u001B[38;5;66;03m# We should never get here as AFAIK we're able to get\u001B[39;00m\n\u001B[0;32m    364\u001B[0m     \u001B[38;5;66;03m# process creation time on all platforms even as a\u001B[39;00m\n\u001B[0;32m    365\u001B[0m     \u001B[38;5;66;03m# limited user.\u001B[39;00m\n",
      "File \u001B[1;32mC:\\Tools\\Miniconda3\\envs\\web-scrappers\\lib\\site-packages\\psutil\\__init__.py:719\u001B[0m, in \u001B[0;36mProcess.create_time\u001B[1;34m(self)\u001B[0m\n\u001B[0;32m    718\u001B[0m \u001B[38;5;28;01mif\u001B[39;00m \u001B[38;5;28mself\u001B[39m\u001B[38;5;241m.\u001B[39m_create_time \u001B[38;5;129;01mis\u001B[39;00m \u001B[38;5;28;01mNone\u001B[39;00m:\n\u001B[1;32m--> 719\u001B[0m     \u001B[38;5;28mself\u001B[39m\u001B[38;5;241m.\u001B[39m_create_time \u001B[38;5;241m=\u001B[39m \u001B[38;5;28;43mself\u001B[39;49m\u001B[38;5;241;43m.\u001B[39;49m\u001B[43m_proc\u001B[49m\u001B[38;5;241;43m.\u001B[39;49m\u001B[43mcreate_time\u001B[49m\u001B[43m(\u001B[49m\u001B[43m)\u001B[49m\n\u001B[0;32m    720\u001B[0m \u001B[38;5;28;01mreturn\u001B[39;00m \u001B[38;5;28mself\u001B[39m\u001B[38;5;241m.\u001B[39m_create_time\n",
      "File \u001B[1;32mC:\\Tools\\Miniconda3\\envs\\web-scrappers\\lib\\site-packages\\psutil\\_pswindows.py:696\u001B[0m, in \u001B[0;36mwrap_exceptions.<locals>.wrapper\u001B[1;34m(self, *args, **kwargs)\u001B[0m\n\u001B[0;32m    695\u001B[0m \u001B[38;5;28;01mexcept\u001B[39;00m \u001B[38;5;167;01mOSError\u001B[39;00m \u001B[38;5;28;01mas\u001B[39;00m err:\n\u001B[1;32m--> 696\u001B[0m     \u001B[38;5;28;01mraise\u001B[39;00m convert_oserror(err, pid\u001B[38;5;241m=\u001B[39m\u001B[38;5;28mself\u001B[39m\u001B[38;5;241m.\u001B[39mpid, name\u001B[38;5;241m=\u001B[39m\u001B[38;5;28mself\u001B[39m\u001B[38;5;241m.\u001B[39m_name)\n",
      "\u001B[1;31mNoSuchProcess\u001B[0m: process no longer exists (pid=34744)",
      "\nDuring handling of the above exception, another exception occurred:\n",
      "\u001B[1;31mNoSuchProcess\u001B[0m                             Traceback (most recent call last)",
      "Cell \u001B[1;32mIn[52], line 1\u001B[0m\n\u001B[1;32m----> 1\u001B[0m proc \u001B[38;5;241m=\u001B[39m \u001B[43mpsutil\u001B[49m\u001B[38;5;241;43m.\u001B[39;49m\u001B[43mProcess\u001B[49m\u001B[43m(\u001B[49m\u001B[38;5;241;43m34744\u001B[39;49m\u001B[43m)\u001B[49m\n",
      "File \u001B[1;32mC:\\Tools\\Miniconda3\\envs\\web-scrappers\\lib\\site-packages\\psutil\\__init__.py:332\u001B[0m, in \u001B[0;36mProcess.__init__\u001B[1;34m(self, pid)\u001B[0m\n\u001B[0;32m    331\u001B[0m \u001B[38;5;28;01mdef\u001B[39;00m \u001B[38;5;21m__init__\u001B[39m(\u001B[38;5;28mself\u001B[39m, pid\u001B[38;5;241m=\u001B[39m\u001B[38;5;28;01mNone\u001B[39;00m):\n\u001B[1;32m--> 332\u001B[0m     \u001B[38;5;28;43mself\u001B[39;49m\u001B[38;5;241;43m.\u001B[39;49m\u001B[43m_init\u001B[49m\u001B[43m(\u001B[49m\u001B[43mpid\u001B[49m\u001B[43m)\u001B[49m\n",
      "File \u001B[1;32mC:\\Tools\\Miniconda3\\envs\\web-scrappers\\lib\\site-packages\\psutil\\__init__.py:373\u001B[0m, in \u001B[0;36mProcess._init\u001B[1;34m(self, pid, _ignore_nsp)\u001B[0m\n\u001B[0;32m    371\u001B[0m \u001B[38;5;28;01mexcept\u001B[39;00m NoSuchProcess:\n\u001B[0;32m    372\u001B[0m     \u001B[38;5;28;01mif\u001B[39;00m \u001B[38;5;129;01mnot\u001B[39;00m _ignore_nsp:\n\u001B[1;32m--> 373\u001B[0m         \u001B[38;5;28;01mraise\u001B[39;00m NoSuchProcess(pid, msg\u001B[38;5;241m=\u001B[39m\u001B[38;5;124m'\u001B[39m\u001B[38;5;124mprocess PID not found\u001B[39m\u001B[38;5;124m'\u001B[39m)\n\u001B[0;32m    374\u001B[0m     \u001B[38;5;28;01melse\u001B[39;00m:\n\u001B[0;32m    375\u001B[0m         \u001B[38;5;28mself\u001B[39m\u001B[38;5;241m.\u001B[39m_gone \u001B[38;5;241m=\u001B[39m \u001B[38;5;28;01mTrue\u001B[39;00m\n",
      "\u001B[1;31mNoSuchProcess\u001B[0m: process PID not found (pid=34744)"
     ]
    }
   ],
   "source": [
    "proc = psutil.Process(34744)"
   ],
   "metadata": {
    "collapsed": false,
    "ExecuteTime": {
     "end_time": "2024-04-04T21:38:04.181494800Z",
     "start_time": "2024-04-04T21:38:03.869496800Z"
    }
   },
   "id": "539dabda20b28b39"
  },
  {
   "cell_type": "code",
   "execution_count": null,
   "outputs": [],
   "source": [],
   "metadata": {
    "collapsed": false
   },
   "id": "9edcc159c0029850"
  },
  {
   "cell_type": "code",
   "execution_count": null,
   "outputs": [],
   "source": [],
   "metadata": {
    "collapsed": false
   },
   "id": "34a15b073b132c56"
  },
  {
   "cell_type": "code",
   "execution_count": null,
   "outputs": [],
   "source": [],
   "metadata": {
    "collapsed": false
   },
   "id": "1b47675cb0a9bf5d"
  },
  {
   "cell_type": "code",
   "execution_count": null,
   "outputs": [],
   "source": [],
   "metadata": {
    "collapsed": false
   },
   "id": "d6bc04dc559722d6"
  }
 ],
 "metadata": {
  "kernelspec": {
   "display_name": "Python 3",
   "language": "python",
   "name": "python3"
  },
  "language_info": {
   "codemirror_mode": {
    "name": "ipython",
    "version": 2
   },
   "file_extension": ".py",
   "mimetype": "text/x-python",
   "name": "python",
   "nbconvert_exporter": "python",
   "pygments_lexer": "ipython2",
   "version": "2.7.6"
  }
 },
 "nbformat": 4,
 "nbformat_minor": 5
}
