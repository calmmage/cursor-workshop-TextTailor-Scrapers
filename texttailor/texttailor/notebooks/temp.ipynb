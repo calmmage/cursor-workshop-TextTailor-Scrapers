{
 "cells": [
  {
   "cell_type": "code",
   "execution_count": 1,
   "id": "initial_id",
   "metadata": {
    "collapsed": true,
    "ExecuteTime": {
     "end_time": "2024-07-04T15:24:01.366403300Z",
     "start_time": "2024-07-04T15:23:54.147889200Z"
    }
   },
   "outputs": [],
   "source": [
    "from mvodolagin_personal_imports import *"
   ]
  },
  {
   "cell_type": "code",
   "execution_count": 12,
   "outputs": [],
   "source": [
    "root_url = \"https://myspar.ru\"\n",
    "\n",
    "item_regex = re.compile(r\"/catalog/[^/]*/[^/]*/$\", re.IGNORECASE)\n",
    "category_regex = re.compile(r\"/catalog/[^/]*/$\", re.IGNORECASE)\n",
    "contact_us_regex = re.compile(r\"/contact|/support|/help|/about-us|/connect\", re.IGNORECASE)"
   ],
   "metadata": {
    "collapsed": false,
    "ExecuteTime": {
     "end_time": "2024-07-04T15:33:50.950781700Z",
     "start_time": "2024-07-04T15:33:50.939783500Z"
    }
   },
   "id": "a211abc82ea8a058"
  },
  {
   "cell_type": "code",
   "execution_count": 13,
   "outputs": [
    {
     "name": "stdout",
     "output_type": "stream",
     "text": [
      "category True False False\n",
      "category True False False\n",
      "item False True False\n",
      "item False True False\n",
      "item False True False\n"
     ]
    }
   ],
   "source": [
    "test_sample = [\n",
    "    (\"category\", \"https://myspar.ru/catalog/festival-yagod/\"),\n",
    "    (\"category\", \"https://myspar.ru/catalog/torty-i-pirozhnye-1/\"),\n",
    "    (\"item\", \"https://myspar.ru/catalog/steyki-dlya-grilya-1/steyk-minutka-miratorg-190g/\"),\n",
    "    (\"item\", \"https://myspar.ru/catalog/steyki-dlya-grilya-1/steyk-top-sirloyn-praymbif-okhlazhdennyy-400g/\"),\n",
    "    (\"item\", \"https://myspar.ru/catalog/torty-pirozhnye-ponchiki/tort-krasnyy-barkhat-800g-2/\"),    \n",
    "]\n",
    "\n",
    "for sample in test_sample:\n",
    "    true_category = sample[0]\n",
    "    url = sample[1]\n",
    "    url_part = url.replace(root_url, \"\")\n",
    "    print(true_category, bool(category_regex.match(url_part)), bool(item_regex.match(url_part)), bool(contact_us_regex.match(url_part)))\n",
    "    "
   ],
   "metadata": {
    "collapsed": false,
    "ExecuteTime": {
     "end_time": "2024-07-04T15:33:51.116784200Z",
     "start_time": "2024-07-04T15:33:51.105786200Z"
    }
   },
   "id": "c571b430b4f01da0"
  },
  {
   "cell_type": "code",
   "execution_count": 14,
   "outputs": [],
   "source": [
    "import requests\n",
    "\n",
    "res = requests.get(\"https://myspar.ru/catalog/\")"
   ],
   "metadata": {
    "collapsed": false,
    "ExecuteTime": {
     "end_time": "2024-07-04T15:42:09.488250Z",
     "start_time": "2024-07-04T15:42:07.013771700Z"
    }
   },
   "id": "44519b9ae8b76df8"
  },
  {
   "cell_type": "code",
   "execution_count": 17,
   "outputs": [
    {
     "name": "stdout",
     "output_type": "stream",
     "text": [
      "<!DOCTYPE html>\n",
      "<html>\n",
      "<head>\n",
      "  <meta http-equiv=\"Content-Type\" content=\"text/html; charset=UTF-8\">\n",
      "</head>\n",
      "<body>\n",
      "<div id=\"info\">\n",
      "sid: 4337\n",
      "<br>\n",
      "uid: c0DtcTtrDdLDd8tu\n",
      "<br>\n",
      "id: 8gPen3CvveA1\n",
      "<br>\n",
      "ip: 204.93.149.247\n",
      "<br>\n",
      "datetime: 2024-07-04 15:42:09 +0000\n",
      "</div>\n",
      "</body>\n",
      "</html>\n",
      "\n"
     ]
    }
   ],
   "source": [
    "print(res.text)"
   ],
   "metadata": {
    "collapsed": false,
    "ExecuteTime": {
     "end_time": "2024-07-04T15:42:22.933891800Z",
     "start_time": "2024-07-04T15:42:22.924892900Z"
    }
   },
   "id": "14a72a1a6df4bdaa"
  },
  {
   "cell_type": "code",
   "execution_count": null,
   "outputs": [],
   "source": [],
   "metadata": {
    "collapsed": false
   },
   "id": "92b42cd35527a8a5"
  }
 ],
 "metadata": {
  "kernelspec": {
   "display_name": "Python 3",
   "language": "python",
   "name": "python3"
  },
  "language_info": {
   "codemirror_mode": {
    "name": "ipython",
    "version": 2
   },
   "file_extension": ".py",
   "mimetype": "text/x-python",
   "name": "python",
   "nbconvert_exporter": "python",
   "pygments_lexer": "ipython2",
   "version": "2.7.6"
  }
 },
 "nbformat": 4,
 "nbformat_minor": 5
}
